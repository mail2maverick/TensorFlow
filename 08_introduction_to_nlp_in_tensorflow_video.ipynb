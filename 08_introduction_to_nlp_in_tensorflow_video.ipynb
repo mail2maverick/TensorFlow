





<!DOCTYPE html>
<html lang="en" data-color-mode="auto" data-light-theme="light" data-dark-theme="dark"  data-a11y-animated-images="system" data-a11y-link-underlines="true">



  <head>
    <meta charset="utf-8">
  <link rel="dns-prefetch" href="https://github.githubassets.com">
  <link rel="dns-prefetch" href="https://avatars.githubusercontent.com">
  <link rel="dns-prefetch" href="https://github-cloud.s3.amazonaws.com">
  <link rel="dns-prefetch" href="https://user-images.githubusercontent.com/">
  <link rel="preconnect" href="https://github.githubassets.com" crossorigin>
  <link rel="preconnect" href="https://avatars.githubusercontent.com">

  


  <link crossorigin="anonymous" media="all" rel="stylesheet" href="https://github.githubassets.com/assets/light-b92e9647318f.css" /><link crossorigin="anonymous" media="all" rel="stylesheet" href="https://github.githubassets.com/assets/dark-5d486a4ede8e.css" /><link data-color-theme="dark_dimmed" crossorigin="anonymous" media="all" rel="stylesheet" data-href="https://github.githubassets.com/assets/dark_dimmed-27c8d635e4e5.css" /><link data-color-theme="dark_high_contrast" crossorigin="anonymous" media="all" rel="stylesheet" data-href="https://github.githubassets.com/assets/dark_high_contrast-8438e75afd36.css" /><link data-color-theme="dark_colorblind" crossorigin="anonymous" media="all" rel="stylesheet" data-href="https://github.githubassets.com/assets/dark_colorblind-bf5665b96628.css" /><link data-color-theme="light_colorblind" crossorigin="anonymous" media="all" rel="stylesheet" data-href="https://github.githubassets.com/assets/light_colorblind-c414b5ba1dce.css" /><link data-color-theme="light_high_contrast" crossorigin="anonymous" media="all" rel="stylesheet" data-href="https://github.githubassets.com/assets/light_high_contrast-e5868b7374db.css" /><link data-color-theme="light_tritanopia" crossorigin="anonymous" media="all" rel="stylesheet" data-href="https://github.githubassets.com/assets/light_tritanopia-299ac9c64ec0.css" /><link data-color-theme="dark_tritanopia" crossorigin="anonymous" media="all" rel="stylesheet" data-href="https://github.githubassets.com/assets/dark_tritanopia-3a26e78ad0ff.css" />
    <link crossorigin="anonymous" media="all" rel="stylesheet" href="https://github.githubassets.com/assets/primer-primitives-363ec1831c26.css" />
    <link crossorigin="anonymous" media="all" rel="stylesheet" href="https://github.githubassets.com/assets/primer-0cdc607a5517.css" />
    <link crossorigin="anonymous" media="all" rel="stylesheet" href="https://github.githubassets.com/assets/global-b2298340fd5b.css" />
    <link crossorigin="anonymous" media="all" rel="stylesheet" href="https://github.githubassets.com/assets/github-f2eafb2a55aa.css" />
  <link crossorigin="anonymous" media="all" rel="stylesheet" href="https://github.githubassets.com/assets/code-71ecd5638fbf.css" />

  

  <script type="application/json" id="client-env">{"locale":"en","featureFlags":["copilot_conversational_ux_streaming","failbot_handle_non_errors","geojson_azure_maps","image_metric_tracking","repository_suggester_elastic_search","turbo_experiment_risky","sample_network_conn_type","upload_manifest_status"]}</script>
<script crossorigin="anonymous" defer="defer" type="application/javascript" src="https://github.githubassets.com/assets/wp-runtime-9a6e4637daaf.js"></script>
<script crossorigin="anonymous" defer="defer" type="application/javascript" src="https://github.githubassets.com/assets/vendors-node_modules_dompurify_dist_purify_js-6890e890956f.js"></script>
<script crossorigin="anonymous" defer="defer" type="application/javascript" src="https://github.githubassets.com/assets/vendors-node_modules_stacktrace-parser_dist_stack-trace-parser_esm_js-node_modules_github_bro-a4c183-79f9611c275b.js"></script>
<script crossorigin="anonymous" defer="defer" type="application/javascript" src="https://github.githubassets.com/assets/ui_packages_soft-nav_soft-nav_ts-6a5fadd2ef71.js"></script>
<script crossorigin="anonymous" defer="defer" type="application/javascript" src="https://github.githubassets.com/assets/environment-569829d98e9a.js"></script>
<script crossorigin="anonymous" defer="defer" type="application/javascript" src="https://github.githubassets.com/assets/vendors-node_modules_github_selector-observer_dist_index_esm_js-9f960d9b217c.js"></script>
<script crossorigin="anonymous" defer="defer" type="application/javascript" src="https://github.githubassets.com/assets/vendors-node_modules_primer_behaviors_dist_esm_focus-zone_js-d9ce45da2851.js"></script>
<script crossorigin="anonymous" defer="defer" type="application/javascript" src="https://github.githubassets.com/assets/vendors-node_modules_github_relative-time-element_dist_index_js-c6fd49e3fd28.js"></script>
<script crossorigin="anonymous" defer="defer" type="application/javascript" src="https://github.githubassets.com/assets/vendors-node_modules_fzy_js_index_js-node_modules_github_combobox-nav_dist_index_js-node_modu-344bff-421f7a8c1008.js"></script>
<script crossorigin="anonymous" defer="defer" type="application/javascript" src="https://github.githubassets.com/assets/vendors-node_modules_delegated-events_dist_index_js-node_modules_github_details-dialog-elemen-29dc30-a2a71f11a507.js"></script>
<script crossorigin="anonymous" defer="defer" type="application/javascript" src="https://github.githubassets.com/assets/vendors-node_modules_github_filter-input-element_dist_index_js-node_modules_github_remote-inp-59c459-e74bf552c5b7.js"></script>
<script crossorigin="anonymous" defer="defer" type="application/javascript" src="https://github.githubassets.com/assets/vendors-node_modules_github_file-attachment-element_dist_index_js-node_modules_primer_view-co-2c6968-3cbb53b1c985.js"></script>
<script crossorigin="anonymous" defer="defer" type="application/javascript" src="https://github.githubassets.com/assets/github-elements-ba6b32e5a9a8.js"></script>
<script crossorigin="anonymous" defer="defer" type="application/javascript" src="https://github.githubassets.com/assets/element-registry-1cabc2253887.js"></script>
<script crossorigin="anonymous" defer="defer" type="application/javascript" src="https://github.githubassets.com/assets/vendors-node_modules_github_catalyst_lib_index_js-node_modules_github_hydro-analytics-client_-978abc0-15861e0630b6.js"></script>
<script crossorigin="anonymous" defer="defer" type="application/javascript" src="https://github.githubassets.com/assets/vendors-node_modules_lit-html_lit-html_js-5b376145beff.js"></script>
<script crossorigin="anonymous" defer="defer" type="application/javascript" src="https://github.githubassets.com/assets/vendors-node_modules_github_mini-throttle_dist_index_js-node_modules_github_alive-client_dist-bf5aa2-1b562c29ab8e.js"></script>
<script crossorigin="anonymous" defer="defer" type="application/javascript" src="https://github.githubassets.com/assets/vendors-node_modules_morphdom_dist_morphdom-esm_js-5bff297a06de.js"></script>
<script crossorigin="anonymous" defer="defer" type="application/javascript" src="https://github.githubassets.com/assets/vendors-node_modules_github_turbo_dist_turbo_es2017-esm_js-ec51a0f6e881.js"></script>
<script crossorigin="anonymous" defer="defer" type="application/javascript" src="https://github.githubassets.com/assets/vendors-node_modules_color-convert_index_js-72c9fbde5ad4.js"></script>
<script crossorigin="anonymous" defer="defer" type="application/javascript" src="https://github.githubassets.com/assets/vendors-node_modules_primer_behaviors_dist_esm_dimensions_js-node_modules_github_hotkey_dist_-8755d2-0ac4a16a6cca.js"></script>
<script crossorigin="anonymous" defer="defer" type="application/javascript" src="https://github.githubassets.com/assets/vendors-node_modules_github_session-resume_dist_index_js-node_modules_primer_behaviors_dist_e-ac74c6-637fd908cfc1.js"></script>
<script crossorigin="anonymous" defer="defer" type="application/javascript" src="https://github.githubassets.com/assets/vendors-node_modules_github_paste-markdown_dist_index_esm_js-node_modules_github_quote-select-854ff4-201063b8cc44.js"></script>
<script crossorigin="anonymous" defer="defer" type="application/javascript" src="https://github.githubassets.com/assets/ui_packages_details-dialog_details-dialog_ts-ui_packages_fetch-utils_fetch-utils_ts-78f25ba16cd9.js"></script>
<script crossorigin="anonymous" defer="defer" type="application/javascript" src="https://github.githubassets.com/assets/app_assets_modules_github_updatable-content_ts-ui_packages_hydro-analytics_hydro-analytics_ts-6ab1a34074c8.js"></script>
<script crossorigin="anonymous" defer="defer" type="application/javascript" src="https://github.githubassets.com/assets/app_assets_modules_github_behaviors_task-list_ts-app_assets_modules_github_onfocus_ts-app_ass-079b43-84f860f8b7d6.js"></script>
<script crossorigin="anonymous" defer="defer" type="application/javascript" src="https://github.githubassets.com/assets/app_assets_modules_github_sticky-scroll-into-view_ts-f982282c5c39.js"></script>
<script crossorigin="anonymous" defer="defer" type="application/javascript" src="https://github.githubassets.com/assets/app_assets_modules_github_behaviors_ajax-error_ts-app_assets_modules_github_behaviors_include-2e2258-178d980b559e.js"></script>
<script crossorigin="anonymous" defer="defer" type="application/javascript" src="https://github.githubassets.com/assets/app_assets_modules_github_behaviors_commenting_edit_ts-app_assets_modules_github_behaviors_ht-83c235-b85e9f4f1304.js"></script>
<script crossorigin="anonymous" defer="defer" type="application/javascript" src="https://github.githubassets.com/assets/behaviors-d984747343bb.js"></script>
<script crossorigin="anonymous" defer="defer" type="application/javascript" src="https://github.githubassets.com/assets/vendors-node_modules_delegated-events_dist_index_js-node_modules_github_catalyst_lib_index_js-d0256ebff5cd.js"></script>
<script crossorigin="anonymous" defer="defer" type="application/javascript" src="https://github.githubassets.com/assets/notifications-global-99d196517b1b.js"></script>
<script crossorigin="anonymous" defer="defer" type="application/javascript" src="https://github.githubassets.com/assets/code-menu-9ea38b1fd5ad.js"></script>
  
  <script crossorigin="anonymous" defer="defer" type="application/javascript" src="https://github.githubassets.com/assets/react-lib-1fbfc5be2c18.js"></script>
<script crossorigin="anonymous" defer="defer" type="application/javascript" src="https://github.githubassets.com/assets/vendors-node_modules_primer_octicons-react_dist_index_esm_js-node_modules_primer_react_lib-es-2e8e7c-247c295eeaf1.js"></script>
<script crossorigin="anonymous" defer="defer" type="application/javascript" src="https://github.githubassets.com/assets/vendors-node_modules_primer_react_lib-esm_Box_Box_js-ebfceb11fb57.js"></script>
<script crossorigin="anonymous" defer="defer" type="application/javascript" src="https://github.githubassets.com/assets/vendors-node_modules_primer_react_lib-esm_Button_Button_js-2c03574279a4.js"></script>
<script crossorigin="anonymous" defer="defer" type="application/javascript" src="https://github.githubassets.com/assets/vendors-node_modules_primer_react_lib-esm_Heading_Heading_js-node_modules_primer_react_lib-es-60a41e-82c3bd45b5b7.js"></script>
<script crossorigin="anonymous" defer="defer" type="application/javascript" src="https://github.githubassets.com/assets/vendors-node_modules_primer_react_lib-esm_ActionList_index_js-dddcb049d887.js"></script>
<script crossorigin="anonymous" defer="defer" type="application/javascript" src="https://github.githubassets.com/assets/vendors-node_modules_primer_react_lib-esm_Overlay_Overlay_js-node_modules_primer_react_lib-es-fa1130-93cd4ad2134b.js"></script>
<script crossorigin="anonymous" defer="defer" type="application/javascript" src="https://github.githubassets.com/assets/vendors-node_modules_primer_react_lib-esm_Text_Text_js-node_modules_primer_react_lib-esm_Text-85a14b-2da5b8fd0eb3.js"></script>
<script crossorigin="anonymous" defer="defer" type="application/javascript" src="https://github.githubassets.com/assets/vendors-node_modules_primer_react_lib-esm_ActionMenu_ActionMenu_js-dc836e2095f6.js"></script>
<script crossorigin="anonymous" defer="defer" type="application/javascript" src="https://github.githubassets.com/assets/vendors-node_modules_primer_react_lib-esm_FormControl_FormControl_js-a431791fb590.js"></script>
<script crossorigin="anonymous" defer="defer" type="application/javascript" src="https://github.githubassets.com/assets/vendors-node_modules_react-router-dom_dist_index_js-6df0edbb3b11.js"></script>
<script crossorigin="anonymous" defer="defer" type="application/javascript" src="https://github.githubassets.com/assets/vendors-node_modules_primer_react_lib-esm_PageLayout_PageLayout_js-6d204414df4f.js"></script>
<script crossorigin="anonymous" defer="defer" type="application/javascript" src="https://github.githubassets.com/assets/vendors-node_modules_primer_react_lib-esm_Dialog_js-node_modules_primer_react_lib-esm_Flash_F-09301c-ec9e680afcb9.js"></script>
<script crossorigin="anonymous" defer="defer" type="application/javascript" src="https://github.githubassets.com/assets/vendors-node_modules_primer_react_lib-esm_UnderlineNav_index_js-20b50c38337d.js"></script>
<script crossorigin="anonymous" defer="defer" type="application/javascript" src="https://github.githubassets.com/assets/vendors-node_modules_primer_react_lib-esm_Avatar_Avatar_js-node_modules_primer_react_lib-esm_-9bd36c-ec2c8e88c25b.js"></script>
<script crossorigin="anonymous" defer="defer" type="application/javascript" src="https://github.githubassets.com/assets/vendors-node_modules_primer_react_lib-esm_AvatarStack_AvatarStack_js-node_modules_primer_reac-6d3540-e7c40167bae5.js"></script>
<script crossorigin="anonymous" defer="defer" type="application/javascript" src="https://github.githubassets.com/assets/vendors-node_modules_primer_react_lib-esm_Breadcrumbs_Breadcrumbs_js-node_modules_primer_reac-f6e577-f60e7c5b589b.js"></script>
<script crossorigin="anonymous" defer="defer" type="application/javascript" src="https://github.githubassets.com/assets/ui_packages_react-core_create-browser-history_ts-ui_packages_react-core_deferred-registry_ts--ebbb92-42b84521809f.js"></script>
<script crossorigin="anonymous" defer="defer" type="application/javascript" src="https://github.githubassets.com/assets/ui_packages_react-core_register-app_ts-5f23b6aa8b03.js"></script>
<script crossorigin="anonymous" defer="defer" type="application/javascript" src="https://github.githubassets.com/assets/ui_packages_paths_index_ts-e99e1a3f166d.js"></script>
<script crossorigin="anonymous" defer="defer" type="application/javascript" src="https://github.githubassets.com/assets/ui_packages_ref-selector_RefSelector_tsx-1b0b3577eaae.js"></script>
<script crossorigin="anonymous" defer="defer" type="application/javascript" src="https://github.githubassets.com/assets/app_assets_modules_github_blob-anchor_ts-app_assets_modules_github_filter-sort_ts-app_assets_-681869-5bba11e3ea7a.js"></script>
<script crossorigin="anonymous" defer="defer" type="application/javascript" src="https://github.githubassets.com/assets/ui_packages_commit-attribution_index_ts-ui_packages_commit-checks-status_index_ts-ui_packages-8a04d5-9f6131d449b8.js"></script>
<script crossorigin="anonymous" defer="defer" type="application/javascript" src="https://github.githubassets.com/assets/app_assets_modules_react-code-view_pages_CodeView_tsx-fba3033da462.js"></script>
<script crossorigin="anonymous" defer="defer" type="application/javascript" src="https://github.githubassets.com/assets/react-code-view-9860ee509d1e.js"></script>


  <title>tensorflow-deep-learning/video_notebooks/08_introduction_to_nlp_in_tensorflow_video.ipynb at main · mrdbourke/tensorflow-deep-learning</title>



  <meta name="route-pattern" content="/:user_id/:repository/blob/*name(/*path)">

    
  <meta name="current-catalog-service-hash" content="82c569b93da5c18ed649ebd4c2c79437db4611a6a1373e805a3cb001c64130b7">


  <meta name="request-id" content="6685:2334BD:18FC310:1BB7822:654DC98C" data-turbo-transient="true" /><meta name="html-safe-nonce" content="f315854370002c807a52121176527c15fa8776567cdc1e433229a53482631596" data-turbo-transient="true" /><meta name="visitor-payload" content="eyJyZWZlcnJlciI6Imh0dHBzOi8vZ2l0aHViLmNvbS9tcmRib3Vya2UvdGVuc29yZmxvdy1kZWVwLWxlYXJuaW5nL3RyZWUvbWFpbi92aWRlb19ub3RlYm9va3MiLCJyZXF1ZXN0X2lkIjoiNjY4NToyMzM0QkQ6MThGQzMxMDoxQkI3ODIyOjY1NERDOThDIiwidmlzaXRvcl9pZCI6IjMxNDQ4MDg3MTExODE1NjU1MDIiLCJyZWdpb25fZWRnZSI6ImNlbnRyYWxpbmRpYSIsInJlZ2lvbl9yZW5kZXIiOiJpYWQifQ==" data-turbo-transient="true" /><meta name="visitor-hmac" content="5c149d84aec0511e2da04b99f417d6163ea33834c6dba511f05b0786becb2019" data-turbo-transient="true" />


    <meta name="hovercard-subject-tag" content="repository:315463340" data-turbo-transient>


  <meta name="github-keyboard-shortcuts" content="repository,source-code,file-tree" data-turbo-transient="true" />
  

  <meta name="selected-link" value="repo_source" data-turbo-transient>
  <link rel="assets" href="https://github.githubassets.com/">

    <meta name="google-site-verification" content="c1kuD-K2HIVF635lypcsWPoD4kilo5-jA_wBFyT4uMY">
  <meta name="google-site-verification" content="KT5gs8h0wvaagLKAVWq8bbeNwnZZK1r1XQysX3xurLU">
  <meta name="google-site-verification" content="ZzhVyEFwb7w3e0-uOTltm8Jsck2F5StVihD0exw2fsA">
  <meta name="google-site-verification" content="GXs5KoUUkNCoaAZn7wPN-t01Pywp9M3sEjnt_3_ZWPc">
  <meta name="google-site-verification" content="Apib7-x98H0j5cPqHWwSMm6dNU4GmODRoqxLiDzdx9I">

<meta name="octolytics-url" content="https://collector.github.com/github/collect" /><meta name="octolytics-actor-id" content="138370468" /><meta name="octolytics-actor-login" content="mail2maverick" /><meta name="octolytics-actor-hash" content="6326126c654b1a1efb9b91fc9dc269f62ace9a6235a9ea6913e91642f8152428" />

  <meta name="analytics-location" content="/&lt;user-name&gt;/&lt;repo-name&gt;/blob/show" data-turbo-transient="true" />

  




  

    <meta name="user-login" content="mail2maverick">

  <link rel="sudo-modal" href="/sessions/sudo_modal">

    <meta name="viewport" content="width=device-width">
    
      <meta name="description" content="All course materials for the Zero to Mastery Deep Learning with TensorFlow course. - tensorflow-deep-learning/video_notebooks/08_introduction_to_nlp_in_tensorflow_video.ipynb at main · mrdbourke/tensorflow-deep-learning">
      <link rel="search" type="application/opensearchdescription+xml" href="/opensearch.xml" title="GitHub">
    <link rel="fluid-icon" href="https://github.com/fluidicon.png" title="GitHub">
    <meta property="fb:app_id" content="1401488693436528">
    <meta name="apple-itunes-app" content="app-id=1477376905, app-argument=https://github.com/mrdbourke/tensorflow-deep-learning/blob/main/video_notebooks/08_introduction_to_nlp_in_tensorflow_video.ipynb" />
      <meta name="twitter:image:src" content="https://repository-images.githubusercontent.com/315463340/97930280-7699-11eb-83db-150c8cd7f3e6" /><meta name="twitter:site" content="@github" /><meta name="twitter:card" content="summary_large_image" /><meta name="twitter:title" content="tensorflow-deep-learning/video_notebooks/08_introduction_to_nlp_in_tensorflow_video.ipynb at main · mrdbourke/tensorflow-deep-learning" /><meta name="twitter:description" content="All course materials for the Zero to Mastery Deep Learning with TensorFlow course. - mrdbourke/tensorflow-deep-learning" />
      <meta property="og:image" content="https://repository-images.githubusercontent.com/315463340/97930280-7699-11eb-83db-150c8cd7f3e6" /><meta property="og:image:alt" content="All course materials for the Zero to Mastery Deep Learning with TensorFlow course. - mrdbourke/tensorflow-deep-learning" /><meta property="og:site_name" content="GitHub" /><meta property="og:type" content="object" /><meta property="og:title" content="tensorflow-deep-learning/video_notebooks/08_introduction_to_nlp_in_tensorflow_video.ipynb at main · mrdbourke/tensorflow-deep-learning" /><meta property="og:url" content="https://github.com/mrdbourke/tensorflow-deep-learning/blob/main/video_notebooks/08_introduction_to_nlp_in_tensorflow_video.ipynb" /><meta property="og:description" content="All course materials for the Zero to Mastery Deep Learning with TensorFlow course. - mrdbourke/tensorflow-deep-learning" />
      

      <link rel="shared-web-socket" href="wss://alive.github.com/_sockets/u/138370468/ws?session=eyJ2IjoiVjMiLCJ1IjoxMzgzNzA0NjgsInMiOjEyNDM1MTkwNTYsImMiOjMzMjAxODU3MDUsInQiOjE2OTk1OTY2OTJ9--7ee4f560988e5c3f0a52e5ba56c1da93b88fbca304bc98c98920d2ad6c50a7ce" data-refresh-url="/_alive" data-session-id="ccf472f5d46f5a0656d52524624a3b7214749947efe666519a3dd643ce9114ad">
      <link rel="shared-web-socket-src" href="/assets-cdn/worker/socket-worker-9cc1149b224c.js">


        <meta name="hostname" content="github.com">


      <meta name="keyboard-shortcuts-preference" content="all">

        <meta name="expected-hostname" content="github.com">


  <meta http-equiv="x-pjax-version" content="2e7f0f409951ecccc8d481733db6d660a6a9e0e226ef22afe16f5996c2b7f90e" data-turbo-track="reload">
  <meta http-equiv="x-pjax-csp-version" content="844211eb90296c990bf8ba3a110ab9d26a666217a44ebe51523691fb4a4bf6cd" data-turbo-track="reload">
  <meta http-equiv="x-pjax-css-version" content="d5f77973e7859cb2b7f07c315f43b0dd4221dc13f655123b96aa973b1761e760" data-turbo-track="reload">
  <meta http-equiv="x-pjax-js-version" content="97df8d0f2decd84d253eb55db4b035fbd02ff9069d9f573da4500b081a9c531b" data-turbo-track="reload">

  <meta name="turbo-cache-control" content="no-preview" data-turbo-transient="">

      <meta name="turbo-cache-control" content="no-cache" data-turbo-transient>
    <meta data-hydrostats="publish">

  <meta name="go-import" content="github.com/mrdbourke/tensorflow-deep-learning git https://github.com/mrdbourke/tensorflow-deep-learning.git">

  <meta name="octolytics-dimension-user_id" content="16750345" /><meta name="octolytics-dimension-user_login" content="mrdbourke" /><meta name="octolytics-dimension-repository_id" content="315463340" /><meta name="octolytics-dimension-repository_nwo" content="mrdbourke/tensorflow-deep-learning" /><meta name="octolytics-dimension-repository_public" content="true" /><meta name="octolytics-dimension-repository_is_fork" content="false" /><meta name="octolytics-dimension-repository_network_root_id" content="315463340" /><meta name="octolytics-dimension-repository_network_root_nwo" content="mrdbourke/tensorflow-deep-learning" />



  <meta name="turbo-body-classes" content="logged-in env-production page-responsive">


  <meta name="browser-stats-url" content="https://api.github.com/_private/browser/stats">

  <meta name="browser-errors-url" content="https://api.github.com/_private/browser/errors">

  <meta name="browser-optimizely-client-errors-url" content="https://api.github.com/_private/browser/optimizely_client/errors">

  <link rel="mask-icon" href="https://github.githubassets.com/assets/pinned-octocat-093da3e6fa40.svg" color="#000000">
  <link rel="alternate icon" class="js-site-favicon" type="image/png" href="https://github.githubassets.com/favicons/favicon.png">
  <link rel="icon" class="js-site-favicon" type="image/svg+xml" href="https://github.githubassets.com/favicons/favicon.svg">

<meta name="theme-color" content="#1e2327">
<meta name="color-scheme" content="light dark" />


  <link rel="manifest" href="/manifest.json" crossOrigin="use-credentials">

  </head>

  <body class="logged-in env-production page-responsive" style="word-wrap: break-word;">
    <div data-turbo-body class="logged-in env-production page-responsive" style="word-wrap: break-word;">
      


    <div class="position-relative js-header-wrapper ">
      <a href="#start-of-content" class="p-3 color-bg-accent-emphasis color-fg-on-emphasis show-on-focus js-skip-to-content">Skip to content</a>
      <span data-view-component="true" class="progress-pjax-loader Progress position-fixed width-full">
    <span style="width: 0%;" data-view-component="true" class="Progress-item progress-pjax-loader-bar left-0 top-0 color-bg-accent-emphasis"></span>
</span>      
      


      

        <script crossorigin="anonymous" defer="defer" type="application/javascript" src="https://github.githubassets.com/assets/vendors-node_modules_allex_crc32_lib_crc32_esm_js-node_modules_github_mini-throttle_dist_deco-b38cad-97b10abc5510.js"></script>
<script crossorigin="anonymous" defer="defer" type="application/javascript" src="https://github.githubassets.com/assets/vendors-node_modules_github_clipboard-copy-element_dist_index_esm_js-node_modules_delegated-e-b37f7d-0e1d32d8fafa.js"></script>
<script crossorigin="anonymous" defer="defer" type="application/javascript" src="https://github.githubassets.com/assets/app_assets_modules_github_command-palette_items_help-item_ts-app_assets_modules_github_comman-48ad9d-18e29694b13b.js"></script>
<script crossorigin="anonymous" defer="defer" type="application/javascript" src="https://github.githubassets.com/assets/command-palette-9a87d4661fe9.js"></script>

            <header class="AppHeader">
    

    <div class="AppHeader-globalBar pb-2 js-global-bar">
      <div class="AppHeader-globalBar-start">
          <deferred-side-panel data-url="/_side-panels/global">
  <include-fragment data-target="deferred-side-panel.fragment">
      
  <button aria-label="Open global navigation menu" data-action="click:deferred-side-panel#loadPanel click:deferred-side-panel#panelOpened" data-show-dialog-id="dialog-ff68d7de-a40c-43b4-a386-c196d98a98fc" id="dialog-show-dialog-ff68d7de-a40c-43b4-a386-c196d98a98fc" type="button" data-view-component="true" class="Button Button--iconOnly Button--secondary Button--medium AppHeader-button color-bg-transparent p-0 color-fg-muted">    <svg aria-hidden="true" height="16" viewBox="0 0 16 16" version="1.1" width="16" data-view-component="true" class="octicon octicon-three-bars Button-visual">
    <path d="M1 2.75A.75.75 0 0 1 1.75 2h12.5a.75.75 0 0 1 0 1.5H1.75A.75.75 0 0 1 1 2.75Zm0 5A.75.75 0 0 1 1.75 7h12.5a.75.75 0 0 1 0 1.5H1.75A.75.75 0 0 1 1 7.75ZM1.75 12h12.5a.75.75 0 0 1 0 1.5H1.75a.75.75 0 0 1 0-1.5Z"></path>
</svg>
</button>  

<div class="Overlay--hidden Overlay-backdrop--side Overlay-backdrop--placement-left" data-modal-dialog-overlay>
  <modal-dialog data-target="deferred-side-panel.panel" role="dialog" id="dialog-ff68d7de-a40c-43b4-a386-c196d98a98fc" aria-modal="true" aria-disabled="true" aria-labelledby="dialog-ff68d7de-a40c-43b4-a386-c196d98a98fc-title" aria-describedby="dialog-ff68d7de-a40c-43b4-a386-c196d98a98fc-description" data-view-component="true" class="Overlay Overlay-whenNarrow Overlay--size-small-portrait Overlay--motion-scaleFade SidePanel">
    <div styles="flex-direction: row;" data-view-component="true" class="Overlay-header">
  <div class="Overlay-headerContentWrap">
    <div class="Overlay-titleWrap">
      <h1 class="Overlay-title sr-only" id="dialog-ff68d7de-a40c-43b4-a386-c196d98a98fc-title">
        Global navigation
      </h1>
            <div data-view-component="true" class="d-flex">
      <div data-view-component="true" class="AppHeader-logo position-relative">
        <svg aria-hidden="true" height="24" viewBox="0 0 16 16" version="1.1" width="24" data-view-component="true" class="octicon octicon-mark-github">
    <path d="M8 0c4.42 0 8 3.58 8 8a8.013 8.013 0 0 1-5.45 7.59c-.4.08-.55-.17-.55-.38 0-.27.01-1.13.01-2.2 0-.75-.25-1.23-.54-1.48 1.78-.2 3.65-.88 3.65-3.95 0-.88-.31-1.59-.82-2.15.08-.2.36-1.02-.08-2.12 0 0-.67-.22-2.2.82-.64-.18-1.32-.27-2-.27-.68 0-1.36.09-2 .27-1.53-1.03-2.2-.82-2.2-.82-.44 1.1-.16 1.92-.08 2.12-.51.56-.82 1.28-.82 2.15 0 3.06 1.86 3.75 3.64 3.95-.23.2-.44.55-.51 1.07-.46.21-1.61.55-2.33-.66-.15-.24-.6-.83-1.23-.82-.67.01-.27.38.01.53.34.19.73.9.82 1.13.16.45.68 1.31 2.69.94 0 .67.01 1.3.01 1.49 0 .21-.15.45-.55.38A7.995 7.995 0 0 1 0 8c0-4.42 3.58-8 8-8Z"></path>
</svg>
</div></div>
    </div>
    <div class="Overlay-actionWrap">
      <button data-close-dialog-id="dialog-ff68d7de-a40c-43b4-a386-c196d98a98fc" aria-label="Close" type="button" data-view-component="true" class="close-button Overlay-closeButton"><svg aria-hidden="true" height="16" viewBox="0 0 16 16" version="1.1" width="16" data-view-component="true" class="octicon octicon-x">
    <path d="M3.72 3.72a.75.75 0 0 1 1.06 0L8 6.94l3.22-3.22a.749.749 0 0 1 1.275.326.749.749 0 0 1-.215.734L9.06 8l3.22 3.22a.749.749 0 0 1-.326 1.275.749.749 0 0 1-.734-.215L8 9.06l-3.22 3.22a.751.751 0 0 1-1.042-.018.751.751 0 0 1-.018-1.042L6.94 8 3.72 4.78a.75.75 0 0 1 0-1.06Z"></path>
</svg></button>
    </div>
  </div>
</div>
      <div data-view-component="true" class="Overlay-body d-flex flex-column px-2">    <div data-view-component="true" class="d-flex flex-column mb-3">
        <nav aria-label="Site navigation" data-view-component="true" class="ActionList">
  
  <nav-list>
    <ul data-view-component="true" class="ActionListWrap">
        
          
<li data-item-id="" data-targets="nav-list.items" data-view-component="true" class="ActionListItem">
    
    <a data-hotkey="g d" data-analytics-event="{&quot;category&quot;:&quot;Global navigation&quot;,&quot;action&quot;:&quot;HOME&quot;,&quot;label&quot;:null}" id="item-951fe227-d28f-4245-b31b-fb5ee736af5f" href="/dashboard" data-view-component="true" class="ActionListContent ActionListContent--visual16">
        <span class="ActionListItem-visual ActionListItem-visual--leading">
          <svg aria-hidden="true" height="16" viewBox="0 0 16 16" version="1.1" width="16" data-view-component="true" class="octicon octicon-home">
    <path d="M6.906.664a1.749 1.749 0 0 1 2.187 0l5.25 4.2c.415.332.657.835.657 1.367v7.019A1.75 1.75 0 0 1 13.25 15h-3.5a.75.75 0 0 1-.75-.75V9H7v5.25a.75.75 0 0 1-.75.75h-3.5A1.75 1.75 0 0 1 1 13.25V6.23c0-.531.242-1.034.657-1.366l5.25-4.2Zm1.25 1.171a.25.25 0 0 0-.312 0l-5.25 4.2a.25.25 0 0 0-.094.196v7.019c0 .138.112.25.25.25H5.5V8.25a.75.75 0 0 1 .75-.75h3.5a.75.75 0 0 1 .75.75v5.25h2.75a.25.25 0 0 0 .25-.25V6.23a.25.25 0 0 0-.094-.195Z"></path>
</svg>
        </span>
      
        <span data-view-component="true" class="ActionListItem-label">
          Home
</span></a>
  
  
</li>

        
          
<li data-item-id="" data-targets="nav-list.items" data-view-component="true" class="ActionListItem">
    
    <a data-hotkey="g i" data-analytics-event="{&quot;category&quot;:&quot;Global navigation&quot;,&quot;action&quot;:&quot;ISSUES&quot;,&quot;label&quot;:null}" id="item-1f137ea7-8183-4841-8b4b-2de5b7e5a531" href="/issues" data-view-component="true" class="ActionListContent ActionListContent--visual16">
        <span class="ActionListItem-visual ActionListItem-visual--leading">
          <svg aria-hidden="true" height="16" viewBox="0 0 16 16" version="1.1" width="16" data-view-component="true" class="octicon octicon-issue-opened">
    <path d="M8 9.5a1.5 1.5 0 1 0 0-3 1.5 1.5 0 0 0 0 3Z"></path><path d="M8 0a8 8 0 1 1 0 16A8 8 0 0 1 8 0ZM1.5 8a6.5 6.5 0 1 0 13 0 6.5 6.5 0 0 0-13 0Z"></path>
</svg>
        </span>
      
        <span data-view-component="true" class="ActionListItem-label">
          Issues
</span></a>
  
  
</li>

        
          
<li data-item-id="" data-targets="nav-list.items" data-view-component="true" class="ActionListItem">
    
    <a data-hotkey="g p" data-analytics-event="{&quot;category&quot;:&quot;Global navigation&quot;,&quot;action&quot;:&quot;PULL_REQUESTS&quot;,&quot;label&quot;:null}" id="item-79eec7fe-b446-444f-9f83-f6da2ddd9bde" href="/pulls" data-view-component="true" class="ActionListContent ActionListContent--visual16">
        <span class="ActionListItem-visual ActionListItem-visual--leading">
          <svg aria-hidden="true" height="16" viewBox="0 0 16 16" version="1.1" width="16" data-view-component="true" class="octicon octicon-git-pull-request">
    <path d="M1.5 3.25a2.25 2.25 0 1 1 3 2.122v5.256a2.251 2.251 0 1 1-1.5 0V5.372A2.25 2.25 0 0 1 1.5 3.25Zm5.677-.177L9.573.677A.25.25 0 0 1 10 .854V2.5h1A2.5 2.5 0 0 1 13.5 5v5.628a2.251 2.251 0 1 1-1.5 0V5a1 1 0 0 0-1-1h-1v1.646a.25.25 0 0 1-.427.177L7.177 3.427a.25.25 0 0 1 0-.354ZM3.75 2.5a.75.75 0 1 0 0 1.5.75.75 0 0 0 0-1.5Zm0 9.5a.75.75 0 1 0 0 1.5.75.75 0 0 0 0-1.5Zm8.25.75a.75.75 0 1 0 1.5 0 .75.75 0 0 0-1.5 0Z"></path>
</svg>
        </span>
      
        <span data-view-component="true" class="ActionListItem-label">
          Pull requests
</span></a>
  
  
</li>

        
          
<li data-item-id="" data-targets="nav-list.items" data-view-component="true" class="ActionListItem">
    
    <a data-analytics-event="{&quot;category&quot;:&quot;Global navigation&quot;,&quot;action&quot;:&quot;DISCUSSIONS&quot;,&quot;label&quot;:null}" id="item-a02cf687-7d5d-42e8-9830-9517fc94934c" href="/discussions" data-view-component="true" class="ActionListContent ActionListContent--visual16">
        <span class="ActionListItem-visual ActionListItem-visual--leading">
          <svg aria-hidden="true" height="16" viewBox="0 0 16 16" version="1.1" width="16" data-view-component="true" class="octicon octicon-comment-discussion">
    <path d="M1.75 1h8.5c.966 0 1.75.784 1.75 1.75v5.5A1.75 1.75 0 0 1 10.25 10H7.061l-2.574 2.573A1.458 1.458 0 0 1 2 11.543V10h-.25A1.75 1.75 0 0 1 0 8.25v-5.5C0 1.784.784 1 1.75 1ZM1.5 2.75v5.5c0 .138.112.25.25.25h1a.75.75 0 0 1 .75.75v2.19l2.72-2.72a.749.749 0 0 1 .53-.22h3.5a.25.25 0 0 0 .25-.25v-5.5a.25.25 0 0 0-.25-.25h-8.5a.25.25 0 0 0-.25.25Zm13 2a.25.25 0 0 0-.25-.25h-.5a.75.75 0 0 1 0-1.5h.5c.966 0 1.75.784 1.75 1.75v5.5A1.75 1.75 0 0 1 14.25 12H14v1.543a1.458 1.458 0 0 1-2.487 1.03L9.22 12.28a.749.749 0 0 1 .326-1.275.749.749 0 0 1 .734.215l2.22 2.22v-2.19a.75.75 0 0 1 .75-.75h1a.25.25 0 0 0 .25-.25Z"></path>
</svg>
        </span>
      
        <span data-view-component="true" class="ActionListItem-label">
          Discussions
</span></a>
  
  
</li>

        
          
<li data-item-id="" data-targets="nav-list.items" data-view-component="true" class="ActionListItem">
    
    <a data-analytics-event="{&quot;category&quot;:&quot;Global navigation&quot;,&quot;action&quot;:&quot;CODESPACES&quot;,&quot;label&quot;:null}" id="item-eb18fbf3-a85f-4846-99e8-4d0b7e2352c5" href="https://github.com/codespaces" data-view-component="true" class="ActionListContent ActionListContent--visual16">
        <span class="ActionListItem-visual ActionListItem-visual--leading">
          <svg aria-hidden="true" height="16" viewBox="0 0 16 16" version="1.1" width="16" data-view-component="true" class="octicon octicon-codespaces">
    <path d="M0 11.25c0-.966.784-1.75 1.75-1.75h12.5c.966 0 1.75.784 1.75 1.75v3A1.75 1.75 0 0 1 14.25 16H1.75A1.75 1.75 0 0 1 0 14.25Zm2-9.5C2 .784 2.784 0 3.75 0h8.5C13.216 0 14 .784 14 1.75v5a1.75 1.75 0 0 1-1.75 1.75h-8.5A1.75 1.75 0 0 1 2 6.75Zm1.75-.25a.25.25 0 0 0-.25.25v5c0 .138.112.25.25.25h8.5a.25.25 0 0 0 .25-.25v-5a.25.25 0 0 0-.25-.25Zm-2 9.5a.25.25 0 0 0-.25.25v3c0 .138.112.25.25.25h12.5a.25.25 0 0 0 .25-.25v-3a.25.25 0 0 0-.25-.25Z"></path><path d="M7 12.75a.75.75 0 0 1 .75-.75h4.5a.75.75 0 0 1 0 1.5h-4.5a.75.75 0 0 1-.75-.75Zm-4 0a.75.75 0 0 1 .75-.75h.5a.75.75 0 0 1 0 1.5h-.5a.75.75 0 0 1-.75-.75Z"></path>
</svg>
        </span>
      
        <span data-view-component="true" class="ActionListItem-label">
          Codespaces
</span></a>
  
  
</li>

        
          <li role="presentation" aria-hidden="true" data-view-component="true" class="ActionList-sectionDivider"></li>
        
          
<li data-item-id="" data-targets="nav-list.items" data-view-component="true" class="ActionListItem">
    
    <a data-analytics-event="{&quot;category&quot;:&quot;Global navigation&quot;,&quot;action&quot;:&quot;EXPLORE&quot;,&quot;label&quot;:null}" id="item-89995375-3501-4f76-b119-67fd09f58cd8" href="/explore" data-view-component="true" class="ActionListContent ActionListContent--visual16">
        <span class="ActionListItem-visual ActionListItem-visual--leading">
          <svg aria-hidden="true" height="16" viewBox="0 0 16 16" version="1.1" width="16" data-view-component="true" class="octicon octicon-telescope">
    <path d="M14.184 1.143v-.001l1.422 2.464a1.75 1.75 0 0 1-.757 2.451L3.104 11.713a1.75 1.75 0 0 1-2.275-.702l-.447-.775a1.75 1.75 0 0 1 .53-2.32L11.682.573a1.748 1.748 0 0 1 2.502.57Zm-4.709 9.32h-.001l2.644 3.863a.75.75 0 1 1-1.238.848l-1.881-2.75v2.826a.75.75 0 0 1-1.5 0v-2.826l-1.881 2.75a.75.75 0 1 1-1.238-.848l2.049-2.992a.746.746 0 0 1 .293-.253l1.809-.87a.749.749 0 0 1 .944.252ZM9.436 3.92h-.001l-4.97 3.39.942 1.63 5.42-2.61Zm3.091-2.108h.001l-1.85 1.26 1.505 2.605 2.016-.97a.247.247 0 0 0 .13-.151.247.247 0 0 0-.022-.199l-1.422-2.464a.253.253 0 0 0-.161-.119.254.254 0 0 0-.197.038ZM1.756 9.157a.25.25 0 0 0-.075.33l.447.775a.25.25 0 0 0 .325.1l1.598-.769-.83-1.436-1.465 1Z"></path>
</svg>
        </span>
      
        <span data-view-component="true" class="ActionListItem-label">
          Explore
</span></a>
  
  
</li>

        
          
<li data-item-id="" data-targets="nav-list.items" data-view-component="true" class="ActionListItem">
    
    <a data-analytics-event="{&quot;category&quot;:&quot;Global navigation&quot;,&quot;action&quot;:&quot;MARKETPLACE&quot;,&quot;label&quot;:null}" id="item-961dcf7b-fe86-40a9-9e1f-f0cab7025ff7" href="/marketplace" data-view-component="true" class="ActionListContent ActionListContent--visual16">
        <span class="ActionListItem-visual ActionListItem-visual--leading">
          <svg aria-hidden="true" height="16" viewBox="0 0 16 16" version="1.1" width="16" data-view-component="true" class="octicon octicon-gift">
    <path d="M2 2.75A2.75 2.75 0 0 1 4.75 0c.983 0 1.873.42 2.57 1.232.268.318.497.668.68 1.042.183-.375.411-.725.68-1.044C9.376.42 10.266 0 11.25 0a2.75 2.75 0 0 1 2.45 4h.55c.966 0 1.75.784 1.75 1.75v2c0 .698-.409 1.301-1 1.582v4.918A1.75 1.75 0 0 1 13.25 16H2.75A1.75 1.75 0 0 1 1 14.25V9.332C.409 9.05 0 8.448 0 7.75v-2C0 4.784.784 4 1.75 4h.55c-.192-.375-.3-.8-.3-1.25ZM7.25 9.5H2.5v4.75c0 .138.112.25.25.25h4.5Zm1.5 0v5h4.5a.25.25 0 0 0 .25-.25V9.5Zm0-4V8h5.5a.25.25 0 0 0 .25-.25v-2a.25.25 0 0 0-.25-.25Zm-7 0a.25.25 0 0 0-.25.25v2c0 .138.112.25.25.25h5.5V5.5h-5.5Zm3-4a1.25 1.25 0 0 0 0 2.5h2.309c-.233-.818-.542-1.401-.878-1.793-.43-.502-.915-.707-1.431-.707ZM8.941 4h2.309a1.25 1.25 0 0 0 0-2.5c-.516 0-1 .205-1.43.707-.337.392-.646.975-.879 1.793Z"></path>
</svg>
        </span>
      
        <span data-view-component="true" class="ActionListItem-label">
          Marketplace
</span></a>
  
  
</li>

</ul>  </nav-list>
</nav>

        <div data-view-component="true" class="my-3 d-flex flex-justify-center height-full">
          <svg style="box-sizing: content-box; color: var(--color-icon-primary);" width="16" height="16" viewBox="0 0 16 16" fill="none" data-view-component="true" class="anim-rotate">
  <circle cx="8" cy="8" r="7" stroke="currentColor" stroke-opacity="0.25" stroke-width="2" vector-effect="non-scaling-stroke" fill="none" />
  <path d="M15 8a7.002 7.002 0 00-7-7" stroke="currentColor" stroke-width="2" stroke-linecap="round" vector-effect="non-scaling-stroke" />
</svg>
</div>
</div>
      <div data-view-component="true" class="flex-1"></div>


      <div data-view-component="true" class="px-2">      <p class="color-fg-subtle text-small text-light">&copy; 2023 GitHub, Inc.</p>

      <div data-view-component="true" class="d-flex text-small text-light">
          <a target="_blank" href="/about" data-view-component="true" class="Link mr-2">About</a>
          <a target="_blank" href="https://github.blog" data-view-component="true" class="Link mr-2">Blog</a>
          <a target="_blank" href="https://docs.github.com/site-policy/github-terms/github-terms-of-service" data-view-component="true" class="Link mr-2">Terms</a>
          <a target="_blank" href="https://docs.github.com/site-policy/privacy-policies/github-privacy-statement" data-view-component="true" class="Link mr-2">Privacy</a>
          <a target="_blank" href="/security" data-view-component="true" class="Link mr-2">Security</a>
        <a target="_blank" href="https://www.githubstatus.com/" data-view-component="true" class="Link mr-3">Status</a>
</div></div>
</div>
      
</modal-dialog></div>

  </include-fragment>
</deferred-side-panel>

        <a
          class="AppHeader-logo ml-2"
          href="https://github.com/"
          data-hotkey="g d"
          aria-label="Homepage "
          data-turbo="false"
          data-analytics-event="{&quot;category&quot;:&quot;Header&quot;,&quot;action&quot;:&quot;go to dashboard&quot;,&quot;label&quot;:&quot;icon:logo&quot;}"
        >
          <svg height="32" aria-hidden="true" viewBox="0 0 16 16" version="1.1" width="32" data-view-component="true" class="octicon octicon-mark-github v-align-middle color-fg-default">
    <path d="M8 0c4.42 0 8 3.58 8 8a8.013 8.013 0 0 1-5.45 7.59c-.4.08-.55-.17-.55-.38 0-.27.01-1.13.01-2.2 0-.75-.25-1.23-.54-1.48 1.78-.2 3.65-.88 3.65-3.95 0-.88-.31-1.59-.82-2.15.08-.2.36-1.02-.08-2.12 0 0-.67-.22-2.2.82-.64-.18-1.32-.27-2-.27-.68 0-1.36.09-2 .27-1.53-1.03-2.2-.82-2.2-.82-.44 1.1-.16 1.92-.08 2.12-.51.56-.82 1.28-.82 2.15 0 3.06 1.86 3.75 3.64 3.95-.23.2-.44.55-.51 1.07-.46.21-1.61.55-2.33-.66-.15-.24-.6-.83-1.23-.82-.67.01-.27.38.01.53.34.19.73.9.82 1.13.16.45.68 1.31 2.69.94 0 .67.01 1.3.01 1.49 0 .21-.15.45-.55.38A7.995 7.995 0 0 1 0 8c0-4.42 3.58-8 8-8Z"></path>
</svg>
        </a>

          <div class="AppHeader-context" >
  <div class="AppHeader-context-compact">
        <button aria-expanded="false" aria-haspopup="dialog" aria-label="Page context: mrdbourke / tensorflow-deep-learning" id="dialog-show-context-region-dialog" data-show-dialog-id="context-region-dialog" type="button" data-view-component="true" class="AppHeader-context-compact-trigger Truncate Button--secondary Button--medium Button box-shadow-none">    <span class="Button-content">
      <span class="Button-label"><span class="AppHeader-context-compact-lead">
                <span class="AppHeader-context-compact-parentItem">mrdbourke</span>
                <span class="no-wrap">&nbsp;/</span>

            </span>

            <strong class="AppHeader-context-compact-mainItem d-flex flex-items-center Truncate" >
  <span class="Truncate-text ">tensorflow-deep-learning</span>

</strong></span>
    </span>
</button>  

<div class="Overlay--hidden Overlay-backdrop--center" data-modal-dialog-overlay>
  <modal-dialog role="dialog" id="context-region-dialog" aria-modal="true" aria-disabled="true" aria-labelledby="context-region-dialog-title" aria-describedby="context-region-dialog-description" data-view-component="true" class="Overlay Overlay-whenNarrow Overlay--size-medium Overlay--motion-scaleFade">
    <div data-view-component="true" class="Overlay-header">
  <div class="Overlay-headerContentWrap">
    <div class="Overlay-titleWrap">
      <h1 class="Overlay-title " id="context-region-dialog-title">
        Navigate back to
      </h1>
    </div>
    <div class="Overlay-actionWrap">
      <button data-close-dialog-id="context-region-dialog" aria-label="Close" type="button" data-view-component="true" class="close-button Overlay-closeButton"><svg aria-hidden="true" height="16" viewBox="0 0 16 16" version="1.1" width="16" data-view-component="true" class="octicon octicon-x">
    <path d="M3.72 3.72a.75.75 0 0 1 1.06 0L8 6.94l3.22-3.22a.749.749 0 0 1 1.275.326.749.749 0 0 1-.215.734L9.06 8l3.22 3.22a.749.749 0 0 1-.326 1.275.749.749 0 0 1-.734-.215L8 9.06l-3.22 3.22a.751.751 0 0 1-1.042-.018.751.751 0 0 1-.018-1.042L6.94 8 3.72 4.78a.75.75 0 0 1 0-1.06Z"></path>
</svg></button>
    </div>
  </div>
</div>
      <div data-view-component="true" class="Overlay-body">          <ul role="list" class="list-style-none" >
    <li>
      <a data-analytics-event="{&quot;category&quot;:&quot;SiteHeaderComponent&quot;,&quot;action&quot;:&quot;context_region_crumb&quot;,&quot;label&quot;:&quot;mrdbourke&quot;,&quot;screen_size&quot;:&quot;compact&quot;}" href="/mrdbourke" data-view-component="true" class="Link--primary Truncate d-flex flex-items-center py-1">
        <span class="AppHeader-context-item-label Truncate-text ">
            <svg aria-hidden="true" height="12" viewBox="0 0 16 16" version="1.1" width="12" data-view-component="true" class="octicon octicon-person mr-1">
    <path d="M10.561 8.073a6.005 6.005 0 0 1 3.432 5.142.75.75 0 1 1-1.498.07 4.5 4.5 0 0 0-8.99 0 .75.75 0 0 1-1.498-.07 6.004 6.004 0 0 1 3.431-5.142 3.999 3.999 0 1 1 5.123 0ZM10.5 5a2.5 2.5 0 1 0-5 0 2.5 2.5 0 0 0 5 0Z"></path>
</svg>

          mrdbourke
        </span>

</a>
    </li>
    <li>
      <a data-analytics-event="{&quot;category&quot;:&quot;SiteHeaderComponent&quot;,&quot;action&quot;:&quot;context_region_crumb&quot;,&quot;label&quot;:&quot;tensorflow-deep-learning&quot;,&quot;screen_size&quot;:&quot;compact&quot;}" href="/mrdbourke/tensorflow-deep-learning" data-view-component="true" class="Link--primary Truncate d-flex flex-items-center py-1">
        <span class="AppHeader-context-item-label Truncate-text ">
            <svg aria-hidden="true" height="12" viewBox="0 0 16 16" version="1.1" width="12" data-view-component="true" class="octicon octicon-repo mr-1">
    <path d="M2 2.5A2.5 2.5 0 0 1 4.5 0h8.75a.75.75 0 0 1 .75.75v12.5a.75.75 0 0 1-.75.75h-2.5a.75.75 0 0 1 0-1.5h1.75v-2h-8a1 1 0 0 0-.714 1.7.75.75 0 1 1-1.072 1.05A2.495 2.495 0 0 1 2 11.5Zm10.5-1h-8a1 1 0 0 0-1 1v6.708A2.486 2.486 0 0 1 4.5 9h8ZM5 12.25a.25.25 0 0 1 .25-.25h3.5a.25.25 0 0 1 .25.25v3.25a.25.25 0 0 1-.4.2l-1.45-1.087a.249.249 0 0 0-.3 0L5.4 15.7a.25.25 0 0 1-.4-.2Z"></path>
</svg>

          tensorflow-deep-learning
        </span>

</a>
    </li>
</ul>

</div>
      
</modal-dialog></div>
  </div>

  <div class="AppHeader-context-full">
    <nav role="navigation" aria-label="Page context">
      <ul role="list" class="list-style-none" >
    <li>
      <a data-analytics-event="{&quot;category&quot;:&quot;SiteHeaderComponent&quot;,&quot;action&quot;:&quot;context_region_crumb&quot;,&quot;label&quot;:&quot;mrdbourke&quot;,&quot;screen_size&quot;:&quot;full&quot;}" data-hovercard-type="user" data-hovercard-url="/users/mrdbourke/hovercard" data-octo-click="hovercard-link-click" data-octo-dimensions="link_type:self" href="/mrdbourke" data-view-component="true" class="AppHeader-context-item">
        <span class="AppHeader-context-item-label  ">

          mrdbourke
        </span>

</a>
        <span class="AppHeader-context-item-separator">/</span>
    </li>
    <li>
      <a data-analytics-event="{&quot;category&quot;:&quot;SiteHeaderComponent&quot;,&quot;action&quot;:&quot;context_region_crumb&quot;,&quot;label&quot;:&quot;tensorflow-deep-learning&quot;,&quot;screen_size&quot;:&quot;full&quot;}" href="/mrdbourke/tensorflow-deep-learning" data-view-component="true" class="AppHeader-context-item">
        <span class="AppHeader-context-item-label  ">

          tensorflow-deep-learning
        </span>

</a>
    </li>
</ul>

    </nav>
  </div>
</div>

      </div>
      <div class="AppHeader-globalBar-end">
          <div class="AppHeader-search" >
              


<qbsearch-input class="search-input" data-scope="repo:mrdbourke/tensorflow-deep-learning" data-custom-scopes-path="/search/custom_scopes" data-delete-custom-scopes-csrf="sz-HC6pjXM--iPtIx9oe5IIR2gDxa_RQDxiKY0Zss53G9dFPW0PG6JtIAZofZ-KJGtxdOIewC-Ulz0Z-sorK7g" data-max-custom-scopes="10" data-header-redesign-enabled="true" data-initial-value="" data-blackbird-suggestions-path="/search/suggestions" data-jump-to-suggestions-path="/_graphql/GetSuggestedNavigationDestinations" data-current-repository="mrdbourke/tensorflow-deep-learning" data-current-org="" data-current-owner="mrdbourke" data-logged-in="true">
  <div
    class="search-input-container search-with-dialog position-relative d-flex flex-row flex-items-center height-auto color-bg-transparent border-0 color-fg-subtle mx-0"
    data-action="click:qbsearch-input#searchInputContainerClicked"
  >
      
            <button type="button" data-action="click:qbsearch-input#handleExpand" class="AppHeader-button AppHeader-search-whenNarrow" aria-label="Search or jump to…" aria-expanded="false" aria-haspopup="dialog">
            <svg aria-hidden="true" height="16" viewBox="0 0 16 16" version="1.1" width="16" data-view-component="true" class="octicon octicon-search">
    <path d="M10.68 11.74a6 6 0 0 1-7.922-8.982 6 6 0 0 1 8.982 7.922l3.04 3.04a.749.749 0 0 1-.326 1.275.749.749 0 0 1-.734-.215ZM11.5 7a4.499 4.499 0 1 0-8.997 0A4.499 4.499 0 0 0 11.5 7Z"></path>
</svg>
          </button>


<div class="AppHeader-search-whenRegular">
  <div class="AppHeader-search-wrap AppHeader-search-wrap--hasTrailing">
    <div class="AppHeader-search-control">
      <label
        for="AppHeader-searchInput"
        aria-label="Search or jump to…"
        class="AppHeader-search-visual--leading"
      >
        <svg aria-hidden="true" height="16" viewBox="0 0 16 16" version="1.1" width="16" data-view-component="true" class="octicon octicon-search">
    <path d="M10.68 11.74a6 6 0 0 1-7.922-8.982 6 6 0 0 1 8.982 7.922l3.04 3.04a.749.749 0 0 1-.326 1.275.749.749 0 0 1-.734-.215ZM11.5 7a4.499 4.499 0 1 0-8.997 0A4.499 4.499 0 0 0 11.5 7Z"></path>
</svg>
      </label>

                <button
            type="button"
            data-target="qbsearch-input.inputButton"
            data-action="click:qbsearch-input#handleExpand"
            class="AppHeader-searchButton form-control input-contrast text-left color-fg-subtle no-wrap"
            data-hotkey="s,/"
            data-analytics-event="{&quot;category&quot;:&quot;Global navigation&quot;,&quot;action&quot;:&quot;SEARCH&quot;,&quot;label&quot;:null}"
          >
            <div class="overflow-hidden">
              <span id="qb-input-query" data-target="qbsearch-input.inputButtonText">
                  Type <kbd class="AppHeader-search-kbd">/</kbd> to search
              </span>
            </div>
          </button>

    </div>


      <button type="button" id="AppHeader-commandPalette-button" class="AppHeader-search-action--trailing js-activate-command-palette" data-analytics-event="{&quot;category&quot;:&quot;SiteHeaderComponent&quot;,&quot;action&quot;:&quot;command_palette&quot;,&quot;label&quot;:&quot;open command palette&quot;}">
        <svg aria-hidden="true" height="16" viewBox="0 0 16 16" version="1.1" width="16" data-view-component="true" class="octicon octicon-command-palette">
    <path d="m6.354 8.04-4.773 4.773a.75.75 0 1 0 1.061 1.06L7.945 8.57a.75.75 0 0 0 0-1.06L2.642 2.206a.75.75 0 0 0-1.06 1.061L6.353 8.04ZM8.75 11.5a.75.75 0 0 0 0 1.5h5.5a.75.75 0 0 0 0-1.5h-5.5Z"></path>
</svg>
      </button>

      <tool-tip id="tooltip-505dfb95-b1f5-490b-af41-023aa0cd75e7" for="AppHeader-commandPalette-button" popover="manual" data-direction="s" data-type="label" data-view-component="true" class="sr-only position-absolute">Command palette</tool-tip>
  </div>
</div>

    <input type="hidden" name="type" class="js-site-search-type-field">

    
<div class="Overlay--hidden " data-modal-dialog-overlay>
  <modal-dialog data-action="close:qbsearch-input#handleClose cancel:qbsearch-input#handleClose" data-target="qbsearch-input.searchSuggestionsDialog" role="dialog" id="search-suggestions-dialog" aria-modal="true" aria-labelledby="search-suggestions-dialog-header" data-view-component="true" class="Overlay Overlay--width-medium Overlay--height-auto">
      <h1 id="search-suggestions-dialog-header" class="sr-only">Search code, repositories, users, issues, pull requests...</h1>
    <div class="Overlay-body Overlay-body--paddingNone">
      
          <div data-view-component="true">        <div class="search-suggestions position-absolute width-full color-shadow-large border color-fg-default color-bg-default overflow-hidden d-flex flex-column query-builder-container"
          style="border-radius: 12px;"
          data-target="qbsearch-input.queryBuilderContainer"
          hidden
        >
          <!-- '"` --><!-- </textarea></xmp> --></option></form><form id="query-builder-test-form" action="" accept-charset="UTF-8" method="get">
  <query-builder data-target="qbsearch-input.queryBuilder" id="query-builder-query-builder-test" data-filter-key=":" data-view-component="true" class="QueryBuilder search-query-builder">
    <div class="FormControl FormControl--fullWidth">
      <label id="query-builder-test-label" for="query-builder-test" class="FormControl-label sr-only">
        Search
      </label>
      <div
        class="QueryBuilder-StyledInput width-fit "
        data-target="query-builder.styledInput"
      >
          <span id="query-builder-test-leadingvisual-wrap" class="FormControl-input-leadingVisualWrap QueryBuilder-leadingVisualWrap">
            <svg aria-hidden="true" height="16" viewBox="0 0 16 16" version="1.1" width="16" data-view-component="true" class="octicon octicon-search FormControl-input-leadingVisual">
    <path d="M10.68 11.74a6 6 0 0 1-7.922-8.982 6 6 0 0 1 8.982 7.922l3.04 3.04a.749.749 0 0 1-.326 1.275.749.749 0 0 1-.734-.215ZM11.5 7a4.499 4.499 0 1 0-8.997 0A4.499 4.499 0 0 0 11.5 7Z"></path>
</svg>
          </span>
        <div data-target="query-builder.styledInputContainer" class="QueryBuilder-StyledInputContainer">
          <div
            aria-hidden="true"
            class="QueryBuilder-StyledInputContent"
            data-target="query-builder.styledInputContent"
          ></div>
          <div class="QueryBuilder-InputWrapper">
            <div aria-hidden="true" class="QueryBuilder-Sizer" data-target="query-builder.sizer"></div>
            <input id="query-builder-test" name="query-builder-test" value="" autocomplete="off" type="text" role="combobox" spellcheck="false" aria-expanded="false" aria-describedby="validation-432236bb-8e8a-4846-81f8-9cfddefe1192" data-target="query-builder.input" data-action="
          input:query-builder#inputChange
          blur:query-builder#inputBlur
          keydown:query-builder#inputKeydown
          focus:query-builder#inputFocus
        " data-view-component="true" class="FormControl-input QueryBuilder-Input FormControl-medium" />
          </div>
        </div>
          <span class="sr-only" id="query-builder-test-clear">Clear</span>
          
  <button role="button" id="query-builder-test-clear-button" aria-labelledby="query-builder-test-clear query-builder-test-label" data-target="query-builder.clearButton" data-action="
                click:query-builder#clear
                focus:query-builder#clearButtonFocus
                blur:query-builder#clearButtonBlur
              " variant="small" hidden="hidden" type="button" data-view-component="true" class="Button Button--iconOnly Button--invisible Button--medium mr-1 px-2 py-0 d-flex flex-items-center rounded-1 color-fg-muted">    <svg aria-hidden="true" height="16" viewBox="0 0 16 16" version="1.1" width="16" data-view-component="true" class="octicon octicon-x-circle-fill Button-visual">
    <path d="M2.343 13.657A8 8 0 1 1 13.658 2.343 8 8 0 0 1 2.343 13.657ZM6.03 4.97a.751.751 0 0 0-1.042.018.751.751 0 0 0-.018 1.042L6.94 8 4.97 9.97a.749.749 0 0 0 .326 1.275.749.749 0 0 0 .734-.215L8 9.06l1.97 1.97a.749.749 0 0 0 1.275-.326.749.749 0 0 0-.215-.734L9.06 8l1.97-1.97a.749.749 0 0 0-.326-1.275.749.749 0 0 0-.734.215L8 6.94Z"></path>
</svg>
</button>  

      </div>
      <template id="search-icon">
  <svg aria-hidden="true" height="16" viewBox="0 0 16 16" version="1.1" width="16" data-view-component="true" class="octicon octicon-search">
    <path d="M10.68 11.74a6 6 0 0 1-7.922-8.982 6 6 0 0 1 8.982 7.922l3.04 3.04a.749.749 0 0 1-.326 1.275.749.749 0 0 1-.734-.215ZM11.5 7a4.499 4.499 0 1 0-8.997 0A4.499 4.499 0 0 0 11.5 7Z"></path>
</svg>
</template>

<template id="code-icon">
  <svg aria-hidden="true" height="16" viewBox="0 0 16 16" version="1.1" width="16" data-view-component="true" class="octicon octicon-code">
    <path d="m11.28 3.22 4.25 4.25a.75.75 0 0 1 0 1.06l-4.25 4.25a.749.749 0 0 1-1.275-.326.749.749 0 0 1 .215-.734L13.94 8l-3.72-3.72a.749.749 0 0 1 .326-1.275.749.749 0 0 1 .734.215Zm-6.56 0a.751.751 0 0 1 1.042.018.751.751 0 0 1 .018 1.042L2.06 8l3.72 3.72a.749.749 0 0 1-.326 1.275.749.749 0 0 1-.734-.215L.47 8.53a.75.75 0 0 1 0-1.06Z"></path>
</svg>
</template>

<template id="file-code-icon">
  <svg aria-hidden="true" height="16" viewBox="0 0 16 16" version="1.1" width="16" data-view-component="true" class="octicon octicon-file-code">
    <path d="M4 1.75C4 .784 4.784 0 5.75 0h5.586c.464 0 .909.184 1.237.513l2.914 2.914c.329.328.513.773.513 1.237v8.586A1.75 1.75 0 0 1 14.25 15h-9a.75.75 0 0 1 0-1.5h9a.25.25 0 0 0 .25-.25V6h-2.75A1.75 1.75 0 0 1 10 4.25V1.5H5.75a.25.25 0 0 0-.25.25v2.5a.75.75 0 0 1-1.5 0Zm1.72 4.97a.75.75 0 0 1 1.06 0l2 2a.75.75 0 0 1 0 1.06l-2 2a.749.749 0 0 1-1.275-.326.749.749 0 0 1 .215-.734l1.47-1.47-1.47-1.47a.75.75 0 0 1 0-1.06ZM3.28 7.78 1.81 9.25l1.47 1.47a.751.751 0 0 1-.018 1.042.751.751 0 0 1-1.042.018l-2-2a.75.75 0 0 1 0-1.06l2-2a.751.751 0 0 1 1.042.018.751.751 0 0 1 .018 1.042Zm8.22-6.218V4.25c0 .138.112.25.25.25h2.688l-.011-.013-2.914-2.914-.013-.011Z"></path>
</svg>
</template>

<template id="history-icon">
  <svg aria-hidden="true" height="16" viewBox="0 0 16 16" version="1.1" width="16" data-view-component="true" class="octicon octicon-history">
    <path d="m.427 1.927 1.215 1.215a8.002 8.002 0 1 1-1.6 5.685.75.75 0 1 1 1.493-.154 6.5 6.5 0 1 0 1.18-4.458l1.358 1.358A.25.25 0 0 1 3.896 6H.25A.25.25 0 0 1 0 5.75V2.104a.25.25 0 0 1 .427-.177ZM7.75 4a.75.75 0 0 1 .75.75v2.992l2.028.812a.75.75 0 0 1-.557 1.392l-2.5-1A.751.751 0 0 1 7 8.25v-3.5A.75.75 0 0 1 7.75 4Z"></path>
</svg>
</template>

<template id="repo-icon">
  <svg aria-hidden="true" height="16" viewBox="0 0 16 16" version="1.1" width="16" data-view-component="true" class="octicon octicon-repo">
    <path d="M2 2.5A2.5 2.5 0 0 1 4.5 0h8.75a.75.75 0 0 1 .75.75v12.5a.75.75 0 0 1-.75.75h-2.5a.75.75 0 0 1 0-1.5h1.75v-2h-8a1 1 0 0 0-.714 1.7.75.75 0 1 1-1.072 1.05A2.495 2.495 0 0 1 2 11.5Zm10.5-1h-8a1 1 0 0 0-1 1v6.708A2.486 2.486 0 0 1 4.5 9h8ZM5 12.25a.25.25 0 0 1 .25-.25h3.5a.25.25 0 0 1 .25.25v3.25a.25.25 0 0 1-.4.2l-1.45-1.087a.249.249 0 0 0-.3 0L5.4 15.7a.25.25 0 0 1-.4-.2Z"></path>
</svg>
</template>

<template id="bookmark-icon">
  <svg aria-hidden="true" height="16" viewBox="0 0 16 16" version="1.1" width="16" data-view-component="true" class="octicon octicon-bookmark">
    <path d="M3 2.75C3 1.784 3.784 1 4.75 1h6.5c.966 0 1.75.784 1.75 1.75v11.5a.75.75 0 0 1-1.227.579L8 11.722l-3.773 3.107A.751.751 0 0 1 3 14.25Zm1.75-.25a.25.25 0 0 0-.25.25v9.91l3.023-2.489a.75.75 0 0 1 .954 0l3.023 2.49V2.75a.25.25 0 0 0-.25-.25Z"></path>
</svg>
</template>

<template id="plus-circle-icon">
  <svg aria-hidden="true" height="16" viewBox="0 0 16 16" version="1.1" width="16" data-view-component="true" class="octicon octicon-plus-circle">
    <path d="M8 0a8 8 0 1 1 0 16A8 8 0 0 1 8 0ZM1.5 8a6.5 6.5 0 1 0 13 0 6.5 6.5 0 0 0-13 0Zm7.25-3.25v2.5h2.5a.75.75 0 0 1 0 1.5h-2.5v2.5a.75.75 0 0 1-1.5 0v-2.5h-2.5a.75.75 0 0 1 0-1.5h2.5v-2.5a.75.75 0 0 1 1.5 0Z"></path>
</svg>
</template>

<template id="circle-icon">
  <svg aria-hidden="true" height="16" viewBox="0 0 16 16" version="1.1" width="16" data-view-component="true" class="octicon octicon-dot-fill">
    <path d="M8 4a4 4 0 1 1 0 8 4 4 0 0 1 0-8Z"></path>
</svg>
</template>

<template id="trash-icon">
  <svg aria-hidden="true" height="16" viewBox="0 0 16 16" version="1.1" width="16" data-view-component="true" class="octicon octicon-trash">
    <path d="M11 1.75V3h2.25a.75.75 0 0 1 0 1.5H2.75a.75.75 0 0 1 0-1.5H5V1.75C5 .784 5.784 0 6.75 0h2.5C10.216 0 11 .784 11 1.75ZM4.496 6.675l.66 6.6a.25.25 0 0 0 .249.225h5.19a.25.25 0 0 0 .249-.225l.66-6.6a.75.75 0 0 1 1.492.149l-.66 6.6A1.748 1.748 0 0 1 10.595 15h-5.19a1.75 1.75 0 0 1-1.741-1.575l-.66-6.6a.75.75 0 1 1 1.492-.15ZM6.5 1.75V3h3V1.75a.25.25 0 0 0-.25-.25h-2.5a.25.25 0 0 0-.25.25Z"></path>
</svg>
</template>

<template id="team-icon">
  <svg aria-hidden="true" height="16" viewBox="0 0 16 16" version="1.1" width="16" data-view-component="true" class="octicon octicon-people">
    <path d="M2 5.5a3.5 3.5 0 1 1 5.898 2.549 5.508 5.508 0 0 1 3.034 4.084.75.75 0 1 1-1.482.235 4 4 0 0 0-7.9 0 .75.75 0 0 1-1.482-.236A5.507 5.507 0 0 1 3.102 8.05 3.493 3.493 0 0 1 2 5.5ZM11 4a3.001 3.001 0 0 1 2.22 5.018 5.01 5.01 0 0 1 2.56 3.012.749.749 0 0 1-.885.954.752.752 0 0 1-.549-.514 3.507 3.507 0 0 0-2.522-2.372.75.75 0 0 1-.574-.73v-.352a.75.75 0 0 1 .416-.672A1.5 1.5 0 0 0 11 5.5.75.75 0 0 1 11 4Zm-5.5-.5a2 2 0 1 0-.001 3.999A2 2 0 0 0 5.5 3.5Z"></path>
</svg>
</template>

<template id="project-icon">
  <svg aria-hidden="true" height="16" viewBox="0 0 16 16" version="1.1" width="16" data-view-component="true" class="octicon octicon-project">
    <path d="M1.75 0h12.5C15.216 0 16 .784 16 1.75v12.5A1.75 1.75 0 0 1 14.25 16H1.75A1.75 1.75 0 0 1 0 14.25V1.75C0 .784.784 0 1.75 0ZM1.5 1.75v12.5c0 .138.112.25.25.25h12.5a.25.25 0 0 0 .25-.25V1.75a.25.25 0 0 0-.25-.25H1.75a.25.25 0 0 0-.25.25ZM11.75 3a.75.75 0 0 1 .75.75v7.5a.75.75 0 0 1-1.5 0v-7.5a.75.75 0 0 1 .75-.75Zm-8.25.75a.75.75 0 0 1 1.5 0v5.5a.75.75 0 0 1-1.5 0ZM8 3a.75.75 0 0 1 .75.75v3.5a.75.75 0 0 1-1.5 0v-3.5A.75.75 0 0 1 8 3Z"></path>
</svg>
</template>

<template id="pencil-icon">
  <svg aria-hidden="true" height="16" viewBox="0 0 16 16" version="1.1" width="16" data-view-component="true" class="octicon octicon-pencil">
    <path d="M11.013 1.427a1.75 1.75 0 0 1 2.474 0l1.086 1.086a1.75 1.75 0 0 1 0 2.474l-8.61 8.61c-.21.21-.47.364-.756.445l-3.251.93a.75.75 0 0 1-.927-.928l.929-3.25c.081-.286.235-.547.445-.758l8.61-8.61Zm.176 4.823L9.75 4.81l-6.286 6.287a.253.253 0 0 0-.064.108l-.558 1.953 1.953-.558a.253.253 0 0 0 .108-.064Zm1.238-3.763a.25.25 0 0 0-.354 0L10.811 3.75l1.439 1.44 1.263-1.263a.25.25 0 0 0 0-.354Z"></path>
</svg>
</template>

        <div class="position-relative">
                <ul
                  role="listbox"
                  class="ActionListWrap QueryBuilder-ListWrap"
                  aria-label="Suggestions"
                  data-action="
                    combobox-commit:query-builder#comboboxCommit
                    mousedown:query-builder#resultsMousedown
                  "
                  data-target="query-builder.resultsList"
                  data-persist-list=false
                  id="query-builder-test-results"
                ></ul>
        </div>
      <div class="FormControl-inlineValidation" id="validation-432236bb-8e8a-4846-81f8-9cfddefe1192" hidden="hidden">
        <span class="FormControl-inlineValidation--visual">
          <svg aria-hidden="true" height="12" viewBox="0 0 12 12" version="1.1" width="12" data-view-component="true" class="octicon octicon-alert-fill">
    <path d="M4.855.708c.5-.896 1.79-.896 2.29 0l4.675 8.351a1.312 1.312 0 0 1-1.146 1.954H1.33A1.313 1.313 0 0 1 .183 9.058ZM7 7V3H5v4Zm-1 3a1 1 0 1 0 0-2 1 1 0 0 0 0 2Z"></path>
</svg>
        </span>
        <span></span>
</div>    </div>
    <div data-target="query-builder.screenReaderFeedback" aria-live="polite" aria-atomic="true" class="sr-only"></div>
</query-builder></form>
          <div class="d-flex flex-row color-fg-muted px-3 text-small color-bg-default search-feedback-prompt">
            <a target="_blank" href="https://docs.github.com/en/search-github/github-code-search/understanding-github-code-search-syntax" data-view-component="true" class="Link color-fg-accent text-normal ml-2">
              Search syntax tips
</a>            <div class="d-flex flex-1"></div>
                <button data-action="click:qbsearch-input#showFeedbackDialog" type="button" data-view-component="true" class="Button--link Button--medium Button color-fg-accent text-normal ml-2">    <span class="Button-content">
      <span class="Button-label">Give feedback</span>
    </span>
</button>  
          </div>
        </div>
</div>

    </div>
</modal-dialog></div>
  </div>
  <div data-action="click:qbsearch-input#retract" class="dark-backdrop position-fixed" hidden data-target="qbsearch-input.darkBackdrop"></div>
  <div class="color-fg-default">
    
<div class="Overlay--hidden Overlay-backdrop--center" data-modal-dialog-overlay>
  <modal-dialog data-target="qbsearch-input.feedbackDialog" data-action="close:qbsearch-input#handleDialogClose cancel:qbsearch-input#handleDialogClose" role="dialog" id="feedback-dialog" aria-modal="true" aria-disabled="true" aria-labelledby="feedback-dialog-title" aria-describedby="feedback-dialog-description" data-view-component="true" class="Overlay Overlay-whenNarrow Overlay--size-medium Overlay--motion-scaleFade">
    <div data-view-component="true" class="Overlay-header">
  <div class="Overlay-headerContentWrap">
    <div class="Overlay-titleWrap">
      <h1 class="Overlay-title " id="feedback-dialog-title">
        Provide feedback
      </h1>
    </div>
    <div class="Overlay-actionWrap">
      <button data-close-dialog-id="feedback-dialog" aria-label="Close" type="button" data-view-component="true" class="close-button Overlay-closeButton"><svg aria-hidden="true" height="16" viewBox="0 0 16 16" version="1.1" width="16" data-view-component="true" class="octicon octicon-x">
    <path d="M3.72 3.72a.75.75 0 0 1 1.06 0L8 6.94l3.22-3.22a.749.749 0 0 1 1.275.326.749.749 0 0 1-.215.734L9.06 8l3.22 3.22a.749.749 0 0 1-.326 1.275.749.749 0 0 1-.734-.215L8 9.06l-3.22 3.22a.751.751 0 0 1-1.042-.018.751.751 0 0 1-.018-1.042L6.94 8 3.72 4.78a.75.75 0 0 1 0-1.06Z"></path>
</svg></button>
    </div>
  </div>
</div>
      <div data-view-component="true" class="Overlay-body">        <!-- '"` --><!-- </textarea></xmp> --></option></form><form id="code-search-feedback-form" data-turbo="false" action="/search/feedback" accept-charset="UTF-8" method="post"><input type="hidden" name="authenticity_token" value="Xh-3ynKh9_NbhRudcUicrgVYlLGv6F4TFxUUae74UxCaD9lGObfmPe2mx_3CfsUE15x4WlQlBF70gakmFLncbg" />
          <p>We read every piece of feedback, and take your input very seriously.</p>
          <textarea name="feedback" class="form-control width-full mb-2" style="height: 120px" id="feedback"></textarea>
          <input name="include_email" id="include_email" aria-label="Include my email address so I can be contacted" class="form-control mr-2" type="checkbox">
          <label for="include_email" style="font-weight: normal">Include my email address so I can be contacted</label>
</form></div>
      <div data-view-component="true" class="Overlay-footer Overlay-footer--alignEnd">          <button data-close-dialog-id="feedback-dialog" type="button" data-view-component="true" class="btn">    Cancel
</button>
          <button form="code-search-feedback-form" data-action="click:qbsearch-input#submitFeedback" type="submit" data-view-component="true" class="btn-primary btn">    Submit feedback
</button>
</div>
</modal-dialog></div>

    <custom-scopes data-target="qbsearch-input.customScopesManager">
    
<div class="Overlay--hidden Overlay-backdrop--center" data-modal-dialog-overlay>
  <modal-dialog data-target="custom-scopes.customScopesModalDialog" data-action="close:qbsearch-input#handleDialogClose cancel:qbsearch-input#handleDialogClose" role="dialog" id="custom-scopes-dialog" aria-modal="true" aria-disabled="true" aria-labelledby="custom-scopes-dialog-title" aria-describedby="custom-scopes-dialog-description" data-view-component="true" class="Overlay Overlay-whenNarrow Overlay--size-medium Overlay--motion-scaleFade">
    <div data-view-component="true" class="Overlay-header Overlay-header--divided">
  <div class="Overlay-headerContentWrap">
    <div class="Overlay-titleWrap">
      <h1 class="Overlay-title " id="custom-scopes-dialog-title">
        Saved searches
      </h1>
        <h2 id="custom-scopes-dialog-description" class="Overlay-description">Use saved searches to filter your results more quickly</h2>
    </div>
    <div class="Overlay-actionWrap">
      <button data-close-dialog-id="custom-scopes-dialog" aria-label="Close" type="button" data-view-component="true" class="close-button Overlay-closeButton"><svg aria-hidden="true" height="16" viewBox="0 0 16 16" version="1.1" width="16" data-view-component="true" class="octicon octicon-x">
    <path d="M3.72 3.72a.75.75 0 0 1 1.06 0L8 6.94l3.22-3.22a.749.749 0 0 1 1.275.326.749.749 0 0 1-.215.734L9.06 8l3.22 3.22a.749.749 0 0 1-.326 1.275.749.749 0 0 1-.734-.215L8 9.06l-3.22 3.22a.751.751 0 0 1-1.042-.018.751.751 0 0 1-.018-1.042L6.94 8 3.72 4.78a.75.75 0 0 1 0-1.06Z"></path>
</svg></button>
    </div>
  </div>
</div>
      <div data-view-component="true" class="Overlay-body">        <div data-target="custom-scopes.customScopesModalDialogFlash"></div>

        <div hidden class="create-custom-scope-form" data-target="custom-scopes.createCustomScopeForm">
        <!-- '"` --><!-- </textarea></xmp> --></option></form><form id="custom-scopes-dialog-form" data-turbo="false" action="/search/custom_scopes" accept-charset="UTF-8" method="post"><input type="hidden" name="authenticity_token" value="9q1lepb7sM4XVqSNtUU0Ae4WO7KoqI4NkCYULUWrLupOoG3DQSHaO8nyULMPvfJ4Cch5wFS-npGNTDWefa8sRA" />
          <div data-target="custom-scopes.customScopesModalDialogFlash"></div>

          <input type="hidden" id="custom_scope_id" name="custom_scope_id" data-target="custom-scopes.customScopesIdField">

          <div class="form-group">
            <label for="custom_scope_name">Name</label>
            <auto-check src="/search/custom_scopes/check_name" required>
              <input
                type="text"
                name="custom_scope_name"
                id="custom_scope_name"
                data-target="custom-scopes.customScopesNameField"
                class="form-control"
                autocomplete="off"
                placeholder="github-ruby"
                required
                maxlength="50">
              <input type="hidden" value="jHP68UktPZwQQhM6zRS0zuLnbplozVH_dk5C9jIGU9obcim6Pb26nlQfMK4CUQJBQ1yjXUuJUyHAFLnP4LkmQw" data-csrf="true" />
            </auto-check>
          </div>

          <div class="form-group">
            <label for="custom_scope_query">Query</label>
            <input
              type="text"
              name="custom_scope_query"
              id="custom_scope_query"
              data-target="custom-scopes.customScopesQueryField"
              class="form-control"
              autocomplete="off"
              placeholder="(repo:mona/a OR repo:mona/b) AND lang:python"
              required
              maxlength="500">
          </div>

          <p class="text-small color-fg-muted">
            To see all available qualifiers, see our <a class="Link--inTextBlock" href="https://docs.github.com/en/search-github/github-code-search/understanding-github-code-search-syntax">documentation</a>.
          </p>
</form>        </div>

        <div data-target="custom-scopes.manageCustomScopesForm">
          <div data-target="custom-scopes.list"></div>
        </div>

</div>
      <div data-view-component="true" class="Overlay-footer Overlay-footer--alignEnd Overlay-footer--divided">          <button data-action="click:custom-scopes#customScopesCancel" type="button" data-view-component="true" class="btn">    Cancel
</button>
          <button form="custom-scopes-dialog-form" data-action="click:custom-scopes#customScopesSubmit" data-target="custom-scopes.customScopesSubmitButton" type="submit" data-view-component="true" class="btn-primary btn">    Create saved search
</button>
</div>
</modal-dialog></div>
    </custom-scopes>
  </div>
</qbsearch-input><input type="hidden" value="NzujG_u8BEl8xIQ56n1uqWr1SACbzEW2RjTCy5oVRR46IuOIFdbI4ubvAn8DWVuaCiRIET-WGIEGOVoiwF124w" data-csrf="true" class="js-data-jump-to-suggestions-path-csrf" />

          </div>

        <div class="AppHeader-actions position-relative">
          <action-menu data-select-variant="none" data-view-component="true">
  <focus-group direction="vertical" mnemonics retain>
    <div data-view-component="true" class="Button-withTooltip">  <button id="global-create-menu-button" popovertarget="global-create-menu-overlay" aria-label="Create something new" aria-controls="global-create-menu-list" aria-haspopup="true" type="button" data-view-component="true" class="AppHeader-button Button--secondary Button--small Button width-auto color-fg-muted">    <span class="Button-content">
        <span class="Button-visual Button-leadingVisual">
          <svg aria-hidden="true" height="16" viewBox="0 0 16 16" version="1.1" width="16" data-view-component="true" class="octicon octicon-plus">
    <path d="M7.75 2a.75.75 0 0 1 .75.75V7h4.25a.75.75 0 0 1 0 1.5H8.5v4.25a.75.75 0 0 1-1.5 0V8.5H2.75a.75.75 0 0 1 0-1.5H7V2.75A.75.75 0 0 1 7.75 2Z"></path>
</svg>
        </span>
      <span class="Button-label"><svg aria-hidden="true" height="16" viewBox="0 0 16 16" version="1.1" width="16" data-view-component="true" class="octicon octicon-triangle-down">
    <path d="m4.427 7.427 3.396 3.396a.25.25 0 0 0 .354 0l3.396-3.396A.25.25 0 0 0 11.396 7H4.604a.25.25 0 0 0-.177.427Z"></path>
</svg></span>
    </span>
</button>  <tool-tip id="tooltip-62351bf2-eb51-4c01-8fed-cb2aee10d597" for="global-create-menu-button" popover="manual" data-direction="s" data-type="description" data-view-component="true" class="sr-only position-absolute">Create new...</tool-tip>
</div>

<anchored-position id="global-create-menu-overlay" anchor="global-create-menu-button" align="end" side="outside-bottom" anchor-offset="normal" popover="auto" data-view-component="true">
  <div data-view-component="true" class="Overlay Overlay--size-auto">
    
      
        <div data-view-component="true">
  <ul aria-labelledby="global-create-menu-button" id="global-create-menu-list" role="menu" data-view-component="true" class="ActionListWrap--inset ActionListWrap">
      <li data-analytics-event="{&quot;category&quot;:&quot;SiteHeaderComponent&quot;,&quot;action&quot;:&quot;add_dropdown&quot;,&quot;label&quot;:&quot;new repository&quot;}" data-targets="action-list.items" role="none" data-view-component="true" class="ActionListItem">
    
    <a href="/new" tabindex="-1" id="item-4406bac4-d518-4406-8398-cbb74fe8deb4" role="menuitem" data-view-component="true" class="ActionListContent ActionListContent--visual16">
        <span class="ActionListItem-visual ActionListItem-visual--leading">
          <svg aria-hidden="true" height="16" viewBox="0 0 16 16" version="1.1" width="16" data-view-component="true" class="octicon octicon-repo">
    <path d="M2 2.5A2.5 2.5 0 0 1 4.5 0h8.75a.75.75 0 0 1 .75.75v12.5a.75.75 0 0 1-.75.75h-2.5a.75.75 0 0 1 0-1.5h1.75v-2h-8a1 1 0 0 0-.714 1.7.75.75 0 1 1-1.072 1.05A2.495 2.495 0 0 1 2 11.5Zm10.5-1h-8a1 1 0 0 0-1 1v6.708A2.486 2.486 0 0 1 4.5 9h8ZM5 12.25a.25.25 0 0 1 .25-.25h3.5a.25.25 0 0 1 .25.25v3.25a.25.25 0 0 1-.4.2l-1.45-1.087a.249.249 0 0 0-.3 0L5.4 15.7a.25.25 0 0 1-.4-.2Z"></path>
</svg>
        </span>
      
        <span data-view-component="true" class="ActionListItem-label">
              New repository

</span></a>
  
  
</li>
      <li data-analytics-event="{&quot;category&quot;:&quot;SiteHeaderComponent&quot;,&quot;action&quot;:&quot;add_dropdown&quot;,&quot;label&quot;:&quot;import repository&quot;}" data-targets="action-list.items" role="none" data-view-component="true" class="ActionListItem">
    
    <a href="/new/import" tabindex="-1" id="item-f720cf95-2860-45b8-911b-eacff693df61" role="menuitem" data-view-component="true" class="ActionListContent ActionListContent--visual16">
        <span class="ActionListItem-visual ActionListItem-visual--leading">
          <svg aria-hidden="true" height="16" viewBox="0 0 16 16" version="1.1" width="16" data-view-component="true" class="octicon octicon-repo-push">
    <path d="M1 2.5A2.5 2.5 0 0 1 3.5 0h8.75a.75.75 0 0 1 .75.75v3.5a.75.75 0 0 1-1.5 0V1.5h-8a1 1 0 0 0-1 1v6.708A2.493 2.493 0 0 1 3.5 9h3.25a.75.75 0 0 1 0 1.5H3.5a1 1 0 0 0 0 2h5.75a.75.75 0 0 1 0 1.5H3.5A2.5 2.5 0 0 1 1 11.5Zm13.23 7.79h-.001l-1.224-1.224v6.184a.75.75 0 0 1-1.5 0V9.066L10.28 10.29a.75.75 0 0 1-1.06-1.061l2.505-2.504a.75.75 0 0 1 1.06 0L15.29 9.23a.751.751 0 0 1-.018 1.042.751.751 0 0 1-1.042.018Z"></path>
</svg>
        </span>
      
        <span data-view-component="true" class="ActionListItem-label">
                Import repository

</span></a>
  
  
</li>
      <li role="presentation" aria-hidden="true" data-view-component="true" class="ActionList-sectionDivider"></li>
      <li data-analytics-event="{&quot;category&quot;:&quot;SiteHeaderComponent&quot;,&quot;action&quot;:&quot;add_dropdown&quot;,&quot;label&quot;:&quot;new codespace&quot;}" data-targets="action-list.items" role="none" data-view-component="true" class="ActionListItem">
    
    <a href="/codespaces/new" tabindex="-1" id="item-dae4f5be-9926-44ca-a6d0-f17bcd695b7f" role="menuitem" data-view-component="true" class="ActionListContent ActionListContent--visual16">
        <span class="ActionListItem-visual ActionListItem-visual--leading">
          <svg aria-hidden="true" height="16" viewBox="0 0 16 16" version="1.1" width="16" data-view-component="true" class="octicon octicon-codespaces">
    <path d="M0 11.25c0-.966.784-1.75 1.75-1.75h12.5c.966 0 1.75.784 1.75 1.75v3A1.75 1.75 0 0 1 14.25 16H1.75A1.75 1.75 0 0 1 0 14.25Zm2-9.5C2 .784 2.784 0 3.75 0h8.5C13.216 0 14 .784 14 1.75v5a1.75 1.75 0 0 1-1.75 1.75h-8.5A1.75 1.75 0 0 1 2 6.75Zm1.75-.25a.25.25 0 0 0-.25.25v5c0 .138.112.25.25.25h8.5a.25.25 0 0 0 .25-.25v-5a.25.25 0 0 0-.25-.25Zm-2 9.5a.25.25 0 0 0-.25.25v3c0 .138.112.25.25.25h12.5a.25.25 0 0 0 .25-.25v-3a.25.25 0 0 0-.25-.25Z"></path><path d="M7 12.75a.75.75 0 0 1 .75-.75h4.5a.75.75 0 0 1 0 1.5h-4.5a.75.75 0 0 1-.75-.75Zm-4 0a.75.75 0 0 1 .75-.75h.5a.75.75 0 0 1 0 1.5h-.5a.75.75 0 0 1-.75-.75Z"></path>
</svg>
        </span>
      
        <span data-view-component="true" class="ActionListItem-label">
                New codespace

</span></a>
  
  
</li>
      <li data-analytics-event="{&quot;category&quot;:&quot;SiteHeaderComponent&quot;,&quot;action&quot;:&quot;add_dropdown&quot;,&quot;label&quot;:&quot;new gist&quot;}" data-targets="action-list.items" role="none" data-view-component="true" class="ActionListItem">
    
    <a href="https://gist.github.com/" tabindex="-1" id="item-9ff33d71-d6bd-4a3d-b102-83d8697e5980" role="menuitem" data-view-component="true" class="ActionListContent ActionListContent--visual16">
        <span class="ActionListItem-visual ActionListItem-visual--leading">
          <svg aria-hidden="true" height="16" viewBox="0 0 16 16" version="1.1" width="16" data-view-component="true" class="octicon octicon-code">
    <path d="m11.28 3.22 4.25 4.25a.75.75 0 0 1 0 1.06l-4.25 4.25a.749.749 0 0 1-1.275-.326.749.749 0 0 1 .215-.734L13.94 8l-3.72-3.72a.749.749 0 0 1 .326-1.275.749.749 0 0 1 .734.215Zm-6.56 0a.751.751 0 0 1 1.042.018.751.751 0 0 1 .018 1.042L2.06 8l3.72 3.72a.749.749 0 0 1-.326 1.275.749.749 0 0 1-.734-.215L.47 8.53a.75.75 0 0 1 0-1.06Z"></path>
</svg>
        </span>
      
        <span data-view-component="true" class="ActionListItem-label">
                New gist

</span></a>
  
  
</li>
      <li role="presentation" aria-hidden="true" data-view-component="true" class="ActionList-sectionDivider"></li>
      <li data-targets="action-list.items" role="none" data-view-component="true" class="ActionListItem">
    
    <a href="/account/organizations/new" tabindex="-1" data-dont-follow-via-test="true" data-analytics-event="{&quot;category&quot;:&quot;SiteHeaderComponent&quot;,&quot;action&quot;:&quot;add_dropdown&quot;,&quot;label&quot;:&quot;new organization&quot;}" id="item-4c986749-c0dd-4ece-a143-44fd09c12a49" role="menuitem" data-view-component="true" class="ActionListContent ActionListContent--visual16">
        <span class="ActionListItem-visual ActionListItem-visual--leading">
          <svg aria-hidden="true" height="16" viewBox="0 0 16 16" version="1.1" width="16" data-view-component="true" class="octicon octicon-organization">
    <path d="M1.75 16A1.75 1.75 0 0 1 0 14.25V1.75C0 .784.784 0 1.75 0h8.5C11.216 0 12 .784 12 1.75v12.5c0 .085-.006.168-.018.25h2.268a.25.25 0 0 0 .25-.25V8.285a.25.25 0 0 0-.111-.208l-1.055-.703a.749.749 0 1 1 .832-1.248l1.055.703c.487.325.779.871.779 1.456v5.965A1.75 1.75 0 0 1 14.25 16h-3.5a.766.766 0 0 1-.197-.026c-.099.017-.2.026-.303.026h-3a.75.75 0 0 1-.75-.75V14h-1v1.25a.75.75 0 0 1-.75.75Zm-.25-1.75c0 .138.112.25.25.25H4v-1.25a.75.75 0 0 1 .75-.75h2.5a.75.75 0 0 1 .75.75v1.25h2.25a.25.25 0 0 0 .25-.25V1.75a.25.25 0 0 0-.25-.25h-8.5a.25.25 0 0 0-.25.25ZM3.75 6h.5a.75.75 0 0 1 0 1.5h-.5a.75.75 0 0 1 0-1.5ZM3 3.75A.75.75 0 0 1 3.75 3h.5a.75.75 0 0 1 0 1.5h-.5A.75.75 0 0 1 3 3.75Zm4 3A.75.75 0 0 1 7.75 6h.5a.75.75 0 0 1 0 1.5h-.5A.75.75 0 0 1 7 6.75ZM7.75 3h.5a.75.75 0 0 1 0 1.5h-.5a.75.75 0 0 1 0-1.5ZM3 9.75A.75.75 0 0 1 3.75 9h.5a.75.75 0 0 1 0 1.5h-.5A.75.75 0 0 1 3 9.75ZM7.75 9h.5a.75.75 0 0 1 0 1.5h-.5a.75.75 0 0 1 0-1.5Z"></path>
</svg>
        </span>
      
        <span data-view-component="true" class="ActionListItem-label">
                New organization

</span></a>
  
  
</li>
</ul>  
</div>

</div></anchored-position>  </focus-group>
</action-menu>

          <div data-view-component="true" class="Button-withTooltip">
  <a href="/issues" data-analytics-event="{&quot;category&quot;:&quot;Global navigation&quot;,&quot;action&quot;:&quot;ISSUES_HEADER&quot;,&quot;label&quot;:null}" id="icon-button-f93eae01-87bd-4bef-bea8-febe2a450e90" aria-labelledby="tooltip-eeb49e51-843b-4301-b38e-26538eabe88f" data-view-component="true" class="Button Button--iconOnly Button--secondary Button--medium AppHeader-button color-fg-muted">    <svg aria-hidden="true" height="16" viewBox="0 0 16 16" version="1.1" width="16" data-view-component="true" class="octicon octicon-issue-opened Button-visual">
    <path d="M8 9.5a1.5 1.5 0 1 0 0-3 1.5 1.5 0 0 0 0 3Z"></path><path d="M8 0a8 8 0 1 1 0 16A8 8 0 0 1 8 0ZM1.5 8a6.5 6.5 0 1 0 13 0 6.5 6.5 0 0 0-13 0Z"></path>
</svg>
</a>  <tool-tip id="tooltip-eeb49e51-843b-4301-b38e-26538eabe88f" for="icon-button-f93eae01-87bd-4bef-bea8-febe2a450e90" popover="manual" data-direction="s" data-type="label" data-view-component="true" class="sr-only position-absolute">Issues</tool-tip>
</div>
          <div data-view-component="true" class="Button-withTooltip">
  <a href="/pulls" data-analytics-event="{&quot;category&quot;:&quot;Global navigation&quot;,&quot;action&quot;:&quot;PULL_REQUESTS_HEADER&quot;,&quot;label&quot;:null}" id="icon-button-cccced30-6f8f-4c55-888a-475be8acdd5b" aria-labelledby="tooltip-c4ce3da6-173f-4672-a01b-79e8b14a6cb7" data-view-component="true" class="Button Button--iconOnly Button--secondary Button--medium AppHeader-button color-fg-muted">    <svg aria-hidden="true" height="16" viewBox="0 0 16 16" version="1.1" width="16" data-view-component="true" class="octicon octicon-git-pull-request Button-visual">
    <path d="M1.5 3.25a2.25 2.25 0 1 1 3 2.122v5.256a2.251 2.251 0 1 1-1.5 0V5.372A2.25 2.25 0 0 1 1.5 3.25Zm5.677-.177L9.573.677A.25.25 0 0 1 10 .854V2.5h1A2.5 2.5 0 0 1 13.5 5v5.628a2.251 2.251 0 1 1-1.5 0V5a1 1 0 0 0-1-1h-1v1.646a.25.25 0 0 1-.427.177L7.177 3.427a.25.25 0 0 1 0-.354ZM3.75 2.5a.75.75 0 1 0 0 1.5.75.75 0 0 0 0-1.5Zm0 9.5a.75.75 0 1 0 0 1.5.75.75 0 0 0 0-1.5Zm8.25.75a.75.75 0 1 0 1.5 0 .75.75 0 0 0-1.5 0Z"></path>
</svg>
</a>  <tool-tip id="tooltip-c4ce3da6-173f-4672-a01b-79e8b14a6cb7" for="icon-button-cccced30-6f8f-4c55-888a-475be8acdd5b" popover="manual" data-direction="s" data-type="label" data-view-component="true" class="sr-only position-absolute">Pull requests</tool-tip>
</div>

        </div>

        

<notification-indicator data-channel="eyJjIjoibm90aWZpY2F0aW9uLWNoYW5nZWQ6MTM4MzcwNDY4IiwidCI6MTY5OTU5NjY5Mn0=--529ff1bceae7549d752cf5655648a4f01cc45320edeaf9c08033d8795c87d10b" data-indicator-mode="none" data-tooltip-global="You have unread notifications" data-tooltip-unavailable="Notifications are unavailable at the moment." data-tooltip-none="You have no unread notifications" data-header-redesign-enabled="true" data-fetch-indicator-src="/notifications/indicator" data-fetch-indicator-enabled="true" data-view-component="true" class="js-socket-channel">
  <a id="AppHeader-notifications-button" href="/notifications"
    class="AppHeader-button Button--secondary"

    style="width:32px;height:32px;"

    data-hotkey="g n"
    data-target="notification-indicator.link"
    aria-label="Notifications"

      data-analytics-event="{&quot;category&quot;:&quot;SiteHeaderComponent&quot;,&quot;action&quot;:&quot;notifications&quot;,&quot;label&quot;:null}"
  >

    <span
      data-target="notification-indicator.badge"
      class="mail-status unread d-none" hidden>
    </span>

      <svg aria-hidden="true" height="16" viewBox="0 0 16 16" version="1.1" width="16" data-view-component="true" class="octicon octicon-inbox color-fg-muted mr-0">
    <path d="M2.8 2.06A1.75 1.75 0 0 1 4.41 1h7.18c.7 0 1.333.417 1.61 1.06l2.74 6.395c.04.093.06.194.06.295v4.5A1.75 1.75 0 0 1 14.25 15H1.75A1.75 1.75 0 0 1 0 13.25v-4.5c0-.101.02-.202.06-.295Zm1.61.44a.25.25 0 0 0-.23.152L1.887 8H4.75a.75.75 0 0 1 .6.3L6.625 10h2.75l1.275-1.7a.75.75 0 0 1 .6-.3h2.863L11.82 2.652a.25.25 0 0 0-.23-.152Zm10.09 7h-2.875l-1.275 1.7a.75.75 0 0 1-.6.3h-3.5a.75.75 0 0 1-.6-.3L4.375 9.5H1.5v3.75c0 .138.112.25.25.25h12.5a.25.25 0 0 0 .25-.25Z"></path>
</svg>
  </a>

    <tool-tip data-target="notification-indicator.tooltip" id="tooltip-77e62645-f9e4-4a9f-bd44-1043fbf5c4fb" for="AppHeader-notifications-button" popover="manual" data-direction="s" data-type="description" data-view-component="true" class="sr-only position-absolute">Notifications</tool-tip>
</notification-indicator>

        

        <div class="AppHeader-user">
          <deferred-side-panel data-url="/_side-panels/user?memex_enabled=true&amp;repository=tensorflow-deep-learning&amp;user=mail2maverick&amp;user_can_create_organizations=true&amp;user_id=138370468">
  <include-fragment data-target="deferred-side-panel.fragment">
      <user-drawer-side-panel>
      <button aria-label="Open user account menu" data-action="click:deferred-side-panel#loadPanel click:deferred-side-panel#panelOpened" data-show-dialog-id="dialog-e409c9ea-951c-4a06-800f-d39e09213645" id="dialog-show-dialog-e409c9ea-951c-4a06-800f-d39e09213645" type="button" data-view-component="true" class="AppHeader-logo Button--invisible Button--medium Button Button--invisible-noVisuals color-bg-transparent p-0">    <span class="Button-content">
      <span class="Button-label"><img src="https://avatars.githubusercontent.com/u/138370468?v=4" alt="" size="32" height="32" width="32" data-view-component="true" class="avatar circle" /></span>
    </span>
</button>  

<div class="Overlay--hidden Overlay-backdrop--side Overlay-backdrop--placement-right" data-modal-dialog-overlay>
  <modal-dialog data-target="deferred-side-panel.panel" role="dialog" id="dialog-e409c9ea-951c-4a06-800f-d39e09213645" aria-modal="true" aria-disabled="true" aria-labelledby="dialog-e409c9ea-951c-4a06-800f-d39e09213645-title" aria-describedby="dialog-e409c9ea-951c-4a06-800f-d39e09213645-description" data-view-component="true" class="Overlay Overlay-whenNarrow Overlay--size-small-portrait Overlay--motion-scaleFade SidePanel">
    <div styles="flex-direction: row;" data-view-component="true" class="Overlay-header">
  <div class="Overlay-headerContentWrap">
    <div class="Overlay-titleWrap">
      <h1 class="Overlay-title sr-only" id="dialog-e409c9ea-951c-4a06-800f-d39e09213645-title">
        Account menu
      </h1>
            <div data-view-component="true" class="d-flex">
      <div data-view-component="true" class="AppHeader-logo position-relative">
        <img src="https://avatars.githubusercontent.com/u/138370468?v=4" alt="" size="32" height="32" width="32" data-view-component="true" class="avatar circle" />
</div>        <div data-view-component="true" class="overflow-hidden d-flex width-full">        <div data-view-component="true" class="lh-condensed overflow-hidden d-flex flex-column flex-justify-center ml-2 f5 mr-auto width-full">
          <span data-view-component="true" class="Truncate text-bold">
    <span data-view-component="true" class="Truncate-text">
            mail2maverick
</span>
</span>          </div>
</div>
</div>
    </div>
    <div class="Overlay-actionWrap">
      <button data-close-dialog-id="dialog-e409c9ea-951c-4a06-800f-d39e09213645" aria-label="Close" type="button" data-view-component="true" class="close-button Overlay-closeButton"><svg aria-hidden="true" height="16" viewBox="0 0 16 16" version="1.1" width="16" data-view-component="true" class="octicon octicon-x">
    <path d="M3.72 3.72a.75.75 0 0 1 1.06 0L8 6.94l3.22-3.22a.749.749 0 0 1 1.275.326.749.749 0 0 1-.215.734L9.06 8l3.22 3.22a.749.749 0 0 1-.326 1.275.749.749 0 0 1-.734-.215L8 9.06l-3.22 3.22a.751.751 0 0 1-1.042-.018.751.751 0 0 1-.018-1.042L6.94 8 3.72 4.78a.75.75 0 0 1 0-1.06Z"></path>
</svg></button>
    </div>
  </div>
</div>
      <div data-view-component="true" class="Overlay-body d-flex flex-column px-2">    <div data-view-component="true" class="d-flex flex-column mb-3">
        <nav aria-label="User navigation" data-view-component="true" class="ActionList">
  
  <nav-list>
    <ul data-view-component="true" class="ActionListWrap">
        
          
<li data-item-id="" data-targets="nav-list.items" data-view-component="true" class="ActionListItem">
    
    <button id="item-3f55323b-1c33-4d3c-a40e-08431e2e714d" type="button" data-view-component="true" class="ActionListContent ActionListContent--visual16">
        <span class="ActionListItem-visual ActionListItem-visual--leading">
          <span data-view-component="true" class="d-flex flex-items-center">    <svg style="box-sizing: content-box; color: var(--color-icon-primary);" width="16" height="16" viewBox="0 0 16 16" fill="none" data-view-component="true" class="anim-rotate">
  <circle cx="8" cy="8" r="7" stroke="currentColor" stroke-opacity="0.25" stroke-width="2" vector-effect="non-scaling-stroke" fill="none" />
  <path d="M15 8a7.002 7.002 0 00-7-7" stroke="currentColor" stroke-width="2" stroke-linecap="round" vector-effect="non-scaling-stroke" />
</svg>
</span>
        </span>
      
        <span data-view-component="true" class="ActionListItem-label">
          

  <span class="color-fg-muted">
    Loading...
  </span>

</span></button>
  
  
</li>

        
          <li role="presentation" aria-hidden="true" data-view-component="true" class="ActionList-sectionDivider"></li>
        
          
<li data-item-id="" data-targets="nav-list.items" data-view-component="true" class="ActionListItem">
    
    <a data-analytics-event="{&quot;category&quot;:&quot;Global navigation&quot;,&quot;action&quot;:&quot;PROFILE&quot;,&quot;label&quot;:null}" id="item-85a6a091-3907-48a3-851c-bd7fe6f822b0" href="https://github.com/mail2maverick" data-view-component="true" class="ActionListContent ActionListContent--visual16">
        <span class="ActionListItem-visual ActionListItem-visual--leading">
          <svg aria-hidden="true" height="16" viewBox="0 0 16 16" version="1.1" width="16" data-view-component="true" class="octicon octicon-person">
    <path d="M10.561 8.073a6.005 6.005 0 0 1 3.432 5.142.75.75 0 1 1-1.498.07 4.5 4.5 0 0 0-8.99 0 .75.75 0 0 1-1.498-.07 6.004 6.004 0 0 1 3.431-5.142 3.999 3.999 0 1 1 5.123 0ZM10.5 5a2.5 2.5 0 1 0-5 0 2.5 2.5 0 0 0 5 0Z"></path>
</svg>
        </span>
      
        <span data-view-component="true" class="ActionListItem-label">
          Your profile
</span></a>
  
  
</li>

        
          
<li data-item-id="" data-targets="nav-list.items" data-view-component="true" class="ActionListItem">
    
    <button id="item-8f03edab-2788-4a4f-ac8c-bc8de0363492" type="button" data-view-component="true" class="ActionListContent ActionListContent--visual16">
        <span class="ActionListItem-visual ActionListItem-visual--leading">
          <span data-view-component="true" class="d-flex flex-items-center">    <svg style="box-sizing: content-box; color: var(--color-icon-primary);" width="16" height="16" viewBox="0 0 16 16" fill="none" data-view-component="true" class="anim-rotate">
  <circle cx="8" cy="8" r="7" stroke="currentColor" stroke-opacity="0.25" stroke-width="2" vector-effect="non-scaling-stroke" fill="none" />
  <path d="M15 8a7.002 7.002 0 00-7-7" stroke="currentColor" stroke-width="2" stroke-linecap="round" vector-effect="non-scaling-stroke" />
</svg>
</span>
        </span>
      
        <span data-view-component="true" class="ActionListItem-label">
          

  <span class="color-fg-muted">
    Loading...
  </span>

</span></button>
  
  
</li>

        
          <li role="presentation" aria-hidden="true" data-view-component="true" class="ActionList-sectionDivider"></li>
        
          
<li data-item-id="" data-targets="nav-list.items" data-view-component="true" class="ActionListItem">
    
    <a data-analytics-event="{&quot;category&quot;:&quot;Global navigation&quot;,&quot;action&quot;:&quot;YOUR_REPOSITORIES&quot;,&quot;label&quot;:null}" id="item-29e9390c-48f8-4634-9155-163a5291ae79" href="/mail2maverick?tab=repositories" data-view-component="true" class="ActionListContent ActionListContent--visual16">
        <span class="ActionListItem-visual ActionListItem-visual--leading">
          <svg aria-hidden="true" height="16" viewBox="0 0 16 16" version="1.1" width="16" data-view-component="true" class="octicon octicon-repo">
    <path d="M2 2.5A2.5 2.5 0 0 1 4.5 0h8.75a.75.75 0 0 1 .75.75v12.5a.75.75 0 0 1-.75.75h-2.5a.75.75 0 0 1 0-1.5h1.75v-2h-8a1 1 0 0 0-.714 1.7.75.75 0 1 1-1.072 1.05A2.495 2.495 0 0 1 2 11.5Zm10.5-1h-8a1 1 0 0 0-1 1v6.708A2.486 2.486 0 0 1 4.5 9h8ZM5 12.25a.25.25 0 0 1 .25-.25h3.5a.25.25 0 0 1 .25.25v3.25a.25.25 0 0 1-.4.2l-1.45-1.087a.249.249 0 0 0-.3 0L5.4 15.7a.25.25 0 0 1-.4-.2Z"></path>
</svg>
        </span>
      
        <span data-view-component="true" class="ActionListItem-label">
          Your repositories
</span></a>
  
  
</li>

        
          
<li data-item-id="" data-targets="nav-list.items" data-view-component="true" class="ActionListItem">
    
    <a data-analytics-event="{&quot;category&quot;:&quot;Global navigation&quot;,&quot;action&quot;:&quot;YOUR_PROJECTS&quot;,&quot;label&quot;:null}" id="item-42268d14-d685-4b2f-9109-365b6298122c" href="/mail2maverick?tab=projects" data-view-component="true" class="ActionListContent ActionListContent--visual16">
        <span class="ActionListItem-visual ActionListItem-visual--leading">
          <svg aria-hidden="true" height="16" viewBox="0 0 16 16" version="1.1" width="16" data-view-component="true" class="octicon octicon-project">
    <path d="M1.75 0h12.5C15.216 0 16 .784 16 1.75v12.5A1.75 1.75 0 0 1 14.25 16H1.75A1.75 1.75 0 0 1 0 14.25V1.75C0 .784.784 0 1.75 0ZM1.5 1.75v12.5c0 .138.112.25.25.25h12.5a.25.25 0 0 0 .25-.25V1.75a.25.25 0 0 0-.25-.25H1.75a.25.25 0 0 0-.25.25ZM11.75 3a.75.75 0 0 1 .75.75v7.5a.75.75 0 0 1-1.5 0v-7.5a.75.75 0 0 1 .75-.75Zm-8.25.75a.75.75 0 0 1 1.5 0v5.5a.75.75 0 0 1-1.5 0ZM8 3a.75.75 0 0 1 .75.75v3.5a.75.75 0 0 1-1.5 0v-3.5A.75.75 0 0 1 8 3Z"></path>
</svg>
        </span>
      
        <span data-view-component="true" class="ActionListItem-label">
          Your projects
</span></a>
  
  
</li>

        
          
<li data-item-id="" data-targets="nav-list.items" data-view-component="true" class="ActionListItem">
    
    <button id="item-f8321578-de8c-4a59-af8b-2fc1cc2a9a80" type="button" data-view-component="true" class="ActionListContent ActionListContent--visual16">
        <span class="ActionListItem-visual ActionListItem-visual--leading">
          <span data-view-component="true" class="d-flex flex-items-center">    <svg style="box-sizing: content-box; color: var(--color-icon-primary);" width="16" height="16" viewBox="0 0 16 16" fill="none" data-view-component="true" class="anim-rotate">
  <circle cx="8" cy="8" r="7" stroke="currentColor" stroke-opacity="0.25" stroke-width="2" vector-effect="non-scaling-stroke" fill="none" />
  <path d="M15 8a7.002 7.002 0 00-7-7" stroke="currentColor" stroke-width="2" stroke-linecap="round" vector-effect="non-scaling-stroke" />
</svg>
</span>
        </span>
      
        <span data-view-component="true" class="ActionListItem-label">
          

  <span class="color-fg-muted">
    Loading...
  </span>

</span></button>
  
  
</li>

        
          
<li data-item-id="" data-targets="nav-list.items" data-view-component="true" class="ActionListItem">
    
    <a data-analytics-event="{&quot;category&quot;:&quot;Global navigation&quot;,&quot;action&quot;:&quot;YOUR_STARS&quot;,&quot;label&quot;:null}" id="item-6762da2c-4671-4950-b51b-ce7c10a195e3" href="/mail2maverick?tab=stars" data-view-component="true" class="ActionListContent ActionListContent--visual16">
        <span class="ActionListItem-visual ActionListItem-visual--leading">
          <svg aria-hidden="true" height="16" viewBox="0 0 16 16" version="1.1" width="16" data-view-component="true" class="octicon octicon-star">
    <path d="M8 .25a.75.75 0 0 1 .673.418l1.882 3.815 4.21.612a.75.75 0 0 1 .416 1.279l-3.046 2.97.719 4.192a.751.751 0 0 1-1.088.791L8 12.347l-3.766 1.98a.75.75 0 0 1-1.088-.79l.72-4.194L.818 6.374a.75.75 0 0 1 .416-1.28l4.21-.611L7.327.668A.75.75 0 0 1 8 .25Zm0 2.445L6.615 5.5a.75.75 0 0 1-.564.41l-3.097.45 2.24 2.184a.75.75 0 0 1 .216.664l-.528 3.084 2.769-1.456a.75.75 0 0 1 .698 0l2.77 1.456-.53-3.084a.75.75 0 0 1 .216-.664l2.24-2.183-3.096-.45a.75.75 0 0 1-.564-.41L8 2.694Z"></path>
</svg>
        </span>
      
        <span data-view-component="true" class="ActionListItem-label">
          Your stars
</span></a>
  
  
</li>

        
          
<li data-item-id="" data-targets="nav-list.items" data-view-component="true" class="ActionListItem">
    
    <a data-analytics-event="{&quot;category&quot;:&quot;Global navigation&quot;,&quot;action&quot;:&quot;SPONSORS&quot;,&quot;label&quot;:null}" id="item-ecfebcc0-ffee-486f-8c74-cdea90b655d9" href="/sponsors/accounts" data-view-component="true" class="ActionListContent ActionListContent--visual16">
        <span class="ActionListItem-visual ActionListItem-visual--leading">
          <svg aria-hidden="true" height="16" viewBox="0 0 16 16" version="1.1" width="16" data-view-component="true" class="octicon octicon-heart">
    <path d="m8 14.25.345.666a.75.75 0 0 1-.69 0l-.008-.004-.018-.01a7.152 7.152 0 0 1-.31-.17 22.055 22.055 0 0 1-3.434-2.414C2.045 10.731 0 8.35 0 5.5 0 2.836 2.086 1 4.25 1 5.797 1 7.153 1.802 8 3.02 8.847 1.802 10.203 1 11.75 1 13.914 1 16 2.836 16 5.5c0 2.85-2.045 5.231-3.885 6.818a22.066 22.066 0 0 1-3.744 2.584l-.018.01-.006.003h-.002ZM4.25 2.5c-1.336 0-2.75 1.164-2.75 3 0 2.15 1.58 4.144 3.365 5.682A20.58 20.58 0 0 0 8 13.393a20.58 20.58 0 0 0 3.135-2.211C12.92 9.644 14.5 7.65 14.5 5.5c0-1.836-1.414-3-2.75-3-1.373 0-2.609.986-3.029 2.456a.749.749 0 0 1-1.442 0C6.859 3.486 5.623 2.5 4.25 2.5Z"></path>
</svg>
        </span>
      
        <span data-view-component="true" class="ActionListItem-label">
          Your sponsors
</span></a>
  
  
</li>

        
          
<li data-item-id="" data-targets="nav-list.items" data-view-component="true" class="ActionListItem">
    
    <a data-analytics-event="{&quot;category&quot;:&quot;Global navigation&quot;,&quot;action&quot;:&quot;YOUR_GISTS&quot;,&quot;label&quot;:null}" id="item-24e757aa-8f23-478b-8a29-3b026e73f04b" href="https://gist.github.com/mine" data-view-component="true" class="ActionListContent ActionListContent--visual16">
        <span class="ActionListItem-visual ActionListItem-visual--leading">
          <svg aria-hidden="true" height="16" viewBox="0 0 16 16" version="1.1" width="16" data-view-component="true" class="octicon octicon-code-square">
    <path d="M0 1.75C0 .784.784 0 1.75 0h12.5C15.216 0 16 .784 16 1.75v12.5A1.75 1.75 0 0 1 14.25 16H1.75A1.75 1.75 0 0 1 0 14.25Zm1.75-.25a.25.25 0 0 0-.25.25v12.5c0 .138.112.25.25.25h12.5a.25.25 0 0 0 .25-.25V1.75a.25.25 0 0 0-.25-.25Zm7.47 3.97a.75.75 0 0 1 1.06 0l2 2a.75.75 0 0 1 0 1.06l-2 2a.749.749 0 0 1-1.275-.326.749.749 0 0 1 .215-.734L10.69 8 9.22 6.53a.75.75 0 0 1 0-1.06ZM6.78 6.53 5.31 8l1.47 1.47a.749.749 0 0 1-.326 1.275.749.749 0 0 1-.734-.215l-2-2a.75.75 0 0 1 0-1.06l2-2a.751.751 0 0 1 1.042.018.751.751 0 0 1 .018 1.042Z"></path>
</svg>
        </span>
      
        <span data-view-component="true" class="ActionListItem-label">
          Your gists
</span></a>
  
  
</li>

        
          <li role="presentation" aria-hidden="true" data-view-component="true" class="ActionList-sectionDivider"></li>
        
          
<li data-item-id="" data-targets="nav-list.items" data-view-component="true" class="ActionListItem">
    
    <button id="item-87084f1b-1b19-49a0-b26b-5f37a7c7ad01" type="button" data-view-component="true" class="ActionListContent ActionListContent--visual16">
        <span class="ActionListItem-visual ActionListItem-visual--leading">
          <span data-view-component="true" class="d-flex flex-items-center">    <svg style="box-sizing: content-box; color: var(--color-icon-primary);" width="16" height="16" viewBox="0 0 16 16" fill="none" data-view-component="true" class="anim-rotate">
  <circle cx="8" cy="8" r="7" stroke="currentColor" stroke-opacity="0.25" stroke-width="2" vector-effect="non-scaling-stroke" fill="none" />
  <path d="M15 8a7.002 7.002 0 00-7-7" stroke="currentColor" stroke-width="2" stroke-linecap="round" vector-effect="non-scaling-stroke" />
</svg>
</span>
        </span>
      
        <span data-view-component="true" class="ActionListItem-label">
          

  <span class="color-fg-muted">
    Loading...
  </span>

</span></button>
  
  
</li>

        
          
<li data-item-id="" data-targets="nav-list.items" data-view-component="true" class="ActionListItem">
    
    <button id="item-3eb59600-0280-4485-b8ee-03f9d919d75f" type="button" data-view-component="true" class="ActionListContent ActionListContent--visual16">
        <span class="ActionListItem-visual ActionListItem-visual--leading">
          <span data-view-component="true" class="d-flex flex-items-center">    <svg style="box-sizing: content-box; color: var(--color-icon-primary);" width="16" height="16" viewBox="0 0 16 16" fill="none" data-view-component="true" class="anim-rotate">
  <circle cx="8" cy="8" r="7" stroke="currentColor" stroke-opacity="0.25" stroke-width="2" vector-effect="non-scaling-stroke" fill="none" />
  <path d="M15 8a7.002 7.002 0 00-7-7" stroke="currentColor" stroke-width="2" stroke-linecap="round" vector-effect="non-scaling-stroke" />
</svg>
</span>
        </span>
      
        <span data-view-component="true" class="ActionListItem-label">
          

  <span class="color-fg-muted">
    Loading...
  </span>

</span></button>
  
  
</li>

        
          
<li data-item-id="" data-targets="nav-list.items" data-view-component="true" class="ActionListItem">
    
    <button id="item-7993313f-a5ef-412b-9344-4d8222c7b7e6" type="button" data-view-component="true" class="ActionListContent ActionListContent--visual16">
        <span class="ActionListItem-visual ActionListItem-visual--leading">
          <span data-view-component="true" class="d-flex flex-items-center">    <svg style="box-sizing: content-box; color: var(--color-icon-primary);" width="16" height="16" viewBox="0 0 16 16" fill="none" data-view-component="true" class="anim-rotate">
  <circle cx="8" cy="8" r="7" stroke="currentColor" stroke-opacity="0.25" stroke-width="2" vector-effect="non-scaling-stroke" fill="none" />
  <path d="M15 8a7.002 7.002 0 00-7-7" stroke="currentColor" stroke-width="2" stroke-linecap="round" vector-effect="non-scaling-stroke" />
</svg>
</span>
        </span>
      
        <span data-view-component="true" class="ActionListItem-label">
          

  <span class="color-fg-muted">
    Loading...
  </span>

</span></button>
  
  
</li>

        
          
<li data-item-id="" data-targets="nav-list.items" data-view-component="true" class="ActionListItem">
    
    <a data-analytics-event="{&quot;category&quot;:&quot;Global navigation&quot;,&quot;action&quot;:&quot;SETTINGS&quot;,&quot;label&quot;:null}" id="item-e11f954f-61ce-402e-8fc7-2f45c457783d" href="/settings/profile" data-view-component="true" class="ActionListContent ActionListContent--visual16">
        <span class="ActionListItem-visual ActionListItem-visual--leading">
          <svg aria-hidden="true" height="16" viewBox="0 0 16 16" version="1.1" width="16" data-view-component="true" class="octicon octicon-gear">
    <path d="M8 0a8.2 8.2 0 0 1 .701.031C9.444.095 9.99.645 10.16 1.29l.288 1.107c.018.066.079.158.212.224.231.114.454.243.668.386.123.082.233.09.299.071l1.103-.303c.644-.176 1.392.021 1.82.63.27.385.506.792.704 1.218.315.675.111 1.422-.364 1.891l-.814.806c-.049.048-.098.147-.088.294.016.257.016.515 0 .772-.01.147.038.246.088.294l.814.806c.475.469.679 1.216.364 1.891a7.977 7.977 0 0 1-.704 1.217c-.428.61-1.176.807-1.82.63l-1.102-.302c-.067-.019-.177-.011-.3.071a5.909 5.909 0 0 1-.668.386c-.133.066-.194.158-.211.224l-.29 1.106c-.168.646-.715 1.196-1.458 1.26a8.006 8.006 0 0 1-1.402 0c-.743-.064-1.289-.614-1.458-1.26l-.289-1.106c-.018-.066-.079-.158-.212-.224a5.738 5.738 0 0 1-.668-.386c-.123-.082-.233-.09-.299-.071l-1.103.303c-.644.176-1.392-.021-1.82-.63a8.12 8.12 0 0 1-.704-1.218c-.315-.675-.111-1.422.363-1.891l.815-.806c.05-.048.098-.147.088-.294a6.214 6.214 0 0 1 0-.772c.01-.147-.038-.246-.088-.294l-.815-.806C.635 6.045.431 5.298.746 4.623a7.92 7.92 0 0 1 .704-1.217c.428-.61 1.176-.807 1.82-.63l1.102.302c.067.019.177.011.3-.071.214-.143.437-.272.668-.386.133-.066.194-.158.211-.224l.29-1.106C6.009.645 6.556.095 7.299.03 7.53.01 7.764 0 8 0Zm-.571 1.525c-.036.003-.108.036-.137.146l-.289 1.105c-.147.561-.549.967-.998 1.189-.173.086-.34.183-.5.29-.417.278-.97.423-1.529.27l-1.103-.303c-.109-.03-.175.016-.195.045-.22.312-.412.644-.573.99-.014.031-.021.11.059.19l.815.806c.411.406.562.957.53 1.456a4.709 4.709 0 0 0 0 .582c.032.499-.119 1.05-.53 1.456l-.815.806c-.081.08-.073.159-.059.19.162.346.353.677.573.989.02.03.085.076.195.046l1.102-.303c.56-.153 1.113-.008 1.53.27.161.107.328.204.501.29.447.222.85.629.997 1.189l.289 1.105c.029.109.101.143.137.146a6.6 6.6 0 0 0 1.142 0c.036-.003.108-.036.137-.146l.289-1.105c.147-.561.549-.967.998-1.189.173-.086.34-.183.5-.29.417-.278.97-.423 1.529-.27l1.103.303c.109.029.175-.016.195-.045.22-.313.411-.644.573-.99.014-.031.021-.11-.059-.19l-.815-.806c-.411-.406-.562-.957-.53-1.456a4.709 4.709 0 0 0 0-.582c-.032-.499.119-1.05.53-1.456l.815-.806c.081-.08.073-.159.059-.19a6.464 6.464 0 0 0-.573-.989c-.02-.03-.085-.076-.195-.046l-1.102.303c-.56.153-1.113.008-1.53-.27a4.44 4.44 0 0 0-.501-.29c-.447-.222-.85-.629-.997-1.189l-.289-1.105c-.029-.11-.101-.143-.137-.146a6.6 6.6 0 0 0-1.142 0ZM11 8a3 3 0 1 1-6 0 3 3 0 0 1 6 0ZM9.5 8a1.5 1.5 0 1 0-3.001.001A1.5 1.5 0 0 0 9.5 8Z"></path>
</svg>
        </span>
      
        <span data-view-component="true" class="ActionListItem-label">
          Settings
</span></a>
  
  
</li>

        
          <li role="presentation" aria-hidden="true" data-view-component="true" class="ActionList-sectionDivider"></li>
        
          
<li data-item-id="" data-targets="nav-list.items" data-view-component="true" class="ActionListItem">
    
    <a data-analytics-event="{&quot;category&quot;:&quot;Global navigation&quot;,&quot;action&quot;:&quot;DOCS&quot;,&quot;label&quot;:null}" id="item-a31aa9d6-26c5-44a2-8df1-6fc4e8c90bb6" href="https://docs.github.com" data-view-component="true" class="ActionListContent ActionListContent--visual16">
        <span class="ActionListItem-visual ActionListItem-visual--leading">
          <svg aria-hidden="true" height="16" viewBox="0 0 16 16" version="1.1" width="16" data-view-component="true" class="octicon octicon-book">
    <path d="M0 1.75A.75.75 0 0 1 .75 1h4.253c1.227 0 2.317.59 3 1.501A3.743 3.743 0 0 1 11.006 1h4.245a.75.75 0 0 1 .75.75v10.5a.75.75 0 0 1-.75.75h-4.507a2.25 2.25 0 0 0-1.591.659l-.622.621a.75.75 0 0 1-1.06 0l-.622-.621A2.25 2.25 0 0 0 5.258 13H.75a.75.75 0 0 1-.75-.75Zm7.251 10.324.004-5.073-.002-2.253A2.25 2.25 0 0 0 5.003 2.5H1.5v9h3.757a3.75 3.75 0 0 1 1.994.574ZM8.755 4.75l-.004 7.322a3.752 3.752 0 0 1 1.992-.572H14.5v-9h-3.495a2.25 2.25 0 0 0-2.25 2.25Z"></path>
</svg>
        </span>
      
        <span data-view-component="true" class="ActionListItem-label">
          GitHub Docs
</span></a>
  
  
</li>

        
          
<li data-item-id="" data-targets="nav-list.items" data-view-component="true" class="ActionListItem">
    
    <a data-analytics-event="{&quot;category&quot;:&quot;Global navigation&quot;,&quot;action&quot;:&quot;SUPPORT&quot;,&quot;label&quot;:null}" id="item-dac6f25c-df48-4f2c-b06f-ccb21b7e74b0" href="https://support.github.com" data-view-component="true" class="ActionListContent ActionListContent--visual16">
        <span class="ActionListItem-visual ActionListItem-visual--leading">
          <svg aria-hidden="true" height="16" viewBox="0 0 16 16" version="1.1" width="16" data-view-component="true" class="octicon octicon-people">
    <path d="M2 5.5a3.5 3.5 0 1 1 5.898 2.549 5.508 5.508 0 0 1 3.034 4.084.75.75 0 1 1-1.482.235 4 4 0 0 0-7.9 0 .75.75 0 0 1-1.482-.236A5.507 5.507 0 0 1 3.102 8.05 3.493 3.493 0 0 1 2 5.5ZM11 4a3.001 3.001 0 0 1 2.22 5.018 5.01 5.01 0 0 1 2.56 3.012.749.749 0 0 1-.885.954.752.752 0 0 1-.549-.514 3.507 3.507 0 0 0-2.522-2.372.75.75 0 0 1-.574-.73v-.352a.75.75 0 0 1 .416-.672A1.5 1.5 0 0 0 11 5.5.75.75 0 0 1 11 4Zm-5.5-.5a2 2 0 1 0-.001 3.999A2 2 0 0 0 5.5 3.5Z"></path>
</svg>
        </span>
      
        <span data-view-component="true" class="ActionListItem-label">
          GitHub Support
</span></a>
  
  
</li>

        
          <li role="presentation" aria-hidden="true" data-view-component="true" class="ActionList-sectionDivider"></li>
        
          
<li data-item-id="" data-targets="nav-list.items" data-view-component="true" class="ActionListItem">
    
    <a data-analytics-event="{&quot;category&quot;:&quot;Global navigation&quot;,&quot;action&quot;:&quot;LOGOUT&quot;,&quot;label&quot;:null}" id="item-987c074c-1fb3-4404-8ff9-cbf77fb7e378" href="/logout" data-view-component="true" class="ActionListContent">
      
        <span data-view-component="true" class="ActionListItem-label">
          Sign out
</span></a>
  
  
</li>

</ul>  </nav-list>
</nav>


</div>
</div>
      
</modal-dialog></div>
  </user-drawer-side-panel>

  </include-fragment>
</deferred-side-panel>
          
        </div>

        <div class="position-absolute mt-2">
            
<site-header-logged-in-user-menu>

</site-header-logged-in-user-menu>

        </div>
      </div>
    </div>


      <div class="AppHeader-localBar" >
        <nav data-pjax="#js-repo-pjax-container" aria-label="Repository" data-view-component="true" class="js-repo-nav js-sidenav-container-pjax js-responsive-underlinenav overflow-hidden UnderlineNav">

  <ul data-view-component="true" class="UnderlineNav-body list-style-none">
      <li data-view-component="true" class="d-inline-flex">
  <a id="code-tab" href="/mrdbourke/tensorflow-deep-learning" data-tab-item="i0code-tab" data-selected-links="repo_source repo_downloads repo_commits repo_releases repo_tags repo_branches repo_packages repo_deployments repo_attestations /mrdbourke/tensorflow-deep-learning" data-pjax="#repo-content-pjax-container" data-turbo-frame="repo-content-turbo-frame" data-hotkey="g c" data-analytics-event="{&quot;category&quot;:&quot;Underline navbar&quot;,&quot;action&quot;:&quot;Click tab&quot;,&quot;label&quot;:&quot;Code&quot;,&quot;target&quot;:&quot;UNDERLINE_NAV.TAB&quot;}" data-view-component="true" class="UnderlineNav-item no-wrap js-responsive-underlinenav-item js-selected-navigation-item">
    
              <svg aria-hidden="true" height="16" viewBox="0 0 16 16" version="1.1" width="16" data-view-component="true" class="octicon octicon-code UnderlineNav-octicon d-none d-sm-inline">
    <path d="m11.28 3.22 4.25 4.25a.75.75 0 0 1 0 1.06l-4.25 4.25a.749.749 0 0 1-1.275-.326.749.749 0 0 1 .215-.734L13.94 8l-3.72-3.72a.749.749 0 0 1 .326-1.275.749.749 0 0 1 .734.215Zm-6.56 0a.751.751 0 0 1 1.042.018.751.751 0 0 1 .018 1.042L2.06 8l3.72 3.72a.749.749 0 0 1-.326 1.275.749.749 0 0 1-.734-.215L.47 8.53a.75.75 0 0 1 0-1.06Z"></path>
</svg>
        <span data-content="Code">Code</span>
          <span id="code-repo-tab-count" data-pjax-replace="" data-turbo-replace="" title="Not available" data-view-component="true" class="Counter"></span>


    
</a></li>
      <li data-view-component="true" class="d-inline-flex">
  <a id="issues-tab" href="/mrdbourke/tensorflow-deep-learning/issues" data-tab-item="i1issues-tab" data-selected-links="repo_issues repo_labels repo_milestones /mrdbourke/tensorflow-deep-learning/issues" data-pjax="#repo-content-pjax-container" data-turbo-frame="repo-content-turbo-frame" data-hotkey="g i" data-analytics-event="{&quot;category&quot;:&quot;Underline navbar&quot;,&quot;action&quot;:&quot;Click tab&quot;,&quot;label&quot;:&quot;Issues&quot;,&quot;target&quot;:&quot;UNDERLINE_NAV.TAB&quot;}" data-view-component="true" class="UnderlineNav-item no-wrap js-responsive-underlinenav-item js-selected-navigation-item">
    
              <svg aria-hidden="true" height="16" viewBox="0 0 16 16" version="1.1" width="16" data-view-component="true" class="octicon octicon-issue-opened UnderlineNav-octicon d-none d-sm-inline">
    <path d="M8 9.5a1.5 1.5 0 1 0 0-3 1.5 1.5 0 0 0 0 3Z"></path><path d="M8 0a8 8 0 1 1 0 16A8 8 0 0 1 8 0ZM1.5 8a6.5 6.5 0 1 0 13 0 6.5 6.5 0 0 0-13 0Z"></path>
</svg>
        <span data-content="Issues">Issues</span>
          <span id="issues-repo-tab-count" data-pjax-replace="" data-turbo-replace="" title="43" data-view-component="true" class="Counter">43</span>


    
</a></li>
      <li data-view-component="true" class="d-inline-flex">
  <a id="pull-requests-tab" href="/mrdbourke/tensorflow-deep-learning/pulls" data-tab-item="i2pull-requests-tab" data-selected-links="repo_pulls checks /mrdbourke/tensorflow-deep-learning/pulls" data-pjax="#repo-content-pjax-container" data-turbo-frame="repo-content-turbo-frame" data-hotkey="g p" data-analytics-event="{&quot;category&quot;:&quot;Underline navbar&quot;,&quot;action&quot;:&quot;Click tab&quot;,&quot;label&quot;:&quot;Pull requests&quot;,&quot;target&quot;:&quot;UNDERLINE_NAV.TAB&quot;}" data-view-component="true" class="UnderlineNav-item no-wrap js-responsive-underlinenav-item js-selected-navigation-item">
    
              <svg aria-hidden="true" height="16" viewBox="0 0 16 16" version="1.1" width="16" data-view-component="true" class="octicon octicon-git-pull-request UnderlineNav-octicon d-none d-sm-inline">
    <path d="M1.5 3.25a2.25 2.25 0 1 1 3 2.122v5.256a2.251 2.251 0 1 1-1.5 0V5.372A2.25 2.25 0 0 1 1.5 3.25Zm5.677-.177L9.573.677A.25.25 0 0 1 10 .854V2.5h1A2.5 2.5 0 0 1 13.5 5v5.628a2.251 2.251 0 1 1-1.5 0V5a1 1 0 0 0-1-1h-1v1.646a.25.25 0 0 1-.427.177L7.177 3.427a.25.25 0 0 1 0-.354ZM3.75 2.5a.75.75 0 1 0 0 1.5.75.75 0 0 0 0-1.5Zm0 9.5a.75.75 0 1 0 0 1.5.75.75 0 0 0 0-1.5Zm8.25.75a.75.75 0 1 0 1.5 0 .75.75 0 0 0-1.5 0Z"></path>
</svg>
        <span data-content="Pull requests">Pull requests</span>
          <span id="pull-requests-repo-tab-count" data-pjax-replace="" data-turbo-replace="" title="2" data-view-component="true" class="Counter">2</span>


    
</a></li>
      <li data-view-component="true" class="d-inline-flex">
  <a id="discussions-tab" href="/mrdbourke/tensorflow-deep-learning/discussions" data-tab-item="i3discussions-tab" data-selected-links="repo_discussions /mrdbourke/tensorflow-deep-learning/discussions" data-pjax="#repo-content-pjax-container" data-turbo-frame="repo-content-turbo-frame" data-hotkey="g g" data-analytics-event="{&quot;category&quot;:&quot;Underline navbar&quot;,&quot;action&quot;:&quot;Click tab&quot;,&quot;label&quot;:&quot;Discussions&quot;,&quot;target&quot;:&quot;UNDERLINE_NAV.TAB&quot;}" data-view-component="true" class="UnderlineNav-item no-wrap js-responsive-underlinenav-item js-selected-navigation-item">
    
              <svg aria-hidden="true" height="16" viewBox="0 0 16 16" version="1.1" width="16" data-view-component="true" class="octicon octicon-comment-discussion UnderlineNav-octicon d-none d-sm-inline">
    <path d="M1.75 1h8.5c.966 0 1.75.784 1.75 1.75v5.5A1.75 1.75 0 0 1 10.25 10H7.061l-2.574 2.573A1.458 1.458 0 0 1 2 11.543V10h-.25A1.75 1.75 0 0 1 0 8.25v-5.5C0 1.784.784 1 1.75 1ZM1.5 2.75v5.5c0 .138.112.25.25.25h1a.75.75 0 0 1 .75.75v2.19l2.72-2.72a.749.749 0 0 1 .53-.22h3.5a.25.25 0 0 0 .25-.25v-5.5a.25.25 0 0 0-.25-.25h-8.5a.25.25 0 0 0-.25.25Zm13 2a.25.25 0 0 0-.25-.25h-.5a.75.75 0 0 1 0-1.5h.5c.966 0 1.75.784 1.75 1.75v5.5A1.75 1.75 0 0 1 14.25 12H14v1.543a1.458 1.458 0 0 1-2.487 1.03L9.22 12.28a.749.749 0 0 1 .326-1.275.749.749 0 0 1 .734.215l2.22 2.22v-2.19a.75.75 0 0 1 .75-.75h1a.25.25 0 0 0 .25-.25Z"></path>
</svg>
        <span data-content="Discussions">Discussions</span>
          <span id="discussions-repo-tab-count" data-pjax-replace="" data-turbo-replace="" title="Not available" data-view-component="true" class="Counter"></span>


    
</a></li>
      <li data-view-component="true" class="d-inline-flex">
  <a id="actions-tab" href="/mrdbourke/tensorflow-deep-learning/actions" data-tab-item="i4actions-tab" data-selected-links="repo_actions /mrdbourke/tensorflow-deep-learning/actions" data-pjax="#repo-content-pjax-container" data-turbo-frame="repo-content-turbo-frame" data-hotkey="g a" data-analytics-event="{&quot;category&quot;:&quot;Underline navbar&quot;,&quot;action&quot;:&quot;Click tab&quot;,&quot;label&quot;:&quot;Actions&quot;,&quot;target&quot;:&quot;UNDERLINE_NAV.TAB&quot;}" data-view-component="true" class="UnderlineNav-item no-wrap js-responsive-underlinenav-item js-selected-navigation-item">
    
              <svg aria-hidden="true" height="16" viewBox="0 0 16 16" version="1.1" width="16" data-view-component="true" class="octicon octicon-play UnderlineNav-octicon d-none d-sm-inline">
    <path d="M8 0a8 8 0 1 1 0 16A8 8 0 0 1 8 0ZM1.5 8a6.5 6.5 0 1 0 13 0 6.5 6.5 0 0 0-13 0Zm4.879-2.773 4.264 2.559a.25.25 0 0 1 0 .428l-4.264 2.559A.25.25 0 0 1 6 10.559V5.442a.25.25 0 0 1 .379-.215Z"></path>
</svg>
        <span data-content="Actions">Actions</span>
          <span id="actions-repo-tab-count" data-pjax-replace="" data-turbo-replace="" title="Not available" data-view-component="true" class="Counter"></span>


    
</a></li>
      <li data-view-component="true" class="d-inline-flex">
  <a id="projects-tab" href="/mrdbourke/tensorflow-deep-learning/projects" data-tab-item="i5projects-tab" data-selected-links="repo_projects new_repo_project repo_project /mrdbourke/tensorflow-deep-learning/projects" data-pjax="#repo-content-pjax-container" data-turbo-frame="repo-content-turbo-frame" data-hotkey="g b" data-analytics-event="{&quot;category&quot;:&quot;Underline navbar&quot;,&quot;action&quot;:&quot;Click tab&quot;,&quot;label&quot;:&quot;Projects&quot;,&quot;target&quot;:&quot;UNDERLINE_NAV.TAB&quot;}" data-view-component="true" class="UnderlineNav-item no-wrap js-responsive-underlinenav-item js-selected-navigation-item">
    
              <svg aria-hidden="true" height="16" viewBox="0 0 16 16" version="1.1" width="16" data-view-component="true" class="octicon octicon-table UnderlineNav-octicon d-none d-sm-inline">
    <path d="M0 1.75C0 .784.784 0 1.75 0h12.5C15.216 0 16 .784 16 1.75v12.5A1.75 1.75 0 0 1 14.25 16H1.75A1.75 1.75 0 0 1 0 14.25ZM6.5 6.5v8h7.75a.25.25 0 0 0 .25-.25V6.5Zm8-1.5V1.75a.25.25 0 0 0-.25-.25H6.5V5Zm-13 1.5v7.75c0 .138.112.25.25.25H5v-8ZM5 5V1.5H1.75a.25.25 0 0 0-.25.25V5Z"></path>
</svg>
        <span data-content="Projects">Projects</span>
          <span id="projects-repo-tab-count" data-pjax-replace="" data-turbo-replace="" title="1" data-view-component="true" class="Counter">1</span>


    
</a></li>
      <li data-view-component="true" class="d-inline-flex">
  <a id="security-tab" href="/mrdbourke/tensorflow-deep-learning/security" data-tab-item="i6security-tab" data-selected-links="security overview alerts policy token_scanning code_scanning /mrdbourke/tensorflow-deep-learning/security" data-pjax="#repo-content-pjax-container" data-turbo-frame="repo-content-turbo-frame" data-hotkey="g s" data-analytics-event="{&quot;category&quot;:&quot;Underline navbar&quot;,&quot;action&quot;:&quot;Click tab&quot;,&quot;label&quot;:&quot;Security&quot;,&quot;target&quot;:&quot;UNDERLINE_NAV.TAB&quot;}" data-view-component="true" class="UnderlineNav-item no-wrap js-responsive-underlinenav-item js-selected-navigation-item">
    
              <svg aria-hidden="true" height="16" viewBox="0 0 16 16" version="1.1" width="16" data-view-component="true" class="octicon octicon-shield UnderlineNav-octicon d-none d-sm-inline">
    <path d="M7.467.133a1.748 1.748 0 0 1 1.066 0l5.25 1.68A1.75 1.75 0 0 1 15 3.48V7c0 1.566-.32 3.182-1.303 4.682-.983 1.498-2.585 2.813-5.032 3.855a1.697 1.697 0 0 1-1.33 0c-2.447-1.042-4.049-2.357-5.032-3.855C1.32 10.182 1 8.566 1 7V3.48a1.75 1.75 0 0 1 1.217-1.667Zm.61 1.429a.25.25 0 0 0-.153 0l-5.25 1.68a.25.25 0 0 0-.174.238V7c0 1.358.275 2.666 1.057 3.86.784 1.194 2.121 2.34 4.366 3.297a.196.196 0 0 0 .154 0c2.245-.956 3.582-2.104 4.366-3.298C13.225 9.666 13.5 8.36 13.5 7V3.48a.251.251 0 0 0-.174-.237l-5.25-1.68ZM8.75 4.75v3a.75.75 0 0 1-1.5 0v-3a.75.75 0 0 1 1.5 0ZM9 10.5a1 1 0 1 1-2 0 1 1 0 0 1 2 0Z"></path>
</svg>
        <span data-content="Security">Security</span>
          <include-fragment src="/mrdbourke/tensorflow-deep-learning/security/overall-count" accept="text/fragment+html"></include-fragment>

    
</a></li>
      <li data-view-component="true" class="d-inline-flex">
  <a id="insights-tab" href="/mrdbourke/tensorflow-deep-learning/pulse" data-tab-item="i7insights-tab" data-selected-links="repo_graphs repo_contributors dependency_graph dependabot_updates pulse people community /mrdbourke/tensorflow-deep-learning/pulse" data-pjax="#repo-content-pjax-container" data-turbo-frame="repo-content-turbo-frame" data-analytics-event="{&quot;category&quot;:&quot;Underline navbar&quot;,&quot;action&quot;:&quot;Click tab&quot;,&quot;label&quot;:&quot;Insights&quot;,&quot;target&quot;:&quot;UNDERLINE_NAV.TAB&quot;}" data-view-component="true" class="UnderlineNav-item no-wrap js-responsive-underlinenav-item js-selected-navigation-item">
    
              <svg aria-hidden="true" height="16" viewBox="0 0 16 16" version="1.1" width="16" data-view-component="true" class="octicon octicon-graph UnderlineNav-octicon d-none d-sm-inline">
    <path d="M1.5 1.75V13.5h13.75a.75.75 0 0 1 0 1.5H.75a.75.75 0 0 1-.75-.75V1.75a.75.75 0 0 1 1.5 0Zm14.28 2.53-5.25 5.25a.75.75 0 0 1-1.06 0L7 7.06 4.28 9.78a.751.751 0 0 1-1.042-.018.751.751 0 0 1-.018-1.042l3.25-3.25a.75.75 0 0 1 1.06 0L10 7.94l4.72-4.72a.751.751 0 0 1 1.042.018.751.751 0 0 1 .018 1.042Z"></path>
</svg>
        <span data-content="Insights">Insights</span>
          <span id="insights-repo-tab-count" data-pjax-replace="" data-turbo-replace="" title="Not available" data-view-component="true" class="Counter"></span>


    
</a></li>
</ul>
    <div style="visibility:hidden;" data-view-component="true" class="UnderlineNav-actions js-responsive-underlinenav-overflow position-absolute pr-3 pr-md-4 pr-lg-5 right-0">        <details data-view-component="true" class="details-overlay details-reset position-relative">
    <summary role="button" data-view-component="true">          <div class="UnderlineNav-item mr-0 border-0">
            <svg aria-hidden="true" height="16" viewBox="0 0 16 16" version="1.1" width="16" data-view-component="true" class="octicon octicon-kebab-horizontal">
    <path d="M8 9a1.5 1.5 0 1 0 0-3 1.5 1.5 0 0 0 0 3ZM1.5 9a1.5 1.5 0 1 0 0-3 1.5 1.5 0 0 0 0 3Zm13 0a1.5 1.5 0 1 0 0-3 1.5 1.5 0 0 0 0 3Z"></path>
</svg>
            <span class="sr-only">More</span>
          </div>
</summary>
    <details-menu role="menu" data-view-component="true" class="dropdown-menu dropdown-menu-sw">
          <ul>
              <li data-menu-item="i0code-tab" hidden>
                <a role="menuitem" class="js-selected-navigation-item dropdown-item" data-selected-links="repo_source repo_downloads repo_commits repo_releases repo_tags repo_branches repo_packages repo_deployments repo_attestations /mrdbourke/tensorflow-deep-learning" href="/mrdbourke/tensorflow-deep-learning">
                  Code
</a>              </li>
              <li data-menu-item="i1issues-tab" hidden>
                <a role="menuitem" class="js-selected-navigation-item dropdown-item" data-selected-links="repo_issues repo_labels repo_milestones /mrdbourke/tensorflow-deep-learning/issues" href="/mrdbourke/tensorflow-deep-learning/issues">
                  Issues
</a>              </li>
              <li data-menu-item="i2pull-requests-tab" hidden>
                <a role="menuitem" class="js-selected-navigation-item dropdown-item" data-selected-links="repo_pulls checks /mrdbourke/tensorflow-deep-learning/pulls" href="/mrdbourke/tensorflow-deep-learning/pulls">
                  Pull requests
</a>              </li>
              <li data-menu-item="i3discussions-tab" hidden>
                <a role="menuitem" class="js-selected-navigation-item dropdown-item" data-selected-links="repo_discussions /mrdbourke/tensorflow-deep-learning/discussions" href="/mrdbourke/tensorflow-deep-learning/discussions">
                  Discussions
</a>              </li>
              <li data-menu-item="i4actions-tab" hidden>
                <a role="menuitem" class="js-selected-navigation-item dropdown-item" data-selected-links="repo_actions /mrdbourke/tensorflow-deep-learning/actions" href="/mrdbourke/tensorflow-deep-learning/actions">
                  Actions
</a>              </li>
              <li data-menu-item="i5projects-tab" hidden>
                <a role="menuitem" class="js-selected-navigation-item dropdown-item" data-selected-links="repo_projects new_repo_project repo_project /mrdbourke/tensorflow-deep-learning/projects" href="/mrdbourke/tensorflow-deep-learning/projects">
                  Projects
</a>              </li>
              <li data-menu-item="i6security-tab" hidden>
                <a role="menuitem" class="js-selected-navigation-item dropdown-item" data-selected-links="security overview alerts policy token_scanning code_scanning /mrdbourke/tensorflow-deep-learning/security" href="/mrdbourke/tensorflow-deep-learning/security">
                  Security
</a>              </li>
              <li data-menu-item="i7insights-tab" hidden>
                <a role="menuitem" class="js-selected-navigation-item dropdown-item" data-selected-links="repo_graphs repo_contributors dependency_graph dependabot_updates pulse people community /mrdbourke/tensorflow-deep-learning/pulse" href="/mrdbourke/tensorflow-deep-learning/pulse">
                  Insights
</a>              </li>
          </ul>
</details-menu>
</details></div>
</nav>
      </div>
</header>


      <div hidden="hidden" data-view-component="true" class="js-stale-session-flash stale-session-flash flash flash-warn mb-3">
  
        <svg aria-hidden="true" height="16" viewBox="0 0 16 16" version="1.1" width="16" data-view-component="true" class="octicon octicon-alert">
    <path d="M6.457 1.047c.659-1.234 2.427-1.234 3.086 0l6.082 11.378A1.75 1.75 0 0 1 14.082 15H1.918a1.75 1.75 0 0 1-1.543-2.575Zm1.763.707a.25.25 0 0 0-.44 0L1.698 13.132a.25.25 0 0 0 .22.368h12.164a.25.25 0 0 0 .22-.368Zm.53 3.996v2.5a.75.75 0 0 1-1.5 0v-2.5a.75.75 0 0 1 1.5 0ZM9 11a1 1 0 1 1-2 0 1 1 0 0 1 2 0Z"></path>
</svg>
        <span class="js-stale-session-flash-signed-in" hidden>You signed in with another tab or window. <a class="Link--inTextBlock" href="">Reload</a> to refresh your session.</span>
        <span class="js-stale-session-flash-signed-out" hidden>You signed out in another tab or window. <a class="Link--inTextBlock" href="">Reload</a> to refresh your session.</span>
        <span class="js-stale-session-flash-switched" hidden>You switched accounts on another tab or window. <a class="Link--inTextBlock" href="">Reload</a> to refresh your session.</span>

    <div data-view-component="true" class="flash-close">
  <button id="icon-button-c6b12d81-fd69-4be0-a269-e06176aa229b" aria-labelledby="tooltip-cbb626bd-1ce6-4016-9b71-37975776d7ce" type="button" data-view-component="true" class="Button Button--iconOnly Button--invisible Button--medium js-flash-close">    <svg aria-hidden="true" height="16" viewBox="0 0 16 16" version="1.1" width="16" data-view-component="true" class="octicon octicon-x Button-visual">
    <path d="M3.72 3.72a.75.75 0 0 1 1.06 0L8 6.94l3.22-3.22a.749.749 0 0 1 1.275.326.749.749 0 0 1-.215.734L9.06 8l3.22 3.22a.749.749 0 0 1-.326 1.275.749.749 0 0 1-.734-.215L8 9.06l-3.22 3.22a.751.751 0 0 1-1.042-.018.751.751 0 0 1-.018-1.042L6.94 8 3.72 4.78a.75.75 0 0 1 0-1.06Z"></path>
</svg>
</button>  <tool-tip id="tooltip-cbb626bd-1ce6-4016-9b71-37975776d7ce" for="icon-button-c6b12d81-fd69-4be0-a269-e06176aa229b" popover="manual" data-direction="s" data-type="label" data-view-component="true" class="sr-only position-absolute">Dismiss alert</tool-tip>
</div>

  
</div>
          
    </div>

  <div id="start-of-content" class="show-on-focus"></div>








    <div id="js-flash-container" data-turbo-replace>





  <template class="js-flash-template">
    
<div class="flash flash-full   {{ className }}">
  <div class="px-2" >
    <button autofocus class="flash-close js-flash-close" type="button" aria-label="Dismiss this message">
      <svg aria-hidden="true" height="16" viewBox="0 0 16 16" version="1.1" width="16" data-view-component="true" class="octicon octicon-x">
    <path d="M3.72 3.72a.75.75 0 0 1 1.06 0L8 6.94l3.22-3.22a.749.749 0 0 1 1.275.326.749.749 0 0 1-.215.734L9.06 8l3.22 3.22a.749.749 0 0 1-.326 1.275.749.749 0 0 1-.734-.215L8 9.06l-3.22 3.22a.751.751 0 0 1-1.042-.018.751.751 0 0 1-.018-1.042L6.94 8 3.72 4.78a.75.75 0 0 1 0-1.06Z"></path>
</svg>
    </button>
    <div aria-atomic="true" role="alert" class="js-flash-alert">
      
      <div>{{ message }}</div>

    </div>
  </div>
</div>
  </template>
</div>


    
    <notification-shelf-watcher data-base-url="https://github.com/notifications/beta/shelf" data-channel="eyJjIjoibm90aWZpY2F0aW9uLWNoYW5nZWQ6MTM4MzcwNDY4IiwidCI6MTY5OTU5NjY5Mn0=--529ff1bceae7549d752cf5655648a4f01cc45320edeaf9c08033d8795c87d10b" data-view-component="true" class="js-socket-channel"></notification-shelf-watcher>
  <div hidden data-initial data-target="notification-shelf-watcher.placeholder"></div>






      <details
  class="details-reset details-overlay details-overlay-dark js-command-palette-dialog"
  id="command-palette-pjax-container"
  data-turbo-replace
>
  <summary aria-label="Command palette trigger" tabindex="-1"></summary>
  <details-dialog class="command-palette-details-dialog d-flex flex-column flex-justify-center height-fit" aria-label="Command palette">
    <command-palette
      class="command-palette color-bg-default rounded-3 border color-shadow-small"
      return-to=/mrdbourke/tensorflow-deep-learning/blob/main/video_notebooks/08_introduction_to_nlp_in_tensorflow_video.ipynb
      user-id="138370468"
      activation-hotkey="Mod+k,Mod+Alt+k"
      command-mode-hotkey="Mod+Shift+k"
      data-action="
        command-palette-input-ready:command-palette#inputReady
        command-palette-page-stack-updated:command-palette#updateInputScope
        itemsUpdated:command-palette#itemsUpdated
        keydown:command-palette#onKeydown
        loadingStateChanged:command-palette#loadingStateChanged
        selectedItemChanged:command-palette#selectedItemChanged
        pageFetchError:command-palette#pageFetchError
      ">

        <command-palette-mode
          data-char="#"
            data-scope-types="[&quot;&quot;]"
            data-placeholder="Search issues and pull requests"
        ></command-palette-mode>
        <command-palette-mode
          data-char="#"
            data-scope-types="[&quot;owner&quot;,&quot;repository&quot;]"
            data-placeholder="Search issues, pull requests, discussions, and projects"
        ></command-palette-mode>
        <command-palette-mode
          data-char="!"
            data-scope-types="[&quot;owner&quot;,&quot;repository&quot;]"
            data-placeholder="Search projects"
        ></command-palette-mode>
        <command-palette-mode
          data-char="@"
            data-scope-types="[&quot;&quot;]"
            data-placeholder="Search or jump to a user, organization, or repository"
        ></command-palette-mode>
        <command-palette-mode
          data-char="@"
            data-scope-types="[&quot;owner&quot;]"
            data-placeholder="Search or jump to a repository"
        ></command-palette-mode>
        <command-palette-mode
          data-char="/"
            data-scope-types="[&quot;repository&quot;]"
            data-placeholder="Search files"
        ></command-palette-mode>
        <command-palette-mode
          data-char="?"
        ></command-palette-mode>
        <command-palette-mode
          data-char="&gt;"
            data-placeholder="Run a command"
        ></command-palette-mode>
        <command-palette-mode
          data-char=""
            data-scope-types="[&quot;&quot;]"
            data-placeholder="Search or jump to..."
        ></command-palette-mode>
        <command-palette-mode
          data-char=""
            data-scope-types="[&quot;owner&quot;]"
            data-placeholder="Search or jump to..."
        ></command-palette-mode>
      <command-palette-mode
        class="js-command-palette-default-mode"
        data-char=""
        data-placeholder="Search or jump to..."
      ></command-palette-mode>

      <command-palette-input placeholder="Search or jump to..."

        data-action="
          command-palette-input:command-palette#onInput
          command-palette-select:command-palette#onSelect
          command-palette-descope:command-palette#onDescope
          command-palette-cleared:command-palette#onInputClear
        "
      >
        <div class="js-search-icon d-flex flex-items-center mr-2" style="height: 26px">
          <svg aria-hidden="true" height="16" viewBox="0 0 16 16" version="1.1" width="16" data-view-component="true" class="octicon octicon-search color-fg-muted">
    <path d="M10.68 11.74a6 6 0 0 1-7.922-8.982 6 6 0 0 1 8.982 7.922l3.04 3.04a.749.749 0 0 1-.326 1.275.749.749 0 0 1-.734-.215ZM11.5 7a4.499 4.499 0 1 0-8.997 0A4.499 4.499 0 0 0 11.5 7Z"></path>
</svg>
        </div>
        <div class="js-spinner d-flex flex-items-center mr-2 color-fg-muted" hidden>
          <svg aria-label="Loading" class="anim-rotate" viewBox="0 0 16 16" fill="none" width="16" height="16">
            <circle
              cx="8"
              cy="8"
              r="7"
              stroke="currentColor"
              stroke-opacity="0.25"
              stroke-width="2"
              vector-effect="non-scaling-stroke"
            ></circle>
            <path
              d="M15 8a7.002 7.002 0 00-7-7"
              stroke="currentColor"
              stroke-width="2"
              stroke-linecap="round"
              vector-effect="non-scaling-stroke"
            ></path>
          </svg>
        </div>
        <command-palette-scope >
          <div data-target="command-palette-scope.placeholder" hidden class="color-fg-subtle">/&nbsp;&nbsp;<span class="text-semibold color-fg-default">...</span>&nbsp;&nbsp;/&nbsp;&nbsp;</div>
              <command-palette-token
                data-text="mrdbourke"
                data-id="MDQ6VXNlcjE2NzUwMzQ1"
                data-type="owner"
                data-value="mrdbourke"
                data-targets="command-palette-scope.tokens"
                class="color-fg-default text-semibold"
                style="white-space:nowrap;line-height:20px;"
                >mrdbourke<span class="color-fg-subtle text-normal">&nbsp;&nbsp;/&nbsp;&nbsp;</span></command-palette-token>
              <command-palette-token
                data-text="tensorflow-deep-learning"
                data-id="MDEwOlJlcG9zaXRvcnkzMTU0NjMzNDA="
                data-type="repository"
                data-value="tensorflow-deep-learning"
                data-targets="command-palette-scope.tokens"
                class="color-fg-default text-semibold"
                style="white-space:nowrap;line-height:20px;"
                >tensorflow-deep-l...<span class="color-fg-subtle text-normal">&nbsp;&nbsp;/&nbsp;&nbsp;</span></command-palette-token>
        </command-palette-scope>
        <div class="command-palette-input-group flex-1 form-control border-0 box-shadow-none" style="z-index: 0">
          <div class="command-palette-typeahead position-absolute d-flex flex-items-center Truncate">
            <span class="typeahead-segment input-mirror" data-target="command-palette-input.mirror"></span>
            <span class="Truncate-text" data-target="command-palette-input.typeaheadText"></span>
            <span class="typeahead-segment" data-target="command-palette-input.typeaheadPlaceholder"></span>
          </div>
          <input
            class="js-overlay-input typeahead-input d-none"
            disabled
            tabindex="-1"
            aria-label="Hidden input for typeahead"
          >
          <input
            type="text"
            autocomplete="off"
            autocorrect="off"
            autocapitalize="off"
            spellcheck="false"
            class="js-input typeahead-input form-control border-0 box-shadow-none input-block width-full no-focus-indicator"
            aria-label="Command palette input"
            aria-haspopup="listbox"
            aria-expanded="false"
            aria-autocomplete="list"
            aria-controls="command-palette-page-stack"
            role="combobox"
            data-action="
              input:command-palette-input#onInput
              keydown:command-palette-input#onKeydown
            "
          >
        </div>
          <div data-view-component="true" class="position-relative d-inline-block">
    <button aria-keyshortcuts="Control+Backspace" data-action="click:command-palette-input#onClear keypress:command-palette-input#onClear" data-target="command-palette-input.clearButton" id="command-palette-clear-button" hidden="hidden" type="button" data-view-component="true" class="btn-octicon command-palette-input-clear-button">      <svg aria-hidden="true" height="16" viewBox="0 0 16 16" version="1.1" width="16" data-view-component="true" class="octicon octicon-x-circle-fill">
    <path d="M2.343 13.657A8 8 0 1 1 13.658 2.343 8 8 0 0 1 2.343 13.657ZM6.03 4.97a.751.751 0 0 0-1.042.018.751.751 0 0 0-.018 1.042L6.94 8 4.97 9.97a.749.749 0 0 0 .326 1.275.749.749 0 0 0 .734-.215L8 9.06l1.97 1.97a.749.749 0 0 0 1.275-.326.749.749 0 0 0-.215-.734L9.06 8l1.97-1.97a.749.749 0 0 0-.326-1.275.749.749 0 0 0-.734.215L8 6.94Z"></path>
</svg>
</button>    <tool-tip id="tooltip-50b58eba-7a29-43a2-8a3b-6b8e66d7f4af" for="command-palette-clear-button" popover="manual" data-direction="w" data-type="label" data-view-component="true" class="sr-only position-absolute">Clear Command Palette</tool-tip>
</div>
      </command-palette-input>

      <command-palette-page-stack
        data-default-scope-id="MDEwOlJlcG9zaXRvcnkzMTU0NjMzNDA="
        data-default-scope-type="Repository"
        data-action="command-palette-page-octicons-cached:command-palette-page-stack#cacheOcticons"
      >
          <command-palette-tip
            class="color-fg-muted f6 px-3 py-1 my-2"
              data-scope-types="[&quot;&quot;,&quot;owner&quot;,&quot;repository&quot;]"
            data-mode=""
            data-value="">
            <div class="d-flex flex-items-start flex-justify-between">
              <div>
                <span class="text-bold">Tip:</span>
                  Type <kbd class="hx_kbd">#</kbd> to search pull requests
              </div>
              <div class="ml-2 flex-shrink-0">
                Type <kbd class="hx_kbd">?</kbd> for help and tips
              </div>
            </div>
          </command-palette-tip>
          <command-palette-tip
            class="color-fg-muted f6 px-3 py-1 my-2"
              data-scope-types="[&quot;&quot;,&quot;owner&quot;,&quot;repository&quot;]"
            data-mode=""
            data-value="">
            <div class="d-flex flex-items-start flex-justify-between">
              <div>
                <span class="text-bold">Tip:</span>
                  Type <kbd class="hx_kbd">#</kbd> to search issues
              </div>
              <div class="ml-2 flex-shrink-0">
                Type <kbd class="hx_kbd">?</kbd> for help and tips
              </div>
            </div>
          </command-palette-tip>
          <command-palette-tip
            class="color-fg-muted f6 px-3 py-1 my-2"
              data-scope-types="[&quot;owner&quot;,&quot;repository&quot;]"
            data-mode=""
            data-value="">
            <div class="d-flex flex-items-start flex-justify-between">
              <div>
                <span class="text-bold">Tip:</span>
                  Type <kbd class="hx_kbd">#</kbd> to search discussions
              </div>
              <div class="ml-2 flex-shrink-0">
                Type <kbd class="hx_kbd">?</kbd> for help and tips
              </div>
            </div>
          </command-palette-tip>
          <command-palette-tip
            class="color-fg-muted f6 px-3 py-1 my-2"
              data-scope-types="[&quot;owner&quot;,&quot;repository&quot;]"
            data-mode=""
            data-value="">
            <div class="d-flex flex-items-start flex-justify-between">
              <div>
                <span class="text-bold">Tip:</span>
                  Type <kbd class="hx_kbd">!</kbd> to search projects
              </div>
              <div class="ml-2 flex-shrink-0">
                Type <kbd class="hx_kbd">?</kbd> for help and tips
              </div>
            </div>
          </command-palette-tip>
          <command-palette-tip
            class="color-fg-muted f6 px-3 py-1 my-2"
              data-scope-types="[&quot;owner&quot;]"
            data-mode=""
            data-value="">
            <div class="d-flex flex-items-start flex-justify-between">
              <div>
                <span class="text-bold">Tip:</span>
                  Type <kbd class="hx_kbd">@</kbd> to search teams
              </div>
              <div class="ml-2 flex-shrink-0">
                Type <kbd class="hx_kbd">?</kbd> for help and tips
              </div>
            </div>
          </command-palette-tip>
          <command-palette-tip
            class="color-fg-muted f6 px-3 py-1 my-2"
              data-scope-types="[&quot;&quot;]"
            data-mode=""
            data-value="">
            <div class="d-flex flex-items-start flex-justify-between">
              <div>
                <span class="text-bold">Tip:</span>
                  Type <kbd class="hx_kbd">@</kbd> to search people and organizations
              </div>
              <div class="ml-2 flex-shrink-0">
                Type <kbd class="hx_kbd">?</kbd> for help and tips
              </div>
            </div>
          </command-palette-tip>
          <command-palette-tip
            class="color-fg-muted f6 px-3 py-1 my-2"
              data-scope-types="[&quot;&quot;,&quot;owner&quot;,&quot;repository&quot;]"
            data-mode=""
            data-value="">
            <div class="d-flex flex-items-start flex-justify-between">
              <div>
                <span class="text-bold">Tip:</span>
                  Type <kbd class="hx_kbd">&gt;</kbd> to activate command mode
              </div>
              <div class="ml-2 flex-shrink-0">
                Type <kbd class="hx_kbd">?</kbd> for help and tips
              </div>
            </div>
          </command-palette-tip>
          <command-palette-tip
            class="color-fg-muted f6 px-3 py-1 my-2"
              data-scope-types="[&quot;&quot;,&quot;owner&quot;,&quot;repository&quot;]"
            data-mode=""
            data-value="">
            <div class="d-flex flex-items-start flex-justify-between">
              <div>
                <span class="text-bold">Tip:</span>
                  Go to your accessibility settings to change your keyboard shortcuts
              </div>
              <div class="ml-2 flex-shrink-0">
                Type <kbd class="hx_kbd">?</kbd> for help and tips
              </div>
            </div>
          </command-palette-tip>
          <command-palette-tip
            class="color-fg-muted f6 px-3 py-1 my-2"
              data-scope-types="[&quot;&quot;,&quot;owner&quot;,&quot;repository&quot;]"
            data-mode="#"
            data-value="">
            <div class="d-flex flex-items-start flex-justify-between">
              <div>
                <span class="text-bold">Tip:</span>
                  Type author:@me to search your content
              </div>
              <div class="ml-2 flex-shrink-0">
                Type <kbd class="hx_kbd">?</kbd> for help and tips
              </div>
            </div>
          </command-palette-tip>
          <command-palette-tip
            class="color-fg-muted f6 px-3 py-1 my-2"
              data-scope-types="[&quot;&quot;,&quot;owner&quot;,&quot;repository&quot;]"
            data-mode="#"
            data-value="">
            <div class="d-flex flex-items-start flex-justify-between">
              <div>
                <span class="text-bold">Tip:</span>
                  Type is:pr to filter to pull requests
              </div>
              <div class="ml-2 flex-shrink-0">
                Type <kbd class="hx_kbd">?</kbd> for help and tips
              </div>
            </div>
          </command-palette-tip>
          <command-palette-tip
            class="color-fg-muted f6 px-3 py-1 my-2"
              data-scope-types="[&quot;&quot;,&quot;owner&quot;,&quot;repository&quot;]"
            data-mode="#"
            data-value="">
            <div class="d-flex flex-items-start flex-justify-between">
              <div>
                <span class="text-bold">Tip:</span>
                  Type is:issue to filter to issues
              </div>
              <div class="ml-2 flex-shrink-0">
                Type <kbd class="hx_kbd">?</kbd> for help and tips
              </div>
            </div>
          </command-palette-tip>
          <command-palette-tip
            class="color-fg-muted f6 px-3 py-1 my-2"
              data-scope-types="[&quot;owner&quot;,&quot;repository&quot;]"
            data-mode="#"
            data-value="">
            <div class="d-flex flex-items-start flex-justify-between">
              <div>
                <span class="text-bold">Tip:</span>
                  Type is:project to filter to projects
              </div>
              <div class="ml-2 flex-shrink-0">
                Type <kbd class="hx_kbd">?</kbd> for help and tips
              </div>
            </div>
          </command-palette-tip>
          <command-palette-tip
            class="color-fg-muted f6 px-3 py-1 my-2"
              data-scope-types="[&quot;&quot;,&quot;owner&quot;,&quot;repository&quot;]"
            data-mode="#"
            data-value="">
            <div class="d-flex flex-items-start flex-justify-between">
              <div>
                <span class="text-bold">Tip:</span>
                  Type is:open to filter to open content
              </div>
              <div class="ml-2 flex-shrink-0">
                Type <kbd class="hx_kbd">?</kbd> for help and tips
              </div>
            </div>
          </command-palette-tip>
        <command-palette-tip class="mx-3 my-2 flash flash-error d-flex flex-items-center" data-scope-types="*" data-on-error>
          <div>
            <svg aria-hidden="true" height="16" viewBox="0 0 16 16" version="1.1" width="16" data-view-component="true" class="octicon octicon-alert">
    <path d="M6.457 1.047c.659-1.234 2.427-1.234 3.086 0l6.082 11.378A1.75 1.75 0 0 1 14.082 15H1.918a1.75 1.75 0 0 1-1.543-2.575Zm1.763.707a.25.25 0 0 0-.44 0L1.698 13.132a.25.25 0 0 0 .22.368h12.164a.25.25 0 0 0 .22-.368Zm.53 3.996v2.5a.75.75 0 0 1-1.5 0v-2.5a.75.75 0 0 1 1.5 0ZM9 11a1 1 0 1 1-2 0 1 1 0 0 1 2 0Z"></path>
</svg>
          </div>
          <div class="px-2">
            We’ve encountered an error and some results aren't available at this time. Type a new search or try again later.
          </div>
        </command-palette-tip>
        <command-palette-tip class="h4 color-fg-default pl-3 pb-2 pt-3" data-on-empty data-scope-types="*" data-match-mode="[^?]|^$">
          No results matched your search
        </command-palette-tip>

        <div hidden>

            <div data-targets="command-palette-page-stack.localOcticons" data-octicon-id="arrow-right-color-fg-muted">
              <svg height="16" class="octicon octicon-arrow-right color-fg-muted" viewBox="0 0 16 16" version="1.1" width="16" aria-hidden="true"><path d="M8.22 2.97a.75.75 0 0 1 1.06 0l4.25 4.25a.75.75 0 0 1 0 1.06l-4.25 4.25a.751.751 0 0 1-1.042-.018.751.751 0 0 1-.018-1.042l2.97-2.97H3.75a.75.75 0 0 1 0-1.5h7.44L8.22 4.03a.75.75 0 0 1 0-1.06Z"></path></svg>
            </div>
            <div data-targets="command-palette-page-stack.localOcticons" data-octicon-id="arrow-right-color-fg-default">
              <svg height="16" class="octicon octicon-arrow-right color-fg-default" viewBox="0 0 16 16" version="1.1" width="16" aria-hidden="true"><path d="M8.22 2.97a.75.75 0 0 1 1.06 0l4.25 4.25a.75.75 0 0 1 0 1.06l-4.25 4.25a.751.751 0 0 1-1.042-.018.751.751 0 0 1-.018-1.042l2.97-2.97H3.75a.75.75 0 0 1 0-1.5h7.44L8.22 4.03a.75.75 0 0 1 0-1.06Z"></path></svg>
            </div>
            <div data-targets="command-palette-page-stack.localOcticons" data-octicon-id="codespaces-color-fg-muted">
              <svg height="16" class="octicon octicon-codespaces color-fg-muted" viewBox="0 0 16 16" version="1.1" width="16" aria-hidden="true"><path d="M0 11.25c0-.966.784-1.75 1.75-1.75h12.5c.966 0 1.75.784 1.75 1.75v3A1.75 1.75 0 0 1 14.25 16H1.75A1.75 1.75 0 0 1 0 14.25Zm2-9.5C2 .784 2.784 0 3.75 0h8.5C13.216 0 14 .784 14 1.75v5a1.75 1.75 0 0 1-1.75 1.75h-8.5A1.75 1.75 0 0 1 2 6.75Zm1.75-.25a.25.25 0 0 0-.25.25v5c0 .138.112.25.25.25h8.5a.25.25 0 0 0 .25-.25v-5a.25.25 0 0 0-.25-.25Zm-2 9.5a.25.25 0 0 0-.25.25v3c0 .138.112.25.25.25h12.5a.25.25 0 0 0 .25-.25v-3a.25.25 0 0 0-.25-.25Z"></path><path d="M7 12.75a.75.75 0 0 1 .75-.75h4.5a.75.75 0 0 1 0 1.5h-4.5a.75.75 0 0 1-.75-.75Zm-4 0a.75.75 0 0 1 .75-.75h.5a.75.75 0 0 1 0 1.5h-.5a.75.75 0 0 1-.75-.75Z"></path></svg>
            </div>
            <div data-targets="command-palette-page-stack.localOcticons" data-octicon-id="copy-color-fg-muted">
              <svg height="16" class="octicon octicon-copy color-fg-muted" viewBox="0 0 16 16" version="1.1" width="16" aria-hidden="true"><path d="M0 6.75C0 5.784.784 5 1.75 5h1.5a.75.75 0 0 1 0 1.5h-1.5a.25.25 0 0 0-.25.25v7.5c0 .138.112.25.25.25h7.5a.25.25 0 0 0 .25-.25v-1.5a.75.75 0 0 1 1.5 0v1.5A1.75 1.75 0 0 1 9.25 16h-7.5A1.75 1.75 0 0 1 0 14.25Z"></path><path d="M5 1.75C5 .784 5.784 0 6.75 0h7.5C15.216 0 16 .784 16 1.75v7.5A1.75 1.75 0 0 1 14.25 11h-7.5A1.75 1.75 0 0 1 5 9.25Zm1.75-.25a.25.25 0 0 0-.25.25v7.5c0 .138.112.25.25.25h7.5a.25.25 0 0 0 .25-.25v-7.5a.25.25 0 0 0-.25-.25Z"></path></svg>
            </div>
            <div data-targets="command-palette-page-stack.localOcticons" data-octicon-id="dash-color-fg-muted">
              <svg height="16" class="octicon octicon-dash color-fg-muted" viewBox="0 0 16 16" version="1.1" width="16" aria-hidden="true"><path d="M2 7.75A.75.75 0 0 1 2.75 7h10a.75.75 0 0 1 0 1.5h-10A.75.75 0 0 1 2 7.75Z"></path></svg>
            </div>
            <div data-targets="command-palette-page-stack.localOcticons" data-octicon-id="file-color-fg-muted">
              <svg height="16" class="octicon octicon-file color-fg-muted" viewBox="0 0 16 16" version="1.1" width="16" aria-hidden="true"><path d="M2 1.75C2 .784 2.784 0 3.75 0h6.586c.464 0 .909.184 1.237.513l2.914 2.914c.329.328.513.773.513 1.237v9.586A1.75 1.75 0 0 1 13.25 16h-9.5A1.75 1.75 0 0 1 2 14.25Zm1.75-.25a.25.25 0 0 0-.25.25v12.5c0 .138.112.25.25.25h9.5a.25.25 0 0 0 .25-.25V6h-2.75A1.75 1.75 0 0 1 9 4.25V1.5Zm6.75.062V4.25c0 .138.112.25.25.25h2.688l-.011-.013-2.914-2.914-.013-.011Z"></path></svg>
            </div>
            <div data-targets="command-palette-page-stack.localOcticons" data-octicon-id="gear-color-fg-muted">
              <svg height="16" class="octicon octicon-gear color-fg-muted" viewBox="0 0 16 16" version="1.1" width="16" aria-hidden="true"><path d="M8 0a8.2 8.2 0 0 1 .701.031C9.444.095 9.99.645 10.16 1.29l.288 1.107c.018.066.079.158.212.224.231.114.454.243.668.386.123.082.233.09.299.071l1.103-.303c.644-.176 1.392.021 1.82.63.27.385.506.792.704 1.218.315.675.111 1.422-.364 1.891l-.814.806c-.049.048-.098.147-.088.294.016.257.016.515 0 .772-.01.147.038.246.088.294l.814.806c.475.469.679 1.216.364 1.891a7.977 7.977 0 0 1-.704 1.217c-.428.61-1.176.807-1.82.63l-1.102-.302c-.067-.019-.177-.011-.3.071a5.909 5.909 0 0 1-.668.386c-.133.066-.194.158-.211.224l-.29 1.106c-.168.646-.715 1.196-1.458 1.26a8.006 8.006 0 0 1-1.402 0c-.743-.064-1.289-.614-1.458-1.26l-.289-1.106c-.018-.066-.079-.158-.212-.224a5.738 5.738 0 0 1-.668-.386c-.123-.082-.233-.09-.299-.071l-1.103.303c-.644.176-1.392-.021-1.82-.63a8.12 8.12 0 0 1-.704-1.218c-.315-.675-.111-1.422.363-1.891l.815-.806c.05-.048.098-.147.088-.294a6.214 6.214 0 0 1 0-.772c.01-.147-.038-.246-.088-.294l-.815-.806C.635 6.045.431 5.298.746 4.623a7.92 7.92 0 0 1 .704-1.217c.428-.61 1.176-.807 1.82-.63l1.102.302c.067.019.177.011.3-.071.214-.143.437-.272.668-.386.133-.066.194-.158.211-.224l.29-1.106C6.009.645 6.556.095 7.299.03 7.53.01 7.764 0 8 0Zm-.571 1.525c-.036.003-.108.036-.137.146l-.289 1.105c-.147.561-.549.967-.998 1.189-.173.086-.34.183-.5.29-.417.278-.97.423-1.529.27l-1.103-.303c-.109-.03-.175.016-.195.045-.22.312-.412.644-.573.99-.014.031-.021.11.059.19l.815.806c.411.406.562.957.53 1.456a4.709 4.709 0 0 0 0 .582c.032.499-.119 1.05-.53 1.456l-.815.806c-.081.08-.073.159-.059.19.162.346.353.677.573.989.02.03.085.076.195.046l1.102-.303c.56-.153 1.113-.008 1.53.27.161.107.328.204.501.29.447.222.85.629.997 1.189l.289 1.105c.029.109.101.143.137.146a6.6 6.6 0 0 0 1.142 0c.036-.003.108-.036.137-.146l.289-1.105c.147-.561.549-.967.998-1.189.173-.086.34-.183.5-.29.417-.278.97-.423 1.529-.27l1.103.303c.109.029.175-.016.195-.045.22-.313.411-.644.573-.99.014-.031.021-.11-.059-.19l-.815-.806c-.411-.406-.562-.957-.53-1.456a4.709 4.709 0 0 0 0-.582c-.032-.499.119-1.05.53-1.456l.815-.806c.081-.08.073-.159.059-.19a6.464 6.464 0 0 0-.573-.989c-.02-.03-.085-.076-.195-.046l-1.102.303c-.56.153-1.113.008-1.53-.27a4.44 4.44 0 0 0-.501-.29c-.447-.222-.85-.629-.997-1.189l-.289-1.105c-.029-.11-.101-.143-.137-.146a6.6 6.6 0 0 0-1.142 0ZM11 8a3 3 0 1 1-6 0 3 3 0 0 1 6 0ZM9.5 8a1.5 1.5 0 1 0-3.001.001A1.5 1.5 0 0 0 9.5 8Z"></path></svg>
            </div>
            <div data-targets="command-palette-page-stack.localOcticons" data-octicon-id="lock-color-fg-muted">
              <svg height="16" class="octicon octicon-lock color-fg-muted" viewBox="0 0 16 16" version="1.1" width="16" aria-hidden="true"><path d="M4 4a4 4 0 0 1 8 0v2h.25c.966 0 1.75.784 1.75 1.75v5.5A1.75 1.75 0 0 1 12.25 15h-8.5A1.75 1.75 0 0 1 2 13.25v-5.5C2 6.784 2.784 6 3.75 6H4Zm8.25 3.5h-8.5a.25.25 0 0 0-.25.25v5.5c0 .138.112.25.25.25h8.5a.25.25 0 0 0 .25-.25v-5.5a.25.25 0 0 0-.25-.25ZM10.5 6V4a2.5 2.5 0 1 0-5 0v2Z"></path></svg>
            </div>
            <div data-targets="command-palette-page-stack.localOcticons" data-octicon-id="moon-color-fg-muted">
              <svg height="16" class="octicon octicon-moon color-fg-muted" viewBox="0 0 16 16" version="1.1" width="16" aria-hidden="true"><path d="M9.598 1.591a.749.749 0 0 1 .785-.175 7.001 7.001 0 1 1-8.967 8.967.75.75 0 0 1 .961-.96 5.5 5.5 0 0 0 7.046-7.046.75.75 0 0 1 .175-.786Zm1.616 1.945a7 7 0 0 1-7.678 7.678 5.499 5.499 0 1 0 7.678-7.678Z"></path></svg>
            </div>
            <div data-targets="command-palette-page-stack.localOcticons" data-octicon-id="person-color-fg-muted">
              <svg height="16" class="octicon octicon-person color-fg-muted" viewBox="0 0 16 16" version="1.1" width="16" aria-hidden="true"><path d="M10.561 8.073a6.005 6.005 0 0 1 3.432 5.142.75.75 0 1 1-1.498.07 4.5 4.5 0 0 0-8.99 0 .75.75 0 0 1-1.498-.07 6.004 6.004 0 0 1 3.431-5.142 3.999 3.999 0 1 1 5.123 0ZM10.5 5a2.5 2.5 0 1 0-5 0 2.5 2.5 0 0 0 5 0Z"></path></svg>
            </div>
            <div data-targets="command-palette-page-stack.localOcticons" data-octicon-id="pencil-color-fg-muted">
              <svg height="16" class="octicon octicon-pencil color-fg-muted" viewBox="0 0 16 16" version="1.1" width="16" aria-hidden="true"><path d="M11.013 1.427a1.75 1.75 0 0 1 2.474 0l1.086 1.086a1.75 1.75 0 0 1 0 2.474l-8.61 8.61c-.21.21-.47.364-.756.445l-3.251.93a.75.75 0 0 1-.927-.928l.929-3.25c.081-.286.235-.547.445-.758l8.61-8.61Zm.176 4.823L9.75 4.81l-6.286 6.287a.253.253 0 0 0-.064.108l-.558 1.953 1.953-.558a.253.253 0 0 0 .108-.064Zm1.238-3.763a.25.25 0 0 0-.354 0L10.811 3.75l1.439 1.44 1.263-1.263a.25.25 0 0 0 0-.354Z"></path></svg>
            </div>
            <div data-targets="command-palette-page-stack.localOcticons" data-octicon-id="issue-opened-open">
              <svg height="16" class="octicon octicon-issue-opened open" viewBox="0 0 16 16" version="1.1" width="16" aria-hidden="true"><path d="M8 9.5a1.5 1.5 0 1 0 0-3 1.5 1.5 0 0 0 0 3Z"></path><path d="M8 0a8 8 0 1 1 0 16A8 8 0 0 1 8 0ZM1.5 8a6.5 6.5 0 1 0 13 0 6.5 6.5 0 0 0-13 0Z"></path></svg>
            </div>
            <div data-targets="command-palette-page-stack.localOcticons" data-octicon-id="git-pull-request-draft-color-fg-muted">
              <svg height="16" class="octicon octicon-git-pull-request-draft color-fg-muted" viewBox="0 0 16 16" version="1.1" width="16" aria-hidden="true"><path d="M3.25 1A2.25 2.25 0 0 1 4 5.372v5.256a2.251 2.251 0 1 1-1.5 0V5.372A2.251 2.251 0 0 1 3.25 1Zm9.5 14a2.25 2.25 0 1 1 0-4.5 2.25 2.25 0 0 1 0 4.5ZM2.5 3.25a.75.75 0 1 0 1.5 0 .75.75 0 0 0-1.5 0ZM3.25 12a.75.75 0 1 0 0 1.5.75.75 0 0 0 0-1.5Zm9.5 0a.75.75 0 1 0 0 1.5.75.75 0 0 0 0-1.5ZM14 7.5a1.25 1.25 0 1 1-2.5 0 1.25 1.25 0 0 1 2.5 0Zm0-4.25a1.25 1.25 0 1 1-2.5 0 1.25 1.25 0 0 1 2.5 0Z"></path></svg>
            </div>
            <div data-targets="command-palette-page-stack.localOcticons" data-octicon-id="search-color-fg-muted">
              <svg height="16" class="octicon octicon-search color-fg-muted" viewBox="0 0 16 16" version="1.1" width="16" aria-hidden="true"><path d="M10.68 11.74a6 6 0 0 1-7.922-8.982 6 6 0 0 1 8.982 7.922l3.04 3.04a.749.749 0 0 1-.326 1.275.749.749 0 0 1-.734-.215ZM11.5 7a4.499 4.499 0 1 0-8.997 0A4.499 4.499 0 0 0 11.5 7Z"></path></svg>
            </div>
            <div data-targets="command-palette-page-stack.localOcticons" data-octicon-id="sun-color-fg-muted">
              <svg height="16" class="octicon octicon-sun color-fg-muted" viewBox="0 0 16 16" version="1.1" width="16" aria-hidden="true"><path d="M8 12a4 4 0 1 1 0-8 4 4 0 0 1 0 8Zm0-1.5a2.5 2.5 0 1 0 0-5 2.5 2.5 0 0 0 0 5Zm5.657-8.157a.75.75 0 0 1 0 1.061l-1.061 1.06a.749.749 0 0 1-1.275-.326.749.749 0 0 1 .215-.734l1.06-1.06a.75.75 0 0 1 1.06 0Zm-9.193 9.193a.75.75 0 0 1 0 1.06l-1.06 1.061a.75.75 0 1 1-1.061-1.06l1.06-1.061a.75.75 0 0 1 1.061 0ZM8 0a.75.75 0 0 1 .75.75v1.5a.75.75 0 0 1-1.5 0V.75A.75.75 0 0 1 8 0ZM3 8a.75.75 0 0 1-.75.75H.75a.75.75 0 0 1 0-1.5h1.5A.75.75 0 0 1 3 8Zm13 0a.75.75 0 0 1-.75.75h-1.5a.75.75 0 0 1 0-1.5h1.5A.75.75 0 0 1 16 8Zm-8 5a.75.75 0 0 1 .75.75v1.5a.75.75 0 0 1-1.5 0v-1.5A.75.75 0 0 1 8 13Zm3.536-1.464a.75.75 0 0 1 1.06 0l1.061 1.06a.75.75 0 0 1-1.06 1.061l-1.061-1.06a.75.75 0 0 1 0-1.061ZM2.343 2.343a.75.75 0 0 1 1.061 0l1.06 1.061a.751.751 0 0 1-.018 1.042.751.751 0 0 1-1.042.018l-1.06-1.06a.75.75 0 0 1 0-1.06Z"></path></svg>
            </div>
            <div data-targets="command-palette-page-stack.localOcticons" data-octicon-id="sync-color-fg-muted">
              <svg height="16" class="octicon octicon-sync color-fg-muted" viewBox="0 0 16 16" version="1.1" width="16" aria-hidden="true"><path d="M1.705 8.005a.75.75 0 0 1 .834.656 5.5 5.5 0 0 0 9.592 2.97l-1.204-1.204a.25.25 0 0 1 .177-.427h3.646a.25.25 0 0 1 .25.25v3.646a.25.25 0 0 1-.427.177l-1.38-1.38A7.002 7.002 0 0 1 1.05 8.84a.75.75 0 0 1 .656-.834ZM8 2.5a5.487 5.487 0 0 0-4.131 1.869l1.204 1.204A.25.25 0 0 1 4.896 6H1.25A.25.25 0 0 1 1 5.75V2.104a.25.25 0 0 1 .427-.177l1.38 1.38A7.002 7.002 0 0 1 14.95 7.16a.75.75 0 0 1-1.49.178A5.5 5.5 0 0 0 8 2.5Z"></path></svg>
            </div>
            <div data-targets="command-palette-page-stack.localOcticons" data-octicon-id="trash-color-fg-muted">
              <svg height="16" class="octicon octicon-trash color-fg-muted" viewBox="0 0 16 16" version="1.1" width="16" aria-hidden="true"><path d="M11 1.75V3h2.25a.75.75 0 0 1 0 1.5H2.75a.75.75 0 0 1 0-1.5H5V1.75C5 .784 5.784 0 6.75 0h2.5C10.216 0 11 .784 11 1.75ZM4.496 6.675l.66 6.6a.25.25 0 0 0 .249.225h5.19a.25.25 0 0 0 .249-.225l.66-6.6a.75.75 0 0 1 1.492.149l-.66 6.6A1.748 1.748 0 0 1 10.595 15h-5.19a1.75 1.75 0 0 1-1.741-1.575l-.66-6.6a.75.75 0 1 1 1.492-.15ZM6.5 1.75V3h3V1.75a.25.25 0 0 0-.25-.25h-2.5a.25.25 0 0 0-.25.25Z"></path></svg>
            </div>
            <div data-targets="command-palette-page-stack.localOcticons" data-octicon-id="key-color-fg-muted">
              <svg height="16" class="octicon octicon-key color-fg-muted" viewBox="0 0 16 16" version="1.1" width="16" aria-hidden="true"><path d="M10.5 0a5.499 5.499 0 1 1-1.288 10.848l-.932.932a.749.749 0 0 1-.53.22H7v.75a.749.749 0 0 1-.22.53l-.5.5a.749.749 0 0 1-.53.22H5v.75a.749.749 0 0 1-.22.53l-.5.5a.749.749 0 0 1-.53.22h-2A1.75 1.75 0 0 1 0 14.25v-2c0-.199.079-.389.22-.53l4.932-4.932A5.5 5.5 0 0 1 10.5 0Zm-4 5.5c-.001.431.069.86.205 1.269a.75.75 0 0 1-.181.768L1.5 12.56v1.69c0 .138.112.25.25.25h1.69l.06-.06v-1.19a.75.75 0 0 1 .75-.75h1.19l.06-.06v-1.19a.75.75 0 0 1 .75-.75h1.19l1.023-1.025a.75.75 0 0 1 .768-.18A4 4 0 1 0 6.5 5.5ZM11 6a1 1 0 1 1 0-2 1 1 0 0 1 0 2Z"></path></svg>
            </div>
            <div data-targets="command-palette-page-stack.localOcticons" data-octicon-id="comment-discussion-color-fg-muted">
              <svg height="16" class="octicon octicon-comment-discussion color-fg-muted" viewBox="0 0 16 16" version="1.1" width="16" aria-hidden="true"><path d="M1.75 1h8.5c.966 0 1.75.784 1.75 1.75v5.5A1.75 1.75 0 0 1 10.25 10H7.061l-2.574 2.573A1.458 1.458 0 0 1 2 11.543V10h-.25A1.75 1.75 0 0 1 0 8.25v-5.5C0 1.784.784 1 1.75 1ZM1.5 2.75v5.5c0 .138.112.25.25.25h1a.75.75 0 0 1 .75.75v2.19l2.72-2.72a.749.749 0 0 1 .53-.22h3.5a.25.25 0 0 0 .25-.25v-5.5a.25.25 0 0 0-.25-.25h-8.5a.25.25 0 0 0-.25.25Zm13 2a.25.25 0 0 0-.25-.25h-.5a.75.75 0 0 1 0-1.5h.5c.966 0 1.75.784 1.75 1.75v5.5A1.75 1.75 0 0 1 14.25 12H14v1.543a1.458 1.458 0 0 1-2.487 1.03L9.22 12.28a.749.749 0 0 1 .326-1.275.749.749 0 0 1 .734.215l2.22 2.22v-2.19a.75.75 0 0 1 .75-.75h1a.25.25 0 0 0 .25-.25Z"></path></svg>
            </div>
            <div data-targets="command-palette-page-stack.localOcticons" data-octicon-id="bell-color-fg-muted">
              <svg height="16" class="octicon octicon-bell color-fg-muted" viewBox="0 0 16 16" version="1.1" width="16" aria-hidden="true"><path d="M8 16a2 2 0 0 0 1.985-1.75c.017-.137-.097-.25-.235-.25h-3.5c-.138 0-.252.113-.235.25A2 2 0 0 0 8 16ZM3 5a5 5 0 0 1 10 0v2.947c0 .05.015.098.042.139l1.703 2.555A1.519 1.519 0 0 1 13.482 13H2.518a1.516 1.516 0 0 1-1.263-2.36l1.703-2.554A.255.255 0 0 0 3 7.947Zm5-3.5A3.5 3.5 0 0 0 4.5 5v2.947c0 .346-.102.683-.294.97l-1.703 2.556a.017.017 0 0 0-.003.01l.001.006c0 .002.002.004.004.006l.006.004.007.001h10.964l.007-.001.006-.004.004-.006.001-.007a.017.017 0 0 0-.003-.01l-1.703-2.554a1.745 1.745 0 0 1-.294-.97V5A3.5 3.5 0 0 0 8 1.5Z"></path></svg>
            </div>
            <div data-targets="command-palette-page-stack.localOcticons" data-octicon-id="bell-slash-color-fg-muted">
              <svg height="16" class="octicon octicon-bell-slash color-fg-muted" viewBox="0 0 16 16" version="1.1" width="16" aria-hidden="true"><path d="m4.182 4.31.016.011 10.104 7.316.013.01 1.375.996a.75.75 0 1 1-.88 1.214L13.626 13H2.518a1.516 1.516 0 0 1-1.263-2.36l1.703-2.554A.255.255 0 0 0 3 7.947V5.305L.31 3.357a.75.75 0 1 1 .88-1.214Zm7.373 7.19L4.5 6.391v1.556c0 .346-.102.683-.294.97l-1.703 2.556a.017.017 0 0 0-.003.01c0 .005.002.009.005.012l.006.004.007.001ZM8 1.5c-.997 0-1.895.416-2.534 1.086A.75.75 0 1 1 4.38 1.55 5 5 0 0 1 13 5v2.373a.75.75 0 0 1-1.5 0V5A3.5 3.5 0 0 0 8 1.5ZM8 16a2 2 0 0 1-1.985-1.75c-.017-.137.097-.25.235-.25h3.5c.138 0 .252.113.235.25A2 2 0 0 1 8 16Z"></path></svg>
            </div>
            <div data-targets="command-palette-page-stack.localOcticons" data-octicon-id="paintbrush-color-fg-muted">
              <svg height="16" class="octicon octicon-paintbrush color-fg-muted" viewBox="0 0 16 16" version="1.1" width="16" aria-hidden="true"><path d="M11.134 1.535c.7-.509 1.416-.942 2.076-1.155.649-.21 1.463-.267 2.069.34.603.601.568 1.411.368 2.07-.202.668-.624 1.39-1.125 2.096-1.011 1.424-2.496 2.987-3.775 4.249-1.098 1.084-2.132 1.839-3.04 2.3a3.744 3.744 0 0 1-1.055 3.217c-.431.431-1.065.691-1.657.861-.614.177-1.294.287-1.914.357A21.151 21.151 0 0 1 .797 16H.743l.007-.75H.749L.742 16a.75.75 0 0 1-.743-.742l.743-.008-.742.007v-.054a21.25 21.25 0 0 1 .13-2.284c.067-.647.187-1.287.358-1.914.17-.591.43-1.226.86-1.657a3.746 3.746 0 0 1 3.227-1.054c.466-.893 1.225-1.907 2.314-2.982 1.271-1.255 2.833-2.75 4.245-3.777ZM1.62 13.089c-.051.464-.086.929-.104 1.395.466-.018.932-.053 1.396-.104a10.511 10.511 0 0 0 1.668-.309c.526-.151.856-.325 1.011-.48a2.25 2.25 0 1 0-3.182-3.182c-.155.155-.329.485-.48 1.01a10.515 10.515 0 0 0-.309 1.67Zm10.396-10.34c-1.224.89-2.605 2.189-3.822 3.384l1.718 1.718c1.21-1.205 2.51-2.597 3.387-3.833.47-.662.78-1.227.912-1.662.134-.444.032-.551.009-.575h-.001V1.78c-.014-.014-.113-.113-.548.027-.432.14-.995.462-1.655.942Zm-4.832 7.266-.001.001a9.859 9.859 0 0 0 1.63-1.142L7.155 7.216a9.7 9.7 0 0 0-1.161 1.607c.482.302.889.71 1.19 1.192Z"></path></svg>
            </div>

            <command-palette-item-group
              data-group-id="top"
              data-group-title="Top result"
              data-group-hint=""
              data-group-limits="{}"
              data-default-priority="0"
            >
            </command-palette-item-group>
            <command-palette-item-group
              data-group-id="commands"
              data-group-title="Commands"
              data-group-hint="Type &gt; to filter"
              data-group-limits="{&quot;static_items_page&quot;:50,&quot;issue&quot;:50,&quot;pull_request&quot;:50,&quot;discussion&quot;:50}"
              data-default-priority="1"
            >
            </command-palette-item-group>
            <command-palette-item-group
              data-group-id="global_commands"
              data-group-title="Global Commands"
              data-group-hint="Type &gt; to filter"
              data-group-limits="{&quot;issue&quot;:0,&quot;pull_request&quot;:0,&quot;discussion&quot;:0}"
              data-default-priority="2"
            >
            </command-palette-item-group>
            <command-palette-item-group
              data-group-id="this_page"
              data-group-title="This Page"
              data-group-hint=""
              data-group-limits="{}"
              data-default-priority="3"
            >
            </command-palette-item-group>
            <command-palette-item-group
              data-group-id="files"
              data-group-title="Files"
              data-group-hint=""
              data-group-limits="{}"
              data-default-priority="4"
            >
            </command-palette-item-group>
            <command-palette-item-group
              data-group-id="default"
              data-group-title="Default"
              data-group-hint=""
              data-group-limits="{&quot;static_items_page&quot;:50}"
              data-default-priority="5"
            >
            </command-palette-item-group>
            <command-palette-item-group
              data-group-id="pages"
              data-group-title="Pages"
              data-group-hint=""
              data-group-limits="{&quot;repository&quot;:10}"
              data-default-priority="6"
            >
            </command-palette-item-group>
            <command-palette-item-group
              data-group-id="access_policies"
              data-group-title="Access Policies"
              data-group-hint=""
              data-group-limits="{}"
              data-default-priority="7"
            >
            </command-palette-item-group>
            <command-palette-item-group
              data-group-id="organizations"
              data-group-title="Organizations"
              data-group-hint=""
              data-group-limits="{}"
              data-default-priority="8"
            >
            </command-palette-item-group>
            <command-palette-item-group
              data-group-id="repositories"
              data-group-title="Repositories"
              data-group-hint=""
              data-group-limits="{}"
              data-default-priority="9"
            >
            </command-palette-item-group>
            <command-palette-item-group
              data-group-id="references"
              data-group-title="Issues, pull requests, and discussions"
              data-group-hint="Type # to filter"
              data-group-limits="{}"
              data-default-priority="10"
            >
            </command-palette-item-group>
            <command-palette-item-group
              data-group-id="teams"
              data-group-title="Teams"
              data-group-hint=""
              data-group-limits="{}"
              data-default-priority="11"
            >
            </command-palette-item-group>
            <command-palette-item-group
              data-group-id="users"
              data-group-title="Users"
              data-group-hint=""
              data-group-limits="{}"
              data-default-priority="12"
            >
            </command-palette-item-group>
            <command-palette-item-group
              data-group-id="memex_projects"
              data-group-title="Projects"
              data-group-hint=""
              data-group-limits="{}"
              data-default-priority="13"
            >
            </command-palette-item-group>
            <command-palette-item-group
              data-group-id="projects"
              data-group-title="Projects (classic)"
              data-group-hint=""
              data-group-limits="{}"
              data-default-priority="14"
            >
            </command-palette-item-group>
            <command-palette-item-group
              data-group-id="footer"
              data-group-title="Footer"
              data-group-hint=""
              data-group-limits="{}"
              data-default-priority="15"
            >
            </command-palette-item-group>
            <command-palette-item-group
              data-group-id="modes_help"
              data-group-title="Modes"
              data-group-hint=""
              data-group-limits="{}"
              data-default-priority="16"
            >
            </command-palette-item-group>
            <command-palette-item-group
              data-group-id="filters_help"
              data-group-title="Use filters in issues, pull requests, discussions, and projects"
              data-group-hint=""
              data-group-limits="{}"
              data-default-priority="17"
            >
            </command-palette-item-group>

            <command-palette-page
              data-page-title="mrdbourke"
              data-scope-id="MDQ6VXNlcjE2NzUwMzQ1"
              data-scope-type="owner"
              data-targets="command-palette-page-stack.defaultPages"
              hidden
            >
            </command-palette-page>
            <command-palette-page
              data-page-title="tensorflow-deep-learning"
              data-scope-id="MDEwOlJlcG9zaXRvcnkzMTU0NjMzNDA="
              data-scope-type="repository"
              data-targets="command-palette-page-stack.defaultPages"
              hidden
            >
            </command-palette-page>
        </div>

        <command-palette-page data-is-root>
        </command-palette-page>
          <command-palette-page
            data-page-title="mrdbourke"
            data-scope-id="MDQ6VXNlcjE2NzUwMzQ1"
            data-scope-type="owner"
          >
          </command-palette-page>
          <command-palette-page
            data-page-title="tensorflow-deep-learning"
            data-scope-id="MDEwOlJlcG9zaXRvcnkzMTU0NjMzNDA="
            data-scope-type="repository"
          >
          </command-palette-page>
      </command-palette-page-stack>

      <server-defined-provider data-type="search-links" data-targets="command-palette.serverDefinedProviderElements"></server-defined-provider>
      <server-defined-provider data-type="help" data-targets="command-palette.serverDefinedProviderElements">
          <command-palette-help
            data-group="modes_help"
              data-prefix="#"
              data-scope-types="[&quot;&quot;]"
          >
            <span data-target="command-palette-help.titleElement">Search for <strong>issues</strong> and <strong>pull requests</strong></span>
              <span data-target="command-palette-help.hintElement">
                <kbd class="hx_kbd">#</kbd>
              </span>
          </command-palette-help>
          <command-palette-help
            data-group="modes_help"
              data-prefix="#"
              data-scope-types="[&quot;owner&quot;,&quot;repository&quot;]"
          >
            <span data-target="command-palette-help.titleElement">Search for <strong>issues, pull requests, discussions,</strong> and <strong>projects</strong></span>
              <span data-target="command-palette-help.hintElement">
                <kbd class="hx_kbd">#</kbd>
              </span>
          </command-palette-help>
          <command-palette-help
            data-group="modes_help"
              data-prefix="@"
              data-scope-types="[&quot;&quot;]"
          >
            <span data-target="command-palette-help.titleElement">Search for <strong>organizations, repositories,</strong> and <strong>users</strong></span>
              <span data-target="command-palette-help.hintElement">
                <kbd class="hx_kbd">@</kbd>
              </span>
          </command-palette-help>
          <command-palette-help
            data-group="modes_help"
              data-prefix="!"
              data-scope-types="[&quot;owner&quot;,&quot;repository&quot;]"
          >
            <span data-target="command-palette-help.titleElement">Search for <strong>projects</strong></span>
              <span data-target="command-palette-help.hintElement">
                <kbd class="hx_kbd">!</kbd>
              </span>
          </command-palette-help>
          <command-palette-help
            data-group="modes_help"
              data-prefix="/"
              data-scope-types="[&quot;repository&quot;]"
          >
            <span data-target="command-palette-help.titleElement">Search for <strong>files</strong></span>
              <span data-target="command-palette-help.hintElement">
                <kbd class="hx_kbd">/</kbd>
              </span>
          </command-palette-help>
          <command-palette-help
            data-group="modes_help"
              data-prefix="&gt;"
          >
            <span data-target="command-palette-help.titleElement">Activate <strong>command mode</strong></span>
              <span data-target="command-palette-help.hintElement">
                <kbd class="hx_kbd">&gt;</kbd>
              </span>
          </command-palette-help>
          <command-palette-help
            data-group="filters_help"
              data-prefix="# author:@me"
          >
            <span data-target="command-palette-help.titleElement">Search your issues, pull requests, and discussions</span>
              <span data-target="command-palette-help.hintElement">
                <kbd class="hx_kbd"># author:@me</kbd>
              </span>
          </command-palette-help>
          <command-palette-help
            data-group="filters_help"
              data-prefix="# author:@me"
          >
            <span data-target="command-palette-help.titleElement">Search your issues, pull requests, and discussions</span>
              <span data-target="command-palette-help.hintElement">
                <kbd class="hx_kbd"># author:@me</kbd>
              </span>
          </command-palette-help>
          <command-palette-help
            data-group="filters_help"
              data-prefix="# is:pr"
          >
            <span data-target="command-palette-help.titleElement">Filter to pull requests</span>
              <span data-target="command-palette-help.hintElement">
                <kbd class="hx_kbd"># is:pr</kbd>
              </span>
          </command-palette-help>
          <command-palette-help
            data-group="filters_help"
              data-prefix="# is:issue"
          >
            <span data-target="command-palette-help.titleElement">Filter to issues</span>
              <span data-target="command-palette-help.hintElement">
                <kbd class="hx_kbd"># is:issue</kbd>
              </span>
          </command-palette-help>
          <command-palette-help
            data-group="filters_help"
              data-prefix="# is:discussion"
              data-scope-types="[&quot;owner&quot;,&quot;repository&quot;]"
          >
            <span data-target="command-palette-help.titleElement">Filter to discussions</span>
              <span data-target="command-palette-help.hintElement">
                <kbd class="hx_kbd"># is:discussion</kbd>
              </span>
          </command-palette-help>
          <command-palette-help
            data-group="filters_help"
              data-prefix="# is:project"
              data-scope-types="[&quot;owner&quot;,&quot;repository&quot;]"
          >
            <span data-target="command-palette-help.titleElement">Filter to projects</span>
              <span data-target="command-palette-help.hintElement">
                <kbd class="hx_kbd"># is:project</kbd>
              </span>
          </command-palette-help>
          <command-palette-help
            data-group="filters_help"
              data-prefix="# is:open"
          >
            <span data-target="command-palette-help.titleElement">Filter to open issues, pull requests, and discussions</span>
              <span data-target="command-palette-help.hintElement">
                <kbd class="hx_kbd"># is:open</kbd>
              </span>
          </command-palette-help>
      </server-defined-provider>

        <server-defined-provider
          data-type="commands"
          data-fetch-debounce="0"
            data-src="/command_palette/commands"
          data-supported-modes="[]"
            data-supports-commands
          
          data-targets="command-palette.serverDefinedProviderElements"
          ></server-defined-provider>
        <server-defined-provider
          data-type="prefetched"
          data-fetch-debounce="0"
            data-src="/command_palette/jump_to_page_navigation"
          data-supported-modes="[&quot;&quot;]"
            data-supported-scope-types="[&quot;&quot;,&quot;owner&quot;,&quot;repository&quot;]"
          
          data-targets="command-palette.serverDefinedProviderElements"
          ></server-defined-provider>
        <server-defined-provider
          data-type="remote"
          data-fetch-debounce="200"
            data-src="/command_palette/issues"
          data-supported-modes="[&quot;#&quot;,&quot;#&quot;]"
            data-supported-scope-types="[&quot;owner&quot;,&quot;repository&quot;,&quot;&quot;]"
          
          data-targets="command-palette.serverDefinedProviderElements"
          ></server-defined-provider>
        <server-defined-provider
          data-type="remote"
          data-fetch-debounce="200"
            data-src="/command_palette/jump_to"
          data-supported-modes="[&quot;@&quot;,&quot;@&quot;]"
            data-supported-scope-types="[&quot;&quot;,&quot;owner&quot;]"
          
          data-targets="command-palette.serverDefinedProviderElements"
          ></server-defined-provider>
        <server-defined-provider
          data-type="remote"
          data-fetch-debounce="200"
            data-src="/command_palette/jump_to_members_only"
          data-supported-modes="[&quot;@&quot;,&quot;@&quot;,&quot;&quot;,&quot;&quot;]"
            data-supported-scope-types="[&quot;&quot;,&quot;owner&quot;]"
          
          data-targets="command-palette.serverDefinedProviderElements"
          ></server-defined-provider>
        <server-defined-provider
          data-type="prefetched"
          data-fetch-debounce="0"
            data-src="/command_palette/jump_to_members_only_prefetched"
          data-supported-modes="[&quot;@&quot;,&quot;@&quot;,&quot;&quot;,&quot;&quot;]"
            data-supported-scope-types="[&quot;&quot;,&quot;owner&quot;]"
          
          data-targets="command-palette.serverDefinedProviderElements"
          ></server-defined-provider>
        <server-defined-provider
          data-type="files"
          data-fetch-debounce="0"
            data-src="/command_palette/files"
          data-supported-modes="[&quot;/&quot;]"
            data-supported-scope-types="[&quot;repository&quot;]"
          
          data-targets="command-palette.serverDefinedProviderElements"
          ></server-defined-provider>
        <server-defined-provider
          data-type="remote"
          data-fetch-debounce="200"
            data-src="/command_palette/discussions"
          data-supported-modes="[&quot;#&quot;]"
            data-supported-scope-types="[&quot;owner&quot;,&quot;repository&quot;]"
          
          data-targets="command-palette.serverDefinedProviderElements"
          ></server-defined-provider>
        <server-defined-provider
          data-type="remote"
          data-fetch-debounce="200"
            data-src="/command_palette/projects"
          data-supported-modes="[&quot;#&quot;,&quot;!&quot;]"
            data-supported-scope-types="[&quot;owner&quot;,&quot;repository&quot;]"
          
          data-targets="command-palette.serverDefinedProviderElements"
          ></server-defined-provider>
        <server-defined-provider
          data-type="prefetched"
          data-fetch-debounce="0"
            data-src="/command_palette/recent_issues"
          data-supported-modes="[&quot;#&quot;,&quot;#&quot;]"
            data-supported-scope-types="[&quot;owner&quot;,&quot;repository&quot;,&quot;&quot;]"
          
          data-targets="command-palette.serverDefinedProviderElements"
          ></server-defined-provider>
        <server-defined-provider
          data-type="remote"
          data-fetch-debounce="200"
            data-src="/command_palette/teams"
          data-supported-modes="[&quot;@&quot;,&quot;&quot;]"
            data-supported-scope-types="[&quot;owner&quot;]"
          
          data-targets="command-palette.serverDefinedProviderElements"
          ></server-defined-provider>
        <server-defined-provider
          data-type="remote"
          data-fetch-debounce="200"
            data-src="/command_palette/name_with_owner_repository"
          data-supported-modes="[&quot;@&quot;,&quot;@&quot;,&quot;&quot;,&quot;&quot;]"
            data-supported-scope-types="[&quot;&quot;,&quot;owner&quot;]"
          
          data-targets="command-palette.serverDefinedProviderElements"
          ></server-defined-provider>
    </command-palette>
  </details-dialog>
</details>

<div class="position-fixed bottom-0 left-0 ml-5 mb-5 js-command-palette-toasts" style="z-index: 1000">
  <div hidden class="Toast Toast--loading">
    <span class="Toast-icon">
      <svg class="Toast--spinner" viewBox="0 0 32 32" width="18" height="18" aria-hidden="true">
        <path
          fill="#959da5"
          d="M16 0 A16 16 0 0 0 16 32 A16 16 0 0 0 16 0 M16 4 A12 12 0 0 1 16 28 A12 12 0 0 1 16 4"
        />
        <path fill="#ffffff" d="M16 0 A16 16 0 0 1 32 16 L28 16 A12 12 0 0 0 16 4z"></path>
      </svg>
    </span>
    <span class="Toast-content"></span>
  </div>

  <div hidden class="anim-fade-in fast Toast Toast--error">
    <span class="Toast-icon">
      <svg aria-hidden="true" height="16" viewBox="0 0 16 16" version="1.1" width="16" data-view-component="true" class="octicon octicon-stop">
    <path d="M4.47.22A.749.749 0 0 1 5 0h6c.199 0 .389.079.53.22l4.25 4.25c.141.14.22.331.22.53v6a.749.749 0 0 1-.22.53l-4.25 4.25A.749.749 0 0 1 11 16H5a.749.749 0 0 1-.53-.22L.22 11.53A.749.749 0 0 1 0 11V5c0-.199.079-.389.22-.53Zm.84 1.28L1.5 5.31v5.38l3.81 3.81h5.38l3.81-3.81V5.31L10.69 1.5ZM8 4a.75.75 0 0 1 .75.75v3.5a.75.75 0 0 1-1.5 0v-3.5A.75.75 0 0 1 8 4Zm0 8a1 1 0 1 1 0-2 1 1 0 0 1 0 2Z"></path>
</svg>
    </span>
    <span class="Toast-content"></span>
  </div>

  <div hidden class="anim-fade-in fast Toast Toast--warning">
    <span class="Toast-icon">
      <svg aria-hidden="true" height="16" viewBox="0 0 16 16" version="1.1" width="16" data-view-component="true" class="octicon octicon-alert">
    <path d="M6.457 1.047c.659-1.234 2.427-1.234 3.086 0l6.082 11.378A1.75 1.75 0 0 1 14.082 15H1.918a1.75 1.75 0 0 1-1.543-2.575Zm1.763.707a.25.25 0 0 0-.44 0L1.698 13.132a.25.25 0 0 0 .22.368h12.164a.25.25 0 0 0 .22-.368Zm.53 3.996v2.5a.75.75 0 0 1-1.5 0v-2.5a.75.75 0 0 1 1.5 0ZM9 11a1 1 0 1 1-2 0 1 1 0 0 1 2 0Z"></path>
</svg>
    </span>
    <span class="Toast-content"></span>
  </div>


  <div hidden class="anim-fade-in fast Toast Toast--success">
    <span class="Toast-icon">
      <svg aria-hidden="true" height="16" viewBox="0 0 16 16" version="1.1" width="16" data-view-component="true" class="octicon octicon-check">
    <path d="M13.78 4.22a.75.75 0 0 1 0 1.06l-7.25 7.25a.75.75 0 0 1-1.06 0L2.22 9.28a.751.751 0 0 1 .018-1.042.751.751 0 0 1 1.042-.018L6 10.94l6.72-6.72a.75.75 0 0 1 1.06 0Z"></path>
</svg>
    </span>
    <span class="Toast-content"></span>
  </div>

  <div hidden class="anim-fade-in fast Toast">
    <span class="Toast-icon">
      <svg aria-hidden="true" height="16" viewBox="0 0 16 16" version="1.1" width="16" data-view-component="true" class="octicon octicon-info">
    <path d="M0 8a8 8 0 1 1 16 0A8 8 0 0 1 0 8Zm8-6.5a6.5 6.5 0 1 0 0 13 6.5 6.5 0 0 0 0-13ZM6.5 7.75A.75.75 0 0 1 7.25 7h1a.75.75 0 0 1 .75.75v2.75h.25a.75.75 0 0 1 0 1.5h-2a.75.75 0 0 1 0-1.5h.25v-2h-.25a.75.75 0 0 1-.75-.75ZM8 6a1 1 0 1 1 0-2 1 1 0 0 1 0 2Z"></path>
</svg>
    </span>
    <span class="Toast-content"></span>
  </div>
</div>


  <div
    class="application-main "
    data-commit-hovercards-enabled
    data-discussion-hovercards-enabled
    data-issue-and-pr-hovercards-enabled
  >
        <div itemscope itemtype="http://schema.org/SoftwareSourceCode" class="">
    <main id="js-repo-pjax-container" >
      
      
      






    
  <div id="repository-container-header" data-turbo-replace hidden></div>




<turbo-frame id="repo-content-turbo-frame" target="_top" data-turbo-action="advance" class="">
    <div id="repo-content-pjax-container" class="repository-content " >
      <a href="https://github.dev/" class="d-none js-github-dev-shortcut" data-hotkey=".,Alt+Meta+≥,Control+Alt+.">Open in github.dev</a>
  <a href="https://github.dev/" class="d-none js-github-dev-new-tab-shortcut" data-hotkey="Shift+.,Shift+&gt;,&gt;" target="_blank" rel="noopener noreferrer">Open in a new github.dev tab</a>
    <a class="d-none" data-hotkey=",,Alt+Meta+≤,Control+Alt+," target="_blank" href="/codespaces/new/mrdbourke/tensorflow-deep-learning/tree/main?resume=1">Open in codespace</a>



    
      
    





<react-app
  app-name="react-code-view"
  initial-path="/mrdbourke/tensorflow-deep-learning/blob/main/video_notebooks/08_introduction_to_nlp_in_tensorflow_video.ipynb"
  style="min-height: calc(100vh - 64px)" 
  data-ssr="true"
  data-lazy="false"
  data-alternate="false"
>
  
  <script type="application/json" data-target="react-app.embeddedData">{"payload":{"allShortcutsEnabled":true,"fileTree":{"video_notebooks":{"items":[{"name":"00_tensorflow_fundamentals_video.ipynb","path":"video_notebooks/00_tensorflow_fundamentals_video.ipynb","contentType":"file"},{"name":"01_neural_network_regression_in_tensorflow_video.ipynb","path":"video_notebooks/01_neural_network_regression_in_tensorflow_video.ipynb","contentType":"file"},{"name":"02_neural_network_classification_in_tensorflow_video.ipynb","path":"video_notebooks/02_neural_network_classification_in_tensorflow_video.ipynb","contentType":"file"},{"name":"03_convolutional_neural_networks_with_tensorflow_video.ipynb","path":"video_notebooks/03_convolutional_neural_networks_with_tensorflow_video.ipynb","contentType":"file"},{"name":"04_transfer_learning_in_tensorflow_part_1_feature_extraction_video.ipynb","path":"video_notebooks/04_transfer_learning_in_tensorflow_part_1_feature_extraction_video.ipynb","contentType":"file"},{"name":"05_transfer_learning_in_tensorflow_part_2_fine_tuning_video.ipynb","path":"video_notebooks/05_transfer_learning_in_tensorflow_part_2_fine_tuning_video.ipynb","contentType":"file"},{"name":"06_transfer_learning_in_tensorflow_part_3_scaling_up_video.ipynb","path":"video_notebooks/06_transfer_learning_in_tensorflow_part_3_scaling_up_video.ipynb","contentType":"file"},{"name":"07_milestone_project_1_food_vision_video.ipynb","path":"video_notebooks/07_milestone_project_1_food_vision_video.ipynb","contentType":"file"},{"name":"08_introduction_to_nlp_in_tensorflow_video.ipynb","path":"video_notebooks/08_introduction_to_nlp_in_tensorflow_video.ipynb","contentType":"file"},{"name":"09_SkimLit_nlp_milestone_project_2_video.ipynb","path":"video_notebooks/09_SkimLit_nlp_milestone_project_2_video.ipynb","contentType":"file"},{"name":"10_time_series_forecasting_with_tensorflow_video.ipynb","path":"video_notebooks/10_time_series_forecasting_with_tensorflow_video.ipynb","contentType":"file"},{"name":"README.md","path":"video_notebooks/README.md","contentType":"file"}],"totalCount":12},"":{"items":[{"name":".github","path":".github","contentType":"directory"},{"name":"docs","path":"docs","contentType":"directory"},{"name":"extras","path":"extras","contentType":"directory"},{"name":"images","path":"images","contentType":"directory"},{"name":"slides","path":"slides","contentType":"directory"},{"name":"video_notebooks","path":"video_notebooks","contentType":"directory"},{"name":".gitignore","path":".gitignore","contentType":"file"},{"name":"00_tensorflow_fundamentals.ipynb","path":"00_tensorflow_fundamentals.ipynb","contentType":"file"},{"name":"01_neural_network_regression_in_tensorflow.ipynb","path":"01_neural_network_regression_in_tensorflow.ipynb","contentType":"file"},{"name":"02_neural_network_classification_in_tensorflow.ipynb","path":"02_neural_network_classification_in_tensorflow.ipynb","contentType":"file"},{"name":"03_convolutional_neural_networks_in_tensorflow.ipynb","path":"03_convolutional_neural_networks_in_tensorflow.ipynb","contentType":"file"},{"name":"04_transfer_learning_in_tensorflow_part_1_feature_extraction.ipynb","path":"04_transfer_learning_in_tensorflow_part_1_feature_extraction.ipynb","contentType":"file"},{"name":"05_transfer_learning_in_tensorflow_part_2_fine_tuning.ipynb","path":"05_transfer_learning_in_tensorflow_part_2_fine_tuning.ipynb","contentType":"file"},{"name":"06_transfer_learning_in_tensorflow_part_3_scaling_up.ipynb","path":"06_transfer_learning_in_tensorflow_part_3_scaling_up.ipynb","contentType":"file"},{"name":"07_food_vision_milestone_project_1.ipynb","path":"07_food_vision_milestone_project_1.ipynb","contentType":"file"},{"name":"08_introduction_to_nlp_in_tensorflow.ipynb","path":"08_introduction_to_nlp_in_tensorflow.ipynb","contentType":"file"},{"name":"09_SkimLit_nlp_milestone_project_2.ipynb","path":"09_SkimLit_nlp_milestone_project_2.ipynb","contentType":"file"},{"name":"10_time_series_forecasting_in_tensorflow.ipynb","path":"10_time_series_forecasting_in_tensorflow.ipynb","contentType":"file"},{"name":"11_passing_the_tensorflow_developer_certification_exam.md","path":"11_passing_the_tensorflow_developer_certification_exam.md","contentType":"file"},{"name":"LICENSE","path":"LICENSE","contentType":"file"},{"name":"README.md","path":"README.md","contentType":"file"},{"name":"mkdocs.yml","path":"mkdocs.yml","contentType":"file"}],"totalCount":22}},"fileTreeProcessingTime":7.758104,"foldersToFetch":[],"reducedMotionEnabled":"system","repo":{"id":315463340,"defaultBranch":"main","name":"tensorflow-deep-learning","ownerLogin":"mrdbourke","currentUserCanPush":false,"isFork":false,"isEmpty":false,"createdAt":"2020-11-24T04:41:42.000+05:30","ownerAvatar":"https://avatars.githubusercontent.com/u/16750345?v=4","public":true,"private":false,"isOrgOwned":false},"symbolsExpanded":false,"treeExpanded":true,"refInfo":{"name":"main","listCacheKey":"v0:1624077249.4938722","canEdit":true,"refType":"branch","currentOid":"1be0f77fbb4e056694a910f403a8f61f1b650eec"},"path":"video_notebooks/08_introduction_to_nlp_in_tensorflow_video.ipynb","currentUser":{"id":138370468,"login":"mail2maverick","userEmail":"vishy.turbo@gmail.com"},"blob":{"rawLines":["{","  \"nbformat\": 4,","  \"nbformat_minor\": 0,","  \"metadata\": {","    \"colab\": {","      \"name\": \"08_introduction_to_nlp_in_tensorflow_video.ipynb\",","      \"provenance\": [],","      \"collapsed_sections\": [],","      \"toc_visible\": true,","      \"authorship_tag\": \"ABX9TyNKOCtVw0yctgwcHu2wrFF+\",","      \"include_colab_link\": true","    },","    \"kernelspec\": {","      \"name\": \"python3\",","      \"display_name\": \"Python 3\"","    },","    \"language_info\": {","      \"name\": \"python\"","    },","    \"accelerator\": \"GPU\"","  },","  \"cells\": [","    {","      \"cell_type\": \"markdown\",","      \"metadata\": {","        \"id\": \"view-in-github\",","        \"colab_type\": \"text\"","      },","      \"source\": [","        \"\u003ca href=\\\"https://colab.research.google.com/github/mrdbourke/tensorflow-deep-learning/blob/main/video_notebooks/08_introduction_to_nlp_in_tensorflow_video.ipynb\\\" target=\\\"_parent\\\"\u003e\u003cimg src=\\\"https://colab.research.google.com/assets/colab-badge.svg\\\" alt=\\\"Open In Colab\\\"/\u003e\u003c/a\u003e\"","      ]","    },","    {","      \"cell_type\": \"markdown\",","      \"metadata\": {","        \"id\": \"VkhpvcnZiNkb\"","      },","      \"source\": [","        \"# Introduction to NLP Fundamentals in TensorFlow\\n\",","        \"\\n\",","        \"NLP has the goal of deriving informaton out of natural language (could be seqeuences text or speech).\\n\",","        \"\\n\",","        \"Another common term for NLP problems is sequence to sequence problems (seq2seq).\\n\",","        \"\\n\",","        \"\u003e 📖 **Resource:** See all course materials, resources and extra-curriculum for this notebook on GitHub: https://github.com/mrdbourke/tensorflow-deep-learning/\"","      ]","    },","    {","      \"cell_type\": \"markdown\",","      \"metadata\": {","        \"id\": \"F251SjqZimVF\"","      },","      \"source\": [","        \"## Check for GPU\"","      ]","    },","    {","      \"cell_type\": \"code\",","      \"metadata\": {","        \"colab\": {","          \"base_uri\": \"https://localhost:8080/\"","        },","        \"id\": \"m1dVFu5Jis9Z\",","        \"outputId\": \"6b269000-e2b8-4bee-8d65-447ef3a20986\"","      },","      \"source\": [","        \"!nvidia-smi -L\"","      ],","      \"execution_count\": null,","      \"outputs\": [","        {","          \"output_type\": \"stream\",","          \"text\": [","            \"GPU 0: Tesla K80 (UUID: GPU-a1b19013-e9dc-a380-ac72-f245433843e9)\\n\"","          ],","          \"name\": \"stdout\"","        }","      ]","    },","    {","      \"cell_type\": \"markdown\",","      \"metadata\": {","        \"id\": \"9qrnNJ_4iuX-\"","      },","      \"source\": [","        \"## Get helper functions\"","      ]","    },","    {","      \"cell_type\": \"code\",","      \"metadata\": {","        \"colab\": {","          \"base_uri\": \"https://localhost:8080/\"","        },","        \"id\": \"xC2eRi-Ti6Bt\",","        \"outputId\": \"fd95b8a9-8639-472f-dd5e-fd9fc348fb00\"","      },","      \"source\": [","        \"!wget https://raw.githubusercontent.com/mrdbourke/tensorflow-deep-learning/main/extras/helper_functions.py\\n\",","        \"\\n\",","        \"# Import series of helper functions for the notebook\\n\",","        \"from helper_functions import unzip_data, create_tensorboard_callback, plot_loss_curves, compare_historys\"","      ],","      \"execution_count\": null,","      \"outputs\": [","        {","          \"output_type\": \"stream\",","          \"text\": [","            \"--2021-04-14 05:57:54--  https://raw.githubusercontent.com/mrdbourke/tensorflow-deep-learning/main/extras/helper_functions.py\\n\",","            \"Resolving raw.githubusercontent.com (raw.githubusercontent.com)... 185.199.108.133, 185.199.109.133, 185.199.110.133, ...\\n\",","            \"Connecting to raw.githubusercontent.com (raw.githubusercontent.com)|185.199.108.133|:443... connected.\\n\",","            \"HTTP request sent, awaiting response... 200 OK\\n\",","            \"Length: 9304 (9.1K) [text/plain]\\n\",","            \"Saving to: ‘helper_functions.py’\\n\",","            \"\\n\",","            \"helper_functions.py 100%[===================\u003e]   9.09K  --.-KB/s    in 0s      \\n\",","            \"\\n\",","            \"2021-04-14 05:57:54 (50.0 MB/s) - ‘helper_functions.py’ saved [9304/9304]\\n\",","            \"\\n\"","          ],","          \"name\": \"stdout\"","        }","      ]","    },","    {","      \"cell_type\": \"markdown\",","      \"metadata\": {","        \"id\": \"x8MQn_DwjSlJ\"","      },","      \"source\": [","        \"## Get a text dataset\\n\",","        \"\\n\",","        \"The dataset we're going to be using is Kaggle's introduction to NLP dataset (text samples of Tweets labelled as diaster or not diaster).\\n\",","        \"\\n\",","        \"See the original source here: https://www.kaggle.com/c/nlp-getting-started\"","      ]","    },","    {","      \"cell_type\": \"code\",","      \"metadata\": {","        \"colab\": {","          \"base_uri\": \"https://localhost:8080/\"","        },","        \"id\": \"XuFNZ6zvjW-J\",","        \"outputId\": \"8c7a1370-f981-4875-ac12-f79338125c1c\"","      },","      \"source\": [","        \"!wget https://storage.googleapis.com/ztm_tf_course/nlp_getting_started.zip\\n\",","        \"\\n\",","        \"# Unzip data\\n\",","        \"unzip_data(\\\"nlp_getting_started.zip\\\")\"","      ],","      \"execution_count\": null,","      \"outputs\": [","        {","          \"output_type\": \"stream\",","          \"text\": [","            \"--2021-04-14 05:57:56--  https://storage.googleapis.com/ztm_tf_course/nlp_getting_started.zip\\n\",","            \"Resolving storage.googleapis.com (storage.googleapis.com)... 74.125.140.128, 108.177.15.128, 173.194.76.128, ...\\n\",","            \"Connecting to storage.googleapis.com (storage.googleapis.com)|74.125.140.128|:443... connected.\\n\",","            \"HTTP request sent, awaiting response... 200 OK\\n\",","            \"Length: 607343 (593K) [application/zip]\\n\",","            \"Saving to: ‘nlp_getting_started.zip’\\n\",","            \"\\n\",","            \"nlp_getting_started 100%[===================\u003e] 593.11K  --.-KB/s    in 0.007s  \\n\",","            \"\\n\",","            \"2021-04-14 05:57:57 (81.0 MB/s) - ‘nlp_getting_started.zip’ saved [607343/607343]\\n\",","            \"\\n\"","          ],","          \"name\": \"stdout\"","        }","      ]","    },","    {","      \"cell_type\": \"markdown\",","      \"metadata\": {","        \"id\": \"-I5zOcnvj4NO\"","      },","      \"source\": [","        \"## Visualizing a text dataset\\n\",","        \"\\n\",","        \"To visualize our text samples, we first have to read them in, one way to do so would be to use Python: https://realpython.com/read-write-files-python/\\n\",","        \"\\n\",","        \"But I prefer to get visual straight away.\\n\",","        \"\\n\",","        \"So another way to do this is to use pandas...\"","      ]","    },","    {","      \"cell_type\": \"code\",","      \"metadata\": {","        \"colab\": {","          \"base_uri\": \"https://localhost:8080/\",","          \"height\": 202","        },","        \"id\": \"WMK3xqK8kqQL\",","        \"outputId\": \"168211c3-3ea1-4ef0-ec33-0466fc488366\"","      },","      \"source\": [","        \"import pandas as pd\\n\",","        \"train_df = pd.read_csv(\\\"train.csv\\\")\\n\",","        \"test_df = pd.read_csv(\\\"test.csv\\\")\\n\",","        \"train_df.head()\"","      ],","      \"execution_count\": null,","      \"outputs\": [","        {","          \"output_type\": \"execute_result\",","          \"data\": {","            \"text/html\": [","              \"\u003cdiv\u003e\\n\",","              \"\u003cstyle scoped\u003e\\n\",","              \"    .dataframe tbody tr th:only-of-type {\\n\",","              \"        vertical-align: middle;\\n\",","              \"    }\\n\",","              \"\\n\",","              \"    .dataframe tbody tr th {\\n\",","              \"        vertical-align: top;\\n\",","              \"    }\\n\",","              \"\\n\",","              \"    .dataframe thead th {\\n\",","              \"        text-align: right;\\n\",","              \"    }\\n\",","              \"\u003c/style\u003e\\n\",","              \"\u003ctable border=\\\"1\\\" class=\\\"dataframe\\\"\u003e\\n\",","              \"  \u003cthead\u003e\\n\",","              \"    \u003ctr style=\\\"text-align: right;\\\"\u003e\\n\",","              \"      \u003cth\u003e\u003c/th\u003e\\n\",","              \"      \u003cth\u003eid\u003c/th\u003e\\n\",","              \"      \u003cth\u003ekeyword\u003c/th\u003e\\n\",","              \"      \u003cth\u003elocation\u003c/th\u003e\\n\",","              \"      \u003cth\u003etext\u003c/th\u003e\\n\",","              \"      \u003cth\u003etarget\u003c/th\u003e\\n\",","              \"    \u003c/tr\u003e\\n\",","              \"  \u003c/thead\u003e\\n\",","              \"  \u003ctbody\u003e\\n\",","              \"    \u003ctr\u003e\\n\",","              \"      \u003cth\u003e0\u003c/th\u003e\\n\",","              \"      \u003ctd\u003e1\u003c/td\u003e\\n\",","              \"      \u003ctd\u003eNaN\u003c/td\u003e\\n\",","              \"      \u003ctd\u003eNaN\u003c/td\u003e\\n\",","              \"      \u003ctd\u003eOur Deeds are the Reason of this #earthquake M...\u003c/td\u003e\\n\",","              \"      \u003ctd\u003e1\u003c/td\u003e\\n\",","              \"    \u003c/tr\u003e\\n\",","              \"    \u003ctr\u003e\\n\",","              \"      \u003cth\u003e1\u003c/th\u003e\\n\",","              \"      \u003ctd\u003e4\u003c/td\u003e\\n\",","              \"      \u003ctd\u003eNaN\u003c/td\u003e\\n\",","              \"      \u003ctd\u003eNaN\u003c/td\u003e\\n\",","              \"      \u003ctd\u003eForest fire near La Ronge Sask. Canada\u003c/td\u003e\\n\",","              \"      \u003ctd\u003e1\u003c/td\u003e\\n\",","              \"    \u003c/tr\u003e\\n\",","              \"    \u003ctr\u003e\\n\",","              \"      \u003cth\u003e2\u003c/th\u003e\\n\",","              \"      \u003ctd\u003e5\u003c/td\u003e\\n\",","              \"      \u003ctd\u003eNaN\u003c/td\u003e\\n\",","              \"      \u003ctd\u003eNaN\u003c/td\u003e\\n\",","              \"      \u003ctd\u003eAll residents asked to 'shelter in place' are ...\u003c/td\u003e\\n\",","              \"      \u003ctd\u003e1\u003c/td\u003e\\n\",","              \"    \u003c/tr\u003e\\n\",","              \"    \u003ctr\u003e\\n\",","              \"      \u003cth\u003e3\u003c/th\u003e\\n\",","              \"      \u003ctd\u003e6\u003c/td\u003e\\n\",","              \"      \u003ctd\u003eNaN\u003c/td\u003e\\n\",","              \"      \u003ctd\u003eNaN\u003c/td\u003e\\n\",","              \"      \u003ctd\u003e13,000 people receive #wildfires evacuation or...\u003c/td\u003e\\n\",","              \"      \u003ctd\u003e1\u003c/td\u003e\\n\",","              \"    \u003c/tr\u003e\\n\",","              \"    \u003ctr\u003e\\n\",","              \"      \u003cth\u003e4\u003c/th\u003e\\n\",","              \"      \u003ctd\u003e7\u003c/td\u003e\\n\",","              \"      \u003ctd\u003eNaN\u003c/td\u003e\\n\",","              \"      \u003ctd\u003eNaN\u003c/td\u003e\\n\",","              \"      \u003ctd\u003eJust got sent this photo from Ruby #Alaska as ...\u003c/td\u003e\\n\",","              \"      \u003ctd\u003e1\u003c/td\u003e\\n\",","              \"    \u003c/tr\u003e\\n\",","              \"  \u003c/tbody\u003e\\n\",","              \"\u003c/table\u003e\\n\",","              \"\u003c/div\u003e\"","            ],","            \"text/plain\": [","              \"   id keyword  ...                                               text target\\n\",","              \"0   1     NaN  ...  Our Deeds are the Reason of this #earthquake M...      1\\n\",","              \"1   4     NaN  ...             Forest fire near La Ronge Sask. Canada      1\\n\",","              \"2   5     NaN  ...  All residents asked to 'shelter in place' are ...      1\\n\",","              \"3   6     NaN  ...  13,000 people receive #wildfires evacuation or...      1\\n\",","              \"4   7     NaN  ...  Just got sent this photo from Ruby #Alaska as ...      1\\n\",","              \"\\n\",","              \"[5 rows x 5 columns]\"","            ]","          },","          \"metadata\": {","            \"tags\": []","          },","          \"execution_count\": 4","        }","      ]","    },","    {","      \"cell_type\": \"code\",","      \"metadata\": {","        \"colab\": {","          \"base_uri\": \"https://localhost:8080/\",","          \"height\": 202","        },","        \"id\": \"ng4p6stElbl4\",","        \"outputId\": \"a9640765-8a02-46fd-a3b2-015f47070cff\"","      },","      \"source\": [","        \"# Shuffle training dataframe\\n\",","        \"train_df_shuffled = train_df.sample(frac=1, random_state=42) \\n\",","        \"train_df_shuffled.head()\"","      ],","      \"execution_count\": null,","      \"outputs\": [","        {","          \"output_type\": \"execute_result\",","          \"data\": {","            \"text/html\": [","              \"\u003cdiv\u003e\\n\",","              \"\u003cstyle scoped\u003e\\n\",","              \"    .dataframe tbody tr th:only-of-type {\\n\",","              \"        vertical-align: middle;\\n\",","              \"    }\\n\",","              \"\\n\",","              \"    .dataframe tbody tr th {\\n\",","              \"        vertical-align: top;\\n\",","              \"    }\\n\",","              \"\\n\",","              \"    .dataframe thead th {\\n\",","              \"        text-align: right;\\n\",","              \"    }\\n\",","              \"\u003c/style\u003e\\n\",","              \"\u003ctable border=\\\"1\\\" class=\\\"dataframe\\\"\u003e\\n\",","              \"  \u003cthead\u003e\\n\",","              \"    \u003ctr style=\\\"text-align: right;\\\"\u003e\\n\",","              \"      \u003cth\u003e\u003c/th\u003e\\n\",","              \"      \u003cth\u003eid\u003c/th\u003e\\n\",","              \"      \u003cth\u003ekeyword\u003c/th\u003e\\n\",","              \"      \u003cth\u003elocation\u003c/th\u003e\\n\",","              \"      \u003cth\u003etext\u003c/th\u003e\\n\",","              \"      \u003cth\u003etarget\u003c/th\u003e\\n\",","              \"    \u003c/tr\u003e\\n\",","              \"  \u003c/thead\u003e\\n\",","              \"  \u003ctbody\u003e\\n\",","              \"    \u003ctr\u003e\\n\",","              \"      \u003cth\u003e2644\u003c/th\u003e\\n\",","              \"      \u003ctd\u003e3796\u003c/td\u003e\\n\",","              \"      \u003ctd\u003edestruction\u003c/td\u003e\\n\",","              \"      \u003ctd\u003eNaN\u003c/td\u003e\\n\",","              \"      \u003ctd\u003eSo you have a new weapon that can cause un-ima...\u003c/td\u003e\\n\",","              \"      \u003ctd\u003e1\u003c/td\u003e\\n\",","              \"    \u003c/tr\u003e\\n\",","              \"    \u003ctr\u003e\\n\",","              \"      \u003cth\u003e2227\u003c/th\u003e\\n\",","              \"      \u003ctd\u003e3185\u003c/td\u003e\\n\",","              \"      \u003ctd\u003edeluge\u003c/td\u003e\\n\",","              \"      \u003ctd\u003eNaN\u003c/td\u003e\\n\",","              \"      \u003ctd\u003eThe f$\u0026amp;amp;@ing things I do for #GISHWHES Just...\u003c/td\u003e\\n\",","              \"      \u003ctd\u003e0\u003c/td\u003e\\n\",","              \"    \u003c/tr\u003e\\n\",","              \"    \u003ctr\u003e\\n\",","              \"      \u003cth\u003e5448\u003c/th\u003e\\n\",","              \"      \u003ctd\u003e7769\u003c/td\u003e\\n\",","              \"      \u003ctd\u003epolice\u003c/td\u003e\\n\",","              \"      \u003ctd\u003eUK\u003c/td\u003e\\n\",","              \"      \u003ctd\u003eDT @georgegalloway: RT @Galloway4Mayor: ÛÏThe...\u003c/td\u003e\\n\",","              \"      \u003ctd\u003e1\u003c/td\u003e\\n\",","              \"    \u003c/tr\u003e\\n\",","              \"    \u003ctr\u003e\\n\",","              \"      \u003cth\u003e132\u003c/th\u003e\\n\",","              \"      \u003ctd\u003e191\u003c/td\u003e\\n\",","              \"      \u003ctd\u003eaftershock\u003c/td\u003e\\n\",","              \"      \u003ctd\u003eNaN\u003c/td\u003e\\n\",","              \"      \u003ctd\u003eAftershock back to school kick off was great. ...\u003c/td\u003e\\n\",","              \"      \u003ctd\u003e0\u003c/td\u003e\\n\",","              \"    \u003c/tr\u003e\\n\",","              \"    \u003ctr\u003e\\n\",","              \"      \u003cth\u003e6845\u003c/th\u003e\\n\",","              \"      \u003ctd\u003e9810\u003c/td\u003e\\n\",","              \"      \u003ctd\u003etrauma\u003c/td\u003e\\n\",","              \"      \u003ctd\u003eMontgomery County, MD\u003c/td\u003e\\n\",","              \"      \u003ctd\u003ein response to trauma Children of Addicts deve...\u003c/td\u003e\\n\",","              \"      \u003ctd\u003e0\u003c/td\u003e\\n\",","              \"    \u003c/tr\u003e\\n\",","              \"  \u003c/tbody\u003e\\n\",","              \"\u003c/table\u003e\\n\",","              \"\u003c/div\u003e\"","            ],","            \"text/plain\": [","              \"        id  ... target\\n\",","              \"2644  3796  ...      1\\n\",","              \"2227  3185  ...      0\\n\",","              \"5448  7769  ...      1\\n\",","              \"132    191  ...      0\\n\",","              \"6845  9810  ...      0\\n\",","              \"\\n\",","              \"[5 rows x 5 columns]\"","            ]","          },","          \"metadata\": {","            \"tags\": []","          },","          \"execution_count\": 5","        }","      ]","    },","    {","      \"cell_type\": \"code\",","      \"metadata\": {","        \"colab\": {","          \"base_uri\": \"https://localhost:8080/\",","          \"height\": 202","        },","        \"id\": \"dBUTSefKljdb\",","        \"outputId\": \"6ebbf625-3331-4043-9a64-fc688ca6eed1\"","      },","      \"source\": [","        \"# What does the test dataframe look like?\\n\",","        \"test_df.head()\"","      ],","      \"execution_count\": null,","      \"outputs\": [","        {","          \"output_type\": \"execute_result\",","          \"data\": {","            \"text/html\": [","              \"\u003cdiv\u003e\\n\",","              \"\u003cstyle scoped\u003e\\n\",","              \"    .dataframe tbody tr th:only-of-type {\\n\",","              \"        vertical-align: middle;\\n\",","              \"    }\\n\",","              \"\\n\",","              \"    .dataframe tbody tr th {\\n\",","              \"        vertical-align: top;\\n\",","              \"    }\\n\",","              \"\\n\",","              \"    .dataframe thead th {\\n\",","              \"        text-align: right;\\n\",","              \"    }\\n\",","              \"\u003c/style\u003e\\n\",","              \"\u003ctable border=\\\"1\\\" class=\\\"dataframe\\\"\u003e\\n\",","              \"  \u003cthead\u003e\\n\",","              \"    \u003ctr style=\\\"text-align: right;\\\"\u003e\\n\",","              \"      \u003cth\u003e\u003c/th\u003e\\n\",","              \"      \u003cth\u003eid\u003c/th\u003e\\n\",","              \"      \u003cth\u003ekeyword\u003c/th\u003e\\n\",","              \"      \u003cth\u003elocation\u003c/th\u003e\\n\",","              \"      \u003cth\u003etext\u003c/th\u003e\\n\",","              \"    \u003c/tr\u003e\\n\",","              \"  \u003c/thead\u003e\\n\",","              \"  \u003ctbody\u003e\\n\",","              \"    \u003ctr\u003e\\n\",","              \"      \u003cth\u003e0\u003c/th\u003e\\n\",","              \"      \u003ctd\u003e0\u003c/td\u003e\\n\",","              \"      \u003ctd\u003eNaN\u003c/td\u003e\\n\",","              \"      \u003ctd\u003eNaN\u003c/td\u003e\\n\",","              \"      \u003ctd\u003eJust happened a terrible car crash\u003c/td\u003e\\n\",","              \"    \u003c/tr\u003e\\n\",","              \"    \u003ctr\u003e\\n\",","              \"      \u003cth\u003e1\u003c/th\u003e\\n\",","              \"      \u003ctd\u003e2\u003c/td\u003e\\n\",","              \"      \u003ctd\u003eNaN\u003c/td\u003e\\n\",","              \"      \u003ctd\u003eNaN\u003c/td\u003e\\n\",","              \"      \u003ctd\u003eHeard about #earthquake is different cities, s...\u003c/td\u003e\\n\",","              \"    \u003c/tr\u003e\\n\",","              \"    \u003ctr\u003e\\n\",","              \"      \u003cth\u003e2\u003c/th\u003e\\n\",","              \"      \u003ctd\u003e3\u003c/td\u003e\\n\",","              \"      \u003ctd\u003eNaN\u003c/td\u003e\\n\",","              \"      \u003ctd\u003eNaN\u003c/td\u003e\\n\",","              \"      \u003ctd\u003ethere is a forest fire at spot pond, geese are...\u003c/td\u003e\\n\",","              \"    \u003c/tr\u003e\\n\",","              \"    \u003ctr\u003e\\n\",","              \"      \u003cth\u003e3\u003c/th\u003e\\n\",","              \"      \u003ctd\u003e9\u003c/td\u003e\\n\",","              \"      \u003ctd\u003eNaN\u003c/td\u003e\\n\",","              \"      \u003ctd\u003eNaN\u003c/td\u003e\\n\",","              \"      \u003ctd\u003eApocalypse lighting. #Spokane #wildfires\u003c/td\u003e\\n\",","              \"    \u003c/tr\u003e\\n\",","              \"    \u003ctr\u003e\\n\",","              \"      \u003cth\u003e4\u003c/th\u003e\\n\",","              \"      \u003ctd\u003e11\u003c/td\u003e\\n\",","              \"      \u003ctd\u003eNaN\u003c/td\u003e\\n\",","              \"      \u003ctd\u003eNaN\u003c/td\u003e\\n\",","              \"      \u003ctd\u003eTyphoon Soudelor kills 28 in China and Taiwan\u003c/td\u003e\\n\",","              \"    \u003c/tr\u003e\\n\",","              \"  \u003c/tbody\u003e\\n\",","              \"\u003c/table\u003e\\n\",","              \"\u003c/div\u003e\"","            ],","            \"text/plain\": [","              \"   id keyword location                                               text\\n\",","              \"0   0     NaN      NaN                 Just happened a terrible car crash\\n\",","              \"1   2     NaN      NaN  Heard about #earthquake is different cities, s...\\n\",","              \"2   3     NaN      NaN  there is a forest fire at spot pond, geese are...\\n\",","              \"3   9     NaN      NaN           Apocalypse lighting. #Spokane #wildfires\\n\",","              \"4  11     NaN      NaN      Typhoon Soudelor kills 28 in China and Taiwan\"","            ]","          },","          \"metadata\": {","            \"tags\": []","          },","          \"execution_count\": 6","        }","      ]","    },","    {","      \"cell_type\": \"code\",","      \"metadata\": {","        \"colab\": {","          \"base_uri\": \"https://localhost:8080/\"","        },","        \"id\": \"4rCFdfq7mJGs\",","        \"outputId\": \"42bbb29d-d22a-4bcc-8295-f7f098d8e06a\"","      },","      \"source\": [","        \"# How many examples of each class?\\n\",","        \"train_df.target.value_counts()\"","      ],","      \"execution_count\": null,","      \"outputs\": [","        {","          \"output_type\": \"execute_result\",","          \"data\": {","            \"text/plain\": [","              \"0    4342\\n\",","              \"1    3271\\n\",","              \"Name: target, dtype: int64\"","            ]","          },","          \"metadata\": {","            \"tags\": []","          },","          \"execution_count\": 7","        }","      ]","    },","    {","      \"cell_type\": \"code\",","      \"metadata\": {","        \"colab\": {","          \"base_uri\": \"https://localhost:8080/\"","        },","        \"id\": \"h5wrCzWCmS9P\",","        \"outputId\": \"50cd45e1-4faf-4d7e-827c-7fc00415688f\"","      },","      \"source\": [","        \"# How many total samples?\\n\",","        \"len(train_df), len(test_df)\"","      ],","      \"execution_count\": null,","      \"outputs\": [","        {","          \"output_type\": \"execute_result\",","          \"data\": {","            \"text/plain\": [","              \"(7613, 3263)\"","            ]","          },","          \"metadata\": {","            \"tags\": []","          },","          \"execution_count\": 8","        }","      ]","    },","    {","      \"cell_type\": \"code\",","      \"metadata\": {","        \"colab\": {","          \"base_uri\": \"https://localhost:8080/\"","        },","        \"id\": \"IHqct-_WmzSp\",","        \"outputId\": \"b7a07218-9cb6-4a52-d129-0de5644064f9\"","      },","      \"source\": [","        \"# Let's visualize some random training examples\\n\",","        \"import random\\n\",","        \"random_index = random.randint(0, len(train_df)-5) # create random indexes not higher than the total number of samples\\n\",","        \"for row in train_df_shuffled[[\\\"text\\\", \\\"target\\\"]][random_index:random_index+5].itertuples():\\n\",","        \"  _, text, target = row\\n\",","        \"  print(f\\\"Target: {target}\\\", \\\"(real diaster)\\\" if target \u003e 0 else \\\"(not real diaster)\\\")\\n\",","        \"  print(f\\\"Text:\\\\n{text}\\\\n\\\")\\n\",","        \"  print(\\\"---\\\\n\\\")\"","      ],","      \"execution_count\": null,","      \"outputs\": [","        {","          \"output_type\": \"stream\",","          \"text\": [","            \"Target: 0 (not real diaster)\\n\",","            \"Text:\\n\",","            \"Do you have a plan in case of a pool chemical emergency? Learn more here: http://t.co/UePPjwvLcb #watersafety @CDC\\n\",","            \"\\n\",","            \"---\\n\",","            \"\\n\",","            \"Target: 0 (not real diaster)\\n\",","            \"Text:\\n\",","            \"I crashed my car into a parked car the other day... #modestmouseremix #truestory\\n\",","            \"\\n\",","            \"---\\n\",","            \"\\n\",","            \"Target: 0 (not real diaster)\\n\",","            \"Text:\\n\",","            \"smokers that ruin that new car smell ????\\n\",","            \"\\n\",","            \"---\\n\",","            \"\\n\",","            \"Target: 1 (real diaster)\\n\",","            \"Text:\\n\",","            \"#computers #gadgets Two giant cranes holding a bridge collapse into nearby homes http://t.co/UZIWgZRynY #slingnews\\n\",","            \"\\n\",","            \"---\\n\",","            \"\\n\",","            \"Target: 0 (not real diaster)\\n\",","            \"Text:\\n\",","            \"I love the sound of thunder rumbling across the mountains.\\n\",","            \"\\n\",","            \"---\\n\",","            \"\\n\"","          ],","          \"name\": \"stdout\"","        }","      ]","    },","    {","      \"cell_type\": \"markdown\",","      \"metadata\": {","        \"id\": \"cZEKNKZOn0A8\"","      },","      \"source\": [","        \"### Split data into training and validation sets\\n\",","        \"\\n\",","        \"We want to be able to see how our model is performing on unseen data whilst it trains.\\n\",","        \"\\n\",","        \"And because the testing dataset doesn't have labels, we'll have to create a validation dataset to evaluate on (the model won't see the validation dataset during training so we can use its samples and labels to evaluate our model's performance).\"","      ]","    },","    {","      \"cell_type\": \"code\",","      \"metadata\": {","        \"id\": \"RRurDp_XpEv_\"","      },","      \"source\": [","        \"from sklearn.model_selection import train_test_split \"","      ],","      \"execution_count\": null,","      \"outputs\": []","    },","    {","      \"cell_type\": \"code\",","      \"metadata\": {","        \"id\": \"kBSr2LTvpRQm\"","      },","      \"source\": [","        \"# Use train_test_split to split training data into training and validation sets\\n\",","        \"train_sentences, val_sentences, train_labels, val_labels = train_test_split(train_df_shuffled[\\\"text\\\"].to_numpy(),\\n\",","        \"                                                                            train_df_shuffled[\\\"target\\\"].to_numpy(),\\n\",","        \"                                                                            test_size=0.1, # use 10% of training data for validation split\\n\",","        \"                                                                            random_state=42)\"","      ],","      \"execution_count\": null,","      \"outputs\": []","    },","    {","      \"cell_type\": \"code\",","      \"metadata\": {","        \"colab\": {","          \"base_uri\": \"https://localhost:8080/\"","        },","        \"id\": \"AxpYGpF5pxiM\",","        \"outputId\": \"dff90d32-2ec1-4e81-d32d-87a697334383\"","      },","      \"source\": [","        \"# Check the lengths\\n\",","        \"len(train_sentences), len(train_labels), len(val_sentences), len(val_labels)\"","      ],","      \"execution_count\": null,","      \"outputs\": [","        {","          \"output_type\": \"execute_result\",","          \"data\": {","            \"text/plain\": [","              \"(6851, 6851, 762, 762)\"","            ]","          },","          \"metadata\": {","            \"tags\": []","          },","          \"execution_count\": 12","        }","      ]","    },","    {","      \"cell_type\": \"code\",","      \"metadata\": {","        \"colab\": {","          \"base_uri\": \"https://localhost:8080/\"","        },","        \"id\": \"m1xC2MWxp5Rj\",","        \"outputId\": \"e5421f13-8871-4fc5-87d0-cff426878e99\"","      },","      \"source\": [","        \"# Check the first 10 samples \\n\",","        \"train_sentences[:10], train_labels[:10]\"","      ],","      \"execution_count\": null,","      \"outputs\": [","        {","          \"output_type\": \"execute_result\",","          \"data\": {","            \"text/plain\": [","              \"(array(['@mogacola @zamtriossu i screamed after hitting tweet',\\n\",","              \"        'Imagine getting flattened by Kurt Zouma',\\n\",","              \"        '@Gurmeetramrahim #MSGDoing111WelfareWorks Green S welfare force ke appx 65000 members har time disaster victim ki help ke liye tyar hai....',\\n\",","              \"        \\\"@shakjn @C7 @Magnums im shaking in fear he's gonna hack the planet\\\",\\n\",","              \"        'Somehow find you and I collide http://t.co/Ee8RpOahPk',\\n\",","              \"        '@EvaHanderek @MarleyKnysh great times until the bus driver held us hostage in the mall parking lot lmfao',\\n\",","              \"        'destroy the free fandom honestly',\\n\",","              \"        'Weapons stolen from National Guard Armory in New Albany still missing #Gunsense http://t.co/lKNU8902JE',\\n\",","              \"        '@wfaaweather Pete when will the heat wave pass? Is it really going to be mid month? Frisco Boy Scouts have a canoe trip in Okla.',\\n\",","              \"        'Patient-reported outcomes in long-term survivors of metastatic colorectal cancer - British Journal of Surgery http://t.co/5Yl4DC1Tqt'],\\n\",","              \"       dtype=object), array([0, 0, 1, 0, 0, 1, 1, 0, 1, 1]))\"","            ]","          },","          \"metadata\": {","            \"tags\": []","          },","          \"execution_count\": 13","        }","      ]","    },","    {","      \"cell_type\": \"markdown\",","      \"metadata\": {","        \"id\": \"2Td1h4t5p7ST\"","      },","      \"source\": [","        \"## Converting text into numbers\\n\",","        \"\\n\",","        \"When dealing with a text problem, one of the first things you'll have to do before you can build a model is to convert your text to numbers.\\n\",","        \"\\n\",","        \"There are a few ways to do this, namely:\\n\",","        \"* Tokenziation - direct mapping of token (a token could be a word or a character) to number\\n\",","        \"* Embedding - create a matrix of feature vector for each token (the size of the feature vector can be defined and this embedding can be learned)\"","      ]","    },","    {","      \"cell_type\": \"markdown\",","      \"metadata\": {","        \"id\": \"BI3K0U_xBtu6\"","      },","      \"source\": [","        \"### Text vectorization (tokenization)\"","      ]","    },","    {","      \"cell_type\": \"code\",","      \"metadata\": {","        \"colab\": {","          \"base_uri\": \"https://localhost:8080/\"","        },","        \"id\": \"I_hj9h10FJ56\",","        \"outputId\": \"ef9dd7f7-2f60-4d34-8fc4-57ceb83ffa51\"","      },","      \"source\": [","        \"train_sentences[:5]\"","      ],","      \"execution_count\": null,","      \"outputs\": [","        {","          \"output_type\": \"execute_result\",","          \"data\": {","            \"text/plain\": [","              \"array(['@mogacola @zamtriossu i screamed after hitting tweet',\\n\",","              \"       'Imagine getting flattened by Kurt Zouma',\\n\",","              \"       '@Gurmeetramrahim #MSGDoing111WelfareWorks Green S welfare force ke appx 65000 members har time disaster victim ki help ke liye tyar hai....',\\n\",","              \"       \\\"@shakjn @C7 @Magnums im shaking in fear he's gonna hack the planet\\\",\\n\",","              \"       'Somehow find you and I collide http://t.co/Ee8RpOahPk'],\\n\",","              \"      dtype=object)\"","            ]","          },","          \"metadata\": {","            \"tags\": []","          },","          \"execution_count\": 14","        }","      ]","    },","    {","      \"cell_type\": \"code\",","      \"metadata\": {","        \"id\": \"blJWemjwFIP-\"","      },","      \"source\": [","        \"import tensorflow as tf\\n\",","        \"from tensorflow.keras.layers.experimental.preprocessing import TextVectorization\\n\",","        \"\\n\",","        \"# Use the default TextVectorization parameters\\n\",","        \"text_vectorizer = TextVectorization(max_tokens=None, # how many words in the vocabulary (automatically add \u003cOOV\u003e)\\n\",","        \"                                    standardize=\\\"lower_and_strip_punctuation\\\",\\n\",","        \"                                    split=\\\"whitespace\\\",\\n\",","        \"                                    ngrams=None, # create groups of n-words?\\n\",","        \"                                    output_mode=\\\"int\\\", # how to map tokens to numbers\\n\",","        \"                                    output_sequence_length=None, # how long do you want your sequences to be?\\n\",","        \"                                    pad_to_max_tokens=True)\"","      ],","      \"execution_count\": null,","      \"outputs\": []","    },","    {","      \"cell_type\": \"code\",","      \"metadata\": {","        \"colab\": {","          \"base_uri\": \"https://localhost:8080/\"","        },","        \"id\": \"_wxF2xv-H4xB\",","        \"outputId\": \"f84230f1-69fe-4c34-f3ef-bc2784d8ab2f\"","      },","      \"source\": [","        \"len(train_sentences[0].split())\"","      ],","      \"execution_count\": null,","      \"outputs\": [","        {","          \"output_type\": \"execute_result\",","          \"data\": {","            \"text/plain\": [","              \"7\"","            ]","          },","          \"metadata\": {","            \"tags\": []","          },","          \"execution_count\": 16","        }","      ]","    },","    {","      \"cell_type\": \"code\",","      \"metadata\": {","        \"colab\": {","          \"base_uri\": \"https://localhost:8080/\"","        },","        \"id\": \"YjPouAI-FR0c\",","        \"outputId\": \"2269c697-5b8d-446b-b256-5a6ff675600b\"","      },","      \"source\": [","        \"# Find the average number of tokens (words) in the training tweets\\n\",","        \"round(sum([len(i.split()) for i in train_sentences])/len(train_sentences))\"","      ],","      \"execution_count\": null,","      \"outputs\": [","        {","          \"output_type\": \"execute_result\",","          \"data\": {","            \"text/plain\": [","              \"15\"","            ]","          },","          \"metadata\": {","            \"tags\": []","          },","          \"execution_count\": 17","        }","      ]","    },","    {","      \"cell_type\": \"code\",","      \"metadata\": {","        \"id\": \"fPPKoQ2uIBuY\"","      },","      \"source\": [","        \"# Setup text vectorization variables\\n\",","        \"max_vocab_length = 10000 # max number of words to have in our vocabulary\\n\",","        \"max_length = 15 # max length our sequences will be (e.g. how many words from a Tweet does a model see?)\\n\",","        \"\\n\",","        \"text_vectorizer = TextVectorization(max_tokens=max_vocab_length,\\n\",","        \"                                    output_mode=\\\"int\\\",\\n\",","        \"                                    output_sequence_length=max_length)\"","      ],","      \"execution_count\": null,","      \"outputs\": []","    },","    {","      \"cell_type\": \"code\",","      \"metadata\": {","        \"id\": \"s5TD-rndImmo\"","      },","      \"source\": [","        \"# Fit the text vectorizer instance to the training data using the adapt() method\\n\",","        \"text_vectorizer.adapt(train_sentences)\"","      ],","      \"execution_count\": null,","      \"outputs\": []","    },","    {","      \"cell_type\": \"code\",","      \"metadata\": {","        \"colab\": {","          \"base_uri\": \"https://localhost:8080/\"","        },","        \"id\": \"R-ETwZ92JiOx\",","        \"outputId\": \"98a580db-6f26-4275-b39f-ca09e8084e26\"","      },","      \"source\": [","        \"# Create a sample sentence and tokenize it\\n\",","        \"sample_sentence = \\\"There's a flood in my street!\\\"\\n\",","        \"text_vectorizer([sample_sentence])\"","      ],","      \"execution_count\": null,","      \"outputs\": [","        {","          \"output_type\": \"execute_result\",","          \"data\": {","            \"text/plain\": [","              \"\u003ctf.Tensor: shape=(1, 15), dtype=int64, numpy=\\n\",","              \"array([[264,   3, 232,   4,  13, 698,   0,   0,   0,   0,   0,   0,   0,\\n\",","              \"          0,   0]])\u003e\"","            ]","          },","          \"metadata\": {","            \"tags\": []","          },","          \"execution_count\": 20","        }","      ]","    },","    {","      \"cell_type\": \"code\",","      \"metadata\": {","        \"colab\": {","          \"base_uri\": \"https://localhost:8080/\"","        },","        \"id\": \"CtG-XWMHJ9Zi\",","        \"outputId\": \"5723dbe6-c5fa-4be7-d3b1-930138530818\"","      },","      \"source\": [","        \"# Choose a random sentence from the training dataset and tokenize it\\n\",","        \"random_sentence = random.choice(train_sentences)\\n\",","        \"print(f\\\"Original text:\\\\n{random_sentence}\\\\\\n\",","        \"        \\\\n\\\\nVectorized version:\\\")\\n\",","        \"text_vectorizer([random_sentence])\"","      ],","      \"execution_count\": null,","      \"outputs\": [","        {","          \"output_type\": \"stream\",","          \"text\": [","            \"Original text:\\n\",","            \"A Rocket To The Moon  ? Sleeping With Sirens ?A Rocket To The Moon ????????????        \\n\",","            \"\\n\",","            \"Vectorized version:\\n\"","          ],","          \"name\": \"stdout\"","        },","        {","          \"output_type\": \"execute_result\",","          \"data\": {","            \"text/plain\": [","              \"\u003ctf.Tensor: shape=(1, 15), dtype=int64, numpy=\\n\",","              \"array([[   3, 2732,    5,    2, 2038, 1365,   14,  568,    3, 2732,    5,\\n\",","              \"           2, 2038,    0,    0]])\u003e\"","            ]","          },","          \"metadata\": {","            \"tags\": []","          },","          \"execution_count\": 21","        }","      ]","    },","    {","      \"cell_type\": \"code\",","      \"metadata\": {","        \"colab\": {","          \"base_uri\": \"https://localhost:8080/\"","        },","        \"id\": \"np2kAsmlKk13\",","        \"outputId\": \"dbf73060-1cdd-465a-ddad-f6f618a75c34\"","      },","      \"source\": [","        \"# Get the unique words in the vocabulary\\n\",","        \"words_in_vocab = text_vectorizer.get_vocabulary()\\n\",","        \"top_5_words = words_in_vocab[:5] # the most common words in the vocab\\n\",","        \"bottom_5_words = words_in_vocab[-5:] # the least common words in the vocab\\n\",","        \"print(f\\\"Most common words in vocab: {top_5_words}\\\")\\n\",","        \"print(f\\\"Least common words in vocab: {bottom_5_words}\\\")\"","      ],","      \"execution_count\": null,","      \"outputs\": [","        {","          \"output_type\": \"stream\",","          \"text\": [","            \"Most common words in vocab: ['', '[UNK]', 'the', 'a', 'in']\\n\",","            \"Least common words in vocab: ['pages', 'paeds', 'pads', 'padres', 'paddytomlinson1']\\n\"","          ],","          \"name\": \"stdout\"","        }","      ]","    },","    {","      \"cell_type\": \"code\",","      \"metadata\": {","        \"colab\": {","          \"base_uri\": \"https://localhost:8080/\"","        },","        \"id\": \"w2Kk1wTIK8CV\",","        \"outputId\": \"0fa8489c-c27b-43d1-dff8-2ace2d6f03d6\"","      },","      \"source\": [","        \"# how long is our vocab?\\n\",","        \"len(words_in_vocab)\"","      ],","      \"execution_count\": null,","      \"outputs\": [","        {","          \"output_type\": \"execute_result\",","          \"data\": {","            \"text/plain\": [","              \"10000\"","            ]","          },","          \"metadata\": {","            \"tags\": []","          },","          \"execution_count\": 23","        }","      ]","    },","    {","      \"cell_type\": \"markdown\",","      \"metadata\": {","        \"id\": \"rn3N5uRPLAvm\"","      },","      \"source\": [","        \"## Creating an Embedding using an Embedding Layer\"","      ]","    },","    {","      \"cell_type\": \"code\",","      \"metadata\": {","        \"colab\": {","          \"base_uri\": \"https://localhost:8080/\"","        },","        \"id\": \"FLdTzqnVe_2i\",","        \"outputId\": \"075cdba4-ff3b-4e28-a97b-ce5364fbe006\"","      },","      \"source\": [","        \"max_length,\"","      ],","      \"execution_count\": null,","      \"outputs\": [","        {","          \"output_type\": \"execute_result\",","          \"data\": {","            \"text/plain\": [","              \"(15,)\"","            ]","          },","          \"metadata\": {","            \"tags\": []","          },","          \"execution_count\": 24","        }","      ]","    },","    {","      \"cell_type\": \"code\",","      \"metadata\": {","        \"colab\": {","          \"base_uri\": \"https://localhost:8080/\"","        },","        \"id\": \"ty5Y34oQMPi8\",","        \"outputId\": \"96ff99e2-310f-4c59-94eb-fc7360919119\"","      },","      \"source\": [","        \"from tensorflow.keras import layers \\n\",","        \"\\n\",","        \"embedding = layers.Embedding(input_dim=max_vocab_length, # set the input shape\\n\",","        \"                             output_dim=128, # set the size of the embedding vector\\n\",","        \"                             embeddings_initializer=\\\"uniform\\\", # default, initialize embedding vectors randomly\\n\",","        \"                             input_length=max_length # how long is each input\\n\",","        \"                             )\\n\",","        \"\\n\",","        \"embedding\"","      ],","      \"execution_count\": null,","      \"outputs\": [","        {","          \"output_type\": \"execute_result\",","          \"data\": {","            \"text/plain\": [","              \"\u003ctensorflow.python.keras.layers.embeddings.Embedding at 0x7feaf0574dd0\u003e\"","            ]","          },","          \"metadata\": {","            \"tags\": []","          },","          \"execution_count\": 25","        }","      ]","    },","    {","      \"cell_type\": \"code\",","      \"metadata\": {","        \"colab\": {","          \"base_uri\": \"https://localhost:8080/\"","        },","        \"id\": \"ThScOvPANZzB\",","        \"outputId\": \"1fa3fc2d-87f9-472f-a8c6-d73de4004ceb\"","      },","      \"source\": [","        \"# Get a random sentence from training set\\n\",","        \"random_sentence = random.choice(train_sentences)\\n\",","        \"print(f\\\"Original text:\\\\n{random_sentence}\\\\\\n\",","        \"        \\\\n\\\\nEmbedded version:\\\")\\n\",","        \"\\n\",","        \"# Embed the random sentence (turn it into numerical representation, aka tokenization first)\\n\",","        \"sample_embed = embedding(text_vectorizer([random_sentence]))\\n\",","        \"sample_embed\"","      ],","      \"execution_count\": null,","      \"outputs\": [","        {","          \"output_type\": \"stream\",","          \"text\": [","            \"Original text:\\n\",","            \"Tram travellers evacuated after powerlines come down in Surfers http://t.co/Qsheu3yF0W        \\n\",","            \"\\n\",","            \"Embedded version:\\n\"","          ],","          \"name\": \"stdout\"","        },","        {","          \"output_type\": \"execute_result\",","          \"data\": {","            \"text/plain\": [","              \"\u003ctf.Tensor: shape=(1, 15, 128), dtype=float32, numpy=\\n\",","              \"array([[[-0.04958296, -0.04139192, -0.04169388, ...,  0.01408607,\\n\",","              \"         -0.01752247,  0.04459331],\\n\",","              \"        [-0.03577176, -0.04699584, -0.02933953, ...,  0.03718685,\\n\",","              \"         -0.02223238,  0.03446043],\\n\",","              \"        [ 0.00107155, -0.00010961, -0.03292809, ...,  0.00652714,\\n\",","              \"          0.02232416,  0.01176478],\\n\",","              \"        ...,\\n\",","              \"        [-0.03103235, -0.03435149, -0.03189705, ...,  0.02484849,\\n\",","              \"          0.03722688, -0.04460208],\\n\",","              \"        [-0.03103235, -0.03435149, -0.03189705, ...,  0.02484849,\\n\",","              \"          0.03722688, -0.04460208],\\n\",","              \"        [-0.03103235, -0.03435149, -0.03189705, ...,  0.02484849,\\n\",","              \"          0.03722688, -0.04460208]]], dtype=float32)\u003e\"","            ]","          },","          \"metadata\": {","            \"tags\": []","          },","          \"execution_count\": 26","        }","      ]","    },","    {","      \"cell_type\": \"code\",","      \"metadata\": {","        \"colab\": {","          \"base_uri\": \"https://localhost:8080/\"","        },","        \"id\": \"QplJbX_3N9JH\",","        \"outputId\": \"10a44e5c-4de3-47ed-ba62-c55a057b7005\"","      },","      \"source\": [","        \"sample_embed[0][0]\"","      ],","      \"execution_count\": null,","      \"outputs\": [","        {","          \"output_type\": \"execute_result\",","          \"data\": {","            \"text/plain\": [","              \"\u003ctf.Tensor: shape=(128,), dtype=float32, numpy=\\n\",","              \"array([-0.04958296, -0.04139192, -0.04169388,  0.00415834, -0.03827494,\\n\",","              \"        0.04158347,  0.0019039 ,  0.00871357, -0.00932516, -0.01586594,\\n\",","              \"        0.01528205,  0.04454393, -0.04468231, -0.00108589,  0.00225253,\\n\",","              \"        0.01448091, -0.03179061, -0.00050277, -0.04112818, -0.00091634,\\n\",","              \"        0.03626807,  0.00411427, -0.02153314,  0.04078237,  0.03757713,\\n\",","              \"        0.01344851, -0.03662326, -0.01398536, -0.03565912, -0.03843249,\\n\",","              \"       -0.0358387 ,  0.00736227, -0.00768409,  0.00970813, -0.02738259,\\n\",","              \"       -0.00180788, -0.03767512,  0.00508625,  0.03526122, -0.00299063,\\n\",","              \"        0.00639887,  0.0025234 ,  0.01348929, -0.0276189 ,  0.01180274,\\n\",","              \"        0.03836086,  0.00347748, -0.02545147,  0.00669122,  0.04385629,\\n\",","              \"       -0.00325032,  0.03581819,  0.03069656,  0.03818032,  0.04515779,\\n\",","              \"       -0.0241433 , -0.02243618,  0.00921572,  0.027369  , -0.00890359,\\n\",","              \"        0.03530747, -0.01672858,  0.02132766, -0.04820118, -0.01790066,\\n\",","              \"        0.00465311,  0.02284848, -0.01204724,  0.03491762, -0.04205519,\\n\",","              \"       -0.01458354,  0.00791126, -0.02048448,  0.03228721, -0.03667208,\\n\",","              \"        0.00106823,  0.03324391,  0.0422538 ,  0.02891585, -0.03460705,\\n\",","              \"        0.00177984,  0.02835157, -0.0120228 ,  0.04061544, -0.03556901,\\n\",","              \"       -0.00867062, -0.04836357,  0.01907701, -0.04614526,  0.00350878,\\n\",","              \"        0.03557063, -0.0195251 , -0.01875912,  0.04794297, -0.02299914,\\n\",","              \"       -0.03522237,  0.00921373,  0.04920882,  0.01707551,  0.00311904,\\n\",","              \"        0.04674206,  0.02873522,  0.02245071,  0.04599893,  0.00197817,\\n\",","              \"        0.02397777, -0.04227146,  0.01175212,  0.03409339, -0.02918719,\\n\",","              \"        0.02495323, -0.00010234,  0.03023913,  0.02844686,  0.00422872,\\n\",","              \"       -0.00774982, -0.02149474, -0.02379751,  0.00324794,  0.0328068 ,\\n\",","              \"        0.02928049, -0.01885318,  0.0457284 , -0.04480609, -0.01865388,\\n\",","              \"        0.01408607, -0.01752247,  0.04459331], dtype=float32)\u003e\"","            ]","          },","          \"metadata\": {","            \"tags\": []","          },","          \"execution_count\": 27","        }","      ]","    },","    {","      \"cell_type\": \"markdown\",","      \"metadata\": {","        \"id\": \"UN7r1WeFOldx\"","      },","      \"source\": [","        \"## Modelling a text dataset (setting up our modelling experiments)\\n\",","        \"\\n\",","        \"Now we've got our data in numerical format, let's start building and comparing different models.\\n\",","        \"\\n\",","        \"* Model 0: Naive Bayes (baseline) - got this from here: https://scikit-learn.org/stable/tutorial/machine_learning_map/index.html\\n\",","        \"* Model 1: Feed-forward neural network (dense model)\\n\",","        \"* Model 2: LSTM model\\n\",","        \"* Model 3: GRU model\\n\",","        \"* Model 4: Bidirectional LSTM\\n\",","        \"* Model 5: 1D Convolutional Neural Network\\n\",","        \"* Model 6: TensorFlow Hub Pretrained Word Embedding (feature extractor)\\n\",","        \"* Model 7: Same as model 6 but using 10% of data\\n\",","        \"\\n\",","        \"For each of these models, we're going to be following the TensorFlow steps in modelling:\\n\",","        \"* Construct the model\\n\",","        \"* Train the model\\n\",","        \"* Make predictions with the model\\n\",","        \"* Track prediction evaluation metrics for later comparison\"","      ]","    },","    {","      \"cell_type\": \"code\",","      \"metadata\": {","        \"colab\": {","          \"base_uri\": \"https://localhost:8080/\"","        },","        \"id\": \"XEPVZ04JRrm1\",","        \"outputId\": \"05735c78-ebc5-44ed-a8c1-5307f09fc82a\"","      },","      \"source\": [","        \"%%time\\n\",","        \"from sklearn.feature_extraction.text import TfidfVectorizer\\n\",","        \"from sklearn.naive_bayes import MultinomialNB\\n\",","        \"from sklearn.pipeline import Pipeline\\n\",","        \"\\n\",","        \"# Create tokenization and modelling pipeline\\n\",","        \"model_0 = Pipeline([\\n\",","        \"                    (\\\"tfidf\\\", TfidfVectorizer()), # convert words to numbers using tfidf - https://scikit-learn.org/stable/modules/generated/sklearn.feature_extraction.text.TfidfVectorizer.html\\n\",","        \"                    (\\\"clf\\\", MultinomialNB()) # model the text converted to numbers\\n\",","        \"])\\n\",","        \"\\n\",","        \"# Fit the pipeline to the training data\\n\",","        \"model_0.fit(train_sentences, train_labels)\"","      ],","      \"execution_count\": null,","      \"outputs\": [","        {","          \"output_type\": \"stream\",","          \"text\": [","            \"CPU times: user 160 ms, sys: 4.15 ms, total: 164 ms\\n\",","            \"Wall time: 181 ms\\n\"","          ],","          \"name\": \"stdout\"","        }","      ]","    },","    {","      \"cell_type\": \"code\",","      \"metadata\": {","        \"colab\": {","          \"base_uri\": \"https://localhost:8080/\"","        },","        \"id\": \"MEaWSAriT4tp\",","        \"outputId\": \"0604501f-70bb-4d43-f244-5040453f479b\"","      },","      \"source\": [","        \"# Let's evalaute our baseline model\\n\",","        \"baseline_score = model_0.score(val_sentences, val_labels)\\n\",","        \"print(f\\\"Our baseline model achieves an accuracy of: {baseline_score*100:.2f}%\\\")\"","      ],","      \"execution_count\": null,","      \"outputs\": [","        {","          \"output_type\": \"stream\",","          \"text\": [","            \"Our baseline model achieves an accuracy of: 79.27%\\n\"","          ],","          \"name\": \"stdout\"","        }","      ]","    },","    {","      \"cell_type\": \"code\",","      \"metadata\": {","        \"colab\": {","          \"base_uri\": \"https://localhost:8080/\"","        },","        \"id\": \"dpnyMrKeT8G_\",","        \"outputId\": \"85c0331b-b82a-4b13-a36e-b6b46020cfb6\"","      },","      \"source\": [","        \"# Make predictions\\n\",","        \"baseline_preds = model_0.predict(val_sentences)\\n\",","        \"baseline_preds[:20]\"","      ],","      \"execution_count\": null,","      \"outputs\": [","        {","          \"output_type\": \"execute_result\",","          \"data\": {","            \"text/plain\": [","              \"array([1, 1, 1, 0, 0, 1, 1, 1, 1, 0, 0, 1, 0, 0, 0, 0, 0, 0, 0, 1])\"","            ]","          },","          \"metadata\": {","            \"tags\": []","          },","          \"execution_count\": 30","        }","      ]","    },","    {","      \"cell_type\": \"markdown\",","      \"metadata\": {","        \"id\": \"20W1OeuLUrYn\"","      },","      \"source\": [","        \"### Creating an evaluation function for our model experiments\\n\",","        \"\\n\",","        \"Let's make a function to evaluate our modelling experiment predictions using: \\n\",","        \"* Accuracy\\n\",","        \"* Precision\\n\",","        \"* Recall\\n\",","        \"* F1-score\"","      ]","    },","    {","      \"cell_type\": \"code\",","      \"metadata\": {","        \"id\": \"E19vhmhtWsDz\"","      },","      \"source\": [","        \"# Function to evalaute: accuracy, precision, recall, F1-score\\n\",","        \"from sklearn.metrics import accuracy_score, precision_recall_fscore_support\\n\",","        \"\\n\",","        \"def calculate_results(y_true, y_pred):\\n\",","        \"  \\\"\\\"\\\"\\n\",","        \"  Calculates model accuracy, precision, recall and f1 score of a binary classification model.\\n\",","        \"\\n\",","        \"  Args:\\n\",","        \"  ----\\n\",","        \"  y_true = true labels in the form of a 1D array\\n\",","        \"  y_pred = predicted label in the form of a 1D array\\n\",","        \"\\n\",","        \"  Returns a dictionary of accuracy, precision, recall and f1-score between y_true and y_pred.\\n\",","        \"  \\\"\\\"\\\"\\n\",","        \"  # Calculate model accuracy\\n\",","        \"  model_accuracy = accuracy_score(y_true, y_pred) * 100 # get accuracy score in percentage value\\n\",","        \"  # Calculate model precision, recall and f1 score using \\\"weighted\\\" avergage\\n\",","        \"  model_precision, model_recall, model_f1, _ = precision_recall_fscore_support(y_true, y_pred, average=\\\"weighted\\\")\\n\",","        \"  # Create a dictionary of model results\\n\",","        \"  model_results = {\\\"accuracy\\\": model_accuracy,\\n\",","        \"                   \\\"precision\\\": model_precision,\\n\",","        \"                   \\\"recall\\\": model_recall,\\n\",","        \"                   \\\"f1\\\": model_f1}\\n\",","        \"  return model_results\"","      ],","      \"execution_count\": null,","      \"outputs\": []","    },","    {","      \"cell_type\": \"code\",","      \"metadata\": {","        \"colab\": {","          \"base_uri\": \"https://localhost:8080/\"","        },","        \"id\": \"uo42vAnvYNX4\",","        \"outputId\": \"c73a4556-5891-4bc6-bedd-6113817e8082\"","      },","      \"source\": [","        \"# Get baseline results\\n\",","        \"baseline_results = calculate_results(y_true=val_labels,\\n\",","        \"                                     y_pred=baseline_preds)\\n\",","        \"baseline_results\"","      ],","      \"execution_count\": null,","      \"outputs\": [","        {","          \"output_type\": \"execute_result\",","          \"data\": {","            \"text/plain\": [","              \"{'accuracy': 79.26509186351706,\\n\",","              \" 'f1': 0.7862189758049549,\\n\",","              \" 'precision': 0.8111390004213173,\\n\",","              \" 'recall': 0.7926509186351706}\"","            ]","          },","          \"metadata\": {","            \"tags\": []","          },","          \"execution_count\": 32","        }","      ]","    },","    {","      \"cell_type\": \"markdown\",","      \"metadata\": {","        \"id\": \"IT_MFZjLYUEN\"","      },","      \"source\": [","        \"### Model 1: A simple dense model (feed-forward neural network)\"","      ]","    },","    {","      \"cell_type\": \"code\",","      \"metadata\": {","        \"id\": \"dSC_uEPjZSX-\"","      },","      \"source\": [","        \"# Create tensorboard callback (need to create a new one for each model)\\n\",","        \"from helper_functions import create_tensorboard_callback\\n\",","        \"\\n\",","        \"# Create directory to save TensorBoard logs\\n\",","        \"SAVE_DIR = \\\"model_logs\\\"\"","      ],","      \"execution_count\": null,","      \"outputs\": []","    },","    {","      \"cell_type\": \"code\",","      \"metadata\": {","        \"colab\": {","          \"base_uri\": \"https://localhost:8080/\"","        },","        \"id\": \"Xu2-xPY_Z_3I\",","        \"outputId\": \"03545174-5022-4847-c5dc-9087c347ccf6\"","      },","      \"source\": [","        \"train_sentences[:5]\"","      ],","      \"execution_count\": null,","      \"outputs\": [","        {","          \"output_type\": \"execute_result\",","          \"data\": {","            \"text/plain\": [","              \"array(['@mogacola @zamtriossu i screamed after hitting tweet',\\n\",","              \"       'Imagine getting flattened by Kurt Zouma',\\n\",","              \"       '@Gurmeetramrahim #MSGDoing111WelfareWorks Green S welfare force ke appx 65000 members har time disaster victim ki help ke liye tyar hai....',\\n\",","              \"       \\\"@shakjn @C7 @Magnums im shaking in fear he's gonna hack the planet\\\",\\n\",","              \"       'Somehow find you and I collide http://t.co/Ee8RpOahPk'],\\n\",","              \"      dtype=object)\"","            ]","          },","          \"metadata\": {","            \"tags\": []","          },","          \"execution_count\": 34","        }","      ]","    },","    {","      \"cell_type\": \"code\",","      \"metadata\": {","        \"id\": \"53o_tpRMZhXG\"","      },","      \"source\": [","        \"# Build model with the Functional API\\n\",","        \"from tensorflow.keras import layers\\n\",","        \"inputs = layers.Input(shape=(1,), dtype=tf.string) # inputs are 1-dimensional strings\\n\",","        \"x = text_vectorizer(inputs) # turn the input text into numbers \\n\",","        \"x = embedding(x)\\n\",","        \"x = layers.GlobalAveragePooling1D()(x)\\n\",","        \"outputs = layers.Dense(1, activation=\\\"sigmoid\\\")(x)\\n\",","        \"model_1 = tf.keras.Model(inputs, outputs, name=\\\"model_1_dense\\\") # construct the model\"","      ],","      \"execution_count\": null,","      \"outputs\": []","    },","    {","      \"cell_type\": \"code\",","      \"metadata\": {","        \"colab\": {","          \"base_uri\": \"https://localhost:8080/\"","        },","        \"id\": \"1K5tE6dia6Ls\",","        \"outputId\": \"3caa5739-91fd-434d-e29c-76290260e523\"","      },","      \"source\": [","        \"# Compile model\\n\",","        \"model_1.compile(loss=\\\"binary_crossentropy\\\",\\n\",","        \"                optimizer=tf.keras.optimizers.Adam(),\\n\",","        \"                metrics=[\\\"accuracy\\\"])\\n\",","        \"\\n\",","        \"# Fit the model\\n\",","        \"history_1 = model_1.fit(train_sentences,\\n\",","        \"                        train_labels, \\n\",","        \"                        epochs=5,\\n\",","        \"                        validation_data=(val_sentences, val_labels),\\n\",","        \"                        callbacks=[create_tensorboard_callback(dir_name=SAVE_DIR,\\n\",","        \"                                                               experiment_name=\\\"model_1_dense\\\")])\"","      ],","      \"execution_count\": null,","      \"outputs\": [","        {","          \"output_type\": \"stream\",","          \"text\": [","            \"Saving TensorBoard log files to: model_logs/model_1_dense/20210414-055804\\n\",","            \"Epoch 1/5\\n\",","            \"215/215 [==============================] - 8s 23ms/step - loss: 0.6524 - accuracy: 0.6514 - val_loss: 0.5368 - val_accuracy: 0.7533\\n\",","            \"Epoch 2/5\\n\",","            \"215/215 [==============================] - 4s 18ms/step - loss: 0.4596 - accuracy: 0.8153 - val_loss: 0.4726 - val_accuracy: 0.7808\\n\",","            \"Epoch 3/5\\n\",","            \"215/215 [==============================] - 4s 17ms/step - loss: 0.3493 - accuracy: 0.8604 - val_loss: 0.4570 - val_accuracy: 0.7927\\n\",","            \"Epoch 4/5\\n\",","            \"215/215 [==============================] - 4s 17ms/step - loss: 0.2819 - accuracy: 0.8959 - val_loss: 0.4699 - val_accuracy: 0.7992\\n\",","            \"Epoch 5/5\\n\",","            \"215/215 [==============================] - 4s 17ms/step - loss: 0.2366 - accuracy: 0.9112 - val_loss: 0.4819 - val_accuracy: 0.7913\\n\"","          ],","          \"name\": \"stdout\"","        }","      ]","    },","    {","      \"cell_type\": \"code\",","      \"metadata\": {","        \"colab\": {","          \"base_uri\": \"https://localhost:8080/\"","        },","        \"id\": \"TJr9cNmEbjf-\",","        \"outputId\": \"b127120e-af5e-4599-f2aa-a83d73617bbb\"","      },","      \"source\": [","        \"# Evaluate model 1\\n\",","        \"model_1.evaluate(val_sentences, val_labels)\"","      ],","      \"execution_count\": null,","      \"outputs\": [","        {","          \"output_type\": \"stream\",","          \"text\": [","            \"24/24 [==============================] - 0s 4ms/step - loss: 0.4819 - accuracy: 0.7913\\n\"","          ],","          \"name\": \"stdout\"","        },","        {","          \"output_type\": \"execute_result\",","          \"data\": {","            \"text/plain\": [","              \"[0.48192545771598816, 0.7913385629653931]\"","            ]","          },","          \"metadata\": {","            \"tags\": []","          },","          \"execution_count\": 37","        }","      ]","    },","    {","      \"cell_type\": \"code\",","      \"metadata\": {","        \"colab\": {","          \"base_uri\": \"https://localhost:8080/\"","        },","        \"id\": \"IXoHTxElcp88\",","        \"outputId\": \"235f43d4-622b-4d9b-f2fd-d92518f41499\"","      },","      \"source\": [","        \"# Make predictions with model_1\\n\",","        \"model_1_pred_probs = model_1.predict(val_sentences)\\n\",","        \"model_1_pred_probs[:10]\"","      ],","      \"execution_count\": null,","      \"outputs\": [","        {","          \"output_type\": \"execute_result\",","          \"data\": {","            \"text/plain\": [","              \"array([[0.35383463],\\n\",","              \"       [0.81071967],\\n\",","              \"       [0.99782556],\\n\",","              \"       [0.10595703],\\n\",","              \"       [0.08765673],\\n\",","              \"       [0.93484205],\\n\",","              \"       [0.9048694 ],\\n\",","              \"       [0.99414164],\\n\",","              \"       [0.9482436 ],\\n\",","              \"       [0.2645767 ]], dtype=float32)\"","            ]","          },","          \"metadata\": {","            \"tags\": []","          },","          \"execution_count\": 38","        }","      ]","    },","    {","      \"cell_type\": \"code\",","      \"metadata\": {","        \"colab\": {","          \"base_uri\": \"https://localhost:8080/\"","        },","        \"id\": \"le7bc1SWc2Ga\",","        \"outputId\": \"40f29b5f-76aa-4396-d0d9-bf9fdc9a768e\"","      },","      \"source\": [","        \"# Convert model_1 pred probs from probabilities to prediction labels\\n\",","        \"model_1_preds = tf.squeeze(tf.round(model_1_pred_probs))\\n\",","        \"model_1_preds[:10]\"","      ],","      \"execution_count\": null,","      \"outputs\": [","        {","          \"output_type\": \"execute_result\",","          \"data\": {","            \"text/plain\": [","              \"\u003ctf.Tensor: shape=(10,), dtype=float32, numpy=array([0., 1., 1., 0., 0., 1., 1., 1., 1., 0.], dtype=float32)\u003e\"","            ]","          },","          \"metadata\": {","            \"tags\": []","          },","          \"execution_count\": 39","        }","      ]","    },","    {","      \"cell_type\": \"code\",","      \"metadata\": {","        \"colab\": {","          \"base_uri\": \"https://localhost:8080/\"","        },","        \"id\": \"cAwelDTHdCqb\",","        \"outputId\": \"84cca678-7a9b-4536-c64f-6e3c1c54d2cf\"","      },","      \"source\": [","        \"val_labels[:10]\"","      ],","      \"execution_count\": null,","      \"outputs\": [","        {","          \"output_type\": \"execute_result\",","          \"data\": {","            \"text/plain\": [","              \"array([0, 0, 1, 1, 1, 1, 1, 1, 1, 0])\"","            ]","          },","          \"metadata\": {","            \"tags\": []","          },","          \"execution_count\": 40","        }","      ]","    },","    {","      \"cell_type\": \"code\",","      \"metadata\": {","        \"colab\": {","          \"base_uri\": \"https://localhost:8080/\"","        },","        \"id\": \"ZEk3d_4Rcbs-\",","        \"outputId\": \"c7a31267-4761-4541-ebe1-ee803304e23e\"","      },","      \"source\": [","        \"# Evaluate model_1 with our evaluation function\\n\",","        \"model_1_results = calculate_results(y_true=val_labels,\\n\",","        \"                                    y_pred=model_1_preds)\\n\",","        \"model_1_results\"","      ],","      \"execution_count\": null,","      \"outputs\": [","        {","          \"output_type\": \"execute_result\",","          \"data\": {","            \"text/plain\": [","              \"{'accuracy': 79.13385826771653,\\n\",","              \" 'f1': 0.7880356865491198,\\n\",","              \" 'precision': 0.7976012509315953,\\n\",","              \" 'recall': 0.7913385826771654}\"","            ]","          },","          \"metadata\": {","            \"tags\": []","          },","          \"execution_count\": 41","        }","      ]","    },","    {","      \"cell_type\": \"code\",","      \"metadata\": {","        \"colab\": {","          \"base_uri\": \"https://localhost:8080/\"","        },","        \"id\": \"eG6GQuq0d3MH\",","        \"outputId\": \"a160607d-c165-414a-ecc7-20efd3155415\"","      },","      \"source\": [","        \"baseline_results\"","      ],","      \"execution_count\": null,","      \"outputs\": [","        {","          \"output_type\": \"execute_result\",","          \"data\": {","            \"text/plain\": [","              \"{'accuracy': 79.26509186351706,\\n\",","              \" 'f1': 0.7862189758049549,\\n\",","              \" 'precision': 0.8111390004213173,\\n\",","              \" 'recall': 0.7926509186351706}\"","            ]","          },","          \"metadata\": {","            \"tags\": []","          },","          \"execution_count\": 42","        }","      ]","    },","    {","      \"cell_type\": \"code\",","      \"metadata\": {","        \"colab\": {","          \"base_uri\": \"https://localhost:8080/\"","        },","        \"id\": \"y4_Erx95azN5\",","        \"outputId\": \"6520aef1-956d-477c-d693-7107df6b1109\"","      },","      \"source\": [","        \"import numpy as np\\n\",","        \"np.array(list(model_1_results.values())) \u003e np.array(list(baseline_results.values()))\"","      ],","      \"execution_count\": null,","      \"outputs\": [","        {","          \"output_type\": \"execute_result\",","          \"data\": {","            \"text/plain\": [","              \"array([False, False, False,  True])\"","            ]","          },","          \"metadata\": {","            \"tags\": []","          },","          \"execution_count\": 43","        }","      ]","    },","    {","      \"cell_type\": \"markdown\",","      \"metadata\": {","        \"id\": \"rJ51vV3qdzDF\"","      },","      \"source\": [","        \"### Visualizing learned embeddings\\n\",","        \"\\n\",","        \"To further understand word embeddings, let's visualize them, to do so, we'll get the weights matrix (embedding matrix) from our embedding layer and visualize it using the Embedding project tool, see the TensorFlow guide for more: https://www.tensorflow.org/tutorials/text/word_embeddings\"","      ]","    },","    {","      \"cell_type\": \"code\",","      \"metadata\": {","        \"colab\": {","          \"base_uri\": \"https://localhost:8080/\"","        },","        \"id\": \"-JEsoRe2mgY2\",","        \"outputId\": \"24fac085-10d1-405c-dd21-f5d29d7674b4\"","      },","      \"source\": [","        \"# Get the vocabulary from the text vectorization layer\\n\",","        \"words_in_vocab = text_vectorizer.get_vocabulary()\\n\",","        \"len(words_in_vocab), words_in_vocab[:10]\"","      ],","      \"execution_count\": null,","      \"outputs\": [","        {","          \"output_type\": \"execute_result\",","          \"data\": {","            \"text/plain\": [","              \"(10000, ['', '[UNK]', 'the', 'a', 'in', 'to', 'of', 'and', 'i', 'is'])\"","            ]","          },","          \"metadata\": {","            \"tags\": []","          },","          \"execution_count\": 44","        }","      ]","    },","    {","      \"cell_type\": \"code\",","      \"metadata\": {","        \"colab\": {","          \"base_uri\": \"https://localhost:8080/\"","        },","        \"id\": \"gWj7h27bmrKN\",","        \"outputId\": \"0d4c369a-ee81-4e50-c00a-6901bb434e63\"","      },","      \"source\": [","        \"model_1.summary()\"","      ],","      \"execution_count\": null,","      \"outputs\": [","        {","          \"output_type\": \"stream\",","          \"text\": [","            \"Model: \\\"model_1_dense\\\"\\n\",","            \"_________________________________________________________________\\n\",","            \"Layer (type)                 Output Shape              Param #   \\n\",","            \"=================================================================\\n\",","            \"input_1 (InputLayer)         [(None, 1)]               0         \\n\",","            \"_________________________________________________________________\\n\",","            \"text_vectorization_1 (TextVe (None, 15)                0         \\n\",","            \"_________________________________________________________________\\n\",","            \"embedding (Embedding)        (None, 15, 128)           1280000   \\n\",","            \"_________________________________________________________________\\n\",","            \"global_average_pooling1d (Gl (None, 128)               0         \\n\",","            \"_________________________________________________________________\\n\",","            \"dense (Dense)                (None, 1)                 129       \\n\",","            \"=================================================================\\n\",","            \"Total params: 1,280,129\\n\",","            \"Trainable params: 1,280,129\\n\",","            \"Non-trainable params: 0\\n\",","            \"_________________________________________________________________\\n\"","          ],","          \"name\": \"stdout\"","        }","      ]","    },","    {","      \"cell_type\": \"code\",","      \"metadata\": {","        \"colab\": {","          \"base_uri\": \"https://localhost:8080/\"","        },","        \"id\": \"elGf0lzDmxhG\",","        \"outputId\": \"133c39ed-5ffa-40d4-e523-8c11488b9b13\"","      },","      \"source\": [","        \"# Get the weight matrix of embedding layer\\n\",","        \"# (the weights are the numerical patterns between the text in the training dataset that the model has learned)\\n\",","        \"embed_weights = model_1.get_layer(\\\"embedding\\\").get_weights()[0]\\n\",","        \"print(embed_weights.shape)\"","      ],","      \"execution_count\": null,","      \"outputs\": [","        {","          \"output_type\": \"stream\",","          \"text\": [","            \"(10000, 128)\\n\"","          ],","          \"name\": \"stdout\"","        }","      ]","    },","    {","      \"cell_type\": \"code\",","      \"metadata\": {","        \"id\": \"sQosT7XxnLOA\"","      },","      \"source\": [","        \"import io\\n\",","        \"\\n\",","        \"# Code to save trained embeddings to file - we got this from here: https://www.tensorflow.org/tutorials/text/word_embeddings#retrieve_the_trained_word_embeddings_and_save_them_to_disk\\n\",","        \"out_v = io.open('vectors.tsv', 'w', encoding='utf-8')\\n\",","        \"out_m = io.open('metadata.tsv', 'w', encoding='utf-8')\\n\",","        \"\\n\",","        \"for index, word in enumerate(words_in_vocab):\\n\",","        \"  if index == 0:\\n\",","        \"    continue  # skip 0, it's padding.\\n\",","        \"  vec = embed_weights[index]\\n\",","        \"  out_v.write('\\\\t'.join([str(x) for x in vec]) + \\\"\\\\n\\\")\\n\",","        \"  out_m.write(word + \\\"\\\\n\\\")\\n\",","        \"out_v.close()\\n\",","        \"out_m.close()\"","      ],","      \"execution_count\": null,","      \"outputs\": []","    },","    {","      \"cell_type\": \"code\",","      \"metadata\": {","        \"colab\": {","          \"base_uri\": \"https://localhost:8080/\",","          \"height\": 17","        },","        \"id\": \"xhLv8IRApRrh\",","        \"outputId\": \"92c3fdbc-5baa-4655-8140-a8daf7229b6b\"","      },","      \"source\": [","        \"# Let's download the saved embeddings locally\\n\",","        \"try:\\n\",","        \"  from google.colab import files\\n\",","        \"  files.download('vectors.tsv')\\n\",","        \"  files.download('metadata.tsv')\\n\",","        \"except Exception:\\n\",","        \"  pass\"","      ],","      \"execution_count\": null,","      \"outputs\": [","        {","          \"output_type\": \"display_data\",","          \"data\": {","            \"application/javascript\": [","              \"\\n\",","              \"    async function download(id, filename, size) {\\n\",","              \"      if (!google.colab.kernel.accessAllowed) {\\n\",","              \"        return;\\n\",","              \"      }\\n\",","              \"      const div = document.createElement('div');\\n\",","              \"      const label = document.createElement('label');\\n\",","              \"      label.textContent = `Downloading \\\"${filename}\\\": `;\\n\",","              \"      div.appendChild(label);\\n\",","              \"      const progress = document.createElement('progress');\\n\",","              \"      progress.max = size;\\n\",","              \"      div.appendChild(progress);\\n\",","              \"      document.body.appendChild(div);\\n\",","              \"\\n\",","              \"      const buffers = [];\\n\",","              \"      let downloaded = 0;\\n\",","              \"\\n\",","              \"      const channel = await google.colab.kernel.comms.open(id);\\n\",","              \"      // Send a message to notify the kernel that we're ready.\\n\",","              \"      channel.send({})\\n\",","              \"\\n\",","              \"      for await (const message of channel.messages) {\\n\",","              \"        // Send a message to notify the kernel that we're ready.\\n\",","              \"        channel.send({})\\n\",","              \"        if (message.buffers) {\\n\",","              \"          for (const buffer of message.buffers) {\\n\",","              \"            buffers.push(buffer);\\n\",","              \"            downloaded += buffer.byteLength;\\n\",","              \"            progress.value = downloaded;\\n\",","              \"          }\\n\",","              \"        }\\n\",","              \"      }\\n\",","              \"      const blob = new Blob(buffers, {type: 'application/binary'});\\n\",","              \"      const a = document.createElement('a');\\n\",","              \"      a.href = window.URL.createObjectURL(blob);\\n\",","              \"      a.download = filename;\\n\",","              \"      div.appendChild(a);\\n\",","              \"      a.click();\\n\",","              \"      div.remove();\\n\",","              \"    }\\n\",","              \"  \"","            ],","            \"text/plain\": [","              \"\u003cIPython.core.display.Javascript object\u003e\"","            ]","          },","          \"metadata\": {","            \"tags\": []","          }","        },","        {","          \"output_type\": \"display_data\",","          \"data\": {","            \"application/javascript\": [","              \"download(\\\"download_b159ede0-f35c-4ce6-a492-cd673ff3bff1\\\", \\\"vectors.tsv\\\", 15379587)\"","            ],","            \"text/plain\": [","              \"\u003cIPython.core.display.Javascript object\u003e\"","            ]","          },","          \"metadata\": {","            \"tags\": []","          }","        },","        {","          \"output_type\": \"display_data\",","          \"data\": {","            \"application/javascript\": [","              \"\\n\",","              \"    async function download(id, filename, size) {\\n\",","              \"      if (!google.colab.kernel.accessAllowed) {\\n\",","              \"        return;\\n\",","              \"      }\\n\",","              \"      const div = document.createElement('div');\\n\",","              \"      const label = document.createElement('label');\\n\",","              \"      label.textContent = `Downloading \\\"${filename}\\\": `;\\n\",","              \"      div.appendChild(label);\\n\",","              \"      const progress = document.createElement('progress');\\n\",","              \"      progress.max = size;\\n\",","              \"      div.appendChild(progress);\\n\",","              \"      document.body.appendChild(div);\\n\",","              \"\\n\",","              \"      const buffers = [];\\n\",","              \"      let downloaded = 0;\\n\",","              \"\\n\",","              \"      const channel = await google.colab.kernel.comms.open(id);\\n\",","              \"      // Send a message to notify the kernel that we're ready.\\n\",","              \"      channel.send({})\\n\",","              \"\\n\",","              \"      for await (const message of channel.messages) {\\n\",","              \"        // Send a message to notify the kernel that we're ready.\\n\",","              \"        channel.send({})\\n\",","              \"        if (message.buffers) {\\n\",","              \"          for (const buffer of message.buffers) {\\n\",","              \"            buffers.push(buffer);\\n\",","              \"            downloaded += buffer.byteLength;\\n\",","              \"            progress.value = downloaded;\\n\",","              \"          }\\n\",","              \"        }\\n\",","              \"      }\\n\",","              \"      const blob = new Blob(buffers, {type: 'application/binary'});\\n\",","              \"      const a = document.createElement('a');\\n\",","              \"      a.href = window.URL.createObjectURL(blob);\\n\",","              \"      a.download = filename;\\n\",","              \"      div.appendChild(a);\\n\",","              \"      a.click();\\n\",","              \"      div.remove();\\n\",","              \"    }\\n\",","              \"  \"","            ],","            \"text/plain\": [","              \"\u003cIPython.core.display.Javascript object\u003e\"","            ]","          },","          \"metadata\": {","            \"tags\": []","          }","        },","        {","          \"output_type\": \"display_data\",","          \"data\": {","            \"application/javascript\": [","              \"download(\\\"download_4a44dbb6-cae2-42de-8995-230a6566f9d8\\\", \\\"metadata.tsv\\\", 80388)\"","            ],","            \"text/plain\": [","              \"\u003cIPython.core.display.Javascript object\u003e\"","            ]","          },","          \"metadata\": {","            \"tags\": []","          }","        }","      ]","    },","    {","      \"cell_type\": \"markdown\",","      \"metadata\": {","        \"id\": \"tb0CFUDlqm9w\"","      },","      \"source\": [","        \"Our visual word embeddings might not look like much to us, but they help our model understand the relationships between words.\\n\",","        \"\\n\",","        \"For more on a popular type of word embedding and more visual explanations check out the illustrated word2vec: https://jalammar.github.io/illustrated-word2vec/\"","      ]","    },","    {","      \"cell_type\": \"markdown\",","      \"metadata\": {","        \"id\": \"GIGssmQIpqTr\"","      },","      \"source\": [","        \"## Model 2: LSTM\\n\",","        \"\\n\",","        \"* LSTM = long short-term memory\\n\",","        \"\\n\",","        \"For more on RNN's/resources to learn, see here: https://github.com/mrdbourke/tensorflow-deep-learning/blob/main/08_introduction_to_nlp_in_tensorflow.ipynb \\n\",","        \"\\n\",","        \"We're going to focus on writing the code.\"","      ]","    },","    {","      \"cell_type\": \"code\",","      \"metadata\": {","        \"colab\": {","          \"base_uri\": \"https://localhost:8080/\"","        },","        \"id\": \"WoEAithmrUjh\",","        \"outputId\": \"eb4339fb-9bc5-44e2-e53c-3968c82efa5f\"","      },","      \"source\": [","        \"# Create LSTM model\\n\",","        \"from tensorflow.keras import layers\\n\",","        \"inputs = layers.Input(shape=(1,), dtype=\\\"string\\\")\\n\",","        \"x = text_vectorizer(inputs)\\n\",","        \"x = embedding(x)\\n\",","        \"print(f\\\"After embedding: {x.shape}\\\")\\n\",","        \"# x = layers.LSTM(64, activation=\\\"tanh\\\", return_sequences=True)(x) # use return_sequences=True if you want to stack recurrent layers \\n\",","        \"# print(f\\\"After LSTM cell with return_sequences=True: {x.shape}\\\")\\n\",","        \"x = layers.LSTM(64, activation=\\\"tanh\\\")(x)\\n\",","        \"print(f\\\"After LSTM cell: {x.shape}\\\")\\n\",","        \"# x = layers.Dense(64, activation=\\\"relu\\\")(x) # optional dense layer to have on top of LSTM layer\\n\",","        \"outputs = layers.Dense(1, activation=\\\"sigmoid\\\")(x)\\n\",","        \"model_2 = tf.keras.Model(inputs, outputs, name=\\\"model_2_LSTM\\\")\\n\"","      ],","      \"execution_count\": null,","      \"outputs\": [","        {","          \"output_type\": \"stream\",","          \"text\": [","            \"After embedding: (None, 15, 128)\\n\",","            \"After LSTM cell: (None, 64)\\n\"","          ],","          \"name\": \"stdout\"","        }","      ]","    },","    {","      \"cell_type\": \"code\",","      \"metadata\": {","        \"colab\": {","          \"base_uri\": \"https://localhost:8080/\"","        },","        \"id\": \"COCCOInqtm3r\",","        \"outputId\": \"3be56ba5-4f4d-4926-d9b2-8c07535144c6\"","      },","      \"source\": [","        \"# Compile model\\n\",","        \"model_2.compile(loss=\\\"binary_crossentropy\\\",\\n\",","        \"                optimizer=tf.keras.optimizers.Adam(),\\n\",","        \"                metrics=[\\\"accuracy\\\"])\\n\",","        \"\\n\",","        \"# Fit model\\n\",","        \"history_2 = model_2.fit(train_sentences,\\n\",","        \"                        train_labels,\\n\",","        \"                        epochs=5,\\n\",","        \"                        validation_data=(val_sentences, val_labels),\\n\",","        \"                        callbacks=[create_tensorboard_callback(dir_name=SAVE_DIR,\\n\",","        \"                                                               experiment_name=\\\"model_2_LSTM\\\")])\"","      ],","      \"execution_count\": null,","      \"outputs\": [","        {","          \"output_type\": \"stream\",","          \"text\": [","            \"Saving TensorBoard log files to: model_logs/model_2_LSTM/20210414-055829\\n\",","            \"Epoch 1/5\\n\",","            \"215/215 [==============================] - 34s 27ms/step - loss: 0.2989 - accuracy: 0.8959 - val_loss: 0.5377 - val_accuracy: 0.7835\\n\",","            \"Epoch 2/5\\n\",","            \"215/215 [==============================] - 5s 21ms/step - loss: 0.1550 - accuracy: 0.9440 - val_loss: 0.6231 - val_accuracy: 0.7861\\n\",","            \"Epoch 3/5\\n\",","            \"215/215 [==============================] - 5s 23ms/step - loss: 0.1208 - accuracy: 0.9579 - val_loss: 0.7128 - val_accuracy: 0.7782\\n\",","            \"Epoch 4/5\\n\",","            \"215/215 [==============================] - 5s 22ms/step - loss: 0.1029 - accuracy: 0.9605 - val_loss: 0.8816 - val_accuracy: 0.7848\\n\",","            \"Epoch 5/5\\n\",","            \"215/215 [==============================] - 5s 22ms/step - loss: 0.0790 - accuracy: 0.9713 - val_loss: 0.9632 - val_accuracy: 0.7822\\n\"","          ],","          \"name\": \"stdout\"","        }","      ]","    },","    {","      \"cell_type\": \"code\",","      \"metadata\": {","        \"colab\": {","          \"base_uri\": \"https://localhost:8080/\"","        },","        \"id\": \"O0jw2e3Dukbz\",","        \"outputId\": \"f1a4975c-14f5-454d-8f19-7fe1da95ce4e\"","      },","      \"source\": [","        \"# Make predictions on the validation dataset\\n\",","        \"model_2_pred_probs = model_2.predict(val_sentences)\\n\",","        \"model_2_pred_probs.shape, model_2_pred_probs[:10]\"","      ],","      \"execution_count\": null,","      \"outputs\": [","        {","          \"output_type\": \"execute_result\",","          \"data\": {","            \"text/plain\": [","              \"((762, 1), array([[5.2974503e-03],\\n\",","              \"        [7.5034630e-01],\\n\",","              \"        [9.9962139e-01],\\n\",","              \"        [6.2518336e-02],\\n\",","              \"        [3.7986445e-04],\\n\",","              \"        [9.9857640e-01],\\n\",","              \"        [7.8368771e-01],\\n\",","              \"        [9.9976081e-01],\\n\",","              \"        [9.9954385e-01],\\n\",","              \"        [6.7327970e-01]], dtype=float32))\"","            ]","          },","          \"metadata\": {","            \"tags\": []","          },","          \"execution_count\": 51","        }","      ]","    },","    {","      \"cell_type\": \"code\",","      \"metadata\": {","        \"colab\": {","          \"base_uri\": \"https://localhost:8080/\"","        },","        \"id\": \"vQFF0dbQu76A\",","        \"outputId\": \"21c01f99-2b32-4202-a1d2-2d14f241d25c\"","      },","      \"source\": [","        \"# Round out pred probs and reduce to 1-dimensional array\\n\",","        \"model_2_preds = tf.squeeze(tf.round(model_2_pred_probs))\\n\",","        \"model_2_preds[:10]\"","      ],","      \"execution_count\": null,","      \"outputs\": [","        {","          \"output_type\": \"execute_result\",","          \"data\": {","            \"text/plain\": [","              \"\u003ctf.Tensor: shape=(10,), dtype=float32, numpy=array([0., 1., 1., 0., 0., 1., 1., 1., 1., 1.], dtype=float32)\u003e\"","            ]","          },","          \"metadata\": {","            \"tags\": []","          },","          \"execution_count\": 52","        }","      ]","    },","    {","      \"cell_type\": \"code\",","      \"metadata\": {","        \"colab\": {","          \"base_uri\": \"https://localhost:8080/\"","        },","        \"id\": \"23g9TGPFu_2E\",","        \"outputId\": \"dec57c07-3986-44f3-dc84-0a10c495ca76\"","      },","      \"source\": [","        \"# Calculate our LSTM model's results\\n\",","        \"model_2_preds = tf.squeeze(tf.round(model_2_preds))\\n\",","        \"model_2_preds[:10]\"","      ],","      \"execution_count\": null,","      \"outputs\": [","        {","          \"output_type\": \"execute_result\",","          \"data\": {","            \"text/plain\": [","              \"\u003ctf.Tensor: shape=(10,), dtype=float32, numpy=array([0., 1., 1., 0., 0., 1., 1., 1., 1., 1.], dtype=float32)\u003e\"","            ]","          },","          \"metadata\": {","            \"tags\": []","          },","          \"execution_count\": 53","        }","      ]","    },","    {","      \"cell_type\": \"code\",","      \"metadata\": {","        \"colab\": {","          \"base_uri\": \"https://localhost:8080/\"","        },","        \"id\": \"ANaN1vIkvRUI\",","        \"outputId\": \"b88165ed-a60f-4763-d72c-8ca2af8e9bce\"","      },","      \"source\": [","        \"# Calculate our model 2 results\\n\",","        \"model_2_results = calculate_results(y_true=val_labels,\\n\",","        \"                                    y_pred=model_2_preds)\\n\",","        \"model_2_results\"","      ],","      \"execution_count\": null,","      \"outputs\": [","        {","          \"output_type\": \"execute_result\",","          \"data\": {","            \"text/plain\": [","              \"{'accuracy': 78.21522309711287,\\n\",","              \" 'f1': 0.7801766074787211,\\n\",","              \" 'precision': 0.7840694582051416,\\n\",","              \" 'recall': 0.7821522309711286}\"","            ]","          },","          \"metadata\": {","            \"tags\": []","          },","          \"execution_count\": 54","        }","      ]","    },","    {","      \"cell_type\": \"markdown\",","      \"metadata\": {","        \"id\": \"eyZecZmtvYfS\"","      },","      \"source\": [","        \"## Model 3: GRU\\n\",","        \"\\n\",","        \"GRU = Gated recurrent unit (one of the most popular and useful recurrent layer types)\\n\",","        \"\\n\",","        \"📖 **Resource:** If you want to see the formula for Tanh, a great extension would be to replicate the function in pure TensorFlow, see here: https://ml-cheatsheet.readthedocs.io/en/latest/activation_functions.html#tanh\"","      ]","    },","    {","      \"cell_type\": \"code\",","      \"metadata\": {","        \"id\": \"XpHDZdF6TqmN\"","      },","      \"source\": [","        \"# Build an RNN using the GRU cell\\n\",","        \"from tensorflow.keras import layers\\n\",","        \"inputs = layers.Input(shape=(1,), dtype=\\\"string\\\")\\n\",","        \"x = text_vectorizer(inputs)\\n\",","        \"x = embedding(x)\\n\",","        \"# x = layers.GRU(64, activation=\\\"tanh\\\", return_sequences=True)(x) # return_sequences=True is required for stacking recurrent cells\\n\",","        \"# print(x.shape)\\n\",","        \"x = layers.GRU(64, activation=\\\"tanh\\\")(x)\\n\",","        \"outputs = layers.Dense(1, activation=\\\"sigmoid\\\")(x)\\n\",","        \"model_3 = tf.keras.Model(inputs, outputs, name=\\\"model_3_GRU\\\")\"","      ],","      \"execution_count\": null,","      \"outputs\": []","    },","    {","      \"cell_type\": \"code\",","      \"metadata\": {","        \"colab\": {","          \"base_uri\": \"https://localhost:8080/\"","        },","        \"id\": \"G5m4ts3vUhDs\",","        \"outputId\": \"0521fcb9-d8ce-434b-cc2c-0f62b91e227e\"","      },","      \"source\": [","        \"# Get a summary\\n\",","        \"model_3.summary()\"","      ],","      \"execution_count\": null,","      \"outputs\": [","        {","          \"output_type\": \"stream\",","          \"text\": [","            \"Model: \\\"model_3_GRU\\\"\\n\",","            \"_________________________________________________________________\\n\",","            \"Layer (type)                 Output Shape              Param #   \\n\",","            \"=================================================================\\n\",","            \"input_3 (InputLayer)         [(None, 1)]               0         \\n\",","            \"_________________________________________________________________\\n\",","            \"text_vectorization_1 (TextVe (None, 15)                0         \\n\",","            \"_________________________________________________________________\\n\",","            \"embedding (Embedding)        (None, 15, 128)           1280000   \\n\",","            \"_________________________________________________________________\\n\",","            \"gru (GRU)                    (None, 64)                37248     \\n\",","            \"_________________________________________________________________\\n\",","            \"dense_2 (Dense)              (None, 1)                 65        \\n\",","            \"=================================================================\\n\",","            \"Total params: 1,317,313\\n\",","            \"Trainable params: 1,317,313\\n\",","            \"Non-trainable params: 0\\n\",","            \"_________________________________________________________________\\n\"","          ],","          \"name\": \"stdout\"","        }","      ]","    },","    {","      \"cell_type\": \"code\",","      \"metadata\": {","        \"colab\": {","          \"base_uri\": \"https://localhost:8080/\"","        },","        \"id\": \"VBert-9mVK-3\",","        \"outputId\": \"1c0313dd-6d8d-4237-d0f9-30bcd2683e2b\"","      },","      \"source\": [","        \"# Compile model_3 (GRU)\\n\",","        \"model_3.compile(loss=\\\"binary_crossentropy\\\",\\n\",","        \"                optimizer=tf.keras.optimizers.Adam(),\\n\",","        \"                metrics=[\\\"accuracy\\\"])\\n\",","        \"\\n\",","        \"# Fit model\\n\",","        \"model_3_history = model_3.fit(train_sentences,\\n\",","        \"                              train_labels,\\n\",","        \"                              epochs=5,\\n\",","        \"                              validation_data=(val_sentences, val_labels),\\n\",","        \"                              callbacks=[create_tensorboard_callback(dir_name=SAVE_DIR,\\n\",","        \"                                                                     experiment_name=\\\"model_3_GRU\\\")])\"","      ],","      \"execution_count\": null,","      \"outputs\": [","        {","          \"output_type\": \"stream\",","          \"text\": [","            \"Saving TensorBoard log files to: model_logs/model_3_GRU/20210414-055924\\n\",","            \"Epoch 1/5\\n\",","            \"215/215 [==============================] - 8s 27ms/step - loss: 0.2703 - accuracy: 0.8921 - val_loss: 0.8344 - val_accuracy: 0.7730\\n\",","            \"Epoch 2/5\\n\",","            \"215/215 [==============================] - 5s 22ms/step - loss: 0.0711 - accuracy: 0.9745 - val_loss: 0.8041 - val_accuracy: 0.7782\\n\",","            \"Epoch 3/5\\n\",","            \"215/215 [==============================] - 5s 21ms/step - loss: 0.0677 - accuracy: 0.9724 - val_loss: 1.0618 - val_accuracy: 0.7717\\n\",","            \"Epoch 4/5\\n\",","            \"215/215 [==============================] - 4s 21ms/step - loss: 0.0545 - accuracy: 0.9773 - val_loss: 1.2175 - val_accuracy: 0.7703\\n\",","            \"Epoch 5/5\\n\",","            \"215/215 [==============================] - 5s 21ms/step - loss: 0.0532 - accuracy: 0.9783 - val_loss: 1.2406 - val_accuracy: 0.7625\\n\"","          ],","          \"name\": \"stdout\"","        }","      ]","    },","    {","      \"cell_type\": \"code\",","      \"metadata\": {","        \"colab\": {","          \"base_uri\": \"https://localhost:8080/\"","        },","        \"id\": \"hOpajuC1VsoA\",","        \"outputId\": \"6604997a-6172-4dc3-9491-b889a5f69cdb\"","      },","      \"source\": [","        \"# Make predictions with the trained model\\n\",","        \"model_3_pred_probs = model_3.predict(val_sentences)\\n\",","        \"model_3_pred_probs[:10], model_3_pred_probs.shape\"","      ],","      \"execution_count\": null,","      \"outputs\": [","        {","          \"output_type\": \"execute_result\",","          \"data\": {","            \"text/plain\": [","              \"(array([[2.3852123e-04],\\n\",","              \"        [7.9211944e-01],\\n\",","              \"        [9.9979848e-01],\\n\",","              \"        [5.0801184e-02],\\n\",","              \"        [6.2251114e-05],\\n\",","              \"        [9.9927169e-01],\\n\",","              \"        [3.2195503e-01],\\n\",","              \"        [9.9991918e-01],\\n\",","              \"        [9.9979550e-01],\\n\",","              \"        [6.5830976e-01]], dtype=float32), (762, 1))\"","            ]","          },","          \"metadata\": {","            \"tags\": []","          },","          \"execution_count\": 58","        }","      ]","    },","    {","      \"cell_type\": \"code\",","      \"metadata\": {","        \"colab\": {","          \"base_uri\": \"https://localhost:8080/\"","        },","        \"id\": \"gWOxXpgbV8gn\",","        \"outputId\": \"7f8b4d4e-f1b6-4378-f594-cf984aa81a26\"","      },","      \"source\": [","        \"# Convert model 3 pred probs into labels\\n\",","        \"model_3_preds = tf.squeeze(tf.round(model_3_pred_probs))\\n\",","        \"model_3_preds[:10]\"","      ],","      \"execution_count\": null,","      \"outputs\": [","        {","          \"output_type\": \"execute_result\",","          \"data\": {","            \"text/plain\": [","              \"\u003ctf.Tensor: shape=(10,), dtype=float32, numpy=array([0., 1., 1., 0., 0., 1., 0., 1., 1., 1.], dtype=float32)\u003e\"","            ]","          },","          \"metadata\": {","            \"tags\": []","          },","          \"execution_count\": 59","        }","      ]","    },","    {","      \"cell_type\": \"code\",","      \"metadata\": {","        \"colab\": {","          \"base_uri\": \"https://localhost:8080/\"","        },","        \"id\": \"rxJc3qxCWKFk\",","        \"outputId\": \"f1fd6b88-acb1-4b89-ad8f-e5bf1d6921c9\"","      },","      \"source\": [","        \"# Calculate results for model 3\\n\",","        \"model_3_results = calculate_results(y_true=val_labels,\\n\",","        \"                                    y_pred=model_3_preds)\\n\",","        \"model_3_results\"","      ],","      \"execution_count\": null,","      \"outputs\": [","        {","          \"output_type\": \"execute_result\",","          \"data\": {","            \"text/plain\": [","              \"{'accuracy': 76.24671916010499,\\n\",","              \" 'f1': 0.75760506518967,\\n\",","              \" 'precision': 0.7701495378408689,\\n\",","              \" 'recall': 0.7624671916010499}\"","            ]","          },","          \"metadata\": {","            \"tags\": []","          },","          \"execution_count\": 60","        }","      ]","    },","    {","      \"cell_type\": \"markdown\",","      \"metadata\": {","        \"id\": \"SmE3Nfc9WLZE\"","      },","      \"source\": [","        \"## Model 4: Bidirectional RNN model\"","      ]","    },","    {","      \"cell_type\": \"code\",","      \"metadata\": {","        \"id\": \"yIEUGLncW9_n\"","      },","      \"source\": [","        \"# Build a bidirectional RNN in TensorFlow\\n\",","        \"from tensorflow.keras import layers\\n\",","        \"inputs = layers.Input(shape=(1,), dtype=\\\"string\\\")\\n\",","        \"x = text_vectorizer(inputs)\\n\",","        \"x = embedding(x)\\n\",","        \"# x = layers.Bidirectional(layers.LSTM(64, return_sequences=True))(x) # return_sequences=True required for stacking RNN layers\\n\",","        \"x = layers.Bidirectional(layers.LSTM(64))(x)\\n\",","        \"outputs = layers.Dense(1, activation=\\\"sigmoid\\\")(x)\\n\",","        \"model_4 = tf.keras.Model(inputs, outputs, name=\\\"model_4_bidirectional\\\")\"","      ],","      \"execution_count\": null,","      \"outputs\": []","    },","    {","      \"cell_type\": \"code\",","      \"metadata\": {","        \"colab\": {","          \"base_uri\": \"https://localhost:8080/\"","        },","        \"id\": \"k24AosTtYoqT\",","        \"outputId\": \"2c2d8b7e-8c68-4583-af03-77446e171cf2\"","      },","      \"source\": [","        \"model_4.summary()\"","      ],","      \"execution_count\": null,","      \"outputs\": [","        {","          \"output_type\": \"stream\",","          \"text\": [","            \"Model: \\\"model_4_bidirectional\\\"\\n\",","            \"_________________________________________________________________\\n\",","            \"Layer (type)                 Output Shape              Param #   \\n\",","            \"=================================================================\\n\",","            \"input_4 (InputLayer)         [(None, 1)]               0         \\n\",","            \"_________________________________________________________________\\n\",","            \"text_vectorization_1 (TextVe (None, 15)                0         \\n\",","            \"_________________________________________________________________\\n\",","            \"embedding (Embedding)        (None, 15, 128)           1280000   \\n\",","            \"_________________________________________________________________\\n\",","            \"bidirectional (Bidirectional (None, 128)               98816     \\n\",","            \"_________________________________________________________________\\n\",","            \"dense_3 (Dense)              (None, 1)                 129       \\n\",","            \"=================================================================\\n\",","            \"Total params: 1,378,945\\n\",","            \"Trainable params: 1,378,945\\n\",","            \"Non-trainable params: 0\\n\",","            \"_________________________________________________________________\\n\"","          ],","          \"name\": \"stdout\"","        }","      ]","    },","    {","      \"cell_type\": \"code\",","      \"metadata\": {","        \"colab\": {","          \"base_uri\": \"https://localhost:8080/\"","        },","        \"id\": \"DJTex7vKYuSH\",","        \"outputId\": \"2cf6ef8a-34b6-40c3-c5d2-13f8141bd44f\"","      },","      \"source\": [","        \"# Compile model\\n\",","        \"model_4.compile(loss=\\\"binary_crossentropy\\\",\\n\",","        \"                optimizer=tf.keras.optimizers.Adam(),\\n\",","        \"                metrics=[\\\"accuracy\\\"])\\n\",","        \"\\n\",","        \"# Fit model\\n\",","        \"history_model_4 = model_4.fit(train_sentences,\\n\",","        \"                              train_labels,\\n\",","        \"                              epochs=5,\\n\",","        \"                              validation_data=(val_sentences, val_labels),\\n\",","        \"                              callbacks=[create_tensorboard_callback(dir_name=SAVE_DIR,\\n\",","        \"                                                                     experiment_name=\\\"model_4_bidirectional\\\")])\"","      ],","      \"execution_count\": null,","      \"outputs\": [","        {","          \"output_type\": \"stream\",","          \"text\": [","            \"Saving TensorBoard log files to: model_logs/model_4_bidirectional/20210414-055952\\n\",","            \"Epoch 1/5\\n\",","            \"215/215 [==============================] - 11s 33ms/step - loss: 0.1773 - accuracy: 0.9660 - val_loss: 0.9334 - val_accuracy: 0.7703\\n\",","            \"Epoch 2/5\\n\",","            \"215/215 [==============================] - 6s 26ms/step - loss: 0.0481 - accuracy: 0.9788 - val_loss: 1.1132 - val_accuracy: 0.7677\\n\",","            \"Epoch 3/5\\n\",","            \"215/215 [==============================] - 5s 25ms/step - loss: 0.0458 - accuracy: 0.9785 - val_loss: 1.2475 - val_accuracy: 0.7743\\n\",","            \"Epoch 4/5\\n\",","            \"215/215 [==============================] - 5s 25ms/step - loss: 0.0549 - accuracy: 0.9740 - val_loss: 1.3507 - val_accuracy: 0.7677\\n\",","            \"Epoch 5/5\\n\",","            \"215/215 [==============================] - 5s 25ms/step - loss: 0.0414 - accuracy: 0.9796 - val_loss: 1.2782 - val_accuracy: 0.7717\\n\"","          ],","          \"name\": \"stdout\"","        }","      ]","    },","    {","      \"cell_type\": \"code\",","      \"metadata\": {","        \"colab\": {","          \"base_uri\": \"https://localhost:8080/\"","        },","        \"id\": \"6uf4_4y1aMYv\",","        \"outputId\": \"1b718d32-1f1d-43e6-8790-9482a5c03d2e\"","      },","      \"source\": [","        \"# Make predictions with our bidirectional model\\n\",","        \"model_4_pred_probs = model_4.predict(val_sentences)\\n\",","        \"model_4_pred_probs[:10], model_4_pred_probs.shape\"","      ],","      \"execution_count\": null,","      \"outputs\": [","        {","          \"output_type\": \"execute_result\",","          \"data\": {","            \"text/plain\": [","              \"(array([[3.2934537e-03],\\n\",","              \"        [7.6064408e-01],\\n\",","              \"        [9.9996603e-01],\\n\",","              \"        [2.9276967e-01],\\n\",","              \"        [1.4514616e-05],\\n\",","              \"        [9.9951208e-01],\\n\",","              \"        [6.2776673e-01],\\n\",","              \"        [9.9999046e-01],\\n\",","              \"        [9.9994016e-01],\\n\",","              \"        [5.7673228e-01]], dtype=float32), (762, 1))\"","            ]","          },","          \"metadata\": {","            \"tags\": []","          },","          \"execution_count\": 64","        }","      ]","    },","    {","      \"cell_type\": \"code\",","      \"metadata\": {","        \"colab\": {","          \"base_uri\": \"https://localhost:8080/\"","        },","        \"id\": \"8Q7Kh777aiNF\",","        \"outputId\": \"337e4c87-4e95-410f-d696-1b1f4a3819f5\"","      },","      \"source\": [","        \"# Convert pred probs to labels\\n\",","        \"model_4_preds = tf.squeeze(tf.round(model_4_pred_probs))\\n\",","        \"model_4_preds[:10]\"","      ],","      \"execution_count\": null,","      \"outputs\": [","        {","          \"output_type\": \"execute_result\",","          \"data\": {","            \"text/plain\": [","              \"\u003ctf.Tensor: shape=(10,), dtype=float32, numpy=array([0., 1., 1., 0., 0., 1., 1., 1., 1., 1.], dtype=float32)\u003e\"","            ]","          },","          \"metadata\": {","            \"tags\": []","          },","          \"execution_count\": 65","        }","      ]","    },","    {","      \"cell_type\": \"code\",","      \"metadata\": {","        \"colab\": {","          \"base_uri\": \"https://localhost:8080/\"","        },","        \"id\": \"g8wNtN5sarja\",","        \"outputId\": \"8d36d2aa-244e-43fc-cbb0-567b34b946fd\"","      },","      \"source\": [","        \"# Calculate model 4 results\\n\",","        \"model_4_results = calculate_results(y_true=val_labels,\\n\",","        \"                                    y_pred=model_4_preds)\\n\",","        \"model_4_results\"","      ],","      \"execution_count\": null,","      \"outputs\": [","        {","          \"output_type\": \"execute_result\",","          \"data\": {","            \"text/plain\": [","              \"{'accuracy': 77.16535433070865,\\n\",","              \" 'f1': 0.7688960790251899,\\n\",","              \" 'precision': 0.7747861668850706,\\n\",","              \" 'recall': 0.7716535433070866}\"","            ]","          },","          \"metadata\": {","            \"tags\": []","          },","          \"execution_count\": 66","        }","      ]","    },","    {","      \"cell_type\": \"markdown\",","      \"metadata\": {","        \"id\": \"4k4a1F7oatvK\"","      },","      \"source\": [","        \"## Model 5: Conv1D\\n\",","        \"\\n\",","        \"We've seen before how convolutional neural networks can be used for images but they can also be used for text.\\n\",","        \"\\n\",","        \"Previously we've used the layer Conv2D (which is great for images with (height, width)).\\n\",","        \"\\n\",","        \"But if we want to use convolutional layers for sequences (e.g. text) we need to use Conv1D: https://www.tensorflow.org/api_docs/python/tf/keras/layers/Conv1D\\n\",","        \"\\n\",","        \"For more of a deep dive into what goes on behind the scenes in a CNN for text (or sequences) see the paper: https://arxiv.org/abs/1809.08037\"","      ]","    },","    {","      \"cell_type\": \"code\",","      \"metadata\": {","        \"colab\": {","          \"base_uri\": \"https://localhost:8080/\"","        },","        \"id\": \"-ti4uulyc8s6\",","        \"outputId\": \"8f9fa0df-b2d4-4662-8600-2abcb76e7f96\"","      },","      \"source\": [","        \"# Let's do a little test to see what things look like through the eyes of a Conv1D layer\\n\",","        \"embedding_test = embedding(text_vectorizer([\\\"this is a test sentence\\\"])) # turn target sentence into embedding\\n\",","        \"conv_1d_layer = layers.Conv1D(filters=32,\\n\",","        \"                              kernel_size=5, # setting this to 5 means it'll look at 5 words at a time, 3 would mean 3 words at a time\\n\",","        \"                              activation=\\\"relu\\\")\\n\",","        \"conv_1d_output = conv_1d_layer(embedding_test)\\n\",","        \"max_pool = layers.GlobalMaxPool1D()\\n\",","        \"max_pool_output = max_pool(conv_1d_output)\\n\",","        \"print(f\\\"Embedding output shape: {embedding_test.shape}\\\")\\n\",","        \"print(f\\\"Conv1D output shape: {conv_1d_output.shape}\\\")\\n\",","        \"print(f\\\"Max pool output shape: {max_pool_output.shape}\\\")\"","      ],","      \"execution_count\": null,","      \"outputs\": [","        {","          \"output_type\": \"stream\",","          \"text\": [","            \"Embedding output shape: (1, 15, 128)\\n\",","            \"Conv1D output shape: (1, 11, 32)\\n\",","            \"Max pool output shape: (1, 32)\\n\"","          ],","          \"name\": \"stdout\"","        }","      ]","    },","    {","      \"cell_type\": \"code\",","      \"metadata\": {","        \"colab\": {","          \"base_uri\": \"https://localhost:8080/\"","        },","        \"id\": \"LzhUsJ5Te2qG\",","        \"outputId\": \"7d19e15c-65f4-47db-df93-bf95b583fa3c\"","      },","      \"source\": [","        \"# Let's see the outputs of each layer\\n\",","        \"print(f\\\"Embedding output: {embedding_test}\\\")\\n\",","        \"print(f\\\"Conv1D output: {conv_1d_output}\\\")\\n\",","        \"print(f\\\"Max pool output: {max_pool_output}\\\")\"","      ],","      \"execution_count\": null,","      \"outputs\": [","        {","          \"output_type\": \"stream\",","          \"text\": [","            \"Embedding output: [[[-0.00336894  0.02530373  0.03439075 ...  0.03439262 -0.01330827\\n\",","            \"   -0.00163012]\\n\",","            \"  [ 0.02095926 -0.03730217  0.04140642 ...  0.0258974  -0.01377566\\n\",","            \"    0.00862277]\\n\",","            \"  [ 0.01086491 -0.00704076 -0.032464   ... -0.01740124  0.05423632\\n\",","            \"   -0.02601008]\\n\",","            \"  ...\\n\",","            \"  [-0.01084766 -0.01796961 -0.01566079 ...  0.00845763  0.01834772\\n\",","            \"   -0.02773598]\\n\",","            \"  [-0.01084766 -0.01796961 -0.01566079 ...  0.00845763  0.01834772\\n\",","            \"   -0.02773598]\\n\",","            \"  [-0.01084766 -0.01796961 -0.01566079 ...  0.00845763  0.01834772\\n\",","            \"   -0.02773598]]]\\n\",","            \"Conv1D output: [[[0.02085471 0.         0.0251439  0.01594924 0.03987276 0.\\n\",","            \"   0.         0.         0.03106996 0.0693481  0.08296497 0.04628621\\n\",","            \"   0.         0.02468291 0.         0.06159209 0.         0.\\n\",","            \"   0.06167379 0.         0.         0.         0.00349523 0.\\n\",","            \"   0.         0.         0.         0.         0.         0.\\n\",","            \"   0.         0.        ]\\n\",","            \"  [0.00054212 0.         0.05562776 0.         0.         0.\\n\",","            \"   0.         0.07398236 0.         0.         0.         0.\\n\",","            \"   0.00784798 0.13731796 0.         0.         0.         0.00929163\\n\",","            \"   0.         0.         0.08877808 0.         0.         0.02935873\\n\",","            \"   0.03264053 0.03866933 0.05365412 0.01732465 0.         0.06954296\\n\",","            \"   0.00980187 0.0285482 ]\\n\",","            \"  [0.0238361  0.02302316 0.03229465 0.         0.06289217 0.08523811\\n\",","            \"   0.01136128 0.         0.05738889 0.         0.02491057 0.\\n\",","            \"   0.         0.03656951 0.         0.04002353 0.         0.03880226\\n\",","            \"   0.124845   0.         0.0087536  0.02037644 0.04507983 0.\\n\",","            \"   0.         0.02188902 0.03331593 0.01122567 0.         0.02257476\\n\",","            \"   0.00109781 0.05136009]\\n\",","            \"  [0.05183294 0.         0.05846345 0.         0.04930804 0.\\n\",","            \"   0.00796415 0.03070185 0.04773549 0.         0.         0.00065365\\n\",","            \"   0.         0.03556914 0.         0.         0.         0.\\n\",","            \"   0.         0.03211213 0.0578687  0.02963392 0.07651699 0.\\n\",","            \"   0.         0.08474677 0.08265662 0.         0.04244438 0.\\n\",","            \"   0.         0.00103243]\\n\",","            \"  [0.05243194 0.         0.         0.         0.01205003 0.03402096\\n\",","            \"   0.         0.00627384 0.09277191 0.         0.         0.02730833\\n\",","            \"   0.         0.02347868 0.04263006 0.         0.         0.00583053\\n\",","            \"   0.01346485 0.01151112 0.02323712 0.         0.04228698 0.\\n\",","            \"   0.01047696 0.01118063 0.04947374 0.         0.03180653 0.05477148\\n\",","            \"   0.         0.        ]\\n\",","            \"  [0.04260373 0.00857761 0.         0.         0.00173682 0.05755334\\n\",","            \"   0.019162   0.         0.06449309 0.         0.         0.\\n\",","            \"   0.         0.02023829 0.02328368 0.00106196 0.         0.\\n\",","            \"   0.00576173 0.00176063 0.00524058 0.         0.02950365 0.\\n\",","            \"   0.00385522 0.01764445 0.02112489 0.         0.01462784 0.03994107\\n\",","            \"   0.         0.        ]\\n\",","            \"  [0.04260373 0.00857761 0.         0.         0.00173682 0.05755335\\n\",","            \"   0.019162   0.         0.06449309 0.         0.         0.\\n\",","            \"   0.         0.02023829 0.02328368 0.00106197 0.         0.\\n\",","            \"   0.00576173 0.00176064 0.00524058 0.         0.02950365 0.\\n\",","            \"   0.00385523 0.01764445 0.02112488 0.         0.01462784 0.03994108\\n\",","            \"   0.         0.        ]\\n\",","            \"  [0.04260372 0.00857762 0.         0.         0.00173682 0.05755336\\n\",","            \"   0.01916201 0.         0.06449309 0.         0.         0.\\n\",","            \"   0.         0.02023828 0.02328368 0.00106196 0.         0.\\n\",","            \"   0.00576173 0.00176064 0.00524058 0.         0.02950365 0.\\n\",","            \"   0.00385522 0.01764445 0.02112488 0.         0.01462783 0.03994108\\n\",","            \"   0.         0.        ]\\n\",","            \"  [0.04260372 0.00857762 0.         0.         0.00173682 0.05755335\\n\",","            \"   0.019162   0.         0.06449309 0.         0.         0.\\n\",","            \"   0.         0.02023829 0.02328369 0.00106197 0.         0.\\n\",","            \"   0.00576173 0.00176063 0.00524058 0.         0.02950365 0.\\n\",","            \"   0.00385522 0.01764444 0.02112488 0.         0.01462784 0.03994108\\n\",","            \"   0.         0.        ]\\n\",","            \"  [0.04260373 0.00857761 0.         0.         0.00173681 0.05755335\\n\",","            \"   0.019162   0.         0.06449309 0.         0.         0.\\n\",","            \"   0.         0.02023829 0.02328368 0.00106197 0.         0.\\n\",","            \"   0.00576173 0.00176063 0.00524058 0.         0.02950365 0.\\n\",","            \"   0.00385523 0.01764444 0.02112488 0.         0.01462784 0.03994108\\n\",","            \"   0.         0.        ]\\n\",","            \"  [0.04260372 0.00857761 0.         0.         0.00173682 0.05755335\\n\",","            \"   0.01916201 0.         0.06449309 0.         0.         0.\\n\",","            \"   0.         0.02023828 0.02328368 0.00106197 0.         0.\\n\",","            \"   0.00576173 0.00176063 0.00524058 0.         0.02950365 0.\\n\",","            \"   0.00385523 0.01764445 0.02112488 0.         0.01462784 0.03994108\\n\",","            \"   0.         0.        ]]]\\n\",","            \"Max pool output: [[0.05243194 0.02302316 0.05846345 0.01594924 0.06289217 0.08523811\\n\",","            \"  0.01916201 0.07398236 0.09277191 0.0693481  0.08296497 0.04628621\\n\",","            \"  0.00784798 0.13731796 0.04263006 0.06159209 0.         0.03880226\\n\",","            \"  0.124845   0.03211213 0.08877808 0.02963392 0.07651699 0.02935873\\n\",","            \"  0.03264053 0.08474677 0.08265662 0.01732465 0.04244438 0.06954296\\n\",","            \"  0.00980187 0.05136009]]\\n\"","          ],","          \"name\": \"stdout\"","        }","      ]","    },","    {","      \"cell_type\": \"code\",","      \"metadata\": {","        \"colab\": {","          \"base_uri\": \"https://localhost:8080/\"","        },","        \"id\": \"bh0b92eqfpCY\",","        \"outputId\": \"8bd81d40-eda2-4644-afce-61a6ce1f36e5\"","      },","      \"source\": [","        \"# Create 1-dimensional CNN to model sequences\\n\",","        \"from tensorflow.keras import layers\\n\",","        \"inputs = layers.Input(shape=(1,), dtype=\\\"string\\\")\\n\",","        \"x = text_vectorizer(inputs)\\n\",","        \"x = embedding(x)\\n\",","        \"x = layers.Conv1D(filters=32, kernel_size=5, activation=\\\"relu\\\")(x)\\n\",","        \"x = layers.GlobalMaxPool1D()(x)\\n\",","        \"# x = layers.Dense(64, activation=\\\"relu\\\")(x)\\n\",","        \"outputs = layers.Dense(1, activation=\\\"sigmoid\\\", name=\\\"output_layer\\\")(x)\\n\",","        \"model_5 = tf.keras.Model(inputs, outputs, name=\\\"model_5_conv1d\\\")\\n\",","        \"\\n\",","        \"model_5.summary()\"","      ],","      \"execution_count\": null,","      \"outputs\": [","        {","          \"output_type\": \"stream\",","          \"text\": [","            \"Model: \\\"model_5_conv1d\\\"\\n\",","            \"_________________________________________________________________\\n\",","            \"Layer (type)                 Output Shape              Param #   \\n\",","            \"=================================================================\\n\",","            \"input_5 (InputLayer)         [(None, 1)]               0         \\n\",","            \"_________________________________________________________________\\n\",","            \"text_vectorization_1 (TextVe (None, 15)                0         \\n\",","            \"_________________________________________________________________\\n\",","            \"embedding (Embedding)        (None, 15, 128)           1280000   \\n\",","            \"_________________________________________________________________\\n\",","            \"conv1d_1 (Conv1D)            (None, 11, 32)            20512     \\n\",","            \"_________________________________________________________________\\n\",","            \"global_max_pooling1d_1 (Glob (None, 32)                0         \\n\",","            \"_________________________________________________________________\\n\",","            \"output_layer (Dense)         (None, 1)                 33        \\n\",","            \"=================================================================\\n\",","            \"Total params: 1,300,545\\n\",","            \"Trainable params: 1,300,545\\n\",","            \"Non-trainable params: 0\\n\",","            \"_________________________________________________________________\\n\"","          ],","          \"name\": \"stdout\"","        }","      ]","    },","    {","      \"cell_type\": \"code\",","      \"metadata\": {","        \"id\": \"k41K63I4iVz0\"","      },","      \"source\": [","        \"BATCH_SIZE = 32\"","      ],","      \"execution_count\": null,","      \"outputs\": []","    },","    {","      \"cell_type\": \"code\",","      \"metadata\": {","        \"colab\": {","          \"base_uri\": \"https://localhost:8080/\"","        },","        \"id\": \"-sTeVF7thxRA\",","        \"outputId\": \"af18d3ef-2e6d-4523-bab1-1d425a53dde3\"","      },","      \"source\": [","        \"# Compile model\\n\",","        \"model_5.compile(loss=\\\"binary_crossentropy\\\",\\n\",","        \"                optimizer=tf.keras.optimizers.Adam(),\\n\",","        \"                metrics=[\\\"accuracy\\\"])\\n\",","        \"\\n\",","        \"# Fit the model\\n\",","        \"history_model_5 = model_5.fit(train_sentences,\\n\",","        \"                              train_labels,\\n\",","        \"                              epochs=5,\\n\",","        \"                              batch_size=BATCH_SIZE,\\n\",","        \"                              validation_data=(val_sentences, val_labels),\\n\",","        \"                              callbacks=[create_tensorboard_callback(dir_name=SAVE_DIR,\\n\",","        \"                                                                     experiment_name=\\\"model_5_conv1d\\\")])\"","      ],","      \"execution_count\": null,","      \"outputs\": [","        {","          \"output_type\": \"stream\",","          \"text\": [","            \"Saving TensorBoard log files to: model_logs/model_5_conv1d/20210414-060027\\n\",","            \"Epoch 1/5\\n\",","            \"215/215 [==============================] - 6s 23ms/step - loss: 0.2130 - accuracy: 0.9489 - val_loss: 0.8363 - val_accuracy: 0.7795\\n\",","            \"Epoch 2/5\\n\",","            \"215/215 [==============================] - 4s 18ms/step - loss: 0.0758 - accuracy: 0.9731 - val_loss: 0.9521 - val_accuracy: 0.7677\\n\",","            \"Epoch 3/5\\n\",","            \"215/215 [==============================] - 4s 18ms/step - loss: 0.0668 - accuracy: 0.9738 - val_loss: 1.0429 - val_accuracy: 0.7690\\n\",","            \"Epoch 4/5\\n\",","            \"215/215 [==============================] - 4s 18ms/step - loss: 0.0530 - accuracy: 0.9797 - val_loss: 1.1286 - val_accuracy: 0.7717\\n\",","            \"Epoch 5/5\\n\",","            \"215/215 [==============================] - 4s 18ms/step - loss: 0.0446 - accuracy: 0.9820 - val_loss: 1.1877 - val_accuracy: 0.7651\\n\"","          ],","          \"name\": \"stdout\"","        }","      ]","    },","    {","      \"cell_type\": \"code\",","      \"metadata\": {","        \"colab\": {","          \"base_uri\": \"https://localhost:8080/\"","        },","        \"id\": \"3sCcYEWNjYi5\",","        \"outputId\": \"b8622a66-43d2-46f5-f834-ef0c084c979a\"","      },","      \"source\": [","        \"# Make predictions with our 1D CNN\\n\",","        \"model_5_pred_probs = model_5.predict(val_sentences)\\n\",","        \"model_5_pred_probs[:5], model_5_pred_probs.shape\"","      ],","      \"execution_count\": null,","      \"outputs\": [","        {","          \"output_type\": \"execute_result\",","          \"data\": {","            \"text/plain\": [","              \"(array([[4.6753362e-02],\\n\",","              \"        [8.1121272e-01],\\n\",","              \"        [9.9980360e-01],\\n\",","              \"        [6.6667445e-02],\\n\",","              \"        [2.9932426e-07]], dtype=float32), (762, 1))\"","            ]","          },","          \"metadata\": {","            \"tags\": []","          },","          \"execution_count\": 72","        }","      ]","    },","    {","      \"cell_type\": \"code\",","      \"metadata\": {","        \"colab\": {","          \"base_uri\": \"https://localhost:8080/\"","        },","        \"id\": \"XxJsKzVWjqhX\",","        \"outputId\": \"97570fd5-826e-44f0-ae33-efdfca315f9a\"","      },","      \"source\": [","        \"# Convert model 5 pred probs to labels\\n\",","        \"model_5_preds = tf.squeeze(tf.round(model_5_pred_probs))\\n\",","        \"model_5_preds[:10]\"","      ],","      \"execution_count\": null,","      \"outputs\": [","        {","          \"output_type\": \"execute_result\",","          \"data\": {","            \"text/plain\": [","              \"\u003ctf.Tensor: shape=(10,), dtype=float32, numpy=array([0., 1., 1., 0., 0., 1., 1., 1., 1., 1.], dtype=float32)\u003e\"","            ]","          },","          \"metadata\": {","            \"tags\": []","          },","          \"execution_count\": 73","        }","      ]","    },","    {","      \"cell_type\": \"code\",","      \"metadata\": {","        \"colab\": {","          \"base_uri\": \"https://localhost:8080/\"","        },","        \"id\": \"dOWYkGlZjqLK\",","        \"outputId\": \"bca5747f-5804-4ac3-a71f-0b9bc792c473\"","      },","      \"source\": [","        \"# Calculate results for model 5\\n\",","        \"model_5_results = calculate_results(y_true=val_labels,\\n\",","        \"                                    y_pred=model_5_preds)\\n\",","        \"model_5_results\"","      ],","      \"execution_count\": null,","      \"outputs\": [","        {","          \"output_type\": \"execute_result\",","          \"data\": {","            \"text/plain\": [","              \"{'accuracy': 76.50918635170603,\\n\",","              \" 'f1': 0.7626195388168748,\\n\",","              \" 'precision': 0.7672217903358366,\\n\",","              \" 'recall': 0.7650918635170604}\"","            ]","          },","          \"metadata\": {","            \"tags\": []","          },","          \"execution_count\": 74","        }","      ]","    },","    {","      \"cell_type\": \"markdown\",","      \"metadata\": {","        \"id\": \"kM3n8i-mj7hH\"","      },","      \"source\": [","        \"## Model 6: TensorFlow Hub Pretrained Sentence Encoder\\n\",","        \"\\n\",","        \"Now we've built a few of our own models, let's try and use transfer learning for NLP, specifically using TensorFlow Hub's Universal Sentence Encoder: https://tfhub.dev/google/universal-sentence-encoder/4\\n\",","        \"\\n\",","        \"See how the USE was created here: https://arxiv.org/abs/1803.11175\\n\",","        \"\\n\",","        \"📖 **Resource:** TensorFlow Hub is a great resource for many pretrained models but HuggingFace is also another incredible resource for many pretrained NLP models (using HuggingFace model is beyond the scope of this course but it is definitely something you should be familiar with in the NLP space): https://huggingface.co/models\"","      ]","    },","    {","      \"cell_type\": \"code\",","      \"metadata\": {","        \"colab\": {","          \"base_uri\": \"https://localhost:8080/\",","          \"height\": 35","        },","        \"id\": \"3K8Vuw-uG_ZJ\",","        \"outputId\": \"e553a614-d258-435b-94c7-5e9e8b9175f9\"","      },","      \"source\": [","        \"sample_sentence\"","      ],","      \"execution_count\": null,","      \"outputs\": [","        {","          \"output_type\": \"execute_result\",","          \"data\": {","            \"application/vnd.google.colaboratory.intrinsic+json\": {","              \"type\": \"string\"","            },","            \"text/plain\": [","              \"\\\"There's a flood in my street!\\\"\"","            ]","          },","          \"metadata\": {","            \"tags\": []","          },","          \"execution_count\": 75","        }","      ]","    },","    {","      \"cell_type\": \"code\",","      \"metadata\": {","        \"colab\": {","          \"base_uri\": \"https://localhost:8080/\"","        },","        \"id\": \"sdQhymwZD3Rp\",","        \"outputId\": \"2e1e387b-267b-4373-fb85-3cc6575cc038\"","      },","      \"source\": [","        \"import tensorflow_hub as hub\\n\",","        \"embed = hub.load(\\\"https://tfhub.dev/google/universal-sentence-encoder/4\\\")\\n\",","        \"embed_samples = embed([sample_sentence,\\n\",","        \"                       \\\"When you can the universal sentence encoder on a sentence, it turns it into numbers.\\\"])\\n\",","        \"print(embed_samples[0][:50])\"","      ],","      \"execution_count\": null,","      \"outputs\": [","        {","          \"output_type\": \"stream\",","          \"text\": [","            \"tf.Tensor(\\n\",","            \"[-0.01157024  0.0248591   0.0287805  -0.01271503  0.03971543  0.08827759\\n\",","            \"  0.02680986  0.05589838 -0.01068732 -0.0059729   0.00639325 -0.01819523\\n\",","            \"  0.00030817  0.09105892  0.05874645 -0.03180628  0.01512476 -0.05162928\\n\",","            \"  0.00991369 -0.06865345 -0.04209306  0.02678981  0.03011009  0.00321069\\n\",","            \" -0.00337969 -0.04787359  0.02266719 -0.00985924 -0.04063614 -0.01292095\\n\",","            \" -0.04666384  0.056303   -0.03949255  0.00517685  0.02495828 -0.07014439\\n\",","            \"  0.02871509  0.04947682 -0.00633971 -0.08960192  0.02807117 -0.00808362\\n\",","            \" -0.01360601  0.05998649 -0.10361787 -0.05195372  0.00232955 -0.02332528\\n\",","            \" -0.03758105  0.0332773 ], shape=(50,), dtype=float32)\\n\"","          ],","          \"name\": \"stdout\"","        }","      ]","    },","    {","      \"cell_type\": \"code\",","      \"metadata\": {","        \"colab\": {","          \"base_uri\": \"https://localhost:8080/\"","        },","        \"id\": \"BFH2uFBcGzH8\",","        \"outputId\": \"fc4769e3-da05-4cea-ce78-2e4f8813b1ff\"","      },","      \"source\": [","        \"embed_samples[0].shape\"","      ],","      \"execution_count\": null,","      \"outputs\": [","        {","          \"output_type\": \"execute_result\",","          \"data\": {","            \"text/plain\": [","              \"TensorShape([512])\"","            ]","          },","          \"metadata\": {","            \"tags\": []","          },","          \"execution_count\": 77","        }","      ]","    },","    {","      \"cell_type\": \"code\",","      \"metadata\": {","        \"id\": \"mZOcXMLiG-U2\"","      },","      \"source\": [","        \"# Create a Keras Layer using the USE pretrained layer from tensorflow hub\\n\",","        \"sentence_encoder_layer = hub.KerasLayer(\\\"https://tfhub.dev/google/universal-sentence-encoder/4\\\",\\n\",","        \"                                        input_shape=[],\\n\",","        \"                                        dtype=tf.string,\\n\",","        \"                                        trainable=False,\\n\",","        \"                                        name=\\\"USE\\\")\"","      ],","      \"execution_count\": null,","      \"outputs\": []","    },","    {","      \"cell_type\": \"code\",","      \"metadata\": {","        \"colab\": {","          \"base_uri\": \"https://localhost:8080/\"","        },","        \"id\": \"DONRMBLXJcAa\",","        \"outputId\": \"8b810e73-8144-4149-f5a3-d6a2ae9c71dd\"","      },","      \"source\": [","        \"# Create model using the Sequential API\\n\",","        \"model_6 = tf.keras.Sequential([\\n\",","        \"  sentence_encoder_layer,\\n\",","        \"  layers.Dense(64, activation=\\\"relu\\\"),\\n\",","        \"  layers.Dense(1, activation=\\\"sigmoid\\\", name=\\\"output_layer\\\")                               \\n\",","        \"], name=\\\"model_6_USE\\\")\\n\",","        \"\\n\",","        \"# Compile\\n\",","        \"model_6.compile(loss=\\\"binary_crossentropy\\\",\\n\",","        \"                optimizer=tf.keras.optimizers.Adam(),\\n\",","        \"                metrics=[\\\"accuracy\\\"])\\n\",","        \"\\n\",","        \"model_6.summary()\"","      ],","      \"execution_count\": null,","      \"outputs\": [","        {","          \"output_type\": \"stream\",","          \"text\": [","            \"Model: \\\"model_6_USE\\\"\\n\",","            \"_________________________________________________________________\\n\",","            \"Layer (type)                 Output Shape              Param #   \\n\",","            \"=================================================================\\n\",","            \"USE (KerasLayer)             (None, 512)               256797824 \\n\",","            \"_________________________________________________________________\\n\",","            \"dense_4 (Dense)              (None, 64)                32832     \\n\",","            \"_________________________________________________________________\\n\",","            \"output_layer (Dense)         (None, 1)                 65        \\n\",","            \"=================================================================\\n\",","            \"Total params: 256,830,721\\n\",","            \"Trainable params: 32,897\\n\",","            \"Non-trainable params: 256,797,824\\n\",","            \"_________________________________________________________________\\n\"","          ],","          \"name\": \"stdout\"","        }","      ]","    },","    {","      \"cell_type\": \"code\",","      \"metadata\": {","        \"colab\": {","          \"base_uri\": \"https://localhost:8080/\"","        },","        \"id\": \"7uALDPUuJ3Cx\",","        \"outputId\": \"a6dc8bd8-8576-464c-bc31-9a71b4d95350\"","      },","      \"source\": [","        \"# Train a classifier on top of USE pretrained embeddings\\n\",","        \"model_6_history = model_6.fit(train_sentences,\\n\",","        \"                              train_labels,\\n\",","        \"                              epochs=5,\\n\",","        \"                              validation_data=(val_sentences, val_labels),\\n\",","        \"                              callbacks=[create_tensorboard_callback(SAVE_DIR,\\n\",","        \"                                                                     \\\"tf_hub_sentence_encoder\\\")])\"","      ],","      \"execution_count\": null,","      \"outputs\": [","        {","          \"output_type\": \"stream\",","          \"text\": [","            \"Saving TensorBoard log files to: model_logs/tf_hub_sentence_encoder/20210414-060134\\n\",","            \"Epoch 1/5\\n\",","            \"215/215 [==============================] - 10s 31ms/step - loss: 0.5727 - accuracy: 0.7393 - val_loss: 0.4550 - val_accuracy: 0.8058\\n\",","            \"Epoch 2/5\\n\",","            \"215/215 [==============================] - 3s 16ms/step - loss: 0.4248 - accuracy: 0.8097 - val_loss: 0.4380 - val_accuracy: 0.8123\\n\",","            \"Epoch 3/5\\n\",","            \"215/215 [==============================] - 3s 16ms/step - loss: 0.3925 - accuracy: 0.8250 - val_loss: 0.4340 - val_accuracy: 0.8097\\n\",","            \"Epoch 4/5\\n\",","            \"215/215 [==============================] - 3s 15ms/step - loss: 0.3877 - accuracy: 0.8305 - val_loss: 0.4329 - val_accuracy: 0.8123\\n\",","            \"Epoch 5/5\\n\",","            \"215/215 [==============================] - 3s 15ms/step - loss: 0.3762 - accuracy: 0.8364 - val_loss: 0.4289 - val_accuracy: 0.8150\\n\"","          ],","          \"name\": \"stdout\"","        }","      ]","    },","    {","      \"cell_type\": \"code\",","      \"metadata\": {","        \"colab\": {","          \"base_uri\": \"https://localhost:8080/\"","        },","        \"id\": \"uDrKgxzuKhtC\",","        \"outputId\": \"2698d86c-b348-4e1d-9a0a-c4ae13316269\"","      },","      \"source\": [","        \"# Make predictions with USE TF Hub Model\\n\",","        \"model_6_pred_probs = model_6.predict(val_sentences)\\n\",","        \"model_6_pred_probs[:10]\"","      ],","      \"execution_count\": null,","      \"outputs\": [","        {","          \"output_type\": \"execute_result\",","          \"data\": {","            \"text/plain\": [","              \"array([[0.16757499],\\n\",","              \"       [0.7972953 ],\\n\",","              \"       [0.985545  ],\\n\",","              \"       [0.19845757],\\n\",","              \"       [0.75607044],\\n\",","              \"       [0.7554092 ],\\n\",","              \"       [0.9778758 ],\\n\",","              \"       [0.977767  ],\\n\",","              \"       [0.93762237],\\n\",","              \"       [0.0849001 ]], dtype=float32)\"","            ]","          },","          \"metadata\": {","            \"tags\": []","          },","          \"execution_count\": 81","        }","      ]","    },","    {","      \"cell_type\": \"code\",","      \"metadata\": {","        \"colab\": {","          \"base_uri\": \"https://localhost:8080/\"","        },","        \"id\": \"W3J2sShbKwfs\",","        \"outputId\": \"2b0b3ad5-7ad2-4dfb-adb3-28a690451e3e\"","      },","      \"source\": [","        \"# Convert prediction probabilities to labels\\n\",","        \"model_6_preds = tf.squeeze(tf.round(model_6_pred_probs))\\n\",","        \"model_6_preds[:10]\"","      ],","      \"execution_count\": null,","      \"outputs\": [","        {","          \"output_type\": \"execute_result\",","          \"data\": {","            \"text/plain\": [","              \"\u003ctf.Tensor: shape=(10,), dtype=float32, numpy=array([0., 1., 1., 0., 1., 1., 1., 1., 1., 0.], dtype=float32)\u003e\"","            ]","          },","          \"metadata\": {","            \"tags\": []","          },","          \"execution_count\": 82","        }","      ]","    },","    {","      \"cell_type\": \"code\",","      \"metadata\": {","        \"colab\": {","          \"base_uri\": \"https://localhost:8080/\"","        },","        \"id\": \"ph8KI1oNK4HD\",","        \"outputId\": \"cf351a8d-934b-40e7-e967-0c0124160c3a\"","      },","      \"source\": [","        \"# Calculate model 6 performance metrics\\n\",","        \"model_6_results = calculate_results(y_true=val_labels,\\n\",","        \"                                    y_pred=model_6_preds)\\n\",","        \"model_6_results\"","      ],","      \"execution_count\": null,","      \"outputs\": [","        {","          \"output_type\": \"execute_result\",","          \"data\": {","            \"text/plain\": [","              \"{'accuracy': 81.49606299212599,\\n\",","              \" 'f1': 0.8134357776936025,\\n\",","              \" 'precision': 0.8172549323109193,\\n\",","              \" 'recall': 0.8149606299212598}\"","            ]","          },","          \"metadata\": {","            \"tags\": []","          },","          \"execution_count\": 83","        }","      ]","    },","    {","      \"cell_type\": \"markdown\",","      \"metadata\": {","        \"id\": \"Gg41ex0sLDoF\"","      },","      \"source\": [","        \"## Model 7: TF Hub Pretrained USE but with 10% of training data\\n\",","        \"\\n\",","        \"Transfer learning really helps when you don't have a large dataset.\\n\",","        \"\\n\",","        \"To see how our model performs on a smaller dataset, let's replicate `model_6` except we'll train it on 10% of the data.\"","      ]","    },","    {","      \"cell_type\": \"code\",","      \"metadata\": {","        \"id\": \"PZL8js9-M5oZ\"","      },","      \"source\": [","        \"# ## NOTE: Making data splits like below leads to data leakage (model_7 trained on 10% data, outperforms model_6 trained on 100% data)\\n\",","        \"# ## DO NOT MAKE DATA SPLITS WHICH LEAK DATA FROM VALIDATION/TEST SETS INTO TRAINING SET \\n\",","        \"\\n\",","        \"# # Create subsets of 10% of the training data\\n\",","        \"# train_10_percent = train_df_shuffled[[\\\"text\\\", \\\"target\\\"]].sample(frac=0.1, random_state=42)\\n\",","        \"# # train_10_percent.head(), len(train_10_percent)\\n\",","        \"# train_sentences_10_percent = train_10_percent[\\\"text\\\"].to_list()\\n\",","        \"# train_labels_10_percent = train_10_percent[\\\"target\\\"].to_list()\\n\",","        \"# len(train_sentences_10_percent), len(train_labels_10_percent)\"","      ],","      \"execution_count\": null,","      \"outputs\": []","    },","    {","      \"cell_type\": \"markdown\",","      \"metadata\": {","        \"id\": \"55bzxeJQUTC0\"","      },","      \"source\": [","        \"\u003e 🔑 **Note:** Be *very* careful when creating training/val/test splits that you don't leak data across the datasets, otherwise your model evaluation metrics will be wrong. If something looks too good to be true (a model trained on 10% of data outperforming the same model trained on 100% of data) trust your gut and go back through to find where the error may lie.\"","      ]","    },","    {","      \"cell_type\": \"code\",","      \"metadata\": {","        \"id\": \"CvoPRskfS8Pm\"","      },","      \"source\": [","        \"# Making a better dataset split (no data leakage)\\n\",","        \"train_10_percent_split = int(0.1 * len(train_sentences))\\n\",","        \"train_sentences_10_percent = train_sentences[:train_10_percent_split]\\n\",","        \"train_labels_10_percent = train_labels[:train_10_percent_split]\"","      ],","      \"execution_count\": null,","      \"outputs\": []","    },","    {","      \"cell_type\": \"code\",","      \"metadata\": {","        \"colab\": {","          \"base_uri\": \"https://localhost:8080/\"","        },","        \"id\": \"oglhBYknTKAL\",","        \"outputId\": \"79a1930a-9003-411f-c74b-7c34115be4ba\"","      },","      \"source\": [","        \"# Check the number of each label in the updated training data subset\\n\",","        \"pd.Series(np.array(train_labels_10_percent)).value_counts()\"","      ],","      \"execution_count\": null,","      \"outputs\": [","        {","          \"output_type\": \"execute_result\",","          \"data\": {","            \"text/plain\": [","              \"0    406\\n\",","              \"1    279\\n\",","              \"dtype: int64\"","            ]","          },","          \"metadata\": {","            \"tags\": []","          },","          \"execution_count\": 86","        }","      ]","    },","    {","      \"cell_type\": \"code\",","      \"metadata\": {","        \"colab\": {","          \"base_uri\": \"https://localhost:8080/\"","        },","        \"id\": \"gGNtG6izNM80\",","        \"outputId\": \"89758ae9-297b-47fb-c2e5-6117fda39897\"","      },","      \"source\": [","        \"# Check the number of targets in our subset of data\\n\",","        \"train_df_shuffled[\\\"target\\\"].value_counts()\"","      ],","      \"execution_count\": null,","      \"outputs\": [","        {","          \"output_type\": \"execute_result\",","          \"data\": {","            \"text/plain\": [","              \"0    4342\\n\",","              \"1    3271\\n\",","              \"Name: target, dtype: int64\"","            ]","          },","          \"metadata\": {","            \"tags\": []","          },","          \"execution_count\": 87","        }","      ]","    },","    {","      \"cell_type\": \"markdown\",","      \"metadata\": {","        \"id\": \"SjxT2OEjOzm2\"","      },","      \"source\": [","        \"To recreate a model the same as a previous model you've created you can use the `tf.keras.models.clone_model()` method, see more here: https://www.tensorflow.org/api_docs/python/tf/keras/models/clone_model\"","      ]","    },","    {","      \"cell_type\": \"code\",","      \"metadata\": {","        \"colab\": {","          \"base_uri\": \"https://localhost:8080/\"","        },","        \"id\": \"GTAkNUBvNjBx\",","        \"outputId\": \"92edfc47-e72a-45a6-e202-48b7d8ebe2a2\"","      },","      \"source\": [","        \"# Let's build a model the same as model_6\\n\",","        \"# model_7 = tf.keras.models.clone_model(model_6)\\n\",","        \"model_7 = tf.keras.Sequential([\\n\",","        \"  sentence_encoder_layer,\\n\",","        \"  layers.Dense(64, activation=\\\"relu\\\"),\\n\",","        \"  layers.Dense(1, activation=\\\"sigmoid\\\", name=\\\"output_layer\\\")                               \\n\",","        \"], name=\\\"model_7_USE\\\")\\n\",","        \"\\n\",","        \"# Compile model\\n\",","        \"model_7.compile(loss=\\\"binary_crossentropy\\\",\\n\",","        \"                optimizer=tf.keras.optimizers.Adam(),\\n\",","        \"                metrics=[\\\"accuracy\\\"])\\n\",","        \"\\n\",","        \"# Get a summary (will be same as model_6)\\n\",","        \"model_7.summary()\"","      ],","      \"execution_count\": null,","      \"outputs\": [","        {","          \"output_type\": \"stream\",","          \"text\": [","            \"Model: \\\"model_7_USE\\\"\\n\",","            \"_________________________________________________________________\\n\",","            \"Layer (type)                 Output Shape              Param #   \\n\",","            \"=================================================================\\n\",","            \"USE (KerasLayer)             (None, 512)               256797824 \\n\",","            \"_________________________________________________________________\\n\",","            \"dense_5 (Dense)              (None, 64)                32832     \\n\",","            \"_________________________________________________________________\\n\",","            \"output_layer (Dense)         (None, 1)                 65        \\n\",","            \"=================================================================\\n\",","            \"Total params: 256,830,721\\n\",","            \"Trainable params: 32,897\\n\",","            \"Non-trainable params: 256,797,824\\n\",","            \"_________________________________________________________________\\n\"","          ],","          \"name\": \"stdout\"","        }","      ]","    },","    {","      \"cell_type\": \"code\",","      \"metadata\": {","        \"colab\": {","          \"base_uri\": \"https://localhost:8080/\"","        },","        \"id\": \"Egc7fLk9N-JP\",","        \"outputId\": \"bdb257d3-275c-45aa-f4cb-48c3cbc4a694\"","      },","      \"source\": [","        \"# Fit the model to the 10% training data subsets\\n\",","        \"model_7_history = model_7.fit(train_sentences_10_percent,\\n\",","        \"                              train_labels_10_percent,\\n\",","        \"                              epochs=5,\\n\",","        \"                              validation_data=(val_sentences, val_labels),\\n\",","        \"                              callbacks=[create_tensorboard_callback(SAVE_DIR,\\n\",","        \"                                                                     \\\"tf_hub_sentence_encoder_10_percent_correct_split\\\")])\"","      ],","      \"execution_count\": null,","      \"outputs\": [","        {","          \"output_type\": \"stream\",","          \"text\": [","            \"Saving TensorBoard log files to: model_logs/tf_hub_sentence_encoder_10_percent_correct_split/20210414-060159\\n\",","            \"Epoch 1/5\\n\",","            \"22/22 [==============================] - 3s 101ms/step - loss: 0.6793 - accuracy: 0.6465 - val_loss: 0.6444 - val_accuracy: 0.7480\\n\",","            \"Epoch 2/5\\n\",","            \"22/22 [==============================] - 1s 29ms/step - loss: 0.6032 - accuracy: 0.8443 - val_loss: 0.5847 - val_accuracy: 0.7730\\n\",","            \"Epoch 3/5\\n\",","            \"22/22 [==============================] - 1s 29ms/step - loss: 0.5272 - accuracy: 0.8262 - val_loss: 0.5307 - val_accuracy: 0.7848\\n\",","            \"Epoch 4/5\\n\",","            \"22/22 [==============================] - 1s 28ms/step - loss: 0.4612 - accuracy: 0.8385 - val_loss: 0.5019 - val_accuracy: 0.7730\\n\",","            \"Epoch 5/5\\n\",","            \"22/22 [==============================] - 1s 29ms/step - loss: 0.4213 - accuracy: 0.8317 - val_loss: 0.4878 - val_accuracy: 0.7769\\n\"","          ],","          \"name\": \"stdout\"","        }","      ]","    },","    {","      \"cell_type\": \"code\",","      \"metadata\": {","        \"colab\": {","          \"base_uri\": \"https://localhost:8080/\"","        },","        \"id\": \"ZzQaiu_kQH22\",","        \"outputId\": \"37c2df76-d40c-4d50-d909-cf93622c4133\"","      },","      \"source\": [","        \"# Make predictions with the model trained on 10% of the data\\n\",","        \"model_7_pred_probs = model_7.predict(val_sentences)\\n\",","        \"model_7_pred_probs[:10]\"","      ],","      \"execution_count\": null,","      \"outputs\": [","        {","          \"output_type\": \"execute_result\",","          \"data\": {","            \"text/plain\": [","              \"array([[0.2083207 ],\\n\",","              \"       [0.6036797 ],\\n\",","              \"       [0.92795014],\\n\",","              \"       [0.37632278],\\n\",","              \"       [0.5633504 ],\\n\",","              \"       [0.6833203 ],\\n\",","              \"       [0.8904111 ],\\n\",","              \"       [0.80405366],\\n\",","              \"       [0.85651606],\\n\",","              \"       [0.15267055]], dtype=float32)\"","            ]","          },","          \"metadata\": {","            \"tags\": []","          },","          \"execution_count\": 90","        }","      ]","    },","    {","      \"cell_type\": \"code\",","      \"metadata\": {","        \"colab\": {","          \"base_uri\": \"https://localhost:8080/\"","        },","        \"id\": \"Ma3xidC1QTL1\",","        \"outputId\": \"66a1f341-49a9-4961-8862-c581baa00a19\"","      },","      \"source\": [","        \"# Turn pred probs into labels\\n\",","        \"model_7_preds = tf.squeeze(tf.round(model_7_pred_probs))\\n\",","        \"model_7_preds[:10]\"","      ],","      \"execution_count\": null,","      \"outputs\": [","        {","          \"output_type\": \"execute_result\",","          \"data\": {","            \"text/plain\": [","              \"\u003ctf.Tensor: shape=(10,), dtype=float32, numpy=array([0., 1., 1., 0., 1., 1., 1., 1., 1., 0.], dtype=float32)\u003e\"","            ]","          },","          \"metadata\": {","            \"tags\": []","          },","          \"execution_count\": 91","        }","      ]","    },","    {","      \"cell_type\": \"code\",","      \"metadata\": {","        \"colab\": {","          \"base_uri\": \"https://localhost:8080/\"","        },","        \"id\": \"JG4rtLi2QcTm\",","        \"outputId\": \"953ca2af-ca9b-42e4-8375-95a8f3ee0ca7\"","      },","      \"source\": [","        \"# Evalaute model 7 predictions\\n\",","        \"model_7_results = calculate_results(y_true=val_labels,\\n\",","        \"                                    y_pred=model_7_preds)\\n\",","        \"model_7_results\"","      ],","      \"execution_count\": null,","      \"outputs\": [","        {","          \"output_type\": \"execute_result\",","          \"data\": {","            \"text/plain\": [","              \"{'accuracy': 77.69028871391076,\\n\",","              \" 'f1': 0.7758759837011532,\\n\",","              \" 'precision': 0.7769803060533722,\\n\",","              \" 'recall': 0.7769028871391076}\"","            ]","          },","          \"metadata\": {","            \"tags\": []","          },","          \"execution_count\": 92","        }","      ]","    },","    {","      \"cell_type\": \"markdown\",","      \"metadata\": {","        \"id\": \"26PsF3DuRQrt\"","      },","      \"source\": [","        \"## Comparing the peformance of each of our models\"","      ]","    },","    {","      \"cell_type\": \"code\",","      \"metadata\": {","        \"colab\": {","          \"base_uri\": \"https://localhost:8080/\",","          \"height\": 294","        },","        \"id\": \"MgI0SBZMVSnQ\",","        \"outputId\": \"e8442e34-6e5e-4b4d-f249-94634e25bf81\"","      },","      \"source\": [","        \"# Combine model results into a DataFrame\\n\",","        \"all_model_results = pd.DataFrame({\\\"0_baseline\\\": baseline_results,\\n\",","        \"                                  \\\"1_simple_dense\\\": model_1_results,\\n\",","        \"                                  \\\"2_lstm\\\": model_2_results,\\n\",","        \"                                  \\\"3_gru\\\": model_3_results,\\n\",","        \"                                  \\\"4_bidirectional\\\": model_4_results,\\n\",","        \"                                  \\\"5_conv1d\\\": model_5_results,\\n\",","        \"                                  \\\"6_tf_hub_use_encoder\\\": model_6_results,\\n\",","        \"                                  \\\"7_tf_hub_use_encoder_10_percent\\\": model_7_results})\\n\",","        \"all_model_results = all_model_results.transpose()\\n\",","        \"all_model_results\"","      ],","      \"execution_count\": null,","      \"outputs\": [","        {","          \"output_type\": \"execute_result\",","          \"data\": {","            \"text/html\": [","              \"\u003cdiv\u003e\\n\",","              \"\u003cstyle scoped\u003e\\n\",","              \"    .dataframe tbody tr th:only-of-type {\\n\",","              \"        vertical-align: middle;\\n\",","              \"    }\\n\",","              \"\\n\",","              \"    .dataframe tbody tr th {\\n\",","              \"        vertical-align: top;\\n\",","              \"    }\\n\",","              \"\\n\",","              \"    .dataframe thead th {\\n\",","              \"        text-align: right;\\n\",","              \"    }\\n\",","              \"\u003c/style\u003e\\n\",","              \"\u003ctable border=\\\"1\\\" class=\\\"dataframe\\\"\u003e\\n\",","              \"  \u003cthead\u003e\\n\",","              \"    \u003ctr style=\\\"text-align: right;\\\"\u003e\\n\",","              \"      \u003cth\u003e\u003c/th\u003e\\n\",","              \"      \u003cth\u003eaccuracy\u003c/th\u003e\\n\",","              \"      \u003cth\u003eprecision\u003c/th\u003e\\n\",","              \"      \u003cth\u003erecall\u003c/th\u003e\\n\",","              \"      \u003cth\u003ef1\u003c/th\u003e\\n\",","              \"    \u003c/tr\u003e\\n\",","              \"  \u003c/thead\u003e\\n\",","              \"  \u003ctbody\u003e\\n\",","              \"    \u003ctr\u003e\\n\",","              \"      \u003cth\u003e0_baseline\u003c/th\u003e\\n\",","              \"      \u003ctd\u003e79.265092\u003c/td\u003e\\n\",","              \"      \u003ctd\u003e0.811139\u003c/td\u003e\\n\",","              \"      \u003ctd\u003e0.792651\u003c/td\u003e\\n\",","              \"      \u003ctd\u003e0.786219\u003c/td\u003e\\n\",","              \"    \u003c/tr\u003e\\n\",","              \"    \u003ctr\u003e\\n\",","              \"      \u003cth\u003e1_simple_dense\u003c/th\u003e\\n\",","              \"      \u003ctd\u003e79.133858\u003c/td\u003e\\n\",","              \"      \u003ctd\u003e0.797601\u003c/td\u003e\\n\",","              \"      \u003ctd\u003e0.791339\u003c/td\u003e\\n\",","              \"      \u003ctd\u003e0.788036\u003c/td\u003e\\n\",","              \"    \u003c/tr\u003e\\n\",","              \"    \u003ctr\u003e\\n\",","              \"      \u003cth\u003e2_lstm\u003c/th\u003e\\n\",","              \"      \u003ctd\u003e78.215223\u003c/td\u003e\\n\",","              \"      \u003ctd\u003e0.784069\u003c/td\u003e\\n\",","              \"      \u003ctd\u003e0.782152\u003c/td\u003e\\n\",","              \"      \u003ctd\u003e0.780177\u003c/td\u003e\\n\",","              \"    \u003c/tr\u003e\\n\",","              \"    \u003ctr\u003e\\n\",","              \"      \u003cth\u003e3_gru\u003c/th\u003e\\n\",","              \"      \u003ctd\u003e76.246719\u003c/td\u003e\\n\",","              \"      \u003ctd\u003e0.770150\u003c/td\u003e\\n\",","              \"      \u003ctd\u003e0.762467\u003c/td\u003e\\n\",","              \"      \u003ctd\u003e0.757605\u003c/td\u003e\\n\",","              \"    \u003c/tr\u003e\\n\",","              \"    \u003ctr\u003e\\n\",","              \"      \u003cth\u003e4_bidirectional\u003c/th\u003e\\n\",","              \"      \u003ctd\u003e77.165354\u003c/td\u003e\\n\",","              \"      \u003ctd\u003e0.774786\u003c/td\u003e\\n\",","              \"      \u003ctd\u003e0.771654\u003c/td\u003e\\n\",","              \"      \u003ctd\u003e0.768896\u003c/td\u003e\\n\",","              \"    \u003c/tr\u003e\\n\",","              \"    \u003ctr\u003e\\n\",","              \"      \u003cth\u003e5_conv1d\u003c/th\u003e\\n\",","              \"      \u003ctd\u003e76.509186\u003c/td\u003e\\n\",","              \"      \u003ctd\u003e0.767222\u003c/td\u003e\\n\",","              \"      \u003ctd\u003e0.765092\u003c/td\u003e\\n\",","              \"      \u003ctd\u003e0.762620\u003c/td\u003e\\n\",","              \"    \u003c/tr\u003e\\n\",","              \"    \u003ctr\u003e\\n\",","              \"      \u003cth\u003e6_tf_hub_use_encoder\u003c/th\u003e\\n\",","              \"      \u003ctd\u003e81.496063\u003c/td\u003e\\n\",","              \"      \u003ctd\u003e0.817255\u003c/td\u003e\\n\",","              \"      \u003ctd\u003e0.814961\u003c/td\u003e\\n\",","              \"      \u003ctd\u003e0.813436\u003c/td\u003e\\n\",","              \"    \u003c/tr\u003e\\n\",","              \"    \u003ctr\u003e\\n\",","              \"      \u003cth\u003e7_tf_hub_use_encoder_10_percent\u003c/th\u003e\\n\",","              \"      \u003ctd\u003e77.690289\u003c/td\u003e\\n\",","              \"      \u003ctd\u003e0.776980\u003c/td\u003e\\n\",","              \"      \u003ctd\u003e0.776903\u003c/td\u003e\\n\",","              \"      \u003ctd\u003e0.775876\u003c/td\u003e\\n\",","              \"    \u003c/tr\u003e\\n\",","              \"  \u003c/tbody\u003e\\n\",","              \"\u003c/table\u003e\\n\",","              \"\u003c/div\u003e\"","            ],","            \"text/plain\": [","              \"                                  accuracy  precision    recall        f1\\n\",","              \"0_baseline                       79.265092   0.811139  0.792651  0.786219\\n\",","              \"1_simple_dense                   79.133858   0.797601  0.791339  0.788036\\n\",","              \"2_lstm                           78.215223   0.784069  0.782152  0.780177\\n\",","              \"3_gru                            76.246719   0.770150  0.762467  0.757605\\n\",","              \"4_bidirectional                  77.165354   0.774786  0.771654  0.768896\\n\",","              \"5_conv1d                         76.509186   0.767222  0.765092  0.762620\\n\",","              \"6_tf_hub_use_encoder             81.496063   0.817255  0.814961  0.813436\\n\",","              \"7_tf_hub_use_encoder_10_percent  77.690289   0.776980  0.776903  0.775876\"","            ]","          },","          \"metadata\": {","            \"tags\": []","          },","          \"execution_count\": 93","        }","      ]","    },","    {","      \"cell_type\": \"code\",","      \"metadata\": {","        \"id\": \"ecgLCp4IVkOX\"","      },","      \"source\": [","        \"# Reduce the accuracy to the same scale as other metrics\\n\",","        \"all_model_results[\\\"accuracy\\\"] = all_model_results[\\\"accuracy\\\"]/100\\n\",","        \"# all_model_results\"","      ],","      \"execution_count\": null,","      \"outputs\": []","    },","    {","      \"cell_type\": \"code\",","      \"metadata\": {","        \"colab\": {","          \"base_uri\": \"https://localhost:8080/\",","          \"height\": 590","        },","        \"id\": \"LprTMBfQWckZ\",","        \"outputId\": \"8c8636f4-7731-4695-d966-973deb9a1872\"","      },","      \"source\": [","        \"# Plot and compare all of the model results\\n\",","        \"all_model_results.plot(kind=\\\"bar\\\", figsize=(10, 7)).legend(bbox_to_anchor=(1.0, 1.0));\"","      ],","      \"execution_count\": null,","      \"outputs\": [","        {","          \"output_type\": \"display_data\",","          \"data\": {","            \"image/png\": \"iVBORw0KGgoAAAANSUhEUgAAAqkAAAI9CAYAAAAZ0eGSAAAABHNCSVQICAgIfAhkiAAAAAlwSFlzAAALEgAACxIB0t1+/AAAADh0RVh0U29mdHdhcmUAbWF0cGxvdGxpYiB2ZXJzaW9uMy4yLjIsIGh0dHA6Ly9tYXRwbG90bGliLm9yZy+WH4yJAAAgAElEQVR4nOzde5yWdZ3/8fd7OIjIQcWRUEBQERgVRZHMQ5aH0lXR0k1M09qKtQ017US1alFmmmnRuruYmeZhzcwUj2il8Cs1wQPKQRSREBQdFUFFgoHP74/rGrkZBmbQYa7vcL2ej8c8uK/D3POZ+8HMvO/v0REhAAAAICVVRRcAAAAANERIBQAAQHIIqQAAAEgOIRUAAADJIaQCAAAgOe2L+sLbbbdd9OvXr6gvDwAA0GyPPfbYaxFRXXQdZVJYSO3Xr5+mTp1a1JcHAABoNtv/KLqGsqG7HwAAAMkhpAIAACA5hFQAAAAkp7AxqQAAAG3ZY489tn379u2vkrSHaPjbWKslTa+rq/vSvvvu+2pjNxBSAQAA3of27dtf9aEPfWhwdXX14qqqqii6nrZk9erVrq2trVm0aNFVkkY0dg+pHwAA4P3Zo7q6eikBdeNVVVVFdXX1EmWt0I3f04r1AAAAbE6qCKjvX/7arTeLElIBAACQHMakAgAAtIB+Y+7atyWfb95Pjn6sJZ+vraElFQAAABu0cuXKVv+ahFQAAIA27PDDD99l9913H7zrrrvufumll24nSbfccku3mpqawQMHDqz5yEc+spskLVmypOrEE0/st9tuu9XstttuNddcc83WktS5c+eh9c/1m9/8ZpsTTjihnySdcMIJ/T772c/2HTJkyKCvfOUrvR944IHOe++996DBgwfXDB06dNC0adO2kKS6ujqNGjWq94ABA3bfbbfdai688MLtJ0yY0PXwww/fpf55//jHP3Y74ogjdtFGoLsfAACgDbvhhhvm9ezZc9Xbb7/toUOH1px00klvjh49ut+DDz74zKBBg1a88sor7SRpzJgxvbp167bq2WefnSlJtbW17Zp67pdffrnj448//kz79u31xhtvVE2ZMuWZDh066Lbbbuv6rW99q/fEiROf/9nPflY9f/78jjNnzpzRoUMHvfLKK+2qq6tXnX322X1feuml9jvssEPd1Vdf3eMLX/jCaxvzfRFSAQAA2rCLL76451133bW1JC1atKjDuHHjqocPH/7WoEGDVkhSz549V0nS5MmTu910001z6z+vurp6VVPP/elPf3px+/ZZXHzjjTfanXTSSf3nzZvXyXasXLnSkvSXv/yl2xlnnFHboUMHVX69z3zmM6//6le/2varX/3q648//niXW2+99YWN+b4IqQAAAG3UnXfe2XXSpEldp06d+kzXrl1XDx8+fODQoUOXzZ49u1Nzn8P2e4/fffddV17r0qXL6vrH3/72t3c85JBD3rr//vufnz17dsdDDz104Iae9ytf+crrRx999K6dOnWKY489dnF9iG0uxqQCAAC0UW+++Wa77t27r+ratevqJ554otO0adO2Wr58edWjjz7a9ZlnnukoSfXd/YcccsjSyy+/fPv6z63v7u/Ro8fKxx9/vNOqVat0++23b7O+r7V06dJ2vXv3XiFJ48eP367+/GGHHbZ0/Pjx29VPrqr/ev369VvZs2fPlT/72c96jRo1aqO6+iVaUgEAAFpEEUtGnXDCCUuuvPLK6p133nn3nXfeeflee+31zvbbb183bty4eZ/61Kd2Xb16tXr06LHyoYceeu6iiy56+Qtf+ELfAQMG7F5VVRXf/e53Xzr99NPf/MEPfrDwuOOO23Xbbbet22uvvZa98847jTZifvvb3170pS99qf/FF1+8wxFHHPFm/flzzjmn9tlnn91i0KBBu7dv3z5OP/302u9+97u1kjRy5MjXr7jiivb77LPP8o393hxRzEYJw4YNi6lTpxbytQEAaFXf797E9SWtUwfeN9uPRcSwynPTpk2bt9dee210C2GZnHbaaX2HDh267Jxzzmn0dZo2bdp2e+21V7/GrtGSCgDAB9BvzF1N3jOvidGBe167Z5PP8fTpTze3JCAJu+++++Att9xy9fjx4198P59PSAUAoA2YNWhwk/cMfmZWK1QCNM+MGTM+0H/IzT+kNtXFItHNAgAAkBhm9wMAACA5zQqpto+0Pdv2HNtjGrne1/YDtp+w/ZTtf2n5UgEAAFAWTYZU2+0kXSHpKEk1kk62XdPgtv+UdHNEDJU0UtJ/t3ShAAAAKI/mjEkdLmlORMyVJNs3STpO0syKe0JSt/xxd0kvtWSRAAAAyft+931b9vmWtPq6q5I0efLkzldffXWPa665ptFZ+fPmzetwxhln9Ln33nvnNna9pTQnpO4oqbLIBZI+3OCe70u6z/aZkraSdHhjT2R7lKRRktS3b9+NrRUAAAAbqa6uTu3bN3+u/Ec/+tFlH/3oR5et73q/fv1WbuqAKrXcxKmTJV0TEb0l/Yuk62yv89wRcWVEDIuIYdXV1S30pfG+fL970x8AACBps2fP7ti/f//dR4wY0X/nnXfe/cgjj9z5rbfeqtpxxx33/MpXvrJjTU3N4KuvvnqbW2+9tdvee+89qKamZvBRRx2185IlS6okadKkSZ2HDh06aODAgTV77rnn4MWLF1fdeeedXT/+8Y/vKkl33XVXl0GDBtUMGjSoZvDgwTWLFy+umj17dscBAwbsLknLli3ziSee2G+33XarGTx4cM0dd9zRVZLGjRvX4xOf+MQuBx988ICddtppjzPOOKP3xn5vzQmpCyX1qTjunZ+r9EVJN0tSRDwsqZOk7QQAAIBNat68eZ1Gjx796ty5c2d07dp19U9/+tNqSerRo0fdzJkzZx177LFv/fjHP+41efLkZ2fOnDlrn332WfbDH/6w5/Lly33KKafs8vOf/3z+7NmzZ06aNGl2ly5dVlc+989+9rMPjRs37h/PPPPMzEceeeSZhtcvvvji7W3r2WefnXnjjTfOHTVqVL9ly5ZZkmbOnNn5tttumztr1qwZEyZM2GbOnDkdNub7ak7b7xRJA2z3VxZOR0r6bIN75ks6TNI1tgcrC6m1G1PI+9XUTh9N7fIhsdMHAABouz70oQ+t+MQnPvGOJH3uc597fdy4cdtL0mmnnbZYkh588MGtnn/++U7Dhw8fJEkrV670vvvu+/ZTTz3Vafvtt195yCGHLJOkbbfddnXD595///3f/sY3vtHnM5/5zBsnn3zy4l122WWtex566KEuZ5555quSNHTo0OU77LDDiqeffrqTJB100EFLe/TosUqSdt111+XPP//8FrvuuuvK5n5fTYbUiKizPVrSREntJF0dETNsj5U0NSImSPq6pF/ZPkfZJKrPR0Q0twi0rJbYok9qOrwT3AEAKJ7tRo+7du26WpIiQgcddNDSO+6444XK+x599NEtm3ruH//4x4uOP/74Jbfffnv3gw8+eNBdd931XOfOndcJs43p2LHje1mwXbt2sXLlSm/o/oaaNSY1Iu6OiN0iYpeIuDA/d34eUBURMyPiwIjYKyL2joj7NqYItE2zBg1u8gMAAGxaL7/8csc//elPW0nSDTfcsO0BBxzwduX1j33sY+9MnTq1y/Tp07eQpKVLl1Y99dRTWwwZMmT5q6++2mHSpEmdJWnx4sVVK1eu3dA5Y8aMLYYPH/7uhRdeuGjIkCHvTJ8+fa1mrgMPPPDt66+/fltJeuqpp7Z4+eWXOw4ZMmR5S3xfm/+2qC2kqcDFfskAAJRcQUtG9evXb/kvf/nL7UeNGtV5wIABy7/xjW/UXnXVVdvXX99hhx3qxo8fP2/kyJE7r1ixwpJ0wQUXLBwyZMg/b7jhhufPOuusvsuXL6/q1KnT6smTJz9b+dyXXHLJ9g899FA32zFw4MB3TzzxxCXz589/b2zpt771rVdPO+20nXbbbbeadu3aafz48fO23HLLFulNJ6QClZpa1eD7S1qnDgAAmql9+/a6/fbb1+rKX7hw4Vpj8kaMGPHWiBEj1mlRO+SQQ5ZNmzbtmcpzxxxzzFvHHHPMW5J07bXXrrNW6sCBA1c899xzMySpc+fOccstt8xreM9ZZ531uqTX648feOCBORv3XRFSUSItMVaXSXYAALQOQirQwpozFpfhIQCAllDZqrm5IaQCAIAW1/QSkQ1Xs1zXnv2b3p2S3qvNFyEVAN6P5uzKxhhmYJOj92rz1VLbogIAAAAthpZUABtW0hZDdrMDgGIRUgGgQKzBDGw+9rx2z31b8vmePv3pQtZdHTduXI+pU6du9dvf/nb+ueeeu0OXLl1WjR079pXWroOQCgBoOSVteQdSsHr1akWE2rVrV3QpLYKQCgBolpZYa1hqehgEQyCA5ps9e3bHT37yk7sNHTr07aeffnqr44477o2JEyduvWLFCh999NFvXn755S9J0n/913/1GDduXE/bGjx48Lu33XbbCzfeeGP3n/zkJ71WrlxZtc0229T97ne/m9unT5+6or+neoRUoOQYe4nUMFsb2Djz58/f4te//vULS5YseeP3v//9Nk899dSsiNDhhx++6z333NOlurq67tJLL+318MMPP9OrV6+6V155pZ0kHXHEEW+PHDnymaqqKl122WXbjR079kO/+tWvFhT9/dQjpAIAALRhvXr1WnHYYYe9M2rUqN6TJ0/uVlNTUyNJy5Ytq3rmmWc6Pf7441XHHnvs4l69etVJUs+ePVdJ0gsvvNDx+OOP711bW9thxYoVVX369Plnkd9HQ4RUAK2C1jEA2DQ6d+68WpIiQl/72tde/uY3v/la5fULL7xw+8Y+b/To0X3PPvvsRaeccsqSO++8s+vYsWN3aI16m4t1UgEAADYDRx111NLrrrtuuyVLllRJ0gsvvNBh4cKF7T/5yU8uveOOO7ZZtGhRO0mq7+5/66232vXt23elJF1zzTU9iqu8cbSkAgAAtICiloyq9+lPf3rpjBkzOu23336DpKyF9YYbbnhh2LBhy7/+9a+/fPDBBw+qqqqKPfbYY9kf/vCHed/73vdeOvnkk3fp3r173UEHHfTW/Pnztyiy/oYIqQAAAG3UwIEDVzz33HMz6o/PO++8V88777xXG9535plnvn7mmWe+Xnnu1FNPffPUU099s+G9Z5111uuSXpekyy677KVNUHaz0N0PAACA5BBSAQAAkBxCKgAAAJJDSAUAAEByCKkAAABIDiEVAAAAyWEJKgAAgBYwa9DgfVvy+QY/M6vJdVd/9KMfbX/11VdXDxgwYPkrr7zSYebMmZ3HjBmzcOzYsa+0ZC1FIKQCAAC0Ub/+9a+r//SnPz3bqVOnmDNnTsdbbrllm6Jrail09wMAALRBn/3sZ/suWLBgi6OOOmrAVVddte0hhxyyrEOHDlF0XS2FllQAAIA26MYbb5w/adKk7pMmTXq2V69edUXX09JoSQUAAEByCKkAAABIDiEVAAAAyWFMKgAAQAtozpJRm8r8+fPb77fffjXvvPNOO9sxfvz4nrNmzZq+7bbbri6qpg+KkAoAANBGLVy48On6x6+88spTRdbS0ujuBwAAQHIIqQAAAEgOIRUAAOD9Wb169WoXXURblb926x0z26yQavtI27Ntz7E9ppHrl9t+Mv941vabH6BmAACAtmB6bW1td4Lqxlu9erVra2u7S5q+vnuanDhlu52kKyQdIWmBpCm2J0TEzPp7IuKcivvPlDT0gxQOAACQurq6ui8tWrToqkWLFu0heqc31mpJ0+vq6r60vhuaM7t/uKQ5ETFXkmzfJOk4STPXc//Jki7YyEIBAADalH333fdVSSOKrmNz1ZzUv6OkFyuOF+Tn1mF7J0n9Jf1lPddH2Z5qe2ptbe3G1goAAICSaOmm6ZGSbomIVY1djIgrI2JYRAyrrq5u4S8NAACAzUVzQupCSX0qjnvn5xozUtL/fdCiAAAAUG7NCalTJA2w3d92R2VBdELDm2wPkrSNpIdbtkQAAACUTZMhNSLqJI2WNFHSLEk3R8QM22NtVw4WHinppoiITVMqAAAAyqI5s/sVEXdLurvBufMbHH+/5coCAABAmbGmFwAAAJJDSAUAAEByCKkAAABIDiEVAAAAySGkAgAAIDmEVAAAACSHkAoAAIDkEFIBAACQHEIqAAAAkkNIBQAAQHIIqQAAAEgOIRUAAADJIaQCAAAgOYRUAAAAJIeQCgAAgOQQUgEAAJAcQioAAACSQ0gFAABAcgipAAAASA4hFQAAAMkhpAIAACA5hFQAAAAkh5AKAACA5BBSAQAAkBxCKgAAAJJDSAUAAEByCKkAAABIDiEVAAAAySGkAgAAIDmEVAAAACSHkAoAAIDkEFIBAACQHEIqAAAAkkNIBQAAQHIIqQAAAEgOIRUAAADJaVZItX2k7dm259ges557PmN7pu0Ztm9s2TIBAABQJu2busF2O0lXSDpC0gJJU2xPiIiZFfcMkPQdSQdGxGLb22+qggEAALD5a05L6nBJcyJibkSskHSTpOMa3PNlSVdExGJJiohXW7ZMAAAAlElzQuqOkl6sOF6Qn6u0m6TdbP/N9iO2j2zsiWyPsj3V9tTa2tr3VzEAAAA2ey01caq9pAGSPibpZEm/sr11w5si4sqIGBYRw6qrq1voSwMAAGBz05yQulBSn4rj3vm5SgskTYiIlRHxgqRnlYVWAAAAYKM1J6ROkTTAdn/bHSWNlDShwT23KWtFle3tlHX/z23BOgEAAFAiTYbUiKiTNFrSREmzJN0cETNsj7U9Ir9toqTXbc+U9ICkb0bE65uqaAAAAGzemlyCSpIi4m5Jdzc4d37F45B0bv4BAAAAfCDsOAUAAIDkEFIBAACQHEIqAAAAkkNIBQAAQHIIqQAAAEgOIRUAAADJIaQCAAAgOYRUAAAAJIeQCgAAgOQQUgEAAJAcQioAAACSQ0gFAABAcgipAAAASA4hFQAAAMkhpAIAACA5hFQAAAAkh5AKAACA5BBSAQAAkBxCKgAAAJJDSAUAAEByCKkAAABIDiEVAAAAySGkAgAAIDmEVAAAACSHkAoAAIDkEFIBAACQHEIqAAAAkkNIBQAAQHIIqQAAAEgOIRUAAADJIaQCAAAgOYRUAAAAJIeQCgAAgOQQUgEAAJAcQioAAACS06yQavtI27Ntz7E9ppHrn7dda/vJ/ONLLV8qAAAAyqJ9UzfYbifpCklHSFogaYrtCRExs8Gtv4uI0ZugRgAAAJRMc1pSh0uaExFzI2KFpJskHbdpywIAAECZNSek7ijpxYrjBfm5hk6w/ZTtW2z3aeyJbI+yPdX21Nra2vdRLgAAAMqgpSZO3SGpX0QMkXS/pGsbuykiroyIYRExrLq6uoW+NAAAADY3zQmpCyVVtoz2zs+9JyJej4h/5odXSdq3ZcoDAABAGTUnpE6RNMB2f9sdJY2UNKHyBtu9Kg5HSJrVciUCAACgbJqc3R8RdbZHS5ooqZ2kqyNihu2xkqZGxARJZ9keIalO0huSPr8JawYAAMBmrsmQKkkRcbekuxucO7/i8XckfadlSwMAAEBZseMUAAAAkkNIBQAAQHIIqQAAAEgOIRUAAADJIaQCAAAgOYRUAAAAJIeQCgAAgOQQUgEAAJAcQioAAACSQ0gFAABAcgipAAAASA4hFQAAAMkhpAIAACA5hFQAAAAkh5AKAACA5BBSAQAAkBxCKgAAAJJDSAUAAEByCKkAAABIDiEVAAAAySGkAgAAIDmEVAAAACSHkAoAAIDkEFIBAACQHEIqAAAAkkNIBQAAQHIIqQAAAEgOIRUAAADJIaQCAAAgOYRUAAAAJIeQCgAAgOQQUgEAAJAcQioAAACSQ0gFAABAcgipAAAASE6zQqrtI23Ptj3H9pgN3HeC7bA9rOVKBAAAQNk0GVJtt5N0haSjJNVIOtl2TSP3dZV0tqS/t3SRAAAAKJfmtKQOlzQnIuZGxApJN0k6rpH7fijpYknLW7A+AAAAlFBzQuqOkl6sOF6Qn3uP7X0k9YmIuzb0RLZH2Z5qe2ptbe1GFwsAAIBy+MATp2xXSbpM0tebujciroyIYRExrLq6+oN+aQAAAGymmhNSF0rqU3HcOz9Xr6ukPSQ9aHuepP0lTWDyFAAAAN6v5oTUKZIG2O5vu6OkkZIm1F+MiCURsV1E9IuIfpIekTQiIqZukooBAACw2WsypEZEnaTRkiZKmiXp5oiYYXus7RGbukAAAACUT/vm3BQRd0u6u8G589dz78c+eFkAAAAoM3acAgAAQHIIqQAAAEgOIRUAAADJIaQCAAAgOYRUAAAAJIeQCgAAgOQQUgEAAJAcQioAAACSQ0gFAABAcgipAAAASA4hFQAAAMkhpAIAACA5hFQAAAAkh5AKAACA5BBSAQAAkBxCKgAAAJJDSAUAAEByCKkAAABIDiEVAAAAySGkAgAAIDmEVAAAACSHkAoAAIDkEFIBAACQHEIqAAAAkkNIBQAAQHIIqQAAAEgOIRUAAADJIaQCAAAgOYRUAAAAJIeQCgAAgOQQUgEAAJAcQioAAACSQ0gFAABAcgipAAAASA4hFQAAAMkhpAIAACA5zQqpto+0Pdv2HNtjGrl+hu2nbT9p+6+2a1q+VAAAAJRFkyHVdjtJV0g6SlKNpJMbCaE3RsSeEbG3pEskXdbilQIAAKA0mtOSOlzSnIiYGxErJN0k6bjKGyJiacXhVpKi5UoEAABA2bRvxj07Snqx4niBpA83vMn2VyWdK6mjpEMbeyLboySNkqS+fftubK0AAAAoiRabOBURV0TELpK+Lek/13PPlRExLCKGVVdXt9SXBgAAwGamOSF1oaQ+Fce983Prc5Ok4z9IUQAAACi35oTUKZIG2O5vu6OkkZImVN5ge0DF4dGSnmu5EgEAAFA2TY5JjYg626MlTZTUTtLVETHD9lhJUyNigqTRtg+XtFLSYkmnb8qiAQAAsHlrzsQpRcTdku5ucO78isdnt3BdAAAAKDF2nAIAAEByCKkAAABIDiEVAAAAySGkAgAAIDmEVAAAACSHkAoAAIDkEFIBAACQHEIqAAAAkkNIBQAAQHIIqQAAAEgOIRUAAADJIaQCAAAgOYRUAAAAJIeQCgAAgOQQUgEAAJAcQioAAACSQ0gFAABAcgipAAAASA4hFQAAAMkhpAIAACA5hFQAAAAkh5AKAACA5BBSAQAAkBxCKgAAAJJDSAUAAEByCKkAAABIDiEVAAAAySGkAgAAIDmEVAAAACSHkAoAAIDkEFIBAACQHEIqAAAAkkNIBQAAQHIIqQAAAEgOIRUAAADJaVZItX2k7dm259ge08j1c23PtP2U7T/b3qnlSwUAAEBZNBlSbbeTdIWkoyTVSDrZdk2D256QNCwihki6RdIlLV0oAAAAyqM5LanDJc2JiLkRsULSTZKOq7whIh6IiGX54SOSerdsmQAAACiT5oTUHSW9WHG8ID+3Pl+UdE9jF2yPsj3V9tTa2trmVwkAAIBSadGJU7ZPlTRM0k8bux4RV0bEsIgYVl1d3ZJfGgAAAJuR9s24Z6GkPhXHvfNza7F9uKTvSTokIv7ZMuUBAACgjJrTkjpF0gDb/W13lDRS0oTKG2wPlTRe0oiIeLXlywQAAECZNBlSI6JO0mhJEyXNknRzRMywPdb2iPy2n0rqIun3tp+0PWE9TwcAAAA0qTnd/YqIuyXd3eDc+RWPD2/hugAAAFBi7DgFAACA5BBSAQAAkBxCKgAAAJJDSAUAAEByCKkAAABIDiEVAAAAySGkAgAAIDmEVAAAACSHkAoAAIDkEFIBAACQHEIqAAAAkkNIBQAAQHIIqQAAAEgOIRUAAADJIaQCAAAgOYRUAAAAJIeQCgAAgOQQUgEAAJAcQioAAACSQ0gFAABAcgipAAAASA4hFQAAAMkhpAIAACA5hFQAAAAkh5AKAACA5BBSAQAAkBxCKgAAAJJDSAUAAEByCKkAAABIDiEVAAAAySGkAgAAIDmEVAAAACSHkAoAAIDkEFIBAACQHEIqAAAAktOskGr7SNuzbc+xPaaR6x+1/bjtOtsntnyZAAAAKJMmQ6rtdpKukHSUpBpJJ9uuaXDbfEmfl3RjSxcIAACA8mnfjHuGS5oTEXMlyfZNko6TNLP+hoiYl19bvQlqBAAAQMk0p7t/R0kvVhwvyM9tNNujbE+1PbW2tvb9PAUAAABKoFUnTkXElRExLCKGVVdXt+aXBgAAQBvSnJC6UFKfiuPe+TkAAABgk2hOSJ0iaYDt/rY7ShopacKmLQsAAABl1mRIjYg6SaMlTZQ0S9LNETHD9ljbIyTJ9n62F0j6V0njbc/YlEUDAABg89ac2f2KiLsl3d3g3PkVj6coGwYAAAAAfGDsOAUAAIDkEFIBAACQHEIqAAAAkkNIBQAAQHIIqQAAAEgOIRUAAADJIaQCAAAgOYRUAAAAJIeQCgAAgOQQUgEAAJAcQioAAACSQ0gFAABAcgipAAAASA4hFQAAAMkhpAIAACA5hFQAAAAkh5AKAACA5BBSAQAAkBxCKgAAAJJDSAUAAEByCKkAAABIDiEVAAAAySGkAgAAIDmEVAAAACSHkAoAAIDkEFIBAACQHEIqAAAAkkNIBQAAQHIIqQAAAEgOIRUAAADJIaQCAAAgOYRUAAAAJIeQCgAAgOQQUgEAAJAcQioAAACSQ0gFAABAcpoVUm0faXu27Tm2xzRyfQvbv8uv/912v5YuFAAAAOXRZEi13U7SFZKOklQj6WTbNQ1u+6KkxRGxq6TLJV3c0oUCAACgPJrTkjpc0pyImBsRKyTdJOm4BvccJ+na/PEtkg6z7ZYrEwAAAGXiiNjwDfaJko6MiC/lx5+T9OGIGF1xz/T8ngX58fP5Pa81eK5RkkblhwMlzW6pb+QD2k7Sa03eVT68LuviNWkcr0vjeF0ax+uyLl6TxqX0uuwUEdVFF1Em7Vvzi0XElZKubM2v2Ry2p0bEsKLrSA2vy7p4TRrH69I4XpfG8bqsi9ekcbwu5dac7v6FkvpUHPfOzzV6j+32krpLer0lCgQAAED5NCekTpE0wHZ/2x0ljZQ0ocE9EySdnj8+UdJfoqKRXHwAACAASURBVKlxBAAAAMB6NNndHxF1tkdLmiipnaSrI2KG7bGSpkbEBEm/lnSd7TmS3lAWZNuS5IYgJILXZV28Jo3jdWkcr0vjeF3WxWvSOF6XEmty4hQAAADQ2thxCgAAAMkhpAIAACA5hFQAAAAkh5AKAEABbFfZPqDoOoBUlXbilO3Okr4uqW9EfNn2AEkDI+LOgktLgu3OEbGs6DpSYnsbZesBv7cqRkQ8XlxFxbL90cbOR8Tk1q4lBbY/vaHrEXFra9WCtsP2ExExtOg6UmL7uoj4XFPnsPlr1R2nEvMbSY9J+kh+vFDS7yWVOqTm7+qvktRFUl/be0n694j4j2IrK5btH0r6vKTnJdW/swtJhxZVUwK+WfG4k6Thyn6myvqaHLuBayGplCHV9lta8zOzjojo1orlpOjPtk+QdCvri79n98oD2+0k7VtQLShQmVtSp0bEsMp3sbanRcReRddWJNt/V7Yhw4SK12V6ROxRbGXFsj1b0p4RsaLoWlJlu4+kn0fECUXXgvTkb/RelnSdJEs6RVKviDi/0MIKlof4rSStkvSustcmyhjebX9H0nclbSmpvifPklZIujIivlNUbShGmVtSV9jeUvk7fNu7SPpnsSWlISJetF15alVRtSRkuqStJb1adCEJWyBpcNFFpMD20cpagzrVn4uIscVVlIQRDRoB/sf2NEmlDqkR0bXoGlIRERdJusj2RQRSSOUOqRdIuldSH9s3SDpQWXdu2b2Yd/mH7Q6SzpY0q+CaUnCRpCdsT1fFm5mIGFFcScWy/Uut6catkrS3pNKO0a1n+38ldZb0cWVDZ06U9GihRaXhHdunSLpJ2f+bkyW9U2xJxXPWInCKpP4R8cO8R6JXRJT2/0xEfMf2jpJ20tpzAEo53r3MStvdL0m2e0jaX1l3wiMR8VrBJRXO9naSfiHpcGWvy32Szo6I1wstrGC2Z0gaL+lpSavrz0fEpMKKKpjt0ysO6yTNi4i/FVVPKmw/FRFDKv7tIumeiDi46NqKZLufst8tByoLqX+T9LWImFdcVcWz/T/KfqccGhGD8wma90XEfgWXVhjbP1G2vfpMrenJizI3CpRVmVtSpawrbrGy16HGdunfqeVB/ZSi60jQsogYV3QRqcgnMnwiIvi/sq5383+X2d5B0uuSehVYTxLyMHpc0XUk6MMRsY/tJyQpIhbb7lh0UQX7lLLVdhiCV3KlDam2L5Z0kqQZWtMyFpJKHVJtXyLpR8r+0N4raYikcyLi+kILK97/s32RpAlau7u/lN3bEbHK9k62OzKZbB132t5a0k+VDX8IZd3+aMD2+YzV1cr8TV/9/IhqVfTWlNRcSR3EPJHSK213fz5bewjv1NZm+8mI2Nv2pyQdI+lcSZNZ9cAPNHI6IqKsyy3J9m+VTZSaoIqxhRFxWWFFJcb2FpI6RcSSomtJke35EdG36DqKlI/TPUnSPpKuVTaG+T8j4veFFlYg23+QtJekP2vtRoGzCisKhShtS6p4p7Y+9f8njpb0+4hY0mCmf1l9MSLmVp6wvXNRxSTi+fyjShIzlCvkkw/7Kf95yocS/bbQogpie+n6LilbaqjUIuIG249JOkzZa3J8RJR9suqE/AMlV+aWVN6pNSIfsH68su7+4cqWXbozIj5caGEFs/14ROzT4NxjEcEC01iL7esk7SLpSa096aOUv1tsz5e0X0S80si1FyOiTwFlFc72thu6HhFvtFYtKcqXiOwbEbOLrgXFKXNLKu/UGhERY/JxqUvycYfvqMSTHWwPUrbeZfcG2152U8UamGVk+w6tu5PQEklTJY2PiOWtX1UShkmqYfeg9/xW2VJC64RUSTe2ci0peUzZz48l9VU2idfKGgbmS+pfXGnFsn2spEsldZTU3/beksYyu798StuSivVr2FUpqcxdlccpa1keobXf1Lwl6aaIeKiQwhJg+xeSqiX9X37qJElLlf3h7VbWfbZt/17SWRHxctG1IH22fyXpjxFxd358lLIu/38vtrLi5MMfDpX0IDsfllvpWlJt3xwRn7H9tBrZTzoihhRQVjLW11WprDWkdCLidkm32/5IRDxcdD2JOaDBWo532J4SEfvl68qW1XaSZtp+VGz88J685f3/JN0eEaVfxL/C/hHx5fqDiLgn780qs5WNzIco+4oHpVS6kKpsByUpm7mOddFV2bhP5cGLpbnW6GK7b0TMlyTbfSV1ya+VeVmq7xddQKIuVdbafpHtKcp2nrqzxMNC6r1k+z8l1f8uOUXSSwXWk4IZtj8rqZ3tAZLOklTaXqsyo7sfa6GrsnEszbUu2/8i6X+VzfC3sjF0/yHpQUlfjoifF1ddsWz3lFTfyvxoRLxaZD0pydcEPVTSlyUdGRHdCi6pUPkEqgskfTQ/NVnSD8o8ccp2Z0nfk/SJ/NREST/iDU35lC6k2n5La7r56/sS6gevB78w/YCyPdjpqqxge0ZE7G77Kkm3RMS9tqeVOaRK760DOig/nF35R8T2ERFxfzGVFcf2Z5Qt5P+gst8rB0v6ZkTcUmRdKchnbB+rNeuC3hkRZxZbVRpsd1X2N+jtomsBUlG6kIoNs31IY+fLvEe9xNJc70djy3aVge1pko6obz3NdxD6E29ofLOyn517Jf1O0qSIKP04Q9t7KhvzX78k1WuSTo+I6cVVVSzb90v614h4Mz/eRtlE1U8WWxlaWxnHpL7H9kGSBkTEb2xvJ6lrRLxQdF1FiohJtndS9rr8Ke92aVd0XUVjaa73pay7QFQ16N5/XdmGB2X3a0knR8SqJu8sl/GSzo2IByTJ9sckXSnpgCKLKth29QFVkiJise3tiywIxShtSLV9gbJJQgMl/UbZemzXSzqwyLqKZvvLkkYpe1e/i6QdlY07PKzIuorSYG3U+nOVh7e2XjVtTlm7ae61PVFrL811d4H1JCEiJto+wHY/sbxdpa3qA6okRcSDtrcqsqAErG4wKXMnlff3SamVNqRK+pSkoZIel6SIeCkfE1R2X1XWJfd3SYqI50r+DvbYDVwLEVLRQER80/YJWvOG98qI+GORNaWA5e3Wa67t8yRdlx+fqmzb7jL7rqS/2p6kNeO6RxVbEopQ5pC6IiLCdkgS71zf88+IWFHfWmi7vUr8DjYivtCc+2yfHhHXbup6UmF7uLJJHlNs10g6UtIz9QuS5+YVUlwCIuIPkv5QdB2JYXm7xv2bpB8oe8Mbkv5ffq6UbFdJ6q5sYt3++emvRcRrxVWFopR24pTtb0gaIOkISRcp+6VwY0T8stDCCpaPu3xT0mmSzlS2pNDMiPheoYUlrkyThPKhMkcpe5N7v6QPS3pA2c/SxIi4sMDyCmP7rxFxUIMVRCRWDpHE8nZoPttTI2JY0XWgeKUNqVK2RI6yddis7I9r6ZbLaSh/F/tFVbwukq6i9WPDbD9Rv33f5i7frW1vSVtIWiSpd0QszZcX+nvZd21D41jernHMZF9XvprKa8pWgXhvd7Iyrx1bVqXt7s+79/8SEffbHihpoO0OEbGy6NqKlC8J86v8A81XphBfl8/QXmb7+YhYKkkR8a5tlhSyr4uIzzV1roS+X3QBiWIm+7pOyv/9asW5kLRzAbWgQKUNqcp29Tg4f9d6r6Spyn4wTim0qoLkrWPrDVq0jjWpTMstrbDdOSKWSdq3/qTt7mJ/bUnavfIgH9e973ruLY18eTt24loXM9kbiIj+RdeANJQ5pDoiltn+oqT/iYhLbD9ZdFEFOib/t/6da+VM01L/wrQ9SNlSXH+v3A3G9pERcW9++LdCiivGRyPin9J7Le/1Okg6vZiSimf7O8pmJW9pe2n9aUkrlK17WWqN7MT1S9vsxJVt/8lM9gr5+tznSuobEaNsD5A0MCLuLLg0tLLSjkm1/YSySUGXS/piRMyw/XRE7FlwaYVqbGxlmSYFNWT7LGXBfZay8XRnR8Tt+bXSvi5YP9sXRcR3iq4jNezEtX75ZjL1M9kfKftMdtu/k/SYpNMiYo88tD4UEXsXXBpaWZl3QTlb0nck/TEPqDsrm6FcdrZ9YMXBASr3/5MvS9o3Io6X9DFJ59k+O79Wpi5+NN+j+dAHSZLtrW0fX2RBiWAnrvXbQtIbkpZKqrH90YLrKdouEXGJpJWSlA8t4vdtCZW2uz8iJisbl1p/PFfSWcVVlIwvSrq64o/smyrxmn3K/rC+LUkRMS/fsvCWfNwYvzTRmAsqF++PiDfzZbtuK7CmFDS2E9c9BdaTBNsXK3stZmjNmO5Qxd+nElqRrxZSv475LqpYEQLlUdqQmnc1fUvZJIdO9ecj4tDCikpARDwmaa/6kBoRSyqvl23Rekmv2N47Ip6UpIh42/Yxkq6WVOqhIVivxloHS/u7tl6+E9enJR2Un2InrszxysZbEsLWuEDZhOY+tm9Qtnvb5wutCIUo85jU+5StwfYNSWcom/BRGxHfLrSwxJVtHKbt3sqWXFrUyLUDI6JME6bQDLavVtYDcUV+6quSto2IzxdWVAJs95f0ckQsz4+3lNQzIuYVWljBbN+jbJ3Ut5u8uURs91A2TtdinG5plTmkPhYR+9p+qn55JdtTImK/pj63zMq0aD3wfuRrMJ8n6XBl3ZX3S7owIt7Z4Cdu5mxPlXRARKzIjztK+lvZf+fa/oOkvST9WWtvclDq4WcVre4h6a+0updTmbug6hftf9n20ZJekrRtgfW0FeV8VwM0Ux5Gx9jequzBtIH29QFVkiJiRR5Uy25C/oGc7f+WtKvWjF/+d9uHR8RXN/Bp2AyVOaT+KB93+XVJv5TUTdI5xZbUJjBZCNiAfEWMqyR1kdTX9l6S/j0i/qPYygpXa3tEREyQJNvHKdv6stQi4tp86EPfiJhddD2JOFTS4PrtuG1fq2xiGUqmtCG1YlHgJZI+XmQtbQxjMIENu1zSJ5W3jkXENJYUkpSN/b/B9n/lxwsklX2rWNk+VtKlkjpK6m97b0ljI2JEsZUVao6kvpL+kR/3yc+hZEq7Rp3tnW3fYfs126/avj1fK7XUbPe0/et8ML9s1+S7ckmSImJ0cdUBbUNEvNjg1KpCCklIRDwfEftLqpFUExEHRMTz9ddtl3W3su9LGq5ssp3ylUTK/reoq6RZth+0/YCkmZK62Z5gm6ERJVLallRJNyqbffup/HiksvEvHy6sojRcI+k3yrbqk6Rnla2C8OuiCgLamBfzLv+w3UHZxiGzCq4pGRuYxX62pDItb1dvZUQssdcaSbV6fTeXxPlFF4A0lDmkdo6I6yqOr7f9zcKqScd2EXFzvg+5IqLOdulbgYCNcIakX0jaUdJCSfcpW4YKG1bW8e4zbH9WUrt8j/qzJD1UcE2FiohJG7pu++GI+Ehr1YPilC6k2q6fwX+P7TGSblI2Y/0kSXcXVlg63snXp6sfsL6/snG7AJpgu52kX0TEKUXX0gaVdeWQM5X1XP1TWQ/fREk/KrSi9HVq+hZsDkq3TqrtF5T9MmzsXXtERKnHAtneR9lqB3tImi6pWtKJEfFUoYUBbYTtv0o6tHK5JTSNNZgbZ/uXEXFm0XWkpGybypRZ6VpSI6J/c+6zfURE3L+p60lNRDxu+xBJA5UF+dkRsbKJTwOwxlxJf8sneLy3TmpEXFZcSemwfZCyiULTI+K+ikusHNK4A4suAChK6ULqRrhY2U4xpZDv7tGY3WwrIm5t1YKAtuv5/KNK2SzlUrP9aEQMzx9/Wdn43D9KusD2PhHxE4mVQ7BRyjp+uXQIqetXth+CYzdwLSQRUoFmiIgfFF1DYjpUPB4l6YiIqLV9qaRHJP2kmLKQKts9lU08lKSFEfFKg1tKv75uWRBS169Ug3Uj4gtF1wC0ZbZ/HhFfs32HGvn9UeLF2atsb6OsZdkRUStl28fariu2tDahNA0m+UYG/yupu7KVMSSpt+03Jf1HRDwuSRExvaAS0coIqVhLPrP/AkkHKftD+1dlu5+8XmhhQPrql7S7tNAq0tNd0mPKwlbY7hURL9vuohIFsKbY7hwRyxq59ItWL6Y41yjbQvjvlSfzVWZ+I2mvIopCcUo3u1+SbA+SdJwquhMkTYiIWRX33BoR6xunudmyfb+kyZKuz0+dIuljEXF4cVUB2NzY7iypZ0S8UHQtRco3frhKUpeI6Gt7L2VB7T8KLq3V2X4uIgas59qciNi1tWtCsUoXUm1/W9LJytZHXZCf7q1sx6mb6gfxl5Xt6RGxR4NzT0fEnkXVBLQFtp/WBoYJRcSQViwHbYTtv0s6UVlDydD83Dq/h8vA9jhJu0j6raT6rYX7SDpN0gtMriufMnb3f1HS7g2XVbJ9maQZYhD/fbZHSro5Pz5R2eLSADbsmPzf+t2l6rv/T1XJxrhj40TEiw22RS3lLn8RcZbto7RuT+cVEcFmOyVUxpbUZyR9MiL+0eD8TpLui4iBxVSWBttvSdpKa/aOrtKatR4jIroVUhjQRjS2KD2Lj2N9bN8i6TJJ/yXpw5LOljQsIkYWWhiQgDK2pH5N0p9tP6c13Ql9Je0qqfRdCRFR+nUdgQ/Itg+MiL/lBwcoe7MHNOYMZZOjdlTWanif1rTGI2f7yogYVXQdaF2la0mVJNtVynY8qexOmBIRpexiacj2EEn9VPEmhsX8geaxva+kq5XNarekxZL+rX75HACNs73t+i5JmhYRvVuzHhSvlCEV62f7aklDlI3Pre/yj4j4t+KqAtoe290lKSKWFF0L0mX7Ekk/kvSupHuV/f49JyKu3+AnboZsr5L0D629NFnkxztGRMdCCkNhCKlYi+2ZEVFTdB1AW2P71Ii43va5jV2PiMtauyakz/aTEbG37U8pm3x3rqTJEVG6NUHzYXiHRcT8Rq69GBF9CigLBWKcFBp62DYhFdh4W+X/dl3PB9CY+mFVR0v6fclb3n8uaZv1XLukNQtBGmhJxVpsHyJpgqRFkv6pfJcY1ngEgJZn+yeSjlfW3T9c0taS7oyIDxdaWMJsHxER9xddBzY9QirWYnuOsu6mp7VmTKoaLtkFoHG2d1Y2W3t/ZePpHlY2xnBuoYUhWfmEoSURsSrfiatbRCwquq5UsaRbeZRxCSpsWG1ETCi6CKANu1HSFZI+lR+PlPR/ytbABNZi+7SKx5WXftv61bQZbvoWbA4IqWjoCds3SrpDWXe/JJagAjZC54i4ruL4etvfLKwapG6/isedJB0m6XERUjeELuCSIKSioS2VhdNPVJwLSYRUYAMq1ni8x/YYSTcp+9k5SRJbOqJREXFm5bHtrZX93wFKjzGpANACbL+gNWs6NhQRsXMrl4Q2yHYHSdPLukV3vtnO/hHx0AbuuTUiPt2KZaEghFRIkmx/KyIusf1LNdKVEhFnFVAWsNlhZjIq2b5Da37nVkmqkXRzRIwprqpi2X4iIoYWXQeKR3c/6s3K/51aaBXA5u9iSYRU1Lu04nGdpH9ExIKiiknEn22fIOnWoCWt1GhJxXrl3S5dImJp0bUAmwtaibAxbD8cER8puo7WZPstZZtjrFK2fmz9et3dCi0MrY4dp7AW2zfa7mZ7K0nTJc1kZjLQomgZwMboVHQBrS0iukZEVUR0iIhu+TEBtYQIqWioJm85PV7SPZL6S/pcsSUBQGmV7k2NM6faPi8/7mN7eNF1ofURUtFQh3x26fGSJkTESpXwlyTQEmw3ttblvNauA2hj/lvSRyR9Nj9+W9kGGSgZJk6hofHK/ohOkzTZ9k6SGJMKNMF2w53aLOnj+bqXiogR+b8snYONUcbdlT4cEfvYfkKSImKx7Y5FF4XWR0jFWiJinKRx9ce250v6eMXx6RFxbRG1AYnrLWmmpKu0Zr3UYZJ+VmRRSJ/tD0karuz/zZSIWFRxuYzDrVbabqe8F892taTVxZaEItDdjw2KTF3FqbMLKwZI2zBJj0n6nqQlEfGgpHcjYlJETCq0MiTL9pckPSrp05JOlPSI7X+rvx4R04uqrUDjJP1R0va2L5T0V0k/LrYkFIElqLBRWD4H2DDbvSVdLukVSSMiom/BJSFhtmdLOiAiXs+Pe0h6qKw7TtWzPUjSYcp6JP4cEbOa+BRshujux8biXQ2wAflC7P9q+2gxnhtNe13SWxXHb+XnSsf2thWHr0r6v8prEfFG61eFIhFSsbHKOIgf2GgRcZeku4quA2myfW7+cI6kv9u+XVkjwHGSniqssGI9pjXjuftKWpw/3lrSfGVLIqJEGJOKJtn+QsXh3worBAA2H13zj+cl3aY1vVS3S3qhqKKKFBH9I2JnSX+SdGxEbBcRPSQdI+m+YqtDERiTiibZns+4OgBAa7D9dETs2dQ5bP7o7ockyfb6upcsqWdr1gIAZWH7ATUy1j8iDi2gnFS8ZPs/JV2fH58i6aUC60FBCKmo11PSJ5WNAapkSQ+1fjkAUArfqHjcSdIJkurWc29ZnCzpAmXLUEnS5PwcSoaQinp3SuoSEU82vGD7wdYvBwA2fxHxWINTf7P9aCHFJCKfxX+27a7ZYbxddE0oBmNSAQAoSINll6ok7StpXJnXSbW9p6TfSqp/bV6TdHpJNzYoNVpSAQAoTuWyS3XKZvZ/sdCKijde0rkR8YAk2f6YpCslHVBkUWh9hFQAAAoSEaz9ua6t6gOqJEXEg7a3KrIgFIOQCgBAgWwfIKmfKv4mR8RvCyuoeHNtnyfpuvz4VElzC6wHBWFMKgAABbF9naRdJD0paVV+OiLirOKqKpbtbST9QNJByoZC/D9JP4iIhqvPYDNHSAUAoCC2Z0mqCf4YA+tgW1QAAIozXdKHii4iJbbvt711xfE2ticWWROKwZhUAABame07lHVld5U0M18b9Z/11yNiRFG1JWC7iHiz/iAiFtvevsiCUAxCKgAAre/SogtI2GrbfSNiviTZ3kmNbB2LzR8hFQCAVhYRk5pzn+2HI+Ijm7qexHxP0l9tT1K2fuzBkkYVWxKKwMQpAAASZfuJiBhadB2tzfZ2kvbPDx+JiNeKrAfFoCUVAIB0lbUlaQtJbyjLKTW2FRGTC64JrYyQCgAAkmH7YkknSZoh6f+3dzehmtZ1GMe/18Q4L+CMWMKAFtmLggQ1aoYTEZRoUVMxukkzzVoYTApRG9sUtTFyIUnLSlsUiQM6LSyQWqSTSuMY06iRVowLw2Yxiubgy6/FeY5zPM3obM79+595vh84nPu57/vAxWzm4v/2vDa7XYAldc5YUiVJmliSdVV15K3fJCseZjxfAM49wX8fncQ8J1WSpOntgde/cerNXD1BltE8BaztDqF+jqRKkjS9U5JcCWxLsmP5w6raNfu9f/Jk/V4E9iW5jzeeHTu3XxU7ryypkiRN73rgKuA0YPuyZwXsmjzROO6Z/WjOeQSVJElNkuysqtuW3TvR9aonrSQbgHdV1RPdWdTHNamSJPW57hj39kyeYiBJtgP7gHtnnz+UxJHVOeR0vyRJE0uyBTgT2JBkK0d38W8CNrYFG8N3gYuAPwBU1b4k7+kMpB6WVEmSpncZcC1wFnALR0vqc8BNTZlG8XJVHU7ecPrWa8d7WScvS6okSROrqtuB25NcXlV3He+9JNfM3p0nf52dfPC2JO8HbgAeaM6kBm6ckiRpUEn2VtX53TmmlGQj8B3g0tmt3wI/qKqX+lKpgyVVkqRBJXmkqrZ25xhJkh9X1Te6c2jlubtfkqRxOZL0/z7aHUDTsKRKkjSuvPUr0snJkipJ0sSSfCTJptn1hiTfS7I7yc1JNi959f6miFI7S6okSdP7KQvfUQ9wK7AZuHl272eLL1XVzumjDc/R5TnhEVSSJE1vTVW9Mru+cMkO/j8m2dcVaiRJNlbVi8d4dOvkYdTCkVRJkqa3P8lXZtePJrkQIMk5wMt9sfol2ZbkAPD47PMHk/xk8XlV/bwrm6blEVSSJE1stu70VuBjwH+A84GDs58bqurRxnitkjwIXAHcs3j8VpL9VfWB3mSamtP9kiRNrKoOA9fONk+dzcL/x09X1b97k42hqg4u+1rUV7uyqI8lVZKkJlX1HDC3o6bHcTDJNqCSrAVuBB5rzqQGTvdLkqRhJHkHC0shLmFhJ//vgBur6lBrME3OkipJkqThuLtfkiQNI8kPk2xKsjbJfUmeTfKl7lyaniVVkiSN5NLZWt3PAv8E3gd8uzWRWlhSJUnSSBY3dX8GuHN2EoLmkLv7JUnSSH6T5HHgv8DXk5wBvNScSQ3cOCVJkoaS5HTgcFW9mmQjsKmqnunOpWk5kipJkoaR5MtLrpc+umP6NOpkSZUkSSP58JLr9cAngb1YUueO0/2SJGlYSU4DflVVn+rOomm5u1+SJI3sBeDs7hCantP9kiRpGEl2A4vTvGuA84Bf9yVSF6f7JUnSMJJ8fMnHV4B/VdXTXXnUx5IqSZJWjSR7quri7hxaea5JlSRJq8n67gCahiVVkiStJk4BzwlLqiRJkoZjSZUkSatJ3voVnQw8gkqSJA0lyRbgIham9h+uqmeWPL66J5Wm5kiqJEkaRpKvAQ8BO4ArgD8luW7xeVXt78qmaXkElSRJGkaSJ4BtVXVo9vntwANVdW5vMk3NkVRJkjSSQ8DzSz4/P7unOeOaVEmS1C7JN2eXfwceTHI3C2tSPw/8pS2Y2lhSJUnSCE6d/X5y9rPo7oYsGoBrUiVJkjQcR1IlSdIwkvyeY3yrVFV9oiGOGllSJUnSSL615Ho9cDnwSlMWNXK6X5IkDS3JQ1V1UXcOTcuRVEmSNIwkpy/5uAa4ANjcFEeNLKmSJGkkf2ZhTWpYmOb/B/DV1kRq4XS/JEmShuNIqiRJGkqSbcC7WdJTquqOtkBqYUmVJEnDSPIL4L3APuDV2e0CLKlzxul+SZI0jCSPAeeVBWXurekOIEmStMR+YEt3CPVzul+SJLVLspuFaf1TgQNJHgKOLD6vqs91ZVMPS6okSRrBj7oDaCyuSZUkKMFhKgAAAbtJREFUSatGkj1VdXF3Dq0816RKkqTVZH13AE3DkipJklYTp4DnhCVVkiRJw7GkSpKkdknWneirKxpEw7CkSpKkEeyB179x6s1cPUEWDcAjqCRJ0ghOSXIlsC3JjuUPq2rX7Pf+yZOphSVVkiSN4HrgKuA0YPuyZwXsmjyRWnlOqiRJGkaSnVV127J766rqyPH+Ricn16RKkqSRXHeMe3smT6F2TvdLkqR2SbYAZwIbkmzl6C7+TcDGtmBqY0mVJEkjuAy4FjgLuIWjJfU54KamTGrkmlRJkjSMJJdX1V1v8vyaqrp9ykzqYUmVJEmrRpK9VXV+dw6tPDdOSZKk1cRvnJoTllRJkrSaOAU8JyypkiRpNXEkdU5YUiVJUrskNyR55wm8ev+Kh9EQ3DglSZLaJTkMvAA8CfwSuLOqnu1NpU6OpEqSpBE8xcIZqd8HLgAOJLk3yTVJTu2Npg6OpEqSpHbLj5ZKshb4NPBF4JKqOqMtnFpYUiVJUrskj1TV1uM821hVL06dSb0sqZIkqV2Sc6rqb905NA5LqiRJkobjxilJkiQNx5IqSZKk4VhSJUmSNBxLqiRJkobzPylSw2VLu7MGAAAAAElFTkSuQmCC\\n\",","            \"text/plain\": [","              \"\u003cFigure size 720x504 with 1 Axes\u003e\"","            ]","          },","          \"metadata\": {","            \"tags\": [],","            \"needs_background\": \"light\"","          }","        }","      ]","    },","    {","      \"cell_type\": \"code\",","      \"metadata\": {","        \"colab\": {","          \"base_uri\": \"https://localhost:8080/\",","          \"height\": 590","        },","        \"id\": \"xASFWi98W0Ve\",","        \"outputId\": \"86dfb223-0217-4e32-f353-ec0147d87241\"","      },","      \"source\": [","        \"# Sort model results by f1-score\\n\",","        \"all_model_results.sort_values(\\\"f1\\\", ascending=False)[\\\"f1\\\"].plot(kind=\\\"bar\\\", figsize=(10, 7));\"","      ],","      \"execution_count\": null,","      \"outputs\": [","        {","          \"output_type\": \"display_data\",","          \"data\": {","            \"image/png\": \"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\\n\",","            \"text/plain\": [","              \"\u003cFigure size 720x504 with 1 Axes\u003e\"","            ]","          },","          \"metadata\": {","            \"tags\": [],","            \"needs_background\": \"light\"","          }","        }","      ]","    },","    {","      \"cell_type\": \"markdown\",","      \"metadata\": {","        \"id\": \"S8v7tXJ1XrWl\"","      },","      \"source\": [","        \"## Uploading our model training logs to TesnorBoard.dev\\n\",","        \"We can further inspect our model's performance using TensorBoard.dev: https://tensorboard.dev/\"","      ]","    },","    {","      \"cell_type\": \"code\",","      \"metadata\": {","        \"id\": \"iN5nWpwqYNNt\"","      },","      \"source\": [","        \"# # View TensorBoard logs of transfer learning modelling experiments (plus all of our other models)\\n\",","        \"# # Upload TensorBoard dev records\\n\",","        \"# !tensorboard dev upload --logdir ./model_logs/ \\\\\\n\",","        \"#   --name \\\"NLP Modelling Experiments ZTM TF Course Video\\\" \\\\\\n\",","        \"#   --description \\\"Comparing multiple different types of model architectures on the Kaggle Tweets text classification dataset\\\" \\\\\\n\",","        \"#   --one_shot # exit the uploader once uploading is finished\"","      ],","      \"execution_count\": null,","      \"outputs\": []","    },","    {","      \"cell_type\": \"markdown\",","      \"metadata\": {","        \"id\": \"eE9WoH_nZsMb\"","      },","      \"source\": [","        \"Now I've ran the cell above, my modelling experiments are visable on TensorBoard.dev: https://tensorboard.dev/experiment/Eacboed3RbKPWIGcXe1Z6g/\\n\",","        \"\\n\",","        \"\u003e 📖 **Resource:** TensorBoard is great for quickly tracking experiments but for larger scale experiments and a whole bunch more tracking options, check out Weights \u0026 Biases: https://wandb.ai/site\"","      ]","    },","    {","      \"cell_type\": \"code\",","      \"metadata\": {","        \"id\": \"OEVX02N5aiyp\"","      },","      \"source\": [","        \"# # See the previous TensorBoard Dev experiments you've run...\\n\",","        \"# !tensorboard dev list\"","      ],","      \"execution_count\": null,","      \"outputs\": []","    },","    {","      \"cell_type\": \"code\",","      \"metadata\": {","        \"id\": \"cXTfCURJZbts\"","      },","      \"source\": [","        \"# If you need to delete an experiment from TensorBoard, you can run the following:\\n\",","        \"# !tensorboard dev delete --experiment_id Eacboed3RbKPWIGcXe1Z6gB\"","      ],","      \"execution_count\": null,","      \"outputs\": []","    },","    {","      \"cell_type\": \"markdown\",","      \"metadata\": {","        \"id\": \"iV-oY5X6bmCh\"","      },","      \"source\": [","        \"## Saving and loading a trained model \\n\",","        \"\\n\",","        \"There are two main formats to save a model to in TensorFlow:\\n\",","        \"1. The HDF5 format\\n\",","        \"2. The `SavedModel` format (this is the default when using TensorFlow)\"","      ]","    },","    {","      \"cell_type\": \"code\",","      \"metadata\": {","        \"id\": \"8NuJcP0G-d_0\"","      },","      \"source\": [","        \"# Save TF Hub Sentence Encoder model to HDF5 format\\n\",","        \"model_6.save(\\\"model_6.h5\\\")\"","      ],","      \"execution_count\": null,","      \"outputs\": []","    },","    {","      \"cell_type\": \"code\",","      \"metadata\": {","        \"id\": \"83dzH-v6-vPP\"","      },","      \"source\": [","        \"# Load model with custom Hub Layer (required HDF5 format)\\n\",","        \"import tensorflow_hub as hub\\n\",","        \"loaded_model_6 = tf.keras.models.load_model(\\\"model_6.h5\\\",\\n\",","        \"                                            custom_objects={\\\"KerasLayer\\\": hub.KerasLayer})\"","      ],","      \"execution_count\": null,","      \"outputs\": []","    },","    {","      \"cell_type\": \"code\",","      \"metadata\": {","        \"colab\": {","          \"base_uri\": \"https://localhost:8080/\"","        },","        \"id\": \"6zSLAatG_Xg0\",","        \"outputId\": \"971c0149-62cd-403d-81f1-139d549e88aa\"","      },","      \"source\": [","        \"# How does our loaded model perform?\\n\",","        \"loaded_model_6.evaluate(val_sentences, val_labels)\"","      ],","      \"execution_count\": null,","      \"outputs\": [","        {","          \"output_type\": \"stream\",","          \"text\": [","            \"24/24 [==============================] - 1s 14ms/step - loss: 0.4289 - accuracy: 0.8150\\n\"","          ],","          \"name\": \"stdout\"","        },","        {","          \"output_type\": \"execute_result\",","          \"data\": {","            \"text/plain\": [","              \"[0.4289097487926483, 0.8149606585502625]\"","            ]","          },","          \"metadata\": {","            \"tags\": []","          },","          \"execution_count\": 103","        }","      ]","    },","    {","      \"cell_type\": \"markdown\",","      \"metadata\": {","        \"id\": \"iUXdwTKJ_mmC\"","      },","      \"source\": [","        \"Now let's save to the `SavedModel` format... (see more on this here: https://www.tensorflow.org/tutorials/keras/save_and_load)\"","      ]","    },","    {","      \"cell_type\": \"code\",","      \"metadata\": {","        \"colab\": {","          \"base_uri\": \"https://localhost:8080/\"","        },","        \"id\": \"KH56jDFz_2T5\",","        \"outputId\": \"bfd21ffe-af2d-4ec2-c0df-7dc5a65b9d4a\"","      },","      \"source\": [","        \"# Save TF Hub Sentence Ecnoder model to SavedModel format (default)\\n\",","        \"model_6.save(\\\"model_6_SavedModel_format\\\")\"","      ],","      \"execution_count\": null,","      \"outputs\": [","        {","          \"output_type\": \"stream\",","          \"text\": [","            \"INFO:tensorflow:Assets written to: model_6_SavedModel_format/assets\\n\"","          ],","          \"name\": \"stdout\"","        },","        {","          \"output_type\": \"stream\",","          \"text\": [","            \"INFO:tensorflow:Assets written to: model_6_SavedModel_format/assets\\n\"","          ],","          \"name\": \"stderr\"","        }","      ]","    },","    {","      \"cell_type\": \"code\",","      \"metadata\": {","        \"colab\": {","          \"base_uri\": \"https://localhost:8080/\"","        },","        \"id\": \"8KncUg_M_9gz\",","        \"outputId\": \"19e677b4-a123-475e-d104-e56b0418a82b\"","      },","      \"source\": [","        \"# Load in a model from the SavedModel format\\n\",","        \"loaded_model_6_SavedModel_format = tf.keras.models.load_model(\\\"model_6_SavedModel_format\\\")\"","      ],","      \"execution_count\": null,","      \"outputs\": [","        {","          \"output_type\": \"stream\",","          \"text\": [","            \"WARNING:tensorflow:5 out of the last 5 calls to \u003cfunction recreate_function.\u003clocals\u003e.restored_function_body at 0x7fea32001950\u003e triggered tf.function retracing. Tracing is expensive and the excessive number of tracings could be due to (1) creating @tf.function repeatedly in a loop, (2) passing tensors with different shapes, (3) passing Python objects instead of tensors. For (1), please define your @tf.function outside of the loop. For (2), @tf.function has experimental_relax_shapes=True option that relaxes argument shapes that can avoid unnecessary retracing. For (3), please refer to https://www.tensorflow.org/guide/function#controlling_retracing and https://www.tensorflow.org/api_docs/python/tf/function for  more details.\\n\"","          ],","          \"name\": \"stdout\"","        },","        {","          \"output_type\": \"stream\",","          \"text\": [","            \"WARNING:tensorflow:5 out of the last 5 calls to \u003cfunction recreate_function.\u003clocals\u003e.restored_function_body at 0x7fea32001950\u003e triggered tf.function retracing. Tracing is expensive and the excessive number of tracings could be due to (1) creating @tf.function repeatedly in a loop, (2) passing tensors with different shapes, (3) passing Python objects instead of tensors. For (1), please define your @tf.function outside of the loop. For (2), @tf.function has experimental_relax_shapes=True option that relaxes argument shapes that can avoid unnecessary retracing. For (3), please refer to https://www.tensorflow.org/guide/function#controlling_retracing and https://www.tensorflow.org/api_docs/python/tf/function for  more details.\\n\"","          ],","          \"name\": \"stderr\"","        }","      ]","    },","    {","      \"cell_type\": \"code\",","      \"metadata\": {","        \"colab\": {","          \"base_uri\": \"https://localhost:8080/\"","        },","        \"id\": \"YPDGs88WAWaP\",","        \"outputId\": \"5be41b6e-e202-4585-bb88-8f6eaf23c3f5\"","      },","      \"source\": [","        \"# Evaluate model in SavedModel format\\n\",","        \"loaded_model_6_SavedModel_format.evaluate(val_sentences, val_labels)\"","      ],","      \"execution_count\": null,","      \"outputs\": [","        {","          \"output_type\": \"stream\",","          \"text\": [","            \"24/24 [==============================] - 1s 12ms/step - loss: 0.4289 - accuracy: 0.8150\\n\"","          ],","          \"name\": \"stdout\"","        },","        {","          \"output_type\": \"execute_result\",","          \"data\": {","            \"text/plain\": [","              \"[0.4289097785949707, 0.8149606585502625]\"","            ]","          },","          \"metadata\": {","            \"tags\": []","          },","          \"execution_count\": 107","        }","      ]","    },","    {","      \"cell_type\": \"markdown\",","      \"metadata\": {","        \"id\": \"sPHYDcL-AbzG\"","      },","      \"source\": [","        \"## Finding the most wrong examples\\n\",","        \"\\n\",","        \"* If our best model still isn't perfect, what examples is it getting wrong?\\n\",","        \"* And of these wrong examples which ones is it getting *most* wrong (those will predicition probabilities closest to the opposite class)\\n\",","        \"\\n\",","        \"For example if a sample should have a label of 0 but our model predicts a prediction probability of 0.999 (really close to 1) and vice versa.\"","      ]","    },","    {","      \"cell_type\": \"code\",","      \"metadata\": {","        \"colab\": {","          \"base_uri\": \"https://localhost:8080/\"","        },","        \"id\": \"XgSL1VH2CHBu\",","        \"outputId\": \"601f485a-39d8-4e40-d2d0-021a6627f3f2\"","      },","      \"source\": [","        \"# Download a pretrained model from Google Storage\\n\",","        \"!wget https://storage.googleapis.com/ztm_tf_course/08_model_6_USE_feature_extractor.zip\\n\",","        \"!unzip 08_model_6_USE_feature_extractor.zip\"","      ],","      \"execution_count\": null,","      \"outputs\": [","        {","          \"output_type\": \"stream\",","          \"text\": [","            \"--2021-04-14 06:19:57--  https://storage.googleapis.com/ztm_tf_course/08_model_6_USE_feature_extractor.zip\\n\",","            \"Resolving storage.googleapis.com (storage.googleapis.com)... 74.125.133.128, 74.125.140.128, 108.177.15.128, ...\\n\",","            \"Connecting to storage.googleapis.com (storage.googleapis.com)|74.125.133.128|:443... connected.\\n\",","            \"HTTP request sent, awaiting response... 200 OK\\n\",","            \"Length: 960779165 (916M) [application/zip]\\n\",","            \"Saving to: ‘08_model_6_USE_feature_extractor.zip’\\n\",","            \"\\n\",","            \"08_model_6_USE_feat 100%[===================\u003e] 916.27M  46.6MB/s    in 25s     \\n\",","            \"\\n\",","            \"2021-04-14 06:20:23 (36.8 MB/s) - ‘08_model_6_USE_feature_extractor.zip’ saved [960779165/960779165]\\n\",","            \"\\n\",","            \"Archive:  08_model_6_USE_feature_extractor.zip\\n\",","            \"   creating: 08_model_6_USE_feature_extractor/\\n\",","            \"   creating: 08_model_6_USE_feature_extractor/assets/\\n\",","            \"   creating: 08_model_6_USE_feature_extractor/variables/\\n\",","            \"  inflating: 08_model_6_USE_feature_extractor/variables/variables.data-00000-of-00001  \\n\",","            \"  inflating: 08_model_6_USE_feature_extractor/variables/variables.index  \\n\",","            \"  inflating: 08_model_6_USE_feature_extractor/saved_model.pb  \\n\"","          ],","          \"name\": \"stdout\"","        }","      ]","    },","    {","      \"cell_type\": \"code\",","      \"metadata\": {","        \"colab\": {","          \"base_uri\": \"https://localhost:8080/\"","        },","        \"id\": \"9OTLTVMSCkbL\",","        \"outputId\": \"dd15fa49-c139-400c-ea49-52f485945e3e\"","      },","      \"source\": [","        \"# Import previously trained model from Google Storage\\n\",","        \"model_6_pretrained = tf.keras.models.load_model(\\\"08_model_6_USE_feature_extractor\\\")\\n\",","        \"model_6_pretrained.evaluate(val_sentences, val_labels)\"","      ],","      \"execution_count\": null,","      \"outputs\": [","        {","          \"output_type\": \"stream\",","          \"text\": [","            \"WARNING:tensorflow:6 out of the last 6 calls to \u003cfunction recreate_function.\u003clocals\u003e.restored_function_body at 0x7fea3032e7a0\u003e triggered tf.function retracing. Tracing is expensive and the excessive number of tracings could be due to (1) creating @tf.function repeatedly in a loop, (2) passing tensors with different shapes, (3) passing Python objects instead of tensors. For (1), please define your @tf.function outside of the loop. For (2), @tf.function has experimental_relax_shapes=True option that relaxes argument shapes that can avoid unnecessary retracing. For (3), please refer to https://www.tensorflow.org/guide/function#controlling_retracing and https://www.tensorflow.org/api_docs/python/tf/function for  more details.\\n\"","          ],","          \"name\": \"stdout\"","        },","        {","          \"output_type\": \"stream\",","          \"text\": [","            \"WARNING:tensorflow:6 out of the last 6 calls to \u003cfunction recreate_function.\u003clocals\u003e.restored_function_body at 0x7fea3032e7a0\u003e triggered tf.function retracing. Tracing is expensive and the excessive number of tracings could be due to (1) creating @tf.function repeatedly in a loop, (2) passing tensors with different shapes, (3) passing Python objects instead of tensors. For (1), please define your @tf.function outside of the loop. For (2), @tf.function has experimental_relax_shapes=True option that relaxes argument shapes that can avoid unnecessary retracing. For (3), please refer to https://www.tensorflow.org/guide/function#controlling_retracing and https://www.tensorflow.org/api_docs/python/tf/function for  more details.\\n\"","          ],","          \"name\": \"stderr\"","        },","        {","          \"output_type\": \"stream\",","          \"text\": [","            \"24/24 [==============================] - 1s 12ms/step - loss: 0.4272 - accuracy: 0.8163\\n\"","          ],","          \"name\": \"stdout\"","        },","        {","          \"output_type\": \"execute_result\",","          \"data\": {","            \"text/plain\": [","              \"[0.42723122239112854, 0.8162729740142822]\"","            ]","          },","          \"metadata\": {","            \"tags\": []","          },","          \"execution_count\": 109","        }","      ]","    },","    {","      \"cell_type\": \"code\",","      \"metadata\": {","        \"colab\": {","          \"base_uri\": \"https://localhost:8080/\"","        },","        \"id\": \"4ML3jOCvCzW8\",","        \"outputId\": \"446da531-9ead-4671-a990-efcdb9207296\"","      },","      \"source\": [","        \"# Make predictions with the loaded model from GS\\n\",","        \"model_6_pretrained_pred_probs = model_6_pretrained.predict(val_sentences)\\n\",","        \"model_6_pretrained_preds = tf.squeeze(tf.round(model_6_pretrained_pred_probs))\\n\",","        \"model_6_pretrained_preds[:10] # these should be in label format\"","      ],","      \"execution_count\": null,","      \"outputs\": [","        {","          \"output_type\": \"execute_result\",","          \"data\": {","            \"text/plain\": [","              \"\u003ctf.Tensor: shape=(10,), dtype=float32, numpy=array([0., 1., 1., 0., 1., 1., 1., 1., 1., 0.], dtype=float32)\u003e\"","            ]","          },","          \"metadata\": {","            \"tags\": []","          },","          \"execution_count\": 110","        }","      ]","    },","    {","      \"cell_type\": \"code\",","      \"metadata\": {","        \"colab\": {","          \"base_uri\": \"https://localhost:8080/\",","          \"height\": 202","        },","        \"id\": \"nwa_Bk9nB4Tl\",","        \"outputId\": \"423ea869-96d0-4d5e-872b-941e9f203a81\"","      },","      \"source\": [","        \"# Create DataFrame with validation sentences, validation labels and best performing model prediction labels + probabilities\\n\",","        \"val_df = pd.DataFrame({\\\"text\\\": val_sentences,\\n\",","        \"                       \\\"target\\\": val_labels,\\n\",","        \"                       \\\"pred\\\": model_6_pretrained_preds,\\n\",","        \"                       \\\"pred_prob\\\": tf.squeeze(model_6_pretrained_pred_probs)})\\n\",","        \"val_df.head()\"","      ],","      \"execution_count\": null,","      \"outputs\": [","        {","          \"output_type\": \"execute_result\",","          \"data\": {","            \"text/html\": [","              \"\u003cdiv\u003e\\n\",","              \"\u003cstyle scoped\u003e\\n\",","              \"    .dataframe tbody tr th:only-of-type {\\n\",","              \"        vertical-align: middle;\\n\",","              \"    }\\n\",","              \"\\n\",","              \"    .dataframe tbody tr th {\\n\",","              \"        vertical-align: top;\\n\",","              \"    }\\n\",","              \"\\n\",","              \"    .dataframe thead th {\\n\",","              \"        text-align: right;\\n\",","              \"    }\\n\",","              \"\u003c/style\u003e\\n\",","              \"\u003ctable border=\\\"1\\\" class=\\\"dataframe\\\"\u003e\\n\",","              \"  \u003cthead\u003e\\n\",","              \"    \u003ctr style=\\\"text-align: right;\\\"\u003e\\n\",","              \"      \u003cth\u003e\u003c/th\u003e\\n\",","              \"      \u003cth\u003etext\u003c/th\u003e\\n\",","              \"      \u003cth\u003etarget\u003c/th\u003e\\n\",","              \"      \u003cth\u003epred\u003c/th\u003e\\n\",","              \"      \u003cth\u003epred_prob\u003c/th\u003e\\n\",","              \"    \u003c/tr\u003e\\n\",","              \"  \u003c/thead\u003e\\n\",","              \"  \u003ctbody\u003e\\n\",","              \"    \u003ctr\u003e\\n\",","              \"      \u003cth\u003e0\u003c/th\u003e\\n\",","              \"      \u003ctd\u003eDFR EP016 Monthly Meltdown - On Dnbheaven 2015...\u003c/td\u003e\\n\",","              \"      \u003ctd\u003e0\u003c/td\u003e\\n\",","              \"      \u003ctd\u003e0.0\u003c/td\u003e\\n\",","              \"      \u003ctd\u003e0.159757\u003c/td\u003e\\n\",","              \"    \u003c/tr\u003e\\n\",","              \"    \u003ctr\u003e\\n\",","              \"      \u003cth\u003e1\u003c/th\u003e\\n\",","              \"      \u003ctd\u003eFedEx no longer to transport bioterror germs i...\u003c/td\u003e\\n\",","              \"      \u003ctd\u003e0\u003c/td\u003e\\n\",","              \"      \u003ctd\u003e1.0\u003c/td\u003e\\n\",","              \"      \u003ctd\u003e0.747162\u003c/td\u003e\\n\",","              \"    \u003c/tr\u003e\\n\",","              \"    \u003ctr\u003e\\n\",","              \"      \u003cth\u003e2\u003c/th\u003e\\n\",","              \"      \u003ctd\u003eGunmen kill four in El Salvador bus attack: Su...\u003c/td\u003e\\n\",","              \"      \u003ctd\u003e1\u003c/td\u003e\\n\",","              \"      \u003ctd\u003e1.0\u003c/td\u003e\\n\",","              \"      \u003ctd\u003e0.988749\u003c/td\u003e\\n\",","              \"    \u003c/tr\u003e\\n\",","              \"    \u003ctr\u003e\\n\",","              \"      \u003cth\u003e3\u003c/th\u003e\\n\",","              \"      \u003ctd\u003e@camilacabello97 Internally and externally scr...\u003c/td\u003e\\n\",","              \"      \u003ctd\u003e1\u003c/td\u003e\\n\",","              \"      \u003ctd\u003e0.0\u003c/td\u003e\\n\",","              \"      \u003ctd\u003e0.196229\u003c/td\u003e\\n\",","              \"    \u003c/tr\u003e\\n\",","              \"    \u003ctr\u003e\\n\",","              \"      \u003cth\u003e4\u003c/th\u003e\\n\",","              \"      \u003ctd\u003eRadiation emergency #preparedness starts with ...\u003c/td\u003e\\n\",","              \"      \u003ctd\u003e1\u003c/td\u003e\\n\",","              \"      \u003ctd\u003e1.0\u003c/td\u003e\\n\",","              \"      \u003ctd\u003e0.707808\u003c/td\u003e\\n\",","              \"    \u003c/tr\u003e\\n\",","              \"  \u003c/tbody\u003e\\n\",","              \"\u003c/table\u003e\\n\",","              \"\u003c/div\u003e\"","            ],","            \"text/plain\": [","              \"                                                text  target  pred  pred_prob\\n\",","              \"0  DFR EP016 Monthly Meltdown - On Dnbheaven 2015...       0   0.0   0.159757\\n\",","              \"1  FedEx no longer to transport bioterror germs i...       0   1.0   0.747162\\n\",","              \"2  Gunmen kill four in El Salvador bus attack: Su...       1   1.0   0.988749\\n\",","              \"3  @camilacabello97 Internally and externally scr...       1   0.0   0.196229\\n\",","              \"4  Radiation emergency #preparedness starts with ...       1   1.0   0.707808\"","            ]","          },","          \"metadata\": {","            \"tags\": []","          },","          \"execution_count\": 116","        }","      ]","    },","    {","      \"cell_type\": \"code\",","      \"metadata\": {","        \"colab\": {","          \"base_uri\": \"https://localhost:8080/\",","          \"height\": 355","        },","        \"id\": \"inTan9xLDaj1\",","        \"outputId\": \"979772a5-9093-4d71-cc4a-fe08cce1ef88\"","      },","      \"source\": [","        \"# Find the wrong predictions and sort by prediction probabilities\\n\",","        \"most_wrong = val_df[val_df[\\\"target\\\"] != val_df[\\\"pred\\\"]].sort_values(\\\"pred_prob\\\", ascending=False)\\n\",","        \"most_wrong[:10] # these are false positives\"","      ],","      \"execution_count\": null,","      \"outputs\": [","        {","          \"output_type\": \"execute_result\",","          \"data\": {","            \"text/html\": [","              \"\u003cdiv\u003e\\n\",","              \"\u003cstyle scoped\u003e\\n\",","              \"    .dataframe tbody tr th:only-of-type {\\n\",","              \"        vertical-align: middle;\\n\",","              \"    }\\n\",","              \"\\n\",","              \"    .dataframe tbody tr th {\\n\",","              \"        vertical-align: top;\\n\",","              \"    }\\n\",","              \"\\n\",","              \"    .dataframe thead th {\\n\",","              \"        text-align: right;\\n\",","              \"    }\\n\",","              \"\u003c/style\u003e\\n\",","              \"\u003ctable border=\\\"1\\\" class=\\\"dataframe\\\"\u003e\\n\",","              \"  \u003cthead\u003e\\n\",","              \"    \u003ctr style=\\\"text-align: right;\\\"\u003e\\n\",","              \"      \u003cth\u003e\u003c/th\u003e\\n\",","              \"      \u003cth\u003etext\u003c/th\u003e\\n\",","              \"      \u003cth\u003etarget\u003c/th\u003e\\n\",","              \"      \u003cth\u003epred\u003c/th\u003e\\n\",","              \"      \u003cth\u003epred_prob\u003c/th\u003e\\n\",","              \"    \u003c/tr\u003e\\n\",","              \"  \u003c/thead\u003e\\n\",","              \"  \u003ctbody\u003e\\n\",","              \"    \u003ctr\u003e\\n\",","              \"      \u003cth\u003e31\u003c/th\u003e\\n\",","              \"      \u003ctd\u003e? High Skies - Burning Buildings ? http://t.co...\u003c/td\u003e\\n\",","              \"      \u003ctd\u003e0\u003c/td\u003e\\n\",","              \"      \u003ctd\u003e1.0\u003c/td\u003e\\n\",","              \"      \u003ctd\u003e0.910196\u003c/td\u003e\\n\",","              \"    \u003c/tr\u003e\\n\",","              \"    \u003ctr\u003e\\n\",","              \"      \u003cth\u003e759\u003c/th\u003e\\n\",","              \"      \u003ctd\u003eFedEx will no longer transport bioterror patho...\u003c/td\u003e\\n\",","              \"      \u003ctd\u003e0\u003c/td\u003e\\n\",","              \"      \u003ctd\u003e1.0\u003c/td\u003e\\n\",","              \"      \u003ctd\u003e0.876982\u003c/td\u003e\\n\",","              \"    \u003c/tr\u003e\\n\",","              \"    \u003ctr\u003e\\n\",","              \"      \u003cth\u003e628\u003c/th\u003e\\n\",","              \"      \u003ctd\u003e@noah_anyname That's where the concentration c...\u003c/td\u003e\\n\",","              \"      \u003ctd\u003e0\u003c/td\u003e\\n\",","              \"      \u003ctd\u003e1.0\u003c/td\u003e\\n\",","              \"      \u003ctd\u003e0.852300\u003c/td\u003e\\n\",","              \"    \u003c/tr\u003e\\n\",","              \"    \u003ctr\u003e\\n\",","              \"      \u003cth\u003e209\u003c/th\u003e\\n\",","              \"      \u003ctd\u003eAshes 2015: AustraliaÛªs collapse at Trent Br...\u003c/td\u003e\\n\",","              \"      \u003ctd\u003e0\u003c/td\u003e\\n\",","              \"      \u003ctd\u003e1.0\u003c/td\u003e\\n\",","              \"      \u003ctd\u003e0.835454\u003c/td\u003e\\n\",","              \"    \u003c/tr\u003e\\n\",","              \"    \u003ctr\u003e\\n\",","              \"      \u003cth\u003e251\u003c/th\u003e\\n\",","              \"      \u003ctd\u003e@AshGhebranious civil rights continued in the ...\u003c/td\u003e\\n\",","              \"      \u003ctd\u003e0\u003c/td\u003e\\n\",","              \"      \u003ctd\u003e1.0\u003c/td\u003e\\n\",","              \"      \u003ctd\u003e0.827213\u003c/td\u003e\\n\",","              \"    \u003c/tr\u003e\\n\",","              \"    \u003ctr\u003e\\n\",","              \"      \u003cth\u003e393\u003c/th\u003e\\n\",","              \"      \u003ctd\u003e@SonofLiberty357 all illuminated by the bright...\u003c/td\u003e\\n\",","              \"      \u003ctd\u003e0\u003c/td\u003e\\n\",","              \"      \u003ctd\u003e1.0\u003c/td\u003e\\n\",","              \"      \u003ctd\u003e0.814816\u003c/td\u003e\\n\",","              \"    \u003c/tr\u003e\\n\",","              \"    \u003ctr\u003e\\n\",","              \"      \u003cth\u003e109\u003c/th\u003e\\n\",","              \"      \u003ctd\u003e[55436] 1950 LIONEL TRAINS SMOKE LOCOMOTIVES W...\u003c/td\u003e\\n\",","              \"      \u003ctd\u003e0\u003c/td\u003e\\n\",","              \"      \u003ctd\u003e1.0\u003c/td\u003e\\n\",","              \"      \u003ctd\u003e0.810840\u003c/td\u003e\\n\",","              \"    \u003c/tr\u003e\\n\",","              \"    \u003ctr\u003e\\n\",","              \"      \u003cth\u003e49\u003c/th\u003e\\n\",","              \"      \u003ctd\u003e@madonnamking RSPCA site multiple 7 story high...\u003c/td\u003e\\n\",","              \"      \u003ctd\u003e0\u003c/td\u003e\\n\",","              \"      \u003ctd\u003e1.0\u003c/td\u003e\\n\",","              \"      \u003ctd\u003e0.803122\u003c/td\u003e\\n\",","              \"    \u003c/tr\u003e\\n\",","              \"    \u003ctr\u003e\\n\",","              \"      \u003cth\u003e119\u003c/th\u003e\\n\",","              \"      \u003ctd\u003e@freefromwolves GodsLove \u0026amp;amp; #thankU brother...\u003c/td\u003e\\n\",","              \"      \u003ctd\u003e0\u003c/td\u003e\\n\",","              \"      \u003ctd\u003e1.0\u003c/td\u003e\\n\",","              \"      \u003ctd\u003e0.766901\u003c/td\u003e\\n\",","              \"    \u003c/tr\u003e\\n\",","              \"    \u003ctr\u003e\\n\",","              \"      \u003cth\u003e344\u003c/th\u003e\\n\",","              \"      \u003ctd\u003eAir Group is here to the rescue! We have 24/7 ...\u003c/td\u003e\\n\",","              \"      \u003ctd\u003e0\u003c/td\u003e\\n\",","              \"      \u003ctd\u003e1.0\u003c/td\u003e\\n\",","              \"      \u003ctd\u003e0.766625\u003c/td\u003e\\n\",","              \"    \u003c/tr\u003e\\n\",","              \"  \u003c/tbody\u003e\\n\",","              \"\u003c/table\u003e\\n\",","              \"\u003c/div\u003e\"","            ],","            \"text/plain\": [","              \"                                                  text  target  pred  pred_prob\\n\",","              \"31   ? High Skies - Burning Buildings ? http://t.co...       0   1.0   0.910196\\n\",","              \"759  FedEx will no longer transport bioterror patho...       0   1.0   0.876982\\n\",","              \"628  @noah_anyname That's where the concentration c...       0   1.0   0.852300\\n\",","              \"209  Ashes 2015: AustraliaÛªs collapse at Trent Br...       0   1.0   0.835454\\n\",","              \"251  @AshGhebranious civil rights continued in the ...       0   1.0   0.827213\\n\",","              \"393  @SonofLiberty357 all illuminated by the bright...       0   1.0   0.814816\\n\",","              \"109  [55436] 1950 LIONEL TRAINS SMOKE LOCOMOTIVES W...       0   1.0   0.810840\\n\",","              \"49   @madonnamking RSPCA site multiple 7 story high...       0   1.0   0.803122\\n\",","              \"119  @freefromwolves GodsLove \u0026amp; #thankU brother...       0   1.0   0.766901\\n\",","              \"344  Air Group is here to the rescue! We have 24/7 ...       0   1.0   0.766625\"","            ]","          },","          \"metadata\": {","            \"tags\": []","          },","          \"execution_count\": 117","        }","      ]","    },","    {","      \"cell_type\": \"code\",","      \"metadata\": {","        \"colab\": {","          \"base_uri\": \"https://localhost:8080/\",","          \"height\": 202","        },","        \"id\": \"PQV_SFoSESI1\",","        \"outputId\": \"8af9a512-1cdc-4317-e089-d3e4f88e649f\"","      },","      \"source\": [","        \"most_wrong.tail() # these are false negatives\"","      ],","      \"execution_count\": null,","      \"outputs\": [","        {","          \"output_type\": \"execute_result\",","          \"data\": {","            \"text/html\": [","              \"\u003cdiv\u003e\\n\",","              \"\u003cstyle scoped\u003e\\n\",","              \"    .dataframe tbody tr th:only-of-type {\\n\",","              \"        vertical-align: middle;\\n\",","              \"    }\\n\",","              \"\\n\",","              \"    .dataframe tbody tr th {\\n\",","              \"        vertical-align: top;\\n\",","              \"    }\\n\",","              \"\\n\",","              \"    .dataframe thead th {\\n\",","              \"        text-align: right;\\n\",","              \"    }\\n\",","              \"\u003c/style\u003e\\n\",","              \"\u003ctable border=\\\"1\\\" class=\\\"dataframe\\\"\u003e\\n\",","              \"  \u003cthead\u003e\\n\",","              \"    \u003ctr style=\\\"text-align: right;\\\"\u003e\\n\",","              \"      \u003cth\u003e\u003c/th\u003e\\n\",","              \"      \u003cth\u003etext\u003c/th\u003e\\n\",","              \"      \u003cth\u003etarget\u003c/th\u003e\\n\",","              \"      \u003cth\u003epred\u003c/th\u003e\\n\",","              \"      \u003cth\u003epred_prob\u003c/th\u003e\\n\",","              \"    \u003c/tr\u003e\\n\",","              \"  \u003c/thead\u003e\\n\",","              \"  \u003ctbody\u003e\\n\",","              \"    \u003ctr\u003e\\n\",","              \"      \u003cth\u003e411\u003c/th\u003e\\n\",","              \"      \u003ctd\u003e@SoonerMagic_ I mean I'm a fan but I don't nee...\u003c/td\u003e\\n\",","              \"      \u003ctd\u003e1\u003c/td\u003e\\n\",","              \"      \u003ctd\u003e0.0\u003c/td\u003e\\n\",","              \"      \u003ctd\u003e0.043918\u003c/td\u003e\\n\",","              \"    \u003c/tr\u003e\\n\",","              \"    \u003ctr\u003e\\n\",","              \"      \u003cth\u003e233\u003c/th\u003e\\n\",","              \"      \u003ctd\u003eI get to smoke my shit in peace\u003c/td\u003e\\n\",","              \"      \u003ctd\u003e1\u003c/td\u003e\\n\",","              \"      \u003ctd\u003e0.0\u003c/td\u003e\\n\",","              \"      \u003ctd\u003e0.042087\u003c/td\u003e\\n\",","              \"    \u003c/tr\u003e\\n\",","              \"    \u003ctr\u003e\\n\",","              \"      \u003cth\u003e38\u003c/th\u003e\\n\",","              \"      \u003ctd\u003eWhy are you deluged with low self-image? Take ...\u003c/td\u003e\\n\",","              \"      \u003ctd\u003e1\u003c/td\u003e\\n\",","              \"      \u003ctd\u003e0.0\u003c/td\u003e\\n\",","              \"      \u003ctd\u003e0.038998\u003c/td\u003e\\n\",","              \"    \u003c/tr\u003e\\n\",","              \"    \u003ctr\u003e\\n\",","              \"      \u003cth\u003e244\u003c/th\u003e\\n\",","              \"      \u003ctd\u003eReddit Will Now QuarantineÛ_ http://t.co/pkUA...\u003c/td\u003e\\n\",","              \"      \u003ctd\u003e1\u003c/td\u003e\\n\",","              \"      \u003ctd\u003e0.0\u003c/td\u003e\\n\",","              \"      \u003ctd\u003e0.038949\u003c/td\u003e\\n\",","              \"    \u003c/tr\u003e\\n\",","              \"    \u003ctr\u003e\\n\",","              \"      \u003cth\u003e23\u003c/th\u003e\\n\",","              \"      \u003ctd\u003eRon \u0026amp;amp; Fez - Dave's High School Crush https...\u003c/td\u003e\\n\",","              \"      \u003ctd\u003e1\u003c/td\u003e\\n\",","              \"      \u003ctd\u003e0.0\u003c/td\u003e\\n\",","              \"      \u003ctd\u003e0.037186\u003c/td\u003e\\n\",","              \"    \u003c/tr\u003e\\n\",","              \"  \u003c/tbody\u003e\\n\",","              \"\u003c/table\u003e\\n\",","              \"\u003c/div\u003e\"","            ],","            \"text/plain\": [","              \"                                                  text  target  pred  pred_prob\\n\",","              \"411  @SoonerMagic_ I mean I'm a fan but I don't nee...       1   0.0   0.043918\\n\",","              \"233                    I get to smoke my shit in peace       1   0.0   0.042087\\n\",","              \"38   Why are you deluged with low self-image? Take ...       1   0.0   0.038998\\n\",","              \"244  Reddit Will Now QuarantineÛ_ http://t.co/pkUA...       1   0.0   0.038949\\n\",","              \"23   Ron \u0026amp; Fez - Dave's High School Crush https...       1   0.0   0.037186\"","            ]","          },","          \"metadata\": {","            \"tags\": []","          },","          \"execution_count\": 118","        }","      ]","    },","    {","      \"cell_type\": \"markdown\",","      \"metadata\": {","        \"id\": \"_1Me95bIEH75\"","      },","      \"source\": [","        \"Let's remind ourselves of the target labels...\\n\",","        \"* `0` = not diaster\\n\",","        \"* `1` = diaster\"","      ]","    },","    {","      \"cell_type\": \"code\",","      \"metadata\": {","        \"colab\": {","          \"base_uri\": \"https://localhost:8080/\"","        },","        \"id\": \"UhUESFzvDhqF\",","        \"outputId\": \"2fa10a18-25fa-42d5-e72d-968e02e79b06\"","      },","      \"source\": [","        \"# Check the false positives (model predicted 1 when should've been 0)\\n\",","        \"for row in most_wrong[:10].itertuples():\\n\",","        \"  _, text, target, pred, pred_prob = row\\n\",","        \"  print(f\\\"Target: {target}, Pred: {pred}, Prob: {pred_prob}\\\")\\n\",","        \"  print(f\\\"Text:\\\\n{text}\\\\n\\\")\\n\",","        \"  print(\\\"----\\\\n\\\")\"","      ],","      \"execution_count\": null,","      \"outputs\": [","        {","          \"output_type\": \"stream\",","          \"text\": [","            \"Target: 0, Pred: 1.0, Prob: 0.9101957678794861\\n\",","            \"Text:\\n\",","            \"? High Skies - Burning Buildings ? http://t.co/uVq41i3Kx2 #nowplaying\\n\",","            \"\\n\",","            \"----\\n\",","            \"\\n\",","            \"Target: 0, Pred: 1.0, Prob: 0.8769820928573608\\n\",","            \"Text:\\n\",","            \"FedEx will no longer transport bioterror pathogens in wake of anthrax lab mishaps http://t.co/lHpgxc4b8J\\n\",","            \"\\n\",","            \"----\\n\",","            \"\\n\",","            \"Target: 0, Pred: 1.0, Prob: 0.8523000478744507\\n\",","            \"Text:\\n\",","            \"@noah_anyname That's where the concentration camps and mass murder come in. \\n\",","            \" \\n\",","            \"EVERY. FUCKING. TIME.\\n\",","            \"\\n\",","            \"----\\n\",","            \"\\n\",","            \"Target: 0, Pred: 1.0, Prob: 0.8354544043540955\\n\",","            \"Text:\\n\",","            \"Ashes 2015: AustraliaÛªs collapse at Trent Bridge among worst in history: England bundled out Australia for 60 ... http://t.co/t5TrhjUAU0\\n\",","            \"\\n\",","            \"----\\n\",","            \"\\n\",","            \"Target: 0, Pred: 1.0, Prob: 0.8272132873535156\\n\",","            \"Text:\\n\",","            \"@AshGhebranious civil rights continued in the 60s. And what about trans-generational trauma? if anything we should listen to the Americans.\\n\",","            \"\\n\",","            \"----\\n\",","            \"\\n\",","            \"Target: 0, Pred: 1.0, Prob: 0.814815878868103\\n\",","            \"Text:\\n\",","            \"@SonofLiberty357 all illuminated by the brightly burning buildings all around the town!\\n\",","            \"\\n\",","            \"----\\n\",","            \"\\n\",","            \"Target: 0, Pred: 1.0, Prob: 0.8108396530151367\\n\",","            \"Text:\\n\",","            \"[55436] 1950 LIONEL TRAINS SMOKE LOCOMOTIVES WITH MAGNE-TRACTION INSTRUCTIONS http://t.co/xEZBs3sq0y http://t.co/C2x0QoKGlY\\n\",","            \"\\n\",","            \"----\\n\",","            \"\\n\",","            \"Target: 0, Pred: 1.0, Prob: 0.80312180519104\\n\",","            \"Text:\\n\",","            \"@madonnamking RSPCA site multiple 7 story high rise buildings next to low density character residential in an area that floods\\n\",","            \"\\n\",","            \"----\\n\",","            \"\\n\",","            \"Target: 0, Pred: 1.0, Prob: 0.7669008374214172\\n\",","            \"Text:\\n\",","            \"@freefromwolves GodsLove \u0026amp; #thankU brother Danny for RT of NEW VIDEO http://t.co/cybKsXHF7d The Coming Apocalyptic US Earthquake \u0026amp; Tsunami\\n\",","            \"\\n\",","            \"----\\n\",","            \"\\n\",","            \"Target: 0, Pred: 1.0, Prob: 0.7666252255439758\\n\",","            \"Text:\\n\",","            \"Air Group is here to the rescue! We have 24/7 Emergency Service! Learn more about it here - http://t.co/9lyx7zMtHE http://t.co/5PbC96rTMJ\\n\",","            \"\\n\",","            \"----\\n\",","            \"\\n\"","          ],","          \"name\": \"stdout\"","        }","      ]","    },","    {","      \"cell_type\": \"code\",","      \"metadata\": {","        \"colab\": {","          \"base_uri\": \"https://localhost:8080/\"","        },","        \"id\": \"-T4lJhV6Fcxa\",","        \"outputId\": \"0a4a7b68-9351-42ee-a95f-75d4100d2078\"","      },","      \"source\": [","        \"# Check the false negatives (model predicted 0 when should've been 1)\\n\",","        \"for row in most_wrong[-10:].itertuples():\\n\",","        \"  _, text, target, pred, pred_prob = row\\n\",","        \"  print(f\\\"Target: {target}, Pred: {pred}, Prob: {pred_prob}\\\")\\n\",","        \"  print(f\\\"Text:\\\\n{text}\\\\n\\\")\\n\",","        \"  print(\\\"----\\\\n\\\")\"","      ],","      \"execution_count\": null,","      \"outputs\": [","        {","          \"output_type\": \"stream\",","          \"text\": [","            \"Target: 1, Pred: 0.0, Prob: 0.06730344891548157\\n\",","            \"Text:\\n\",","            \"@DavidVonderhaar At least you were sincere ??\\n\",","            \"\\n\",","            \"----\\n\",","            \"\\n\",","            \"Target: 1, Pred: 0.0, Prob: 0.05507582053542137\\n\",","            \"Text:\\n\",","            \"@willienelson We need help! Horses will die!Please RT \u0026amp; sign petition!Take a stand \u0026amp; be a voice for them! #gilbert23 https://t.co/e8dl1lNCVu\\n\",","            \"\\n\",","            \"----\\n\",","            \"\\n\",","            \"Target: 1, Pred: 0.0, Prob: 0.05460337549448013\\n\",","            \"Text:\\n\",","            \"Lucas Duda is Ghost Rider. Not the Nic Cage version but an actual 'engulfed in flames' badass. #Mets\\n\",","            \"\\n\",","            \"----\\n\",","            \"\\n\",","            \"Target: 1, Pred: 0.0, Prob: 0.054596975445747375\\n\",","            \"Text:\\n\",","            \"going to redo my nails and watch behind the scenes of desolation of smaug ayyy\\n\",","            \"\\n\",","            \"----\\n\",","            \"\\n\",","            \"Target: 1, Pred: 0.0, Prob: 0.04963727295398712\\n\",","            \"Text:\\n\",","            \"You can never escape me. Bullets don't harm me. Nothing harms me. But I know pain. I know pain. Sometimes I share it. With someone like you.\\n\",","            \"\\n\",","            \"----\\n\",","            \"\\n\",","            \"Target: 1, Pred: 0.0, Prob: 0.043918490409851074\\n\",","            \"Text:\\n\",","            \"@SoonerMagic_ I mean I'm a fan but I don't need a girl sounding off like a damn siren\\n\",","            \"\\n\",","            \"----\\n\",","            \"\\n\",","            \"Target: 1, Pred: 0.0, Prob: 0.04208682104945183\\n\",","            \"Text:\\n\",","            \"I get to smoke my shit in peace\\n\",","            \"\\n\",","            \"----\\n\",","            \"\\n\",","            \"Target: 1, Pred: 0.0, Prob: 0.03899793699383736\\n\",","            \"Text:\\n\",","            \"Why are you deluged with low self-image? Take the quiz: http://t.co/XsPqdOrIqj http://t.co/CQYvFR4UCy\\n\",","            \"\\n\",","            \"----\\n\",","            \"\\n\",","            \"Target: 1, Pred: 0.0, Prob: 0.03894946351647377\\n\",","            \"Text:\\n\",","            \"Reddit Will Now QuarantineÛ_ http://t.co/pkUAMXw6pm #onlinecommunities #reddit #amageddon #freespeech #Business http://t.co/PAWvNJ4sAP\\n\",","            \"\\n\",","            \"----\\n\",","            \"\\n\",","            \"Target: 1, Pred: 0.0, Prob: 0.03718579187989235\\n\",","            \"Text:\\n\",","            \"Ron \u0026amp; Fez - Dave's High School Crush https://t.co/aN3W16c8F6 via @YouTube\\n\",","            \"\\n\",","            \"----\\n\",","            \"\\n\"","          ],","          \"name\": \"stdout\"","        }","      ]","    },","    {","      \"cell_type\": \"markdown\",","      \"metadata\": {","        \"id\": \"Myh5WDGiGC_J\"","      },","      \"source\": [","        \"## Making predictions on the test dataset\"","      ]","    },","    {","      \"cell_type\": \"code\",","      \"metadata\": {","        \"colab\": {","          \"base_uri\": \"https://localhost:8080/\"","        },","        \"id\": \"h_adHc7tGh6z\",","        \"outputId\": \"4be5873c-870a-4fef-a294-f2fdd16f9f26\"","      },","      \"source\": [","        \"# Making predictions on the test dataset and visualizing them\\n\",","        \"test_sentences = test_df[\\\"text\\\"].to_list()\\n\",","        \"test_samples = random.sample(test_sentences, 10)\\n\",","        \"for test_sample in test_samples:\\n\",","        \"  pred_prob = tf.squeeze(model_6_pretrained.predict([test_sample])) # our model expects a list as input\\n\",","        \"  pred = tf.round(pred_prob)\\n\",","        \"  print(f\\\"Pred: {int(pred)}, Prob: {pred_prob}\\\")\\n\",","        \"  print(f\\\"Text:\\\\n{test_sample}\\\\n\\\")\\n\",","        \"  print(\\\"-----\\\\n\\\")\"","      ],","      \"execution_count\": null,","      \"outputs\": [","        {","          \"output_type\": \"stream\",","          \"text\": [","            \"Pred: 0, Prob: 0.17732585966587067\\n\",","            \"Text:\\n\",","            \"@LauraE303B @SheilaGunnReid A war we'll never win? There r 2500 Yezidi women trapped as slaves.We know where they are. Doing nothing is evil\\n\",","            \"\\n\",","            \"-----\\n\",","            \"\\n\",","            \"Pred: 0, Prob: 0.04374966397881508\\n\",","            \"Text:\\n\",","            \"(rubs lamp greets genie) just need the 1 wish thanks. pls obliterate anyone who has used the hashtag #youcantsitwithus\\n\",","            \"\\n\",","            \"-----\\n\",","            \"\\n\",","            \"Pred: 1, Prob: 0.9137933850288391\\n\",","            \"Text:\\n\",","            \"Horrible Accident Man Died In Wings of Airplane (29-07-2015) http://t.co/hG8u2kR1Rq\\n\",","            \"\\n\",","            \"-----\\n\",","            \"\\n\",","            \"Pred: 1, Prob: 0.9550248384475708\\n\",","            \"Text:\\n\",","            \"#USGS M 1.9 - 5km S of Volcano Hawaii: Time2015-08-06 01:04:01 UTC2015-08-05 15:04:01 -10:00 at epicenter... http://t.co/meVvkaXcdE #SM\\n\",","            \"\\n\",","            \"-----\\n\",","            \"\\n\",","            \"Pred: 0, Prob: 0.06789832562208176\\n\",","            \"Text:\\n\",","            \"@atlwtmgc damn this blew up\\n\",","            \"\\n\",","            \"-----\\n\",","            \"\\n\",","            \"Pred: 1, Prob: 0.9011690020561218\\n\",","            \"Text:\\n\",","            \"Shot 12 times. Found dead in cuffs after being involved in a car accident. Officers told ambulance not to treat him. https://t.co/MEUDJwaaNg\\n\",","            \"\\n\",","            \"-----\\n\",","            \"\\n\",","            \"Pred: 1, Prob: 0.9532992243766785\\n\",","            \"Text:\\n\",","            \"Obama Declares Disaster for Typhoon-Devastated Saipan: Obama signs disaster declaration for Northern Marians a... http://t.co/AslUFEKOXN\\n\",","            \"\\n\",","            \"-----\\n\",","            \"\\n\",","            \"Pred: 0, Prob: 0.05157076194882393\\n\",","            \"Text:\\n\",","            \"I added a video to a @YouTube playlist http://t.co/DzHDBiajS5 Panic! At The Disco: The Ballad Of Mona Lisa [OFFICIAL VIDEO]\\n\",","            \"\\n\",","            \"-----\\n\",","            \"\\n\",","            \"Pred: 0, Prob: 0.35549232363700867\\n\",","            \"Text:\\n\",","            \"This fly is a major problem for us: It will ruin our batch and we need to destroy it and every trace of it so we can cook.\\n\",","            \"\\n\",","            \"-----\\n\",","            \"\\n\",","            \"Pred: 0, Prob: 0.07776769250631332\\n\",","            \"Text:\\n\",","            \"Paul Hollywood 'what happened....looks like a mudslide... It's like chewing on a rubber tyre... It looks a mess...' Oh dear Dorrett! #GBBO\\n\",","            \"\\n\",","            \"-----\\n\",","            \"\\n\"","          ],","          \"name\": \"stdout\"","        }","      ]","    },","    {","      \"cell_type\": \"markdown\",","      \"metadata\": {","        \"id\": \"h1ARtfoAHQf_\"","      },","      \"source\": [","        \"## Your challenge... predicting on Tweets from the wild\\n\",","        \"\\n\",","        \"Go to your favourite Twitter account and copy one of their latest Tweets.\\n\",","        \"\\n\",","        \"Then pass that Tweet through our trained model.\\n\",","        \"\\n\",","        \"Is that Tweet a disaster or not disaster (according to the model)? Is the model right or wrong?\"","      ]","    },","    {","      \"cell_type\": \"markdown\",","      \"metadata\": {","        \"id\": \"VN-XJuilI1ls\"","      },","      \"source\": [","        \"## The speed/score tradeoff\"","      ]","    },","    {","      \"cell_type\": \"code\",","      \"metadata\": {","        \"id\": \"AIJrWpSfJ9X0\"","      },","      \"source\": [","        \"# Let's make a function to measure the time of prediction\\n\",","        \"import time\\n\",","        \"def pred_timer(model, samples):\\n\",","        \"  \\\"\\\"\\\"\\n\",","        \"  Times how long a model takes to make predictions on samples.\\n\",","        \"  \\\"\\\"\\\"\\n\",","        \"  start_time = time.perf_counter() # get start time\\n\",","        \"  model.predict(samples) # make predictions\\n\",","        \"  end_time = time.perf_counter() # get finish time\\n\",","        \"  total_time = end_time-start_time # calculuate how long predictons took to make\\n\",","        \"  time_per_pred = total_time/len(samples)\\n\",","        \"  return total_time, time_per_pred\"","      ],","      \"execution_count\": null,","      \"outputs\": []","    },","    {","      \"cell_type\": \"code\",","      \"metadata\": {","        \"colab\": {","          \"base_uri\": \"https://localhost:8080/\"","        },","        \"id\": \"8NjtO6ZnKAk8\",","        \"outputId\": \"4dfd5e5e-e814-4802-a39a-b8b6f572284c\"","      },","      \"source\": [","        \"# Calculate TF Hub Sentence Encoder time per pred\\n\",","        \"model_6_total_pred_time, model_6_time_per_pred = pred_timer(model=model_6_pretrained,\\n\",","        \"                                                            samples=val_sentences)\\n\",","        \"model_6_total_pred_time, model_6_time_per_pred\"","      ],","      \"execution_count\": null,","      \"outputs\": [","        {","          \"output_type\": \"execute_result\",","          \"data\": {","            \"text/plain\": [","              \"(0.313799298000049, 0.0004118101023622691)\"","            ]","          },","          \"metadata\": {","            \"tags\": []","          },","          \"execution_count\": 133","        }","      ]","    },","    {","      \"cell_type\": \"code\",","      \"metadata\": {","        \"colab\": {","          \"base_uri\": \"https://localhost:8080/\"","        },","        \"id\": \"QviAtHxrKBYL\",","        \"outputId\": \"6c1f4e96-275a-412d-ce34-0abb5d9b4634\"","      },","      \"source\": [","        \"# Calculate our baseline model times per pred\\n\",","        \"baseline_total_pred_time, baseline_time_per_pred = pred_timer(model_0, val_sentences)\\n\",","        \"baseline_total_pred_time, baseline_time_per_pred\"","      ],","      \"execution_count\": null,","      \"outputs\": [","        {","          \"output_type\": \"execute_result\",","          \"data\": {","            \"text/plain\": [","              \"(0.024128293999638117, 3.16644278210474e-05)\"","            ]","          },","          \"metadata\": {","            \"tags\": []","          },","          \"execution_count\": 134","        }","      ]","    },","    {","      \"cell_type\": \"code\",","      \"metadata\": {","        \"colab\": {","          \"base_uri\": \"https://localhost:8080/\"","        },","        \"id\": \"XpVh0HV7LsAc\",","        \"outputId\": \"d6884e12-6891-45bf-bc40-c981954beaed\"","      },","      \"source\": [","        \"# Get results for pretrained GS model\\n\",","        \"model_6_pretrained_results = calculate_results(y_true=val_labels,\\n\",","        \"                                               y_pred=model_6_pretrained_preds)\\n\",","        \"model_6_pretrained_results\"","      ],","      \"execution_count\": null,","      \"outputs\": [","        {","          \"output_type\": \"execute_result\",","          \"data\": {","            \"text/plain\": [","              \"{'accuracy': 81.62729658792651,\\n\",","              \" 'f1': 0.8148082644367335,\\n\",","              \" 'precision': 0.818446310697231,\\n\",","              \" 'recall': 0.8162729658792651}\"","            ]","          },","          \"metadata\": {","            \"tags\": []","          },","          \"execution_count\": 135","        }","      ]","    },","    {","      \"cell_type\": \"code\",","      \"metadata\": {","        \"colab\": {","          \"base_uri\": \"https://localhost:8080/\",","          \"height\": 458","        },","        \"id\": \"3JHbdjJiLaUP\",","        \"outputId\": \"02ae01e0-70fc-4980-89fb-aaa4cbee2fac\"","      },","      \"source\": [","        \"import matplotlib.pyplot as plt\\n\",","        \"\\n\",","        \"plt.figure(figsize=(10, 7))\\n\",","        \"plt.scatter(baseline_time_per_pred, baseline_results[\\\"f1\\\"], label=\\\"baseline\\\")\\n\",","        \"plt.scatter(model_6_time_per_pred, model_6_pretrained_results[\\\"f1\\\"], label=\\\"tf_hub_sentence_encoder\\\")\\n\",","        \"plt.legend()\\n\",","        \"plt.title(\\\"F1-score versus time per prediction\\\")\\n\",","        \"plt.xlabel(\\\"Time per prediction\\\")\\n\",","        \"plt.ylabel(\\\"F1-score\\\");\"","      ],","      \"execution_count\": null,","      \"outputs\": [","        {","          \"output_type\": \"display_data\",","          \"data\": {","            \"image/png\": \"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\\n\",","            \"text/plain\": [","              \"\u003cFigure size 720x504 with 1 Axes\u003e\"","            ]","          },","          \"metadata\": {","            \"tags\": [],","            \"needs_background\": \"light\"","          }","        }","      ]","    },","    {","      \"cell_type\": \"markdown\",","      \"metadata\": {","        \"id\": \"OTS1fYADMQs3\"","      },","      \"source\": [","        \"\u003e 📖 **Resource:** See all course materials as well as exercises and extra-curriculum for this notebook on GitHub: https://github.com/mrdbourke/tensorflow-deep-learning\"","      ]","    }","  ]","}"],"stylingDirectives":null,"csv":null,"csvError":null,"dependabotInfo":{"showConfigurationBanner":false,"configFilePath":null,"networkDependabotPath":"/mrdbourke/tensorflow-deep-learning/network/updates","dismissConfigurationNoticePath":"/settings/dismiss-notice/dependabot_configuration_notice","configurationNoticeDismissed":false,"repoAlertsPath":"/mrdbourke/tensorflow-deep-learning/security/dependabot","repoSecurityAndAnalysisPath":"/mrdbourke/tensorflow-deep-learning/settings/security_analysis","repoOwnerIsOrg":false,"currentUserCanAdminRepo":false},"displayName":"08_introduction_to_nlp_in_tensorflow_video.ipynb","displayUrl":"https://notebooks.githubusercontent.com/view/ipynb?browser=chrome\u0026bypass_fastly=true\u0026color_mode=auto\u0026commit=1be0f77fbb4e056694a910f403a8f61f1b650eec\u0026device=unknown_device\u0026docs_host=https%3A%2F%2Fdocs.github.com\u0026enc_url=68747470733a2f2f7261772e67697468756275736572636f6e74656e742e636f6d2f6d7264626f75726b652f74656e736f72666c6f772d646565702d6c6561726e696e672f316265306637376662623465303536363934613931306634303361386636316631623635306565632f766964656f5f6e6f7465626f6f6b732f30385f696e74726f64756374696f6e5f746f5f6e6c705f696e5f74656e736f72666c6f775f766964656f2e6970796e62\u0026logged_in=true\u0026nwo=mrdbourke%2Ftensorflow-deep-learning\u0026path=video_notebooks%2F08_introduction_to_nlp_in_tensorflow_video.ipynb\u0026platform=windows\u0026repository_id=315463340\u0026repository_type=Repository\u0026version=119","headerInfo":{"blobSize":"240 KB","deleteInfo":{"deleteTooltip":"Fork this repository and delete the file"},"editInfo":{"editTooltip":"Fork this repository and edit the file"},"ghDesktopPath":"x-github-client://openRepo/https://github.com/mrdbourke/tensorflow-deep-learning?branch=main\u0026filepath=video_notebooks%2F08_introduction_to_nlp_in_tensorflow_video.ipynb","gitLfsPath":null,"onBranch":true,"shortPath":"a0e5029","siteNavLoginPath":"/login?return_to=https%3A%2F%2Fgithub.com%2Fmrdbourke%2Ftensorflow-deep-learning%2Fblob%2Fmain%2Fvideo_notebooks%2F08_introduction_to_nlp_in_tensorflow_video.ipynb","isCSV":false,"isRichtext":false,"toc":null,"lineInfo":{"truncatedLoc":"5149","truncatedSloc":"5149"},"mode":"file"},"image":false,"isCodeownersFile":null,"isPlain":false,"isValidLegacyIssueTemplate":false,"issueTemplateHelpUrl":"https://docs.github.com/articles/about-issue-and-pull-request-templates","issueTemplate":null,"discussionTemplate":null,"language":"Jupyter Notebook","languageID":185,"large":false,"loggedIn":true,"newDiscussionPath":"/mrdbourke/tensorflow-deep-learning/discussions/new","newIssuePath":"/mrdbourke/tensorflow-deep-learning/issues/new","planSupportInfo":{"repoIsFork":null,"repoOwnedByCurrentUser":null,"requestFullPath":"/mrdbourke/tensorflow-deep-learning/blob/main/video_notebooks/08_introduction_to_nlp_in_tensorflow_video.ipynb","showFreeOrgGatedFeatureMessage":null,"showPlanSupportBanner":null,"upgradeDataAttributes":null,"upgradePath":null},"publishBannersInfo":{"dismissActionNoticePath":"/settings/dismiss-notice/publish_action_from_dockerfile","dismissStackNoticePath":"/settings/dismiss-notice/publish_stack_from_file","releasePath":"/mrdbourke/tensorflow-deep-learning/releases/new?marketplace=true","showPublishActionBanner":false,"showPublishStackBanner":false},"rawBlobUrl":"https://github.com/mrdbourke/tensorflow-deep-learning/raw/main/video_notebooks/08_introduction_to_nlp_in_tensorflow_video.ipynb","renderImageOrRaw":false,"richText":null,"renderedFileInfo":{"identityUUID":"9688206b-e85f-4399-9e6d-51d10cae1dff","renderFileType":"ipynb","size":245930},"shortPath":null,"tabSize":8,"topBannersInfo":{"overridingGlobalFundingFile":false,"globalPreferredFundingPath":null,"repoOwner":"mrdbourke","repoName":"tensorflow-deep-learning","showInvalidCitationWarning":false,"citationHelpUrl":"https://docs.github.com/en/github/creating-cloning-and-archiving-repositories/creating-a-repository-on-github/about-citation-files","showDependabotConfigurationBanner":false,"actionsOnboardingTip":null},"truncated":false,"viewable":true,"workflowRedirectUrl":null,"symbols":{"timedOut":false,"notAnalyzed":true,"symbols":[]}},"copilotInfo":{"documentationUrl":"https://docs.github.com/copilot/overview-of-github-copilot/about-github-copilot-for-individuals","notices":{"codeViewPopover":{"dismissed":false,"dismissPath":"/settings/dismiss-notice/code_view_copilot_popover"}},"userAccess":{"accessAllowed":false,"hasSubscriptionEnded":false,"orgHasCFBAccess":false,"userHasCFIAccess":false,"userHasOrgs":false,"userIsOrgAdmin":false,"userIsOrgMember":false,"business":null,"featureRequestInfo":null}},"copilotAccessAllowed":false,"csrf_tokens":{"/mrdbourke/tensorflow-deep-learning/branches":{"post":"kOPcu83TrR0Mu0pwWVlmY2uZz58Nb1NOJFNzTpNcQMXpNm8eJ1lPjJGHaVJ_Sba-dMsT899V86BHyF71MX1lwg"},"/repos/preferences":{"post":"DQIO-IMY8yuCbeCffuNTrWvpusBtFX04-ZYsObp-CG7zZGrnqzGAXhYYeWhP3bEzSRf2q30GTYCt_R5v1yIPWQ"}}},"title":"tensorflow-deep-learning/video_notebooks/08_introduction_to_nlp_in_tensorflow_video.ipynb at main · mrdbourke/tensorflow-deep-learning","appPayload":{"helpUrl":"https://docs.github.com","findFileWorkerPath":"/assets-cdn/worker/find-file-worker-32bb159cc57c.js","findInFileWorkerPath":"/assets-cdn/worker/find-in-file-worker-ce6d5c15d2a1.js","githubDevUrl":"https://github.dev/","enabled_features":{"code_nav_ui_events":false,"copilot_conversational_ux":false,"copilot_conversational_ux_embedding_update":false,"copilot_conversational_ux_streaming":true,"copilot_popover_file_editor_header":true,"copilot_smell_icebreaker_ux":false}}}</script>
  <div data-target="react-app.reactRoot"><style data-styled="true" data-styled-version="5.3.6">.fNPcqd{font-weight:600;font-size:32px;margin:0;font-size:14px;}/*!sc*/
.imcwCi{font-weight:600;font-size:32px;margin:0;font-size:16px;margin-left:8px;}/*!sc*/
.cgQnMS{font-weight:600;font-size:32px;margin:0;}/*!sc*/
.diwsLq{font-weight:600;font-size:32px;margin:0;font-weight:600;display:inline-block;max-width:100%;font-size:16px;}/*!sc*/
.jAEDJk{font-weight:600;font-size:32px;margin:0;font-weight:600;display:inline-block;max-width:100%;font-size:14px;}/*!sc*/
data-styled.g1[id="Heading__StyledHeading-sc-1c1dgg0-0"]{content:"fNPcqd,imcwCi,cgQnMS,diwsLq,jAEDJk,"}/*!sc*/
.fSWWem{padding:0;}/*!sc*/
.kPPmzM{max-width:100%;margin-left:auto;margin-right:auto;display:-webkit-box;display:-webkit-flex;display:-ms-flexbox;display:flex;-webkit-flex-wrap:wrap;-ms-flex-wrap:wrap;flex-wrap:wrap;}/*!sc*/
.cIAPDV{display:-webkit-box;display:-webkit-flex;display:-ms-flexbox;display:flex;-webkit-flex:1 1 100%;-ms-flex:1 1 100%;flex:1 1 100%;-webkit-flex-wrap:wrap;-ms-flex-wrap:wrap;flex-wrap:wrap;max-width:100%;}/*!sc*/
.gvCnwW{width:100%;}/*!sc*/
@media screen and (min-width:544px){.gvCnwW{width:100%;}}/*!sc*/
@media screen and (min-width:768px){.gvCnwW{width:auto;}}/*!sc*/
.ioxSsX{display:-webkit-box;display:-webkit-flex;display:-ms-flexbox;display:flex;-webkit-order:1;-ms-flex-order:1;order:1;width:100%;margin-left:0;margin-right:0;-webkit-flex-direction:column;-ms-flex-direction:column;flex-direction:column;margin-bottom:0;min-width:0;}/*!sc*/
@media screen and (min-width:544px){.ioxSsX{-webkit-flex-direction:column;-ms-flex-direction:column;flex-direction:column;}}/*!sc*/
@media screen and (min-width:768px){.ioxSsX{width:auto;margin-top:0 !important;margin-bottom:0 !important;position:-webkit-sticky;position:sticky;top:0px;max-height:var(--sticky-pane-height);-webkit-flex-direction:row-reverse;-ms-flex-direction:row-reverse;flex-direction:row-reverse;margin-right:0;}}/*!sc*/
@media screen and (min-width:769px){.ioxSsX{height:100vh;max-height:100vh !important;}}/*!sc*/
@media print,screen and (max-width:1011px) and (min-width:768px){.ioxSsX{display:none;}}/*!sc*/
.eUyHuk{margin-left:0;margin-right:0;display:none;margin-top:0;}/*!sc*/
@media screen and (min-width:768px){.eUyHuk{margin-left:0 !important;margin-right:0 !important;}}/*!sc*/
.hAeDYA{height:100%;position:relative;display:none;margin-left:0;}/*!sc*/
.ekKrwo{position:absolute;inset:0 -2px;cursor:col-resize;background-color:transparent;-webkit-transition-delay:0.1s;transition-delay:0.1s;}/*!sc*/
.ekKrwo:hover{background-color:rgba(175,184,193,0.2);}/*!sc*/
.gNdDUH{--pane-min-width:256px;--pane-max-width-diff:511px;--pane-max-width:calc(100vw - var(--pane-max-width-diff));width:100%;padding:0;}/*!sc*/
@media screen and (min-width:544px){}/*!sc*/
@media screen and (min-width:768px){.gNdDUH{width:clamp(var(--pane-min-width),var(--pane-width),var(--pane-max-width));overflow:auto;}}/*!sc*/
@media screen and (min-width:1280px){.gNdDUH{--pane-max-width-diff:959px;}}/*!sc*/
.jywUSN{max-height:100%;height:100%;display:-webkit-box;display:-webkit-flex;display:-ms-flexbox;display:flex;-webkit-flex-direction:column;-ms-flex-direction:column;flex-direction:column;}/*!sc*/
@media screen and (max-width:768px){.jywUSN{display:none;}}/*!sc*/
@media screen and (min-width:768px){.jywUSN{max-height:100vh;height:100vh;}}/*!sc*/
.hBSSUC{display:-webkit-box;display:-webkit-flex;display:-ms-flexbox;display:flex;-webkit-flex-direction:column;-ms-flex-direction:column;flex-direction:column;-webkit-align-items:center;-webkit-box-align:center;-ms-flex-align:center;align-items:center;padding-left:16px;padding-right:16px;padding-bottom:8px;padding-top:16px;}/*!sc*/
.iPurHz{display:-webkit-box;display:-webkit-flex;display:-ms-flexbox;display:flex;width:100%;margin-bottom:16px;-webkit-align-items:center;-webkit-box-align:center;-ms-flex-align:center;align-items:center;}/*!sc*/
.kkrdEu{-webkit-box-pack:center;-webkit-justify-content:center;-ms-flex-pack:center;justify-content:center;}/*!sc*/
.trpoQ{display:-webkit-box;display:-webkit-flex;display:-ms-flexbox;display:flex;pointer-events:none;}/*!sc*/
.hVHHYa{margin-left:24px;margin-right:24px;display:-webkit-box;display:-webkit-flex;display:-ms-flexbox;display:flex;width:100%;}/*!sc*/
.idZfsJ{-webkit-box-flex:1;-webkit-flex-grow:1;-ms-flex-positive:1;flex-grow:1;}/*!sc*/
.bKgizp{display:-webkit-box;display:-webkit-flex;display:-ms-flexbox;display:flex;width:100%;}/*!sc*/
.kYlvBX{margin-right:4px;color:#656d76;}/*!sc*/
.caeYDk{font-size:14px;min-width:0;overflow:hidden;text-overflow:ellipsis;white-space:nowrap;}/*!sc*/
.jahcnb{margin-left:8px;white-space:nowrap;}/*!sc*/
.jahcnb:hover button:not(:hover){border-left-color:var(--button-default-borderColor-hover,var(--color-btn-hover-border));}/*!sc*/
.ccToMy{margin-left:16px;margin-right:16px;margin-bottom:12px;}/*!sc*/
@media screen and (max-width:768px){.ccToMy{display:none;}}/*!sc*/
.cNvKlH{margin-right:-6px;}/*!sc*/
.cLfAnm{-webkit-box-flex:1;-webkit-flex-grow:1;-ms-flex-positive:1;flex-grow:1;max-height:100% !important;overflow-y:auto;-webkit-scrollbar-gutter:stable;-moz-scrollbar-gutter:stable;-ms-scrollbar-gutter:stable;scrollbar-gutter:stable;}/*!sc*/
@media screen and (max-width:768px){.cLfAnm{display:none;}}/*!sc*/
.erWCJP{padding-left:16px;padding-right:16px;padding-bottom:8px;}/*!sc*/
@media (min-height:600px) and (min-width:768px){.hwhShM{display:none;}}/*!sc*/
.cYPxpP{margin-top:8px;margin-left:16px;margin-right:16px;margin-bottom:12px;font-size:12px;-webkit-align-items:center;-webkit-box-align:center;-ms-flex-align:center;align-items:center;}/*!sc*/
@media (max-height:599px),(max-width:767px){.fBtiVT{display:none;}}/*!sc*/
.emFMJu{display:-webkit-box;display:-webkit-flex;display:-ms-flexbox;display:flex;-webkit-flex-direction:column;-ms-flex-direction:column;flex-direction:column;-webkit-order:2;-ms-flex-order:2;order:2;-webkit-flex-basis:0;-ms-flex-preferred-size:0;flex-basis:0;-webkit-box-flex:1;-webkit-flex-grow:1;-ms-flex-positive:1;flex-grow:1;-webkit-flex-shrink:1;-ms-flex-negative:1;flex-shrink:1;min-width:1px;margin-right:auto;}/*!sc*/
@media print{.emFMJu{display:-webkit-box !important;display:-webkit-flex !important;display:-ms-flexbox !important;display:flex !important;}}/*!sc*/
.hlUAHL{width:100%;max-width:100%;margin-left:auto;margin-right:auto;-webkit-box-flex:1;-webkit-flex-grow:1;-ms-flex-positive:1;flex-grow:1;padding:0;}/*!sc*/
.iStsmI{margin-left:auto;margin-right:auto;-webkit-flex-direction:column;-ms-flex-direction:column;flex-direction:column;padding-bottom:40px;max-width:100%;margin-top:0;}/*!sc*/
.eIgvIk{display:inherit;}/*!sc*/
.eVFfWF{width:100%;}/*!sc*/
.kgXdnT{padding:16px;padding-bottom:0;}/*!sc*/
.kzTa-dF{display:-webkit-box;display:-webkit-flex;display:-ms-flexbox;display:flex;-webkit-flex-direction:column;-ms-flex-direction:column;flex-direction:column;-webkit-box-pack:justify;-webkit-justify-content:space-between;-ms-flex-pack:justify;justify-content:space-between;gap:16px;width:100%;}/*!sc*/
.bbXCl{display:-webkit-box;display:-webkit-flex;display:-ms-flexbox;display:flex;-webkit-flex-direction:row;-ms-flex-direction:row;flex-direction:row;-webkit-align-items:start;-webkit-box-align:start;-ms-flex-align:start;align-items:start;-webkit-box-pack:justify;-webkit-justify-content:space-between;-ms-flex-pack:justify;justify-content:space-between;}/*!sc*/
.hGGMNu{display:-webkit-box;display:-webkit-flex;display:-ms-flexbox;display:flex;-webkit-flex-direction:row;-ms-flex-direction:row;flex-direction:row;-webkit-align-items:start;-webkit-box-align:start;-ms-flex-align:start;align-items:start;-webkit-box-pack:justify;-webkit-justify-content:space-between;-ms-flex-pack:justify;justify-content:space-between;justify-self:flex-end;}/*!sc*/
.eHRrYV{margin-left:8px;margin-right:8px;}/*!sc*/
.dKmYfk{font-size:14px;min-width:0;max-width:125px;overflow:hidden;text-overflow:ellipsis;white-space:nowrap;}/*!sc*/
.hSNzKh{justify-self:end;max-width:100%;}/*!sc*/
.eTvGbF{display:-webkit-box;display:-webkit-flex;display:-ms-flexbox;display:flex;-webkit-flex-direction:row;-ms-flex-direction:row;flex-direction:row;font-size:16px;min-width:0;-webkit-flex-shrink:1;-ms-flex-negative:1;flex-shrink:1;-webkit-flex-wrap:wrap;-ms-flex-wrap:wrap;flex-wrap:wrap;max-width:100%;-webkit-align-items:center;-webkit-box-align:center;-ms-flex-align:center;align-items:center;}/*!sc*/
.kzRgrI{max-width:100%;}/*!sc*/
.cmAPIB{max-width:100%;list-style:none;display:inline-block;}/*!sc*/
.jwXCBK{display:inline-block;max-width:100%;}/*!sc*/
.bDwCYs{padding:16px;padding-bottom:0;padding-left:16px;padding-right:16px;}/*!sc*/
.fywjmm{display:-webkit-box;display:-webkit-flex;display:-ms-flexbox;display:flex;gap:8px;-webkit-flex-direction:column;-ms-flex-direction:column;flex-direction:column;width:100%;}/*!sc*/
.dyczTK{display:-webkit-box;display:-webkit-flex;display:-ms-flexbox;display:flex;-webkit-align-items:start;-webkit-box-align:start;-ms-flex-align:start;align-items:start;-webkit-box-pack:justify;-webkit-justify-content:space-between;-ms-flex-pack:justify;justify-content:space-between;gap:8px;}/*!sc*/
.kszRgZ{-webkit-align-self:center;-ms-flex-item-align:center;align-self:center;display:-webkit-box;display:-webkit-flex;display:-ms-flexbox;display:flex;padding-right:8px;min-width:0;}/*!sc*/
.gtBUEp{min-height:32px;display:-webkit-box;display:-webkit-flex;display:-ms-flexbox;display:flex;-webkit-align-items:start;-webkit-box-align:start;-ms-flex-align:start;align-items:start;}/*!sc*/
.MERGN{margin-left:16px;margin-right:16px;}/*!sc*/
@media screen and (min-width:1440px){.MERGN{margin-left:16px;}}/*!sc*/
.cMYnca{display:-webkit-box;display:-webkit-flex;display:-ms-flexbox;display:flex;-webkit-flex-direction:column;-ms-flex-direction:column;flex-direction:column;}/*!sc*/
.kLxXov{display:-webkit-box;display:-webkit-flex;display:-ms-flexbox;display:flex;-webkit-flex-direction:column;-ms-flex-direction:column;flex-direction:column;border:1px solid;border-color:#d0d7de;border-radius:6px;margin-bottom:16px;}/*!sc*/
.eYedVD{display:-webkit-box;display:-webkit-flex;display:-ms-flexbox;display:flex;-webkit-flex-direction:row;-ms-flex-direction:row;flex-direction:row;-webkit-box-pack:justify;-webkit-justify-content:space-between;-ms-flex-pack:justify;justify-content:space-between;-webkit-align-items:center;-webkit-box-align:center;-ms-flex-align:center;align-items:center;gap:8px;min-width:273px;padding-right:8px;padding-left:16px;padding-top:8px;padding-bottom:8px;}/*!sc*/
.jGfYmh{display:-webkit-box;display:-webkit-flex;display:-ms-flexbox;display:flex;gap:8px;}/*!sc*/
.lhFvfi{display:-webkit-box;display:-webkit-flex;display:-ms-flexbox;display:flex;-webkit-align-items:center;-webkit-box-align:center;-ms-flex-align:center;align-items:center;}/*!sc*/
.bqgLjk{display:inherit;}/*!sc*/
@media screen and (min-width:544px){.bqgLjk{display:none;}}/*!sc*/
@media screen and (min-width:768px){.bqgLjk{display:none;}}/*!sc*/
.iJmJly{display:-webkit-box;display:-webkit-flex;display:-ms-flexbox;display:flex;-webkit-flex-direction:row;-ms-flex-direction:row;flex-direction:row;}/*!sc*/
.jACbi{width:100%;height:-webkit-fit-content;height:-moz-fit-content;height:fit-content;min-width:0;margin-right:0;}/*!sc*/
.bSdwWB{padding-left:4px;padding-bottom:16px;}/*!sc*/
.fleZSW{-webkit-align-items:center;-webkit-box-align:center;-ms-flex-align:center;align-items:center;}/*!sc*/
.bZpGqz{font-size:12px;-webkit-flex:auto;-ms-flex:auto;flex:auto;padding-right:16px;color:#656d76;min-width:0;}/*!sc*/
.gBKNLX{top:0px;z-index:1;background:var(--color-canvas-default);position:-webkit-sticky;position:sticky;}/*!sc*/
.ePiodO{display:-webkit-box;display:-webkit-flex;display:-ms-flexbox;display:flex;-webkit-flex-direction:column;-ms-flex-direction:column;flex-direction:column;width:100%;position:absolute;}/*!sc*/
.kQJlnf{display:none;min-width:0;padding-top:8px;padding-bottom:8px;}/*!sc*/
.gJICKO{margin-right:8px;margin-left:16px;text-overflow:ellipsis;overflow:hidden;display:-webkit-box;display:-webkit-flex;display:-ms-flexbox;display:flex;-webkit-flex-direction:row;-ms-flex-direction:row;flex-direction:row;-webkit-align-items:center;-webkit-box-align:center;-ms-flex-align:center;align-items:center;-webkit-box-pack:justify;-webkit-justify-content:space-between;-ms-flex-pack:justify;justify-content:space-between;width:100%;}/*!sc*/
.iZJewz{display:-webkit-box;display:-webkit-flex;display:-ms-flexbox;display:flex;-webkit-flex-direction:row;-ms-flex-direction:row;flex-direction:row;font-size:14px;min-width:0;-webkit-flex-shrink:1;-ms-flex-negative:1;flex-shrink:1;-webkit-flex-wrap:wrap;-ms-flex-wrap:wrap;flex-wrap:wrap;max-width:100%;-webkit-align-items:center;-webkit-box-align:center;-ms-flex-align:center;align-items:center;}/*!sc*/
.bvEDG{padding-left:8px;padding-top:8px;padding-bottom:8px;display:-webkit-box;display:-webkit-flex;display:-ms-flexbox;display:flex;-webkit-flex:1;-ms-flex:1;flex:1;-webkit-align-items:center;-webkit-box-align:center;-ms-flex-align:center;align-items:center;-webkit-box-pack:justify;-webkit-justify-content:space-between;-ms-flex-pack:justify;justify-content:space-between;background-color:#f6f8fa;border:1px solid var(--borderColor-default,var(--color-border-default));border-radius:6px 6px 0px 0px;}/*!sc*/
.bfkNRF{display:-webkit-box;display:-webkit-flex;display:-ms-flexbox;display:flex;-webkit-align-items:center;-webkit-box-align:center;-ms-flex-align:center;align-items:center;gap:8px;min-width:0;}/*!sc*/
.fXBLEV{display:block;position:relative;-webkit-box-flex:1;-webkit-flex-grow:1;-ms-flex-positive:1;flex-grow:1;margin-top:-1px;margin-bottom:-1px;--separator-color:transparent;}/*!sc*/
.fXBLEV:not(:last-child){margin-right:1px;}/*!sc*/
.fXBLEV:not(:last-child):after{background-color:var(--separator-color);content:"";position:absolute;right:-2px;top:8px;bottom:8px;width:1px;}/*!sc*/
.fXBLEV:focus-within:has(:focus-visible){--separator-color:transparent;}/*!sc*/
.fXBLEV:first-child{margin-left:-1px;}/*!sc*/
.fXBLEV:last-child{margin-right:-1px;}/*!sc*/
.jkTWSe{display:block;position:relative;-webkit-box-flex:1;-webkit-flex-grow:1;-ms-flex-positive:1;flex-grow:1;margin-top:-1px;margin-bottom:-1px;--separator-color:#d0d7de;}/*!sc*/
.jkTWSe:not(:last-child){margin-right:1px;}/*!sc*/
.jkTWSe:not(:last-child):after{background-color:var(--separator-color);content:"";position:absolute;right:-2px;top:8px;bottom:8px;width:1px;}/*!sc*/
.jkTWSe:focus-within:has(:focus-visible){--separator-color:transparent;}/*!sc*/
.jkTWSe:first-child{margin-left:-1px;}/*!sc*/
.jkTWSe:last-child{margin-right:-1px;}/*!sc*/
.iBylDf{display:-webkit-box;display:-webkit-flex;display:-ms-flexbox;display:flex;-webkit-align-items:center;-webkit-box-align:center;-ms-flex-align:center;align-items:center;gap:8px;margin-right:8px;}/*!sc*/
.kSGBPx{gap:8px;}/*!sc*/
.flDsrw{border:1px solid;border-top:none;border-color:#d0d7de;border-radius:0px 0px 6px 6px;min-width:273px;}/*!sc*/
.eJsjkT{background-color:var(--bgColor-default,var(--color-canvas-default));border:0px;border-width:0;border-radius:0px 0px 6px 6px;padding:0;min-width:0;margin-top:46px;overflow:auto;}/*!sc*/
.aZrVR{position:fixed;top:0;right:0;height:100%;width:15px;-webkit-transition:-webkit-transform 0.3s;-webkit-transition:transform 0.3s;transition:transform 0.3s;z-index:1;}/*!sc*/
.aZrVR:hover{-webkit-transform:scaleX(1.5);-ms-transform:scaleX(1.5);transform:scaleX(1.5);}/*!sc*/
.bAzdCq{display:-webkit-box;display:-webkit-flex;display:-ms-flexbox;display:flex;-webkit-flex-direction:column;-ms-flex-direction:column;flex-direction:column;-webkit-align-items:center;-webkit-box-align:center;-ms-flex-align:center;align-items:center;padding-top:16px;padding-bottom:16px;}/*!sc*/
data-styled.g2[id="Box-sc-g0xbh4-0"]{content:"fSWWem,kPPmzM,cIAPDV,gvCnwW,ioxSsX,eUyHuk,hAeDYA,ekKrwo,gNdDUH,jywUSN,hBSSUC,iPurHz,kkrdEu,trpoQ,hVHHYa,idZfsJ,bKgizp,kYlvBX,caeYDk,jahcnb,ccToMy,cNvKlH,cLfAnm,erWCJP,hwhShM,cYPxpP,fBtiVT,emFMJu,hlUAHL,iStsmI,eIgvIk,eVFfWF,kgXdnT,kzTa-dF,bbXCl,hGGMNu,eHRrYV,dKmYfk,hSNzKh,eTvGbF,kzRgrI,cmAPIB,jwXCBK,bDwCYs,fywjmm,dyczTK,kszRgZ,gtBUEp,MERGN,cMYnca,kLxXov,eYedVD,jGfYmh,lhFvfi,bqgLjk,iJmJly,jACbi,bSdwWB,fleZSW,bZpGqz,gBKNLX,ePiodO,kQJlnf,gJICKO,iZJewz,bvEDG,bfkNRF,fXBLEV,jkTWSe,iBylDf,kSGBPx,flDsrw,eJsjkT,aZrVR,bAzdCq,"}/*!sc*/
.rTZSs{position:absolute;width:1px;height:1px;padding:0;margin:-1px;overflow:hidden;-webkit-clip:rect(0,0,0,0);clip:rect(0,0,0,0);white-space:nowrap;border-width:0;}/*!sc*/
data-styled.g4[id="_VisuallyHidden__VisuallyHidden-sc-11jhm7a-0"]{content:"rTZSs,"}/*!sc*/
.fUpWeN{display:inline-block;overflow:hidden;text-overflow:ellipsis;vertical-align:top;white-space:nowrap;max-width:125px;max-width:100%;}/*!sc*/
data-styled.g6[id="Truncate__StyledTruncate-sc-23o1d2-0"]{content:"fUpWeN,"}/*!sc*/
.fIqerb{color:#0969da;-webkit-text-decoration:none;text-decoration:none;}/*!sc*/
.fIqerb:hover{-webkit-text-decoration:underline;text-decoration:underline;}/*!sc*/
.fIqerb:is(button){display:inline-block;padding:0;font-size:inherit;white-space:nowrap;cursor:pointer;-webkit-user-select:none;-moz-user-select:none;-ms-user-select:none;user-select:none;background-color:transparent;border:0;-webkit-appearance:none;-moz-appearance:none;appearance:none;}/*!sc*/
.eVjWum{color:#0969da;-webkit-text-decoration:none;text-decoration:none;font-weight:600;}/*!sc*/
.eVjWum:hover{-webkit-text-decoration:underline;text-decoration:underline;}/*!sc*/
.eVjWum:is(button){display:inline-block;padding:0;font-size:inherit;white-space:nowrap;cursor:pointer;-webkit-user-select:none;-moz-user-select:none;-ms-user-select:none;user-select:none;background-color:transparent;border:0;-webkit-appearance:none;-moz-appearance:none;appearance:none;}/*!sc*/
.dYxKVs{color:#0969da;-webkit-text-decoration:none;text-decoration:none;font-weight:400;}/*!sc*/
.dYxKVs:hover{-webkit-text-decoration:underline;text-decoration:underline;}/*!sc*/
.dYxKVs:is(button){display:inline-block;padding:0;font-size:inherit;white-space:nowrap;cursor:pointer;-webkit-user-select:none;-moz-user-select:none;-ms-user-select:none;user-select:none;background-color:transparent;border:0;-webkit-appearance:none;-moz-appearance:none;appearance:none;}/*!sc*/
data-styled.g8[id="Link__StyledLink-sc-14289xe-0"]{content:"fIqerb,eVjWum,dYxKVs,"}/*!sc*/
.hPEVNM{-webkit-animation:rotate-keyframes 1s linear infinite;animation:rotate-keyframes 1s linear infinite;}/*!sc*/
@-webkit-keyframes rotate-keyframes{100%{-webkit-transform:rotate(360deg);-ms-transform:rotate(360deg);transform:rotate(360deg);}}/*!sc*/
@keyframes rotate-keyframes{100%{-webkit-transform:rotate(360deg);-ms-transform:rotate(360deg);transform:rotate(360deg);}}/*!sc*/
data-styled.g25[id="Spinner__StyledSpinner-sc-1knt686-0"]{content:"hPEVNM,"}/*!sc*/
.cgNHBf{font-size:14px;line-height:20px;color:#1F2328;vertical-align:middle;background-color:#ffffff;border:1px solid var(--control-borderColor-rest,#d0d7de);border-radius:6px;outline:none;box-shadow:inset 0 1px 0 rgba(208,215,222,0.2);display:-webkit-inline-box;display:-webkit-inline-flex;display:-ms-inline-flexbox;display:inline-flex;-webkit-align-items:stretch;-webkit-box-align:stretch;-ms-flex-align:stretch;align-items:stretch;min-height:32px;display:-webkit-box;display:-webkit-flex;display:-ms-flexbox;display:flex;min-width:200px;}/*!sc*/
.cgNHBf input,.cgNHBf textarea{cursor:text;}/*!sc*/
.cgNHBf select{cursor:pointer;}/*!sc*/
.cgNHBf::-webkit-input-placeholder{color:#6e7781;}/*!sc*/
.cgNHBf::-moz-placeholder{color:#6e7781;}/*!sc*/
.cgNHBf:-ms-input-placeholder{color:#6e7781;}/*!sc*/
.cgNHBf::placeholder{color:#6e7781;}/*!sc*/
.cgNHBf:focus-within{border-color:#0969da;outline:none;box-shadow:inset 0 0 0 1px #0969da;}/*!sc*/
.cgNHBf > textarea{padding:12px;}/*!sc*/
@media (min-width:768px){.cgNHBf{font-size:14px;}}/*!sc*/
data-styled.g26[id="TextInputWrapper__TextInputBaseWrapper-sc-1mqhpbi-0"]{content:"cgNHBf,"}/*!sc*/
.hDoBEw{background-repeat:no-repeat;background-position:right 8px center;padding-left:12px;padding-right:12px;display:-webkit-box;display:-webkit-flex;display:-ms-flexbox;display:flex;min-width:200px;}/*!sc*/
.hDoBEw > :not(:last-child){margin-right:8px;}/*!sc*/
.hDoBEw .TextInput-icon,.hDoBEw .TextInput-action{-webkit-align-self:center;-ms-flex-item-align:center;align-self:center;color:#656d76;-webkit-flex-shrink:0;-ms-flex-negative:0;flex-shrink:0;}/*!sc*/
.hDoBEw > input,.hDoBEw > select{padding-left:0;padding-right:0;}/*!sc*/
data-styled.g27[id="TextInputWrapper-sc-1mqhpbi-1"]{content:"hDoBEw,"}/*!sc*/
.CtaSm{border-radius:6px;border:1px solid;border-color:transparent;font-family:inherit;font-weight:500;font-size:14px;cursor:pointer;-webkit-appearance:none;-moz-appearance:none;appearance:none;-webkit-user-select:none;-moz-user-select:none;-ms-user-select:none;user-select:none;-webkit-text-decoration:none;text-decoration:none;text-align:center;display:-webkit-box;display:-webkit-flex;display:-ms-flexbox;display:flex;-webkit-align-items:center;-webkit-box-align:center;-ms-flex-align:center;align-items:center;-webkit-box-pack:justify;-webkit-justify-content:space-between;-ms-flex-pack:justify;justify-content:space-between;height:32px;padding:0 12px;gap:8px;min-width:-webkit-max-content;min-width:-moz-max-content;min-width:max-content;-webkit-transition:80ms cubic-bezier(0.65,0,0.35,1);transition:80ms cubic-bezier(0.65,0,0.35,1);-webkit-transition-property:color,fill,background-color,border-color;transition-property:color,fill,background-color,border-color;color:#24292f;background-color:transparent;box-shadow:none;}/*!sc*/
.CtaSm:focus:not(:disabled){box-shadow:none;outline:2px solid #0969da;outline-offset:-2px;}/*!sc*/
.CtaSm:focus:not(:disabled):not(:focus-visible){outline:solid 1px transparent;}/*!sc*/
.CtaSm:focus-visible:not(:disabled){box-shadow:none;outline:2px solid #0969da;outline-offset:-2px;}/*!sc*/
.CtaSm[href]{display:-webkit-inline-box;display:-webkit-inline-flex;display:-ms-inline-flexbox;display:inline-flex;}/*!sc*/
.CtaSm[href]:hover{-webkit-text-decoration:none;text-decoration:none;}/*!sc*/
.CtaSm:hover{-webkit-transition-duration:80ms;transition-duration:80ms;}/*!sc*/
.CtaSm:active{-webkit-transition:none;transition:none;}/*!sc*/
.CtaSm:disabled{cursor:not-allowed;box-shadow:none;color:#8c959f;}/*!sc*/
.CtaSm:disabled [data-component=ButtonCounter],.CtaSm:disabled [data-component="leadingVisual"],.CtaSm:disabled [data-component="trailingAction"]{color:inherit;}/*!sc*/
@media (forced-colors:active){.CtaSm:focus{outline:solid 1px transparent;}}/*!sc*/
.CtaSm [data-component=ButtonCounter]{font-size:12px;}/*!sc*/
.CtaSm[data-component=IconButton]{display:inline-grid;padding:unset;place-content:center;width:32px;min-width:unset;}/*!sc*/
.CtaSm[data-size="small"]{padding:0 8px;height:28px;gap:4px;font-size:12px;}/*!sc*/
.CtaSm[data-size="small"] [data-component="text"]{line-height:calc(20 / 12);}/*!sc*/
.CtaSm[data-size="small"] [data-component=ButtonCounter]{font-size:12px;}/*!sc*/
.CtaSm[data-size="small"] [data-component="buttonContent"] > :not(:last-child){margin-right:4px;}/*!sc*/
.CtaSm[data-size="small"][data-component=IconButton]{width:28px;padding:unset;}/*!sc*/
.CtaSm[data-size="large"]{padding:0 16px;height:40px;gap:8px;}/*!sc*/
.CtaSm[data-size="large"] [data-component="buttonContent"] > :not(:last-child){margin-right:8px;}/*!sc*/
.CtaSm[data-size="large"][data-component=IconButton]{width:40px;padding:unset;}/*!sc*/
.CtaSm[data-block="block"]{width:100%;}/*!sc*/
.CtaSm [data-component="leadingVisual"]{grid-area:leadingVisual;color:#656d76;}/*!sc*/
.CtaSm [data-component="text"]{grid-area:text;line-height:calc(20/14);white-space:nowrap;}/*!sc*/
.CtaSm [data-component="trailingVisual"]{grid-area:trailingVisual;}/*!sc*/
.CtaSm [data-component="trailingAction"]{margin-right:-4px;color:#656d76;}/*!sc*/
.CtaSm [data-component="buttonContent"]{-webkit-flex:1 0 auto;-ms-flex:1 0 auto;flex:1 0 auto;display:grid;grid-template-areas:"leadingVisual text trailingVisual";grid-template-columns:min-content minmax(0,auto) min-content;-webkit-align-items:center;-webkit-box-align:center;-ms-flex-align:center;align-items:center;-webkit-align-content:center;-ms-flex-line-pack:center;align-content:center;}/*!sc*/
.CtaSm [data-component="buttonContent"] > :not(:last-child){margin-right:8px;}/*!sc*/
.CtaSm:hover:not([disabled]){background-color:rgba(208,215,222,0.32);}/*!sc*/
.CtaSm:active:not([disabled]){background-color:rgba(208,215,222,0.48);}/*!sc*/
.CtaSm[aria-expanded=true]{background-color:rgba(208,215,222,0.24);}/*!sc*/
.CtaSm[data-component="IconButton"][data-no-visuals]{color:#656d76;}/*!sc*/
.CtaSm[data-no-visuals]{color:#0969da;}/*!sc*/
.CtaSm:has([data-component="ButtonCounter"]){color:#24292f;}/*!sc*/
.CtaSm:disabled[data-no-visuals]{color:#8c959f;}/*!sc*/
.CtaSm:disabled[data-no-visuals] [data-component=ButtonCounter]{color:inherit;}/*!sc*/
.CtaSm{color:#656d76;padding-left:8px;padding-right:8px;display:none;}/*!sc*/
@media screen and (max-width:768px){.CtaSm{display:block;}}/*!sc*/
.edBXBM{border-radius:6px;border:1px solid;border-color:transparent;font-family:inherit;font-weight:500;font-size:14px;cursor:pointer;-webkit-appearance:none;-moz-appearance:none;appearance:none;-webkit-user-select:none;-moz-user-select:none;-ms-user-select:none;user-select:none;-webkit-text-decoration:none;text-decoration:none;text-align:center;display:-webkit-box;display:-webkit-flex;display:-ms-flexbox;display:flex;-webkit-align-items:center;-webkit-box-align:center;-ms-flex-align:center;align-items:center;-webkit-box-pack:justify;-webkit-justify-content:space-between;-ms-flex-pack:justify;justify-content:space-between;height:32px;padding:0 12px;gap:8px;min-width:-webkit-max-content;min-width:-moz-max-content;min-width:max-content;-webkit-transition:80ms cubic-bezier(0.65,0,0.35,1);transition:80ms cubic-bezier(0.65,0,0.35,1);-webkit-transition-property:color,fill,background-color,border-color;transition-property:color,fill,background-color,border-color;color:#24292f;background-color:transparent;box-shadow:none;}/*!sc*/
.edBXBM:focus:not(:disabled){box-shadow:none;outline:2px solid #0969da;outline-offset:-2px;}/*!sc*/
.edBXBM:focus:not(:disabled):not(:focus-visible){outline:solid 1px transparent;}/*!sc*/
.edBXBM:focus-visible:not(:disabled){box-shadow:none;outline:2px solid #0969da;outline-offset:-2px;}/*!sc*/
.edBXBM[href]{display:-webkit-inline-box;display:-webkit-inline-flex;display:-ms-inline-flexbox;display:inline-flex;}/*!sc*/
.edBXBM[href]:hover{-webkit-text-decoration:none;text-decoration:none;}/*!sc*/
.edBXBM:hover{-webkit-transition-duration:80ms;transition-duration:80ms;}/*!sc*/
.edBXBM:active{-webkit-transition:none;transition:none;}/*!sc*/
.edBXBM:disabled{cursor:not-allowed;box-shadow:none;color:#8c959f;}/*!sc*/
.edBXBM:disabled [data-component=ButtonCounter],.edBXBM:disabled [data-component="leadingVisual"],.edBXBM:disabled [data-component="trailingAction"]{color:inherit;}/*!sc*/
@media (forced-colors:active){.edBXBM:focus{outline:solid 1px transparent;}}/*!sc*/
.edBXBM [data-component=ButtonCounter]{font-size:12px;}/*!sc*/
.edBXBM[data-component=IconButton]{display:inline-grid;padding:unset;place-content:center;width:32px;min-width:unset;}/*!sc*/
.edBXBM[data-size="small"]{padding:0 8px;height:28px;gap:4px;font-size:12px;}/*!sc*/
.edBXBM[data-size="small"] [data-component="text"]{line-height:calc(20 / 12);}/*!sc*/
.edBXBM[data-size="small"] [data-component=ButtonCounter]{font-size:12px;}/*!sc*/
.edBXBM[data-size="small"] [data-component="buttonContent"] > :not(:last-child){margin-right:4px;}/*!sc*/
.edBXBM[data-size="small"][data-component=IconButton]{width:28px;padding:unset;}/*!sc*/
.edBXBM[data-size="large"]{padding:0 16px;height:40px;gap:8px;}/*!sc*/
.edBXBM[data-size="large"] [data-component="buttonContent"] > :not(:last-child){margin-right:8px;}/*!sc*/
.edBXBM[data-size="large"][data-component=IconButton]{width:40px;padding:unset;}/*!sc*/
.edBXBM[data-block="block"]{width:100%;}/*!sc*/
.edBXBM [data-component="leadingVisual"]{grid-area:leadingVisual;color:#656d76;}/*!sc*/
.edBXBM [data-component="text"]{grid-area:text;line-height:calc(20/14);white-space:nowrap;}/*!sc*/
.edBXBM [data-component="trailingVisual"]{grid-area:trailingVisual;}/*!sc*/
.edBXBM [data-component="trailingAction"]{margin-right:-4px;color:#656d76;}/*!sc*/
.edBXBM [data-component="buttonContent"]{-webkit-flex:1 0 auto;-ms-flex:1 0 auto;flex:1 0 auto;display:grid;grid-template-areas:"leadingVisual text trailingVisual";grid-template-columns:min-content minmax(0,auto) min-content;-webkit-align-items:center;-webkit-box-align:center;-ms-flex-align:center;align-items:center;-webkit-align-content:center;-ms-flex-line-pack:center;align-content:center;}/*!sc*/
.edBXBM [data-component="buttonContent"] > :not(:last-child){margin-right:8px;}/*!sc*/
.edBXBM:hover:not([disabled]){background-color:rgba(208,215,222,0.32);}/*!sc*/
.edBXBM:active:not([disabled]){background-color:rgba(208,215,222,0.48);}/*!sc*/
.edBXBM[aria-expanded=true]{background-color:rgba(208,215,222,0.24);}/*!sc*/
.edBXBM[data-component="IconButton"][data-no-visuals]{color:#656d76;}/*!sc*/
.edBXBM[data-no-visuals]{color:#656d76;height:32px;position:relative;}/*!sc*/
@media screen and (max-width:768px){.edBXBM[data-no-visuals]{display:none;}}/*!sc*/
.edBXBM:has([data-component="ButtonCounter"]){color:#24292f;}/*!sc*/
.edBXBM:disabled[data-no-visuals]{color:#8c959f;}/*!sc*/
.edBXBM:disabled[data-no-visuals] [data-component=ButtonCounter]{color:inherit;}/*!sc*/
.woUrt{border-radius:6px;border:1px solid;border-color:var(--button-default-borderColor-rest,rgba(31,35,40,0.15));font-family:inherit;font-weight:500;font-size:14px;cursor:pointer;-webkit-appearance:none;-moz-appearance:none;appearance:none;-webkit-user-select:none;-moz-user-select:none;-ms-user-select:none;user-select:none;-webkit-text-decoration:none;text-decoration:none;text-align:center;display:-webkit-box;display:-webkit-flex;display:-ms-flexbox;display:flex;-webkit-align-items:center;-webkit-box-align:center;-ms-flex-align:center;align-items:center;-webkit-box-pack:justify;-webkit-justify-content:space-between;-ms-flex-pack:justify;justify-content:space-between;height:32px;padding:0 12px;gap:8px;min-width:-webkit-max-content;min-width:-moz-max-content;min-width:max-content;-webkit-transition:80ms cubic-bezier(0.65,0,0.35,1);transition:80ms cubic-bezier(0.65,0,0.35,1);-webkit-transition-property:color,fill,background-color,border-color;transition-property:color,fill,background-color,border-color;color:#24292f;background-color:#f6f8fa;box-shadow:0 1px 0 rgba(31,35,40,0.04),inset 0 1px 0 rgba(255,255,255,0.25);}/*!sc*/
.woUrt:focus:not(:disabled){box-shadow:none;outline:2px solid #0969da;outline-offset:-2px;}/*!sc*/
.woUrt:focus:not(:disabled):not(:focus-visible){outline:solid 1px transparent;}/*!sc*/
.woUrt:focus-visible:not(:disabled){box-shadow:none;outline:2px solid #0969da;outline-offset:-2px;}/*!sc*/
.woUrt[href]{display:-webkit-inline-box;display:-webkit-inline-flex;display:-ms-inline-flexbox;display:inline-flex;}/*!sc*/
.woUrt[href]:hover{-webkit-text-decoration:none;text-decoration:none;}/*!sc*/
.woUrt:hover{-webkit-transition-duration:80ms;transition-duration:80ms;}/*!sc*/
.woUrt:active{-webkit-transition:none;transition:none;}/*!sc*/
.woUrt:disabled{cursor:not-allowed;box-shadow:none;color:#8c959f;}/*!sc*/
.woUrt:disabled [data-component=ButtonCounter]{color:inherit;}/*!sc*/
@media (forced-colors:active){.woUrt:focus{outline:solid 1px transparent;}}/*!sc*/
.woUrt [data-component=ButtonCounter]{font-size:12px;}/*!sc*/
.woUrt[data-component=IconButton]{display:inline-grid;padding:unset;place-content:center;width:32px;min-width:unset;}/*!sc*/
.woUrt[data-size="small"]{padding:0 8px;height:28px;gap:4px;font-size:12px;}/*!sc*/
.woUrt[data-size="small"] [data-component="text"]{line-height:calc(20 / 12);}/*!sc*/
.woUrt[data-size="small"] [data-component=ButtonCounter]{font-size:12px;}/*!sc*/
.woUrt[data-size="small"] [data-component="buttonContent"] > :not(:last-child){margin-right:4px;}/*!sc*/
.woUrt[data-size="small"][data-component=IconButton]{width:28px;padding:unset;}/*!sc*/
.woUrt[data-size="large"]{padding:0 16px;height:40px;gap:8px;}/*!sc*/
.woUrt[data-size="large"] [data-component="buttonContent"] > :not(:last-child){margin-right:8px;}/*!sc*/
.woUrt[data-size="large"][data-component=IconButton]{width:40px;padding:unset;}/*!sc*/
.woUrt[data-block="block"]{width:100%;}/*!sc*/
.woUrt [data-component="leadingVisual"]{grid-area:leadingVisual;}/*!sc*/
.woUrt [data-component="text"]{grid-area:text;line-height:calc(20/14);white-space:nowrap;}/*!sc*/
.woUrt [data-component="trailingVisual"]{grid-area:trailingVisual;}/*!sc*/
.woUrt [data-component="trailingAction"]{margin-right:-4px;}/*!sc*/
.woUrt [data-component="buttonContent"]{-webkit-flex:1 0 auto;-ms-flex:1 0 auto;flex:1 0 auto;display:grid;grid-template-areas:"leadingVisual text trailingVisual";grid-template-columns:min-content minmax(0,auto) min-content;-webkit-align-items:center;-webkit-box-align:center;-ms-flex-align:center;align-items:center;-webkit-align-content:center;-ms-flex-line-pack:center;align-content:center;}/*!sc*/
.woUrt [data-component="buttonContent"] > :not(:last-child){margin-right:8px;}/*!sc*/
.woUrt:hover:not([disabled]){background-color:#f3f4f6;border-color:var(--button-default-borderColor-hover,rgba(31,35,40,0.15));}/*!sc*/
.woUrt:active:not([disabled]){background-color:hsla(220,14%,93%,1);border-color:var(--button-default-borderColor-active,rgba(31,35,40,0.15));}/*!sc*/
.woUrt[aria-expanded=true]{background-color:hsla(220,14%,93%,1);border-color:var(--button-default-borderColor-active,rgba(31,35,40,0.15));}/*!sc*/
.woUrt [data-component="leadingVisual"],.woUrt [data-component="trailingVisual"],.woUrt [data-component="trailingAction"]{color:var(--button-color,#656d76);}/*!sc*/
.woUrt{display:-webkit-box;display:-webkit-flex;display:-ms-flexbox;display:flex;min-width:0;}/*!sc*/
.woUrt svg{color:#656d76;}/*!sc*/
.woUrt > span{width:inherit;}/*!sc*/
.jikjkp{border-radius:6px;border:1px solid;border-color:var(--button-default-borderColor-rest,rgba(31,35,40,0.15));font-family:inherit;font-weight:500;font-size:14px;cursor:pointer;-webkit-appearance:none;-moz-appearance:none;appearance:none;-webkit-user-select:none;-moz-user-select:none;-ms-user-select:none;user-select:none;-webkit-text-decoration:none;text-decoration:none;text-align:center;display:-webkit-box;display:-webkit-flex;display:-ms-flexbox;display:flex;-webkit-align-items:center;-webkit-box-align:center;-ms-flex-align:center;align-items:center;-webkit-box-pack:justify;-webkit-justify-content:space-between;-ms-flex-pack:justify;justify-content:space-between;height:32px;padding:0 12px;gap:8px;min-width:-webkit-max-content;min-width:-moz-max-content;min-width:max-content;-webkit-transition:80ms cubic-bezier(0.65,0,0.35,1);transition:80ms cubic-bezier(0.65,0,0.35,1);-webkit-transition-property:color,fill,background-color,border-color;transition-property:color,fill,background-color,border-color;color:#24292f;background-color:#f6f8fa;box-shadow:0 1px 0 rgba(31,35,40,0.04),inset 0 1px 0 rgba(255,255,255,0.25);}/*!sc*/
.jikjkp:focus:not(:disabled){box-shadow:none;outline:2px solid #0969da;outline-offset:-2px;}/*!sc*/
.jikjkp:focus:not(:disabled):not(:focus-visible){outline:solid 1px transparent;}/*!sc*/
.jikjkp:focus-visible:not(:disabled){box-shadow:none;outline:2px solid #0969da;outline-offset:-2px;}/*!sc*/
.jikjkp[href]{display:-webkit-inline-box;display:-webkit-inline-flex;display:-ms-inline-flexbox;display:inline-flex;}/*!sc*/
.jikjkp[href]:hover{-webkit-text-decoration:none;text-decoration:none;}/*!sc*/
.jikjkp:hover{-webkit-transition-duration:80ms;transition-duration:80ms;}/*!sc*/
.jikjkp:active{-webkit-transition:none;transition:none;}/*!sc*/
.jikjkp:disabled{cursor:not-allowed;box-shadow:none;color:#8c959f;}/*!sc*/
.jikjkp:disabled [data-component=ButtonCounter]{color:inherit;}/*!sc*/
@media (forced-colors:active){.jikjkp:focus{outline:solid 1px transparent;}}/*!sc*/
.jikjkp [data-component=ButtonCounter]{font-size:12px;}/*!sc*/
.jikjkp[data-component=IconButton]{display:inline-grid;padding:unset;place-content:center;width:32px;min-width:unset;}/*!sc*/
.jikjkp[data-size="small"]{padding:0 8px;height:28px;gap:4px;font-size:12px;}/*!sc*/
.jikjkp[data-size="small"] [data-component="text"]{line-height:calc(20 / 12);}/*!sc*/
.jikjkp[data-size="small"] [data-component=ButtonCounter]{font-size:12px;}/*!sc*/
.jikjkp[data-size="small"] [data-component="buttonContent"] > :not(:last-child){margin-right:4px;}/*!sc*/
.jikjkp[data-size="small"][data-component=IconButton]{width:28px;padding:unset;}/*!sc*/
.jikjkp[data-size="large"]{padding:0 16px;height:40px;gap:8px;}/*!sc*/
.jikjkp[data-size="large"] [data-component="buttonContent"] > :not(:last-child){margin-right:8px;}/*!sc*/
.jikjkp[data-size="large"][data-component=IconButton]{width:40px;padding:unset;}/*!sc*/
.jikjkp[data-block="block"]{width:100%;}/*!sc*/
.jikjkp [data-component="leadingVisual"]{grid-area:leadingVisual;}/*!sc*/
.jikjkp [data-component="text"]{grid-area:text;line-height:calc(20/14);white-space:nowrap;}/*!sc*/
.jikjkp [data-component="trailingVisual"]{grid-area:trailingVisual;}/*!sc*/
.jikjkp [data-component="trailingAction"]{margin-right:-4px;}/*!sc*/
.jikjkp [data-component="buttonContent"]{-webkit-flex:1 0 auto;-ms-flex:1 0 auto;flex:1 0 auto;display:grid;grid-template-areas:"leadingVisual text trailingVisual";grid-template-columns:min-content minmax(0,auto) min-content;-webkit-align-items:center;-webkit-box-align:center;-ms-flex-align:center;align-items:center;-webkit-align-content:center;-ms-flex-line-pack:center;align-content:center;}/*!sc*/
.jikjkp [data-component="buttonContent"] > :not(:last-child){margin-right:8px;}/*!sc*/
.jikjkp:hover:not([disabled]){background-color:#f3f4f6;border-color:var(--button-default-borderColor-hover,rgba(31,35,40,0.15));}/*!sc*/
.jikjkp:active:not([disabled]){background-color:hsla(220,14%,93%,1);border-color:var(--button-default-borderColor-active,rgba(31,35,40,0.15));}/*!sc*/
.jikjkp[aria-expanded=true]{background-color:hsla(220,14%,93%,1);border-color:var(--button-default-borderColor-active,rgba(31,35,40,0.15));}/*!sc*/
.jikjkp [data-component="leadingVisual"],.jikjkp [data-component="trailingVisual"],.jikjkp [data-component="trailingAction"]{color:var(--button-color,#656d76);}/*!sc*/
.jikjkp[data-no-visuals]{color:#6e7781;border-top-right-radius:0;border-bottom-right-radius:0;border-right:0;}/*!sc*/
.jGImdP{border-radius:6px;border:1px solid;border-color:var(--button-default-borderColor-rest,rgba(31,35,40,0.15));font-family:inherit;font-weight:500;font-size:14px;cursor:pointer;-webkit-appearance:none;-moz-appearance:none;appearance:none;-webkit-user-select:none;-moz-user-select:none;-ms-user-select:none;user-select:none;-webkit-text-decoration:none;text-decoration:none;text-align:center;display:-webkit-box;display:-webkit-flex;display:-ms-flexbox;display:flex;-webkit-align-items:center;-webkit-box-align:center;-ms-flex-align:center;align-items:center;-webkit-box-pack:justify;-webkit-justify-content:space-between;-ms-flex-pack:justify;justify-content:space-between;height:32px;padding:0 12px;gap:8px;min-width:-webkit-max-content;min-width:-moz-max-content;min-width:max-content;-webkit-transition:80ms cubic-bezier(0.65,0,0.35,1);transition:80ms cubic-bezier(0.65,0,0.35,1);-webkit-transition-property:color,fill,background-color,border-color;transition-property:color,fill,background-color,border-color;color:#24292f;background-color:#f6f8fa;box-shadow:0 1px 0 rgba(31,35,40,0.04),inset 0 1px 0 rgba(255,255,255,0.25);}/*!sc*/
.jGImdP:focus:not(:disabled){box-shadow:none;outline:2px solid #0969da;outline-offset:-2px;}/*!sc*/
.jGImdP:focus:not(:disabled):not(:focus-visible){outline:solid 1px transparent;}/*!sc*/
.jGImdP:focus-visible:not(:disabled){box-shadow:none;outline:2px solid #0969da;outline-offset:-2px;}/*!sc*/
.jGImdP[href]{display:-webkit-inline-box;display:-webkit-inline-flex;display:-ms-inline-flexbox;display:inline-flex;}/*!sc*/
.jGImdP[href]:hover{-webkit-text-decoration:none;text-decoration:none;}/*!sc*/
.jGImdP:hover{-webkit-transition-duration:80ms;transition-duration:80ms;}/*!sc*/
.jGImdP:active{-webkit-transition:none;transition:none;}/*!sc*/
.jGImdP:disabled{cursor:not-allowed;box-shadow:none;color:#8c959f;}/*!sc*/
.jGImdP:disabled [data-component=ButtonCounter]{color:inherit;}/*!sc*/
@media (forced-colors:active){.jGImdP:focus{outline:solid 1px transparent;}}/*!sc*/
.jGImdP [data-component=ButtonCounter]{font-size:12px;}/*!sc*/
.jGImdP[data-component=IconButton]{display:inline-grid;padding:unset;place-content:center;width:32px;min-width:unset;}/*!sc*/
.jGImdP[data-size="small"]{padding:0 8px;height:28px;gap:4px;font-size:12px;}/*!sc*/
.jGImdP[data-size="small"] [data-component="text"]{line-height:calc(20 / 12);}/*!sc*/
.jGImdP[data-size="small"] [data-component=ButtonCounter]{font-size:12px;}/*!sc*/
.jGImdP[data-size="small"] [data-component="buttonContent"] > :not(:last-child){margin-right:4px;}/*!sc*/
.jGImdP[data-size="small"][data-component=IconButton]{width:28px;padding:unset;}/*!sc*/
.jGImdP[data-size="large"]{padding:0 16px;height:40px;gap:8px;}/*!sc*/
.jGImdP[data-size="large"] [data-component="buttonContent"] > :not(:last-child){margin-right:8px;}/*!sc*/
.jGImdP[data-size="large"][data-component=IconButton]{width:40px;padding:unset;}/*!sc*/
.jGImdP[data-block="block"]{width:100%;}/*!sc*/
.jGImdP [data-component="leadingVisual"]{grid-area:leadingVisual;}/*!sc*/
.jGImdP [data-component="text"]{grid-area:text;line-height:calc(20/14);white-space:nowrap;}/*!sc*/
.jGImdP [data-component="trailingVisual"]{grid-area:trailingVisual;}/*!sc*/
.jGImdP [data-component="trailingAction"]{margin-right:-4px;}/*!sc*/
.jGImdP [data-component="buttonContent"]{-webkit-flex:1 0 auto;-ms-flex:1 0 auto;flex:1 0 auto;display:grid;grid-template-areas:"leadingVisual text trailingVisual";grid-template-columns:min-content minmax(0,auto) min-content;-webkit-align-items:center;-webkit-box-align:center;-ms-flex-align:center;align-items:center;-webkit-align-content:center;-ms-flex-line-pack:center;align-content:center;}/*!sc*/
.jGImdP [data-component="buttonContent"] > :not(:last-child){margin-right:8px;}/*!sc*/
.jGImdP:hover:not([disabled]){background-color:#f3f4f6;border-color:var(--button-default-borderColor-hover,rgba(31,35,40,0.15));}/*!sc*/
.jGImdP:active:not([disabled]){background-color:hsla(220,14%,93%,1);border-color:var(--button-default-borderColor-active,rgba(31,35,40,0.15));}/*!sc*/
.jGImdP[aria-expanded=true]{background-color:hsla(220,14%,93%,1);border-color:var(--button-default-borderColor-active,rgba(31,35,40,0.15));}/*!sc*/
.jGImdP [data-component="leadingVisual"],.jGImdP [data-component="trailingVisual"],.jGImdP [data-component="trailingAction"]{color:var(--button-color,#656d76);}/*!sc*/
.jGImdP[data-no-visuals]{color:#6e7781;font-size:14px;font-weight:400;-webkit-flex-shrink:0;-ms-flex-negative:0;flex-shrink:0;border-top-left-radius:0;border-bottom-left-radius:0;}/*!sc*/
.hgfMvt{border-radius:6px;border:1px solid;border-color:var(--button-default-borderColor-rest,rgba(31,35,40,0.15));font-family:inherit;font-weight:500;font-size:14px;cursor:pointer;-webkit-appearance:none;-moz-appearance:none;appearance:none;-webkit-user-select:none;-moz-user-select:none;-ms-user-select:none;user-select:none;-webkit-text-decoration:none;text-decoration:none;text-align:center;display:-webkit-box;display:-webkit-flex;display:-ms-flexbox;display:flex;-webkit-align-items:center;-webkit-box-align:center;-ms-flex-align:center;align-items:center;-webkit-box-pack:justify;-webkit-justify-content:space-between;-ms-flex-pack:justify;justify-content:space-between;height:32px;padding:0 12px;gap:8px;min-width:-webkit-max-content;min-width:-moz-max-content;min-width:max-content;-webkit-transition:80ms cubic-bezier(0.65,0,0.35,1);transition:80ms cubic-bezier(0.65,0,0.35,1);-webkit-transition-property:color,fill,background-color,border-color;transition-property:color,fill,background-color,border-color;color:#24292f;background-color:#f6f8fa;box-shadow:0 1px 0 rgba(31,35,40,0.04),inset 0 1px 0 rgba(255,255,255,0.25);}/*!sc*/
.hgfMvt:focus:not(:disabled){box-shadow:none;outline:2px solid #0969da;outline-offset:-2px;}/*!sc*/
.hgfMvt:focus:not(:disabled):not(:focus-visible){outline:solid 1px transparent;}/*!sc*/
.hgfMvt:focus-visible:not(:disabled){box-shadow:none;outline:2px solid #0969da;outline-offset:-2px;}/*!sc*/
.hgfMvt[href]{display:-webkit-inline-box;display:-webkit-inline-flex;display:-ms-inline-flexbox;display:inline-flex;}/*!sc*/
.hgfMvt[href]:hover{-webkit-text-decoration:none;text-decoration:none;}/*!sc*/
.hgfMvt:hover{-webkit-transition-duration:80ms;transition-duration:80ms;}/*!sc*/
.hgfMvt:active{-webkit-transition:none;transition:none;}/*!sc*/
.hgfMvt:disabled{cursor:not-allowed;box-shadow:none;color:#8c959f;}/*!sc*/
.hgfMvt:disabled [data-component=ButtonCounter]{color:inherit;}/*!sc*/
@media (forced-colors:active){.hgfMvt:focus{outline:solid 1px transparent;}}/*!sc*/
.hgfMvt [data-component=ButtonCounter]{font-size:12px;}/*!sc*/
.hgfMvt[data-component=IconButton]{display:inline-grid;padding:unset;place-content:center;width:32px;min-width:unset;}/*!sc*/
.hgfMvt[data-size="small"]{padding:0 8px;height:28px;gap:4px;font-size:12px;}/*!sc*/
.hgfMvt[data-size="small"] [data-component="text"]{line-height:calc(20 / 12);}/*!sc*/
.hgfMvt[data-size="small"] [data-component=ButtonCounter]{font-size:12px;}/*!sc*/
.hgfMvt[data-size="small"] [data-component="buttonContent"] > :not(:last-child){margin-right:4px;}/*!sc*/
.hgfMvt[data-size="small"][data-component=IconButton]{width:28px;padding:unset;}/*!sc*/
.hgfMvt[data-size="large"]{padding:0 16px;height:40px;gap:8px;}/*!sc*/
.hgfMvt[data-size="large"] [data-component="buttonContent"] > :not(:last-child){margin-right:8px;}/*!sc*/
.hgfMvt[data-size="large"][data-component=IconButton]{width:40px;padding:unset;}/*!sc*/
.hgfMvt[data-block="block"]{width:100%;}/*!sc*/
.hgfMvt [data-component="leadingVisual"]{grid-area:leadingVisual;}/*!sc*/
.hgfMvt [data-component="text"]{grid-area:text;line-height:calc(20/14);white-space:nowrap;}/*!sc*/
.hgfMvt [data-component="trailingVisual"]{grid-area:trailingVisual;}/*!sc*/
.hgfMvt [data-component="trailingAction"]{margin-right:-4px;}/*!sc*/
.hgfMvt [data-component="buttonContent"]{-webkit-flex:1 0 auto;-ms-flex:1 0 auto;flex:1 0 auto;display:grid;grid-template-areas:"leadingVisual text trailingVisual";grid-template-columns:min-content minmax(0,auto) min-content;-webkit-align-items:center;-webkit-box-align:center;-ms-flex-align:center;align-items:center;-webkit-align-content:center;-ms-flex-line-pack:center;align-content:center;}/*!sc*/
.hgfMvt [data-component="buttonContent"] > :not(:last-child){margin-right:8px;}/*!sc*/
.hgfMvt:hover:not([disabled]){background-color:#f3f4f6;border-color:var(--button-default-borderColor-hover,rgba(31,35,40,0.15));}/*!sc*/
.hgfMvt:active:not([disabled]){background-color:hsla(220,14%,93%,1);border-color:var(--button-default-borderColor-active,rgba(31,35,40,0.15));}/*!sc*/
.hgfMvt[aria-expanded=true]{background-color:hsla(220,14%,93%,1);border-color:var(--button-default-borderColor-active,rgba(31,35,40,0.15));}/*!sc*/
.hgfMvt [data-component="leadingVisual"],.hgfMvt [data-component="trailingVisual"],.hgfMvt [data-component="trailingAction"]{color:var(--button-color,#656d76);}/*!sc*/
.hgfMvt{display:-webkit-box;display:-webkit-flex;display:-ms-flexbox;display:flex;}/*!sc*/
.hgfMvt svg{color:#656d76;}/*!sc*/
.hgfMvt > span{width:inherit;}/*!sc*/
.iwEpzF{border-radius:6px;border:1px solid;border-color:var(--button-default-borderColor-rest,rgba(31,35,40,0.15));font-family:inherit;font-weight:500;font-size:14px;cursor:pointer;-webkit-appearance:none;-moz-appearance:none;appearance:none;-webkit-user-select:none;-moz-user-select:none;-ms-user-select:none;user-select:none;-webkit-text-decoration:none;text-decoration:none;text-align:center;display:-webkit-box;display:-webkit-flex;display:-ms-flexbox;display:flex;-webkit-align-items:center;-webkit-box-align:center;-ms-flex-align:center;align-items:center;-webkit-box-pack:justify;-webkit-justify-content:space-between;-ms-flex-pack:justify;justify-content:space-between;height:32px;padding:0 12px;gap:8px;min-width:-webkit-max-content;min-width:-moz-max-content;min-width:max-content;-webkit-transition:80ms cubic-bezier(0.65,0,0.35,1);transition:80ms cubic-bezier(0.65,0,0.35,1);-webkit-transition-property:color,fill,background-color,border-color;transition-property:color,fill,background-color,border-color;color:#24292f;background-color:#f6f8fa;box-shadow:0 1px 0 rgba(31,35,40,0.04),inset 0 1px 0 rgba(255,255,255,0.25);}/*!sc*/
.iwEpzF:focus:not(:disabled){box-shadow:none;outline:2px solid #0969da;outline-offset:-2px;}/*!sc*/
.iwEpzF:focus:not(:disabled):not(:focus-visible){outline:solid 1px transparent;}/*!sc*/
.iwEpzF:focus-visible:not(:disabled){box-shadow:none;outline:2px solid #0969da;outline-offset:-2px;}/*!sc*/
.iwEpzF[href]{display:-webkit-inline-box;display:-webkit-inline-flex;display:-ms-inline-flexbox;display:inline-flex;}/*!sc*/
.iwEpzF[href]:hover{-webkit-text-decoration:none;text-decoration:none;}/*!sc*/
.iwEpzF:hover{-webkit-transition-duration:80ms;transition-duration:80ms;}/*!sc*/
.iwEpzF:active{-webkit-transition:none;transition:none;}/*!sc*/
.iwEpzF:disabled{cursor:not-allowed;box-shadow:none;color:#8c959f;}/*!sc*/
.iwEpzF:disabled [data-component=ButtonCounter]{color:inherit;}/*!sc*/
@media (forced-colors:active){.iwEpzF:focus{outline:solid 1px transparent;}}/*!sc*/
.iwEpzF [data-component=ButtonCounter]{font-size:12px;}/*!sc*/
.iwEpzF[data-component=IconButton]{display:inline-grid;padding:unset;place-content:center;width:32px;min-width:unset;}/*!sc*/
.iwEpzF[data-size="small"]{padding:0 8px;height:28px;gap:4px;font-size:12px;}/*!sc*/
.iwEpzF[data-size="small"] [data-component="text"]{line-height:calc(20 / 12);}/*!sc*/
.iwEpzF[data-size="small"] [data-component=ButtonCounter]{font-size:12px;}/*!sc*/
.iwEpzF[data-size="small"] [data-component="buttonContent"] > :not(:last-child){margin-right:4px;}/*!sc*/
.iwEpzF[data-size="small"][data-component=IconButton]{width:28px;padding:unset;}/*!sc*/
.iwEpzF[data-size="large"]{padding:0 16px;height:40px;gap:8px;}/*!sc*/
.iwEpzF[data-size="large"] [data-component="buttonContent"] > :not(:last-child){margin-right:8px;}/*!sc*/
.iwEpzF[data-size="large"][data-component=IconButton]{width:40px;padding:unset;}/*!sc*/
.iwEpzF[data-block="block"]{width:100%;}/*!sc*/
.iwEpzF [data-component="leadingVisual"]{grid-area:leadingVisual;}/*!sc*/
.iwEpzF [data-component="text"]{grid-area:text;line-height:calc(20/14);white-space:nowrap;}/*!sc*/
.iwEpzF [data-component="trailingVisual"]{grid-area:trailingVisual;}/*!sc*/
.iwEpzF [data-component="trailingAction"]{margin-right:-4px;}/*!sc*/
.iwEpzF [data-component="buttonContent"]{-webkit-flex:1 0 auto;-ms-flex:1 0 auto;flex:1 0 auto;display:grid;grid-template-areas:"leadingVisual text trailingVisual";grid-template-columns:min-content minmax(0,auto) min-content;-webkit-align-items:center;-webkit-box-align:center;-ms-flex-align:center;align-items:center;-webkit-align-content:center;-ms-flex-line-pack:center;align-content:center;}/*!sc*/
.iwEpzF [data-component="buttonContent"] > :not(:last-child){margin-right:8px;}/*!sc*/
.iwEpzF:hover:not([disabled]){background-color:#f3f4f6;border-color:var(--button-default-borderColor-hover,rgba(31,35,40,0.15));}/*!sc*/
.iwEpzF:active:not([disabled]){background-color:hsla(220,14%,93%,1);border-color:var(--button-default-borderColor-active,rgba(31,35,40,0.15));}/*!sc*/
.iwEpzF[aria-expanded=true]{background-color:hsla(220,14%,93%,1);border-color:var(--button-default-borderColor-active,rgba(31,35,40,0.15));}/*!sc*/
.iwEpzF [data-component="leadingVisual"],.iwEpzF [data-component="trailingVisual"],.iwEpzF [data-component="trailingAction"]{color:var(--button-color,#656d76);}/*!sc*/
.iwEpzF[data-no-visuals]{border-top-left-radius:0;border-bottom-left-radius:0;display:none;}/*!sc*/
.bNMwOz{border-radius:6px;border:1px solid;border-color:var(--button-default-borderColor-rest,rgba(31,35,40,0.15));font-family:inherit;font-weight:500;font-size:14px;cursor:pointer;-webkit-appearance:none;-moz-appearance:none;appearance:none;-webkit-user-select:none;-moz-user-select:none;-ms-user-select:none;user-select:none;-webkit-text-decoration:none;text-decoration:none;text-align:center;display:-webkit-box;display:-webkit-flex;display:-ms-flexbox;display:flex;-webkit-align-items:center;-webkit-box-align:center;-ms-flex-align:center;align-items:center;-webkit-box-pack:justify;-webkit-justify-content:space-between;-ms-flex-pack:justify;justify-content:space-between;height:32px;padding:0 12px;gap:8px;min-width:-webkit-max-content;min-width:-moz-max-content;min-width:max-content;-webkit-transition:80ms cubic-bezier(0.65,0,0.35,1);transition:80ms cubic-bezier(0.65,0,0.35,1);-webkit-transition-property:color,fill,background-color,border-color;transition-property:color,fill,background-color,border-color;color:#24292f;background-color:#f6f8fa;box-shadow:0 1px 0 rgba(31,35,40,0.04),inset 0 1px 0 rgba(255,255,255,0.25);}/*!sc*/
.bNMwOz:focus:not(:disabled){box-shadow:none;outline:2px solid #0969da;outline-offset:-2px;}/*!sc*/
.bNMwOz:focus:not(:disabled):not(:focus-visible){outline:solid 1px transparent;}/*!sc*/
.bNMwOz:focus-visible:not(:disabled){box-shadow:none;outline:2px solid #0969da;outline-offset:-2px;}/*!sc*/
.bNMwOz[href]{display:-webkit-inline-box;display:-webkit-inline-flex;display:-ms-inline-flexbox;display:inline-flex;}/*!sc*/
.bNMwOz[href]:hover{-webkit-text-decoration:none;text-decoration:none;}/*!sc*/
.bNMwOz:hover{-webkit-transition-duration:80ms;transition-duration:80ms;}/*!sc*/
.bNMwOz:active{-webkit-transition:none;transition:none;}/*!sc*/
.bNMwOz:disabled{cursor:not-allowed;box-shadow:none;color:#8c959f;}/*!sc*/
.bNMwOz:disabled [data-component=ButtonCounter]{color:inherit;}/*!sc*/
@media (forced-colors:active){.bNMwOz:focus{outline:solid 1px transparent;}}/*!sc*/
.bNMwOz [data-component=ButtonCounter]{font-size:12px;}/*!sc*/
.bNMwOz[data-component=IconButton]{display:inline-grid;padding:unset;place-content:center;width:32px;min-width:unset;}/*!sc*/
.bNMwOz[data-size="small"]{padding:0 8px;height:28px;gap:4px;font-size:12px;}/*!sc*/
.bNMwOz[data-size="small"] [data-component="text"]{line-height:calc(20 / 12);}/*!sc*/
.bNMwOz[data-size="small"] [data-component=ButtonCounter]{font-size:12px;}/*!sc*/
.bNMwOz[data-size="small"] [data-component="buttonContent"] > :not(:last-child){margin-right:4px;}/*!sc*/
.bNMwOz[data-size="small"][data-component=IconButton]{width:28px;padding:unset;}/*!sc*/
.bNMwOz[data-size="large"]{padding:0 16px;height:40px;gap:8px;}/*!sc*/
.bNMwOz[data-size="large"] [data-component="buttonContent"] > :not(:last-child){margin-right:8px;}/*!sc*/
.bNMwOz[data-size="large"][data-component=IconButton]{width:40px;padding:unset;}/*!sc*/
.bNMwOz[data-block="block"]{width:100%;}/*!sc*/
.bNMwOz [data-component="leadingVisual"]{grid-area:leadingVisual;}/*!sc*/
.bNMwOz [data-component="text"]{grid-area:text;line-height:calc(20/14);white-space:nowrap;}/*!sc*/
.bNMwOz [data-component="trailingVisual"]{grid-area:trailingVisual;}/*!sc*/
.bNMwOz [data-component="trailingAction"]{margin-right:-4px;}/*!sc*/
.bNMwOz [data-component="buttonContent"]{-webkit-flex:1 0 auto;-ms-flex:1 0 auto;flex:1 0 auto;display:grid;grid-template-areas:"leadingVisual text trailingVisual";grid-template-columns:min-content minmax(0,auto) min-content;-webkit-align-items:center;-webkit-box-align:center;-ms-flex-align:center;align-items:center;-webkit-align-content:center;-ms-flex-line-pack:center;align-content:center;}/*!sc*/
.bNMwOz [data-component="buttonContent"] > :not(:last-child){margin-right:8px;}/*!sc*/
.bNMwOz:hover:not([disabled]){background-color:#f3f4f6;border-color:var(--button-default-borderColor-hover,rgba(31,35,40,0.15));}/*!sc*/
.bNMwOz:active:not([disabled]){background-color:hsla(220,14%,93%,1);border-color:var(--button-default-borderColor-active,rgba(31,35,40,0.15));}/*!sc*/
.bNMwOz[aria-expanded=true]{background-color:hsla(220,14%,93%,1);border-color:var(--button-default-borderColor-active,rgba(31,35,40,0.15));}/*!sc*/
.bNMwOz [data-component="leadingVisual"],.bNMwOz [data-component="trailingVisual"],.bNMwOz [data-component="trailingAction"]{color:var(--button-color,#656d76);}/*!sc*/
.bNMwOz[data-no-visuals]{color:#656d76;}/*!sc*/
.bLPynQ{border-radius:6px;border:1px solid;border-color:transparent;font-family:inherit;font-weight:500;font-size:14px;cursor:pointer;-webkit-appearance:none;-moz-appearance:none;appearance:none;-webkit-user-select:none;-moz-user-select:none;-ms-user-select:none;user-select:none;-webkit-text-decoration:none;text-decoration:none;text-align:center;display:-webkit-box;display:-webkit-flex;display:-ms-flexbox;display:flex;-webkit-align-items:center;-webkit-box-align:center;-ms-flex-align:center;align-items:center;-webkit-box-pack:justify;-webkit-justify-content:space-between;-ms-flex-pack:justify;justify-content:space-between;height:32px;padding:0 12px;gap:8px;min-width:-webkit-max-content;min-width:-moz-max-content;min-width:max-content;-webkit-transition:80ms cubic-bezier(0.65,0,0.35,1);transition:80ms cubic-bezier(0.65,0,0.35,1);-webkit-transition-property:color,fill,background-color,border-color;transition-property:color,fill,background-color,border-color;color:#24292f;background-color:transparent;box-shadow:none;}/*!sc*/
.bLPynQ:focus:not(:disabled){box-shadow:none;outline:2px solid #0969da;outline-offset:-2px;}/*!sc*/
.bLPynQ:focus:not(:disabled):not(:focus-visible){outline:solid 1px transparent;}/*!sc*/
.bLPynQ:focus-visible:not(:disabled){box-shadow:none;outline:2px solid #0969da;outline-offset:-2px;}/*!sc*/
.bLPynQ[href]{display:-webkit-inline-box;display:-webkit-inline-flex;display:-ms-inline-flexbox;display:inline-flex;}/*!sc*/
.bLPynQ[href]:hover{-webkit-text-decoration:none;text-decoration:none;}/*!sc*/
.bLPynQ:hover{-webkit-transition-duration:80ms;transition-duration:80ms;}/*!sc*/
.bLPynQ:active{-webkit-transition:none;transition:none;}/*!sc*/
.bLPynQ:disabled{cursor:not-allowed;box-shadow:none;color:#8c959f;}/*!sc*/
.bLPynQ:disabled [data-component=ButtonCounter],.bLPynQ:disabled [data-component="leadingVisual"],.bLPynQ:disabled [data-component="trailingAction"]{color:inherit;}/*!sc*/
@media (forced-colors:active){.bLPynQ:focus{outline:solid 1px transparent;}}/*!sc*/
.bLPynQ [data-component=ButtonCounter]{font-size:12px;}/*!sc*/
.bLPynQ[data-component=IconButton]{display:inline-grid;padding:unset;place-content:center;width:32px;min-width:unset;}/*!sc*/
.bLPynQ[data-size="small"]{padding:0 8px;height:28px;gap:4px;font-size:12px;}/*!sc*/
.bLPynQ[data-size="small"] [data-component="text"]{line-height:calc(20 / 12);}/*!sc*/
.bLPynQ[data-size="small"] [data-component=ButtonCounter]{font-size:12px;}/*!sc*/
.bLPynQ[data-size="small"] [data-component="buttonContent"] > :not(:last-child){margin-right:4px;}/*!sc*/
.bLPynQ[data-size="small"][data-component=IconButton]{width:28px;padding:unset;}/*!sc*/
.bLPynQ[data-size="large"]{padding:0 16px;height:40px;gap:8px;}/*!sc*/
.bLPynQ[data-size="large"] [data-component="buttonContent"] > :not(:last-child){margin-right:8px;}/*!sc*/
.bLPynQ[data-size="large"][data-component=IconButton]{width:40px;padding:unset;}/*!sc*/
.bLPynQ[data-block="block"]{width:100%;}/*!sc*/
.bLPynQ [data-component="leadingVisual"]{grid-area:leadingVisual;color:#656d76;}/*!sc*/
.bLPynQ [data-component="text"]{grid-area:text;line-height:calc(20/14);white-space:nowrap;}/*!sc*/
.bLPynQ [data-component="trailingVisual"]{grid-area:trailingVisual;}/*!sc*/
.bLPynQ [data-component="trailingAction"]{margin-right:-4px;color:#656d76;}/*!sc*/
.bLPynQ [data-component="buttonContent"]{-webkit-flex:1 0 auto;-ms-flex:1 0 auto;flex:1 0 auto;display:grid;grid-template-areas:"leadingVisual text trailingVisual";grid-template-columns:min-content minmax(0,auto) min-content;-webkit-align-items:center;-webkit-box-align:center;-ms-flex-align:center;align-items:center;-webkit-align-content:center;-ms-flex-line-pack:center;align-content:center;}/*!sc*/
.bLPynQ [data-component="buttonContent"] > :not(:last-child){margin-right:8px;}/*!sc*/
.bLPynQ:hover:not([disabled]){background-color:rgba(208,215,222,0.32);}/*!sc*/
.bLPynQ:active:not([disabled]){background-color:rgba(208,215,222,0.48);}/*!sc*/
.bLPynQ[aria-expanded=true]{background-color:rgba(208,215,222,0.24);}/*!sc*/
.bLPynQ[data-component="IconButton"][data-no-visuals]{color:#656d76;}/*!sc*/
.bLPynQ[data-no-visuals]{color:#0969da;}/*!sc*/
.bLPynQ:has([data-component="ButtonCounter"]){color:#24292f;}/*!sc*/
.bLPynQ:disabled[data-no-visuals]{color:#8c959f;}/*!sc*/
.bLPynQ:disabled[data-no-visuals] [data-component=ButtonCounter]{color:inherit;}/*!sc*/
.bLPynQ[data-size="small"][data-no-visuals]{margin-left:8px;}/*!sc*/
.fNmgkb{border-radius:6px;border:1px solid;border-color:transparent;font-family:inherit;font-weight:500;font-size:14px;cursor:pointer;-webkit-appearance:none;-moz-appearance:none;appearance:none;-webkit-user-select:none;-moz-user-select:none;-ms-user-select:none;user-select:none;-webkit-text-decoration:none;text-decoration:none;text-align:center;display:-webkit-box;display:-webkit-flex;display:-ms-flexbox;display:flex;-webkit-align-items:center;-webkit-box-align:center;-ms-flex-align:center;align-items:center;-webkit-box-pack:justify;-webkit-justify-content:space-between;-ms-flex-pack:justify;justify-content:space-between;height:32px;padding:0 12px;gap:8px;min-width:-webkit-max-content;min-width:-moz-max-content;min-width:max-content;-webkit-transition:80ms cubic-bezier(0.65,0,0.35,1);transition:80ms cubic-bezier(0.65,0,0.35,1);-webkit-transition-property:color,fill,background-color,border-color;transition-property:color,fill,background-color,border-color;color:#1F2328;background-color:transparent;box-shadow:none;}/*!sc*/
.fNmgkb:focus:not(:disabled){box-shadow:none;outline:2px solid #0969da;outline-offset:-2px;}/*!sc*/
.fNmgkb:focus:not(:disabled):not(:focus-visible){outline:solid 1px transparent;}/*!sc*/
.fNmgkb:focus-visible:not(:disabled){box-shadow:none;outline:2px solid #0969da;outline-offset:-2px;}/*!sc*/
.fNmgkb[href]{display:-webkit-inline-box;display:-webkit-inline-flex;display:-ms-inline-flexbox;display:inline-flex;}/*!sc*/
.fNmgkb[href]:hover{-webkit-text-decoration:none;text-decoration:none;}/*!sc*/
.fNmgkb:hover{-webkit-transition-duration:80ms;transition-duration:80ms;}/*!sc*/
.fNmgkb:active{-webkit-transition:none;transition:none;}/*!sc*/
.fNmgkb:disabled{cursor:not-allowed;box-shadow:none;color:#8c959f;}/*!sc*/
.fNmgkb:disabled [data-component=ButtonCounter],.fNmgkb:disabled [data-component="leadingVisual"],.fNmgkb:disabled [data-component="trailingAction"]{color:inherit;}/*!sc*/
@media (forced-colors:active){.fNmgkb:focus{outline:solid 1px transparent;}}/*!sc*/
.fNmgkb [data-component=ButtonCounter]{font-size:12px;}/*!sc*/
.fNmgkb[data-component=IconButton]{display:inline-grid;padding:unset;place-content:center;width:32px;min-width:unset;}/*!sc*/
.fNmgkb[data-size="small"]{padding:0 8px;height:28px;gap:4px;font-size:12px;}/*!sc*/
.fNmgkb[data-size="small"] [data-component="text"]{line-height:calc(20 / 12);}/*!sc*/
.fNmgkb[data-size="small"] [data-component=ButtonCounter]{font-size:12px;}/*!sc*/
.fNmgkb[data-size="small"] [data-component="buttonContent"] > :not(:last-child){margin-right:4px;}/*!sc*/
.fNmgkb[data-size="small"][data-component=IconButton]{width:28px;padding:unset;}/*!sc*/
.fNmgkb[data-size="large"]{padding:0 16px;height:40px;gap:8px;}/*!sc*/
.fNmgkb[data-size="large"] [data-component="buttonContent"] > :not(:last-child){margin-right:8px;}/*!sc*/
.fNmgkb[data-size="large"][data-component=IconButton]{width:40px;padding:unset;}/*!sc*/
.fNmgkb[data-block="block"]{width:100%;}/*!sc*/
.fNmgkb [data-component="leadingVisual"]{grid-area:leadingVisual;color:#656d76;}/*!sc*/
.fNmgkb [data-component="text"]{grid-area:text;line-height:calc(20/14);white-space:nowrap;}/*!sc*/
.fNmgkb [data-component="trailingVisual"]{grid-area:trailingVisual;}/*!sc*/
.fNmgkb [data-component="trailingAction"]{margin-right:-4px;color:#656d76;}/*!sc*/
.fNmgkb [data-component="buttonContent"]{-webkit-flex:1 0 auto;-ms-flex:1 0 auto;flex:1 0 auto;display:grid;grid-template-areas:"leadingVisual text trailingVisual";grid-template-columns:min-content minmax(0,auto) min-content;-webkit-align-items:center;-webkit-box-align:center;-ms-flex-align:center;align-items:center;-webkit-align-content:center;-ms-flex-line-pack:center;align-content:center;}/*!sc*/
.fNmgkb [data-component="buttonContent"] > :not(:last-child){margin-right:8px;}/*!sc*/
.fNmgkb:hover:not([disabled]){background-color:rgba(208,215,222,0.32);-webkit-text-decoration:none;text-decoration:none;}/*!sc*/
.fNmgkb:active:not([disabled]){background-color:rgba(208,215,222,0.48);-webkit-text-decoration:none;text-decoration:none;}/*!sc*/
.fNmgkb[aria-expanded=true]{background-color:rgba(208,215,222,0.24);}/*!sc*/
.fNmgkb[data-component="IconButton"][data-no-visuals]{color:#656d76;}/*!sc*/
.fNmgkb[data-no-visuals]{color:#0969da;}/*!sc*/
.fNmgkb:has([data-component="ButtonCounter"]){color:#24292f;}/*!sc*/
.fNmgkb:disabled[data-no-visuals]{color:#8c959f;}/*!sc*/
.fNmgkb:disabled[data-no-visuals] [data-component=ButtonCounter]{color:inherit;}/*!sc*/
.fNmgkb:focus:not([disabled]){-webkit-text-decoration:none;text-decoration:none;}/*!sc*/
.dAvRwz{border-radius:6px;border:1px solid;border-color:transparent;font-family:inherit;font-weight:500;font-size:14px;cursor:pointer;-webkit-appearance:none;-moz-appearance:none;appearance:none;-webkit-user-select:none;-moz-user-select:none;-ms-user-select:none;user-select:none;-webkit-text-decoration:none;text-decoration:none;text-align:center;display:-webkit-box;display:-webkit-flex;display:-ms-flexbox;display:flex;-webkit-align-items:center;-webkit-box-align:center;-ms-flex-align:center;align-items:center;-webkit-box-pack:justify;-webkit-justify-content:space-between;-ms-flex-pack:justify;justify-content:space-between;height:32px;padding:0 12px;gap:8px;min-width:-webkit-max-content;min-width:-moz-max-content;min-width:max-content;-webkit-transition:80ms cubic-bezier(0.65,0,0.35,1);transition:80ms cubic-bezier(0.65,0,0.35,1);-webkit-transition-property:color,fill,background-color,border-color;transition-property:color,fill,background-color,border-color;color:#24292f;background-color:transparent;box-shadow:none;}/*!sc*/
.dAvRwz:focus:not(:disabled){box-shadow:none;outline:2px solid #0969da;outline-offset:-2px;}/*!sc*/
.dAvRwz:focus:not(:disabled):not(:focus-visible){outline:solid 1px transparent;}/*!sc*/
.dAvRwz:focus-visible:not(:disabled){box-shadow:none;outline:2px solid #0969da;outline-offset:-2px;}/*!sc*/
.dAvRwz[href]{display:-webkit-inline-box;display:-webkit-inline-flex;display:-ms-inline-flexbox;display:inline-flex;}/*!sc*/
.dAvRwz[href]:hover{-webkit-text-decoration:none;text-decoration:none;}/*!sc*/
.dAvRwz:hover{-webkit-transition-duration:80ms;transition-duration:80ms;}/*!sc*/
.dAvRwz:active{-webkit-transition:none;transition:none;}/*!sc*/
.dAvRwz:disabled{cursor:not-allowed;box-shadow:none;color:#8c959f;}/*!sc*/
.dAvRwz:disabled [data-component=ButtonCounter],.dAvRwz:disabled [data-component="leadingVisual"],.dAvRwz:disabled [data-component="trailingAction"]{color:inherit;}/*!sc*/
@media (forced-colors:active){.dAvRwz:focus{outline:solid 1px transparent;}}/*!sc*/
.dAvRwz [data-component=ButtonCounter]{font-size:12px;}/*!sc*/
.dAvRwz[data-component=IconButton]{display:inline-grid;padding:unset;place-content:center;width:32px;min-width:unset;}/*!sc*/
.dAvRwz[data-size="small"]{padding:0 8px;height:28px;gap:4px;font-size:12px;color:#1F2328;display:none;}/*!sc*/
.dAvRwz[data-size="small"] [data-component="text"]{line-height:calc(20 / 12);}/*!sc*/
.dAvRwz[data-size="small"] [data-component=ButtonCounter]{font-size:12px;}/*!sc*/
.dAvRwz[data-size="small"] [data-component="buttonContent"] > :not(:last-child){margin-right:4px;}/*!sc*/
.dAvRwz[data-size="small"][data-component=IconButton]{width:28px;padding:unset;}/*!sc*/
@media screen and (min-width:544px){.dAvRwz[data-size="small"]{display:none;}}/*!sc*/
@media screen and (min-width:768px){.dAvRwz[data-size="small"]{display:block;}}/*!sc*/
@media screen and (min-width:1012px){.dAvRwz[data-size="small"]{display:block;}}/*!sc*/
.dAvRwz[data-size="large"]{padding:0 16px;height:40px;gap:8px;}/*!sc*/
.dAvRwz[data-size="large"] [data-component="buttonContent"] > :not(:last-child){margin-right:8px;}/*!sc*/
.dAvRwz[data-size="large"][data-component=IconButton]{width:40px;padding:unset;}/*!sc*/
.dAvRwz[data-block="block"]{width:100%;}/*!sc*/
.dAvRwz [data-component="leadingVisual"]{grid-area:leadingVisual;color:#656d76;}/*!sc*/
.dAvRwz [data-component="text"]{grid-area:text;line-height:calc(20/14);white-space:nowrap;}/*!sc*/
.dAvRwz [data-component="trailingVisual"]{grid-area:trailingVisual;}/*!sc*/
.dAvRwz [data-component="trailingAction"]{margin-right:-4px;color:#656d76;}/*!sc*/
.dAvRwz [data-component="buttonContent"]{-webkit-flex:1 0 auto;-ms-flex:1 0 auto;flex:1 0 auto;display:grid;grid-template-areas:"leadingVisual text trailingVisual";grid-template-columns:min-content minmax(0,auto) min-content;-webkit-align-items:center;-webkit-box-align:center;-ms-flex-align:center;align-items:center;-webkit-align-content:center;-ms-flex-line-pack:center;align-content:center;}/*!sc*/
.dAvRwz [data-component="buttonContent"] > :not(:last-child){margin-right:8px;}/*!sc*/
.dAvRwz:hover:not([disabled]){background-color:rgba(208,215,222,0.32);}/*!sc*/
.dAvRwz:active:not([disabled]){background-color:rgba(208,215,222,0.48);}/*!sc*/
.dAvRwz[aria-expanded=true]{background-color:rgba(208,215,222,0.24);}/*!sc*/
.dAvRwz[data-component="IconButton"][data-no-visuals]{color:#656d76;}/*!sc*/
.dAvRwz[data-no-visuals]{color:#0969da;}/*!sc*/
.dAvRwz:has([data-component="ButtonCounter"]){color:#24292f;}/*!sc*/
.dAvRwz:disabled[data-no-visuals]{color:#8c959f;}/*!sc*/
.dAvRwz:disabled[data-no-visuals] [data-component=ButtonCounter]{color:inherit;}/*!sc*/
.cpKQnD{border-radius:6px;border:1px solid;border-color:transparent;font-family:inherit;font-weight:500;font-size:14px;cursor:pointer;-webkit-appearance:none;-moz-appearance:none;appearance:none;-webkit-user-select:none;-moz-user-select:none;-ms-user-select:none;user-select:none;-webkit-text-decoration:none;text-decoration:none;text-align:center;display:-webkit-box;display:-webkit-flex;display:-ms-flexbox;display:flex;-webkit-align-items:center;-webkit-box-align:center;-ms-flex-align:center;align-items:center;-webkit-box-pack:justify;-webkit-justify-content:space-between;-ms-flex-pack:justify;justify-content:space-between;height:32px;padding:0 12px;gap:8px;min-width:-webkit-max-content;min-width:-moz-max-content;min-width:max-content;-webkit-transition:80ms cubic-bezier(0.65,0,0.35,1);transition:80ms cubic-bezier(0.65,0,0.35,1);-webkit-transition-property:color,fill,background-color,border-color;transition-property:color,fill,background-color,border-color;color:#24292f;background-color:transparent;box-shadow:none;}/*!sc*/
.cpKQnD:focus:not(:disabled){box-shadow:none;outline:2px solid #0969da;outline-offset:-2px;}/*!sc*/
.cpKQnD:focus:not(:disabled):not(:focus-visible){outline:solid 1px transparent;}/*!sc*/
.cpKQnD:focus-visible:not(:disabled){box-shadow:none;outline:2px solid #0969da;outline-offset:-2px;}/*!sc*/
.cpKQnD[href]{display:-webkit-inline-box;display:-webkit-inline-flex;display:-ms-inline-flexbox;display:inline-flex;}/*!sc*/
.cpKQnD[href]:hover{-webkit-text-decoration:none;text-decoration:none;}/*!sc*/
.cpKQnD:hover{-webkit-transition-duration:80ms;transition-duration:80ms;}/*!sc*/
.cpKQnD:active{-webkit-transition:none;transition:none;}/*!sc*/
.cpKQnD:disabled{cursor:not-allowed;box-shadow:none;color:#8c959f;}/*!sc*/
.cpKQnD:disabled [data-component=ButtonCounter],.cpKQnD:disabled [data-component="leadingVisual"],.cpKQnD:disabled [data-component="trailingAction"]{color:inherit;}/*!sc*/
@media (forced-colors:active){.cpKQnD:focus{outline:solid 1px transparent;}}/*!sc*/
.cpKQnD [data-component=ButtonCounter]{font-size:12px;}/*!sc*/
.cpKQnD[data-component=IconButton]{display:inline-grid;padding:unset;place-content:center;width:32px;min-width:unset;}/*!sc*/
.cpKQnD[data-size="small"]{padding:0 8px;height:28px;gap:4px;font-size:12px;color:#1F2328;margin-left:8px;}/*!sc*/
.cpKQnD[data-size="small"] [data-component="text"]{line-height:calc(20 / 12);}/*!sc*/
.cpKQnD[data-size="small"] [data-component=ButtonCounter]{font-size:12px;}/*!sc*/
.cpKQnD[data-size="small"] [data-component="buttonContent"] > :not(:last-child){margin-right:4px;}/*!sc*/
.cpKQnD[data-size="small"][data-component=IconButton]{width:28px;padding:unset;}/*!sc*/
.cpKQnD[data-size="large"]{padding:0 16px;height:40px;gap:8px;}/*!sc*/
.cpKQnD[data-size="large"] [data-component="buttonContent"] > :not(:last-child){margin-right:8px;}/*!sc*/
.cpKQnD[data-size="large"][data-component=IconButton]{width:40px;padding:unset;}/*!sc*/
.cpKQnD[data-block="block"]{width:100%;}/*!sc*/
.cpKQnD [data-component="leadingVisual"]{grid-area:leadingVisual;color:#656d76;}/*!sc*/
.cpKQnD [data-component="text"]{grid-area:text;line-height:calc(20/14);white-space:nowrap;}/*!sc*/
.cpKQnD [data-component="trailingVisual"]{grid-area:trailingVisual;}/*!sc*/
.cpKQnD [data-component="trailingAction"]{margin-right:-4px;color:#656d76;}/*!sc*/
.cpKQnD [data-component="buttonContent"]{-webkit-flex:1 0 auto;-ms-flex:1 0 auto;flex:1 0 auto;display:grid;grid-template-areas:"leadingVisual text trailingVisual";grid-template-columns:min-content minmax(0,auto) min-content;-webkit-align-items:center;-webkit-box-align:center;-ms-flex-align:center;align-items:center;-webkit-align-content:center;-ms-flex-line-pack:center;align-content:center;}/*!sc*/
.cpKQnD [data-component="buttonContent"] > :not(:last-child){margin-right:8px;}/*!sc*/
.cpKQnD:hover:not([disabled]){background-color:rgba(208,215,222,0.32);}/*!sc*/
.cpKQnD:active:not([disabled]){background-color:rgba(208,215,222,0.48);}/*!sc*/
.cpKQnD[aria-expanded=true]{background-color:rgba(208,215,222,0.24);}/*!sc*/
.cpKQnD[data-component="IconButton"][data-no-visuals]{color:#656d76;}/*!sc*/
.cpKQnD[data-no-visuals]{color:#0969da;}/*!sc*/
.cpKQnD:has([data-component="ButtonCounter"]){color:#24292f;}/*!sc*/
.cpKQnD:disabled[data-no-visuals]{color:#8c959f;}/*!sc*/
.cpKQnD:disabled[data-no-visuals] [data-component=ButtonCounter]{color:inherit;}/*!sc*/
.guoGbh{border-radius:6px;border:1px solid;border-color:var(--button-default-borderColor-rest,rgba(31,35,40,0.15));font-family:inherit;font-weight:500;font-size:14px;cursor:pointer;-webkit-appearance:none;-moz-appearance:none;appearance:none;-webkit-user-select:none;-moz-user-select:none;-ms-user-select:none;user-select:none;-webkit-text-decoration:none;text-decoration:none;text-align:center;display:-webkit-box;display:-webkit-flex;display:-ms-flexbox;display:flex;-webkit-align-items:center;-webkit-box-align:center;-ms-flex-align:center;align-items:center;-webkit-box-pack:justify;-webkit-justify-content:space-between;-ms-flex-pack:justify;justify-content:space-between;height:32px;padding:0 12px;gap:8px;min-width:-webkit-max-content;min-width:-moz-max-content;min-width:max-content;-webkit-transition:80ms cubic-bezier(0.65,0,0.35,1);transition:80ms cubic-bezier(0.65,0,0.35,1);-webkit-transition-property:color,fill,background-color,border-color;transition-property:color,fill,background-color,border-color;color:#24292f;background-color:#f6f8fa;box-shadow:0 1px 0 rgba(31,35,40,0.04),inset 0 1px 0 rgba(255,255,255,0.25);padding-left:8px;padding-right:8px;}/*!sc*/
.guoGbh:focus:not(:disabled){box-shadow:none;outline:2px solid #0969da;outline-offset:-2px;}/*!sc*/
.guoGbh:focus:not(:disabled):not(:focus-visible){outline:solid 1px transparent;}/*!sc*/
.guoGbh:focus-visible:not(:disabled){box-shadow:none;outline:2px solid #0969da;outline-offset:-2px;}/*!sc*/
.guoGbh[href]{display:-webkit-inline-box;display:-webkit-inline-flex;display:-ms-inline-flexbox;display:inline-flex;}/*!sc*/
.guoGbh[href]:hover{-webkit-text-decoration:none;text-decoration:none;}/*!sc*/
.guoGbh:hover{-webkit-transition-duration:80ms;transition-duration:80ms;}/*!sc*/
.guoGbh:active{-webkit-transition:none;transition:none;}/*!sc*/
.guoGbh:disabled{cursor:not-allowed;box-shadow:none;color:#8c959f;}/*!sc*/
.guoGbh:disabled [data-component=ButtonCounter]{color:inherit;}/*!sc*/
@media (forced-colors:active){.guoGbh:focus{outline:solid 1px transparent;}}/*!sc*/
.guoGbh [data-component=ButtonCounter]{font-size:12px;}/*!sc*/
.guoGbh[data-component=IconButton]{display:inline-grid;padding:unset;place-content:center;width:32px;min-width:unset;}/*!sc*/
.guoGbh[data-size="small"]{padding:0 8px;height:28px;gap:4px;font-size:12px;}/*!sc*/
.guoGbh[data-size="small"] [data-component="text"]{line-height:calc(20 / 12);}/*!sc*/
.guoGbh[data-size="small"] [data-component=ButtonCounter]{font-size:12px;}/*!sc*/
.guoGbh[data-size="small"] [data-component="buttonContent"] > :not(:last-child){margin-right:4px;}/*!sc*/
.guoGbh[data-size="small"][data-component=IconButton]{width:28px;padding:unset;}/*!sc*/
.guoGbh[data-size="large"]{padding:0 16px;height:40px;gap:8px;}/*!sc*/
.guoGbh[data-size="large"] [data-component="buttonContent"] > :not(:last-child){margin-right:8px;}/*!sc*/
.guoGbh[data-size="large"][data-component=IconButton]{width:40px;padding:unset;}/*!sc*/
.guoGbh[data-block="block"]{width:100%;}/*!sc*/
.guoGbh [data-component="leadingVisual"]{grid-area:leadingVisual;}/*!sc*/
.guoGbh [data-component="text"]{grid-area:text;line-height:calc(20/14);white-space:nowrap;}/*!sc*/
.guoGbh [data-component="trailingVisual"]{grid-area:trailingVisual;}/*!sc*/
.guoGbh [data-component="trailingAction"]{margin-right:-4px;}/*!sc*/
.guoGbh [data-component="buttonContent"]{-webkit-flex:1 0 auto;-ms-flex:1 0 auto;flex:1 0 auto;display:grid;grid-template-areas:"leadingVisual text trailingVisual";grid-template-columns:min-content minmax(0,auto) min-content;-webkit-align-items:center;-webkit-box-align:center;-ms-flex-align:center;align-items:center;-webkit-align-content:center;-ms-flex-line-pack:center;align-content:center;}/*!sc*/
.guoGbh [data-component="buttonContent"] > :not(:last-child){margin-right:8px;}/*!sc*/
.guoGbh:hover:not([disabled]){background-color:#f3f4f6;border-color:var(--button-default-borderColor-hover,rgba(31,35,40,0.15));}/*!sc*/
.guoGbh:active:not([disabled]){background-color:hsla(220,14%,93%,1);border-color:var(--button-default-borderColor-active,rgba(31,35,40,0.15));}/*!sc*/
.guoGbh[aria-expanded=true]{background-color:hsla(220,14%,93%,1);border-color:var(--button-default-borderColor-active,rgba(31,35,40,0.15));}/*!sc*/
.guoGbh [data-component="leadingVisual"],.guoGbh [data-component="trailingVisual"],.guoGbh [data-component="trailingAction"]{color:var(--button-color,#656d76);}/*!sc*/
.guoGbh linkButtonSx:hover:not([disabled]){-webkit-text-decoration:none;text-decoration:none;}/*!sc*/
.guoGbh linkButtonSx:focus:not([disabled]){-webkit-text-decoration:none;text-decoration:none;}/*!sc*/
.guoGbh linkButtonSx:active:not([disabled]){-webkit-text-decoration:none;text-decoration:none;}/*!sc*/
.iTETFQ{border-radius:6px;border:1px solid;border-color:var(--button-default-borderColor-rest,rgba(31,35,40,0.15));font-family:inherit;font-weight:500;font-size:14px;cursor:pointer;-webkit-appearance:none;-moz-appearance:none;appearance:none;-webkit-user-select:none;-moz-user-select:none;-ms-user-select:none;user-select:none;-webkit-text-decoration:none;text-decoration:none;text-align:center;display:-webkit-box;display:-webkit-flex;display:-ms-flexbox;display:flex;-webkit-align-items:center;-webkit-box-align:center;-ms-flex-align:center;align-items:center;-webkit-box-pack:justify;-webkit-justify-content:space-between;-ms-flex-pack:justify;justify-content:space-between;height:32px;padding:0 12px;gap:8px;min-width:-webkit-max-content;min-width:-moz-max-content;min-width:max-content;-webkit-transition:80ms cubic-bezier(0.65,0,0.35,1);transition:80ms cubic-bezier(0.65,0,0.35,1);-webkit-transition-property:color,fill,background-color,border-color;transition-property:color,fill,background-color,border-color;color:#24292f;background-color:#f6f8fa;box-shadow:0 1px 0 rgba(31,35,40,0.04),inset 0 1px 0 rgba(255,255,255,0.25);}/*!sc*/
.iTETFQ:focus:not(:disabled){box-shadow:none;outline:2px solid #0969da;outline-offset:-2px;}/*!sc*/
.iTETFQ:focus:not(:disabled):not(:focus-visible){outline:solid 1px transparent;}/*!sc*/
.iTETFQ:focus-visible:not(:disabled){box-shadow:none;outline:2px solid #0969da;outline-offset:-2px;}/*!sc*/
.iTETFQ[href]{display:-webkit-inline-box;display:-webkit-inline-flex;display:-ms-inline-flexbox;display:inline-flex;}/*!sc*/
.iTETFQ[href]:hover{-webkit-text-decoration:none;text-decoration:none;}/*!sc*/
.iTETFQ:hover{-webkit-transition-duration:80ms;transition-duration:80ms;}/*!sc*/
.iTETFQ:active{-webkit-transition:none;transition:none;}/*!sc*/
.iTETFQ:disabled{cursor:not-allowed;box-shadow:none;color:#8c959f;}/*!sc*/
.iTETFQ:disabled [data-component=ButtonCounter]{color:inherit;}/*!sc*/
@media (forced-colors:active){.iTETFQ:focus{outline:solid 1px transparent;}}/*!sc*/
.iTETFQ [data-component=ButtonCounter]{font-size:12px;}/*!sc*/
.iTETFQ[data-component=IconButton]{display:inline-grid;padding:unset;place-content:center;width:32px;min-width:unset;}/*!sc*/
.iTETFQ[data-size="small"]{padding:0 8px;height:28px;gap:4px;font-size:12px;}/*!sc*/
.iTETFQ[data-size="small"] [data-component="text"]{line-height:calc(20 / 12);}/*!sc*/
.iTETFQ[data-size="small"] [data-component=ButtonCounter]{font-size:12px;}/*!sc*/
.iTETFQ[data-size="small"] [data-component="buttonContent"] > :not(:last-child){margin-right:4px;}/*!sc*/
.iTETFQ[data-size="small"][data-component=IconButton]{width:28px;padding:unset;}/*!sc*/
.iTETFQ[data-size="large"]{padding:0 16px;height:40px;gap:8px;}/*!sc*/
.iTETFQ[data-size="large"] [data-component="buttonContent"] > :not(:last-child){margin-right:8px;}/*!sc*/
.iTETFQ[data-size="large"][data-component=IconButton]{width:40px;padding:unset;}/*!sc*/
.iTETFQ[data-block="block"]{width:100%;}/*!sc*/
.iTETFQ [data-component="leadingVisual"]{grid-area:leadingVisual;}/*!sc*/
.iTETFQ [data-component="text"]{grid-area:text;line-height:calc(20/14);white-space:nowrap;}/*!sc*/
.iTETFQ [data-component="trailingVisual"]{grid-area:trailingVisual;}/*!sc*/
.iTETFQ [data-component="trailingAction"]{margin-right:-4px;}/*!sc*/
.iTETFQ [data-component="buttonContent"]{-webkit-flex:1 0 auto;-ms-flex:1 0 auto;flex:1 0 auto;display:grid;grid-template-areas:"leadingVisual text trailingVisual";grid-template-columns:min-content minmax(0,auto) min-content;-webkit-align-items:center;-webkit-box-align:center;-ms-flex-align:center;align-items:center;-webkit-align-content:center;-ms-flex-line-pack:center;align-content:center;}/*!sc*/
.iTETFQ [data-component="buttonContent"] > :not(:last-child){margin-right:8px;}/*!sc*/
.iTETFQ:hover:not([disabled]){background-color:#f3f4f6;border-color:var(--button-default-borderColor-hover,rgba(31,35,40,0.15));}/*!sc*/
.iTETFQ:active:not([disabled]){background-color:hsla(220,14%,93%,1);border-color:var(--button-default-borderColor-active,rgba(31,35,40,0.15));}/*!sc*/
.iTETFQ[aria-expanded=true]{background-color:hsla(220,14%,93%,1);border-color:var(--button-default-borderColor-active,rgba(31,35,40,0.15));}/*!sc*/
.iTETFQ [data-component="leadingVisual"],.iTETFQ [data-component="trailingVisual"],.iTETFQ [data-component="trailingAction"]{color:var(--button-color,#656d76);}/*!sc*/
.cGEhqE{border-radius:6px;border:1px solid;border-color:var(--button-default-borderColor-rest,rgba(31,35,40,0.15));font-family:inherit;font-weight:500;font-size:14px;cursor:pointer;-webkit-appearance:none;-moz-appearance:none;appearance:none;-webkit-user-select:none;-moz-user-select:none;-ms-user-select:none;user-select:none;-webkit-text-decoration:none;text-decoration:none;text-align:center;display:-webkit-box;display:-webkit-flex;display:-ms-flexbox;display:flex;-webkit-align-items:center;-webkit-box-align:center;-ms-flex-align:center;align-items:center;-webkit-box-pack:justify;-webkit-justify-content:space-between;-ms-flex-pack:justify;justify-content:space-between;height:32px;padding:0 12px;gap:8px;min-width:-webkit-max-content;min-width:-moz-max-content;min-width:max-content;-webkit-transition:80ms cubic-bezier(0.65,0,0.35,1);transition:80ms cubic-bezier(0.65,0,0.35,1);-webkit-transition-property:color,fill,background-color,border-color;transition-property:color,fill,background-color,border-color;color:#24292f;background-color:#f6f8fa;box-shadow:0 1px 0 rgba(31,35,40,0.04),inset 0 1px 0 rgba(255,255,255,0.25);}/*!sc*/
.cGEhqE:focus:not(:disabled){box-shadow:none;outline:2px solid #0969da;outline-offset:-2px;}/*!sc*/
.cGEhqE:focus:not(:disabled):not(:focus-visible){outline:solid 1px transparent;}/*!sc*/
.cGEhqE:focus-visible:not(:disabled){box-shadow:none;outline:2px solid #0969da;outline-offset:-2px;}/*!sc*/
.cGEhqE[href]{display:-webkit-inline-box;display:-webkit-inline-flex;display:-ms-inline-flexbox;display:inline-flex;}/*!sc*/
.cGEhqE[href]:hover{-webkit-text-decoration:none;text-decoration:none;}/*!sc*/
.cGEhqE:hover{-webkit-transition-duration:80ms;transition-duration:80ms;}/*!sc*/
.cGEhqE:active{-webkit-transition:none;transition:none;}/*!sc*/
.cGEhqE:disabled{cursor:not-allowed;box-shadow:none;color:#8c959f;}/*!sc*/
.cGEhqE:disabled [data-component=ButtonCounter]{color:inherit;}/*!sc*/
@media (forced-colors:active){.cGEhqE:focus{outline:solid 1px transparent;}}/*!sc*/
.cGEhqE [data-component=ButtonCounter]{font-size:12px;}/*!sc*/
.cGEhqE[data-component=IconButton]{display:inline-grid;padding:unset;place-content:center;width:32px;min-width:unset;}/*!sc*/
.cGEhqE[data-size="small"]{padding:0 8px;height:28px;gap:4px;font-size:12px;}/*!sc*/
.cGEhqE[data-size="small"] [data-component="text"]{line-height:calc(20 / 12);}/*!sc*/
.cGEhqE[data-size="small"] [data-component=ButtonCounter]{font-size:12px;}/*!sc*/
.cGEhqE[data-size="small"] [data-component="buttonContent"] > :not(:last-child){margin-right:4px;}/*!sc*/
.cGEhqE[data-size="small"][data-component=IconButton]{width:28px;padding:unset;}/*!sc*/
.cGEhqE[data-size="large"]{padding:0 16px;height:40px;gap:8px;}/*!sc*/
.cGEhqE[data-size="large"] [data-component="buttonContent"] > :not(:last-child){margin-right:8px;}/*!sc*/
.cGEhqE[data-size="large"][data-component=IconButton]{width:40px;padding:unset;}/*!sc*/
.cGEhqE[data-block="block"]{width:100%;}/*!sc*/
.cGEhqE [data-component="leadingVisual"]{grid-area:leadingVisual;}/*!sc*/
.cGEhqE [data-component="text"]{grid-area:text;line-height:calc(20/14);white-space:nowrap;}/*!sc*/
.cGEhqE [data-component="trailingVisual"]{grid-area:trailingVisual;}/*!sc*/
.cGEhqE [data-component="trailingAction"]{margin-right:-4px;}/*!sc*/
.cGEhqE [data-component="buttonContent"]{-webkit-flex:1 0 auto;-ms-flex:1 0 auto;flex:1 0 auto;display:grid;grid-template-areas:"leadingVisual text trailingVisual";grid-template-columns:min-content minmax(0,auto) min-content;-webkit-align-items:center;-webkit-box-align:center;-ms-flex-align:center;align-items:center;-webkit-align-content:center;-ms-flex-line-pack:center;align-content:center;}/*!sc*/
.cGEhqE [data-component="buttonContent"] > :not(:last-child){margin-right:8px;}/*!sc*/
.cGEhqE:hover:not([disabled]){background-color:#f3f4f6;border-color:var(--button-default-borderColor-hover,rgba(31,35,40,0.15));}/*!sc*/
.cGEhqE:active:not([disabled]){background-color:hsla(220,14%,93%,1);border-color:var(--button-default-borderColor-active,rgba(31,35,40,0.15));}/*!sc*/
.cGEhqE[aria-expanded=true]{background-color:hsla(220,14%,93%,1);border-color:var(--button-default-borderColor-active,rgba(31,35,40,0.15));}/*!sc*/
.cGEhqE [data-component="leadingVisual"],.cGEhqE [data-component="trailingVisual"],.cGEhqE [data-component="trailingAction"]{color:var(--button-color,#656d76);}/*!sc*/
.cGEhqE[data-size="small"][data-no-visuals]{border-top-left-radius:0;border-bottom-left-radius:0;}/*!sc*/
.jtzLHK{border-radius:6px;border:1px solid;border-color:var(--button-default-borderColor-rest,rgba(31,35,40,0.15));font-family:inherit;font-weight:500;font-size:14px;cursor:pointer;-webkit-appearance:none;-moz-appearance:none;appearance:none;-webkit-user-select:none;-moz-user-select:none;-ms-user-select:none;user-select:none;-webkit-text-decoration:none;text-decoration:none;text-align:center;display:-webkit-box;display:-webkit-flex;display:-ms-flexbox;display:flex;-webkit-align-items:center;-webkit-box-align:center;-ms-flex-align:center;align-items:center;-webkit-box-pack:justify;-webkit-justify-content:space-between;-ms-flex-pack:justify;justify-content:space-between;height:32px;padding:0 12px;gap:8px;min-width:-webkit-max-content;min-width:-moz-max-content;min-width:max-content;-webkit-transition:80ms cubic-bezier(0.65,0,0.35,1);transition:80ms cubic-bezier(0.65,0,0.35,1);-webkit-transition-property:color,fill,background-color,border-color;transition-property:color,fill,background-color,border-color;color:#24292f;background-color:#f6f8fa;box-shadow:0 1px 0 rgba(31,35,40,0.04),inset 0 1px 0 rgba(255,255,255,0.25);}/*!sc*/
.jtzLHK:focus:not(:disabled){box-shadow:none;outline:2px solid #0969da;outline-offset:-2px;}/*!sc*/
.jtzLHK:focus:not(:disabled):not(:focus-visible){outline:solid 1px transparent;}/*!sc*/
.jtzLHK:focus-visible:not(:disabled){box-shadow:none;outline:2px solid #0969da;outline-offset:-2px;}/*!sc*/
.jtzLHK[href]{display:-webkit-inline-box;display:-webkit-inline-flex;display:-ms-inline-flexbox;display:inline-flex;}/*!sc*/
.jtzLHK[href]:hover{-webkit-text-decoration:none;text-decoration:none;}/*!sc*/
.jtzLHK:hover{-webkit-transition-duration:80ms;transition-duration:80ms;}/*!sc*/
.jtzLHK:active{-webkit-transition:none;transition:none;}/*!sc*/
.jtzLHK:disabled{cursor:not-allowed;box-shadow:none;color:#8c959f;}/*!sc*/
.jtzLHK:disabled [data-component=ButtonCounter]{color:inherit;}/*!sc*/
@media (forced-colors:active){.jtzLHK:focus{outline:solid 1px transparent;}}/*!sc*/
.jtzLHK [data-component=ButtonCounter]{font-size:12px;}/*!sc*/
.jtzLHK[data-component=IconButton]{display:inline-grid;padding:unset;place-content:center;width:32px;min-width:unset;}/*!sc*/
.jtzLHK[data-size="small"]{padding:0 8px;height:28px;gap:4px;font-size:12px;}/*!sc*/
.jtzLHK[data-size="small"] [data-component="text"]{line-height:calc(20 / 12);}/*!sc*/
.jtzLHK[data-size="small"] [data-component=ButtonCounter]{font-size:12px;}/*!sc*/
.jtzLHK[data-size="small"] [data-component="buttonContent"] > :not(:last-child){margin-right:4px;}/*!sc*/
.jtzLHK[data-size="small"][data-component=IconButton]{width:28px;padding:unset;}/*!sc*/
.jtzLHK[data-size="large"]{padding:0 16px;height:40px;gap:8px;}/*!sc*/
.jtzLHK[data-size="large"] [data-component="buttonContent"] > :not(:last-child){margin-right:8px;}/*!sc*/
.jtzLHK[data-size="large"][data-component=IconButton]{width:40px;padding:unset;}/*!sc*/
.jtzLHK[data-block="block"]{width:100%;}/*!sc*/
.jtzLHK [data-component="leadingVisual"]{grid-area:leadingVisual;}/*!sc*/
.jtzLHK [data-component="text"]{grid-area:text;line-height:calc(20/14);white-space:nowrap;}/*!sc*/
.jtzLHK [data-component="trailingVisual"]{grid-area:trailingVisual;}/*!sc*/
.jtzLHK [data-component="trailingAction"]{margin-right:-4px;}/*!sc*/
.jtzLHK [data-component="buttonContent"]{-webkit-flex:1 0 auto;-ms-flex:1 0 auto;flex:1 0 auto;display:grid;grid-template-areas:"leadingVisual text trailingVisual";grid-template-columns:min-content minmax(0,auto) min-content;-webkit-align-items:center;-webkit-box-align:center;-ms-flex-align:center;align-items:center;-webkit-align-content:center;-ms-flex-line-pack:center;align-content:center;}/*!sc*/
.jtzLHK [data-component="buttonContent"] > :not(:last-child){margin-right:8px;}/*!sc*/
.jtzLHK:hover:not([disabled]){background-color:#f3f4f6;border-color:var(--button-default-borderColor-hover,rgba(31,35,40,0.15));}/*!sc*/
.jtzLHK:active:not([disabled]){background-color:hsla(220,14%,93%,1);border-color:var(--button-default-borderColor-active,rgba(31,35,40,0.15));}/*!sc*/
.jtzLHK[aria-expanded=true]{background-color:hsla(220,14%,93%,1);border-color:var(--button-default-borderColor-active,rgba(31,35,40,0.15));}/*!sc*/
.jtzLHK [data-component="leadingVisual"],.jtzLHK [data-component="trailingVisual"],.jtzLHK [data-component="trailingAction"]{color:var(--button-color,#656d76);}/*!sc*/
.jtzLHK[data-size="small"][data-no-visuals]{border-top-right-radius:0;border-bottom-right-radius:0;border-right-width:0;}/*!sc*/
.jtzLHK[data-size="small"][data-no-visuals]:hover:not([disabled]){-webkit-text-decoration:none;text-decoration:none;}/*!sc*/
.jtzLHK[data-size="small"][data-no-visuals]:focus:not([disabled]){-webkit-text-decoration:none;text-decoration:none;}/*!sc*/
.jtzLHK[data-size="small"][data-no-visuals]:active:not([disabled]){-webkit-text-decoration:none;text-decoration:none;}/*!sc*/
.dObcAW{border-radius:6px;border:1px solid;border-color:transparent;font-family:inherit;font-weight:500;font-size:14px;cursor:pointer;-webkit-appearance:none;-moz-appearance:none;appearance:none;-webkit-user-select:none;-moz-user-select:none;-ms-user-select:none;user-select:none;-webkit-text-decoration:none;text-decoration:none;text-align:center;display:-webkit-box;display:-webkit-flex;display:-ms-flexbox;display:flex;-webkit-align-items:center;-webkit-box-align:center;-ms-flex-align:center;align-items:center;-webkit-box-pack:justify;-webkit-justify-content:space-between;-ms-flex-pack:justify;justify-content:space-between;height:32px;padding:0 12px;gap:8px;min-width:-webkit-max-content;min-width:-moz-max-content;min-width:max-content;-webkit-transition:80ms cubic-bezier(0.65,0,0.35,1);transition:80ms cubic-bezier(0.65,0,0.35,1);-webkit-transition-property:color,fill,background-color,border-color;transition-property:color,fill,background-color,border-color;color:#24292f;background-color:transparent;box-shadow:none;}/*!sc*/
.dObcAW:focus:not(:disabled){box-shadow:none;outline:2px solid #0969da;outline-offset:-2px;}/*!sc*/
.dObcAW:focus:not(:disabled):not(:focus-visible){outline:solid 1px transparent;}/*!sc*/
.dObcAW:focus-visible:not(:disabled){box-shadow:none;outline:2px solid #0969da;outline-offset:-2px;}/*!sc*/
.dObcAW[href]{display:-webkit-inline-box;display:-webkit-inline-flex;display:-ms-inline-flexbox;display:inline-flex;}/*!sc*/
.dObcAW[href]:hover{-webkit-text-decoration:none;text-decoration:none;}/*!sc*/
.dObcAW:hover{-webkit-transition-duration:80ms;transition-duration:80ms;}/*!sc*/
.dObcAW:active{-webkit-transition:none;transition:none;}/*!sc*/
.dObcAW:disabled{cursor:not-allowed;box-shadow:none;color:#8c959f;}/*!sc*/
.dObcAW:disabled [data-component=ButtonCounter],.dObcAW:disabled [data-component="leadingVisual"],.dObcAW:disabled [data-component="trailingAction"]{color:inherit;}/*!sc*/
@media (forced-colors:active){.dObcAW:focus{outline:solid 1px transparent;}}/*!sc*/
.dObcAW [data-component=ButtonCounter]{font-size:12px;}/*!sc*/
.dObcAW[data-component=IconButton]{display:inline-grid;padding:unset;place-content:center;width:32px;min-width:unset;}/*!sc*/
.dObcAW[data-size="small"]{padding:0 8px;height:28px;gap:4px;font-size:12px;}/*!sc*/
.dObcAW[data-size="small"] [data-component="text"]{line-height:calc(20 / 12);}/*!sc*/
.dObcAW[data-size="small"] [data-component=ButtonCounter]{font-size:12px;}/*!sc*/
.dObcAW[data-size="small"] [data-component="buttonContent"] > :not(:last-child){margin-right:4px;}/*!sc*/
.dObcAW[data-size="small"][data-component=IconButton]{width:28px;padding:unset;}/*!sc*/
.dObcAW[data-size="large"]{padding:0 16px;height:40px;gap:8px;}/*!sc*/
.dObcAW[data-size="large"] [data-component="buttonContent"] > :not(:last-child){margin-right:8px;}/*!sc*/
.dObcAW[data-size="large"][data-component=IconButton]{width:40px;padding:unset;}/*!sc*/
.dObcAW[data-block="block"]{width:100%;}/*!sc*/
.dObcAW [data-component="leadingVisual"]{grid-area:leadingVisual;color:#656d76;}/*!sc*/
.dObcAW [data-component="text"]{grid-area:text;line-height:calc(20/14);white-space:nowrap;}/*!sc*/
.dObcAW [data-component="trailingVisual"]{grid-area:trailingVisual;}/*!sc*/
.dObcAW [data-component="trailingAction"]{margin-right:-4px;color:#656d76;}/*!sc*/
.dObcAW [data-component="buttonContent"]{-webkit-flex:1 0 auto;-ms-flex:1 0 auto;flex:1 0 auto;display:grid;grid-template-areas:"leadingVisual text trailingVisual";grid-template-columns:min-content minmax(0,auto) min-content;-webkit-align-items:center;-webkit-box-align:center;-ms-flex-align:center;align-items:center;-webkit-align-content:center;-ms-flex-line-pack:center;align-content:center;}/*!sc*/
.dObcAW [data-component="buttonContent"] > :not(:last-child){margin-right:8px;}/*!sc*/
.dObcAW:hover:not([disabled]){background-color:rgba(208,215,222,0.32);}/*!sc*/
.dObcAW:active:not([disabled]){background-color:rgba(208,215,222,0.48);}/*!sc*/
.dObcAW[aria-expanded=true]{background-color:rgba(208,215,222,0.24);}/*!sc*/
.dObcAW[data-component="IconButton"][data-no-visuals]{color:#656d76;}/*!sc*/
.dObcAW[data-no-visuals]{color:#0969da;}/*!sc*/
.dObcAW:has([data-component="ButtonCounter"]){color:#24292f;}/*!sc*/
.dObcAW:disabled[data-no-visuals]{color:#8c959f;}/*!sc*/
.dObcAW:disabled[data-no-visuals] [data-component=ButtonCounter]{color:inherit;}/*!sc*/
.dObcAW[data-size="small"][data-no-visuals]{color:#656d76;}/*!sc*/
data-styled.g28[id="types__StyledButton-sc-ws60qy-0"]{content:"CtaSm,edBXBM,woUrt,jikjkp,jGImdP,hgfMvt,iwEpzF,bNMwOz,bLPynQ,fNmgkb,dAvRwz,cpKQnD,guoGbh,iTETFQ,cGEhqE,jtzLHK,dObcAW,"}/*!sc*/
.hFFfJn{position:relative;display:inline-block;}/*!sc*/
.hFFfJn::before{position:absolute;z-index:1000001;display:none;width:0px;height:0px;color:#24292f;pointer-events:none;content:'';border:6px solid transparent;opacity:0;}/*!sc*/
.hFFfJn::after{position:absolute;z-index:1000000;display:none;padding:0.5em 0.75em;font:normal normal 11px/1.5 -apple-system,BlinkMacSystemFont,"Segoe UI","Noto Sans",Helvetica,Arial,sans-serif,"Apple Color Emoji","Segoe UI Emoji";-webkit-font-smoothing:subpixel-antialiased;color:#ffffff;text-align:center;-webkit-text-decoration:none;text-decoration:none;text-shadow:none;text-transform:none;-webkit-letter-spacing:normal;-moz-letter-spacing:normal;-ms-letter-spacing:normal;letter-spacing:normal;word-wrap:break-word;white-space:pre;pointer-events:none;content:attr(aria-label);background:#24292f;border-radius:3px;opacity:0;}/*!sc*/
@-webkit-keyframes tooltip-appear{from{opacity:0;}to{opacity:1;}}/*!sc*/
@keyframes tooltip-appear{from{opacity:0;}to{opacity:1;}}/*!sc*/
.hFFfJn:hover::before,.hFFfJn:active::before,.hFFfJn:focus::before,.hFFfJn:focus-within::before,.hFFfJn:hover::after,.hFFfJn:active::after,.hFFfJn:focus::after,.hFFfJn:focus-within::after{display:inline-block;-webkit-text-decoration:none;text-decoration:none;-webkit-animation-name:tooltip-appear;animation-name:tooltip-appear;-webkit-animation-duration:0.1s;animation-duration:0.1s;-webkit-animation-fill-mode:forwards;animation-fill-mode:forwards;-webkit-animation-timing-function:ease-in;animation-timing-function:ease-in;-webkit-animation-delay:0.4s;animation-delay:0.4s;}/*!sc*/
.hFFfJn.tooltipped-no-delay:hover::before,.hFFfJn.tooltipped-no-delay:active::before,.hFFfJn.tooltipped-no-delay:focus::before,.hFFfJn.tooltipped-no-delay:focus-within::before,.hFFfJn.tooltipped-no-delay:hover::after,.hFFfJn.tooltipped-no-delay:active::after,.hFFfJn.tooltipped-no-delay:focus::after,.hFFfJn.tooltipped-no-delay:focus-within::after{-webkit-animation-delay:0s;animation-delay:0s;}/*!sc*/
.hFFfJn.tooltipped-multiline:hover::after,.hFFfJn.tooltipped-multiline:active::after,.hFFfJn.tooltipped-multiline:focus::after,.hFFfJn.tooltipped-multiline:focus-within::after{display:table-cell;}/*!sc*/
.hFFfJn.tooltipped-s::after,.hFFfJn.tooltipped-se::after,.hFFfJn.tooltipped-sw::after{top:100%;right:50%;margin-top:6px;}/*!sc*/
.hFFfJn.tooltipped-s::before,.hFFfJn.tooltipped-se::before,.hFFfJn.tooltipped-sw::before{top:auto;right:50%;bottom:-7px;margin-right:-6px;border-bottom-color:#24292f;}/*!sc*/
.hFFfJn.tooltipped-se::after{right:auto;left:50%;margin-left:-16px;}/*!sc*/
.hFFfJn.tooltipped-sw::after{margin-right:-16px;}/*!sc*/
.hFFfJn.tooltipped-n::after,.hFFfJn.tooltipped-ne::after,.hFFfJn.tooltipped-nw::after{right:50%;bottom:100%;margin-bottom:6px;}/*!sc*/
.hFFfJn.tooltipped-n::before,.hFFfJn.tooltipped-ne::before,.hFFfJn.tooltipped-nw::before{top:-7px;right:50%;bottom:auto;margin-right:-6px;border-top-color:#24292f;}/*!sc*/
.hFFfJn.tooltipped-ne::after{right:auto;left:50%;margin-left:-16px;}/*!sc*/
.hFFfJn.tooltipped-nw::after{margin-right:-16px;}/*!sc*/
.hFFfJn.tooltipped-s::after,.hFFfJn.tooltipped-n::after{-webkit-transform:translateX(50%);-ms-transform:translateX(50%);transform:translateX(50%);}/*!sc*/
.hFFfJn.tooltipped-w::after{right:100%;bottom:50%;margin-right:6px;-webkit-transform:translateY(50%);-ms-transform:translateY(50%);transform:translateY(50%);}/*!sc*/
.hFFfJn.tooltipped-w::before{top:50%;bottom:50%;left:-7px;margin-top:-6px;border-left-color:#24292f;}/*!sc*/
.hFFfJn.tooltipped-e::after{bottom:50%;left:100%;margin-left:6px;-webkit-transform:translateY(50%);-ms-transform:translateY(50%);transform:translateY(50%);}/*!sc*/
.hFFfJn.tooltipped-e::before{top:50%;right:-7px;bottom:50%;margin-top:-6px;border-right-color:#24292f;}/*!sc*/
.hFFfJn.tooltipped-multiline::after{width:-webkit-max-content;width:-moz-max-content;width:max-content;max-width:250px;word-wrap:break-word;white-space:pre-line;border-collapse:separate;}/*!sc*/
.hFFfJn.tooltipped-multiline.tooltipped-s::after,.hFFfJn.tooltipped-multiline.tooltipped-n::after{right:auto;left:50%;-webkit-transform:translateX(-50%);-ms-transform:translateX(-50%);transform:translateX(-50%);}/*!sc*/
.hFFfJn.tooltipped-multiline.tooltipped-w::after,.hFFfJn.tooltipped-multiline.tooltipped-e::after{right:100%;}/*!sc*/
.hFFfJn.tooltipped-align-right-2::after{right:0;margin-right:0;}/*!sc*/
.hFFfJn.tooltipped-align-right-2::before{right:15px;}/*!sc*/
.hFFfJn.tooltipped-align-left-2::after{left:0;margin-left:0;}/*!sc*/
.hFFfJn.tooltipped-align-left-2::before{left:10px;}/*!sc*/
data-styled.g29[id="Tooltip__TooltipBase-sc-uha8qm-0"]{content:"hFFfJn,"}/*!sc*/
.cDLBls{border:0;font-size:inherit;font-family:inherit;background-color:transparent;-webkit-appearance:none;color:inherit;width:100%;}/*!sc*/
.cDLBls:focus{outline:0;}/*!sc*/
data-styled.g30[id="UnstyledTextInput-sc-14ypya-0"]{content:"cDLBls,"}/*!sc*/
.bOMzPg{min-width:0;}/*!sc*/
.ivLLle{padding-left:4px;padding-right:4px;font-weight:400;color:#656d76;font-size:16px;}/*!sc*/
.ghRVGj{color:#1F2328;}/*!sc*/
.dZAxGI{padding-left:4px;padding-right:4px;font-weight:400;color:#656d76;font-size:14px;}/*!sc*/
data-styled.g34[id="Text-sc-17v1xeu-0"]{content:"bOMzPg,ivLLle,ghRVGj,gPDEWA,dZAxGI,"}/*!sc*/
.cjbBGq{display:-webkit-inline-box;display:-webkit-inline-flex;display:-ms-inline-flexbox;display:inline-flex;vertical-align:middle;isolation:isolate;}/*!sc*/
.cjbBGq.cjbBGq > *{margin-inline-end:-1px;position:relative;border-radius:0;}/*!sc*/
.cjbBGq.cjbBGq > *:first-child{border-top-left-radius:6px;border-bottom-left-radius:6px;}/*!sc*/
.cjbBGq.cjbBGq > *:last-child{border-top-right-radius:6px;border-bottom-right-radius:6px;}/*!sc*/
.cjbBGq.cjbBGq > *:focus,.cjbBGq.cjbBGq > *:active,.cjbBGq.cjbBGq > *:hover{z-index:1;}/*!sc*/
data-styled.g67[id="ButtonGroup-sc-1gxhls1-0"]{content:"cjbBGq,"}/*!sc*/
.bDmUQT{--segmented-control-button-inner-padding:12px;--segmented-control-button-bg-inset:4px;--segmented-control-outer-radius:6px;background-color:transparent;border-color:transparent;border-radius:var(--segmented-control-outer-radius);border-width:0;color:currentColor;cursor:pointer;font-family:inherit;font-size:inherit;font-weight:600;padding:0;height:100%;width:100%;}/*!sc*/
.bDmUQT .segmentedControl-content{-webkit-align-items:center;-webkit-box-align:center;-ms-flex-align:center;align-items:center;background-color:#ffffff;border-color:#8c959f;border-style:solid;border-width:1px;border-radius:var(--segmented-control-outer-radius);display:-webkit-box;display:-webkit-flex;display:-ms-flexbox;display:flex;height:100%;-webkit-box-pack:center;-webkit-justify-content:center;-ms-flex-pack:center;justify-content:center;padding-left:var(--segmented-control-button-inner-padding);padding-right:var(--segmented-control-button-inner-padding);}/*!sc*/
.bDmUQT svg{fill:#656d76;}/*!sc*/
.bDmUQT:focus:focus-visible:not(:last-child):after{width:0;}/*!sc*/
.bDmUQT .segmentedControl-text:after{content:"Preview";display:block;font-weight:600;height:0;overflow:hidden;pointer-events:none;-webkit-user-select:none;-moz-user-select:none;-ms-user-select:none;user-select:none;visibility:hidden;}/*!sc*/
@media (pointer:coarse){.bDmUQT:before{content:"";position:absolute;left:0;right:0;-webkit-transform:translateY(-50%);-ms-transform:translateY(-50%);transform:translateY(-50%);top:50%;min-height:44px;}}/*!sc*/
.fzMylw{--segmented-control-button-inner-padding:12px;--segmented-control-button-bg-inset:4px;--segmented-control-outer-radius:6px;background-color:transparent;border-color:transparent;border-radius:var(--segmented-control-outer-radius);border-width:0;color:currentColor;cursor:pointer;font-family:inherit;font-size:inherit;font-weight:400;padding:var(--segmented-control-button-bg-inset);height:100%;width:100%;}/*!sc*/
.fzMylw .segmentedControl-content{-webkit-align-items:center;-webkit-box-align:center;-ms-flex-align:center;align-items:center;background-color:transparent;border-color:transparent;border-style:solid;border-width:1px;border-radius:calc(var(--segmented-control-outer-radius) - var(--segmented-control-button-bg-inset) / 2);display:-webkit-box;display:-webkit-flex;display:-ms-flexbox;display:flex;height:100%;-webkit-box-pack:center;-webkit-justify-content:center;-ms-flex-pack:center;justify-content:center;padding-left:calc(var(--segmented-control-button-inner-padding) - var(--segmented-control-button-bg-inset));padding-right:calc(var(--segmented-control-button-inner-padding) - var(--segmented-control-button-bg-inset));}/*!sc*/
.fzMylw svg{fill:#656d76;}/*!sc*/
.fzMylw:hover .segmentedControl-content{background-color:rgba(175,184,193,0.2);}/*!sc*/
.fzMylw:active .segmentedControl-content{background-color:rgba(175,184,193,0.4);}/*!sc*/
.fzMylw:focus:focus-visible:not(:last-child):after{width:0;}/*!sc*/
.fzMylw .segmentedControl-text:after{content:"Code";display:block;font-weight:600;height:0;overflow:hidden;pointer-events:none;-webkit-user-select:none;-moz-user-select:none;-ms-user-select:none;user-select:none;visibility:hidden;}/*!sc*/
@media (pointer:coarse){.fzMylw:before{content:"";position:absolute;left:0;right:0;-webkit-transform:translateY(-50%);-ms-transform:translateY(-50%);transform:translateY(-50%);top:50%;min-height:44px;}}/*!sc*/
.hBvGcq{--segmented-control-button-inner-padding:12px;--segmented-control-button-bg-inset:4px;--segmented-control-outer-radius:6px;background-color:transparent;border-color:transparent;border-radius:var(--segmented-control-outer-radius);border-width:0;color:currentColor;cursor:pointer;font-family:inherit;font-size:inherit;font-weight:400;padding:var(--segmented-control-button-bg-inset);height:100%;width:100%;}/*!sc*/
.hBvGcq .segmentedControl-content{-webkit-align-items:center;-webkit-box-align:center;-ms-flex-align:center;align-items:center;background-color:transparent;border-color:transparent;border-style:solid;border-width:1px;border-radius:calc(var(--segmented-control-outer-radius) - var(--segmented-control-button-bg-inset) / 2);display:-webkit-box;display:-webkit-flex;display:-ms-flexbox;display:flex;height:100%;-webkit-box-pack:center;-webkit-justify-content:center;-ms-flex-pack:center;justify-content:center;padding-left:calc(var(--segmented-control-button-inner-padding) - var(--segmented-control-button-bg-inset));padding-right:calc(var(--segmented-control-button-inner-padding) - var(--segmented-control-button-bg-inset));}/*!sc*/
.hBvGcq svg{fill:#656d76;}/*!sc*/
.hBvGcq:hover .segmentedControl-content{background-color:rgba(175,184,193,0.2);}/*!sc*/
.hBvGcq:active .segmentedControl-content{background-color:rgba(175,184,193,0.4);}/*!sc*/
.hBvGcq:focus:focus-visible:not(:last-child):after{width:0;}/*!sc*/
.hBvGcq .segmentedControl-text:after{content:"Blame";display:block;font-weight:600;height:0;overflow:hidden;pointer-events:none;-webkit-user-select:none;-moz-user-select:none;-ms-user-select:none;user-select:none;visibility:hidden;}/*!sc*/
@media (pointer:coarse){.hBvGcq:before{content:"";position:absolute;left:0;right:0;-webkit-transform:translateY(-50%);-ms-transform:translateY(-50%);transform:translateY(-50%);top:50%;min-height:44px;}}/*!sc*/
data-styled.g90[id="SegmentedControlButton__SegmentedControlButtonStyled-sc-8lkgxl-0"]{content:"bDmUQT,fzMylw,hBvGcq,"}/*!sc*/
.iYVwMz{background-color:#eaeef2;border-radius:6px;display:-webkit-inline-box;display:-webkit-inline-flex;display:-ms-inline-flexbox;display:inline-flex;font-size:14px;height:28px;margin:0;padding:0;}/*!sc*/
data-styled.g92[id="SegmentedControl__SegmentedControlList-sc-1rzig82-0"]{content:"iYVwMz,"}/*!sc*/
body[data-page-layout-dragging="true"]{cursor:col-resize;}/*!sc*/
body[data-page-layout-dragging="true"] *{-webkit-user-select:none;-moz-user-select:none;-ms-user-select:none;user-select:none;}/*!sc*/
data-styled.g96[id="sc-global-gbKrvU1"]{content:"sc-global-gbKrvU1,"}/*!sc*/
.gtekST{list-style:none;padding:0;margin:0;}/*!sc*/
.gtekST .PRIVATE_TreeView-item{outline:none;}/*!sc*/
.gtekST .PRIVATE_TreeView-item:focus-visible > div,.gtekST .PRIVATE_TreeView-item.focus-visible > div{box-shadow:inset 0 0 0 2px #0969da;}/*!sc*/
@media (forced-colors:active){.gtekST .PRIVATE_TreeView-item:focus-visible > div,.gtekST .PRIVATE_TreeView-item.focus-visible > div{outline:2px solid HighlightText;outline-offset:-2;}}/*!sc*/
.gtekST .PRIVATE_TreeView-item-container{--level:1;--toggle-width:1rem;position:relative;display:grid;grid-template-columns:calc(calc(var(--level) - 1) * (var(--toggle-width) / 2)) var(--toggle-width) 1fr;grid-template-areas:'spacer toggle content';width:100%;min-height:2rem;font-size:14px;color:#1F2328;border-radius:6px;cursor:pointer;}/*!sc*/
.gtekST .PRIVATE_TreeView-item-container:hover{background-color:rgba(208,215,222,0.32);}/*!sc*/
@media (forced-colors:active){.gtekST .PRIVATE_TreeView-item-container:hover{outline:2px solid transparent;outline-offset:-2px;}}/*!sc*/
@media (pointer:coarse){.gtekST .PRIVATE_TreeView-item-container{--toggle-width:1.5rem;min-height:2.75rem;}}/*!sc*/
.gtekST .PRIVATE_TreeView-item-container:has(.PRIVATE_TreeView-item-skeleton):hover{background-color:transparent;cursor:default;}/*!sc*/
@media (forced-colors:active){.gtekST .PRIVATE_TreeView-item-container:has(.PRIVATE_TreeView-item-skeleton):hover{outline:none;}}/*!sc*/
.gtekST[data-omit-spacer='true'] .PRIVATE_TreeView-item-container{grid-template-columns:0 0 1fr;}/*!sc*/
.gtekST .PRIVATE_TreeView-item[aria-current='true'] > .PRIVATE_TreeView-item-container{background-color:rgba(208,215,222,0.24);}/*!sc*/
.gtekST .PRIVATE_TreeView-item[aria-current='true'] > .PRIVATE_TreeView-item-container::after{content:'';position:absolute;top:calc(50% - 0.75rem);left:-8px;width:0.25rem;height:1.5rem;background-color:#0969da;border-radius:6px;}/*!sc*/
@media (forced-colors:active){.gtekST .PRIVATE_TreeView-item[aria-current='true'] > .PRIVATE_TreeView-item-container::after{background-color:HighlightText;}}/*!sc*/
.gtekST .PRIVATE_TreeView-item-toggle{grid-area:toggle;display:-webkit-box;display:-webkit-flex;display:-ms-flexbox;display:flex;-webkit-align-items:center;-webkit-box-align:center;-ms-flex-align:center;align-items:center;-webkit-box-pack:center;-webkit-justify-content:center;-ms-flex-pack:center;justify-content:center;height:100%;color:#656d76;}/*!sc*/
.gtekST .PRIVATE_TreeView-item-toggle--hover:hover{background-color:rgba(208,215,222,0.32);}/*!sc*/
.gtekST .PRIVATE_TreeView-item-toggle--end{border-top-left-radius:6px;border-bottom-left-radius:6px;}/*!sc*/
.gtekST .PRIVATE_TreeView-item-content{grid-area:content;display:-webkit-box;display:-webkit-flex;display:-ms-flexbox;display:flex;-webkit-align-items:center;-webkit-box-align:center;-ms-flex-align:center;align-items:center;height:100%;padding:0 8px;gap:8px;}/*!sc*/
.gtekST .PRIVATE_TreeView-item-content-text{-webkit-flex:1 1 auto;-ms-flex:1 1 auto;flex:1 1 auto;width:0;overflow:hidden;white-space:nowrap;text-overflow:ellipsis;}/*!sc*/
.gtekST .PRIVATE_TreeView-item-visual{display:-webkit-box;display:-webkit-flex;display:-ms-flexbox;display:flex;color:#656d76;}/*!sc*/
.gtekST .PRIVATE_TreeView-item-level-line{width:100%;height:100%;border-right:1px solid;border-color:rgba(31,35,40,0.15);}/*!sc*/
@media (hover:hover){.gtekST .PRIVATE_TreeView-item-level-line{border-color:transparent;}.gtekST:hover .PRIVATE_TreeView-item-level-line,.gtekST:focus-within .PRIVATE_TreeView-item-level-line{border-color:rgba(31,35,40,0.15);}}/*!sc*/
.gtekST .PRIVATE_TreeView-directory-icon{display:grid;color:#54aeff;}/*!sc*/
.gtekST .PRIVATE_VisuallyHidden{position:absolute;width:1px;height:1px;padding:0;margin:-1px;overflow:hidden;-webkit-clip:rect(0,0,0,0);clip:rect(0,0,0,0);white-space:nowrap;border-width:0;}/*!sc*/
data-styled.g103[id="TreeView__UlBox-sc-4ex6b6-0"]{content:"gtekST,"}/*!sc*/
</style><meta data-hydrostats="publish"/> <!-- --> <!-- --> <!-- --> <button hidden="" data-testid="header-permalink-button" data-hotkey-scope="read-only-cursor-text-area"></button><button hidden=""></button><div class="Box-sc-g0xbh4-0"><div style="--sticky-pane-height:100vh" class="Box-sc-g0xbh4-0 fSWWem"><div class="Box-sc-g0xbh4-0 kPPmzM"><div class="Box-sc-g0xbh4-0 cIAPDV"><div tabindex="0" class="Box-sc-g0xbh4-0 gvCnwW"><div class="Box-sc-g0xbh4-0 ioxSsX"><div class="Box-sc-g0xbh4-0 eUyHuk"></div><div class="Box-sc-g0xbh4-0 hAeDYA"><div role="separator" class="Box-sc-g0xbh4-0 ekKrwo"></div></div><div style="--pane-width:320px" class="Box-sc-g0xbh4-0 gNdDUH"><span class="_VisuallyHidden__VisuallyHidden-sc-11jhm7a-0 rTZSs"><form><label for=":Rdjal5:-width-input">Pane width</label><p id=":Rdjal5:-input-hint">Use a value between <!-- -->0<!-- -->% and <!-- -->0<!-- -->%</p><input id=":Rdjal5:-width-input" aria-describedby=":Rdjal5:-input-hint" name="pane-width" inputMode="numeric" pattern="[0-9]*" autoCorrect="off" autoComplete="off" type="text" value=""/><button type="submit">Change width</button></form></span><div class="Box-sc-g0xbh4-0 react-tree-pane-contents"><div id="repos-file-tree" class="Box-sc-g0xbh4-0 jywUSN"><div class="Box-sc-g0xbh4-0 hBSSUC"><div class="Box-sc-g0xbh4-0 iPurHz"><h2 class="Heading__StyledHeading-sc-1c1dgg0-0 fNPcqd"><button style="--button-color:fg.muted" type="button" aria-label="Expand side panel" data-testid="expand-file-tree-button-mobile" class="types__StyledButton-sc-ws60qy-0 CtaSm"><span data-component="buttonContent" class="Box-sc-g0xbh4-0 kkrdEu"><span data-component="leadingVisual" class="Box-sc-g0xbh4-0 trpoQ"><svg aria-hidden="true" focusable="false" role="img" class="octicon octicon-arrow-left" viewBox="0 0 16 16" width="16" height="16" fill="currentColor" style="display:inline-block;user-select:none;vertical-align:text-bottom;overflow:visible"><path d="M7.78 12.53a.75.75 0 0 1-1.06 0L2.47 8.28a.75.75 0 0 1 0-1.06l4.25-4.25a.751.751 0 0 1 1.042.018.751.751 0 0 1 .018 1.042L4.81 7h7.44a.75.75 0 0 1 0 1.5H4.81l2.97 2.97a.75.75 0 0 1 0 1.06Z"></path></svg></span><span data-component="text">Files</span></span></button><button data-component="IconButton" type="button" data-testid="collapse-file-tree-button" aria-label="Side panel" aria-expanded="true" aria-controls="repos-file-tree" class="types__StyledButton-sc-ws60qy-0 edBXBM" data-no-visuals="true"><svg aria-hidden="true" focusable="false" role="img" class="octicon octicon-sidebar-expand" viewBox="0 0 16 16" width="16" height="16" fill="currentColor" style="display:inline-block;user-select:none;vertical-align:text-bottom;overflow:visible"><path d="m4.177 7.823 2.396-2.396A.25.25 0 0 1 7 5.604v4.792a.25.25 0 0 1-.427.177L4.177 8.177a.25.25 0 0 1 0-.354Z"></path><path d="M0 1.75C0 .784.784 0 1.75 0h12.5C15.216 0 16 .784 16 1.75v12.5A1.75 1.75 0 0 1 14.25 16H1.75A1.75 1.75 0 0 1 0 14.25Zm1.75-.25a.25.25 0 0 0-.25.25v12.5c0 .138.112.25.25.25H9.5v-13Zm12.5 13a.25.25 0 0 0 .25-.25V1.75a.25.25 0 0 0-.25-.25H11v13Z"></path></svg></button><button hidden="" data-testid="" data-hotkey-scope="read-only-cursor-text-area"></button></h2><h2 class="Heading__StyledHeading-sc-1c1dgg0-0 imcwCi">Files</h2></div><div class="Box-sc-g0xbh4-0 hVHHYa"><div class="Box-sc-g0xbh4-0 idZfsJ"><button type="button" id="branch-picker-repos-header-ref-selector" aria-haspopup="true" tabindex="0" aria-label="main branch" data-testid="anchor-button" class="types__StyledButton-sc-ws60qy-0 woUrt react-repos-tree-pane-ref-selector width-full ref-selector-class"><span data-component="buttonContent" class="Box-sc-g0xbh4-0 kkrdEu"><span data-component="text"><div class="Box-sc-g0xbh4-0 bKgizp"><div class="Box-sc-g0xbh4-0 kYlvBX"><svg aria-hidden="true" focusable="false" role="img" class="octicon octicon-git-branch" viewBox="0 0 16 16" width="16" height="16" fill="currentColor" style="display:inline-block;user-select:none;vertical-align:text-bottom;overflow:visible"><path d="M9.5 3.25a2.25 2.25 0 1 1 3 2.122V6A2.5 2.5 0 0 1 10 8.5H6a1 1 0 0 0-1 1v1.128a2.251 2.251 0 1 1-1.5 0V5.372a2.25 2.25 0 1 1 1.5 0v1.836A2.493 2.493 0 0 1 6 7h4a1 1 0 0 0 1-1v-.628A2.25 2.25 0 0 1 9.5 3.25Zm-6 0a.75.75 0 1 0 1.5 0 .75.75 0 0 0-1.5 0Zm8.25-.75a.75.75 0 1 0 0 1.5.75.75 0 0 0 0-1.5ZM4.25 12a.75.75 0 1 0 0 1.5.75.75 0 0 0 0-1.5Z"></path></svg></div><div class="Box-sc-g0xbh4-0 caeYDk"><span class="Text-sc-17v1xeu-0 bOMzPg"> <!-- -->main</span></div></div></span><span data-component="trailingVisual" class="Box-sc-g0xbh4-0 trpoQ"><svg aria-hidden="true" focusable="false" role="img" class="octicon octicon-triangle-down" viewBox="0 0 16 16" width="16" height="16" fill="currentColor" style="display:inline-block;user-select:none;vertical-align:text-bottom;overflow:visible"><path d="m4.427 7.427 3.396 3.396a.25.25 0 0 0 .354 0l3.396-3.396A.25.25 0 0 0 11.396 7H4.604a.25.25 0 0 0-.177.427Z"></path></svg></span></span></button><button hidden="" data-hotkey-scope="read-only-cursor-text-area"></button></div><div class="Box-sc-g0xbh4-0 jahcnb"><span role="tooltip" aria-label="Add file" class="Tooltip__TooltipBase-sc-uha8qm-0 hFFfJn tooltipped-s"><a sx="[object Object]" data-component="IconButton" type="button" aria-label="Add file" data-no-visuals="true" class="types__StyledButton-sc-ws60qy-0 jikjkp" href="/mrdbourke/tensorflow-deep-learning/new/main/video_notebooks"><svg aria-hidden="true" focusable="false" role="img" class="octicon octicon-plus" viewBox="0 0 16 16" width="16" height="16" fill="currentColor" style="display:inline-block;user-select:none;vertical-align:text-bottom;overflow:visible"><path d="M7.75 2a.75.75 0 0 1 .75.75V7h4.25a.75.75 0 0 1 0 1.5H8.5v4.25a.75.75 0 0 1-1.5 0V8.5H2.75a.75.75 0 0 1 0-1.5H7V2.75A.75.75 0 0 1 7.75 2Z"></path></svg></a></span><button data-component="IconButton" type="button" aria-label="Search this repository" data-no-visuals="true" class="types__StyledButton-sc-ws60qy-0 jGImdP"><svg aria-hidden="true" focusable="false" role="img" class="octicon octicon-search" viewBox="0 0 16 16" width="16" height="16" fill="currentColor" style="display:inline-block;user-select:none;vertical-align:text-bottom;overflow:visible"><path d="M10.68 11.74a6 6 0 0 1-7.922-8.982 6 6 0 0 1 8.982 7.922l3.04 3.04a.749.749 0 0 1-.326 1.275.749.749 0 0 1-.734-.215ZM11.5 7a4.499 4.499 0 1 0-8.997 0A4.499 4.499 0 0 0 11.5 7Z"></path></svg></button><button hidden="" data-testid="" data-hotkey-scope="read-only-cursor-text-area"></button></div></div></div><div class="Box-sc-g0xbh4-0 ccToMy"><button hidden="" data-testid="" data-hotkey-scope="read-only-cursor-text-area"></button><button hidden=""></button><span class="TextInputWrapper__TextInputBaseWrapper-sc-1mqhpbi-0 TextInputWrapper-sc-1mqhpbi-1 cgNHBf hDoBEw TextInput-wrapper" aria-busy="false"><span class="TextInput-icon"><svg aria-hidden="true" focusable="false" role="img" class="octicon octicon-search" viewBox="0 0 16 16" width="16" height="16" fill="currentColor" style="display:inline-block;user-select:none;vertical-align:text-bottom;overflow:visible"><path d="M10.68 11.74a6 6 0 0 1-7.922-8.982 6 6 0 0 1 8.982 7.922l3.04 3.04a.749.749 0 0 1-.326 1.275.749.749 0 0 1-.734-.215ZM11.5 7a4.499 4.499 0 1 0-8.997 0A4.499 4.499 0 0 0 11.5 7Z"></path></svg></span><input type="text" aria-label="Go to file" role="combobox" aria-controls="file-results-list" aria-expanded="false" aria-haspopup="dialog" autoCorrect="off" spellcheck="false" placeholder="Go to file" data-component="input" class="UnstyledTextInput-sc-14ypya-0 cDLBls" value=""/><span class="TextInput-icon"><div class="Box-sc-g0xbh4-0 cNvKlH"><kbd>t</kbd></div></span></span></div><div class="Box-sc-g0xbh4-0 cLfAnm"><div class="react-tree-show-tree-items"><div data-testid="repos-file-tree-container" class="Box-sc-g0xbh4-0 erWCJP"><nav aria-label="File Tree Navigation"><span role="status" aria-live="polite" aria-atomic="true" class="_VisuallyHidden__VisuallyHidden-sc-11jhm7a-0 rTZSs"></span><ul role="tree" aria-label="Files" class="TreeView__UlBox-sc-4ex6b6-0 gtekST"><li class="PRIVATE_TreeView-item" tabindex="0" id=".github-item" role="treeitem" aria-labelledby=":Rqcndjal5:" aria-describedby=":Rqcndjal5H1: :Rqcndjal5H2:" aria-level="1" aria-expanded="false" aria-selected="false"><div class="PRIVATE_TreeView-item-container" style="--level:1;content-visibility:auto;contain-intrinsic-size:auto 2rem"><div style="grid-area:spacer;display:flex"><div style="width:100%;display:flex"></div></div><div class="PRIVATE_TreeView-item-toggle PRIVATE_TreeView-item-toggle--hover PRIVATE_TreeView-item-toggle--end"><svg aria-hidden="true" focusable="false" role="img" class="octicon octicon-chevron-right" viewBox="0 0 12 12" width="12" height="12" fill="currentColor" style="display:inline-block;user-select:none;vertical-align:text-bottom;overflow:visible"><path d="M4.7 10c-.2 0-.4-.1-.5-.2-.3-.3-.3-.8 0-1.1L6.9 6 4.2 3.3c-.3-.3-.3-.8 0-1.1.3-.3.8-.3 1.1 0l3.3 3.2c.3.3.3.8 0 1.1L5.3 9.7c-.2.2-.4.3-.6.3Z"></path></svg></div><div id=":Rqcndjal5:" class="PRIVATE_TreeView-item-content"><div class="PRIVATE_VisuallyHidden" aria-hidden="true" id=":Rqcndjal5H1:"></div><div class="PRIVATE_TreeView-item-visual" aria-hidden="true"><div class="PRIVATE_TreeView-directory-icon"><svg aria-hidden="true" focusable="false" role="img" class="octicon octicon-file-directory-fill" viewBox="0 0 16 16" width="16" height="16" fill="currentColor" style="display:inline-block;user-select:none;vertical-align:text-bottom;overflow:visible"><path d="M1.75 1A1.75 1.75 0 0 0 0 2.75v10.5C0 14.216.784 15 1.75 15h12.5A1.75 1.75 0 0 0 16 13.25v-8.5A1.75 1.75 0 0 0 14.25 3H7.5a.25.25 0 0 1-.2-.1l-.9-1.2C6.07 1.26 5.55 1 5 1H1.75Z"></path></svg></div></div><span class="PRIVATE_TreeView-item-content-text"><span>.github</span></span></div></div></li><li class="PRIVATE_TreeView-item" tabindex="0" id="docs-item" role="treeitem" aria-labelledby=":R1acndjal5:" aria-describedby=":R1acndjal5H1: :R1acndjal5H2:" aria-level="1" aria-expanded="false" aria-selected="false"><div class="PRIVATE_TreeView-item-container" style="--level:1;content-visibility:auto;contain-intrinsic-size:auto 2rem"><div style="grid-area:spacer;display:flex"><div style="width:100%;display:flex"></div></div><div class="PRIVATE_TreeView-item-toggle PRIVATE_TreeView-item-toggle--hover PRIVATE_TreeView-item-toggle--end"><svg aria-hidden="true" focusable="false" role="img" class="octicon octicon-chevron-right" viewBox="0 0 12 12" width="12" height="12" fill="currentColor" style="display:inline-block;user-select:none;vertical-align:text-bottom;overflow:visible"><path d="M4.7 10c-.2 0-.4-.1-.5-.2-.3-.3-.3-.8 0-1.1L6.9 6 4.2 3.3c-.3-.3-.3-.8 0-1.1.3-.3.8-.3 1.1 0l3.3 3.2c.3.3.3.8 0 1.1L5.3 9.7c-.2.2-.4.3-.6.3Z"></path></svg></div><div id=":R1acndjal5:" class="PRIVATE_TreeView-item-content"><div class="PRIVATE_VisuallyHidden" aria-hidden="true" id=":R1acndjal5H1:"></div><div class="PRIVATE_TreeView-item-visual" aria-hidden="true"><div class="PRIVATE_TreeView-directory-icon"><svg aria-hidden="true" focusable="false" role="img" class="octicon octicon-file-directory-fill" viewBox="0 0 16 16" width="16" height="16" fill="currentColor" style="display:inline-block;user-select:none;vertical-align:text-bottom;overflow:visible"><path d="M1.75 1A1.75 1.75 0 0 0 0 2.75v10.5C0 14.216.784 15 1.75 15h12.5A1.75 1.75 0 0 0 16 13.25v-8.5A1.75 1.75 0 0 0 14.25 3H7.5a.25.25 0 0 1-.2-.1l-.9-1.2C6.07 1.26 5.55 1 5 1H1.75Z"></path></svg></div></div><span class="PRIVATE_TreeView-item-content-text"><span>docs</span></span></div></div></li><li class="PRIVATE_TreeView-item" tabindex="0" id="extras-item" role="treeitem" aria-labelledby=":R1qcndjal5:" aria-describedby=":R1qcndjal5H1: :R1qcndjal5H2:" aria-level="1" aria-expanded="false" aria-selected="false"><div class="PRIVATE_TreeView-item-container" style="--level:1;content-visibility:auto;contain-intrinsic-size:auto 2rem"><div style="grid-area:spacer;display:flex"><div style="width:100%;display:flex"></div></div><div class="PRIVATE_TreeView-item-toggle PRIVATE_TreeView-item-toggle--hover PRIVATE_TreeView-item-toggle--end"><svg aria-hidden="true" focusable="false" role="img" class="octicon octicon-chevron-right" viewBox="0 0 12 12" width="12" height="12" fill="currentColor" style="display:inline-block;user-select:none;vertical-align:text-bottom;overflow:visible"><path d="M4.7 10c-.2 0-.4-.1-.5-.2-.3-.3-.3-.8 0-1.1L6.9 6 4.2 3.3c-.3-.3-.3-.8 0-1.1.3-.3.8-.3 1.1 0l3.3 3.2c.3.3.3.8 0 1.1L5.3 9.7c-.2.2-.4.3-.6.3Z"></path></svg></div><div id=":R1qcndjal5:" class="PRIVATE_TreeView-item-content"><div class="PRIVATE_VisuallyHidden" aria-hidden="true" id=":R1qcndjal5H1:"></div><div class="PRIVATE_TreeView-item-visual" aria-hidden="true"><div class="PRIVATE_TreeView-directory-icon"><svg aria-hidden="true" focusable="false" role="img" class="octicon octicon-file-directory-fill" viewBox="0 0 16 16" width="16" height="16" fill="currentColor" style="display:inline-block;user-select:none;vertical-align:text-bottom;overflow:visible"><path d="M1.75 1A1.75 1.75 0 0 0 0 2.75v10.5C0 14.216.784 15 1.75 15h12.5A1.75 1.75 0 0 0 16 13.25v-8.5A1.75 1.75 0 0 0 14.25 3H7.5a.25.25 0 0 1-.2-.1l-.9-1.2C6.07 1.26 5.55 1 5 1H1.75Z"></path></svg></div></div><span class="PRIVATE_TreeView-item-content-text"><span>extras</span></span></div></div></li><li class="PRIVATE_TreeView-item" tabindex="0" id="images-item" role="treeitem" aria-labelledby=":R2acndjal5:" aria-describedby=":R2acndjal5H1: :R2acndjal5H2:" aria-level="1" aria-expanded="false" aria-selected="false"><div class="PRIVATE_TreeView-item-container" style="--level:1;content-visibility:auto;contain-intrinsic-size:auto 2rem"><div style="grid-area:spacer;display:flex"><div style="width:100%;display:flex"></div></div><div class="PRIVATE_TreeView-item-toggle PRIVATE_TreeView-item-toggle--hover PRIVATE_TreeView-item-toggle--end"><svg aria-hidden="true" focusable="false" role="img" class="octicon octicon-chevron-right" viewBox="0 0 12 12" width="12" height="12" fill="currentColor" style="display:inline-block;user-select:none;vertical-align:text-bottom;overflow:visible"><path d="M4.7 10c-.2 0-.4-.1-.5-.2-.3-.3-.3-.8 0-1.1L6.9 6 4.2 3.3c-.3-.3-.3-.8 0-1.1.3-.3.8-.3 1.1 0l3.3 3.2c.3.3.3.8 0 1.1L5.3 9.7c-.2.2-.4.3-.6.3Z"></path></svg></div><div id=":R2acndjal5:" class="PRIVATE_TreeView-item-content"><div class="PRIVATE_VisuallyHidden" aria-hidden="true" id=":R2acndjal5H1:"></div><div class="PRIVATE_TreeView-item-visual" aria-hidden="true"><div class="PRIVATE_TreeView-directory-icon"><svg aria-hidden="true" focusable="false" role="img" class="octicon octicon-file-directory-fill" viewBox="0 0 16 16" width="16" height="16" fill="currentColor" style="display:inline-block;user-select:none;vertical-align:text-bottom;overflow:visible"><path d="M1.75 1A1.75 1.75 0 0 0 0 2.75v10.5C0 14.216.784 15 1.75 15h12.5A1.75 1.75 0 0 0 16 13.25v-8.5A1.75 1.75 0 0 0 14.25 3H7.5a.25.25 0 0 1-.2-.1l-.9-1.2C6.07 1.26 5.55 1 5 1H1.75Z"></path></svg></div></div><span class="PRIVATE_TreeView-item-content-text"><span>images</span></span></div></div></li><li class="PRIVATE_TreeView-item" tabindex="0" id="slides-item" role="treeitem" aria-labelledby=":R2qcndjal5:" aria-describedby=":R2qcndjal5H1: :R2qcndjal5H2:" aria-level="1" aria-expanded="false" aria-selected="false"><div class="PRIVATE_TreeView-item-container" style="--level:1;content-visibility:auto;contain-intrinsic-size:auto 2rem"><div style="grid-area:spacer;display:flex"><div style="width:100%;display:flex"></div></div><div class="PRIVATE_TreeView-item-toggle PRIVATE_TreeView-item-toggle--hover PRIVATE_TreeView-item-toggle--end"><svg aria-hidden="true" focusable="false" role="img" class="octicon octicon-chevron-right" viewBox="0 0 12 12" width="12" height="12" fill="currentColor" style="display:inline-block;user-select:none;vertical-align:text-bottom;overflow:visible"><path d="M4.7 10c-.2 0-.4-.1-.5-.2-.3-.3-.3-.8 0-1.1L6.9 6 4.2 3.3c-.3-.3-.3-.8 0-1.1.3-.3.8-.3 1.1 0l3.3 3.2c.3.3.3.8 0 1.1L5.3 9.7c-.2.2-.4.3-.6.3Z"></path></svg></div><div id=":R2qcndjal5:" class="PRIVATE_TreeView-item-content"><div class="PRIVATE_VisuallyHidden" aria-hidden="true" id=":R2qcndjal5H1:"></div><div class="PRIVATE_TreeView-item-visual" aria-hidden="true"><div class="PRIVATE_TreeView-directory-icon"><svg aria-hidden="true" focusable="false" role="img" class="octicon octicon-file-directory-fill" viewBox="0 0 16 16" width="16" height="16" fill="currentColor" style="display:inline-block;user-select:none;vertical-align:text-bottom;overflow:visible"><path d="M1.75 1A1.75 1.75 0 0 0 0 2.75v10.5C0 14.216.784 15 1.75 15h12.5A1.75 1.75 0 0 0 16 13.25v-8.5A1.75 1.75 0 0 0 14.25 3H7.5a.25.25 0 0 1-.2-.1l-.9-1.2C6.07 1.26 5.55 1 5 1H1.75Z"></path></svg></div></div><span class="PRIVATE_TreeView-item-content-text"><span>slides</span></span></div></div></li><li class="PRIVATE_TreeView-item" tabindex="0" id="video_notebooks-item" role="treeitem" aria-labelledby=":R3acndjal5:" aria-describedby=":R3acndjal5H1: :R3acndjal5H2:" aria-level="1" aria-expanded="true" aria-selected="false"><div class="PRIVATE_TreeView-item-container" style="--level:1;content-visibility:auto;contain-intrinsic-size:auto 2rem"><div style="grid-area:spacer;display:flex"><div style="width:100%;display:flex"></div></div><div class="PRIVATE_TreeView-item-toggle PRIVATE_TreeView-item-toggle--hover PRIVATE_TreeView-item-toggle--end"><svg aria-hidden="true" focusable="false" role="img" class="octicon octicon-chevron-down" viewBox="0 0 12 12" width="12" height="12" fill="currentColor" style="display:inline-block;user-select:none;vertical-align:text-bottom;overflow:visible"><path d="M6 8.825c-.2 0-.4-.1-.5-.2l-3.3-3.3c-.3-.3-.3-.8 0-1.1.3-.3.8-.3 1.1 0l2.7 2.7 2.7-2.7c.3-.3.8-.3 1.1 0 .3.3.3.8 0 1.1l-3.2 3.2c-.2.2-.4.3-.6.3Z"></path></svg></div><div id=":R3acndjal5:" class="PRIVATE_TreeView-item-content"><div class="PRIVATE_VisuallyHidden" aria-hidden="true" id=":R3acndjal5H1:"></div><div class="PRIVATE_TreeView-item-visual" aria-hidden="true"><div class="PRIVATE_TreeView-directory-icon"><svg aria-hidden="true" focusable="false" role="img" class="octicon octicon-file-directory-open-fill" viewBox="0 0 16 16" width="16" height="16" fill="currentColor" style="display:inline-block;user-select:none;vertical-align:text-bottom;overflow:visible"><path d="M.513 1.513A1.75 1.75 0 0 1 1.75 1h3.5c.55 0 1.07.26 1.4.7l.9 1.2a.25.25 0 0 0 .2.1H13a1 1 0 0 1 1 1v.5H2.75a.75.75 0 0 0 0 1.5h11.978a1 1 0 0 1 .994 1.117L15 13.25A1.75 1.75 0 0 1 13.25 15H1.75A1.75 1.75 0 0 1 0 13.25V2.75c0-.464.184-.91.513-1.237Z"></path></svg></div></div><span class="PRIVATE_TreeView-item-content-text"><span>video_notebooks</span></span></div></div><ul role="group" style="list-style:none;padding:0;margin:0"><li class="PRIVATE_TreeView-item" tabindex="0" id="video_notebooks/00_tensorflow_fundamentals_video.ipynb-item" role="treeitem" aria-labelledby=":Rmjacndjal5:" aria-describedby=":Rmjacndjal5H1: :Rmjacndjal5H2:" aria-level="2" aria-selected="false"><div class="PRIVATE_TreeView-item-container" style="--level:2;content-visibility:auto;contain-intrinsic-size:auto 2rem"><div style="grid-area:spacer;display:flex"><div style="width:100%;display:flex"><div class="PRIVATE_TreeView-item-level-line"></div></div></div><div id=":Rmjacndjal5:" class="PRIVATE_TreeView-item-content"><div class="PRIVATE_VisuallyHidden" aria-hidden="true" id=":Rmjacndjal5H1:"></div><div class="PRIVATE_TreeView-item-visual" aria-hidden="true"><svg aria-hidden="true" focusable="false" role="img" class="octicon octicon-file" viewBox="0 0 16 16" width="16" height="16" fill="currentColor" style="display:inline-block;user-select:none;vertical-align:text-bottom;overflow:visible"><path d="M2 1.75C2 .784 2.784 0 3.75 0h6.586c.464 0 .909.184 1.237.513l2.914 2.914c.329.328.513.773.513 1.237v9.586A1.75 1.75 0 0 1 13.25 16h-9.5A1.75 1.75 0 0 1 2 14.25Zm1.75-.25a.25.25 0 0 0-.25.25v12.5c0 .138.112.25.25.25h9.5a.25.25 0 0 0 .25-.25V6h-2.75A1.75 1.75 0 0 1 9 4.25V1.5Zm6.75.062V4.25c0 .138.112.25.25.25h2.688l-.011-.013-2.914-2.914-.013-.011Z"></path></svg></div><span class="PRIVATE_TreeView-item-content-text"><span>00_tensorflow_fundamentals_video.ipynb</span></span></div></div></li><li class="PRIVATE_TreeView-item" tabindex="0" id="video_notebooks/01_neural_network_regression_in_tensorflow_video.ipynb-item" role="treeitem" aria-labelledby=":R16jacndjal5:" aria-describedby=":R16jacndjal5H1: :R16jacndjal5H2:" aria-level="2" aria-selected="false"><div class="PRIVATE_TreeView-item-container" style="--level:2;content-visibility:auto;contain-intrinsic-size:auto 2rem"><div style="grid-area:spacer;display:flex"><div style="width:100%;display:flex"><div class="PRIVATE_TreeView-item-level-line"></div></div></div><div id=":R16jacndjal5:" class="PRIVATE_TreeView-item-content"><div class="PRIVATE_VisuallyHidden" aria-hidden="true" id=":R16jacndjal5H1:"></div><div class="PRIVATE_TreeView-item-visual" aria-hidden="true"><svg aria-hidden="true" focusable="false" role="img" class="octicon octicon-file" viewBox="0 0 16 16" width="16" height="16" fill="currentColor" style="display:inline-block;user-select:none;vertical-align:text-bottom;overflow:visible"><path d="M2 1.75C2 .784 2.784 0 3.75 0h6.586c.464 0 .909.184 1.237.513l2.914 2.914c.329.328.513.773.513 1.237v9.586A1.75 1.75 0 0 1 13.25 16h-9.5A1.75 1.75 0 0 1 2 14.25Zm1.75-.25a.25.25 0 0 0-.25.25v12.5c0 .138.112.25.25.25h9.5a.25.25 0 0 0 .25-.25V6h-2.75A1.75 1.75 0 0 1 9 4.25V1.5Zm6.75.062V4.25c0 .138.112.25.25.25h2.688l-.011-.013-2.914-2.914-.013-.011Z"></path></svg></div><span class="PRIVATE_TreeView-item-content-text"><span>01_neural_network_regression_in_tensorflow_video.ipynb</span></span></div></div></li><li class="PRIVATE_TreeView-item" tabindex="0" id="video_notebooks/02_neural_network_classification_in_tensorflow_video.ipynb-item" role="treeitem" aria-labelledby=":R1mjacndjal5:" aria-describedby=":R1mjacndjal5H1: :R1mjacndjal5H2:" aria-level="2" aria-selected="false"><div class="PRIVATE_TreeView-item-container" style="--level:2;content-visibility:auto;contain-intrinsic-size:auto 2rem"><div style="grid-area:spacer;display:flex"><div style="width:100%;display:flex"><div class="PRIVATE_TreeView-item-level-line"></div></div></div><div id=":R1mjacndjal5:" class="PRIVATE_TreeView-item-content"><div class="PRIVATE_VisuallyHidden" aria-hidden="true" id=":R1mjacndjal5H1:"></div><div class="PRIVATE_TreeView-item-visual" aria-hidden="true"><svg aria-hidden="true" focusable="false" role="img" class="octicon octicon-file" viewBox="0 0 16 16" width="16" height="16" fill="currentColor" style="display:inline-block;user-select:none;vertical-align:text-bottom;overflow:visible"><path d="M2 1.75C2 .784 2.784 0 3.75 0h6.586c.464 0 .909.184 1.237.513l2.914 2.914c.329.328.513.773.513 1.237v9.586A1.75 1.75 0 0 1 13.25 16h-9.5A1.75 1.75 0 0 1 2 14.25Zm1.75-.25a.25.25 0 0 0-.25.25v12.5c0 .138.112.25.25.25h9.5a.25.25 0 0 0 .25-.25V6h-2.75A1.75 1.75 0 0 1 9 4.25V1.5Zm6.75.062V4.25c0 .138.112.25.25.25h2.688l-.011-.013-2.914-2.914-.013-.011Z"></path></svg></div><span class="PRIVATE_TreeView-item-content-text"><span>02_neural_network_classification_in_tensorflow_video.ipynb</span></span></div></div></li><li class="PRIVATE_TreeView-item" tabindex="0" id="video_notebooks/03_convolutional_neural_networks_with_tensorflow_video.ipynb-item" role="treeitem" aria-labelledby=":R26jacndjal5:" aria-describedby=":R26jacndjal5H1: :R26jacndjal5H2:" aria-level="2" aria-selected="false"><div class="PRIVATE_TreeView-item-container" style="--level:2;content-visibility:auto;contain-intrinsic-size:auto 2rem"><div style="grid-area:spacer;display:flex"><div style="width:100%;display:flex"><div class="PRIVATE_TreeView-item-level-line"></div></div></div><div id=":R26jacndjal5:" class="PRIVATE_TreeView-item-content"><div class="PRIVATE_VisuallyHidden" aria-hidden="true" id=":R26jacndjal5H1:"></div><div class="PRIVATE_TreeView-item-visual" aria-hidden="true"><svg aria-hidden="true" focusable="false" role="img" class="octicon octicon-file" viewBox="0 0 16 16" width="16" height="16" fill="currentColor" style="display:inline-block;user-select:none;vertical-align:text-bottom;overflow:visible"><path d="M2 1.75C2 .784 2.784 0 3.75 0h6.586c.464 0 .909.184 1.237.513l2.914 2.914c.329.328.513.773.513 1.237v9.586A1.75 1.75 0 0 1 13.25 16h-9.5A1.75 1.75 0 0 1 2 14.25Zm1.75-.25a.25.25 0 0 0-.25.25v12.5c0 .138.112.25.25.25h9.5a.25.25 0 0 0 .25-.25V6h-2.75A1.75 1.75 0 0 1 9 4.25V1.5Zm6.75.062V4.25c0 .138.112.25.25.25h2.688l-.011-.013-2.914-2.914-.013-.011Z"></path></svg></div><span class="PRIVATE_TreeView-item-content-text"><span>03_convolutional_neural_networks_with_tensorflow_video.ipynb</span></span></div></div></li><li class="PRIVATE_TreeView-item" tabindex="0" id="video_notebooks/04_transfer_learning_in_tensorflow_part_1_feature_extraction_video.ipynb-item" role="treeitem" aria-labelledby=":R2mjacndjal5:" aria-describedby=":R2mjacndjal5H1: :R2mjacndjal5H2:" aria-level="2" aria-selected="false"><div class="PRIVATE_TreeView-item-container" style="--level:2;content-visibility:auto;contain-intrinsic-size:auto 2rem"><div style="grid-area:spacer;display:flex"><div style="width:100%;display:flex"><div class="PRIVATE_TreeView-item-level-line"></div></div></div><div id=":R2mjacndjal5:" class="PRIVATE_TreeView-item-content"><div class="PRIVATE_VisuallyHidden" aria-hidden="true" id=":R2mjacndjal5H1:"></div><div class="PRIVATE_TreeView-item-visual" aria-hidden="true"><svg aria-hidden="true" focusable="false" role="img" class="octicon octicon-file" viewBox="0 0 16 16" width="16" height="16" fill="currentColor" style="display:inline-block;user-select:none;vertical-align:text-bottom;overflow:visible"><path d="M2 1.75C2 .784 2.784 0 3.75 0h6.586c.464 0 .909.184 1.237.513l2.914 2.914c.329.328.513.773.513 1.237v9.586A1.75 1.75 0 0 1 13.25 16h-9.5A1.75 1.75 0 0 1 2 14.25Zm1.75-.25a.25.25 0 0 0-.25.25v12.5c0 .138.112.25.25.25h9.5a.25.25 0 0 0 .25-.25V6h-2.75A1.75 1.75 0 0 1 9 4.25V1.5Zm6.75.062V4.25c0 .138.112.25.25.25h2.688l-.011-.013-2.914-2.914-.013-.011Z"></path></svg></div><span class="PRIVATE_TreeView-item-content-text"><span>04_transfer_learning_in_tensorflow_part_1_feature_extraction_video.ipynb</span></span></div></div></li><li class="PRIVATE_TreeView-item" tabindex="0" id="video_notebooks/05_transfer_learning_in_tensorflow_part_2_fine_tuning_video.ipynb-item" role="treeitem" aria-labelledby=":R36jacndjal5:" aria-describedby=":R36jacndjal5H1: :R36jacndjal5H2:" aria-level="2" aria-selected="false"><div class="PRIVATE_TreeView-item-container" style="--level:2;content-visibility:auto;contain-intrinsic-size:auto 2rem"><div style="grid-area:spacer;display:flex"><div style="width:100%;display:flex"><div class="PRIVATE_TreeView-item-level-line"></div></div></div><div id=":R36jacndjal5:" class="PRIVATE_TreeView-item-content"><div class="PRIVATE_VisuallyHidden" aria-hidden="true" id=":R36jacndjal5H1:"></div><div class="PRIVATE_TreeView-item-visual" aria-hidden="true"><svg aria-hidden="true" focusable="false" role="img" class="octicon octicon-file" viewBox="0 0 16 16" width="16" height="16" fill="currentColor" style="display:inline-block;user-select:none;vertical-align:text-bottom;overflow:visible"><path d="M2 1.75C2 .784 2.784 0 3.75 0h6.586c.464 0 .909.184 1.237.513l2.914 2.914c.329.328.513.773.513 1.237v9.586A1.75 1.75 0 0 1 13.25 16h-9.5A1.75 1.75 0 0 1 2 14.25Zm1.75-.25a.25.25 0 0 0-.25.25v12.5c0 .138.112.25.25.25h9.5a.25.25 0 0 0 .25-.25V6h-2.75A1.75 1.75 0 0 1 9 4.25V1.5Zm6.75.062V4.25c0 .138.112.25.25.25h2.688l-.011-.013-2.914-2.914-.013-.011Z"></path></svg></div><span class="PRIVATE_TreeView-item-content-text"><span>05_transfer_learning_in_tensorflow_part_2_fine_tuning_video.ipynb</span></span></div></div></li><li class="PRIVATE_TreeView-item" tabindex="0" id="video_notebooks/06_transfer_learning_in_tensorflow_part_3_scaling_up_video.ipynb-item" role="treeitem" aria-labelledby=":R3mjacndjal5:" aria-describedby=":R3mjacndjal5H1: :R3mjacndjal5H2:" aria-level="2" aria-selected="false"><div class="PRIVATE_TreeView-item-container" style="--level:2;content-visibility:auto;contain-intrinsic-size:auto 2rem"><div style="grid-area:spacer;display:flex"><div style="width:100%;display:flex"><div class="PRIVATE_TreeView-item-level-line"></div></div></div><div id=":R3mjacndjal5:" class="PRIVATE_TreeView-item-content"><div class="PRIVATE_VisuallyHidden" aria-hidden="true" id=":R3mjacndjal5H1:"></div><div class="PRIVATE_TreeView-item-visual" aria-hidden="true"><svg aria-hidden="true" focusable="false" role="img" class="octicon octicon-file" viewBox="0 0 16 16" width="16" height="16" fill="currentColor" style="display:inline-block;user-select:none;vertical-align:text-bottom;overflow:visible"><path d="M2 1.75C2 .784 2.784 0 3.75 0h6.586c.464 0 .909.184 1.237.513l2.914 2.914c.329.328.513.773.513 1.237v9.586A1.75 1.75 0 0 1 13.25 16h-9.5A1.75 1.75 0 0 1 2 14.25Zm1.75-.25a.25.25 0 0 0-.25.25v12.5c0 .138.112.25.25.25h9.5a.25.25 0 0 0 .25-.25V6h-2.75A1.75 1.75 0 0 1 9 4.25V1.5Zm6.75.062V4.25c0 .138.112.25.25.25h2.688l-.011-.013-2.914-2.914-.013-.011Z"></path></svg></div><span class="PRIVATE_TreeView-item-content-text"><span>06_transfer_learning_in_tensorflow_part_3_scaling_up_video.ipynb</span></span></div></div></li><li class="PRIVATE_TreeView-item" tabindex="0" id="video_notebooks/07_milestone_project_1_food_vision_video.ipynb-item" role="treeitem" aria-labelledby=":R46jacndjal5:" aria-describedby=":R46jacndjal5H1: :R46jacndjal5H2:" aria-level="2" aria-selected="false"><div class="PRIVATE_TreeView-item-container" style="--level:2;content-visibility:auto;contain-intrinsic-size:auto 2rem"><div style="grid-area:spacer;display:flex"><div style="width:100%;display:flex"><div class="PRIVATE_TreeView-item-level-line"></div></div></div><div id=":R46jacndjal5:" class="PRIVATE_TreeView-item-content"><div class="PRIVATE_VisuallyHidden" aria-hidden="true" id=":R46jacndjal5H1:"></div><div class="PRIVATE_TreeView-item-visual" aria-hidden="true"><svg aria-hidden="true" focusable="false" role="img" class="octicon octicon-file" viewBox="0 0 16 16" width="16" height="16" fill="currentColor" style="display:inline-block;user-select:none;vertical-align:text-bottom;overflow:visible"><path d="M2 1.75C2 .784 2.784 0 3.75 0h6.586c.464 0 .909.184 1.237.513l2.914 2.914c.329.328.513.773.513 1.237v9.586A1.75 1.75 0 0 1 13.25 16h-9.5A1.75 1.75 0 0 1 2 14.25Zm1.75-.25a.25.25 0 0 0-.25.25v12.5c0 .138.112.25.25.25h9.5a.25.25 0 0 0 .25-.25V6h-2.75A1.75 1.75 0 0 1 9 4.25V1.5Zm6.75.062V4.25c0 .138.112.25.25.25h2.688l-.011-.013-2.914-2.914-.013-.011Z"></path></svg></div><span class="PRIVATE_TreeView-item-content-text"><span>07_milestone_project_1_food_vision_video.ipynb</span></span></div></div></li><li class="PRIVATE_TreeView-item" tabindex="0" id="video_notebooks/08_introduction_to_nlp_in_tensorflow_video.ipynb-item" role="treeitem" aria-labelledby=":R4mjacndjal5:" aria-describedby=":R4mjacndjal5H1: :R4mjacndjal5H2:" aria-level="2" aria-current="true" aria-selected="false"><div class="PRIVATE_TreeView-item-container" style="--level:2"><div style="grid-area:spacer;display:flex"><div style="width:100%;display:flex"><div class="PRIVATE_TreeView-item-level-line"></div></div></div><div id=":R4mjacndjal5:" class="PRIVATE_TreeView-item-content"><div class="PRIVATE_VisuallyHidden" aria-hidden="true" id=":R4mjacndjal5H1:"></div><div class="PRIVATE_TreeView-item-visual" aria-hidden="true"><svg aria-hidden="true" focusable="false" role="img" class="octicon octicon-file" viewBox="0 0 16 16" width="16" height="16" fill="currentColor" style="display:inline-block;user-select:none;vertical-align:text-bottom;overflow:visible"><path d="M2 1.75C2 .784 2.784 0 3.75 0h6.586c.464 0 .909.184 1.237.513l2.914 2.914c.329.328.513.773.513 1.237v9.586A1.75 1.75 0 0 1 13.25 16h-9.5A1.75 1.75 0 0 1 2 14.25Zm1.75-.25a.25.25 0 0 0-.25.25v12.5c0 .138.112.25.25.25h9.5a.25.25 0 0 0 .25-.25V6h-2.75A1.75 1.75 0 0 1 9 4.25V1.5Zm6.75.062V4.25c0 .138.112.25.25.25h2.688l-.011-.013-2.914-2.914-.013-.011Z"></path></svg></div><span class="PRIVATE_TreeView-item-content-text"><span>08_introduction_to_nlp_in_tensorflow_video.ipynb</span></span></div></div></li><li class="PRIVATE_TreeView-item" tabindex="0" id="video_notebooks/09_SkimLit_nlp_milestone_project_2_video.ipynb-item" role="treeitem" aria-labelledby=":R56jacndjal5:" aria-describedby=":R56jacndjal5H1: :R56jacndjal5H2:" aria-level="2" aria-selected="false"><div class="PRIVATE_TreeView-item-container" style="--level:2;content-visibility:auto;contain-intrinsic-size:auto 2rem"><div style="grid-area:spacer;display:flex"><div style="width:100%;display:flex"><div class="PRIVATE_TreeView-item-level-line"></div></div></div><div id=":R56jacndjal5:" class="PRIVATE_TreeView-item-content"><div class="PRIVATE_VisuallyHidden" aria-hidden="true" id=":R56jacndjal5H1:"></div><div class="PRIVATE_TreeView-item-visual" aria-hidden="true"><svg aria-hidden="true" focusable="false" role="img" class="octicon octicon-file" viewBox="0 0 16 16" width="16" height="16" fill="currentColor" style="display:inline-block;user-select:none;vertical-align:text-bottom;overflow:visible"><path d="M2 1.75C2 .784 2.784 0 3.75 0h6.586c.464 0 .909.184 1.237.513l2.914 2.914c.329.328.513.773.513 1.237v9.586A1.75 1.75 0 0 1 13.25 16h-9.5A1.75 1.75 0 0 1 2 14.25Zm1.75-.25a.25.25 0 0 0-.25.25v12.5c0 .138.112.25.25.25h9.5a.25.25 0 0 0 .25-.25V6h-2.75A1.75 1.75 0 0 1 9 4.25V1.5Zm6.75.062V4.25c0 .138.112.25.25.25h2.688l-.011-.013-2.914-2.914-.013-.011Z"></path></svg></div><span class="PRIVATE_TreeView-item-content-text"><span>09_SkimLit_nlp_milestone_project_2_video.ipynb</span></span></div></div></li><li class="PRIVATE_TreeView-item" tabindex="0" id="video_notebooks/10_time_series_forecasting_with_tensorflow_video.ipynb-item" role="treeitem" aria-labelledby=":R5mjacndjal5:" aria-describedby=":R5mjacndjal5H1: :R5mjacndjal5H2:" aria-level="2" aria-selected="false"><div class="PRIVATE_TreeView-item-container" style="--level:2;content-visibility:auto;contain-intrinsic-size:auto 2rem"><div style="grid-area:spacer;display:flex"><div style="width:100%;display:flex"><div class="PRIVATE_TreeView-item-level-line"></div></div></div><div id=":R5mjacndjal5:" class="PRIVATE_TreeView-item-content"><div class="PRIVATE_VisuallyHidden" aria-hidden="true" id=":R5mjacndjal5H1:"></div><div class="PRIVATE_TreeView-item-visual" aria-hidden="true"><svg aria-hidden="true" focusable="false" role="img" class="octicon octicon-file" viewBox="0 0 16 16" width="16" height="16" fill="currentColor" style="display:inline-block;user-select:none;vertical-align:text-bottom;overflow:visible"><path d="M2 1.75C2 .784 2.784 0 3.75 0h6.586c.464 0 .909.184 1.237.513l2.914 2.914c.329.328.513.773.513 1.237v9.586A1.75 1.75 0 0 1 13.25 16h-9.5A1.75 1.75 0 0 1 2 14.25Zm1.75-.25a.25.25 0 0 0-.25.25v12.5c0 .138.112.25.25.25h9.5a.25.25 0 0 0 .25-.25V6h-2.75A1.75 1.75 0 0 1 9 4.25V1.5Zm6.75.062V4.25c0 .138.112.25.25.25h2.688l-.011-.013-2.914-2.914-.013-.011Z"></path></svg></div><span class="PRIVATE_TreeView-item-content-text"><span>10_time_series_forecasting_with_tensorflow_video.ipynb</span></span></div></div></li><li class="PRIVATE_TreeView-item" tabindex="0" id="video_notebooks/README.md-item" role="treeitem" aria-labelledby=":R66jacndjal5:" aria-describedby=":R66jacndjal5H1: :R66jacndjal5H2:" aria-level="2" aria-selected="false"><div class="PRIVATE_TreeView-item-container" style="--level:2;content-visibility:auto;contain-intrinsic-size:auto 2rem"><div style="grid-area:spacer;display:flex"><div style="width:100%;display:flex"><div class="PRIVATE_TreeView-item-level-line"></div></div></div><div id=":R66jacndjal5:" class="PRIVATE_TreeView-item-content"><div class="PRIVATE_VisuallyHidden" aria-hidden="true" id=":R66jacndjal5H1:"></div><div class="PRIVATE_TreeView-item-visual" aria-hidden="true"><svg aria-hidden="true" focusable="false" role="img" class="octicon octicon-file" viewBox="0 0 16 16" width="16" height="16" fill="currentColor" style="display:inline-block;user-select:none;vertical-align:text-bottom;overflow:visible"><path d="M2 1.75C2 .784 2.784 0 3.75 0h6.586c.464 0 .909.184 1.237.513l2.914 2.914c.329.328.513.773.513 1.237v9.586A1.75 1.75 0 0 1 13.25 16h-9.5A1.75 1.75 0 0 1 2 14.25Zm1.75-.25a.25.25 0 0 0-.25.25v12.5c0 .138.112.25.25.25h9.5a.25.25 0 0 0 .25-.25V6h-2.75A1.75 1.75 0 0 1 9 4.25V1.5Zm6.75.062V4.25c0 .138.112.25.25.25h2.688l-.011-.013-2.914-2.914-.013-.011Z"></path></svg></div><span class="PRIVATE_TreeView-item-content-text"><span>README.md</span></span></div></div></li></ul></li><li class="PRIVATE_TreeView-item" tabindex="0" id=".gitignore-item" role="treeitem" aria-labelledby=":R3qcndjal5:" aria-describedby=":R3qcndjal5H1: :R3qcndjal5H2:" aria-level="1" aria-selected="false"><div class="PRIVATE_TreeView-item-container" style="--level:1;content-visibility:auto;contain-intrinsic-size:auto 2rem"><div style="grid-area:spacer;display:flex"><div style="width:100%;display:flex"></div></div><div id=":R3qcndjal5:" class="PRIVATE_TreeView-item-content"><div class="PRIVATE_VisuallyHidden" aria-hidden="true" id=":R3qcndjal5H1:"></div><div class="PRIVATE_TreeView-item-visual" aria-hidden="true"><svg aria-hidden="true" focusable="false" role="img" class="octicon octicon-file" viewBox="0 0 16 16" width="16" height="16" fill="currentColor" style="display:inline-block;user-select:none;vertical-align:text-bottom;overflow:visible"><path d="M2 1.75C2 .784 2.784 0 3.75 0h6.586c.464 0 .909.184 1.237.513l2.914 2.914c.329.328.513.773.513 1.237v9.586A1.75 1.75 0 0 1 13.25 16h-9.5A1.75 1.75 0 0 1 2 14.25Zm1.75-.25a.25.25 0 0 0-.25.25v12.5c0 .138.112.25.25.25h9.5a.25.25 0 0 0 .25-.25V6h-2.75A1.75 1.75 0 0 1 9 4.25V1.5Zm6.75.062V4.25c0 .138.112.25.25.25h2.688l-.011-.013-2.914-2.914-.013-.011Z"></path></svg></div><span class="PRIVATE_TreeView-item-content-text"><span>.gitignore</span></span></div></div></li><li class="PRIVATE_TreeView-item" tabindex="0" id="00_tensorflow_fundamentals.ipynb-item" role="treeitem" aria-labelledby=":R4acndjal5:" aria-describedby=":R4acndjal5H1: :R4acndjal5H2:" aria-level="1" aria-selected="false"><div class="PRIVATE_TreeView-item-container" style="--level:1;content-visibility:auto;contain-intrinsic-size:auto 2rem"><div style="grid-area:spacer;display:flex"><div style="width:100%;display:flex"></div></div><div id=":R4acndjal5:" class="PRIVATE_TreeView-item-content"><div class="PRIVATE_VisuallyHidden" aria-hidden="true" id=":R4acndjal5H1:"></div><div class="PRIVATE_TreeView-item-visual" aria-hidden="true"><svg aria-hidden="true" focusable="false" role="img" class="octicon octicon-file" viewBox="0 0 16 16" width="16" height="16" fill="currentColor" style="display:inline-block;user-select:none;vertical-align:text-bottom;overflow:visible"><path d="M2 1.75C2 .784 2.784 0 3.75 0h6.586c.464 0 .909.184 1.237.513l2.914 2.914c.329.328.513.773.513 1.237v9.586A1.75 1.75 0 0 1 13.25 16h-9.5A1.75 1.75 0 0 1 2 14.25Zm1.75-.25a.25.25 0 0 0-.25.25v12.5c0 .138.112.25.25.25h9.5a.25.25 0 0 0 .25-.25V6h-2.75A1.75 1.75 0 0 1 9 4.25V1.5Zm6.75.062V4.25c0 .138.112.25.25.25h2.688l-.011-.013-2.914-2.914-.013-.011Z"></path></svg></div><span class="PRIVATE_TreeView-item-content-text"><span>00_tensorflow_fundamentals.ipynb</span></span></div></div></li><li class="PRIVATE_TreeView-item" tabindex="0" id="01_neural_network_regression_in_tensorflow.ipynb-item" role="treeitem" aria-labelledby=":R4qcndjal5:" aria-describedby=":R4qcndjal5H1: :R4qcndjal5H2:" aria-level="1" aria-selected="false"><div class="PRIVATE_TreeView-item-container" style="--level:1;content-visibility:auto;contain-intrinsic-size:auto 2rem"><div style="grid-area:spacer;display:flex"><div style="width:100%;display:flex"></div></div><div id=":R4qcndjal5:" class="PRIVATE_TreeView-item-content"><div class="PRIVATE_VisuallyHidden" aria-hidden="true" id=":R4qcndjal5H1:"></div><div class="PRIVATE_TreeView-item-visual" aria-hidden="true"><svg aria-hidden="true" focusable="false" role="img" class="octicon octicon-file" viewBox="0 0 16 16" width="16" height="16" fill="currentColor" style="display:inline-block;user-select:none;vertical-align:text-bottom;overflow:visible"><path d="M2 1.75C2 .784 2.784 0 3.75 0h6.586c.464 0 .909.184 1.237.513l2.914 2.914c.329.328.513.773.513 1.237v9.586A1.75 1.75 0 0 1 13.25 16h-9.5A1.75 1.75 0 0 1 2 14.25Zm1.75-.25a.25.25 0 0 0-.25.25v12.5c0 .138.112.25.25.25h9.5a.25.25 0 0 0 .25-.25V6h-2.75A1.75 1.75 0 0 1 9 4.25V1.5Zm6.75.062V4.25c0 .138.112.25.25.25h2.688l-.011-.013-2.914-2.914-.013-.011Z"></path></svg></div><span class="PRIVATE_TreeView-item-content-text"><span>01_neural_network_regression_in_tensorflow.ipynb</span></span></div></div></li><li class="PRIVATE_TreeView-item" tabindex="0" id="02_neural_network_classification_in_tensorflow.ipynb-item" role="treeitem" aria-labelledby=":R5acndjal5:" aria-describedby=":R5acndjal5H1: :R5acndjal5H2:" aria-level="1" aria-selected="false"><div class="PRIVATE_TreeView-item-container" style="--level:1;content-visibility:auto;contain-intrinsic-size:auto 2rem"><div style="grid-area:spacer;display:flex"><div style="width:100%;display:flex"></div></div><div id=":R5acndjal5:" class="PRIVATE_TreeView-item-content"><div class="PRIVATE_VisuallyHidden" aria-hidden="true" id=":R5acndjal5H1:"></div><div class="PRIVATE_TreeView-item-visual" aria-hidden="true"><svg aria-hidden="true" focusable="false" role="img" class="octicon octicon-file" viewBox="0 0 16 16" width="16" height="16" fill="currentColor" style="display:inline-block;user-select:none;vertical-align:text-bottom;overflow:visible"><path d="M2 1.75C2 .784 2.784 0 3.75 0h6.586c.464 0 .909.184 1.237.513l2.914 2.914c.329.328.513.773.513 1.237v9.586A1.75 1.75 0 0 1 13.25 16h-9.5A1.75 1.75 0 0 1 2 14.25Zm1.75-.25a.25.25 0 0 0-.25.25v12.5c0 .138.112.25.25.25h9.5a.25.25 0 0 0 .25-.25V6h-2.75A1.75 1.75 0 0 1 9 4.25V1.5Zm6.75.062V4.25c0 .138.112.25.25.25h2.688l-.011-.013-2.914-2.914-.013-.011Z"></path></svg></div><span class="PRIVATE_TreeView-item-content-text"><span>02_neural_network_classification_in_tensorflow.ipynb</span></span></div></div></li><li class="PRIVATE_TreeView-item" tabindex="0" id="03_convolutional_neural_networks_in_tensorflow.ipynb-item" role="treeitem" aria-labelledby=":R5qcndjal5:" aria-describedby=":R5qcndjal5H1: :R5qcndjal5H2:" aria-level="1" aria-selected="false"><div class="PRIVATE_TreeView-item-container" style="--level:1;content-visibility:auto;contain-intrinsic-size:auto 2rem"><div style="grid-area:spacer;display:flex"><div style="width:100%;display:flex"></div></div><div id=":R5qcndjal5:" class="PRIVATE_TreeView-item-content"><div class="PRIVATE_VisuallyHidden" aria-hidden="true" id=":R5qcndjal5H1:"></div><div class="PRIVATE_TreeView-item-visual" aria-hidden="true"><svg aria-hidden="true" focusable="false" role="img" class="octicon octicon-file" viewBox="0 0 16 16" width="16" height="16" fill="currentColor" style="display:inline-block;user-select:none;vertical-align:text-bottom;overflow:visible"><path d="M2 1.75C2 .784 2.784 0 3.75 0h6.586c.464 0 .909.184 1.237.513l2.914 2.914c.329.328.513.773.513 1.237v9.586A1.75 1.75 0 0 1 13.25 16h-9.5A1.75 1.75 0 0 1 2 14.25Zm1.75-.25a.25.25 0 0 0-.25.25v12.5c0 .138.112.25.25.25h9.5a.25.25 0 0 0 .25-.25V6h-2.75A1.75 1.75 0 0 1 9 4.25V1.5Zm6.75.062V4.25c0 .138.112.25.25.25h2.688l-.011-.013-2.914-2.914-.013-.011Z"></path></svg></div><span class="PRIVATE_TreeView-item-content-text"><span>03_convolutional_neural_networks_in_tensorflow.ipynb</span></span></div></div></li><li class="PRIVATE_TreeView-item" tabindex="0" id="04_transfer_learning_in_tensorflow_part_1_feature_extraction.ipynb-item" role="treeitem" aria-labelledby=":R6acndjal5:" aria-describedby=":R6acndjal5H1: :R6acndjal5H2:" aria-level="1" aria-selected="false"><div class="PRIVATE_TreeView-item-container" style="--level:1;content-visibility:auto;contain-intrinsic-size:auto 2rem"><div style="grid-area:spacer;display:flex"><div style="width:100%;display:flex"></div></div><div id=":R6acndjal5:" class="PRIVATE_TreeView-item-content"><div class="PRIVATE_VisuallyHidden" aria-hidden="true" id=":R6acndjal5H1:"></div><div class="PRIVATE_TreeView-item-visual" aria-hidden="true"><svg aria-hidden="true" focusable="false" role="img" class="octicon octicon-file" viewBox="0 0 16 16" width="16" height="16" fill="currentColor" style="display:inline-block;user-select:none;vertical-align:text-bottom;overflow:visible"><path d="M2 1.75C2 .784 2.784 0 3.75 0h6.586c.464 0 .909.184 1.237.513l2.914 2.914c.329.328.513.773.513 1.237v9.586A1.75 1.75 0 0 1 13.25 16h-9.5A1.75 1.75 0 0 1 2 14.25Zm1.75-.25a.25.25 0 0 0-.25.25v12.5c0 .138.112.25.25.25h9.5a.25.25 0 0 0 .25-.25V6h-2.75A1.75 1.75 0 0 1 9 4.25V1.5Zm6.75.062V4.25c0 .138.112.25.25.25h2.688l-.011-.013-2.914-2.914-.013-.011Z"></path></svg></div><span class="PRIVATE_TreeView-item-content-text"><span>04_transfer_learning_in_tensorflow_part_1_feature_extraction.ipynb</span></span></div></div></li><li class="PRIVATE_TreeView-item" tabindex="0" id="05_transfer_learning_in_tensorflow_part_2_fine_tuning.ipynb-item" role="treeitem" aria-labelledby=":R6qcndjal5:" aria-describedby=":R6qcndjal5H1: :R6qcndjal5H2:" aria-level="1" aria-selected="false"><div class="PRIVATE_TreeView-item-container" style="--level:1;content-visibility:auto;contain-intrinsic-size:auto 2rem"><div style="grid-area:spacer;display:flex"><div style="width:100%;display:flex"></div></div><div id=":R6qcndjal5:" class="PRIVATE_TreeView-item-content"><div class="PRIVATE_VisuallyHidden" aria-hidden="true" id=":R6qcndjal5H1:"></div><div class="PRIVATE_TreeView-item-visual" aria-hidden="true"><svg aria-hidden="true" focusable="false" role="img" class="octicon octicon-file" viewBox="0 0 16 16" width="16" height="16" fill="currentColor" style="display:inline-block;user-select:none;vertical-align:text-bottom;overflow:visible"><path d="M2 1.75C2 .784 2.784 0 3.75 0h6.586c.464 0 .909.184 1.237.513l2.914 2.914c.329.328.513.773.513 1.237v9.586A1.75 1.75 0 0 1 13.25 16h-9.5A1.75 1.75 0 0 1 2 14.25Zm1.75-.25a.25.25 0 0 0-.25.25v12.5c0 .138.112.25.25.25h9.5a.25.25 0 0 0 .25-.25V6h-2.75A1.75 1.75 0 0 1 9 4.25V1.5Zm6.75.062V4.25c0 .138.112.25.25.25h2.688l-.011-.013-2.914-2.914-.013-.011Z"></path></svg></div><span class="PRIVATE_TreeView-item-content-text"><span>05_transfer_learning_in_tensorflow_part_2_fine_tuning.ipynb</span></span></div></div></li><li class="PRIVATE_TreeView-item" tabindex="0" id="06_transfer_learning_in_tensorflow_part_3_scaling_up.ipynb-item" role="treeitem" aria-labelledby=":R7acndjal5:" aria-describedby=":R7acndjal5H1: :R7acndjal5H2:" aria-level="1" aria-selected="false"><div class="PRIVATE_TreeView-item-container" style="--level:1;content-visibility:auto;contain-intrinsic-size:auto 2rem"><div style="grid-area:spacer;display:flex"><div style="width:100%;display:flex"></div></div><div id=":R7acndjal5:" class="PRIVATE_TreeView-item-content"><div class="PRIVATE_VisuallyHidden" aria-hidden="true" id=":R7acndjal5H1:"></div><div class="PRIVATE_TreeView-item-visual" aria-hidden="true"><svg aria-hidden="true" focusable="false" role="img" class="octicon octicon-file" viewBox="0 0 16 16" width="16" height="16" fill="currentColor" style="display:inline-block;user-select:none;vertical-align:text-bottom;overflow:visible"><path d="M2 1.75C2 .784 2.784 0 3.75 0h6.586c.464 0 .909.184 1.237.513l2.914 2.914c.329.328.513.773.513 1.237v9.586A1.75 1.75 0 0 1 13.25 16h-9.5A1.75 1.75 0 0 1 2 14.25Zm1.75-.25a.25.25 0 0 0-.25.25v12.5c0 .138.112.25.25.25h9.5a.25.25 0 0 0 .25-.25V6h-2.75A1.75 1.75 0 0 1 9 4.25V1.5Zm6.75.062V4.25c0 .138.112.25.25.25h2.688l-.011-.013-2.914-2.914-.013-.011Z"></path></svg></div><span class="PRIVATE_TreeView-item-content-text"><span>06_transfer_learning_in_tensorflow_part_3_scaling_up.ipynb</span></span></div></div></li><li class="PRIVATE_TreeView-item" tabindex="0" id="07_food_vision_milestone_project_1.ipynb-item" role="treeitem" aria-labelledby=":R7qcndjal5:" aria-describedby=":R7qcndjal5H1: :R7qcndjal5H2:" aria-level="1" aria-selected="false"><div class="PRIVATE_TreeView-item-container" style="--level:1;content-visibility:auto;contain-intrinsic-size:auto 2rem"><div style="grid-area:spacer;display:flex"><div style="width:100%;display:flex"></div></div><div id=":R7qcndjal5:" class="PRIVATE_TreeView-item-content"><div class="PRIVATE_VisuallyHidden" aria-hidden="true" id=":R7qcndjal5H1:"></div><div class="PRIVATE_TreeView-item-visual" aria-hidden="true"><svg aria-hidden="true" focusable="false" role="img" class="octicon octicon-file" viewBox="0 0 16 16" width="16" height="16" fill="currentColor" style="display:inline-block;user-select:none;vertical-align:text-bottom;overflow:visible"><path d="M2 1.75C2 .784 2.784 0 3.75 0h6.586c.464 0 .909.184 1.237.513l2.914 2.914c.329.328.513.773.513 1.237v9.586A1.75 1.75 0 0 1 13.25 16h-9.5A1.75 1.75 0 0 1 2 14.25Zm1.75-.25a.25.25 0 0 0-.25.25v12.5c0 .138.112.25.25.25h9.5a.25.25 0 0 0 .25-.25V6h-2.75A1.75 1.75 0 0 1 9 4.25V1.5Zm6.75.062V4.25c0 .138.112.25.25.25h2.688l-.011-.013-2.914-2.914-.013-.011Z"></path></svg></div><span class="PRIVATE_TreeView-item-content-text"><span>07_food_vision_milestone_project_1.ipynb</span></span></div></div></li><li class="PRIVATE_TreeView-item" tabindex="0" id="08_introduction_to_nlp_in_tensorflow.ipynb-item" role="treeitem" aria-labelledby=":R8acndjal5:" aria-describedby=":R8acndjal5H1: :R8acndjal5H2:" aria-level="1" aria-selected="false"><div class="PRIVATE_TreeView-item-container" style="--level:1;content-visibility:auto;contain-intrinsic-size:auto 2rem"><div style="grid-area:spacer;display:flex"><div style="width:100%;display:flex"></div></div><div id=":R8acndjal5:" class="PRIVATE_TreeView-item-content"><div class="PRIVATE_VisuallyHidden" aria-hidden="true" id=":R8acndjal5H1:"></div><div class="PRIVATE_TreeView-item-visual" aria-hidden="true"><svg aria-hidden="true" focusable="false" role="img" class="octicon octicon-file" viewBox="0 0 16 16" width="16" height="16" fill="currentColor" style="display:inline-block;user-select:none;vertical-align:text-bottom;overflow:visible"><path d="M2 1.75C2 .784 2.784 0 3.75 0h6.586c.464 0 .909.184 1.237.513l2.914 2.914c.329.328.513.773.513 1.237v9.586A1.75 1.75 0 0 1 13.25 16h-9.5A1.75 1.75 0 0 1 2 14.25Zm1.75-.25a.25.25 0 0 0-.25.25v12.5c0 .138.112.25.25.25h9.5a.25.25 0 0 0 .25-.25V6h-2.75A1.75 1.75 0 0 1 9 4.25V1.5Zm6.75.062V4.25c0 .138.112.25.25.25h2.688l-.011-.013-2.914-2.914-.013-.011Z"></path></svg></div><span class="PRIVATE_TreeView-item-content-text"><span>08_introduction_to_nlp_in_tensorflow.ipynb</span></span></div></div></li><li class="PRIVATE_TreeView-item" tabindex="0" id="09_SkimLit_nlp_milestone_project_2.ipynb-item" role="treeitem" aria-labelledby=":R8qcndjal5:" aria-describedby=":R8qcndjal5H1: :R8qcndjal5H2:" aria-level="1" aria-selected="false"><div class="PRIVATE_TreeView-item-container" style="--level:1;content-visibility:auto;contain-intrinsic-size:auto 2rem"><div style="grid-area:spacer;display:flex"><div style="width:100%;display:flex"></div></div><div id=":R8qcndjal5:" class="PRIVATE_TreeView-item-content"><div class="PRIVATE_VisuallyHidden" aria-hidden="true" id=":R8qcndjal5H1:"></div><div class="PRIVATE_TreeView-item-visual" aria-hidden="true"><svg aria-hidden="true" focusable="false" role="img" class="octicon octicon-file" viewBox="0 0 16 16" width="16" height="16" fill="currentColor" style="display:inline-block;user-select:none;vertical-align:text-bottom;overflow:visible"><path d="M2 1.75C2 .784 2.784 0 3.75 0h6.586c.464 0 .909.184 1.237.513l2.914 2.914c.329.328.513.773.513 1.237v9.586A1.75 1.75 0 0 1 13.25 16h-9.5A1.75 1.75 0 0 1 2 14.25Zm1.75-.25a.25.25 0 0 0-.25.25v12.5c0 .138.112.25.25.25h9.5a.25.25 0 0 0 .25-.25V6h-2.75A1.75 1.75 0 0 1 9 4.25V1.5Zm6.75.062V4.25c0 .138.112.25.25.25h2.688l-.011-.013-2.914-2.914-.013-.011Z"></path></svg></div><span class="PRIVATE_TreeView-item-content-text"><span>09_SkimLit_nlp_milestone_project_2.ipynb</span></span></div></div></li><li class="PRIVATE_TreeView-item" tabindex="0" id="10_time_series_forecasting_in_tensorflow.ipynb-item" role="treeitem" aria-labelledby=":R9acndjal5:" aria-describedby=":R9acndjal5H1: :R9acndjal5H2:" aria-level="1" aria-selected="false"><div class="PRIVATE_TreeView-item-container" style="--level:1;content-visibility:auto;contain-intrinsic-size:auto 2rem"><div style="grid-area:spacer;display:flex"><div style="width:100%;display:flex"></div></div><div id=":R9acndjal5:" class="PRIVATE_TreeView-item-content"><div class="PRIVATE_VisuallyHidden" aria-hidden="true" id=":R9acndjal5H1:"></div><div class="PRIVATE_TreeView-item-visual" aria-hidden="true"><svg aria-hidden="true" focusable="false" role="img" class="octicon octicon-file" viewBox="0 0 16 16" width="16" height="16" fill="currentColor" style="display:inline-block;user-select:none;vertical-align:text-bottom;overflow:visible"><path d="M2 1.75C2 .784 2.784 0 3.75 0h6.586c.464 0 .909.184 1.237.513l2.914 2.914c.329.328.513.773.513 1.237v9.586A1.75 1.75 0 0 1 13.25 16h-9.5A1.75 1.75 0 0 1 2 14.25Zm1.75-.25a.25.25 0 0 0-.25.25v12.5c0 .138.112.25.25.25h9.5a.25.25 0 0 0 .25-.25V6h-2.75A1.75 1.75 0 0 1 9 4.25V1.5Zm6.75.062V4.25c0 .138.112.25.25.25h2.688l-.011-.013-2.914-2.914-.013-.011Z"></path></svg></div><span class="PRIVATE_TreeView-item-content-text"><span>10_time_series_forecasting_in_tensorflow.ipynb</span></span></div></div></li><li class="PRIVATE_TreeView-item" tabindex="0" id="11_passing_the_tensorflow_developer_certification_exam.md-item" role="treeitem" aria-labelledby=":R9qcndjal5:" aria-describedby=":R9qcndjal5H1: :R9qcndjal5H2:" aria-level="1" aria-selected="false"><div class="PRIVATE_TreeView-item-container" style="--level:1;content-visibility:auto;contain-intrinsic-size:auto 2rem"><div style="grid-area:spacer;display:flex"><div style="width:100%;display:flex"></div></div><div id=":R9qcndjal5:" class="PRIVATE_TreeView-item-content"><div class="PRIVATE_VisuallyHidden" aria-hidden="true" id=":R9qcndjal5H1:"></div><div class="PRIVATE_TreeView-item-visual" aria-hidden="true"><svg aria-hidden="true" focusable="false" role="img" class="octicon octicon-file" viewBox="0 0 16 16" width="16" height="16" fill="currentColor" style="display:inline-block;user-select:none;vertical-align:text-bottom;overflow:visible"><path d="M2 1.75C2 .784 2.784 0 3.75 0h6.586c.464 0 .909.184 1.237.513l2.914 2.914c.329.328.513.773.513 1.237v9.586A1.75 1.75 0 0 1 13.25 16h-9.5A1.75 1.75 0 0 1 2 14.25Zm1.75-.25a.25.25 0 0 0-.25.25v12.5c0 .138.112.25.25.25h9.5a.25.25 0 0 0 .25-.25V6h-2.75A1.75 1.75 0 0 1 9 4.25V1.5Zm6.75.062V4.25c0 .138.112.25.25.25h2.688l-.011-.013-2.914-2.914-.013-.011Z"></path></svg></div><span class="PRIVATE_TreeView-item-content-text"><span>11_passing_the_tensorflow_developer_certification_exam.md</span></span></div></div></li><li class="PRIVATE_TreeView-item" tabindex="0" id="LICENSE-item" role="treeitem" aria-labelledby=":Raacndjal5:" aria-describedby=":Raacndjal5H1: :Raacndjal5H2:" aria-level="1" aria-selected="false"><div class="PRIVATE_TreeView-item-container" style="--level:1;content-visibility:auto;contain-intrinsic-size:auto 2rem"><div style="grid-area:spacer;display:flex"><div style="width:100%;display:flex"></div></div><div id=":Raacndjal5:" class="PRIVATE_TreeView-item-content"><div class="PRIVATE_VisuallyHidden" aria-hidden="true" id=":Raacndjal5H1:"></div><div class="PRIVATE_TreeView-item-visual" aria-hidden="true"><svg aria-hidden="true" focusable="false" role="img" class="octicon octicon-file" viewBox="0 0 16 16" width="16" height="16" fill="currentColor" style="display:inline-block;user-select:none;vertical-align:text-bottom;overflow:visible"><path d="M2 1.75C2 .784 2.784 0 3.75 0h6.586c.464 0 .909.184 1.237.513l2.914 2.914c.329.328.513.773.513 1.237v9.586A1.75 1.75 0 0 1 13.25 16h-9.5A1.75 1.75 0 0 1 2 14.25Zm1.75-.25a.25.25 0 0 0-.25.25v12.5c0 .138.112.25.25.25h9.5a.25.25 0 0 0 .25-.25V6h-2.75A1.75 1.75 0 0 1 9 4.25V1.5Zm6.75.062V4.25c0 .138.112.25.25.25h2.688l-.011-.013-2.914-2.914-.013-.011Z"></path></svg></div><span class="PRIVATE_TreeView-item-content-text"><span>LICENSE</span></span></div></div></li><li class="PRIVATE_TreeView-item" tabindex="0" id="README.md-item" role="treeitem" aria-labelledby=":Raqcndjal5:" aria-describedby=":Raqcndjal5H1: :Raqcndjal5H2:" aria-level="1" aria-selected="false"><div class="PRIVATE_TreeView-item-container" style="--level:1;content-visibility:auto;contain-intrinsic-size:auto 2rem"><div style="grid-area:spacer;display:flex"><div style="width:100%;display:flex"></div></div><div id=":Raqcndjal5:" class="PRIVATE_TreeView-item-content"><div class="PRIVATE_VisuallyHidden" aria-hidden="true" id=":Raqcndjal5H1:"></div><div class="PRIVATE_TreeView-item-visual" aria-hidden="true"><svg aria-hidden="true" focusable="false" role="img" class="octicon octicon-file" viewBox="0 0 16 16" width="16" height="16" fill="currentColor" style="display:inline-block;user-select:none;vertical-align:text-bottom;overflow:visible"><path d="M2 1.75C2 .784 2.784 0 3.75 0h6.586c.464 0 .909.184 1.237.513l2.914 2.914c.329.328.513.773.513 1.237v9.586A1.75 1.75 0 0 1 13.25 16h-9.5A1.75 1.75 0 0 1 2 14.25Zm1.75-.25a.25.25 0 0 0-.25.25v12.5c0 .138.112.25.25.25h9.5a.25.25 0 0 0 .25-.25V6h-2.75A1.75 1.75 0 0 1 9 4.25V1.5Zm6.75.062V4.25c0 .138.112.25.25.25h2.688l-.011-.013-2.914-2.914-.013-.011Z"></path></svg></div><span class="PRIVATE_TreeView-item-content-text"><span>README.md</span></span></div></div></li><li class="PRIVATE_TreeView-item" tabindex="0" id="mkdocs.yml-item" role="treeitem" aria-labelledby=":Rbacndjal5:" aria-describedby=":Rbacndjal5H1: :Rbacndjal5H2:" aria-level="1" aria-selected="false"><div class="PRIVATE_TreeView-item-container" style="--level:1;content-visibility:auto;contain-intrinsic-size:auto 2rem"><div style="grid-area:spacer;display:flex"><div style="width:100%;display:flex"></div></div><div id=":Rbacndjal5:" class="PRIVATE_TreeView-item-content"><div class="PRIVATE_VisuallyHidden" aria-hidden="true" id=":Rbacndjal5H1:"></div><div class="PRIVATE_TreeView-item-visual" aria-hidden="true"><svg aria-hidden="true" focusable="false" role="img" class="octicon octicon-file" viewBox="0 0 16 16" width="16" height="16" fill="currentColor" style="display:inline-block;user-select:none;vertical-align:text-bottom;overflow:visible"><path d="M2 1.75C2 .784 2.784 0 3.75 0h6.586c.464 0 .909.184 1.237.513l2.914 2.914c.329.328.513.773.513 1.237v9.586A1.75 1.75 0 0 1 13.25 16h-9.5A1.75 1.75 0 0 1 2 14.25Zm1.75-.25a.25.25 0 0 0-.25.25v12.5c0 .138.112.25.25.25h9.5a.25.25 0 0 0 .25-.25V6h-2.75A1.75 1.75 0 0 1 9 4.25V1.5Zm6.75.062V4.25c0 .138.112.25.25.25h2.688l-.011-.013-2.914-2.914-.013-.011Z"></path></svg></div><span class="PRIVATE_TreeView-item-content-text"><span>mkdocs.yml</span></span></div></div></li></ul></nav></div></div><div class="Box-sc-g0xbh4-0 hwhShM"><div class="Box-sc-g0xbh4-0 cYPxpP"><a href="https://docs.github.com/repositories/working-with-files/using-files/navigating-code-on-github" target="_blank" class="Link__StyledLink-sc-14289xe-0 fIqerb">Documentation</a> • <a href="https://github.com/orgs/community/discussions/54546" target="_blank" class="Link__StyledLink-sc-14289xe-0 fIqerb">Share feedback</a></div></div></div><div class="Box-sc-g0xbh4-0 fBtiVT"><div class="Box-sc-g0xbh4-0 cYPxpP"><a href="https://docs.github.com/repositories/working-with-files/using-files/navigating-code-on-github" target="_blank" class="Link__StyledLink-sc-14289xe-0 fIqerb">Documentation</a> • <a href="https://github.com/orgs/community/discussions/54546" target="_blank" class="Link__StyledLink-sc-14289xe-0 fIqerb">Share feedback</a></div></div></div></div></div></div></div><main class="Box-sc-g0xbh4-0 emFMJu"><div class="Box-sc-g0xbh4-0"></div><div class="Box-sc-g0xbh4-0 hlUAHL"><div data-selector="repos-split-pane-content" tabindex="0" class="Box-sc-g0xbh4-0 iStsmI"><div class="Box-sc-g0xbh4-0 eIgvIk"><div class="Box-sc-g0xbh4-0 eVFfWF container"><div class="Box-sc-g0xbh4-0 kgXdnT react-code-view-header--narrow"><div class="Box-sc-g0xbh4-0 kzTa-dF"><div class="Box-sc-g0xbh4-0 bbXCl"><h2 class="Heading__StyledHeading-sc-1c1dgg0-0 fNPcqd"><button style="--button-color:fg.muted" type="button" aria-label="Expand side panel" data-testid="expand-file-tree-button-mobile" class="types__StyledButton-sc-ws60qy-0 CtaSm"><span data-component="buttonContent" class="Box-sc-g0xbh4-0 kkrdEu"><span data-component="leadingVisual" class="Box-sc-g0xbh4-0 trpoQ"><svg aria-hidden="true" focusable="false" role="img" class="octicon octicon-arrow-left" viewBox="0 0 16 16" width="16" height="16" fill="currentColor" style="display:inline-block;user-select:none;vertical-align:text-bottom;overflow:visible"><path d="M7.78 12.53a.75.75 0 0 1-1.06 0L2.47 8.28a.75.75 0 0 1 0-1.06l4.25-4.25a.751.751 0 0 1 1.042.018.751.751 0 0 1 .018 1.042L4.81 7h7.44a.75.75 0 0 1 0 1.5H4.81l2.97 2.97a.75.75 0 0 1 0 1.06Z"></path></svg></span><span data-component="text">Files</span></span></button><button data-component="IconButton" type="button" data-testid="collapse-file-tree-button" aria-label="Side panel" aria-expanded="true" aria-controls="repos-file-tree" class="types__StyledButton-sc-ws60qy-0 edBXBM" data-no-visuals="true"><svg aria-hidden="true" focusable="false" role="img" class="octicon octicon-sidebar-expand" viewBox="0 0 16 16" width="16" height="16" fill="currentColor" style="display:inline-block;user-select:none;vertical-align:text-bottom;overflow:visible"><path d="m4.177 7.823 2.396-2.396A.25.25 0 0 1 7 5.604v4.792a.25.25 0 0 1-.427.177L4.177 8.177a.25.25 0 0 1 0-.354Z"></path><path d="M0 1.75C0 .784.784 0 1.75 0h12.5C15.216 0 16 .784 16 1.75v12.5A1.75 1.75 0 0 1 14.25 16H1.75A1.75 1.75 0 0 1 0 14.25Zm1.75-.25a.25.25 0 0 0-.25.25v12.5c0 .138.112.25.25.25H9.5v-13Zm12.5 13a.25.25 0 0 0 .25-.25V1.75a.25.25 0 0 0-.25-.25H11v13Z"></path></svg></button><button hidden="" data-testid="" data-hotkey-scope="read-only-cursor-text-area"></button></h2><div class="Box-sc-g0xbh4-0 hGGMNu"><div class="Box-sc-g0xbh4-0 eHRrYV"><button type="button" id="branch-picker-repos-header-ref-selector-narrow" aria-haspopup="true" tabindex="0" aria-label="main branch" data-testid="anchor-button" class="types__StyledButton-sc-ws60qy-0 hgfMvt ref-selector-class"><span data-component="buttonContent" class="Box-sc-g0xbh4-0 kkrdEu"><span data-component="text"><div class="Box-sc-g0xbh4-0 bKgizp"><div class="Box-sc-g0xbh4-0 kYlvBX"><svg aria-hidden="true" focusable="false" role="img" class="octicon octicon-git-branch" viewBox="0 0 16 16" width="16" height="16" fill="currentColor" style="display:inline-block;user-select:none;vertical-align:text-bottom;overflow:visible"><path d="M9.5 3.25a2.25 2.25 0 1 1 3 2.122V6A2.5 2.5 0 0 1 10 8.5H6a1 1 0 0 0-1 1v1.128a2.251 2.251 0 1 1-1.5 0V5.372a2.25 2.25 0 1 1 1.5 0v1.836A2.493 2.493 0 0 1 6 7h4a1 1 0 0 0 1-1v-.628A2.25 2.25 0 0 1 9.5 3.25Zm-6 0a.75.75 0 1 0 1.5 0 .75.75 0 0 0-1.5 0Zm8.25-.75a.75.75 0 1 0 0 1.5.75.75 0 0 0 0-1.5ZM4.25 12a.75.75 0 1 0 0 1.5.75.75 0 0 0 0-1.5Z"></path></svg></div><div class="Box-sc-g0xbh4-0 dKmYfk"><span class="Text-sc-17v1xeu-0 bOMzPg"> <!-- -->main</span></div></div></span><span data-component="trailingVisual" class="Box-sc-g0xbh4-0 trpoQ"><svg aria-hidden="true" focusable="false" role="img" class="octicon octicon-triangle-down" viewBox="0 0 16 16" width="16" height="16" fill="currentColor" style="display:inline-block;user-select:none;vertical-align:text-bottom;overflow:visible"><path d="m4.427 7.427 3.396 3.396a.25.25 0 0 0 .354 0l3.396-3.396A.25.25 0 0 0 11.396 7H4.604a.25.25 0 0 0-.177.427Z"></path></svg></span></span></button><button hidden="" data-hotkey-scope="read-only-cursor-text-area"></button></div> <button type="button" data-no-visuals="true" class="types__StyledButton-sc-ws60qy-0 iwEpzF"><span data-component="buttonContent" class="Box-sc-g0xbh4-0 kkrdEu"><span data-component="text">Blame</span></span></button><button hidden="" data-testid="" data-hotkey-scope="read-only-cursor-text-area"></button><button data-component="IconButton" type="button" aria-label="More file actions" class="types__StyledButton-sc-ws60qy-0 bNMwOz js-blob-dropdown-click" title="More file actions" data-testid="more-file-actions-button" id=":R9aaqjal5:" aria-haspopup="true" tabindex="0" data-no-visuals="true"><svg aria-hidden="true" focusable="false" role="img" class="octicon octicon-kebab-horizontal" viewBox="0 0 16 16" width="16" height="16" fill="currentColor" style="display:inline-block;user-select:none;vertical-align:text-bottom;overflow:visible"><path d="M8 9a1.5 1.5 0 1 0 0-3 1.5 1.5 0 0 0 0 3ZM1.5 9a1.5 1.5 0 1 0 0-3 1.5 1.5 0 0 0 0 3Zm13 0a1.5 1.5 0 1 0 0-3 1.5 1.5 0 0 0 0 3Z"></path></svg></button> </div></div><div class="Box-sc-g0xbh4-0 hSNzKh"><div class="Box-sc-g0xbh4-0 eTvGbF"><nav data-testid="breadcrumbs" aria-labelledby="repos-header-breadcrumb-mobile-heading" id="repos-header-breadcrumb-mobile" class="Box-sc-g0xbh4-0 kzRgrI"><h2 class="Heading__StyledHeading-sc-1c1dgg0-0 cgQnMS sr-only" data-testid="screen-reader-heading" id="repos-header-breadcrumb-mobile-heading">Breadcrumbs</h2><ol class="Box-sc-g0xbh4-0 cmAPIB"><li class="Box-sc-g0xbh4-0 jwXCBK"><a sx="[object Object]" data-testid="breadcrumbs-repo-link" class="Link__StyledLink-sc-14289xe-0 eVjWum" href="/mrdbourke/tensorflow-deep-learning/tree/main">tensorflow-deep-learning</a></li><li class="Box-sc-g0xbh4-0 jwXCBK"><span aria-hidden="true" class="Text-sc-17v1xeu-0 ivLLle">/</span><a sx="[object Object]" class="Link__StyledLink-sc-14289xe-0 dYxKVs" href="/mrdbourke/tensorflow-deep-learning/tree/main/video_notebooks">video_notebooks</a></li></ol></nav><div data-testid="breadcrumbs-filename" class="Box-sc-g0xbh4-0 jwXCBK"><span aria-hidden="true" class="Text-sc-17v1xeu-0 ivLLle">/</span><h1 tabindex="-1" id="file-name-id-mobile" class="Heading__StyledHeading-sc-1c1dgg0-0 diwsLq">08_introduction_to_nlp_in_tensorflow_video.ipynb</h1></div><button data-component="IconButton" type="button" aria-label="Copy path" data-testid="breadcrumb-copy-path-button" data-size="small" data-no-visuals="true" class="types__StyledButton-sc-ws60qy-0 bLPynQ"><svg aria-hidden="true" focusable="false" role="img" class="octicon octicon-copy" viewBox="0 0 16 16" width="16" height="16" fill="currentColor" style="display:inline-block;user-select:none;vertical-align:text-bottom;overflow:visible"><path d="M0 6.75C0 5.784.784 5 1.75 5h1.5a.75.75 0 0 1 0 1.5h-1.5a.25.25 0 0 0-.25.25v7.5c0 .138.112.25.25.25h7.5a.25.25 0 0 0 .25-.25v-1.5a.75.75 0 0 1 1.5 0v1.5A1.75 1.75 0 0 1 9.25 16h-7.5A1.75 1.75 0 0 1 0 14.25Z"></path><path d="M5 1.75C5 .784 5.784 0 6.75 0h7.5C15.216 0 16 .784 16 1.75v7.5A1.75 1.75 0 0 1 14.25 11h-7.5A1.75 1.75 0 0 1 5 9.25Zm1.75-.25a.25.25 0 0 0-.25.25v7.5c0 .138.112.25.25.25h7.5a.25.25 0 0 0 .25-.25v-7.5a.25.25 0 0 0-.25-.25Z"></path></svg></button></div></div></div></div><div id="StickyHeader" class="Box-sc-g0xbh4-0 bDwCYs react-code-view-header--wide"><div class="Box-sc-g0xbh4-0 fywjmm"><div class="Box-sc-g0xbh4-0 dyczTK"><div class="Box-sc-g0xbh4-0 kszRgZ"><div class="Box-sc-g0xbh4-0 eTvGbF"><nav data-testid="breadcrumbs" aria-labelledby="repos-header-breadcrumb-wide-heading" id="repos-header-breadcrumb-wide" class="Box-sc-g0xbh4-0 kzRgrI"><h2 class="Heading__StyledHeading-sc-1c1dgg0-0 cgQnMS sr-only" data-testid="screen-reader-heading" id="repos-header-breadcrumb-wide-heading">Breadcrumbs</h2><ol class="Box-sc-g0xbh4-0 cmAPIB"><li class="Box-sc-g0xbh4-0 jwXCBK"><a sx="[object Object]" data-testid="breadcrumbs-repo-link" class="Link__StyledLink-sc-14289xe-0 eVjWum" href="/mrdbourke/tensorflow-deep-learning/tree/main">tensorflow-deep-learning</a></li><li class="Box-sc-g0xbh4-0 jwXCBK"><span aria-hidden="true" class="Text-sc-17v1xeu-0 ivLLle">/</span><a sx="[object Object]" class="Link__StyledLink-sc-14289xe-0 dYxKVs" href="/mrdbourke/tensorflow-deep-learning/tree/main/video_notebooks">video_notebooks</a></li></ol></nav><div data-testid="breadcrumbs-filename" class="Box-sc-g0xbh4-0 jwXCBK"><span aria-hidden="true" class="Text-sc-17v1xeu-0 ivLLle">/</span><h1 tabindex="-1" id="file-name-id-wide" class="Heading__StyledHeading-sc-1c1dgg0-0 diwsLq">08_introduction_to_nlp_in_tensorflow_video.ipynb</h1></div><button data-component="IconButton" type="button" aria-label="Copy path" data-testid="breadcrumb-copy-path-button" data-size="small" data-no-visuals="true" class="types__StyledButton-sc-ws60qy-0 bLPynQ"><svg aria-hidden="true" focusable="false" role="img" class="octicon octicon-copy" viewBox="0 0 16 16" width="16" height="16" fill="currentColor" style="display:inline-block;user-select:none;vertical-align:text-bottom;overflow:visible"><path d="M0 6.75C0 5.784.784 5 1.75 5h1.5a.75.75 0 0 1 0 1.5h-1.5a.25.25 0 0 0-.25.25v7.5c0 .138.112.25.25.25h7.5a.25.25 0 0 0 .25-.25v-1.5a.75.75 0 0 1 1.5 0v1.5A1.75 1.75 0 0 1 9.25 16h-7.5A1.75 1.75 0 0 1 0 14.25Z"></path><path d="M5 1.75C5 .784 5.784 0 6.75 0h7.5C15.216 0 16 .784 16 1.75v7.5A1.75 1.75 0 0 1 14.25 11h-7.5A1.75 1.75 0 0 1 5 9.25Zm1.75-.25a.25.25 0 0 0-.25.25v7.5c0 .138.112.25.25.25h7.5a.25.25 0 0 0 .25-.25v-7.5a.25.25 0 0 0-.25-.25Z"></path></svg></button></div></div><div class="Box-sc-g0xbh4-0 gtBUEp"><div class="d-flex gap-2"> <button type="button" data-no-visuals="true" class="types__StyledButton-sc-ws60qy-0 iwEpzF"><span data-component="buttonContent" class="Box-sc-g0xbh4-0 kkrdEu"><span data-component="text">Blame</span></span></button><button hidden="" data-testid="" data-hotkey-scope="read-only-cursor-text-area"></button><button data-component="IconButton" type="button" aria-label="More file actions" class="types__StyledButton-sc-ws60qy-0 bNMwOz js-blob-dropdown-click" title="More file actions" data-testid="more-file-actions-button" id=":R9pkqjal5:" aria-haspopup="true" tabindex="0" data-no-visuals="true"><svg aria-hidden="true" focusable="false" role="img" class="octicon octicon-kebab-horizontal" viewBox="0 0 16 16" width="16" height="16" fill="currentColor" style="display:inline-block;user-select:none;vertical-align:text-bottom;overflow:visible"><path d="M8 9a1.5 1.5 0 1 0 0-3 1.5 1.5 0 0 0 0 3ZM1.5 9a1.5 1.5 0 1 0 0-3 1.5 1.5 0 0 0 0 3Zm13 0a1.5 1.5 0 1 0 0-3 1.5 1.5 0 0 0 0 3Z"></path></svg></button> </div></div></div></div></div></div></div><div class="Box-sc-g0xbh4-0 MERGN react-code-view-bottom-padding"> <div class="Box-sc-g0xbh4-0 cMYnca"></div><div class="Box-sc-g0xbh4-0"></div> <!-- --> <!-- --> </div><div class="Box-sc-g0xbh4-0 MERGN"> <!-- --> <!-- --> <div class="Box-sc-g0xbh4-0 kLxXov"><div class="Box-sc-g0xbh4-0 eYedVD"><h2 class="Heading__StyledHeading-sc-1c1dgg0-0 cgQnMS sr-only" data-testid="screen-reader-heading">Latest commit</h2><div style="width:120px" class="Skeleton Skeleton--text" data-testid="loading"> </div><div class="Box-sc-g0xbh4-0 jGfYmh"><div data-testid="latest-commit-details" class="Box-sc-g0xbh4-0 lhFvfi"></div><h2 class="Heading__StyledHeading-sc-1c1dgg0-0 cgQnMS sr-only" data-testid="screen-reader-heading">History</h2><a aria-label="Commit history" class="types__StyledButton-sc-ws60qy-0 fNmgkb react-last-commit-history-group" href="/mrdbourke/tensorflow-deep-learning/commits/main/video_notebooks/08_introduction_to_nlp_in_tensorflow_video.ipynb" data-size="small"><span data-component="buttonContent" class="Box-sc-g0xbh4-0 kkrdEu"><span data-component="leadingVisual" class="Box-sc-g0xbh4-0 trpoQ"><svg aria-hidden="true" focusable="false" role="img" class="octicon octicon-history" viewBox="0 0 16 16" width="16" height="16" fill="currentColor" style="display:inline-block;user-select:none;vertical-align:text-bottom;overflow:visible"><path d="m.427 1.927 1.215 1.215a8.002 8.002 0 1 1-1.6 5.685.75.75 0 1 1 1.493-.154 6.5 6.5 0 1 0 1.18-4.458l1.358 1.358A.25.25 0 0 1 3.896 6H.25A.25.25 0 0 1 0 5.75V2.104a.25.25 0 0 1 .427-.177ZM7.75 4a.75.75 0 0 1 .75.75v2.992l2.028.812a.75.75 0 0 1-.557 1.392l-2.5-1A.751.751 0 0 1 7 8.25v-3.5A.75.75 0 0 1 7.75 4Z"></path></svg></span><span data-component="text"><span class="Text-sc-17v1xeu-0 ghRVGj">History</span></span></span></a><div class="Box-sc-g0xbh4-0 bqgLjk"></div><span role="tooltip" aria-label="Commit history" class="Tooltip__TooltipBase-sc-uha8qm-0 hFFfJn tooltipped-n"><a aria-label="Commit history" class="types__StyledButton-sc-ws60qy-0 fNmgkb react-last-commit-history-icon" href="/mrdbourke/tensorflow-deep-learning/commits/main/video_notebooks/08_introduction_to_nlp_in_tensorflow_video.ipynb"><span data-component="buttonContent" class="Box-sc-g0xbh4-0 kkrdEu"><span data-component="leadingVisual" class="Box-sc-g0xbh4-0 trpoQ"><svg aria-hidden="true" focusable="false" role="img" class="octicon octicon-history" viewBox="0 0 16 16" width="16" height="16" fill="currentColor" style="display:inline-block;user-select:none;vertical-align:text-bottom;overflow:visible"><path d="m.427 1.927 1.215 1.215a8.002 8.002 0 1 1-1.6 5.685.75.75 0 1 1 1.493-.154 6.5 6.5 0 1 0 1.18-4.458l1.358 1.358A.25.25 0 0 1 3.896 6H.25A.25.25 0 0 1 0 5.75V2.104a.25.25 0 0 1 .427-.177ZM7.75 4a.75.75 0 0 1 .75.75v2.992l2.028.812a.75.75 0 0 1-.557 1.392l-2.5-1A.751.751 0 0 1 7 8.25v-3.5A.75.75 0 0 1 7.75 4Z"></path></svg></span></span></a></span></div></div></div><div class="Box-sc-g0xbh4-0 iJmJly"><div class="Box-sc-g0xbh4-0 jACbi container"><div class="Box-sc-g0xbh4-0 bSdwWB react-code-size-details-banner"><div class="Box-sc-g0xbh4-0 fleZSW react-code-size-details-banner"><div class="Box-sc-g0xbh4-0 bZpGqz text-mono"><div title="240 KB" data-testid="blob-size" class="Truncate__StyledTruncate-sc-23o1d2-0 fUpWeN"><span class="Text-sc-17v1xeu-0 gPDEWA">5149 lines (5149 loc) · 240 KB</span></div></div></div><div class="Box-sc-g0xbh4-0 react-code-size-details-banner"><button style="--button-color:fg.default" type="button" id=":R2bqlajal5:" aria-haspopup="true" tabindex="0" data-testid="copilot-popover-button" data-size="small" class="types__StyledButton-sc-ws60qy-0 dAvRwz"><span data-component="buttonContent" class="Box-sc-g0xbh4-0 kkrdEu"><span data-component="leadingVisual" class="Box-sc-g0xbh4-0 trpoQ"><svg aria-hidden="true" focusable="false" role="img" class="octicon octicon-copilot" viewBox="0 0 16 16" width="16" height="16" fill="currentColor" style="display:inline-block;user-select:none;vertical-align:text-bottom;overflow:visible"><path d="M6.25 9a.75.75 0 0 1 .75.75v1.5a.75.75 0 0 1-1.5 0v-1.5A.75.75 0 0 1 6.25 9Zm4.25.75a.75.75 0 0 0-1.5 0v1.5a.75.75 0 0 0 1.5 0v-1.5Z"></path><path d="M7.86 1.77c.05.053.097.107.14.164.043-.057.09-.111.14-.164.681-.731 1.737-.9 2.943-.765 1.23.136 2.145.527 2.724 1.26.566.716.693 1.614.693 2.485 0 .572-.053 1.147-.254 1.655l.168.838.066.033A2.75 2.75 0 0 1 16 9.736V11c0 .24-.086.438-.156.567-.073.131-.16.253-.259.366-.18.21-.404.413-.605.58a10.19 10.19 0 0 1-.792.597l-.015.01-.006.004-.028.018a8.849 8.849 0 0 1-.456.281c-.307.177-.749.41-1.296.642C11.296 14.528 9.756 15 8 15c-1.756 0-3.296-.472-4.387-.935a12.28 12.28 0 0 1-1.296-.641 8.849 8.849 0 0 1-.456-.281l-.028-.02-.006-.003-.015-.01a10.593 10.593 0 0 1-.792-.596 5.264 5.264 0 0 1-.605-.58 2.133 2.133 0 0 1-.259-.367A1.189 1.189 0 0 1 0 11V9.736a2.75 2.75 0 0 1 1.52-2.46l.067-.033.167-.838C1.553 5.897 1.5 5.322 1.5 4.75c0-.87.127-1.77.693-2.485.579-.733 1.494-1.124 2.724-1.26 1.206-.134 2.262.034 2.944.765ZM3 7.824v4.261c.02.013.043.025.065.038.264.152.65.356 1.134.562.972.412 2.307.815 3.801.815 1.494 0 2.83-.403 3.8-.815.412-.174.813-.375 1.2-.6v-4.26l-.023-.116c-.49.21-1.075.291-1.727.291-1.146 0-2.06-.328-2.71-.991A3.233 3.233 0 0 1 8 6.266c-.144.269-.321.52-.54.743C6.81 7.672 5.896 8 4.75 8c-.652 0-1.236-.082-1.726-.291L3 7.824Zm6.237-5.031c-.204.218-.359.678-.242 1.614.091.726.303 1.23.618 1.553.299.304.784.54 1.638.54.922 0 1.28-.199 1.442-.38.179-.2.308-.578.308-1.37 0-.765-.123-1.242-.37-1.555-.233-.296-.693-.586-1.713-.7-1.044-.116-1.488.091-1.681.298Zm-2.472 0c-.193-.207-.637-.414-1.681-.298-1.02.114-1.48.404-1.713.7-.247.313-.37.79-.37 1.555 0 .792.129 1.17.308 1.37.162.181.52.38 1.442.38.854 0 1.339-.236 1.638-.54.315-.323.527-.827.618-1.553.117-.936-.038-1.396-.242-1.614Z"></path></svg></span><span data-component="text">Code 55% faster with GitHub Copilot</span></span></button></div></div><div class="Box-sc-g0xbh4-0 gBKNLX react-blob-view-header-sticky" id="repos-sticky-header"><div class="Box-sc-g0xbh4-0 ePiodO"><div class="Box-sc-g0xbh4-0 react-blob-sticky-header"><div class="Box-sc-g0xbh4-0 kQJlnf"><div class="Box-sc-g0xbh4-0 gJICKO"><div class="Box-sc-g0xbh4-0 iZJewz"><nav data-testid="breadcrumbs" aria-labelledby="sticky-breadcrumb-heading" id="sticky-breadcrumb" class="Box-sc-g0xbh4-0 kzRgrI"><h2 class="Heading__StyledHeading-sc-1c1dgg0-0 cgQnMS sr-only" data-testid="screen-reader-heading" id="sticky-breadcrumb-heading">Breadcrumbs</h2><ol class="Box-sc-g0xbh4-0 cmAPIB"><li class="Box-sc-g0xbh4-0 jwXCBK"><a sx="[object Object]" data-testid="breadcrumbs-repo-link" class="Link__StyledLink-sc-14289xe-0 eVjWum" href="/mrdbourke/tensorflow-deep-learning/tree/main">tensorflow-deep-learning</a></li><li class="Box-sc-g0xbh4-0 jwXCBK"><span aria-hidden="true" class="Text-sc-17v1xeu-0 dZAxGI">/</span><a sx="[object Object]" class="Link__StyledLink-sc-14289xe-0 dYxKVs" href="/mrdbourke/tensorflow-deep-learning/tree/main/video_notebooks">video_notebooks</a></li></ol></nav><div data-testid="breadcrumbs-filename" class="Box-sc-g0xbh4-0 jwXCBK"><span aria-hidden="true" class="Text-sc-17v1xeu-0 dZAxGI">/</span><h1 tabindex="-1" id="sticky-file-name-id" class="Heading__StyledHeading-sc-1c1dgg0-0 jAEDJk">08_introduction_to_nlp_in_tensorflow_video.ipynb</h1></div></div><button style="--button-color:fg.default" type="button" data-size="small" class="types__StyledButton-sc-ws60qy-0 cpKQnD"><span data-component="buttonContent" class="Box-sc-g0xbh4-0 kkrdEu"><span data-component="leadingVisual" class="Box-sc-g0xbh4-0 trpoQ"><svg aria-hidden="true" focusable="false" role="img" class="octicon octicon-arrow-up" viewBox="0 0 16 16" width="16" height="16" fill="currentColor" style="display:inline-block;user-select:none;vertical-align:text-bottom;overflow:visible"><path d="M3.47 7.78a.75.75 0 0 1 0-1.06l4.25-4.25a.75.75 0 0 1 1.06 0l4.25 4.25a.751.751 0 0 1-.018 1.042.751.751 0 0 1-1.042.018L9 4.81v7.44a.75.75 0 0 1-1.5 0V4.81L4.53 7.78a.75.75 0 0 1-1.06 0Z"></path></svg></span><span data-component="text">Top</span></span></button></div></div></div><div class="Box-sc-g0xbh4-0 bvEDG"><h2 class="Heading__StyledHeading-sc-1c1dgg0-0 cgQnMS sr-only" data-testid="screen-reader-heading">File metadata and controls</h2><div class="Box-sc-g0xbh4-0 bfkNRF"><ul aria-label="File view" class="SegmentedControl__SegmentedControlList-sc-1rzig82-0 iYVwMz"><li class="Box-sc-g0xbh4-0 fXBLEV"><button aria-current="true" class="SegmentedControlButton__SegmentedControlButtonStyled-sc-8lkgxl-0 bDmUQT"><span class="segmentedControl-content"><div class="Box-sc-g0xbh4-0 segmentedControl-text">Preview</div></span></button></li><li class="Box-sc-g0xbh4-0 jkTWSe"><button aria-current="false" class="SegmentedControlButton__SegmentedControlButtonStyled-sc-8lkgxl-0 fzMylw"><span class="segmentedControl-content"><div class="Box-sc-g0xbh4-0 segmentedControl-text">Code</div></span></button></li><li class="Box-sc-g0xbh4-0 jkTWSe"><button aria-current="false" class="SegmentedControlButton__SegmentedControlButtonStyled-sc-8lkgxl-0 hBvGcq"><span class="segmentedControl-content"><div class="Box-sc-g0xbh4-0 segmentedControl-text">Blame</div></span></button></li></ul><button hidden="" data-testid="" data-hotkey-scope="read-only-cursor-text-area"></button><button hidden="" data-testid="" data-hotkey-scope="read-only-cursor-text-area"></button><button hidden="" data-testid="" data-hotkey-scope="read-only-cursor-text-area"></button><div class="Box-sc-g0xbh4-0 fleZSW react-code-size-details-in-header"><div class="Box-sc-g0xbh4-0 bZpGqz text-mono"><div title="240 KB" data-testid="blob-size" class="Truncate__StyledTruncate-sc-23o1d2-0 fUpWeN"><span class="Text-sc-17v1xeu-0 gPDEWA">5149 lines (5149 loc) · 240 KB</span></div></div></div><div class="Box-sc-g0xbh4-0 react-code-size-details-in-header"><button style="--button-color:fg.default" type="button" id=":R79jqlajal5:" aria-haspopup="true" tabindex="0" data-testid="copilot-popover-button" data-size="small" class="types__StyledButton-sc-ws60qy-0 dAvRwz"><span data-component="buttonContent" class="Box-sc-g0xbh4-0 kkrdEu"><span data-component="leadingVisual" class="Box-sc-g0xbh4-0 trpoQ"><svg aria-hidden="true" focusable="false" role="img" class="octicon octicon-copilot" viewBox="0 0 16 16" width="16" height="16" fill="currentColor" style="display:inline-block;user-select:none;vertical-align:text-bottom;overflow:visible"><path d="M6.25 9a.75.75 0 0 1 .75.75v1.5a.75.75 0 0 1-1.5 0v-1.5A.75.75 0 0 1 6.25 9Zm4.25.75a.75.75 0 0 0-1.5 0v1.5a.75.75 0 0 0 1.5 0v-1.5Z"></path><path d="M7.86 1.77c.05.053.097.107.14.164.043-.057.09-.111.14-.164.681-.731 1.737-.9 2.943-.765 1.23.136 2.145.527 2.724 1.26.566.716.693 1.614.693 2.485 0 .572-.053 1.147-.254 1.655l.168.838.066.033A2.75 2.75 0 0 1 16 9.736V11c0 .24-.086.438-.156.567-.073.131-.16.253-.259.366-.18.21-.404.413-.605.58a10.19 10.19 0 0 1-.792.597l-.015.01-.006.004-.028.018a8.849 8.849 0 0 1-.456.281c-.307.177-.749.41-1.296.642C11.296 14.528 9.756 15 8 15c-1.756 0-3.296-.472-4.387-.935a12.28 12.28 0 0 1-1.296-.641 8.849 8.849 0 0 1-.456-.281l-.028-.02-.006-.003-.015-.01a10.593 10.593 0 0 1-.792-.596 5.264 5.264 0 0 1-.605-.58 2.133 2.133 0 0 1-.259-.367A1.189 1.189 0 0 1 0 11V9.736a2.75 2.75 0 0 1 1.52-2.46l.067-.033.167-.838C1.553 5.897 1.5 5.322 1.5 4.75c0-.87.127-1.77.693-2.485.579-.733 1.494-1.124 2.724-1.26 1.206-.134 2.262.034 2.944.765ZM3 7.824v4.261c.02.013.043.025.065.038.264.152.65.356 1.134.562.972.412 2.307.815 3.801.815 1.494 0 2.83-.403 3.8-.815.412-.174.813-.375 1.2-.6v-4.26l-.023-.116c-.49.21-1.075.291-1.727.291-1.146 0-2.06-.328-2.71-.991A3.233 3.233 0 0 1 8 6.266c-.144.269-.321.52-.54.743C6.81 7.672 5.896 8 4.75 8c-.652 0-1.236-.082-1.726-.291L3 7.824Zm6.237-5.031c-.204.218-.359.678-.242 1.614.091.726.303 1.23.618 1.553.299.304.784.54 1.638.54.922 0 1.28-.199 1.442-.38.179-.2.308-.578.308-1.37 0-.765-.123-1.242-.37-1.555-.233-.296-.693-.586-1.713-.7-1.044-.116-1.488.091-1.681.298Zm-2.472 0c-.193-.207-.637-.414-1.681-.298-1.02.114-1.48.404-1.713.7-.247.313-.37.79-.37 1.555 0 .792.129 1.17.308 1.37.162.181.52.38 1.442.38.854 0 1.339-.236 1.638-.54.315-.323.527-.827.618-1.553.117-.936-.038-1.396-.242-1.614Z"></path></svg></span><span data-component="text">Code 55% faster with GitHub Copilot</span></span></button></div></div><div class="Box-sc-g0xbh4-0 iBylDf"><div class="Box-sc-g0xbh4-0 kSGBPx react-blob-header-edit-and-raw-actions"><div class="ButtonGroup-sc-1gxhls1-0 cjbBGq"><a href="https://github.com/mrdbourke/tensorflow-deep-learning/raw/main/video_notebooks/08_introduction_to_nlp_in_tensorflow_video.ipynb" data-testid="raw-button" data-size="small" data-no-visuals="true" class="types__StyledButton-sc-ws60qy-0 guoGbh"><span data-component="buttonContent" class="Box-sc-g0xbh4-0 kkrdEu"><span data-component="text">Raw</span></span></a><button data-component="IconButton" type="button" aria-label="Copy raw content" data-testid="copy-raw-button" data-size="small" data-no-visuals="true" class="types__StyledButton-sc-ws60qy-0 iTETFQ"><svg aria-hidden="true" focusable="false" role="img" class="octicon octicon-copy" viewBox="0 0 16 16" width="16" height="16" fill="currentColor" style="display:inline-block;user-select:none;vertical-align:text-bottom;overflow:visible"><path d="M0 6.75C0 5.784.784 5 1.75 5h1.5a.75.75 0 0 1 0 1.5h-1.5a.25.25 0 0 0-.25.25v7.5c0 .138.112.25.25.25h7.5a.25.25 0 0 0 .25-.25v-1.5a.75.75 0 0 1 1.5 0v1.5A1.75 1.75 0 0 1 9.25 16h-7.5A1.75 1.75 0 0 1 0 14.25Z"></path><path d="M5 1.75C5 .784 5.784 0 6.75 0h7.5C15.216 0 16 .784 16 1.75v7.5A1.75 1.75 0 0 1 14.25 11h-7.5A1.75 1.75 0 0 1 5 9.25Zm1.75-.25a.25.25 0 0 0-.25.25v7.5c0 .138.112.25.25.25h7.5a.25.25 0 0 0 .25-.25v-7.5a.25.25 0 0 0-.25-.25Z"></path></svg></button><span role="tooltip" aria-label="Download raw file" class="Tooltip__TooltipBase-sc-uha8qm-0 hFFfJn tooltipped-n"><button data-component="IconButton" type="button" aria-label="Download raw content" data-testid="download-raw-button" data-size="small" data-no-visuals="true" class="types__StyledButton-sc-ws60qy-0 cGEhqE"><svg aria-hidden="true" focusable="false" role="img" class="octicon octicon-download" viewBox="0 0 16 16" width="16" height="16" fill="currentColor" style="display:inline-block;user-select:none;vertical-align:text-bottom;overflow:visible"><path d="M2.75 14A1.75 1.75 0 0 1 1 12.25v-2.5a.75.75 0 0 1 1.5 0v2.5c0 .138.112.25.25.25h10.5a.25.25 0 0 0 .25-.25v-2.5a.75.75 0 0 1 1.5 0v2.5A1.75 1.75 0 0 1 13.25 14Z"></path><path d="M7.25 7.689V2a.75.75 0 0 1 1.5 0v5.689l1.97-1.969a.749.749 0 1 1 1.06 1.06l-3.25 3.25a.749.749 0 0 1-1.06 0L4.22 6.78a.749.749 0 1 1 1.06-1.06l1.97 1.969Z"></path></svg></button></span></div><button hidden="" data-testid="raw-button-shortcut" data-hotkey-scope="read-only-cursor-text-area"></button><button hidden="" data-testid="copy-raw-button-shortcut" data-hotkey-scope="read-only-cursor-text-area"></button><button hidden="" data-testid="download-raw-button-shortcut" data-hotkey-scope="read-only-cursor-text-area"></button><a class="Link__StyledLink-sc-14289xe-0 fIqerb js-github-dev-shortcut d-none" href="https://github.dev/"></a><button hidden="" data-testid="" data-hotkey-scope="read-only-cursor-text-area"></button><a class="Link__StyledLink-sc-14289xe-0 fIqerb js-github-dev-new-tab-shortcut d-none" href="https://github.dev/" target="_blank"></a><button hidden="" data-testid="" data-hotkey-scope="read-only-cursor-text-area"></button><div class="ButtonGroup-sc-1gxhls1-0 cjbBGq"><span role="tooltip" aria-label="Fork this repository and edit the file" class="Tooltip__TooltipBase-sc-uha8qm-0 hFFfJn tooltipped-nw"><a sx="[object Object]" data-component="IconButton" type="button" aria-label="Edit file" data-testid="edit-button" data-size="small" data-no-visuals="true" class="types__StyledButton-sc-ws60qy-0 jtzLHK" href="/mrdbourke/tensorflow-deep-learning/edit/main/video_notebooks/08_introduction_to_nlp_in_tensorflow_video.ipynb"><svg aria-hidden="true" focusable="false" role="img" class="octicon octicon-pencil" viewBox="0 0 16 16" width="16" height="16" fill="currentColor" style="display:inline-block;user-select:none;vertical-align:text-bottom;overflow:visible"><path d="M11.013 1.427a1.75 1.75 0 0 1 2.474 0l1.086 1.086a1.75 1.75 0 0 1 0 2.474l-8.61 8.61c-.21.21-.47.364-.756.445l-3.251.93a.75.75 0 0 1-.927-.928l.929-3.25c.081-.286.235-.547.445-.758l8.61-8.61Zm.176 4.823L9.75 4.81l-6.286 6.287a.253.253 0 0 0-.064.108l-.558 1.953 1.953-.558a.253.253 0 0 0 .108-.064Zm1.238-3.763a.25.25 0 0 0-.354 0L10.811 3.75l1.439 1.44 1.263-1.263a.25.25 0 0 0 0-.354Z"></path></svg></a></span><button data-component="IconButton" type="button" aria-label="More edit options" data-testid="more-edit-button" id=":Rl9pjqlajal5:" aria-haspopup="true" tabindex="0" data-size="small" data-no-visuals="true" class="types__StyledButton-sc-ws60qy-0 iTETFQ"><svg aria-hidden="true" focusable="false" role="img" class="octicon octicon-triangle-down" viewBox="0 0 16 16" width="16" height="16" fill="currentColor" style="display:inline-block;user-select:none;vertical-align:text-bottom;overflow:visible"><path d="m4.427 7.427 3.396 3.396a.25.25 0 0 0 .354 0l3.396-3.396A.25.25 0 0 0 11.396 7H4.604a.25.25 0 0 0-.177.427Z"></path></svg></button></div><button hidden="" data-testid="" data-hotkey="e,E" data-hotkey-scope="read-only-cursor-text-area"></button></div><div class="Box-sc-g0xbh4-0 react-blob-header-edit-and-raw-actions-combined"><button data-component="IconButton" type="button" aria-label="Edit and raw actions" class="types__StyledButton-sc-ws60qy-0 dObcAW js-blob-dropdown-click" title="More file actions" data-testid="more-file-actions-button" id=":R1fpjqlajal5:" aria-haspopup="true" tabindex="0" data-size="small" data-no-visuals="true"><svg aria-hidden="true" focusable="false" role="img" class="octicon octicon-kebab-horizontal" viewBox="0 0 16 16" width="16" height="16" fill="currentColor" style="display:inline-block;user-select:none;vertical-align:text-bottom;overflow:visible"><path d="M8 9a1.5 1.5 0 1 0 0-3 1.5 1.5 0 0 0 0 3ZM1.5 9a1.5 1.5 0 1 0 0-3 1.5 1.5 0 0 0 0 3Zm13 0a1.5 1.5 0 1 0 0-3 1.5 1.5 0 0 0 0 3Z"></path></svg></button></div></div></div></div><div class="Box-sc-g0xbh4-0"></div></div><div class="Box-sc-g0xbh4-0 flDsrw"><section aria-labelledby="file-name-id-wide file-name-id-mobile" class="Box-sc-g0xbh4-0 eJsjkT"><!--$!--><template></template><div data-testid="suspense-spinner" class="Box-sc-g0xbh4-0 bAzdCq"><svg height="32px" width="32px" viewBox="0 0 16 16" fill="none" aria-label="Loading" class="Spinner__StyledSpinner-sc-1knt686-0 hPEVNM"><circle cx="8" cy="8" r="7" stroke="currentColor" stroke-opacity="0.25" stroke-width="2" vector-effect="non-scaling-stroke"></circle><path d="M15 8a7.002 7.002 0 00-7-7" stroke="currentColor" stroke-width="2" stroke-linecap="round" vector-effect="non-scaling-stroke"></path></svg></div><!--/$--></section></div></div></div> <!-- --> <!-- --> </div></div></div><div class="Box-sc-g0xbh4-0"></div></main></div></div></div><div id="find-result-marks-container" class="Box-sc-g0xbh4-0 aZrVR"></div><button hidden="" data-testid="" data-hotkey-scope="read-only-cursor-text-area"></button><button hidden=""></button></div> <!-- --> <!-- --> <!-- --> <script type="application/json" id="__PRIMER_DATA__">{"resolvedServerColorMode":"day"}</script></div>
</react-app>
</turbo-frame>



  </div>

</turbo-frame>

    </main>
  </div>

  </div>

          <footer class="footer width-full container-xl p-responsive" role="contentinfo">
  <h2 class='sr-only'>Footer</h2>

  <div class="position-relative d-flex flex-items-center pb-2 f6 color-fg-muted border-top color-border-muted flex-column-reverse flex-lg-row flex-wrap flex-lg-nowrap mt-6 pt-6">
    <div class="list-style-none d-flex flex-wrap col-0 col-lg-2 flex-justify-start flex-lg-justify-between mb-2 mb-lg-0">
      <div class="mt-2 mt-lg-0 d-flex flex-items-center">
        <a aria-label="Homepage" title="GitHub" class="footer-octicon mr-2" href="https://github.com">
          <svg aria-hidden="true" height="24" viewBox="0 0 16 16" version="1.1" width="24" data-view-component="true" class="octicon octicon-mark-github">
    <path d="M8 0c4.42 0 8 3.58 8 8a8.013 8.013 0 0 1-5.45 7.59c-.4.08-.55-.17-.55-.38 0-.27.01-1.13.01-2.2 0-.75-.25-1.23-.54-1.48 1.78-.2 3.65-.88 3.65-3.95 0-.88-.31-1.59-.82-2.15.08-.2.36-1.02-.08-2.12 0 0-.67-.22-2.2.82-.64-.18-1.32-.27-2-.27-.68 0-1.36.09-2 .27-1.53-1.03-2.2-.82-2.2-.82-.44 1.1-.16 1.92-.08 2.12-.51.56-.82 1.28-.82 2.15 0 3.06 1.86 3.75 3.64 3.95-.23.2-.44.55-.51 1.07-.46.21-1.61.55-2.33-.66-.15-.24-.6-.83-1.23-.82-.67.01-.27.38.01.53.34.19.73.9.82 1.13.16.45.68 1.31 2.69.94 0 .67.01 1.3.01 1.49 0 .21-.15.45-.55.38A7.995 7.995 0 0 1 0 8c0-4.42 3.58-8 8-8Z"></path>
</svg>
</a>        <span>
        &copy; 2023 GitHub, Inc.
        </span>
      </div>
    </div>

    <nav aria-label='Footer' class="col-12 col-lg-8">
      <h3 class='sr-only' id='sr-footer-heading'>Footer navigation</h3>
      <ul class="list-style-none d-flex flex-wrap col-12 flex-justify-center flex-lg-justify-between mb-2 mb-lg-0" aria-labelledby='sr-footer-heading'>
          <li class="mr-3 mr-lg-0"><a href="https://docs.github.com/site-policy/github-terms/github-terms-of-service" data-analytics-event="{&quot;category&quot;:&quot;Footer&quot;,&quot;action&quot;:&quot;go to terms&quot;,&quot;label&quot;:&quot;text:terms&quot;}">Terms</a></li>
          <li class="mr-3 mr-lg-0"><a href="https://docs.github.com/site-policy/privacy-policies/github-privacy-statement" data-analytics-event="{&quot;category&quot;:&quot;Footer&quot;,&quot;action&quot;:&quot;go to privacy&quot;,&quot;label&quot;:&quot;text:privacy&quot;}">Privacy</a></li>
          <li class="mr-3 mr-lg-0"><a data-analytics-event="{&quot;category&quot;:&quot;Footer&quot;,&quot;action&quot;:&quot;go to security&quot;,&quot;label&quot;:&quot;text:security&quot;}" href="https://github.com/security">Security</a></li>
          <li class="mr-3 mr-lg-0"><a href="https://www.githubstatus.com/" data-analytics-event="{&quot;category&quot;:&quot;Footer&quot;,&quot;action&quot;:&quot;go to status&quot;,&quot;label&quot;:&quot;text:status&quot;}">Status</a></li>
          <li class="mr-3 mr-lg-0"><a data-ga-click="Footer, go to help, text:Docs" href="https://docs.github.com">Docs</a></li>
          <li class="mr-3 mr-lg-0"><a href="https://support.github.com?tags=dotcom-footer" data-analytics-event="{&quot;category&quot;:&quot;Footer&quot;,&quot;action&quot;:&quot;go to contact&quot;,&quot;label&quot;:&quot;text:contact&quot;}">Contact GitHub</a></li>
          <li class="mr-3 mr-lg-0"><a href="https://github.com/pricing" data-analytics-event="{&quot;category&quot;:&quot;Footer&quot;,&quot;action&quot;:&quot;go to Pricing&quot;,&quot;label&quot;:&quot;text:Pricing&quot;}">Pricing</a></li>
        <li class="mr-3 mr-lg-0"><a href="https://docs.github.com" data-analytics-event="{&quot;category&quot;:&quot;Footer&quot;,&quot;action&quot;:&quot;go to api&quot;,&quot;label&quot;:&quot;text:api&quot;}">API</a></li>
        <li class="mr-3 mr-lg-0"><a href="https://services.github.com" data-analytics-event="{&quot;category&quot;:&quot;Footer&quot;,&quot;action&quot;:&quot;go to training&quot;,&quot;label&quot;:&quot;text:training&quot;}">Training</a></li>
          <li class="mr-3 mr-lg-0"><a href="https://github.blog" data-analytics-event="{&quot;category&quot;:&quot;Footer&quot;,&quot;action&quot;:&quot;go to blog&quot;,&quot;label&quot;:&quot;text:blog&quot;}">Blog</a></li>
          <li><a data-ga-click="Footer, go to about, text:about" href="https://github.com/about">About</a></li>
      </ul>
    </nav>
  </div>

  <div class="d-flex flex-justify-center pb-6">
    <span class="f6 color-fg-muted"></span>
  </div>
</footer>




  <div id="ajax-error-message" class="ajax-error-message flash flash-error" hidden>
    <svg aria-hidden="true" height="16" viewBox="0 0 16 16" version="1.1" width="16" data-view-component="true" class="octicon octicon-alert">
    <path d="M6.457 1.047c.659-1.234 2.427-1.234 3.086 0l6.082 11.378A1.75 1.75 0 0 1 14.082 15H1.918a1.75 1.75 0 0 1-1.543-2.575Zm1.763.707a.25.25 0 0 0-.44 0L1.698 13.132a.25.25 0 0 0 .22.368h12.164a.25.25 0 0 0 .22-.368Zm.53 3.996v2.5a.75.75 0 0 1-1.5 0v-2.5a.75.75 0 0 1 1.5 0ZM9 11a1 1 0 1 1-2 0 1 1 0 0 1 2 0Z"></path>
</svg>
    <button type="button" class="flash-close js-ajax-error-dismiss" aria-label="Dismiss error">
      <svg aria-hidden="true" height="16" viewBox="0 0 16 16" version="1.1" width="16" data-view-component="true" class="octicon octicon-x">
    <path d="M3.72 3.72a.75.75 0 0 1 1.06 0L8 6.94l3.22-3.22a.749.749 0 0 1 1.275.326.749.749 0 0 1-.215.734L9.06 8l3.22 3.22a.749.749 0 0 1-.326 1.275.749.749 0 0 1-.734-.215L8 9.06l-3.22 3.22a.751.751 0 0 1-1.042-.018.751.751 0 0 1-.018-1.042L6.94 8 3.72 4.78a.75.75 0 0 1 0-1.06Z"></path>
</svg>
    </button>
    You can’t perform that action at this time.
  </div>

    <template id="site-details-dialog">
  <details class="details-reset details-overlay details-overlay-dark lh-default color-fg-default hx_rsm" open>
    <summary role="button" aria-label="Close dialog"></summary>
    <details-dialog class="Box Box--overlay d-flex flex-column anim-fade-in fast hx_rsm-dialog hx_rsm-modal">
      <button class="Box-btn-octicon m-0 btn-octicon position-absolute right-0 top-0" type="button" aria-label="Close dialog" data-close-dialog>
        <svg aria-hidden="true" height="16" viewBox="0 0 16 16" version="1.1" width="16" data-view-component="true" class="octicon octicon-x">
    <path d="M3.72 3.72a.75.75 0 0 1 1.06 0L8 6.94l3.22-3.22a.749.749 0 0 1 1.275.326.749.749 0 0 1-.215.734L9.06 8l3.22 3.22a.749.749 0 0 1-.326 1.275.749.749 0 0 1-.734-.215L8 9.06l-3.22 3.22a.751.751 0 0 1-1.042-.018.751.751 0 0 1-.018-1.042L6.94 8 3.72 4.78a.75.75 0 0 1 0-1.06Z"></path>
</svg>
      </button>
      <div class="octocat-spinner my-6 js-details-dialog-spinner"></div>
    </details-dialog>
  </details>
</template>

    <div class="Popover js-hovercard-content position-absolute" style="display: none; outline: none;" tabindex="0">
  <div class="Popover-message Popover-message--bottom-left Popover-message--large Box color-shadow-large" style="width:360px;">
  </div>
</div>

    <template id="snippet-clipboard-copy-button">
  <div class="zeroclipboard-container position-absolute right-0 top-0">
    <clipboard-copy aria-label="Copy" class="ClipboardButton btn js-clipboard-copy m-2 p-0 tooltipped-no-delay" data-copy-feedback="Copied!" data-tooltip-direction="w">
      <svg aria-hidden="true" height="16" viewBox="0 0 16 16" version="1.1" width="16" data-view-component="true" class="octicon octicon-copy js-clipboard-copy-icon m-2">
    <path d="M0 6.75C0 5.784.784 5 1.75 5h1.5a.75.75 0 0 1 0 1.5h-1.5a.25.25 0 0 0-.25.25v7.5c0 .138.112.25.25.25h7.5a.25.25 0 0 0 .25-.25v-1.5a.75.75 0 0 1 1.5 0v1.5A1.75 1.75 0 0 1 9.25 16h-7.5A1.75 1.75 0 0 1 0 14.25Z"></path><path d="M5 1.75C5 .784 5.784 0 6.75 0h7.5C15.216 0 16 .784 16 1.75v7.5A1.75 1.75 0 0 1 14.25 11h-7.5A1.75 1.75 0 0 1 5 9.25Zm1.75-.25a.25.25 0 0 0-.25.25v7.5c0 .138.112.25.25.25h7.5a.25.25 0 0 0 .25-.25v-7.5a.25.25 0 0 0-.25-.25Z"></path>
</svg>
      <svg aria-hidden="true" height="16" viewBox="0 0 16 16" version="1.1" width="16" data-view-component="true" class="octicon octicon-check js-clipboard-check-icon color-fg-success d-none m-2">
    <path d="M13.78 4.22a.75.75 0 0 1 0 1.06l-7.25 7.25a.75.75 0 0 1-1.06 0L2.22 9.28a.751.751 0 0 1 .018-1.042.751.751 0 0 1 1.042-.018L6 10.94l6.72-6.72a.75.75 0 0 1 1.06 0Z"></path>
</svg>
    </clipboard-copy>
  </div>
</template>
<template id="snippet-clipboard-copy-button-unpositioned">
  <div class="zeroclipboard-container">
    <clipboard-copy aria-label="Copy" class="ClipboardButton btn btn-invisible js-clipboard-copy m-2 p-0 tooltipped-no-delay d-flex flex-justify-center flex-items-center" data-copy-feedback="Copied!" data-tooltip-direction="w">
      <svg aria-hidden="true" height="16" viewBox="0 0 16 16" version="1.1" width="16" data-view-component="true" class="octicon octicon-copy js-clipboard-copy-icon">
    <path d="M0 6.75C0 5.784.784 5 1.75 5h1.5a.75.75 0 0 1 0 1.5h-1.5a.25.25 0 0 0-.25.25v7.5c0 .138.112.25.25.25h7.5a.25.25 0 0 0 .25-.25v-1.5a.75.75 0 0 1 1.5 0v1.5A1.75 1.75 0 0 1 9.25 16h-7.5A1.75 1.75 0 0 1 0 14.25Z"></path><path d="M5 1.75C5 .784 5.784 0 6.75 0h7.5C15.216 0 16 .784 16 1.75v7.5A1.75 1.75 0 0 1 14.25 11h-7.5A1.75 1.75 0 0 1 5 9.25Zm1.75-.25a.25.25 0 0 0-.25.25v7.5c0 .138.112.25.25.25h7.5a.25.25 0 0 0 .25-.25v-7.5a.25.25 0 0 0-.25-.25Z"></path>
</svg>
      <svg aria-hidden="true" height="16" viewBox="0 0 16 16" version="1.1" width="16" data-view-component="true" class="octicon octicon-check js-clipboard-check-icon color-fg-success d-none">
    <path d="M13.78 4.22a.75.75 0 0 1 0 1.06l-7.25 7.25a.75.75 0 0 1-1.06 0L2.22 9.28a.751.751 0 0 1 .018-1.042.751.751 0 0 1 1.042-.018L6 10.94l6.72-6.72a.75.75 0 0 1 1.06 0Z"></path>
</svg>
    </clipboard-copy>
  </div>
</template>


    <style>
      .user-mention[href$="/mail2maverick"] {
        color: var(--color-user-mention-fg);
        background-color: var(--color-user-mention-bg);
        border-radius: 2px;
        margin-left: -2px;
        margin-right: -2px;
        padding: 0 2px;
      }
    </style>


    </div>

    <div id="js-global-screen-reader-notice" class="sr-only" aria-live="polite" aria-atomic="true" ></div>
    <div id="js-global-screen-reader-notice-assertive" class="sr-only" aria-live="assertive" aria-atomic="true"></div>
  </body>
</html>

