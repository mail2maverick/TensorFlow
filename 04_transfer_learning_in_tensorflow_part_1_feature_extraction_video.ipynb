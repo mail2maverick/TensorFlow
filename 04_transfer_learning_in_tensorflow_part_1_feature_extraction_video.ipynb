





<!DOCTYPE html>
<html lang="en" data-color-mode="auto" data-light-theme="light" data-dark-theme="dark"  data-a11y-animated-images="system" data-a11y-link-underlines="true">



  <head>
    <meta charset="utf-8">
  <link rel="dns-prefetch" href="https://github.githubassets.com">
  <link rel="dns-prefetch" href="https://avatars.githubusercontent.com">
  <link rel="dns-prefetch" href="https://github-cloud.s3.amazonaws.com">
  <link rel="dns-prefetch" href="https://user-images.githubusercontent.com/">
  <link rel="preconnect" href="https://github.githubassets.com" crossorigin>
  <link rel="preconnect" href="https://avatars.githubusercontent.com">

  


  <link crossorigin="anonymous" media="all" rel="stylesheet" href="https://github.githubassets.com/assets/light-b92e9647318f.css" /><link crossorigin="anonymous" media="all" rel="stylesheet" href="https://github.githubassets.com/assets/dark-5d486a4ede8e.css" /><link data-color-theme="dark_dimmed" crossorigin="anonymous" media="all" rel="stylesheet" data-href="https://github.githubassets.com/assets/dark_dimmed-27c8d635e4e5.css" /><link data-color-theme="dark_high_contrast" crossorigin="anonymous" media="all" rel="stylesheet" data-href="https://github.githubassets.com/assets/dark_high_contrast-8438e75afd36.css" /><link data-color-theme="dark_colorblind" crossorigin="anonymous" media="all" rel="stylesheet" data-href="https://github.githubassets.com/assets/dark_colorblind-bf5665b96628.css" /><link data-color-theme="light_colorblind" crossorigin="anonymous" media="all" rel="stylesheet" data-href="https://github.githubassets.com/assets/light_colorblind-c414b5ba1dce.css" /><link data-color-theme="light_high_contrast" crossorigin="anonymous" media="all" rel="stylesheet" data-href="https://github.githubassets.com/assets/light_high_contrast-e5868b7374db.css" /><link data-color-theme="light_tritanopia" crossorigin="anonymous" media="all" rel="stylesheet" data-href="https://github.githubassets.com/assets/light_tritanopia-299ac9c64ec0.css" /><link data-color-theme="dark_tritanopia" crossorigin="anonymous" media="all" rel="stylesheet" data-href="https://github.githubassets.com/assets/dark_tritanopia-3a26e78ad0ff.css" />
    <link crossorigin="anonymous" media="all" rel="stylesheet" href="https://github.githubassets.com/assets/primer-primitives-363ec1831c26.css" />
    <link crossorigin="anonymous" media="all" rel="stylesheet" href="https://github.githubassets.com/assets/primer-0cdc607a5517.css" />
    <link crossorigin="anonymous" media="all" rel="stylesheet" href="https://github.githubassets.com/assets/global-b2298340fd5b.css" />
    <link crossorigin="anonymous" media="all" rel="stylesheet" href="https://github.githubassets.com/assets/github-f2eafb2a55aa.css" />
  <link crossorigin="anonymous" media="all" rel="stylesheet" href="https://github.githubassets.com/assets/code-71ecd5638fbf.css" />

  

  <script type="application/json" id="client-env">{"locale":"en","featureFlags":["copilot_conversational_ux_streaming","failbot_handle_non_errors","geojson_azure_maps","image_metric_tracking","repository_suggester_elastic_search","turbo_experiment_risky","sample_network_conn_type","upload_manifest_status"]}</script>
<script crossorigin="anonymous" defer="defer" type="application/javascript" src="https://github.githubassets.com/assets/wp-runtime-9a6e4637daaf.js"></script>
<script crossorigin="anonymous" defer="defer" type="application/javascript" src="https://github.githubassets.com/assets/vendors-node_modules_dompurify_dist_purify_js-6890e890956f.js"></script>
<script crossorigin="anonymous" defer="defer" type="application/javascript" src="https://github.githubassets.com/assets/vendors-node_modules_stacktrace-parser_dist_stack-trace-parser_esm_js-node_modules_github_bro-a4c183-79f9611c275b.js"></script>
<script crossorigin="anonymous" defer="defer" type="application/javascript" src="https://github.githubassets.com/assets/ui_packages_soft-nav_soft-nav_ts-6a5fadd2ef71.js"></script>
<script crossorigin="anonymous" defer="defer" type="application/javascript" src="https://github.githubassets.com/assets/environment-569829d98e9a.js"></script>
<script crossorigin="anonymous" defer="defer" type="application/javascript" src="https://github.githubassets.com/assets/vendors-node_modules_github_selector-observer_dist_index_esm_js-9f960d9b217c.js"></script>
<script crossorigin="anonymous" defer="defer" type="application/javascript" src="https://github.githubassets.com/assets/vendors-node_modules_primer_behaviors_dist_esm_focus-zone_js-d9ce45da2851.js"></script>
<script crossorigin="anonymous" defer="defer" type="application/javascript" src="https://github.githubassets.com/assets/vendors-node_modules_github_relative-time-element_dist_index_js-c6fd49e3fd28.js"></script>
<script crossorigin="anonymous" defer="defer" type="application/javascript" src="https://github.githubassets.com/assets/vendors-node_modules_fzy_js_index_js-node_modules_github_combobox-nav_dist_index_js-node_modu-344bff-421f7a8c1008.js"></script>
<script crossorigin="anonymous" defer="defer" type="application/javascript" src="https://github.githubassets.com/assets/vendors-node_modules_delegated-events_dist_index_js-node_modules_github_details-dialog-elemen-29dc30-a2a71f11a507.js"></script>
<script crossorigin="anonymous" defer="defer" type="application/javascript" src="https://github.githubassets.com/assets/vendors-node_modules_github_filter-input-element_dist_index_js-node_modules_github_remote-inp-59c459-e74bf552c5b7.js"></script>
<script crossorigin="anonymous" defer="defer" type="application/javascript" src="https://github.githubassets.com/assets/vendors-node_modules_github_file-attachment-element_dist_index_js-node_modules_primer_view-co-2c6968-3cbb53b1c985.js"></script>
<script crossorigin="anonymous" defer="defer" type="application/javascript" src="https://github.githubassets.com/assets/github-elements-ba6b32e5a9a8.js"></script>
<script crossorigin="anonymous" defer="defer" type="application/javascript" src="https://github.githubassets.com/assets/element-registry-1cabc2253887.js"></script>
<script crossorigin="anonymous" defer="defer" type="application/javascript" src="https://github.githubassets.com/assets/vendors-node_modules_github_catalyst_lib_index_js-node_modules_github_hydro-analytics-client_-978abc0-15861e0630b6.js"></script>
<script crossorigin="anonymous" defer="defer" type="application/javascript" src="https://github.githubassets.com/assets/vendors-node_modules_lit-html_lit-html_js-5b376145beff.js"></script>
<script crossorigin="anonymous" defer="defer" type="application/javascript" src="https://github.githubassets.com/assets/vendors-node_modules_github_mini-throttle_dist_index_js-node_modules_github_alive-client_dist-bf5aa2-1b562c29ab8e.js"></script>
<script crossorigin="anonymous" defer="defer" type="application/javascript" src="https://github.githubassets.com/assets/vendors-node_modules_morphdom_dist_morphdom-esm_js-5bff297a06de.js"></script>
<script crossorigin="anonymous" defer="defer" type="application/javascript" src="https://github.githubassets.com/assets/vendors-node_modules_github_turbo_dist_turbo_es2017-esm_js-ec51a0f6e881.js"></script>
<script crossorigin="anonymous" defer="defer" type="application/javascript" src="https://github.githubassets.com/assets/vendors-node_modules_color-convert_index_js-72c9fbde5ad4.js"></script>
<script crossorigin="anonymous" defer="defer" type="application/javascript" src="https://github.githubassets.com/assets/vendors-node_modules_primer_behaviors_dist_esm_dimensions_js-node_modules_github_hotkey_dist_-8755d2-0ac4a16a6cca.js"></script>
<script crossorigin="anonymous" defer="defer" type="application/javascript" src="https://github.githubassets.com/assets/vendors-node_modules_github_session-resume_dist_index_js-node_modules_primer_behaviors_dist_e-ac74c6-637fd908cfc1.js"></script>
<script crossorigin="anonymous" defer="defer" type="application/javascript" src="https://github.githubassets.com/assets/vendors-node_modules_github_paste-markdown_dist_index_esm_js-node_modules_github_quote-select-854ff4-201063b8cc44.js"></script>
<script crossorigin="anonymous" defer="defer" type="application/javascript" src="https://github.githubassets.com/assets/ui_packages_details-dialog_details-dialog_ts-ui_packages_fetch-utils_fetch-utils_ts-78f25ba16cd9.js"></script>
<script crossorigin="anonymous" defer="defer" type="application/javascript" src="https://github.githubassets.com/assets/app_assets_modules_github_updatable-content_ts-ui_packages_hydro-analytics_hydro-analytics_ts-6ab1a34074c8.js"></script>
<script crossorigin="anonymous" defer="defer" type="application/javascript" src="https://github.githubassets.com/assets/app_assets_modules_github_behaviors_task-list_ts-app_assets_modules_github_onfocus_ts-app_ass-079b43-84f860f8b7d6.js"></script>
<script crossorigin="anonymous" defer="defer" type="application/javascript" src="https://github.githubassets.com/assets/app_assets_modules_github_sticky-scroll-into-view_ts-f982282c5c39.js"></script>
<script crossorigin="anonymous" defer="defer" type="application/javascript" src="https://github.githubassets.com/assets/app_assets_modules_github_behaviors_ajax-error_ts-app_assets_modules_github_behaviors_include-2e2258-178d980b559e.js"></script>
<script crossorigin="anonymous" defer="defer" type="application/javascript" src="https://github.githubassets.com/assets/app_assets_modules_github_behaviors_commenting_edit_ts-app_assets_modules_github_behaviors_ht-83c235-b85e9f4f1304.js"></script>
<script crossorigin="anonymous" defer="defer" type="application/javascript" src="https://github.githubassets.com/assets/behaviors-d984747343bb.js"></script>
<script crossorigin="anonymous" defer="defer" type="application/javascript" src="https://github.githubassets.com/assets/vendors-node_modules_delegated-events_dist_index_js-node_modules_github_catalyst_lib_index_js-d0256ebff5cd.js"></script>
<script crossorigin="anonymous" defer="defer" type="application/javascript" src="https://github.githubassets.com/assets/notifications-global-99d196517b1b.js"></script>
<script crossorigin="anonymous" defer="defer" type="application/javascript" src="https://github.githubassets.com/assets/code-menu-9ea38b1fd5ad.js"></script>
  
  <script crossorigin="anonymous" defer="defer" type="application/javascript" src="https://github.githubassets.com/assets/react-lib-1fbfc5be2c18.js"></script>
<script crossorigin="anonymous" defer="defer" type="application/javascript" src="https://github.githubassets.com/assets/vendors-node_modules_primer_octicons-react_dist_index_esm_js-node_modules_primer_react_lib-es-2e8e7c-247c295eeaf1.js"></script>
<script crossorigin="anonymous" defer="defer" type="application/javascript" src="https://github.githubassets.com/assets/vendors-node_modules_primer_react_lib-esm_Box_Box_js-ebfceb11fb57.js"></script>
<script crossorigin="anonymous" defer="defer" type="application/javascript" src="https://github.githubassets.com/assets/vendors-node_modules_primer_react_lib-esm_Button_Button_js-2c03574279a4.js"></script>
<script crossorigin="anonymous" defer="defer" type="application/javascript" src="https://github.githubassets.com/assets/vendors-node_modules_primer_react_lib-esm_Heading_Heading_js-node_modules_primer_react_lib-es-60a41e-82c3bd45b5b7.js"></script>
<script crossorigin="anonymous" defer="defer" type="application/javascript" src="https://github.githubassets.com/assets/vendors-node_modules_primer_react_lib-esm_ActionList_index_js-dddcb049d887.js"></script>
<script crossorigin="anonymous" defer="defer" type="application/javascript" src="https://github.githubassets.com/assets/vendors-node_modules_primer_react_lib-esm_Overlay_Overlay_js-node_modules_primer_react_lib-es-fa1130-93cd4ad2134b.js"></script>
<script crossorigin="anonymous" defer="defer" type="application/javascript" src="https://github.githubassets.com/assets/vendors-node_modules_primer_react_lib-esm_Text_Text_js-node_modules_primer_react_lib-esm_Text-85a14b-2da5b8fd0eb3.js"></script>
<script crossorigin="anonymous" defer="defer" type="application/javascript" src="https://github.githubassets.com/assets/vendors-node_modules_primer_react_lib-esm_ActionMenu_ActionMenu_js-dc836e2095f6.js"></script>
<script crossorigin="anonymous" defer="defer" type="application/javascript" src="https://github.githubassets.com/assets/vendors-node_modules_primer_react_lib-esm_FormControl_FormControl_js-a431791fb590.js"></script>
<script crossorigin="anonymous" defer="defer" type="application/javascript" src="https://github.githubassets.com/assets/vendors-node_modules_react-router-dom_dist_index_js-6df0edbb3b11.js"></script>
<script crossorigin="anonymous" defer="defer" type="application/javascript" src="https://github.githubassets.com/assets/vendors-node_modules_primer_react_lib-esm_PageLayout_PageLayout_js-6d204414df4f.js"></script>
<script crossorigin="anonymous" defer="defer" type="application/javascript" src="https://github.githubassets.com/assets/vendors-node_modules_primer_react_lib-esm_Dialog_js-node_modules_primer_react_lib-esm_Flash_F-09301c-ec9e680afcb9.js"></script>
<script crossorigin="anonymous" defer="defer" type="application/javascript" src="https://github.githubassets.com/assets/vendors-node_modules_primer_react_lib-esm_UnderlineNav_index_js-20b50c38337d.js"></script>
<script crossorigin="anonymous" defer="defer" type="application/javascript" src="https://github.githubassets.com/assets/vendors-node_modules_primer_react_lib-esm_Avatar_Avatar_js-node_modules_primer_react_lib-esm_-9bd36c-ec2c8e88c25b.js"></script>
<script crossorigin="anonymous" defer="defer" type="application/javascript" src="https://github.githubassets.com/assets/vendors-node_modules_primer_react_lib-esm_AvatarStack_AvatarStack_js-node_modules_primer_reac-6d3540-e7c40167bae5.js"></script>
<script crossorigin="anonymous" defer="defer" type="application/javascript" src="https://github.githubassets.com/assets/vendors-node_modules_primer_react_lib-esm_Breadcrumbs_Breadcrumbs_js-node_modules_primer_reac-f6e577-f60e7c5b589b.js"></script>
<script crossorigin="anonymous" defer="defer" type="application/javascript" src="https://github.githubassets.com/assets/ui_packages_react-core_create-browser-history_ts-ui_packages_react-core_deferred-registry_ts--ebbb92-42b84521809f.js"></script>
<script crossorigin="anonymous" defer="defer" type="application/javascript" src="https://github.githubassets.com/assets/ui_packages_react-core_register-app_ts-5f23b6aa8b03.js"></script>
<script crossorigin="anonymous" defer="defer" type="application/javascript" src="https://github.githubassets.com/assets/ui_packages_paths_index_ts-e99e1a3f166d.js"></script>
<script crossorigin="anonymous" defer="defer" type="application/javascript" src="https://github.githubassets.com/assets/ui_packages_ref-selector_RefSelector_tsx-1b0b3577eaae.js"></script>
<script crossorigin="anonymous" defer="defer" type="application/javascript" src="https://github.githubassets.com/assets/app_assets_modules_github_blob-anchor_ts-app_assets_modules_github_filter-sort_ts-app_assets_-681869-5bba11e3ea7a.js"></script>
<script crossorigin="anonymous" defer="defer" type="application/javascript" src="https://github.githubassets.com/assets/ui_packages_commit-attribution_index_ts-ui_packages_commit-checks-status_index_ts-ui_packages-8a04d5-9f6131d449b8.js"></script>
<script crossorigin="anonymous" defer="defer" type="application/javascript" src="https://github.githubassets.com/assets/app_assets_modules_react-code-view_pages_CodeView_tsx-fba3033da462.js"></script>
<script crossorigin="anonymous" defer="defer" type="application/javascript" src="https://github.githubassets.com/assets/react-code-view-9860ee509d1e.js"></script>


  <title>tensorflow-deep-learning/video_notebooks/04_transfer_learning_in_tensorflow_part_1_feature_extraction_video.ipynb at main · mrdbourke/tensorflow-deep-learning</title>



  <meta name="route-pattern" content="/:user_id/:repository/blob/*name(/*path)">

    
  <meta name="current-catalog-service-hash" content="82c569b93da5c18ed649ebd4c2c79437db4611a6a1373e805a3cb001c64130b7">


  <meta name="request-id" content="6685:2334BD:18FB801:1BB6C5B:654DC97D" data-turbo-transient="true" /><meta name="html-safe-nonce" content="f315854370002c807a52121176527c15fa8776567cdc1e433229a53482631596" data-turbo-transient="true" /><meta name="visitor-payload" content="eyJyZWZlcnJlciI6Imh0dHBzOi8vZ2l0aHViLmNvbS9tcmRib3Vya2UvdGVuc29yZmxvdy1kZWVwLWxlYXJuaW5nL3RyZWUvbWFpbi92aWRlb19ub3RlYm9va3MiLCJyZXF1ZXN0X2lkIjoiNjY4NToyMzM0QkQ6MThGQjgwMToxQkI2QzVCOjY1NERDOTdEIiwidmlzaXRvcl9pZCI6IjMxNDQ4MDg3MTExODE1NjU1MDIiLCJyZWdpb25fZWRnZSI6ImNlbnRyYWxpbmRpYSIsInJlZ2lvbl9yZW5kZXIiOiJpYWQifQ==" data-turbo-transient="true" /><meta name="visitor-hmac" content="324453cbd9b8f61b39c0a6fc2b84ba8488316c02eaa2e06fb6245a1377280c36" data-turbo-transient="true" />


    <meta name="hovercard-subject-tag" content="repository:315463340" data-turbo-transient>


  <meta name="github-keyboard-shortcuts" content="repository,source-code,file-tree" data-turbo-transient="true" />
  

  <meta name="selected-link" value="repo_source" data-turbo-transient>
  <link rel="assets" href="https://github.githubassets.com/">

    <meta name="google-site-verification" content="c1kuD-K2HIVF635lypcsWPoD4kilo5-jA_wBFyT4uMY">
  <meta name="google-site-verification" content="KT5gs8h0wvaagLKAVWq8bbeNwnZZK1r1XQysX3xurLU">
  <meta name="google-site-verification" content="ZzhVyEFwb7w3e0-uOTltm8Jsck2F5StVihD0exw2fsA">
  <meta name="google-site-verification" content="GXs5KoUUkNCoaAZn7wPN-t01Pywp9M3sEjnt_3_ZWPc">
  <meta name="google-site-verification" content="Apib7-x98H0j5cPqHWwSMm6dNU4GmODRoqxLiDzdx9I">

<meta name="octolytics-url" content="https://collector.github.com/github/collect" /><meta name="octolytics-actor-id" content="138370468" /><meta name="octolytics-actor-login" content="mail2maverick" /><meta name="octolytics-actor-hash" content="6326126c654b1a1efb9b91fc9dc269f62ace9a6235a9ea6913e91642f8152428" />

  <meta name="analytics-location" content="/&lt;user-name&gt;/&lt;repo-name&gt;/blob/show" data-turbo-transient="true" />

  




  

    <meta name="user-login" content="mail2maverick">

  <link rel="sudo-modal" href="/sessions/sudo_modal">

    <meta name="viewport" content="width=device-width">
    
      <meta name="description" content="All course materials for the Zero to Mastery Deep Learning with TensorFlow course. - tensorflow-deep-learning/video_notebooks/04_transfer_learning_in_tensorflow_part_1_feature_extraction_video.ipynb at main · mrdbourke/tensorflow-deep-learning">
      <link rel="search" type="application/opensearchdescription+xml" href="/opensearch.xml" title="GitHub">
    <link rel="fluid-icon" href="https://github.com/fluidicon.png" title="GitHub">
    <meta property="fb:app_id" content="1401488693436528">
    <meta name="apple-itunes-app" content="app-id=1477376905, app-argument=https://github.com/mrdbourke/tensorflow-deep-learning/blob/main/video_notebooks/04_transfer_learning_in_tensorflow_part_1_feature_extraction_video.ipynb" />
      <meta name="twitter:image:src" content="https://repository-images.githubusercontent.com/315463340/97930280-7699-11eb-83db-150c8cd7f3e6" /><meta name="twitter:site" content="@github" /><meta name="twitter:card" content="summary_large_image" /><meta name="twitter:title" content="tensorflow-deep-learning/video_notebooks/04_transfer_learning_in_tensorflow_part_1_feature_extraction_video.ipynb at main · mrdbourke/tensorflow-deep-learning" /><meta name="twitter:description" content="All course materials for the Zero to Mastery Deep Learning with TensorFlow course. - mrdbourke/tensorflow-deep-learning" />
      <meta property="og:image" content="https://repository-images.githubusercontent.com/315463340/97930280-7699-11eb-83db-150c8cd7f3e6" /><meta property="og:image:alt" content="All course materials for the Zero to Mastery Deep Learning with TensorFlow course. - mrdbourke/tensorflow-deep-learning" /><meta property="og:site_name" content="GitHub" /><meta property="og:type" content="object" /><meta property="og:title" content="tensorflow-deep-learning/video_notebooks/04_transfer_learning_in_tensorflow_part_1_feature_extraction_video.ipynb at main · mrdbourke/tensorflow-deep-learning" /><meta property="og:url" content="https://github.com/mrdbourke/tensorflow-deep-learning/blob/main/video_notebooks/04_transfer_learning_in_tensorflow_part_1_feature_extraction_video.ipynb" /><meta property="og:description" content="All course materials for the Zero to Mastery Deep Learning with TensorFlow course. - mrdbourke/tensorflow-deep-learning" />
      

      <link rel="shared-web-socket" href="wss://alive.github.com/_sockets/u/138370468/ws?session=eyJ2IjoiVjMiLCJ1IjoxMzgzNzA0NjgsInMiOjEyNDM1MTkwNTYsImMiOjI4ODEyODM4MTIsInQiOjE2OTk1OTY2NzZ9--05d8d7c1a9510f8d0ddc28ea8fbf02225a8a6616426318b94c874ac79ee0ec83" data-refresh-url="/_alive" data-session-id="ccf472f5d46f5a0656d52524624a3b7214749947efe666519a3dd643ce9114ad">
      <link rel="shared-web-socket-src" href="/assets-cdn/worker/socket-worker-9cc1149b224c.js">


        <meta name="hostname" content="github.com">


      <meta name="keyboard-shortcuts-preference" content="all">

        <meta name="expected-hostname" content="github.com">


  <meta http-equiv="x-pjax-version" content="2e7f0f409951ecccc8d481733db6d660a6a9e0e226ef22afe16f5996c2b7f90e" data-turbo-track="reload">
  <meta http-equiv="x-pjax-csp-version" content="844211eb90296c990bf8ba3a110ab9d26a666217a44ebe51523691fb4a4bf6cd" data-turbo-track="reload">
  <meta http-equiv="x-pjax-css-version" content="d5f77973e7859cb2b7f07c315f43b0dd4221dc13f655123b96aa973b1761e760" data-turbo-track="reload">
  <meta http-equiv="x-pjax-js-version" content="97df8d0f2decd84d253eb55db4b035fbd02ff9069d9f573da4500b081a9c531b" data-turbo-track="reload">

  <meta name="turbo-cache-control" content="no-preview" data-turbo-transient="">

      <meta name="turbo-cache-control" content="no-cache" data-turbo-transient>
    <meta data-hydrostats="publish">

  <meta name="go-import" content="github.com/mrdbourke/tensorflow-deep-learning git https://github.com/mrdbourke/tensorflow-deep-learning.git">

  <meta name="octolytics-dimension-user_id" content="16750345" /><meta name="octolytics-dimension-user_login" content="mrdbourke" /><meta name="octolytics-dimension-repository_id" content="315463340" /><meta name="octolytics-dimension-repository_nwo" content="mrdbourke/tensorflow-deep-learning" /><meta name="octolytics-dimension-repository_public" content="true" /><meta name="octolytics-dimension-repository_is_fork" content="false" /><meta name="octolytics-dimension-repository_network_root_id" content="315463340" /><meta name="octolytics-dimension-repository_network_root_nwo" content="mrdbourke/tensorflow-deep-learning" />



  <meta name="turbo-body-classes" content="logged-in env-production page-responsive">


  <meta name="browser-stats-url" content="https://api.github.com/_private/browser/stats">

  <meta name="browser-errors-url" content="https://api.github.com/_private/browser/errors">

  <meta name="browser-optimizely-client-errors-url" content="https://api.github.com/_private/browser/optimizely_client/errors">

  <link rel="mask-icon" href="https://github.githubassets.com/assets/pinned-octocat-093da3e6fa40.svg" color="#000000">
  <link rel="alternate icon" class="js-site-favicon" type="image/png" href="https://github.githubassets.com/favicons/favicon.png">
  <link rel="icon" class="js-site-favicon" type="image/svg+xml" href="https://github.githubassets.com/favicons/favicon.svg">

<meta name="theme-color" content="#1e2327">
<meta name="color-scheme" content="light dark" />


  <link rel="manifest" href="/manifest.json" crossOrigin="use-credentials">

  </head>

  <body class="logged-in env-production page-responsive" style="word-wrap: break-word;">
    <div data-turbo-body class="logged-in env-production page-responsive" style="word-wrap: break-word;">
      


    <div class="position-relative js-header-wrapper ">
      <a href="#start-of-content" class="p-3 color-bg-accent-emphasis color-fg-on-emphasis show-on-focus js-skip-to-content">Skip to content</a>
      <span data-view-component="true" class="progress-pjax-loader Progress position-fixed width-full">
    <span style="width: 0%;" data-view-component="true" class="Progress-item progress-pjax-loader-bar left-0 top-0 color-bg-accent-emphasis"></span>
</span>      
      


      

        <script crossorigin="anonymous" defer="defer" type="application/javascript" src="https://github.githubassets.com/assets/vendors-node_modules_allex_crc32_lib_crc32_esm_js-node_modules_github_mini-throttle_dist_deco-b38cad-97b10abc5510.js"></script>
<script crossorigin="anonymous" defer="defer" type="application/javascript" src="https://github.githubassets.com/assets/vendors-node_modules_github_clipboard-copy-element_dist_index_esm_js-node_modules_delegated-e-b37f7d-0e1d32d8fafa.js"></script>
<script crossorigin="anonymous" defer="defer" type="application/javascript" src="https://github.githubassets.com/assets/app_assets_modules_github_command-palette_items_help-item_ts-app_assets_modules_github_comman-48ad9d-18e29694b13b.js"></script>
<script crossorigin="anonymous" defer="defer" type="application/javascript" src="https://github.githubassets.com/assets/command-palette-9a87d4661fe9.js"></script>

            <header class="AppHeader">
    

    <div class="AppHeader-globalBar pb-2 js-global-bar">
      <div class="AppHeader-globalBar-start">
          <deferred-side-panel data-url="/_side-panels/global">
  <include-fragment data-target="deferred-side-panel.fragment">
      
  <button aria-label="Open global navigation menu" data-action="click:deferred-side-panel#loadPanel click:deferred-side-panel#panelOpened" data-show-dialog-id="dialog-71a95620-0f6a-4f3d-8ccf-e0dd082ac663" id="dialog-show-dialog-71a95620-0f6a-4f3d-8ccf-e0dd082ac663" type="button" data-view-component="true" class="Button Button--iconOnly Button--secondary Button--medium AppHeader-button color-bg-transparent p-0 color-fg-muted">    <svg aria-hidden="true" height="16" viewBox="0 0 16 16" version="1.1" width="16" data-view-component="true" class="octicon octicon-three-bars Button-visual">
    <path d="M1 2.75A.75.75 0 0 1 1.75 2h12.5a.75.75 0 0 1 0 1.5H1.75A.75.75 0 0 1 1 2.75Zm0 5A.75.75 0 0 1 1.75 7h12.5a.75.75 0 0 1 0 1.5H1.75A.75.75 0 0 1 1 7.75ZM1.75 12h12.5a.75.75 0 0 1 0 1.5H1.75a.75.75 0 0 1 0-1.5Z"></path>
</svg>
</button>  

<div class="Overlay--hidden Overlay-backdrop--side Overlay-backdrop--placement-left" data-modal-dialog-overlay>
  <modal-dialog data-target="deferred-side-panel.panel" role="dialog" id="dialog-71a95620-0f6a-4f3d-8ccf-e0dd082ac663" aria-modal="true" aria-disabled="true" aria-labelledby="dialog-71a95620-0f6a-4f3d-8ccf-e0dd082ac663-title" aria-describedby="dialog-71a95620-0f6a-4f3d-8ccf-e0dd082ac663-description" data-view-component="true" class="Overlay Overlay-whenNarrow Overlay--size-small-portrait Overlay--motion-scaleFade SidePanel">
    <div styles="flex-direction: row;" data-view-component="true" class="Overlay-header">
  <div class="Overlay-headerContentWrap">
    <div class="Overlay-titleWrap">
      <h1 class="Overlay-title sr-only" id="dialog-71a95620-0f6a-4f3d-8ccf-e0dd082ac663-title">
        Global navigation
      </h1>
            <div data-view-component="true" class="d-flex">
      <div data-view-component="true" class="AppHeader-logo position-relative">
        <svg aria-hidden="true" height="24" viewBox="0 0 16 16" version="1.1" width="24" data-view-component="true" class="octicon octicon-mark-github">
    <path d="M8 0c4.42 0 8 3.58 8 8a8.013 8.013 0 0 1-5.45 7.59c-.4.08-.55-.17-.55-.38 0-.27.01-1.13.01-2.2 0-.75-.25-1.23-.54-1.48 1.78-.2 3.65-.88 3.65-3.95 0-.88-.31-1.59-.82-2.15.08-.2.36-1.02-.08-2.12 0 0-.67-.22-2.2.82-.64-.18-1.32-.27-2-.27-.68 0-1.36.09-2 .27-1.53-1.03-2.2-.82-2.2-.82-.44 1.1-.16 1.92-.08 2.12-.51.56-.82 1.28-.82 2.15 0 3.06 1.86 3.75 3.64 3.95-.23.2-.44.55-.51 1.07-.46.21-1.61.55-2.33-.66-.15-.24-.6-.83-1.23-.82-.67.01-.27.38.01.53.34.19.73.9.82 1.13.16.45.68 1.31 2.69.94 0 .67.01 1.3.01 1.49 0 .21-.15.45-.55.38A7.995 7.995 0 0 1 0 8c0-4.42 3.58-8 8-8Z"></path>
</svg>
</div></div>
    </div>
    <div class="Overlay-actionWrap">
      <button data-close-dialog-id="dialog-71a95620-0f6a-4f3d-8ccf-e0dd082ac663" aria-label="Close" type="button" data-view-component="true" class="close-button Overlay-closeButton"><svg aria-hidden="true" height="16" viewBox="0 0 16 16" version="1.1" width="16" data-view-component="true" class="octicon octicon-x">
    <path d="M3.72 3.72a.75.75 0 0 1 1.06 0L8 6.94l3.22-3.22a.749.749 0 0 1 1.275.326.749.749 0 0 1-.215.734L9.06 8l3.22 3.22a.749.749 0 0 1-.326 1.275.749.749 0 0 1-.734-.215L8 9.06l-3.22 3.22a.751.751 0 0 1-1.042-.018.751.751 0 0 1-.018-1.042L6.94 8 3.72 4.78a.75.75 0 0 1 0-1.06Z"></path>
</svg></button>
    </div>
  </div>
</div>
      <div data-view-component="true" class="Overlay-body d-flex flex-column px-2">    <div data-view-component="true" class="d-flex flex-column mb-3">
        <nav aria-label="Site navigation" data-view-component="true" class="ActionList">
  
  <nav-list>
    <ul data-view-component="true" class="ActionListWrap">
        
          
<li data-item-id="" data-targets="nav-list.items" data-view-component="true" class="ActionListItem">
    
    <a data-hotkey="g d" data-analytics-event="{&quot;category&quot;:&quot;Global navigation&quot;,&quot;action&quot;:&quot;HOME&quot;,&quot;label&quot;:null}" id="item-8e1e8e20-75bd-4bb5-bbbe-177a2c23bd91" href="/dashboard" data-view-component="true" class="ActionListContent ActionListContent--visual16">
        <span class="ActionListItem-visual ActionListItem-visual--leading">
          <svg aria-hidden="true" height="16" viewBox="0 0 16 16" version="1.1" width="16" data-view-component="true" class="octicon octicon-home">
    <path d="M6.906.664a1.749 1.749 0 0 1 2.187 0l5.25 4.2c.415.332.657.835.657 1.367v7.019A1.75 1.75 0 0 1 13.25 15h-3.5a.75.75 0 0 1-.75-.75V9H7v5.25a.75.75 0 0 1-.75.75h-3.5A1.75 1.75 0 0 1 1 13.25V6.23c0-.531.242-1.034.657-1.366l5.25-4.2Zm1.25 1.171a.25.25 0 0 0-.312 0l-5.25 4.2a.25.25 0 0 0-.094.196v7.019c0 .138.112.25.25.25H5.5V8.25a.75.75 0 0 1 .75-.75h3.5a.75.75 0 0 1 .75.75v5.25h2.75a.25.25 0 0 0 .25-.25V6.23a.25.25 0 0 0-.094-.195Z"></path>
</svg>
        </span>
      
        <span data-view-component="true" class="ActionListItem-label">
          Home
</span></a>
  
  
</li>

        
          
<li data-item-id="" data-targets="nav-list.items" data-view-component="true" class="ActionListItem">
    
    <a data-hotkey="g i" data-analytics-event="{&quot;category&quot;:&quot;Global navigation&quot;,&quot;action&quot;:&quot;ISSUES&quot;,&quot;label&quot;:null}" id="item-850eab74-9eb2-4918-b2f0-fe5de7289b4b" href="/issues" data-view-component="true" class="ActionListContent ActionListContent--visual16">
        <span class="ActionListItem-visual ActionListItem-visual--leading">
          <svg aria-hidden="true" height="16" viewBox="0 0 16 16" version="1.1" width="16" data-view-component="true" class="octicon octicon-issue-opened">
    <path d="M8 9.5a1.5 1.5 0 1 0 0-3 1.5 1.5 0 0 0 0 3Z"></path><path d="M8 0a8 8 0 1 1 0 16A8 8 0 0 1 8 0ZM1.5 8a6.5 6.5 0 1 0 13 0 6.5 6.5 0 0 0-13 0Z"></path>
</svg>
        </span>
      
        <span data-view-component="true" class="ActionListItem-label">
          Issues
</span></a>
  
  
</li>

        
          
<li data-item-id="" data-targets="nav-list.items" data-view-component="true" class="ActionListItem">
    
    <a data-hotkey="g p" data-analytics-event="{&quot;category&quot;:&quot;Global navigation&quot;,&quot;action&quot;:&quot;PULL_REQUESTS&quot;,&quot;label&quot;:null}" id="item-d2f2dd6a-e654-4679-88ef-67efd542f5d9" href="/pulls" data-view-component="true" class="ActionListContent ActionListContent--visual16">
        <span class="ActionListItem-visual ActionListItem-visual--leading">
          <svg aria-hidden="true" height="16" viewBox="0 0 16 16" version="1.1" width="16" data-view-component="true" class="octicon octicon-git-pull-request">
    <path d="M1.5 3.25a2.25 2.25 0 1 1 3 2.122v5.256a2.251 2.251 0 1 1-1.5 0V5.372A2.25 2.25 0 0 1 1.5 3.25Zm5.677-.177L9.573.677A.25.25 0 0 1 10 .854V2.5h1A2.5 2.5 0 0 1 13.5 5v5.628a2.251 2.251 0 1 1-1.5 0V5a1 1 0 0 0-1-1h-1v1.646a.25.25 0 0 1-.427.177L7.177 3.427a.25.25 0 0 1 0-.354ZM3.75 2.5a.75.75 0 1 0 0 1.5.75.75 0 0 0 0-1.5Zm0 9.5a.75.75 0 1 0 0 1.5.75.75 0 0 0 0-1.5Zm8.25.75a.75.75 0 1 0 1.5 0 .75.75 0 0 0-1.5 0Z"></path>
</svg>
        </span>
      
        <span data-view-component="true" class="ActionListItem-label">
          Pull requests
</span></a>
  
  
</li>

        
          
<li data-item-id="" data-targets="nav-list.items" data-view-component="true" class="ActionListItem">
    
    <a data-analytics-event="{&quot;category&quot;:&quot;Global navigation&quot;,&quot;action&quot;:&quot;DISCUSSIONS&quot;,&quot;label&quot;:null}" id="item-b08591f1-fd7f-4463-8c22-6826b1204536" href="/discussions" data-view-component="true" class="ActionListContent ActionListContent--visual16">
        <span class="ActionListItem-visual ActionListItem-visual--leading">
          <svg aria-hidden="true" height="16" viewBox="0 0 16 16" version="1.1" width="16" data-view-component="true" class="octicon octicon-comment-discussion">
    <path d="M1.75 1h8.5c.966 0 1.75.784 1.75 1.75v5.5A1.75 1.75 0 0 1 10.25 10H7.061l-2.574 2.573A1.458 1.458 0 0 1 2 11.543V10h-.25A1.75 1.75 0 0 1 0 8.25v-5.5C0 1.784.784 1 1.75 1ZM1.5 2.75v5.5c0 .138.112.25.25.25h1a.75.75 0 0 1 .75.75v2.19l2.72-2.72a.749.749 0 0 1 .53-.22h3.5a.25.25 0 0 0 .25-.25v-5.5a.25.25 0 0 0-.25-.25h-8.5a.25.25 0 0 0-.25.25Zm13 2a.25.25 0 0 0-.25-.25h-.5a.75.75 0 0 1 0-1.5h.5c.966 0 1.75.784 1.75 1.75v5.5A1.75 1.75 0 0 1 14.25 12H14v1.543a1.458 1.458 0 0 1-2.487 1.03L9.22 12.28a.749.749 0 0 1 .326-1.275.749.749 0 0 1 .734.215l2.22 2.22v-2.19a.75.75 0 0 1 .75-.75h1a.25.25 0 0 0 .25-.25Z"></path>
</svg>
        </span>
      
        <span data-view-component="true" class="ActionListItem-label">
          Discussions
</span></a>
  
  
</li>

        
          
<li data-item-id="" data-targets="nav-list.items" data-view-component="true" class="ActionListItem">
    
    <a data-analytics-event="{&quot;category&quot;:&quot;Global navigation&quot;,&quot;action&quot;:&quot;CODESPACES&quot;,&quot;label&quot;:null}" id="item-0b828651-cadb-4daf-8340-605775c119a9" href="https://github.com/codespaces" data-view-component="true" class="ActionListContent ActionListContent--visual16">
        <span class="ActionListItem-visual ActionListItem-visual--leading">
          <svg aria-hidden="true" height="16" viewBox="0 0 16 16" version="1.1" width="16" data-view-component="true" class="octicon octicon-codespaces">
    <path d="M0 11.25c0-.966.784-1.75 1.75-1.75h12.5c.966 0 1.75.784 1.75 1.75v3A1.75 1.75 0 0 1 14.25 16H1.75A1.75 1.75 0 0 1 0 14.25Zm2-9.5C2 .784 2.784 0 3.75 0h8.5C13.216 0 14 .784 14 1.75v5a1.75 1.75 0 0 1-1.75 1.75h-8.5A1.75 1.75 0 0 1 2 6.75Zm1.75-.25a.25.25 0 0 0-.25.25v5c0 .138.112.25.25.25h8.5a.25.25 0 0 0 .25-.25v-5a.25.25 0 0 0-.25-.25Zm-2 9.5a.25.25 0 0 0-.25.25v3c0 .138.112.25.25.25h12.5a.25.25 0 0 0 .25-.25v-3a.25.25 0 0 0-.25-.25Z"></path><path d="M7 12.75a.75.75 0 0 1 .75-.75h4.5a.75.75 0 0 1 0 1.5h-4.5a.75.75 0 0 1-.75-.75Zm-4 0a.75.75 0 0 1 .75-.75h.5a.75.75 0 0 1 0 1.5h-.5a.75.75 0 0 1-.75-.75Z"></path>
</svg>
        </span>
      
        <span data-view-component="true" class="ActionListItem-label">
          Codespaces
</span></a>
  
  
</li>

        
          <li role="presentation" aria-hidden="true" data-view-component="true" class="ActionList-sectionDivider"></li>
        
          
<li data-item-id="" data-targets="nav-list.items" data-view-component="true" class="ActionListItem">
    
    <a data-analytics-event="{&quot;category&quot;:&quot;Global navigation&quot;,&quot;action&quot;:&quot;EXPLORE&quot;,&quot;label&quot;:null}" id="item-4ee37d24-ea38-49cc-b9af-c7f9a4e58851" href="/explore" data-view-component="true" class="ActionListContent ActionListContent--visual16">
        <span class="ActionListItem-visual ActionListItem-visual--leading">
          <svg aria-hidden="true" height="16" viewBox="0 0 16 16" version="1.1" width="16" data-view-component="true" class="octicon octicon-telescope">
    <path d="M14.184 1.143v-.001l1.422 2.464a1.75 1.75 0 0 1-.757 2.451L3.104 11.713a1.75 1.75 0 0 1-2.275-.702l-.447-.775a1.75 1.75 0 0 1 .53-2.32L11.682.573a1.748 1.748 0 0 1 2.502.57Zm-4.709 9.32h-.001l2.644 3.863a.75.75 0 1 1-1.238.848l-1.881-2.75v2.826a.75.75 0 0 1-1.5 0v-2.826l-1.881 2.75a.75.75 0 1 1-1.238-.848l2.049-2.992a.746.746 0 0 1 .293-.253l1.809-.87a.749.749 0 0 1 .944.252ZM9.436 3.92h-.001l-4.97 3.39.942 1.63 5.42-2.61Zm3.091-2.108h.001l-1.85 1.26 1.505 2.605 2.016-.97a.247.247 0 0 0 .13-.151.247.247 0 0 0-.022-.199l-1.422-2.464a.253.253 0 0 0-.161-.119.254.254 0 0 0-.197.038ZM1.756 9.157a.25.25 0 0 0-.075.33l.447.775a.25.25 0 0 0 .325.1l1.598-.769-.83-1.436-1.465 1Z"></path>
</svg>
        </span>
      
        <span data-view-component="true" class="ActionListItem-label">
          Explore
</span></a>
  
  
</li>

        
          
<li data-item-id="" data-targets="nav-list.items" data-view-component="true" class="ActionListItem">
    
    <a data-analytics-event="{&quot;category&quot;:&quot;Global navigation&quot;,&quot;action&quot;:&quot;MARKETPLACE&quot;,&quot;label&quot;:null}" id="item-94af6b65-9ddb-493f-b6dd-295a71b929bb" href="/marketplace" data-view-component="true" class="ActionListContent ActionListContent--visual16">
        <span class="ActionListItem-visual ActionListItem-visual--leading">
          <svg aria-hidden="true" height="16" viewBox="0 0 16 16" version="1.1" width="16" data-view-component="true" class="octicon octicon-gift">
    <path d="M2 2.75A2.75 2.75 0 0 1 4.75 0c.983 0 1.873.42 2.57 1.232.268.318.497.668.68 1.042.183-.375.411-.725.68-1.044C9.376.42 10.266 0 11.25 0a2.75 2.75 0 0 1 2.45 4h.55c.966 0 1.75.784 1.75 1.75v2c0 .698-.409 1.301-1 1.582v4.918A1.75 1.75 0 0 1 13.25 16H2.75A1.75 1.75 0 0 1 1 14.25V9.332C.409 9.05 0 8.448 0 7.75v-2C0 4.784.784 4 1.75 4h.55c-.192-.375-.3-.8-.3-1.25ZM7.25 9.5H2.5v4.75c0 .138.112.25.25.25h4.5Zm1.5 0v5h4.5a.25.25 0 0 0 .25-.25V9.5Zm0-4V8h5.5a.25.25 0 0 0 .25-.25v-2a.25.25 0 0 0-.25-.25Zm-7 0a.25.25 0 0 0-.25.25v2c0 .138.112.25.25.25h5.5V5.5h-5.5Zm3-4a1.25 1.25 0 0 0 0 2.5h2.309c-.233-.818-.542-1.401-.878-1.793-.43-.502-.915-.707-1.431-.707ZM8.941 4h2.309a1.25 1.25 0 0 0 0-2.5c-.516 0-1 .205-1.43.707-.337.392-.646.975-.879 1.793Z"></path>
</svg>
        </span>
      
        <span data-view-component="true" class="ActionListItem-label">
          Marketplace
</span></a>
  
  
</li>

</ul>  </nav-list>
</nav>

        <div data-view-component="true" class="my-3 d-flex flex-justify-center height-full">
          <svg style="box-sizing: content-box; color: var(--color-icon-primary);" width="16" height="16" viewBox="0 0 16 16" fill="none" data-view-component="true" class="anim-rotate">
  <circle cx="8" cy="8" r="7" stroke="currentColor" stroke-opacity="0.25" stroke-width="2" vector-effect="non-scaling-stroke" fill="none" />
  <path d="M15 8a7.002 7.002 0 00-7-7" stroke="currentColor" stroke-width="2" stroke-linecap="round" vector-effect="non-scaling-stroke" />
</svg>
</div>
</div>
      <div data-view-component="true" class="flex-1"></div>


      <div data-view-component="true" class="px-2">      <p class="color-fg-subtle text-small text-light">&copy; 2023 GitHub, Inc.</p>

      <div data-view-component="true" class="d-flex text-small text-light">
          <a target="_blank" href="/about" data-view-component="true" class="Link mr-2">About</a>
          <a target="_blank" href="https://github.blog" data-view-component="true" class="Link mr-2">Blog</a>
          <a target="_blank" href="https://docs.github.com/site-policy/github-terms/github-terms-of-service" data-view-component="true" class="Link mr-2">Terms</a>
          <a target="_blank" href="https://docs.github.com/site-policy/privacy-policies/github-privacy-statement" data-view-component="true" class="Link mr-2">Privacy</a>
          <a target="_blank" href="/security" data-view-component="true" class="Link mr-2">Security</a>
        <a target="_blank" href="https://www.githubstatus.com/" data-view-component="true" class="Link mr-3">Status</a>
</div></div>
</div>
      
</modal-dialog></div>

  </include-fragment>
</deferred-side-panel>

        <a
          class="AppHeader-logo ml-2"
          href="https://github.com/"
          data-hotkey="g d"
          aria-label="Homepage "
          data-turbo="false"
          data-analytics-event="{&quot;category&quot;:&quot;Header&quot;,&quot;action&quot;:&quot;go to dashboard&quot;,&quot;label&quot;:&quot;icon:logo&quot;}"
        >
          <svg height="32" aria-hidden="true" viewBox="0 0 16 16" version="1.1" width="32" data-view-component="true" class="octicon octicon-mark-github v-align-middle color-fg-default">
    <path d="M8 0c4.42 0 8 3.58 8 8a8.013 8.013 0 0 1-5.45 7.59c-.4.08-.55-.17-.55-.38 0-.27.01-1.13.01-2.2 0-.75-.25-1.23-.54-1.48 1.78-.2 3.65-.88 3.65-3.95 0-.88-.31-1.59-.82-2.15.08-.2.36-1.02-.08-2.12 0 0-.67-.22-2.2.82-.64-.18-1.32-.27-2-.27-.68 0-1.36.09-2 .27-1.53-1.03-2.2-.82-2.2-.82-.44 1.1-.16 1.92-.08 2.12-.51.56-.82 1.28-.82 2.15 0 3.06 1.86 3.75 3.64 3.95-.23.2-.44.55-.51 1.07-.46.21-1.61.55-2.33-.66-.15-.24-.6-.83-1.23-.82-.67.01-.27.38.01.53.34.19.73.9.82 1.13.16.45.68 1.31 2.69.94 0 .67.01 1.3.01 1.49 0 .21-.15.45-.55.38A7.995 7.995 0 0 1 0 8c0-4.42 3.58-8 8-8Z"></path>
</svg>
        </a>

          <div class="AppHeader-context" >
  <div class="AppHeader-context-compact">
        <button aria-expanded="false" aria-haspopup="dialog" aria-label="Page context: mrdbourke / tensorflow-deep-learning" id="dialog-show-context-region-dialog" data-show-dialog-id="context-region-dialog" type="button" data-view-component="true" class="AppHeader-context-compact-trigger Truncate Button--secondary Button--medium Button box-shadow-none">    <span class="Button-content">
      <span class="Button-label"><span class="AppHeader-context-compact-lead">
                <span class="AppHeader-context-compact-parentItem">mrdbourke</span>
                <span class="no-wrap">&nbsp;/</span>

            </span>

            <strong class="AppHeader-context-compact-mainItem d-flex flex-items-center Truncate" >
  <span class="Truncate-text ">tensorflow-deep-learning</span>

</strong></span>
    </span>
</button>  

<div class="Overlay--hidden Overlay-backdrop--center" data-modal-dialog-overlay>
  <modal-dialog role="dialog" id="context-region-dialog" aria-modal="true" aria-disabled="true" aria-labelledby="context-region-dialog-title" aria-describedby="context-region-dialog-description" data-view-component="true" class="Overlay Overlay-whenNarrow Overlay--size-medium Overlay--motion-scaleFade">
    <div data-view-component="true" class="Overlay-header">
  <div class="Overlay-headerContentWrap">
    <div class="Overlay-titleWrap">
      <h1 class="Overlay-title " id="context-region-dialog-title">
        Navigate back to
      </h1>
    </div>
    <div class="Overlay-actionWrap">
      <button data-close-dialog-id="context-region-dialog" aria-label="Close" type="button" data-view-component="true" class="close-button Overlay-closeButton"><svg aria-hidden="true" height="16" viewBox="0 0 16 16" version="1.1" width="16" data-view-component="true" class="octicon octicon-x">
    <path d="M3.72 3.72a.75.75 0 0 1 1.06 0L8 6.94l3.22-3.22a.749.749 0 0 1 1.275.326.749.749 0 0 1-.215.734L9.06 8l3.22 3.22a.749.749 0 0 1-.326 1.275.749.749 0 0 1-.734-.215L8 9.06l-3.22 3.22a.751.751 0 0 1-1.042-.018.751.751 0 0 1-.018-1.042L6.94 8 3.72 4.78a.75.75 0 0 1 0-1.06Z"></path>
</svg></button>
    </div>
  </div>
</div>
      <div data-view-component="true" class="Overlay-body">          <ul role="list" class="list-style-none" >
    <li>
      <a data-analytics-event="{&quot;category&quot;:&quot;SiteHeaderComponent&quot;,&quot;action&quot;:&quot;context_region_crumb&quot;,&quot;label&quot;:&quot;mrdbourke&quot;,&quot;screen_size&quot;:&quot;compact&quot;}" href="/mrdbourke" data-view-component="true" class="Link--primary Truncate d-flex flex-items-center py-1">
        <span class="AppHeader-context-item-label Truncate-text ">
            <svg aria-hidden="true" height="12" viewBox="0 0 16 16" version="1.1" width="12" data-view-component="true" class="octicon octicon-person mr-1">
    <path d="M10.561 8.073a6.005 6.005 0 0 1 3.432 5.142.75.75 0 1 1-1.498.07 4.5 4.5 0 0 0-8.99 0 .75.75 0 0 1-1.498-.07 6.004 6.004 0 0 1 3.431-5.142 3.999 3.999 0 1 1 5.123 0ZM10.5 5a2.5 2.5 0 1 0-5 0 2.5 2.5 0 0 0 5 0Z"></path>
</svg>

          mrdbourke
        </span>

</a>
    </li>
    <li>
      <a data-analytics-event="{&quot;category&quot;:&quot;SiteHeaderComponent&quot;,&quot;action&quot;:&quot;context_region_crumb&quot;,&quot;label&quot;:&quot;tensorflow-deep-learning&quot;,&quot;screen_size&quot;:&quot;compact&quot;}" href="/mrdbourke/tensorflow-deep-learning" data-view-component="true" class="Link--primary Truncate d-flex flex-items-center py-1">
        <span class="AppHeader-context-item-label Truncate-text ">
            <svg aria-hidden="true" height="12" viewBox="0 0 16 16" version="1.1" width="12" data-view-component="true" class="octicon octicon-repo mr-1">
    <path d="M2 2.5A2.5 2.5 0 0 1 4.5 0h8.75a.75.75 0 0 1 .75.75v12.5a.75.75 0 0 1-.75.75h-2.5a.75.75 0 0 1 0-1.5h1.75v-2h-8a1 1 0 0 0-.714 1.7.75.75 0 1 1-1.072 1.05A2.495 2.495 0 0 1 2 11.5Zm10.5-1h-8a1 1 0 0 0-1 1v6.708A2.486 2.486 0 0 1 4.5 9h8ZM5 12.25a.25.25 0 0 1 .25-.25h3.5a.25.25 0 0 1 .25.25v3.25a.25.25 0 0 1-.4.2l-1.45-1.087a.249.249 0 0 0-.3 0L5.4 15.7a.25.25 0 0 1-.4-.2Z"></path>
</svg>

          tensorflow-deep-learning
        </span>

</a>
    </li>
</ul>

</div>
      
</modal-dialog></div>
  </div>

  <div class="AppHeader-context-full">
    <nav role="navigation" aria-label="Page context">
      <ul role="list" class="list-style-none" >
    <li>
      <a data-analytics-event="{&quot;category&quot;:&quot;SiteHeaderComponent&quot;,&quot;action&quot;:&quot;context_region_crumb&quot;,&quot;label&quot;:&quot;mrdbourke&quot;,&quot;screen_size&quot;:&quot;full&quot;}" data-hovercard-type="user" data-hovercard-url="/users/mrdbourke/hovercard" data-octo-click="hovercard-link-click" data-octo-dimensions="link_type:self" href="/mrdbourke" data-view-component="true" class="AppHeader-context-item">
        <span class="AppHeader-context-item-label  ">

          mrdbourke
        </span>

</a>
        <span class="AppHeader-context-item-separator">/</span>
    </li>
    <li>
      <a data-analytics-event="{&quot;category&quot;:&quot;SiteHeaderComponent&quot;,&quot;action&quot;:&quot;context_region_crumb&quot;,&quot;label&quot;:&quot;tensorflow-deep-learning&quot;,&quot;screen_size&quot;:&quot;full&quot;}" href="/mrdbourke/tensorflow-deep-learning" data-view-component="true" class="AppHeader-context-item">
        <span class="AppHeader-context-item-label  ">

          tensorflow-deep-learning
        </span>

</a>
    </li>
</ul>

    </nav>
  </div>
</div>

      </div>
      <div class="AppHeader-globalBar-end">
          <div class="AppHeader-search" >
              


<qbsearch-input class="search-input" data-scope="repo:mrdbourke/tensorflow-deep-learning" data-custom-scopes-path="/search/custom_scopes" data-delete-custom-scopes-csrf="Aw67nVkFSSZuQO1Kz6WUDUrFDtabvEps026rxmdg1bV2xO3ZqCXTAUuAF5gXGGhg0giJ7u1ntdn5uWfbk4asxg" data-max-custom-scopes="10" data-header-redesign-enabled="true" data-initial-value="" data-blackbird-suggestions-path="/search/suggestions" data-jump-to-suggestions-path="/_graphql/GetSuggestedNavigationDestinations" data-current-repository="mrdbourke/tensorflow-deep-learning" data-current-org="" data-current-owner="mrdbourke" data-logged-in="true">
  <div
    class="search-input-container search-with-dialog position-relative d-flex flex-row flex-items-center height-auto color-bg-transparent border-0 color-fg-subtle mx-0"
    data-action="click:qbsearch-input#searchInputContainerClicked"
  >
      
            <button type="button" data-action="click:qbsearch-input#handleExpand" class="AppHeader-button AppHeader-search-whenNarrow" aria-label="Search or jump to…" aria-expanded="false" aria-haspopup="dialog">
            <svg aria-hidden="true" height="16" viewBox="0 0 16 16" version="1.1" width="16" data-view-component="true" class="octicon octicon-search">
    <path d="M10.68 11.74a6 6 0 0 1-7.922-8.982 6 6 0 0 1 8.982 7.922l3.04 3.04a.749.749 0 0 1-.326 1.275.749.749 0 0 1-.734-.215ZM11.5 7a4.499 4.499 0 1 0-8.997 0A4.499 4.499 0 0 0 11.5 7Z"></path>
</svg>
          </button>


<div class="AppHeader-search-whenRegular">
  <div class="AppHeader-search-wrap AppHeader-search-wrap--hasTrailing">
    <div class="AppHeader-search-control">
      <label
        for="AppHeader-searchInput"
        aria-label="Search or jump to…"
        class="AppHeader-search-visual--leading"
      >
        <svg aria-hidden="true" height="16" viewBox="0 0 16 16" version="1.1" width="16" data-view-component="true" class="octicon octicon-search">
    <path d="M10.68 11.74a6 6 0 0 1-7.922-8.982 6 6 0 0 1 8.982 7.922l3.04 3.04a.749.749 0 0 1-.326 1.275.749.749 0 0 1-.734-.215ZM11.5 7a4.499 4.499 0 1 0-8.997 0A4.499 4.499 0 0 0 11.5 7Z"></path>
</svg>
      </label>

                <button
            type="button"
            data-target="qbsearch-input.inputButton"
            data-action="click:qbsearch-input#handleExpand"
            class="AppHeader-searchButton form-control input-contrast text-left color-fg-subtle no-wrap"
            data-hotkey="s,/"
            data-analytics-event="{&quot;category&quot;:&quot;Global navigation&quot;,&quot;action&quot;:&quot;SEARCH&quot;,&quot;label&quot;:null}"
          >
            <div class="overflow-hidden">
              <span id="qb-input-query" data-target="qbsearch-input.inputButtonText">
                  Type <kbd class="AppHeader-search-kbd">/</kbd> to search
              </span>
            </div>
          </button>

    </div>


      <button type="button" id="AppHeader-commandPalette-button" class="AppHeader-search-action--trailing js-activate-command-palette" data-analytics-event="{&quot;category&quot;:&quot;SiteHeaderComponent&quot;,&quot;action&quot;:&quot;command_palette&quot;,&quot;label&quot;:&quot;open command palette&quot;}">
        <svg aria-hidden="true" height="16" viewBox="0 0 16 16" version="1.1" width="16" data-view-component="true" class="octicon octicon-command-palette">
    <path d="m6.354 8.04-4.773 4.773a.75.75 0 1 0 1.061 1.06L7.945 8.57a.75.75 0 0 0 0-1.06L2.642 2.206a.75.75 0 0 0-1.06 1.061L6.353 8.04ZM8.75 11.5a.75.75 0 0 0 0 1.5h5.5a.75.75 0 0 0 0-1.5h-5.5Z"></path>
</svg>
      </button>

      <tool-tip id="tooltip-9dcfbea7-9496-4175-b20c-f5364dc079ad" for="AppHeader-commandPalette-button" popover="manual" data-direction="s" data-type="label" data-view-component="true" class="sr-only position-absolute">Command palette</tool-tip>
  </div>
</div>

    <input type="hidden" name="type" class="js-site-search-type-field">

    
<div class="Overlay--hidden " data-modal-dialog-overlay>
  <modal-dialog data-action="close:qbsearch-input#handleClose cancel:qbsearch-input#handleClose" data-target="qbsearch-input.searchSuggestionsDialog" role="dialog" id="search-suggestions-dialog" aria-modal="true" aria-labelledby="search-suggestions-dialog-header" data-view-component="true" class="Overlay Overlay--width-medium Overlay--height-auto">
      <h1 id="search-suggestions-dialog-header" class="sr-only">Search code, repositories, users, issues, pull requests...</h1>
    <div class="Overlay-body Overlay-body--paddingNone">
      
          <div data-view-component="true">        <div class="search-suggestions position-absolute width-full color-shadow-large border color-fg-default color-bg-default overflow-hidden d-flex flex-column query-builder-container"
          style="border-radius: 12px;"
          data-target="qbsearch-input.queryBuilderContainer"
          hidden
        >
          <!-- '"` --><!-- </textarea></xmp> --></option></form><form id="query-builder-test-form" action="" accept-charset="UTF-8" method="get">
  <query-builder data-target="qbsearch-input.queryBuilder" id="query-builder-query-builder-test" data-filter-key=":" data-view-component="true" class="QueryBuilder search-query-builder">
    <div class="FormControl FormControl--fullWidth">
      <label id="query-builder-test-label" for="query-builder-test" class="FormControl-label sr-only">
        Search
      </label>
      <div
        class="QueryBuilder-StyledInput width-fit "
        data-target="query-builder.styledInput"
      >
          <span id="query-builder-test-leadingvisual-wrap" class="FormControl-input-leadingVisualWrap QueryBuilder-leadingVisualWrap">
            <svg aria-hidden="true" height="16" viewBox="0 0 16 16" version="1.1" width="16" data-view-component="true" class="octicon octicon-search FormControl-input-leadingVisual">
    <path d="M10.68 11.74a6 6 0 0 1-7.922-8.982 6 6 0 0 1 8.982 7.922l3.04 3.04a.749.749 0 0 1-.326 1.275.749.749 0 0 1-.734-.215ZM11.5 7a4.499 4.499 0 1 0-8.997 0A4.499 4.499 0 0 0 11.5 7Z"></path>
</svg>
          </span>
        <div data-target="query-builder.styledInputContainer" class="QueryBuilder-StyledInputContainer">
          <div
            aria-hidden="true"
            class="QueryBuilder-StyledInputContent"
            data-target="query-builder.styledInputContent"
          ></div>
          <div class="QueryBuilder-InputWrapper">
            <div aria-hidden="true" class="QueryBuilder-Sizer" data-target="query-builder.sizer"></div>
            <input id="query-builder-test" name="query-builder-test" value="" autocomplete="off" type="text" role="combobox" spellcheck="false" aria-expanded="false" aria-describedby="validation-d5ecfb43-b919-42c3-b765-56907d133c73" data-target="query-builder.input" data-action="
          input:query-builder#inputChange
          blur:query-builder#inputBlur
          keydown:query-builder#inputKeydown
          focus:query-builder#inputFocus
        " data-view-component="true" class="FormControl-input QueryBuilder-Input FormControl-medium" />
          </div>
        </div>
          <span class="sr-only" id="query-builder-test-clear">Clear</span>
          
  <button role="button" id="query-builder-test-clear-button" aria-labelledby="query-builder-test-clear query-builder-test-label" data-target="query-builder.clearButton" data-action="
                click:query-builder#clear
                focus:query-builder#clearButtonFocus
                blur:query-builder#clearButtonBlur
              " variant="small" hidden="hidden" type="button" data-view-component="true" class="Button Button--iconOnly Button--invisible Button--medium mr-1 px-2 py-0 d-flex flex-items-center rounded-1 color-fg-muted">    <svg aria-hidden="true" height="16" viewBox="0 0 16 16" version="1.1" width="16" data-view-component="true" class="octicon octicon-x-circle-fill Button-visual">
    <path d="M2.343 13.657A8 8 0 1 1 13.658 2.343 8 8 0 0 1 2.343 13.657ZM6.03 4.97a.751.751 0 0 0-1.042.018.751.751 0 0 0-.018 1.042L6.94 8 4.97 9.97a.749.749 0 0 0 .326 1.275.749.749 0 0 0 .734-.215L8 9.06l1.97 1.97a.749.749 0 0 0 1.275-.326.749.749 0 0 0-.215-.734L9.06 8l1.97-1.97a.749.749 0 0 0-.326-1.275.749.749 0 0 0-.734.215L8 6.94Z"></path>
</svg>
</button>  

      </div>
      <template id="search-icon">
  <svg aria-hidden="true" height="16" viewBox="0 0 16 16" version="1.1" width="16" data-view-component="true" class="octicon octicon-search">
    <path d="M10.68 11.74a6 6 0 0 1-7.922-8.982 6 6 0 0 1 8.982 7.922l3.04 3.04a.749.749 0 0 1-.326 1.275.749.749 0 0 1-.734-.215ZM11.5 7a4.499 4.499 0 1 0-8.997 0A4.499 4.499 0 0 0 11.5 7Z"></path>
</svg>
</template>

<template id="code-icon">
  <svg aria-hidden="true" height="16" viewBox="0 0 16 16" version="1.1" width="16" data-view-component="true" class="octicon octicon-code">
    <path d="m11.28 3.22 4.25 4.25a.75.75 0 0 1 0 1.06l-4.25 4.25a.749.749 0 0 1-1.275-.326.749.749 0 0 1 .215-.734L13.94 8l-3.72-3.72a.749.749 0 0 1 .326-1.275.749.749 0 0 1 .734.215Zm-6.56 0a.751.751 0 0 1 1.042.018.751.751 0 0 1 .018 1.042L2.06 8l3.72 3.72a.749.749 0 0 1-.326 1.275.749.749 0 0 1-.734-.215L.47 8.53a.75.75 0 0 1 0-1.06Z"></path>
</svg>
</template>

<template id="file-code-icon">
  <svg aria-hidden="true" height="16" viewBox="0 0 16 16" version="1.1" width="16" data-view-component="true" class="octicon octicon-file-code">
    <path d="M4 1.75C4 .784 4.784 0 5.75 0h5.586c.464 0 .909.184 1.237.513l2.914 2.914c.329.328.513.773.513 1.237v8.586A1.75 1.75 0 0 1 14.25 15h-9a.75.75 0 0 1 0-1.5h9a.25.25 0 0 0 .25-.25V6h-2.75A1.75 1.75 0 0 1 10 4.25V1.5H5.75a.25.25 0 0 0-.25.25v2.5a.75.75 0 0 1-1.5 0Zm1.72 4.97a.75.75 0 0 1 1.06 0l2 2a.75.75 0 0 1 0 1.06l-2 2a.749.749 0 0 1-1.275-.326.749.749 0 0 1 .215-.734l1.47-1.47-1.47-1.47a.75.75 0 0 1 0-1.06ZM3.28 7.78 1.81 9.25l1.47 1.47a.751.751 0 0 1-.018 1.042.751.751 0 0 1-1.042.018l-2-2a.75.75 0 0 1 0-1.06l2-2a.751.751 0 0 1 1.042.018.751.751 0 0 1 .018 1.042Zm8.22-6.218V4.25c0 .138.112.25.25.25h2.688l-.011-.013-2.914-2.914-.013-.011Z"></path>
</svg>
</template>

<template id="history-icon">
  <svg aria-hidden="true" height="16" viewBox="0 0 16 16" version="1.1" width="16" data-view-component="true" class="octicon octicon-history">
    <path d="m.427 1.927 1.215 1.215a8.002 8.002 0 1 1-1.6 5.685.75.75 0 1 1 1.493-.154 6.5 6.5 0 1 0 1.18-4.458l1.358 1.358A.25.25 0 0 1 3.896 6H.25A.25.25 0 0 1 0 5.75V2.104a.25.25 0 0 1 .427-.177ZM7.75 4a.75.75 0 0 1 .75.75v2.992l2.028.812a.75.75 0 0 1-.557 1.392l-2.5-1A.751.751 0 0 1 7 8.25v-3.5A.75.75 0 0 1 7.75 4Z"></path>
</svg>
</template>

<template id="repo-icon">
  <svg aria-hidden="true" height="16" viewBox="0 0 16 16" version="1.1" width="16" data-view-component="true" class="octicon octicon-repo">
    <path d="M2 2.5A2.5 2.5 0 0 1 4.5 0h8.75a.75.75 0 0 1 .75.75v12.5a.75.75 0 0 1-.75.75h-2.5a.75.75 0 0 1 0-1.5h1.75v-2h-8a1 1 0 0 0-.714 1.7.75.75 0 1 1-1.072 1.05A2.495 2.495 0 0 1 2 11.5Zm10.5-1h-8a1 1 0 0 0-1 1v6.708A2.486 2.486 0 0 1 4.5 9h8ZM5 12.25a.25.25 0 0 1 .25-.25h3.5a.25.25 0 0 1 .25.25v3.25a.25.25 0 0 1-.4.2l-1.45-1.087a.249.249 0 0 0-.3 0L5.4 15.7a.25.25 0 0 1-.4-.2Z"></path>
</svg>
</template>

<template id="bookmark-icon">
  <svg aria-hidden="true" height="16" viewBox="0 0 16 16" version="1.1" width="16" data-view-component="true" class="octicon octicon-bookmark">
    <path d="M3 2.75C3 1.784 3.784 1 4.75 1h6.5c.966 0 1.75.784 1.75 1.75v11.5a.75.75 0 0 1-1.227.579L8 11.722l-3.773 3.107A.751.751 0 0 1 3 14.25Zm1.75-.25a.25.25 0 0 0-.25.25v9.91l3.023-2.489a.75.75 0 0 1 .954 0l3.023 2.49V2.75a.25.25 0 0 0-.25-.25Z"></path>
</svg>
</template>

<template id="plus-circle-icon">
  <svg aria-hidden="true" height="16" viewBox="0 0 16 16" version="1.1" width="16" data-view-component="true" class="octicon octicon-plus-circle">
    <path d="M8 0a8 8 0 1 1 0 16A8 8 0 0 1 8 0ZM1.5 8a6.5 6.5 0 1 0 13 0 6.5 6.5 0 0 0-13 0Zm7.25-3.25v2.5h2.5a.75.75 0 0 1 0 1.5h-2.5v2.5a.75.75 0 0 1-1.5 0v-2.5h-2.5a.75.75 0 0 1 0-1.5h2.5v-2.5a.75.75 0 0 1 1.5 0Z"></path>
</svg>
</template>

<template id="circle-icon">
  <svg aria-hidden="true" height="16" viewBox="0 0 16 16" version="1.1" width="16" data-view-component="true" class="octicon octicon-dot-fill">
    <path d="M8 4a4 4 0 1 1 0 8 4 4 0 0 1 0-8Z"></path>
</svg>
</template>

<template id="trash-icon">
  <svg aria-hidden="true" height="16" viewBox="0 0 16 16" version="1.1" width="16" data-view-component="true" class="octicon octicon-trash">
    <path d="M11 1.75V3h2.25a.75.75 0 0 1 0 1.5H2.75a.75.75 0 0 1 0-1.5H5V1.75C5 .784 5.784 0 6.75 0h2.5C10.216 0 11 .784 11 1.75ZM4.496 6.675l.66 6.6a.25.25 0 0 0 .249.225h5.19a.25.25 0 0 0 .249-.225l.66-6.6a.75.75 0 0 1 1.492.149l-.66 6.6A1.748 1.748 0 0 1 10.595 15h-5.19a1.75 1.75 0 0 1-1.741-1.575l-.66-6.6a.75.75 0 1 1 1.492-.15ZM6.5 1.75V3h3V1.75a.25.25 0 0 0-.25-.25h-2.5a.25.25 0 0 0-.25.25Z"></path>
</svg>
</template>

<template id="team-icon">
  <svg aria-hidden="true" height="16" viewBox="0 0 16 16" version="1.1" width="16" data-view-component="true" class="octicon octicon-people">
    <path d="M2 5.5a3.5 3.5 0 1 1 5.898 2.549 5.508 5.508 0 0 1 3.034 4.084.75.75 0 1 1-1.482.235 4 4 0 0 0-7.9 0 .75.75 0 0 1-1.482-.236A5.507 5.507 0 0 1 3.102 8.05 3.493 3.493 0 0 1 2 5.5ZM11 4a3.001 3.001 0 0 1 2.22 5.018 5.01 5.01 0 0 1 2.56 3.012.749.749 0 0 1-.885.954.752.752 0 0 1-.549-.514 3.507 3.507 0 0 0-2.522-2.372.75.75 0 0 1-.574-.73v-.352a.75.75 0 0 1 .416-.672A1.5 1.5 0 0 0 11 5.5.75.75 0 0 1 11 4Zm-5.5-.5a2 2 0 1 0-.001 3.999A2 2 0 0 0 5.5 3.5Z"></path>
</svg>
</template>

<template id="project-icon">
  <svg aria-hidden="true" height="16" viewBox="0 0 16 16" version="1.1" width="16" data-view-component="true" class="octicon octicon-project">
    <path d="M1.75 0h12.5C15.216 0 16 .784 16 1.75v12.5A1.75 1.75 0 0 1 14.25 16H1.75A1.75 1.75 0 0 1 0 14.25V1.75C0 .784.784 0 1.75 0ZM1.5 1.75v12.5c0 .138.112.25.25.25h12.5a.25.25 0 0 0 .25-.25V1.75a.25.25 0 0 0-.25-.25H1.75a.25.25 0 0 0-.25.25ZM11.75 3a.75.75 0 0 1 .75.75v7.5a.75.75 0 0 1-1.5 0v-7.5a.75.75 0 0 1 .75-.75Zm-8.25.75a.75.75 0 0 1 1.5 0v5.5a.75.75 0 0 1-1.5 0ZM8 3a.75.75 0 0 1 .75.75v3.5a.75.75 0 0 1-1.5 0v-3.5A.75.75 0 0 1 8 3Z"></path>
</svg>
</template>

<template id="pencil-icon">
  <svg aria-hidden="true" height="16" viewBox="0 0 16 16" version="1.1" width="16" data-view-component="true" class="octicon octicon-pencil">
    <path d="M11.013 1.427a1.75 1.75 0 0 1 2.474 0l1.086 1.086a1.75 1.75 0 0 1 0 2.474l-8.61 8.61c-.21.21-.47.364-.756.445l-3.251.93a.75.75 0 0 1-.927-.928l.929-3.25c.081-.286.235-.547.445-.758l8.61-8.61Zm.176 4.823L9.75 4.81l-6.286 6.287a.253.253 0 0 0-.064.108l-.558 1.953 1.953-.558a.253.253 0 0 0 .108-.064Zm1.238-3.763a.25.25 0 0 0-.354 0L10.811 3.75l1.439 1.44 1.263-1.263a.25.25 0 0 0 0-.354Z"></path>
</svg>
</template>

        <div class="position-relative">
                <ul
                  role="listbox"
                  class="ActionListWrap QueryBuilder-ListWrap"
                  aria-label="Suggestions"
                  data-action="
                    combobox-commit:query-builder#comboboxCommit
                    mousedown:query-builder#resultsMousedown
                  "
                  data-target="query-builder.resultsList"
                  data-persist-list=false
                  id="query-builder-test-results"
                ></ul>
        </div>
      <div class="FormControl-inlineValidation" id="validation-d5ecfb43-b919-42c3-b765-56907d133c73" hidden="hidden">
        <span class="FormControl-inlineValidation--visual">
          <svg aria-hidden="true" height="12" viewBox="0 0 12 12" version="1.1" width="12" data-view-component="true" class="octicon octicon-alert-fill">
    <path d="M4.855.708c.5-.896 1.79-.896 2.29 0l4.675 8.351a1.312 1.312 0 0 1-1.146 1.954H1.33A1.313 1.313 0 0 1 .183 9.058ZM7 7V3H5v4Zm-1 3a1 1 0 1 0 0-2 1 1 0 0 0 0 2Z"></path>
</svg>
        </span>
        <span></span>
</div>    </div>
    <div data-target="query-builder.screenReaderFeedback" aria-live="polite" aria-atomic="true" class="sr-only"></div>
</query-builder></form>
          <div class="d-flex flex-row color-fg-muted px-3 text-small color-bg-default search-feedback-prompt">
            <a target="_blank" href="https://docs.github.com/en/search-github/github-code-search/understanding-github-code-search-syntax" data-view-component="true" class="Link color-fg-accent text-normal ml-2">
              Search syntax tips
</a>            <div class="d-flex flex-1"></div>
                <button data-action="click:qbsearch-input#showFeedbackDialog" type="button" data-view-component="true" class="Button--link Button--medium Button color-fg-accent text-normal ml-2">    <span class="Button-content">
      <span class="Button-label">Give feedback</span>
    </span>
</button>  
          </div>
        </div>
</div>

    </div>
</modal-dialog></div>
  </div>
  <div data-action="click:qbsearch-input#retract" class="dark-backdrop position-fixed" hidden data-target="qbsearch-input.darkBackdrop"></div>
  <div class="color-fg-default">
    
<div class="Overlay--hidden Overlay-backdrop--center" data-modal-dialog-overlay>
  <modal-dialog data-target="qbsearch-input.feedbackDialog" data-action="close:qbsearch-input#handleDialogClose cancel:qbsearch-input#handleDialogClose" role="dialog" id="feedback-dialog" aria-modal="true" aria-disabled="true" aria-labelledby="feedback-dialog-title" aria-describedby="feedback-dialog-description" data-view-component="true" class="Overlay Overlay-whenNarrow Overlay--size-medium Overlay--motion-scaleFade">
    <div data-view-component="true" class="Overlay-header">
  <div class="Overlay-headerContentWrap">
    <div class="Overlay-titleWrap">
      <h1 class="Overlay-title " id="feedback-dialog-title">
        Provide feedback
      </h1>
    </div>
    <div class="Overlay-actionWrap">
      <button data-close-dialog-id="feedback-dialog" aria-label="Close" type="button" data-view-component="true" class="close-button Overlay-closeButton"><svg aria-hidden="true" height="16" viewBox="0 0 16 16" version="1.1" width="16" data-view-component="true" class="octicon octicon-x">
    <path d="M3.72 3.72a.75.75 0 0 1 1.06 0L8 6.94l3.22-3.22a.749.749 0 0 1 1.275.326.749.749 0 0 1-.215.734L9.06 8l3.22 3.22a.749.749 0 0 1-.326 1.275.749.749 0 0 1-.734-.215L8 9.06l-3.22 3.22a.751.751 0 0 1-1.042-.018.751.751 0 0 1-.018-1.042L6.94 8 3.72 4.78a.75.75 0 0 1 0-1.06Z"></path>
</svg></button>
    </div>
  </div>
</div>
      <div data-view-component="true" class="Overlay-body">        <!-- '"` --><!-- </textarea></xmp> --></option></form><form id="code-search-feedback-form" data-turbo="false" action="/search/feedback" accept-charset="UTF-8" method="post"><input type="hidden" name="authenticity_token" value="Yl_ZIgwE12mdMxb75jBBrOegvaVQBWQGvnrn_UYQ9TGmT7euRxLGpysQyptVBhgGNWRRTqvIPktd7lqyvFF6Tw" />
          <p>We read every piece of feedback, and take your input very seriously.</p>
          <textarea name="feedback" class="form-control width-full mb-2" style="height: 120px" id="feedback"></textarea>
          <input name="include_email" id="include_email" aria-label="Include my email address so I can be contacted" class="form-control mr-2" type="checkbox">
          <label for="include_email" style="font-weight: normal">Include my email address so I can be contacted</label>
</form></div>
      <div data-view-component="true" class="Overlay-footer Overlay-footer--alignEnd">          <button data-close-dialog-id="feedback-dialog" type="button" data-view-component="true" class="btn">    Cancel
</button>
          <button form="code-search-feedback-form" data-action="click:qbsearch-input#submitFeedback" type="submit" data-view-component="true" class="btn-primary btn">    Submit feedback
</button>
</div>
</modal-dialog></div>

    <custom-scopes data-target="qbsearch-input.customScopesManager">
    
<div class="Overlay--hidden Overlay-backdrop--center" data-modal-dialog-overlay>
  <modal-dialog data-target="custom-scopes.customScopesModalDialog" data-action="close:qbsearch-input#handleDialogClose cancel:qbsearch-input#handleDialogClose" role="dialog" id="custom-scopes-dialog" aria-modal="true" aria-disabled="true" aria-labelledby="custom-scopes-dialog-title" aria-describedby="custom-scopes-dialog-description" data-view-component="true" class="Overlay Overlay-whenNarrow Overlay--size-medium Overlay--motion-scaleFade">
    <div data-view-component="true" class="Overlay-header Overlay-header--divided">
  <div class="Overlay-headerContentWrap">
    <div class="Overlay-titleWrap">
      <h1 class="Overlay-title " id="custom-scopes-dialog-title">
        Saved searches
      </h1>
        <h2 id="custom-scopes-dialog-description" class="Overlay-description">Use saved searches to filter your results more quickly</h2>
    </div>
    <div class="Overlay-actionWrap">
      <button data-close-dialog-id="custom-scopes-dialog" aria-label="Close" type="button" data-view-component="true" class="close-button Overlay-closeButton"><svg aria-hidden="true" height="16" viewBox="0 0 16 16" version="1.1" width="16" data-view-component="true" class="octicon octicon-x">
    <path d="M3.72 3.72a.75.75 0 0 1 1.06 0L8 6.94l3.22-3.22a.749.749 0 0 1 1.275.326.749.749 0 0 1-.215.734L9.06 8l3.22 3.22a.749.749 0 0 1-.326 1.275.749.749 0 0 1-.734-.215L8 9.06l-3.22 3.22a.751.751 0 0 1-1.042-.018.751.751 0 0 1-.018-1.042L6.94 8 3.72 4.78a.75.75 0 0 1 0-1.06Z"></path>
</svg></button>
    </div>
  </div>
</div>
      <div data-view-component="true" class="Overlay-body">        <div data-target="custom-scopes.customScopesModalDialogFlash"></div>

        <div hidden class="create-custom-scope-form" data-target="custom-scopes.createCustomScopeForm">
        <!-- '"` --><!-- </textarea></xmp> --></option></form><form id="custom-scopes-dialog-form" data-turbo="false" action="/search/custom_scopes" accept-charset="UTF-8" method="post"><input type="hidden" name="authenticity_token" value="bXgISvk6MpJIUEgRajBIvDidRCL0dzn4TVdoV_79fHbVdQDzLuBYZ5b0vC_QyI7F30MGUAhhKWRQPUnkxvl-2A" />
          <div data-target="custom-scopes.customScopesModalDialogFlash"></div>

          <input type="hidden" id="custom_scope_id" name="custom_scope_id" data-target="custom-scopes.customScopesIdField">

          <div class="form-group">
            <label for="custom_scope_name">Name</label>
            <auto-check src="/search/custom_scopes/check_name" required>
              <input
                type="text"
                name="custom_scope_name"
                id="custom_scope_name"
                data-target="custom-scopes.customScopesNameField"
                class="form-control"
                autocomplete="off"
                placeholder="github-ruby"
                required
                maxlength="50">
              <input type="hidden" value="oPP3yWNNepTiYLG1mk6JMuuDnDfwXMRe6iVR-03roWQ38iSCF939lqY9kiFVCz-9SjhR89MYxoBcf6rCn1TU_Q" data-csrf="true" />
            </auto-check>
          </div>

          <div class="form-group">
            <label for="custom_scope_query">Query</label>
            <input
              type="text"
              name="custom_scope_query"
              id="custom_scope_query"
              data-target="custom-scopes.customScopesQueryField"
              class="form-control"
              autocomplete="off"
              placeholder="(repo:mona/a OR repo:mona/b) AND lang:python"
              required
              maxlength="500">
          </div>

          <p class="text-small color-fg-muted">
            To see all available qualifiers, see our <a class="Link--inTextBlock" href="https://docs.github.com/en/search-github/github-code-search/understanding-github-code-search-syntax">documentation</a>.
          </p>
</form>        </div>

        <div data-target="custom-scopes.manageCustomScopesForm">
          <div data-target="custom-scopes.list"></div>
        </div>

</div>
      <div data-view-component="true" class="Overlay-footer Overlay-footer--alignEnd Overlay-footer--divided">          <button data-action="click:custom-scopes#customScopesCancel" type="button" data-view-component="true" class="btn">    Cancel
</button>
          <button form="custom-scopes-dialog-form" data-action="click:custom-scopes#customScopesSubmit" data-target="custom-scopes.customScopesSubmitButton" type="submit" data-view-component="true" class="btn-primary btn">    Create saved search
</button>
</div>
</modal-dialog></div>
    </custom-scopes>
  </div>
</qbsearch-input><input type="hidden" value="Jnhqh-gD5RAf4PbsEsSA9TcdWL9pgPDjwB7hhWxzZYQrYSoUBmkpu4XLcKr74LXGV8xYrs3ardSAE3lsNjtWeQ" data-csrf="true" class="js-data-jump-to-suggestions-path-csrf" />

          </div>

        <div class="AppHeader-actions position-relative">
          <action-menu data-select-variant="none" data-view-component="true">
  <focus-group direction="vertical" mnemonics retain>
    <div data-view-component="true" class="Button-withTooltip">  <button id="global-create-menu-button" popovertarget="global-create-menu-overlay" aria-label="Create something new" aria-controls="global-create-menu-list" aria-haspopup="true" type="button" data-view-component="true" class="AppHeader-button Button--secondary Button--small Button width-auto color-fg-muted">    <span class="Button-content">
        <span class="Button-visual Button-leadingVisual">
          <svg aria-hidden="true" height="16" viewBox="0 0 16 16" version="1.1" width="16" data-view-component="true" class="octicon octicon-plus">
    <path d="M7.75 2a.75.75 0 0 1 .75.75V7h4.25a.75.75 0 0 1 0 1.5H8.5v4.25a.75.75 0 0 1-1.5 0V8.5H2.75a.75.75 0 0 1 0-1.5H7V2.75A.75.75 0 0 1 7.75 2Z"></path>
</svg>
        </span>
      <span class="Button-label"><svg aria-hidden="true" height="16" viewBox="0 0 16 16" version="1.1" width="16" data-view-component="true" class="octicon octicon-triangle-down">
    <path d="m4.427 7.427 3.396 3.396a.25.25 0 0 0 .354 0l3.396-3.396A.25.25 0 0 0 11.396 7H4.604a.25.25 0 0 0-.177.427Z"></path>
</svg></span>
    </span>
</button>  <tool-tip id="tooltip-afe01dc3-eab0-4a47-82d1-84371cc0d356" for="global-create-menu-button" popover="manual" data-direction="s" data-type="description" data-view-component="true" class="sr-only position-absolute">Create new...</tool-tip>
</div>

<anchored-position id="global-create-menu-overlay" anchor="global-create-menu-button" align="end" side="outside-bottom" anchor-offset="normal" popover="auto" data-view-component="true">
  <div data-view-component="true" class="Overlay Overlay--size-auto">
    
      
        <div data-view-component="true">
  <ul aria-labelledby="global-create-menu-button" id="global-create-menu-list" role="menu" data-view-component="true" class="ActionListWrap--inset ActionListWrap">
      <li data-analytics-event="{&quot;category&quot;:&quot;SiteHeaderComponent&quot;,&quot;action&quot;:&quot;add_dropdown&quot;,&quot;label&quot;:&quot;new repository&quot;}" data-targets="action-list.items" role="none" data-view-component="true" class="ActionListItem">
    
    <a href="/new" tabindex="-1" id="item-78f0f306-43ce-48c6-bfec-37344373ba22" role="menuitem" data-view-component="true" class="ActionListContent ActionListContent--visual16">
        <span class="ActionListItem-visual ActionListItem-visual--leading">
          <svg aria-hidden="true" height="16" viewBox="0 0 16 16" version="1.1" width="16" data-view-component="true" class="octicon octicon-repo">
    <path d="M2 2.5A2.5 2.5 0 0 1 4.5 0h8.75a.75.75 0 0 1 .75.75v12.5a.75.75 0 0 1-.75.75h-2.5a.75.75 0 0 1 0-1.5h1.75v-2h-8a1 1 0 0 0-.714 1.7.75.75 0 1 1-1.072 1.05A2.495 2.495 0 0 1 2 11.5Zm10.5-1h-8a1 1 0 0 0-1 1v6.708A2.486 2.486 0 0 1 4.5 9h8ZM5 12.25a.25.25 0 0 1 .25-.25h3.5a.25.25 0 0 1 .25.25v3.25a.25.25 0 0 1-.4.2l-1.45-1.087a.249.249 0 0 0-.3 0L5.4 15.7a.25.25 0 0 1-.4-.2Z"></path>
</svg>
        </span>
      
        <span data-view-component="true" class="ActionListItem-label">
              New repository

</span></a>
  
  
</li>
      <li data-analytics-event="{&quot;category&quot;:&quot;SiteHeaderComponent&quot;,&quot;action&quot;:&quot;add_dropdown&quot;,&quot;label&quot;:&quot;import repository&quot;}" data-targets="action-list.items" role="none" data-view-component="true" class="ActionListItem">
    
    <a href="/new/import" tabindex="-1" id="item-4471de12-5d26-4ec6-bcf8-56ceb8e8371d" role="menuitem" data-view-component="true" class="ActionListContent ActionListContent--visual16">
        <span class="ActionListItem-visual ActionListItem-visual--leading">
          <svg aria-hidden="true" height="16" viewBox="0 0 16 16" version="1.1" width="16" data-view-component="true" class="octicon octicon-repo-push">
    <path d="M1 2.5A2.5 2.5 0 0 1 3.5 0h8.75a.75.75 0 0 1 .75.75v3.5a.75.75 0 0 1-1.5 0V1.5h-8a1 1 0 0 0-1 1v6.708A2.493 2.493 0 0 1 3.5 9h3.25a.75.75 0 0 1 0 1.5H3.5a1 1 0 0 0 0 2h5.75a.75.75 0 0 1 0 1.5H3.5A2.5 2.5 0 0 1 1 11.5Zm13.23 7.79h-.001l-1.224-1.224v6.184a.75.75 0 0 1-1.5 0V9.066L10.28 10.29a.75.75 0 0 1-1.06-1.061l2.505-2.504a.75.75 0 0 1 1.06 0L15.29 9.23a.751.751 0 0 1-.018 1.042.751.751 0 0 1-1.042.018Z"></path>
</svg>
        </span>
      
        <span data-view-component="true" class="ActionListItem-label">
                Import repository

</span></a>
  
  
</li>
      <li role="presentation" aria-hidden="true" data-view-component="true" class="ActionList-sectionDivider"></li>
      <li data-analytics-event="{&quot;category&quot;:&quot;SiteHeaderComponent&quot;,&quot;action&quot;:&quot;add_dropdown&quot;,&quot;label&quot;:&quot;new codespace&quot;}" data-targets="action-list.items" role="none" data-view-component="true" class="ActionListItem">
    
    <a href="/codespaces/new" tabindex="-1" id="item-b7cd9230-12f4-4e94-b623-f192ea412374" role="menuitem" data-view-component="true" class="ActionListContent ActionListContent--visual16">
        <span class="ActionListItem-visual ActionListItem-visual--leading">
          <svg aria-hidden="true" height="16" viewBox="0 0 16 16" version="1.1" width="16" data-view-component="true" class="octicon octicon-codespaces">
    <path d="M0 11.25c0-.966.784-1.75 1.75-1.75h12.5c.966 0 1.75.784 1.75 1.75v3A1.75 1.75 0 0 1 14.25 16H1.75A1.75 1.75 0 0 1 0 14.25Zm2-9.5C2 .784 2.784 0 3.75 0h8.5C13.216 0 14 .784 14 1.75v5a1.75 1.75 0 0 1-1.75 1.75h-8.5A1.75 1.75 0 0 1 2 6.75Zm1.75-.25a.25.25 0 0 0-.25.25v5c0 .138.112.25.25.25h8.5a.25.25 0 0 0 .25-.25v-5a.25.25 0 0 0-.25-.25Zm-2 9.5a.25.25 0 0 0-.25.25v3c0 .138.112.25.25.25h12.5a.25.25 0 0 0 .25-.25v-3a.25.25 0 0 0-.25-.25Z"></path><path d="M7 12.75a.75.75 0 0 1 .75-.75h4.5a.75.75 0 0 1 0 1.5h-4.5a.75.75 0 0 1-.75-.75Zm-4 0a.75.75 0 0 1 .75-.75h.5a.75.75 0 0 1 0 1.5h-.5a.75.75 0 0 1-.75-.75Z"></path>
</svg>
        </span>
      
        <span data-view-component="true" class="ActionListItem-label">
                New codespace

</span></a>
  
  
</li>
      <li data-analytics-event="{&quot;category&quot;:&quot;SiteHeaderComponent&quot;,&quot;action&quot;:&quot;add_dropdown&quot;,&quot;label&quot;:&quot;new gist&quot;}" data-targets="action-list.items" role="none" data-view-component="true" class="ActionListItem">
    
    <a href="https://gist.github.com/" tabindex="-1" id="item-2787707c-455d-4c4d-9b37-0441e6778311" role="menuitem" data-view-component="true" class="ActionListContent ActionListContent--visual16">
        <span class="ActionListItem-visual ActionListItem-visual--leading">
          <svg aria-hidden="true" height="16" viewBox="0 0 16 16" version="1.1" width="16" data-view-component="true" class="octicon octicon-code">
    <path d="m11.28 3.22 4.25 4.25a.75.75 0 0 1 0 1.06l-4.25 4.25a.749.749 0 0 1-1.275-.326.749.749 0 0 1 .215-.734L13.94 8l-3.72-3.72a.749.749 0 0 1 .326-1.275.749.749 0 0 1 .734.215Zm-6.56 0a.751.751 0 0 1 1.042.018.751.751 0 0 1 .018 1.042L2.06 8l3.72 3.72a.749.749 0 0 1-.326 1.275.749.749 0 0 1-.734-.215L.47 8.53a.75.75 0 0 1 0-1.06Z"></path>
</svg>
        </span>
      
        <span data-view-component="true" class="ActionListItem-label">
                New gist

</span></a>
  
  
</li>
      <li role="presentation" aria-hidden="true" data-view-component="true" class="ActionList-sectionDivider"></li>
      <li data-targets="action-list.items" role="none" data-view-component="true" class="ActionListItem">
    
    <a href="/account/organizations/new" tabindex="-1" data-dont-follow-via-test="true" data-analytics-event="{&quot;category&quot;:&quot;SiteHeaderComponent&quot;,&quot;action&quot;:&quot;add_dropdown&quot;,&quot;label&quot;:&quot;new organization&quot;}" id="item-4ff117d4-a20e-4682-832a-71cae93a0c6b" role="menuitem" data-view-component="true" class="ActionListContent ActionListContent--visual16">
        <span class="ActionListItem-visual ActionListItem-visual--leading">
          <svg aria-hidden="true" height="16" viewBox="0 0 16 16" version="1.1" width="16" data-view-component="true" class="octicon octicon-organization">
    <path d="M1.75 16A1.75 1.75 0 0 1 0 14.25V1.75C0 .784.784 0 1.75 0h8.5C11.216 0 12 .784 12 1.75v12.5c0 .085-.006.168-.018.25h2.268a.25.25 0 0 0 .25-.25V8.285a.25.25 0 0 0-.111-.208l-1.055-.703a.749.749 0 1 1 .832-1.248l1.055.703c.487.325.779.871.779 1.456v5.965A1.75 1.75 0 0 1 14.25 16h-3.5a.766.766 0 0 1-.197-.026c-.099.017-.2.026-.303.026h-3a.75.75 0 0 1-.75-.75V14h-1v1.25a.75.75 0 0 1-.75.75Zm-.25-1.75c0 .138.112.25.25.25H4v-1.25a.75.75 0 0 1 .75-.75h2.5a.75.75 0 0 1 .75.75v1.25h2.25a.25.25 0 0 0 .25-.25V1.75a.25.25 0 0 0-.25-.25h-8.5a.25.25 0 0 0-.25.25ZM3.75 6h.5a.75.75 0 0 1 0 1.5h-.5a.75.75 0 0 1 0-1.5ZM3 3.75A.75.75 0 0 1 3.75 3h.5a.75.75 0 0 1 0 1.5h-.5A.75.75 0 0 1 3 3.75Zm4 3A.75.75 0 0 1 7.75 6h.5a.75.75 0 0 1 0 1.5h-.5A.75.75 0 0 1 7 6.75ZM7.75 3h.5a.75.75 0 0 1 0 1.5h-.5a.75.75 0 0 1 0-1.5ZM3 9.75A.75.75 0 0 1 3.75 9h.5a.75.75 0 0 1 0 1.5h-.5A.75.75 0 0 1 3 9.75ZM7.75 9h.5a.75.75 0 0 1 0 1.5h-.5a.75.75 0 0 1 0-1.5Z"></path>
</svg>
        </span>
      
        <span data-view-component="true" class="ActionListItem-label">
                New organization

</span></a>
  
  
</li>
</ul>  
</div>

</div></anchored-position>  </focus-group>
</action-menu>

          <div data-view-component="true" class="Button-withTooltip">
  <a href="/issues" data-analytics-event="{&quot;category&quot;:&quot;Global navigation&quot;,&quot;action&quot;:&quot;ISSUES_HEADER&quot;,&quot;label&quot;:null}" id="icon-button-e313dfcc-7c88-47dd-bcd3-5b7005ade4d9" aria-labelledby="tooltip-af51d004-089d-4ccd-a2f2-f570950d26df" data-view-component="true" class="Button Button--iconOnly Button--secondary Button--medium AppHeader-button color-fg-muted">    <svg aria-hidden="true" height="16" viewBox="0 0 16 16" version="1.1" width="16" data-view-component="true" class="octicon octicon-issue-opened Button-visual">
    <path d="M8 9.5a1.5 1.5 0 1 0 0-3 1.5 1.5 0 0 0 0 3Z"></path><path d="M8 0a8 8 0 1 1 0 16A8 8 0 0 1 8 0ZM1.5 8a6.5 6.5 0 1 0 13 0 6.5 6.5 0 0 0-13 0Z"></path>
</svg>
</a>  <tool-tip id="tooltip-af51d004-089d-4ccd-a2f2-f570950d26df" for="icon-button-e313dfcc-7c88-47dd-bcd3-5b7005ade4d9" popover="manual" data-direction="s" data-type="label" data-view-component="true" class="sr-only position-absolute">Issues</tool-tip>
</div>
          <div data-view-component="true" class="Button-withTooltip">
  <a href="/pulls" data-analytics-event="{&quot;category&quot;:&quot;Global navigation&quot;,&quot;action&quot;:&quot;PULL_REQUESTS_HEADER&quot;,&quot;label&quot;:null}" id="icon-button-0b5c2aed-a52e-4f31-9918-629595f48601" aria-labelledby="tooltip-3eae4b52-7978-4815-bf39-f7a5c81ac152" data-view-component="true" class="Button Button--iconOnly Button--secondary Button--medium AppHeader-button color-fg-muted">    <svg aria-hidden="true" height="16" viewBox="0 0 16 16" version="1.1" width="16" data-view-component="true" class="octicon octicon-git-pull-request Button-visual">
    <path d="M1.5 3.25a2.25 2.25 0 1 1 3 2.122v5.256a2.251 2.251 0 1 1-1.5 0V5.372A2.25 2.25 0 0 1 1.5 3.25Zm5.677-.177L9.573.677A.25.25 0 0 1 10 .854V2.5h1A2.5 2.5 0 0 1 13.5 5v5.628a2.251 2.251 0 1 1-1.5 0V5a1 1 0 0 0-1-1h-1v1.646a.25.25 0 0 1-.427.177L7.177 3.427a.25.25 0 0 1 0-.354ZM3.75 2.5a.75.75 0 1 0 0 1.5.75.75 0 0 0 0-1.5Zm0 9.5a.75.75 0 1 0 0 1.5.75.75 0 0 0 0-1.5Zm8.25.75a.75.75 0 1 0 1.5 0 .75.75 0 0 0-1.5 0Z"></path>
</svg>
</a>  <tool-tip id="tooltip-3eae4b52-7978-4815-bf39-f7a5c81ac152" for="icon-button-0b5c2aed-a52e-4f31-9918-629595f48601" popover="manual" data-direction="s" data-type="label" data-view-component="true" class="sr-only position-absolute">Pull requests</tool-tip>
</div>

        </div>

        

<notification-indicator data-channel="eyJjIjoibm90aWZpY2F0aW9uLWNoYW5nZWQ6MTM4MzcwNDY4IiwidCI6MTY5OTU5NjY3Nn0=--f91bf534c2c34e27832ac409b495d1881f5493069852968ea1f633034797c36b" data-indicator-mode="none" data-tooltip-global="You have unread notifications" data-tooltip-unavailable="Notifications are unavailable at the moment." data-tooltip-none="You have no unread notifications" data-header-redesign-enabled="true" data-fetch-indicator-src="/notifications/indicator" data-fetch-indicator-enabled="true" data-view-component="true" class="js-socket-channel">
  <a id="AppHeader-notifications-button" href="/notifications"
    class="AppHeader-button Button--secondary"

    style="width:32px;height:32px;"

    data-hotkey="g n"
    data-target="notification-indicator.link"
    aria-label="Notifications"

      data-analytics-event="{&quot;category&quot;:&quot;SiteHeaderComponent&quot;,&quot;action&quot;:&quot;notifications&quot;,&quot;label&quot;:null}"
  >

    <span
      data-target="notification-indicator.badge"
      class="mail-status unread d-none" hidden>
    </span>

      <svg aria-hidden="true" height="16" viewBox="0 0 16 16" version="1.1" width="16" data-view-component="true" class="octicon octicon-inbox color-fg-muted mr-0">
    <path d="M2.8 2.06A1.75 1.75 0 0 1 4.41 1h7.18c.7 0 1.333.417 1.61 1.06l2.74 6.395c.04.093.06.194.06.295v4.5A1.75 1.75 0 0 1 14.25 15H1.75A1.75 1.75 0 0 1 0 13.25v-4.5c0-.101.02-.202.06-.295Zm1.61.44a.25.25 0 0 0-.23.152L1.887 8H4.75a.75.75 0 0 1 .6.3L6.625 10h2.75l1.275-1.7a.75.75 0 0 1 .6-.3h2.863L11.82 2.652a.25.25 0 0 0-.23-.152Zm10.09 7h-2.875l-1.275 1.7a.75.75 0 0 1-.6.3h-3.5a.75.75 0 0 1-.6-.3L4.375 9.5H1.5v3.75c0 .138.112.25.25.25h12.5a.25.25 0 0 0 .25-.25Z"></path>
</svg>
  </a>

    <tool-tip data-target="notification-indicator.tooltip" id="tooltip-8ce3f441-7c43-4e4e-a260-97ce1b95f78d" for="AppHeader-notifications-button" popover="manual" data-direction="s" data-type="description" data-view-component="true" class="sr-only position-absolute">Notifications</tool-tip>
</notification-indicator>

        

        <div class="AppHeader-user">
          <deferred-side-panel data-url="/_side-panels/user?memex_enabled=true&amp;repository=tensorflow-deep-learning&amp;user=mail2maverick&amp;user_can_create_organizations=true&amp;user_id=138370468">
  <include-fragment data-target="deferred-side-panel.fragment">
      <user-drawer-side-panel>
      <button aria-label="Open user account menu" data-action="click:deferred-side-panel#loadPanel click:deferred-side-panel#panelOpened" data-show-dialog-id="dialog-6902268f-6675-472e-b21a-2956c82f77fc" id="dialog-show-dialog-6902268f-6675-472e-b21a-2956c82f77fc" type="button" data-view-component="true" class="AppHeader-logo Button--invisible Button--medium Button Button--invisible-noVisuals color-bg-transparent p-0">    <span class="Button-content">
      <span class="Button-label"><img src="https://avatars.githubusercontent.com/u/138370468?v=4" alt="" size="32" height="32" width="32" data-view-component="true" class="avatar circle" /></span>
    </span>
</button>  

<div class="Overlay--hidden Overlay-backdrop--side Overlay-backdrop--placement-right" data-modal-dialog-overlay>
  <modal-dialog data-target="deferred-side-panel.panel" role="dialog" id="dialog-6902268f-6675-472e-b21a-2956c82f77fc" aria-modal="true" aria-disabled="true" aria-labelledby="dialog-6902268f-6675-472e-b21a-2956c82f77fc-title" aria-describedby="dialog-6902268f-6675-472e-b21a-2956c82f77fc-description" data-view-component="true" class="Overlay Overlay-whenNarrow Overlay--size-small-portrait Overlay--motion-scaleFade SidePanel">
    <div styles="flex-direction: row;" data-view-component="true" class="Overlay-header">
  <div class="Overlay-headerContentWrap">
    <div class="Overlay-titleWrap">
      <h1 class="Overlay-title sr-only" id="dialog-6902268f-6675-472e-b21a-2956c82f77fc-title">
        Account menu
      </h1>
            <div data-view-component="true" class="d-flex">
      <div data-view-component="true" class="AppHeader-logo position-relative">
        <img src="https://avatars.githubusercontent.com/u/138370468?v=4" alt="" size="32" height="32" width="32" data-view-component="true" class="avatar circle" />
</div>        <div data-view-component="true" class="overflow-hidden d-flex width-full">        <div data-view-component="true" class="lh-condensed overflow-hidden d-flex flex-column flex-justify-center ml-2 f5 mr-auto width-full">
          <span data-view-component="true" class="Truncate text-bold">
    <span data-view-component="true" class="Truncate-text">
            mail2maverick
</span>
</span>          </div>
</div>
</div>
    </div>
    <div class="Overlay-actionWrap">
      <button data-close-dialog-id="dialog-6902268f-6675-472e-b21a-2956c82f77fc" aria-label="Close" type="button" data-view-component="true" class="close-button Overlay-closeButton"><svg aria-hidden="true" height="16" viewBox="0 0 16 16" version="1.1" width="16" data-view-component="true" class="octicon octicon-x">
    <path d="M3.72 3.72a.75.75 0 0 1 1.06 0L8 6.94l3.22-3.22a.749.749 0 0 1 1.275.326.749.749 0 0 1-.215.734L9.06 8l3.22 3.22a.749.749 0 0 1-.326 1.275.749.749 0 0 1-.734-.215L8 9.06l-3.22 3.22a.751.751 0 0 1-1.042-.018.751.751 0 0 1-.018-1.042L6.94 8 3.72 4.78a.75.75 0 0 1 0-1.06Z"></path>
</svg></button>
    </div>
  </div>
</div>
      <div data-view-component="true" class="Overlay-body d-flex flex-column px-2">    <div data-view-component="true" class="d-flex flex-column mb-3">
        <nav aria-label="User navigation" data-view-component="true" class="ActionList">
  
  <nav-list>
    <ul data-view-component="true" class="ActionListWrap">
        
          
<li data-item-id="" data-targets="nav-list.items" data-view-component="true" class="ActionListItem">
    
    <button id="item-577e2457-1c64-4884-a638-b825fb359145" type="button" data-view-component="true" class="ActionListContent ActionListContent--visual16">
        <span class="ActionListItem-visual ActionListItem-visual--leading">
          <span data-view-component="true" class="d-flex flex-items-center">    <svg style="box-sizing: content-box; color: var(--color-icon-primary);" width="16" height="16" viewBox="0 0 16 16" fill="none" data-view-component="true" class="anim-rotate">
  <circle cx="8" cy="8" r="7" stroke="currentColor" stroke-opacity="0.25" stroke-width="2" vector-effect="non-scaling-stroke" fill="none" />
  <path d="M15 8a7.002 7.002 0 00-7-7" stroke="currentColor" stroke-width="2" stroke-linecap="round" vector-effect="non-scaling-stroke" />
</svg>
</span>
        </span>
      
        <span data-view-component="true" class="ActionListItem-label">
          

  <span class="color-fg-muted">
    Loading...
  </span>

</span></button>
  
  
</li>

        
          <li role="presentation" aria-hidden="true" data-view-component="true" class="ActionList-sectionDivider"></li>
        
          
<li data-item-id="" data-targets="nav-list.items" data-view-component="true" class="ActionListItem">
    
    <a data-analytics-event="{&quot;category&quot;:&quot;Global navigation&quot;,&quot;action&quot;:&quot;PROFILE&quot;,&quot;label&quot;:null}" id="item-a93d6d10-ad3a-4aeb-8a5c-08d60f098996" href="https://github.com/mail2maverick" data-view-component="true" class="ActionListContent ActionListContent--visual16">
        <span class="ActionListItem-visual ActionListItem-visual--leading">
          <svg aria-hidden="true" height="16" viewBox="0 0 16 16" version="1.1" width="16" data-view-component="true" class="octicon octicon-person">
    <path d="M10.561 8.073a6.005 6.005 0 0 1 3.432 5.142.75.75 0 1 1-1.498.07 4.5 4.5 0 0 0-8.99 0 .75.75 0 0 1-1.498-.07 6.004 6.004 0 0 1 3.431-5.142 3.999 3.999 0 1 1 5.123 0ZM10.5 5a2.5 2.5 0 1 0-5 0 2.5 2.5 0 0 0 5 0Z"></path>
</svg>
        </span>
      
        <span data-view-component="true" class="ActionListItem-label">
          Your profile
</span></a>
  
  
</li>

        
          
<li data-item-id="" data-targets="nav-list.items" data-view-component="true" class="ActionListItem">
    
    <button id="item-04f23fd5-0ef2-4673-807d-1b1425d0bbc1" type="button" data-view-component="true" class="ActionListContent ActionListContent--visual16">
        <span class="ActionListItem-visual ActionListItem-visual--leading">
          <span data-view-component="true" class="d-flex flex-items-center">    <svg style="box-sizing: content-box; color: var(--color-icon-primary);" width="16" height="16" viewBox="0 0 16 16" fill="none" data-view-component="true" class="anim-rotate">
  <circle cx="8" cy="8" r="7" stroke="currentColor" stroke-opacity="0.25" stroke-width="2" vector-effect="non-scaling-stroke" fill="none" />
  <path d="M15 8a7.002 7.002 0 00-7-7" stroke="currentColor" stroke-width="2" stroke-linecap="round" vector-effect="non-scaling-stroke" />
</svg>
</span>
        </span>
      
        <span data-view-component="true" class="ActionListItem-label">
          

  <span class="color-fg-muted">
    Loading...
  </span>

</span></button>
  
  
</li>

        
          <li role="presentation" aria-hidden="true" data-view-component="true" class="ActionList-sectionDivider"></li>
        
          
<li data-item-id="" data-targets="nav-list.items" data-view-component="true" class="ActionListItem">
    
    <a data-analytics-event="{&quot;category&quot;:&quot;Global navigation&quot;,&quot;action&quot;:&quot;YOUR_REPOSITORIES&quot;,&quot;label&quot;:null}" id="item-ec12cb03-cce2-4718-a9ca-dec21f7af74a" href="/mail2maverick?tab=repositories" data-view-component="true" class="ActionListContent ActionListContent--visual16">
        <span class="ActionListItem-visual ActionListItem-visual--leading">
          <svg aria-hidden="true" height="16" viewBox="0 0 16 16" version="1.1" width="16" data-view-component="true" class="octicon octicon-repo">
    <path d="M2 2.5A2.5 2.5 0 0 1 4.5 0h8.75a.75.75 0 0 1 .75.75v12.5a.75.75 0 0 1-.75.75h-2.5a.75.75 0 0 1 0-1.5h1.75v-2h-8a1 1 0 0 0-.714 1.7.75.75 0 1 1-1.072 1.05A2.495 2.495 0 0 1 2 11.5Zm10.5-1h-8a1 1 0 0 0-1 1v6.708A2.486 2.486 0 0 1 4.5 9h8ZM5 12.25a.25.25 0 0 1 .25-.25h3.5a.25.25 0 0 1 .25.25v3.25a.25.25 0 0 1-.4.2l-1.45-1.087a.249.249 0 0 0-.3 0L5.4 15.7a.25.25 0 0 1-.4-.2Z"></path>
</svg>
        </span>
      
        <span data-view-component="true" class="ActionListItem-label">
          Your repositories
</span></a>
  
  
</li>

        
          
<li data-item-id="" data-targets="nav-list.items" data-view-component="true" class="ActionListItem">
    
    <a data-analytics-event="{&quot;category&quot;:&quot;Global navigation&quot;,&quot;action&quot;:&quot;YOUR_PROJECTS&quot;,&quot;label&quot;:null}" id="item-cfab9861-c0d9-41ce-a4ce-3aba130d37d5" href="/mail2maverick?tab=projects" data-view-component="true" class="ActionListContent ActionListContent--visual16">
        <span class="ActionListItem-visual ActionListItem-visual--leading">
          <svg aria-hidden="true" height="16" viewBox="0 0 16 16" version="1.1" width="16" data-view-component="true" class="octicon octicon-project">
    <path d="M1.75 0h12.5C15.216 0 16 .784 16 1.75v12.5A1.75 1.75 0 0 1 14.25 16H1.75A1.75 1.75 0 0 1 0 14.25V1.75C0 .784.784 0 1.75 0ZM1.5 1.75v12.5c0 .138.112.25.25.25h12.5a.25.25 0 0 0 .25-.25V1.75a.25.25 0 0 0-.25-.25H1.75a.25.25 0 0 0-.25.25ZM11.75 3a.75.75 0 0 1 .75.75v7.5a.75.75 0 0 1-1.5 0v-7.5a.75.75 0 0 1 .75-.75Zm-8.25.75a.75.75 0 0 1 1.5 0v5.5a.75.75 0 0 1-1.5 0ZM8 3a.75.75 0 0 1 .75.75v3.5a.75.75 0 0 1-1.5 0v-3.5A.75.75 0 0 1 8 3Z"></path>
</svg>
        </span>
      
        <span data-view-component="true" class="ActionListItem-label">
          Your projects
</span></a>
  
  
</li>

        
          
<li data-item-id="" data-targets="nav-list.items" data-view-component="true" class="ActionListItem">
    
    <button id="item-0a823bbc-1752-4cf2-87a4-a458e93a7e75" type="button" data-view-component="true" class="ActionListContent ActionListContent--visual16">
        <span class="ActionListItem-visual ActionListItem-visual--leading">
          <span data-view-component="true" class="d-flex flex-items-center">    <svg style="box-sizing: content-box; color: var(--color-icon-primary);" width="16" height="16" viewBox="0 0 16 16" fill="none" data-view-component="true" class="anim-rotate">
  <circle cx="8" cy="8" r="7" stroke="currentColor" stroke-opacity="0.25" stroke-width="2" vector-effect="non-scaling-stroke" fill="none" />
  <path d="M15 8a7.002 7.002 0 00-7-7" stroke="currentColor" stroke-width="2" stroke-linecap="round" vector-effect="non-scaling-stroke" />
</svg>
</span>
        </span>
      
        <span data-view-component="true" class="ActionListItem-label">
          

  <span class="color-fg-muted">
    Loading...
  </span>

</span></button>
  
  
</li>

        
          
<li data-item-id="" data-targets="nav-list.items" data-view-component="true" class="ActionListItem">
    
    <a data-analytics-event="{&quot;category&quot;:&quot;Global navigation&quot;,&quot;action&quot;:&quot;YOUR_STARS&quot;,&quot;label&quot;:null}" id="item-eb92c6ff-2077-4782-a8b8-8125f2621b8a" href="/mail2maverick?tab=stars" data-view-component="true" class="ActionListContent ActionListContent--visual16">
        <span class="ActionListItem-visual ActionListItem-visual--leading">
          <svg aria-hidden="true" height="16" viewBox="0 0 16 16" version="1.1" width="16" data-view-component="true" class="octicon octicon-star">
    <path d="M8 .25a.75.75 0 0 1 .673.418l1.882 3.815 4.21.612a.75.75 0 0 1 .416 1.279l-3.046 2.97.719 4.192a.751.751 0 0 1-1.088.791L8 12.347l-3.766 1.98a.75.75 0 0 1-1.088-.79l.72-4.194L.818 6.374a.75.75 0 0 1 .416-1.28l4.21-.611L7.327.668A.75.75 0 0 1 8 .25Zm0 2.445L6.615 5.5a.75.75 0 0 1-.564.41l-3.097.45 2.24 2.184a.75.75 0 0 1 .216.664l-.528 3.084 2.769-1.456a.75.75 0 0 1 .698 0l2.77 1.456-.53-3.084a.75.75 0 0 1 .216-.664l2.24-2.183-3.096-.45a.75.75 0 0 1-.564-.41L8 2.694Z"></path>
</svg>
        </span>
      
        <span data-view-component="true" class="ActionListItem-label">
          Your stars
</span></a>
  
  
</li>

        
          
<li data-item-id="" data-targets="nav-list.items" data-view-component="true" class="ActionListItem">
    
    <a data-analytics-event="{&quot;category&quot;:&quot;Global navigation&quot;,&quot;action&quot;:&quot;SPONSORS&quot;,&quot;label&quot;:null}" id="item-a31fa42f-9cac-413d-8be0-feed6944f2ee" href="/sponsors/accounts" data-view-component="true" class="ActionListContent ActionListContent--visual16">
        <span class="ActionListItem-visual ActionListItem-visual--leading">
          <svg aria-hidden="true" height="16" viewBox="0 0 16 16" version="1.1" width="16" data-view-component="true" class="octicon octicon-heart">
    <path d="m8 14.25.345.666a.75.75 0 0 1-.69 0l-.008-.004-.018-.01a7.152 7.152 0 0 1-.31-.17 22.055 22.055 0 0 1-3.434-2.414C2.045 10.731 0 8.35 0 5.5 0 2.836 2.086 1 4.25 1 5.797 1 7.153 1.802 8 3.02 8.847 1.802 10.203 1 11.75 1 13.914 1 16 2.836 16 5.5c0 2.85-2.045 5.231-3.885 6.818a22.066 22.066 0 0 1-3.744 2.584l-.018.01-.006.003h-.002ZM4.25 2.5c-1.336 0-2.75 1.164-2.75 3 0 2.15 1.58 4.144 3.365 5.682A20.58 20.58 0 0 0 8 13.393a20.58 20.58 0 0 0 3.135-2.211C12.92 9.644 14.5 7.65 14.5 5.5c0-1.836-1.414-3-2.75-3-1.373 0-2.609.986-3.029 2.456a.749.749 0 0 1-1.442 0C6.859 3.486 5.623 2.5 4.25 2.5Z"></path>
</svg>
        </span>
      
        <span data-view-component="true" class="ActionListItem-label">
          Your sponsors
</span></a>
  
  
</li>

        
          
<li data-item-id="" data-targets="nav-list.items" data-view-component="true" class="ActionListItem">
    
    <a data-analytics-event="{&quot;category&quot;:&quot;Global navigation&quot;,&quot;action&quot;:&quot;YOUR_GISTS&quot;,&quot;label&quot;:null}" id="item-860258dd-7c09-4903-9a25-a9e93efca322" href="https://gist.github.com/mine" data-view-component="true" class="ActionListContent ActionListContent--visual16">
        <span class="ActionListItem-visual ActionListItem-visual--leading">
          <svg aria-hidden="true" height="16" viewBox="0 0 16 16" version="1.1" width="16" data-view-component="true" class="octicon octicon-code-square">
    <path d="M0 1.75C0 .784.784 0 1.75 0h12.5C15.216 0 16 .784 16 1.75v12.5A1.75 1.75 0 0 1 14.25 16H1.75A1.75 1.75 0 0 1 0 14.25Zm1.75-.25a.25.25 0 0 0-.25.25v12.5c0 .138.112.25.25.25h12.5a.25.25 0 0 0 .25-.25V1.75a.25.25 0 0 0-.25-.25Zm7.47 3.97a.75.75 0 0 1 1.06 0l2 2a.75.75 0 0 1 0 1.06l-2 2a.749.749 0 0 1-1.275-.326.749.749 0 0 1 .215-.734L10.69 8 9.22 6.53a.75.75 0 0 1 0-1.06ZM6.78 6.53 5.31 8l1.47 1.47a.749.749 0 0 1-.326 1.275.749.749 0 0 1-.734-.215l-2-2a.75.75 0 0 1 0-1.06l2-2a.751.751 0 0 1 1.042.018.751.751 0 0 1 .018 1.042Z"></path>
</svg>
        </span>
      
        <span data-view-component="true" class="ActionListItem-label">
          Your gists
</span></a>
  
  
</li>

        
          <li role="presentation" aria-hidden="true" data-view-component="true" class="ActionList-sectionDivider"></li>
        
          
<li data-item-id="" data-targets="nav-list.items" data-view-component="true" class="ActionListItem">
    
    <button id="item-66a800cd-d600-477c-b0da-cbfc846518ef" type="button" data-view-component="true" class="ActionListContent ActionListContent--visual16">
        <span class="ActionListItem-visual ActionListItem-visual--leading">
          <span data-view-component="true" class="d-flex flex-items-center">    <svg style="box-sizing: content-box; color: var(--color-icon-primary);" width="16" height="16" viewBox="0 0 16 16" fill="none" data-view-component="true" class="anim-rotate">
  <circle cx="8" cy="8" r="7" stroke="currentColor" stroke-opacity="0.25" stroke-width="2" vector-effect="non-scaling-stroke" fill="none" />
  <path d="M15 8a7.002 7.002 0 00-7-7" stroke="currentColor" stroke-width="2" stroke-linecap="round" vector-effect="non-scaling-stroke" />
</svg>
</span>
        </span>
      
        <span data-view-component="true" class="ActionListItem-label">
          

  <span class="color-fg-muted">
    Loading...
  </span>

</span></button>
  
  
</li>

        
          
<li data-item-id="" data-targets="nav-list.items" data-view-component="true" class="ActionListItem">
    
    <button id="item-8674871d-045d-4d54-a8b1-790904b179e7" type="button" data-view-component="true" class="ActionListContent ActionListContent--visual16">
        <span class="ActionListItem-visual ActionListItem-visual--leading">
          <span data-view-component="true" class="d-flex flex-items-center">    <svg style="box-sizing: content-box; color: var(--color-icon-primary);" width="16" height="16" viewBox="0 0 16 16" fill="none" data-view-component="true" class="anim-rotate">
  <circle cx="8" cy="8" r="7" stroke="currentColor" stroke-opacity="0.25" stroke-width="2" vector-effect="non-scaling-stroke" fill="none" />
  <path d="M15 8a7.002 7.002 0 00-7-7" stroke="currentColor" stroke-width="2" stroke-linecap="round" vector-effect="non-scaling-stroke" />
</svg>
</span>
        </span>
      
        <span data-view-component="true" class="ActionListItem-label">
          

  <span class="color-fg-muted">
    Loading...
  </span>

</span></button>
  
  
</li>

        
          
<li data-item-id="" data-targets="nav-list.items" data-view-component="true" class="ActionListItem">
    
    <button id="item-135db4df-4f00-4ca5-99d2-06ad3341e4ce" type="button" data-view-component="true" class="ActionListContent ActionListContent--visual16">
        <span class="ActionListItem-visual ActionListItem-visual--leading">
          <span data-view-component="true" class="d-flex flex-items-center">    <svg style="box-sizing: content-box; color: var(--color-icon-primary);" width="16" height="16" viewBox="0 0 16 16" fill="none" data-view-component="true" class="anim-rotate">
  <circle cx="8" cy="8" r="7" stroke="currentColor" stroke-opacity="0.25" stroke-width="2" vector-effect="non-scaling-stroke" fill="none" />
  <path d="M15 8a7.002 7.002 0 00-7-7" stroke="currentColor" stroke-width="2" stroke-linecap="round" vector-effect="non-scaling-stroke" />
</svg>
</span>
        </span>
      
        <span data-view-component="true" class="ActionListItem-label">
          

  <span class="color-fg-muted">
    Loading...
  </span>

</span></button>
  
  
</li>

        
          
<li data-item-id="" data-targets="nav-list.items" data-view-component="true" class="ActionListItem">
    
    <a data-analytics-event="{&quot;category&quot;:&quot;Global navigation&quot;,&quot;action&quot;:&quot;SETTINGS&quot;,&quot;label&quot;:null}" id="item-cef68e5c-c2f4-422b-afdf-6792bc184946" href="/settings/profile" data-view-component="true" class="ActionListContent ActionListContent--visual16">
        <span class="ActionListItem-visual ActionListItem-visual--leading">
          <svg aria-hidden="true" height="16" viewBox="0 0 16 16" version="1.1" width="16" data-view-component="true" class="octicon octicon-gear">
    <path d="M8 0a8.2 8.2 0 0 1 .701.031C9.444.095 9.99.645 10.16 1.29l.288 1.107c.018.066.079.158.212.224.231.114.454.243.668.386.123.082.233.09.299.071l1.103-.303c.644-.176 1.392.021 1.82.63.27.385.506.792.704 1.218.315.675.111 1.422-.364 1.891l-.814.806c-.049.048-.098.147-.088.294.016.257.016.515 0 .772-.01.147.038.246.088.294l.814.806c.475.469.679 1.216.364 1.891a7.977 7.977 0 0 1-.704 1.217c-.428.61-1.176.807-1.82.63l-1.102-.302c-.067-.019-.177-.011-.3.071a5.909 5.909 0 0 1-.668.386c-.133.066-.194.158-.211.224l-.29 1.106c-.168.646-.715 1.196-1.458 1.26a8.006 8.006 0 0 1-1.402 0c-.743-.064-1.289-.614-1.458-1.26l-.289-1.106c-.018-.066-.079-.158-.212-.224a5.738 5.738 0 0 1-.668-.386c-.123-.082-.233-.09-.299-.071l-1.103.303c-.644.176-1.392-.021-1.82-.63a8.12 8.12 0 0 1-.704-1.218c-.315-.675-.111-1.422.363-1.891l.815-.806c.05-.048.098-.147.088-.294a6.214 6.214 0 0 1 0-.772c.01-.147-.038-.246-.088-.294l-.815-.806C.635 6.045.431 5.298.746 4.623a7.92 7.92 0 0 1 .704-1.217c.428-.61 1.176-.807 1.82-.63l1.102.302c.067.019.177.011.3-.071.214-.143.437-.272.668-.386.133-.066.194-.158.211-.224l.29-1.106C6.009.645 6.556.095 7.299.03 7.53.01 7.764 0 8 0Zm-.571 1.525c-.036.003-.108.036-.137.146l-.289 1.105c-.147.561-.549.967-.998 1.189-.173.086-.34.183-.5.29-.417.278-.97.423-1.529.27l-1.103-.303c-.109-.03-.175.016-.195.045-.22.312-.412.644-.573.99-.014.031-.021.11.059.19l.815.806c.411.406.562.957.53 1.456a4.709 4.709 0 0 0 0 .582c.032.499-.119 1.05-.53 1.456l-.815.806c-.081.08-.073.159-.059.19.162.346.353.677.573.989.02.03.085.076.195.046l1.102-.303c.56-.153 1.113-.008 1.53.27.161.107.328.204.501.29.447.222.85.629.997 1.189l.289 1.105c.029.109.101.143.137.146a6.6 6.6 0 0 0 1.142 0c.036-.003.108-.036.137-.146l.289-1.105c.147-.561.549-.967.998-1.189.173-.086.34-.183.5-.29.417-.278.97-.423 1.529-.27l1.103.303c.109.029.175-.016.195-.045.22-.313.411-.644.573-.99.014-.031.021-.11-.059-.19l-.815-.806c-.411-.406-.562-.957-.53-1.456a4.709 4.709 0 0 0 0-.582c-.032-.499.119-1.05.53-1.456l.815-.806c.081-.08.073-.159.059-.19a6.464 6.464 0 0 0-.573-.989c-.02-.03-.085-.076-.195-.046l-1.102.303c-.56.153-1.113.008-1.53-.27a4.44 4.44 0 0 0-.501-.29c-.447-.222-.85-.629-.997-1.189l-.289-1.105c-.029-.11-.101-.143-.137-.146a6.6 6.6 0 0 0-1.142 0ZM11 8a3 3 0 1 1-6 0 3 3 0 0 1 6 0ZM9.5 8a1.5 1.5 0 1 0-3.001.001A1.5 1.5 0 0 0 9.5 8Z"></path>
</svg>
        </span>
      
        <span data-view-component="true" class="ActionListItem-label">
          Settings
</span></a>
  
  
</li>

        
          <li role="presentation" aria-hidden="true" data-view-component="true" class="ActionList-sectionDivider"></li>
        
          
<li data-item-id="" data-targets="nav-list.items" data-view-component="true" class="ActionListItem">
    
    <a data-analytics-event="{&quot;category&quot;:&quot;Global navigation&quot;,&quot;action&quot;:&quot;DOCS&quot;,&quot;label&quot;:null}" id="item-7869033e-3779-4321-b6da-bd6a19f5845c" href="https://docs.github.com" data-view-component="true" class="ActionListContent ActionListContent--visual16">
        <span class="ActionListItem-visual ActionListItem-visual--leading">
          <svg aria-hidden="true" height="16" viewBox="0 0 16 16" version="1.1" width="16" data-view-component="true" class="octicon octicon-book">
    <path d="M0 1.75A.75.75 0 0 1 .75 1h4.253c1.227 0 2.317.59 3 1.501A3.743 3.743 0 0 1 11.006 1h4.245a.75.75 0 0 1 .75.75v10.5a.75.75 0 0 1-.75.75h-4.507a2.25 2.25 0 0 0-1.591.659l-.622.621a.75.75 0 0 1-1.06 0l-.622-.621A2.25 2.25 0 0 0 5.258 13H.75a.75.75 0 0 1-.75-.75Zm7.251 10.324.004-5.073-.002-2.253A2.25 2.25 0 0 0 5.003 2.5H1.5v9h3.757a3.75 3.75 0 0 1 1.994.574ZM8.755 4.75l-.004 7.322a3.752 3.752 0 0 1 1.992-.572H14.5v-9h-3.495a2.25 2.25 0 0 0-2.25 2.25Z"></path>
</svg>
        </span>
      
        <span data-view-component="true" class="ActionListItem-label">
          GitHub Docs
</span></a>
  
  
</li>

        
          
<li data-item-id="" data-targets="nav-list.items" data-view-component="true" class="ActionListItem">
    
    <a data-analytics-event="{&quot;category&quot;:&quot;Global navigation&quot;,&quot;action&quot;:&quot;SUPPORT&quot;,&quot;label&quot;:null}" id="item-a278b619-69f0-4046-8c9e-d5eafb8892d9" href="https://support.github.com" data-view-component="true" class="ActionListContent ActionListContent--visual16">
        <span class="ActionListItem-visual ActionListItem-visual--leading">
          <svg aria-hidden="true" height="16" viewBox="0 0 16 16" version="1.1" width="16" data-view-component="true" class="octicon octicon-people">
    <path d="M2 5.5a3.5 3.5 0 1 1 5.898 2.549 5.508 5.508 0 0 1 3.034 4.084.75.75 0 1 1-1.482.235 4 4 0 0 0-7.9 0 .75.75 0 0 1-1.482-.236A5.507 5.507 0 0 1 3.102 8.05 3.493 3.493 0 0 1 2 5.5ZM11 4a3.001 3.001 0 0 1 2.22 5.018 5.01 5.01 0 0 1 2.56 3.012.749.749 0 0 1-.885.954.752.752 0 0 1-.549-.514 3.507 3.507 0 0 0-2.522-2.372.75.75 0 0 1-.574-.73v-.352a.75.75 0 0 1 .416-.672A1.5 1.5 0 0 0 11 5.5.75.75 0 0 1 11 4Zm-5.5-.5a2 2 0 1 0-.001 3.999A2 2 0 0 0 5.5 3.5Z"></path>
</svg>
        </span>
      
        <span data-view-component="true" class="ActionListItem-label">
          GitHub Support
</span></a>
  
  
</li>

        
          <li role="presentation" aria-hidden="true" data-view-component="true" class="ActionList-sectionDivider"></li>
        
          
<li data-item-id="" data-targets="nav-list.items" data-view-component="true" class="ActionListItem">
    
    <a data-analytics-event="{&quot;category&quot;:&quot;Global navigation&quot;,&quot;action&quot;:&quot;LOGOUT&quot;,&quot;label&quot;:null}" id="item-4f7e28c2-42a5-4e7f-9daf-f45d72a70e33" href="/logout" data-view-component="true" class="ActionListContent">
      
        <span data-view-component="true" class="ActionListItem-label">
          Sign out
</span></a>
  
  
</li>

</ul>  </nav-list>
</nav>


</div>
</div>
      
</modal-dialog></div>
  </user-drawer-side-panel>

  </include-fragment>
</deferred-side-panel>
          
        </div>

        <div class="position-absolute mt-2">
            
<site-header-logged-in-user-menu>

</site-header-logged-in-user-menu>

        </div>
      </div>
    </div>


      <div class="AppHeader-localBar" >
        <nav data-pjax="#js-repo-pjax-container" aria-label="Repository" data-view-component="true" class="js-repo-nav js-sidenav-container-pjax js-responsive-underlinenav overflow-hidden UnderlineNav">

  <ul data-view-component="true" class="UnderlineNav-body list-style-none">
      <li data-view-component="true" class="d-inline-flex">
  <a id="code-tab" href="/mrdbourke/tensorflow-deep-learning" data-tab-item="i0code-tab" data-selected-links="repo_source repo_downloads repo_commits repo_releases repo_tags repo_branches repo_packages repo_deployments repo_attestations /mrdbourke/tensorflow-deep-learning" data-pjax="#repo-content-pjax-container" data-turbo-frame="repo-content-turbo-frame" data-hotkey="g c" data-analytics-event="{&quot;category&quot;:&quot;Underline navbar&quot;,&quot;action&quot;:&quot;Click tab&quot;,&quot;label&quot;:&quot;Code&quot;,&quot;target&quot;:&quot;UNDERLINE_NAV.TAB&quot;}" data-view-component="true" class="UnderlineNav-item no-wrap js-responsive-underlinenav-item js-selected-navigation-item">
    
              <svg aria-hidden="true" height="16" viewBox="0 0 16 16" version="1.1" width="16" data-view-component="true" class="octicon octicon-code UnderlineNav-octicon d-none d-sm-inline">
    <path d="m11.28 3.22 4.25 4.25a.75.75 0 0 1 0 1.06l-4.25 4.25a.749.749 0 0 1-1.275-.326.749.749 0 0 1 .215-.734L13.94 8l-3.72-3.72a.749.749 0 0 1 .326-1.275.749.749 0 0 1 .734.215Zm-6.56 0a.751.751 0 0 1 1.042.018.751.751 0 0 1 .018 1.042L2.06 8l3.72 3.72a.749.749 0 0 1-.326 1.275.749.749 0 0 1-.734-.215L.47 8.53a.75.75 0 0 1 0-1.06Z"></path>
</svg>
        <span data-content="Code">Code</span>
          <span id="code-repo-tab-count" data-pjax-replace="" data-turbo-replace="" title="Not available" data-view-component="true" class="Counter"></span>


    
</a></li>
      <li data-view-component="true" class="d-inline-flex">
  <a id="issues-tab" href="/mrdbourke/tensorflow-deep-learning/issues" data-tab-item="i1issues-tab" data-selected-links="repo_issues repo_labels repo_milestones /mrdbourke/tensorflow-deep-learning/issues" data-pjax="#repo-content-pjax-container" data-turbo-frame="repo-content-turbo-frame" data-hotkey="g i" data-analytics-event="{&quot;category&quot;:&quot;Underline navbar&quot;,&quot;action&quot;:&quot;Click tab&quot;,&quot;label&quot;:&quot;Issues&quot;,&quot;target&quot;:&quot;UNDERLINE_NAV.TAB&quot;}" data-view-component="true" class="UnderlineNav-item no-wrap js-responsive-underlinenav-item js-selected-navigation-item">
    
              <svg aria-hidden="true" height="16" viewBox="0 0 16 16" version="1.1" width="16" data-view-component="true" class="octicon octicon-issue-opened UnderlineNav-octicon d-none d-sm-inline">
    <path d="M8 9.5a1.5 1.5 0 1 0 0-3 1.5 1.5 0 0 0 0 3Z"></path><path d="M8 0a8 8 0 1 1 0 16A8 8 0 0 1 8 0ZM1.5 8a6.5 6.5 0 1 0 13 0 6.5 6.5 0 0 0-13 0Z"></path>
</svg>
        <span data-content="Issues">Issues</span>
          <span id="issues-repo-tab-count" data-pjax-replace="" data-turbo-replace="" title="43" data-view-component="true" class="Counter">43</span>


    
</a></li>
      <li data-view-component="true" class="d-inline-flex">
  <a id="pull-requests-tab" href="/mrdbourke/tensorflow-deep-learning/pulls" data-tab-item="i2pull-requests-tab" data-selected-links="repo_pulls checks /mrdbourke/tensorflow-deep-learning/pulls" data-pjax="#repo-content-pjax-container" data-turbo-frame="repo-content-turbo-frame" data-hotkey="g p" data-analytics-event="{&quot;category&quot;:&quot;Underline navbar&quot;,&quot;action&quot;:&quot;Click tab&quot;,&quot;label&quot;:&quot;Pull requests&quot;,&quot;target&quot;:&quot;UNDERLINE_NAV.TAB&quot;}" data-view-component="true" class="UnderlineNav-item no-wrap js-responsive-underlinenav-item js-selected-navigation-item">
    
              <svg aria-hidden="true" height="16" viewBox="0 0 16 16" version="1.1" width="16" data-view-component="true" class="octicon octicon-git-pull-request UnderlineNav-octicon d-none d-sm-inline">
    <path d="M1.5 3.25a2.25 2.25 0 1 1 3 2.122v5.256a2.251 2.251 0 1 1-1.5 0V5.372A2.25 2.25 0 0 1 1.5 3.25Zm5.677-.177L9.573.677A.25.25 0 0 1 10 .854V2.5h1A2.5 2.5 0 0 1 13.5 5v5.628a2.251 2.251 0 1 1-1.5 0V5a1 1 0 0 0-1-1h-1v1.646a.25.25 0 0 1-.427.177L7.177 3.427a.25.25 0 0 1 0-.354ZM3.75 2.5a.75.75 0 1 0 0 1.5.75.75 0 0 0 0-1.5Zm0 9.5a.75.75 0 1 0 0 1.5.75.75 0 0 0 0-1.5Zm8.25.75a.75.75 0 1 0 1.5 0 .75.75 0 0 0-1.5 0Z"></path>
</svg>
        <span data-content="Pull requests">Pull requests</span>
          <span id="pull-requests-repo-tab-count" data-pjax-replace="" data-turbo-replace="" title="2" data-view-component="true" class="Counter">2</span>


    
</a></li>
      <li data-view-component="true" class="d-inline-flex">
  <a id="discussions-tab" href="/mrdbourke/tensorflow-deep-learning/discussions" data-tab-item="i3discussions-tab" data-selected-links="repo_discussions /mrdbourke/tensorflow-deep-learning/discussions" data-pjax="#repo-content-pjax-container" data-turbo-frame="repo-content-turbo-frame" data-hotkey="g g" data-analytics-event="{&quot;category&quot;:&quot;Underline navbar&quot;,&quot;action&quot;:&quot;Click tab&quot;,&quot;label&quot;:&quot;Discussions&quot;,&quot;target&quot;:&quot;UNDERLINE_NAV.TAB&quot;}" data-view-component="true" class="UnderlineNav-item no-wrap js-responsive-underlinenav-item js-selected-navigation-item">
    
              <svg aria-hidden="true" height="16" viewBox="0 0 16 16" version="1.1" width="16" data-view-component="true" class="octicon octicon-comment-discussion UnderlineNav-octicon d-none d-sm-inline">
    <path d="M1.75 1h8.5c.966 0 1.75.784 1.75 1.75v5.5A1.75 1.75 0 0 1 10.25 10H7.061l-2.574 2.573A1.458 1.458 0 0 1 2 11.543V10h-.25A1.75 1.75 0 0 1 0 8.25v-5.5C0 1.784.784 1 1.75 1ZM1.5 2.75v5.5c0 .138.112.25.25.25h1a.75.75 0 0 1 .75.75v2.19l2.72-2.72a.749.749 0 0 1 .53-.22h3.5a.25.25 0 0 0 .25-.25v-5.5a.25.25 0 0 0-.25-.25h-8.5a.25.25 0 0 0-.25.25Zm13 2a.25.25 0 0 0-.25-.25h-.5a.75.75 0 0 1 0-1.5h.5c.966 0 1.75.784 1.75 1.75v5.5A1.75 1.75 0 0 1 14.25 12H14v1.543a1.458 1.458 0 0 1-2.487 1.03L9.22 12.28a.749.749 0 0 1 .326-1.275.749.749 0 0 1 .734.215l2.22 2.22v-2.19a.75.75 0 0 1 .75-.75h1a.25.25 0 0 0 .25-.25Z"></path>
</svg>
        <span data-content="Discussions">Discussions</span>
          <span id="discussions-repo-tab-count" data-pjax-replace="" data-turbo-replace="" title="Not available" data-view-component="true" class="Counter"></span>


    
</a></li>
      <li data-view-component="true" class="d-inline-flex">
  <a id="actions-tab" href="/mrdbourke/tensorflow-deep-learning/actions" data-tab-item="i4actions-tab" data-selected-links="repo_actions /mrdbourke/tensorflow-deep-learning/actions" data-pjax="#repo-content-pjax-container" data-turbo-frame="repo-content-turbo-frame" data-hotkey="g a" data-analytics-event="{&quot;category&quot;:&quot;Underline navbar&quot;,&quot;action&quot;:&quot;Click tab&quot;,&quot;label&quot;:&quot;Actions&quot;,&quot;target&quot;:&quot;UNDERLINE_NAV.TAB&quot;}" data-view-component="true" class="UnderlineNav-item no-wrap js-responsive-underlinenav-item js-selected-navigation-item">
    
              <svg aria-hidden="true" height="16" viewBox="0 0 16 16" version="1.1" width="16" data-view-component="true" class="octicon octicon-play UnderlineNav-octicon d-none d-sm-inline">
    <path d="M8 0a8 8 0 1 1 0 16A8 8 0 0 1 8 0ZM1.5 8a6.5 6.5 0 1 0 13 0 6.5 6.5 0 0 0-13 0Zm4.879-2.773 4.264 2.559a.25.25 0 0 1 0 .428l-4.264 2.559A.25.25 0 0 1 6 10.559V5.442a.25.25 0 0 1 .379-.215Z"></path>
</svg>
        <span data-content="Actions">Actions</span>
          <span id="actions-repo-tab-count" data-pjax-replace="" data-turbo-replace="" title="Not available" data-view-component="true" class="Counter"></span>


    
</a></li>
      <li data-view-component="true" class="d-inline-flex">
  <a id="projects-tab" href="/mrdbourke/tensorflow-deep-learning/projects" data-tab-item="i5projects-tab" data-selected-links="repo_projects new_repo_project repo_project /mrdbourke/tensorflow-deep-learning/projects" data-pjax="#repo-content-pjax-container" data-turbo-frame="repo-content-turbo-frame" data-hotkey="g b" data-analytics-event="{&quot;category&quot;:&quot;Underline navbar&quot;,&quot;action&quot;:&quot;Click tab&quot;,&quot;label&quot;:&quot;Projects&quot;,&quot;target&quot;:&quot;UNDERLINE_NAV.TAB&quot;}" data-view-component="true" class="UnderlineNav-item no-wrap js-responsive-underlinenav-item js-selected-navigation-item">
    
              <svg aria-hidden="true" height="16" viewBox="0 0 16 16" version="1.1" width="16" data-view-component="true" class="octicon octicon-table UnderlineNav-octicon d-none d-sm-inline">
    <path d="M0 1.75C0 .784.784 0 1.75 0h12.5C15.216 0 16 .784 16 1.75v12.5A1.75 1.75 0 0 1 14.25 16H1.75A1.75 1.75 0 0 1 0 14.25ZM6.5 6.5v8h7.75a.25.25 0 0 0 .25-.25V6.5Zm8-1.5V1.75a.25.25 0 0 0-.25-.25H6.5V5Zm-13 1.5v7.75c0 .138.112.25.25.25H5v-8ZM5 5V1.5H1.75a.25.25 0 0 0-.25.25V5Z"></path>
</svg>
        <span data-content="Projects">Projects</span>
          <span id="projects-repo-tab-count" data-pjax-replace="" data-turbo-replace="" title="1" data-view-component="true" class="Counter">1</span>


    
</a></li>
      <li data-view-component="true" class="d-inline-flex">
  <a id="security-tab" href="/mrdbourke/tensorflow-deep-learning/security" data-tab-item="i6security-tab" data-selected-links="security overview alerts policy token_scanning code_scanning /mrdbourke/tensorflow-deep-learning/security" data-pjax="#repo-content-pjax-container" data-turbo-frame="repo-content-turbo-frame" data-hotkey="g s" data-analytics-event="{&quot;category&quot;:&quot;Underline navbar&quot;,&quot;action&quot;:&quot;Click tab&quot;,&quot;label&quot;:&quot;Security&quot;,&quot;target&quot;:&quot;UNDERLINE_NAV.TAB&quot;}" data-view-component="true" class="UnderlineNav-item no-wrap js-responsive-underlinenav-item js-selected-navigation-item">
    
              <svg aria-hidden="true" height="16" viewBox="0 0 16 16" version="1.1" width="16" data-view-component="true" class="octicon octicon-shield UnderlineNav-octicon d-none d-sm-inline">
    <path d="M7.467.133a1.748 1.748 0 0 1 1.066 0l5.25 1.68A1.75 1.75 0 0 1 15 3.48V7c0 1.566-.32 3.182-1.303 4.682-.983 1.498-2.585 2.813-5.032 3.855a1.697 1.697 0 0 1-1.33 0c-2.447-1.042-4.049-2.357-5.032-3.855C1.32 10.182 1 8.566 1 7V3.48a1.75 1.75 0 0 1 1.217-1.667Zm.61 1.429a.25.25 0 0 0-.153 0l-5.25 1.68a.25.25 0 0 0-.174.238V7c0 1.358.275 2.666 1.057 3.86.784 1.194 2.121 2.34 4.366 3.297a.196.196 0 0 0 .154 0c2.245-.956 3.582-2.104 4.366-3.298C13.225 9.666 13.5 8.36 13.5 7V3.48a.251.251 0 0 0-.174-.237l-5.25-1.68ZM8.75 4.75v3a.75.75 0 0 1-1.5 0v-3a.75.75 0 0 1 1.5 0ZM9 10.5a1 1 0 1 1-2 0 1 1 0 0 1 2 0Z"></path>
</svg>
        <span data-content="Security">Security</span>
          <include-fragment src="/mrdbourke/tensorflow-deep-learning/security/overall-count" accept="text/fragment+html"></include-fragment>

    
</a></li>
      <li data-view-component="true" class="d-inline-flex">
  <a id="insights-tab" href="/mrdbourke/tensorflow-deep-learning/pulse" data-tab-item="i7insights-tab" data-selected-links="repo_graphs repo_contributors dependency_graph dependabot_updates pulse people community /mrdbourke/tensorflow-deep-learning/pulse" data-pjax="#repo-content-pjax-container" data-turbo-frame="repo-content-turbo-frame" data-analytics-event="{&quot;category&quot;:&quot;Underline navbar&quot;,&quot;action&quot;:&quot;Click tab&quot;,&quot;label&quot;:&quot;Insights&quot;,&quot;target&quot;:&quot;UNDERLINE_NAV.TAB&quot;}" data-view-component="true" class="UnderlineNav-item no-wrap js-responsive-underlinenav-item js-selected-navigation-item">
    
              <svg aria-hidden="true" height="16" viewBox="0 0 16 16" version="1.1" width="16" data-view-component="true" class="octicon octicon-graph UnderlineNav-octicon d-none d-sm-inline">
    <path d="M1.5 1.75V13.5h13.75a.75.75 0 0 1 0 1.5H.75a.75.75 0 0 1-.75-.75V1.75a.75.75 0 0 1 1.5 0Zm14.28 2.53-5.25 5.25a.75.75 0 0 1-1.06 0L7 7.06 4.28 9.78a.751.751 0 0 1-1.042-.018.751.751 0 0 1-.018-1.042l3.25-3.25a.75.75 0 0 1 1.06 0L10 7.94l4.72-4.72a.751.751 0 0 1 1.042.018.751.751 0 0 1 .018 1.042Z"></path>
</svg>
        <span data-content="Insights">Insights</span>
          <span id="insights-repo-tab-count" data-pjax-replace="" data-turbo-replace="" title="Not available" data-view-component="true" class="Counter"></span>


    
</a></li>
</ul>
    <div style="visibility:hidden;" data-view-component="true" class="UnderlineNav-actions js-responsive-underlinenav-overflow position-absolute pr-3 pr-md-4 pr-lg-5 right-0">        <details data-view-component="true" class="details-overlay details-reset position-relative">
    <summary role="button" data-view-component="true">          <div class="UnderlineNav-item mr-0 border-0">
            <svg aria-hidden="true" height="16" viewBox="0 0 16 16" version="1.1" width="16" data-view-component="true" class="octicon octicon-kebab-horizontal">
    <path d="M8 9a1.5 1.5 0 1 0 0-3 1.5 1.5 0 0 0 0 3ZM1.5 9a1.5 1.5 0 1 0 0-3 1.5 1.5 0 0 0 0 3Zm13 0a1.5 1.5 0 1 0 0-3 1.5 1.5 0 0 0 0 3Z"></path>
</svg>
            <span class="sr-only">More</span>
          </div>
</summary>
    <details-menu role="menu" data-view-component="true" class="dropdown-menu dropdown-menu-sw">
          <ul>
              <li data-menu-item="i0code-tab" hidden>
                <a role="menuitem" class="js-selected-navigation-item dropdown-item" data-selected-links="repo_source repo_downloads repo_commits repo_releases repo_tags repo_branches repo_packages repo_deployments repo_attestations /mrdbourke/tensorflow-deep-learning" href="/mrdbourke/tensorflow-deep-learning">
                  Code
</a>              </li>
              <li data-menu-item="i1issues-tab" hidden>
                <a role="menuitem" class="js-selected-navigation-item dropdown-item" data-selected-links="repo_issues repo_labels repo_milestones /mrdbourke/tensorflow-deep-learning/issues" href="/mrdbourke/tensorflow-deep-learning/issues">
                  Issues
</a>              </li>
              <li data-menu-item="i2pull-requests-tab" hidden>
                <a role="menuitem" class="js-selected-navigation-item dropdown-item" data-selected-links="repo_pulls checks /mrdbourke/tensorflow-deep-learning/pulls" href="/mrdbourke/tensorflow-deep-learning/pulls">
                  Pull requests
</a>              </li>
              <li data-menu-item="i3discussions-tab" hidden>
                <a role="menuitem" class="js-selected-navigation-item dropdown-item" data-selected-links="repo_discussions /mrdbourke/tensorflow-deep-learning/discussions" href="/mrdbourke/tensorflow-deep-learning/discussions">
                  Discussions
</a>              </li>
              <li data-menu-item="i4actions-tab" hidden>
                <a role="menuitem" class="js-selected-navigation-item dropdown-item" data-selected-links="repo_actions /mrdbourke/tensorflow-deep-learning/actions" href="/mrdbourke/tensorflow-deep-learning/actions">
                  Actions
</a>              </li>
              <li data-menu-item="i5projects-tab" hidden>
                <a role="menuitem" class="js-selected-navigation-item dropdown-item" data-selected-links="repo_projects new_repo_project repo_project /mrdbourke/tensorflow-deep-learning/projects" href="/mrdbourke/tensorflow-deep-learning/projects">
                  Projects
</a>              </li>
              <li data-menu-item="i6security-tab" hidden>
                <a role="menuitem" class="js-selected-navigation-item dropdown-item" data-selected-links="security overview alerts policy token_scanning code_scanning /mrdbourke/tensorflow-deep-learning/security" href="/mrdbourke/tensorflow-deep-learning/security">
                  Security
</a>              </li>
              <li data-menu-item="i7insights-tab" hidden>
                <a role="menuitem" class="js-selected-navigation-item dropdown-item" data-selected-links="repo_graphs repo_contributors dependency_graph dependabot_updates pulse people community /mrdbourke/tensorflow-deep-learning/pulse" href="/mrdbourke/tensorflow-deep-learning/pulse">
                  Insights
</a>              </li>
          </ul>
</details-menu>
</details></div>
</nav>
      </div>
</header>


      <div hidden="hidden" data-view-component="true" class="js-stale-session-flash stale-session-flash flash flash-warn mb-3">
  
        <svg aria-hidden="true" height="16" viewBox="0 0 16 16" version="1.1" width="16" data-view-component="true" class="octicon octicon-alert">
    <path d="M6.457 1.047c.659-1.234 2.427-1.234 3.086 0l6.082 11.378A1.75 1.75 0 0 1 14.082 15H1.918a1.75 1.75 0 0 1-1.543-2.575Zm1.763.707a.25.25 0 0 0-.44 0L1.698 13.132a.25.25 0 0 0 .22.368h12.164a.25.25 0 0 0 .22-.368Zm.53 3.996v2.5a.75.75 0 0 1-1.5 0v-2.5a.75.75 0 0 1 1.5 0ZM9 11a1 1 0 1 1-2 0 1 1 0 0 1 2 0Z"></path>
</svg>
        <span class="js-stale-session-flash-signed-in" hidden>You signed in with another tab or window. <a class="Link--inTextBlock" href="">Reload</a> to refresh your session.</span>
        <span class="js-stale-session-flash-signed-out" hidden>You signed out in another tab or window. <a class="Link--inTextBlock" href="">Reload</a> to refresh your session.</span>
        <span class="js-stale-session-flash-switched" hidden>You switched accounts on another tab or window. <a class="Link--inTextBlock" href="">Reload</a> to refresh your session.</span>

    <div data-view-component="true" class="flash-close">
  <button id="icon-button-b5534393-c952-4944-9395-dbfbaadd8084" aria-labelledby="tooltip-07dc42a0-54eb-4412-ae4e-e8382d3c534c" type="button" data-view-component="true" class="Button Button--iconOnly Button--invisible Button--medium js-flash-close">    <svg aria-hidden="true" height="16" viewBox="0 0 16 16" version="1.1" width="16" data-view-component="true" class="octicon octicon-x Button-visual">
    <path d="M3.72 3.72a.75.75 0 0 1 1.06 0L8 6.94l3.22-3.22a.749.749 0 0 1 1.275.326.749.749 0 0 1-.215.734L9.06 8l3.22 3.22a.749.749 0 0 1-.326 1.275.749.749 0 0 1-.734-.215L8 9.06l-3.22 3.22a.751.751 0 0 1-1.042-.018.751.751 0 0 1-.018-1.042L6.94 8 3.72 4.78a.75.75 0 0 1 0-1.06Z"></path>
</svg>
</button>  <tool-tip id="tooltip-07dc42a0-54eb-4412-ae4e-e8382d3c534c" for="icon-button-b5534393-c952-4944-9395-dbfbaadd8084" popover="manual" data-direction="s" data-type="label" data-view-component="true" class="sr-only position-absolute">Dismiss alert</tool-tip>
</div>

  
</div>
          
    </div>

  <div id="start-of-content" class="show-on-focus"></div>








    <div id="js-flash-container" data-turbo-replace>





  <template class="js-flash-template">
    
<div class="flash flash-full   {{ className }}">
  <div class="px-2" >
    <button autofocus class="flash-close js-flash-close" type="button" aria-label="Dismiss this message">
      <svg aria-hidden="true" height="16" viewBox="0 0 16 16" version="1.1" width="16" data-view-component="true" class="octicon octicon-x">
    <path d="M3.72 3.72a.75.75 0 0 1 1.06 0L8 6.94l3.22-3.22a.749.749 0 0 1 1.275.326.749.749 0 0 1-.215.734L9.06 8l3.22 3.22a.749.749 0 0 1-.326 1.275.749.749 0 0 1-.734-.215L8 9.06l-3.22 3.22a.751.751 0 0 1-1.042-.018.751.751 0 0 1-.018-1.042L6.94 8 3.72 4.78a.75.75 0 0 1 0-1.06Z"></path>
</svg>
    </button>
    <div aria-atomic="true" role="alert" class="js-flash-alert">
      
      <div>{{ message }}</div>

    </div>
  </div>
</div>
  </template>
</div>


    
    <notification-shelf-watcher data-base-url="https://github.com/notifications/beta/shelf" data-channel="eyJjIjoibm90aWZpY2F0aW9uLWNoYW5nZWQ6MTM4MzcwNDY4IiwidCI6MTY5OTU5NjY3Nn0=--f91bf534c2c34e27832ac409b495d1881f5493069852968ea1f633034797c36b" data-view-component="true" class="js-socket-channel"></notification-shelf-watcher>
  <div hidden data-initial data-target="notification-shelf-watcher.placeholder"></div>






      <details
  class="details-reset details-overlay details-overlay-dark js-command-palette-dialog"
  id="command-palette-pjax-container"
  data-turbo-replace
>
  <summary aria-label="Command palette trigger" tabindex="-1"></summary>
  <details-dialog class="command-palette-details-dialog d-flex flex-column flex-justify-center height-fit" aria-label="Command palette">
    <command-palette
      class="command-palette color-bg-default rounded-3 border color-shadow-small"
      return-to=/mrdbourke/tensorflow-deep-learning/blob/main/video_notebooks/04_transfer_learning_in_tensorflow_part_1_feature_extraction_video.ipynb
      user-id="138370468"
      activation-hotkey="Mod+k,Mod+Alt+k"
      command-mode-hotkey="Mod+Shift+k"
      data-action="
        command-palette-input-ready:command-palette#inputReady
        command-palette-page-stack-updated:command-palette#updateInputScope
        itemsUpdated:command-palette#itemsUpdated
        keydown:command-palette#onKeydown
        loadingStateChanged:command-palette#loadingStateChanged
        selectedItemChanged:command-palette#selectedItemChanged
        pageFetchError:command-palette#pageFetchError
      ">

        <command-palette-mode
          data-char="#"
            data-scope-types="[&quot;&quot;]"
            data-placeholder="Search issues and pull requests"
        ></command-palette-mode>
        <command-palette-mode
          data-char="#"
            data-scope-types="[&quot;owner&quot;,&quot;repository&quot;]"
            data-placeholder="Search issues, pull requests, discussions, and projects"
        ></command-palette-mode>
        <command-palette-mode
          data-char="!"
            data-scope-types="[&quot;owner&quot;,&quot;repository&quot;]"
            data-placeholder="Search projects"
        ></command-palette-mode>
        <command-palette-mode
          data-char="@"
            data-scope-types="[&quot;&quot;]"
            data-placeholder="Search or jump to a user, organization, or repository"
        ></command-palette-mode>
        <command-palette-mode
          data-char="@"
            data-scope-types="[&quot;owner&quot;]"
            data-placeholder="Search or jump to a repository"
        ></command-palette-mode>
        <command-palette-mode
          data-char="/"
            data-scope-types="[&quot;repository&quot;]"
            data-placeholder="Search files"
        ></command-palette-mode>
        <command-palette-mode
          data-char="?"
        ></command-palette-mode>
        <command-palette-mode
          data-char="&gt;"
            data-placeholder="Run a command"
        ></command-palette-mode>
        <command-palette-mode
          data-char=""
            data-scope-types="[&quot;&quot;]"
            data-placeholder="Search or jump to..."
        ></command-palette-mode>
        <command-palette-mode
          data-char=""
            data-scope-types="[&quot;owner&quot;]"
            data-placeholder="Search or jump to..."
        ></command-palette-mode>
      <command-palette-mode
        class="js-command-palette-default-mode"
        data-char=""
        data-placeholder="Search or jump to..."
      ></command-palette-mode>

      <command-palette-input placeholder="Search or jump to..."

        data-action="
          command-palette-input:command-palette#onInput
          command-palette-select:command-palette#onSelect
          command-palette-descope:command-palette#onDescope
          command-palette-cleared:command-palette#onInputClear
        "
      >
        <div class="js-search-icon d-flex flex-items-center mr-2" style="height: 26px">
          <svg aria-hidden="true" height="16" viewBox="0 0 16 16" version="1.1" width="16" data-view-component="true" class="octicon octicon-search color-fg-muted">
    <path d="M10.68 11.74a6 6 0 0 1-7.922-8.982 6 6 0 0 1 8.982 7.922l3.04 3.04a.749.749 0 0 1-.326 1.275.749.749 0 0 1-.734-.215ZM11.5 7a4.499 4.499 0 1 0-8.997 0A4.499 4.499 0 0 0 11.5 7Z"></path>
</svg>
        </div>
        <div class="js-spinner d-flex flex-items-center mr-2 color-fg-muted" hidden>
          <svg aria-label="Loading" class="anim-rotate" viewBox="0 0 16 16" fill="none" width="16" height="16">
            <circle
              cx="8"
              cy="8"
              r="7"
              stroke="currentColor"
              stroke-opacity="0.25"
              stroke-width="2"
              vector-effect="non-scaling-stroke"
            ></circle>
            <path
              d="M15 8a7.002 7.002 0 00-7-7"
              stroke="currentColor"
              stroke-width="2"
              stroke-linecap="round"
              vector-effect="non-scaling-stroke"
            ></path>
          </svg>
        </div>
        <command-palette-scope >
          <div data-target="command-palette-scope.placeholder" hidden class="color-fg-subtle">/&nbsp;&nbsp;<span class="text-semibold color-fg-default">...</span>&nbsp;&nbsp;/&nbsp;&nbsp;</div>
              <command-palette-token
                data-text="mrdbourke"
                data-id="MDQ6VXNlcjE2NzUwMzQ1"
                data-type="owner"
                data-value="mrdbourke"
                data-targets="command-palette-scope.tokens"
                class="color-fg-default text-semibold"
                style="white-space:nowrap;line-height:20px;"
                >mrdbourke<span class="color-fg-subtle text-normal">&nbsp;&nbsp;/&nbsp;&nbsp;</span></command-palette-token>
              <command-palette-token
                data-text="tensorflow-deep-learning"
                data-id="MDEwOlJlcG9zaXRvcnkzMTU0NjMzNDA="
                data-type="repository"
                data-value="tensorflow-deep-learning"
                data-targets="command-palette-scope.tokens"
                class="color-fg-default text-semibold"
                style="white-space:nowrap;line-height:20px;"
                >tensorflow-deep-l...<span class="color-fg-subtle text-normal">&nbsp;&nbsp;/&nbsp;&nbsp;</span></command-palette-token>
        </command-palette-scope>
        <div class="command-palette-input-group flex-1 form-control border-0 box-shadow-none" style="z-index: 0">
          <div class="command-palette-typeahead position-absolute d-flex flex-items-center Truncate">
            <span class="typeahead-segment input-mirror" data-target="command-palette-input.mirror"></span>
            <span class="Truncate-text" data-target="command-palette-input.typeaheadText"></span>
            <span class="typeahead-segment" data-target="command-palette-input.typeaheadPlaceholder"></span>
          </div>
          <input
            class="js-overlay-input typeahead-input d-none"
            disabled
            tabindex="-1"
            aria-label="Hidden input for typeahead"
          >
          <input
            type="text"
            autocomplete="off"
            autocorrect="off"
            autocapitalize="off"
            spellcheck="false"
            class="js-input typeahead-input form-control border-0 box-shadow-none input-block width-full no-focus-indicator"
            aria-label="Command palette input"
            aria-haspopup="listbox"
            aria-expanded="false"
            aria-autocomplete="list"
            aria-controls="command-palette-page-stack"
            role="combobox"
            data-action="
              input:command-palette-input#onInput
              keydown:command-palette-input#onKeydown
            "
          >
        </div>
          <div data-view-component="true" class="position-relative d-inline-block">
    <button aria-keyshortcuts="Control+Backspace" data-action="click:command-palette-input#onClear keypress:command-palette-input#onClear" data-target="command-palette-input.clearButton" id="command-palette-clear-button" hidden="hidden" type="button" data-view-component="true" class="btn-octicon command-palette-input-clear-button">      <svg aria-hidden="true" height="16" viewBox="0 0 16 16" version="1.1" width="16" data-view-component="true" class="octicon octicon-x-circle-fill">
    <path d="M2.343 13.657A8 8 0 1 1 13.658 2.343 8 8 0 0 1 2.343 13.657ZM6.03 4.97a.751.751 0 0 0-1.042.018.751.751 0 0 0-.018 1.042L6.94 8 4.97 9.97a.749.749 0 0 0 .326 1.275.749.749 0 0 0 .734-.215L8 9.06l1.97 1.97a.749.749 0 0 0 1.275-.326.749.749 0 0 0-.215-.734L9.06 8l1.97-1.97a.749.749 0 0 0-.326-1.275.749.749 0 0 0-.734.215L8 6.94Z"></path>
</svg>
</button>    <tool-tip id="tooltip-4dec2c08-553c-49f4-8477-f4b2ce6e9041" for="command-palette-clear-button" popover="manual" data-direction="w" data-type="label" data-view-component="true" class="sr-only position-absolute">Clear Command Palette</tool-tip>
</div>
      </command-palette-input>

      <command-palette-page-stack
        data-default-scope-id="MDEwOlJlcG9zaXRvcnkzMTU0NjMzNDA="
        data-default-scope-type="Repository"
        data-action="command-palette-page-octicons-cached:command-palette-page-stack#cacheOcticons"
      >
          <command-palette-tip
            class="color-fg-muted f6 px-3 py-1 my-2"
              data-scope-types="[&quot;&quot;,&quot;owner&quot;,&quot;repository&quot;]"
            data-mode=""
            data-value="">
            <div class="d-flex flex-items-start flex-justify-between">
              <div>
                <span class="text-bold">Tip:</span>
                  Type <kbd class="hx_kbd">#</kbd> to search pull requests
              </div>
              <div class="ml-2 flex-shrink-0">
                Type <kbd class="hx_kbd">?</kbd> for help and tips
              </div>
            </div>
          </command-palette-tip>
          <command-palette-tip
            class="color-fg-muted f6 px-3 py-1 my-2"
              data-scope-types="[&quot;&quot;,&quot;owner&quot;,&quot;repository&quot;]"
            data-mode=""
            data-value="">
            <div class="d-flex flex-items-start flex-justify-between">
              <div>
                <span class="text-bold">Tip:</span>
                  Type <kbd class="hx_kbd">#</kbd> to search issues
              </div>
              <div class="ml-2 flex-shrink-0">
                Type <kbd class="hx_kbd">?</kbd> for help and tips
              </div>
            </div>
          </command-palette-tip>
          <command-palette-tip
            class="color-fg-muted f6 px-3 py-1 my-2"
              data-scope-types="[&quot;owner&quot;,&quot;repository&quot;]"
            data-mode=""
            data-value="">
            <div class="d-flex flex-items-start flex-justify-between">
              <div>
                <span class="text-bold">Tip:</span>
                  Type <kbd class="hx_kbd">#</kbd> to search discussions
              </div>
              <div class="ml-2 flex-shrink-0">
                Type <kbd class="hx_kbd">?</kbd> for help and tips
              </div>
            </div>
          </command-palette-tip>
          <command-palette-tip
            class="color-fg-muted f6 px-3 py-1 my-2"
              data-scope-types="[&quot;owner&quot;,&quot;repository&quot;]"
            data-mode=""
            data-value="">
            <div class="d-flex flex-items-start flex-justify-between">
              <div>
                <span class="text-bold">Tip:</span>
                  Type <kbd class="hx_kbd">!</kbd> to search projects
              </div>
              <div class="ml-2 flex-shrink-0">
                Type <kbd class="hx_kbd">?</kbd> for help and tips
              </div>
            </div>
          </command-palette-tip>
          <command-palette-tip
            class="color-fg-muted f6 px-3 py-1 my-2"
              data-scope-types="[&quot;owner&quot;]"
            data-mode=""
            data-value="">
            <div class="d-flex flex-items-start flex-justify-between">
              <div>
                <span class="text-bold">Tip:</span>
                  Type <kbd class="hx_kbd">@</kbd> to search teams
              </div>
              <div class="ml-2 flex-shrink-0">
                Type <kbd class="hx_kbd">?</kbd> for help and tips
              </div>
            </div>
          </command-palette-tip>
          <command-palette-tip
            class="color-fg-muted f6 px-3 py-1 my-2"
              data-scope-types="[&quot;&quot;]"
            data-mode=""
            data-value="">
            <div class="d-flex flex-items-start flex-justify-between">
              <div>
                <span class="text-bold">Tip:</span>
                  Type <kbd class="hx_kbd">@</kbd> to search people and organizations
              </div>
              <div class="ml-2 flex-shrink-0">
                Type <kbd class="hx_kbd">?</kbd> for help and tips
              </div>
            </div>
          </command-palette-tip>
          <command-palette-tip
            class="color-fg-muted f6 px-3 py-1 my-2"
              data-scope-types="[&quot;&quot;,&quot;owner&quot;,&quot;repository&quot;]"
            data-mode=""
            data-value="">
            <div class="d-flex flex-items-start flex-justify-between">
              <div>
                <span class="text-bold">Tip:</span>
                  Type <kbd class="hx_kbd">&gt;</kbd> to activate command mode
              </div>
              <div class="ml-2 flex-shrink-0">
                Type <kbd class="hx_kbd">?</kbd> for help and tips
              </div>
            </div>
          </command-palette-tip>
          <command-palette-tip
            class="color-fg-muted f6 px-3 py-1 my-2"
              data-scope-types="[&quot;&quot;,&quot;owner&quot;,&quot;repository&quot;]"
            data-mode=""
            data-value="">
            <div class="d-flex flex-items-start flex-justify-between">
              <div>
                <span class="text-bold">Tip:</span>
                  Go to your accessibility settings to change your keyboard shortcuts
              </div>
              <div class="ml-2 flex-shrink-0">
                Type <kbd class="hx_kbd">?</kbd> for help and tips
              </div>
            </div>
          </command-palette-tip>
          <command-palette-tip
            class="color-fg-muted f6 px-3 py-1 my-2"
              data-scope-types="[&quot;&quot;,&quot;owner&quot;,&quot;repository&quot;]"
            data-mode="#"
            data-value="">
            <div class="d-flex flex-items-start flex-justify-between">
              <div>
                <span class="text-bold">Tip:</span>
                  Type author:@me to search your content
              </div>
              <div class="ml-2 flex-shrink-0">
                Type <kbd class="hx_kbd">?</kbd> for help and tips
              </div>
            </div>
          </command-palette-tip>
          <command-palette-tip
            class="color-fg-muted f6 px-3 py-1 my-2"
              data-scope-types="[&quot;&quot;,&quot;owner&quot;,&quot;repository&quot;]"
            data-mode="#"
            data-value="">
            <div class="d-flex flex-items-start flex-justify-between">
              <div>
                <span class="text-bold">Tip:</span>
                  Type is:pr to filter to pull requests
              </div>
              <div class="ml-2 flex-shrink-0">
                Type <kbd class="hx_kbd">?</kbd> for help and tips
              </div>
            </div>
          </command-palette-tip>
          <command-palette-tip
            class="color-fg-muted f6 px-3 py-1 my-2"
              data-scope-types="[&quot;&quot;,&quot;owner&quot;,&quot;repository&quot;]"
            data-mode="#"
            data-value="">
            <div class="d-flex flex-items-start flex-justify-between">
              <div>
                <span class="text-bold">Tip:</span>
                  Type is:issue to filter to issues
              </div>
              <div class="ml-2 flex-shrink-0">
                Type <kbd class="hx_kbd">?</kbd> for help and tips
              </div>
            </div>
          </command-palette-tip>
          <command-palette-tip
            class="color-fg-muted f6 px-3 py-1 my-2"
              data-scope-types="[&quot;owner&quot;,&quot;repository&quot;]"
            data-mode="#"
            data-value="">
            <div class="d-flex flex-items-start flex-justify-between">
              <div>
                <span class="text-bold">Tip:</span>
                  Type is:project to filter to projects
              </div>
              <div class="ml-2 flex-shrink-0">
                Type <kbd class="hx_kbd">?</kbd> for help and tips
              </div>
            </div>
          </command-palette-tip>
          <command-palette-tip
            class="color-fg-muted f6 px-3 py-1 my-2"
              data-scope-types="[&quot;&quot;,&quot;owner&quot;,&quot;repository&quot;]"
            data-mode="#"
            data-value="">
            <div class="d-flex flex-items-start flex-justify-between">
              <div>
                <span class="text-bold">Tip:</span>
                  Type is:open to filter to open content
              </div>
              <div class="ml-2 flex-shrink-0">
                Type <kbd class="hx_kbd">?</kbd> for help and tips
              </div>
            </div>
          </command-palette-tip>
        <command-palette-tip class="mx-3 my-2 flash flash-error d-flex flex-items-center" data-scope-types="*" data-on-error>
          <div>
            <svg aria-hidden="true" height="16" viewBox="0 0 16 16" version="1.1" width="16" data-view-component="true" class="octicon octicon-alert">
    <path d="M6.457 1.047c.659-1.234 2.427-1.234 3.086 0l6.082 11.378A1.75 1.75 0 0 1 14.082 15H1.918a1.75 1.75 0 0 1-1.543-2.575Zm1.763.707a.25.25 0 0 0-.44 0L1.698 13.132a.25.25 0 0 0 .22.368h12.164a.25.25 0 0 0 .22-.368Zm.53 3.996v2.5a.75.75 0 0 1-1.5 0v-2.5a.75.75 0 0 1 1.5 0ZM9 11a1 1 0 1 1-2 0 1 1 0 0 1 2 0Z"></path>
</svg>
          </div>
          <div class="px-2">
            We’ve encountered an error and some results aren't available at this time. Type a new search or try again later.
          </div>
        </command-palette-tip>
        <command-palette-tip class="h4 color-fg-default pl-3 pb-2 pt-3" data-on-empty data-scope-types="*" data-match-mode="[^?]|^$">
          No results matched your search
        </command-palette-tip>

        <div hidden>

            <div data-targets="command-palette-page-stack.localOcticons" data-octicon-id="arrow-right-color-fg-muted">
              <svg height="16" class="octicon octicon-arrow-right color-fg-muted" viewBox="0 0 16 16" version="1.1" width="16" aria-hidden="true"><path d="M8.22 2.97a.75.75 0 0 1 1.06 0l4.25 4.25a.75.75 0 0 1 0 1.06l-4.25 4.25a.751.751 0 0 1-1.042-.018.751.751 0 0 1-.018-1.042l2.97-2.97H3.75a.75.75 0 0 1 0-1.5h7.44L8.22 4.03a.75.75 0 0 1 0-1.06Z"></path></svg>
            </div>
            <div data-targets="command-palette-page-stack.localOcticons" data-octicon-id="arrow-right-color-fg-default">
              <svg height="16" class="octicon octicon-arrow-right color-fg-default" viewBox="0 0 16 16" version="1.1" width="16" aria-hidden="true"><path d="M8.22 2.97a.75.75 0 0 1 1.06 0l4.25 4.25a.75.75 0 0 1 0 1.06l-4.25 4.25a.751.751 0 0 1-1.042-.018.751.751 0 0 1-.018-1.042l2.97-2.97H3.75a.75.75 0 0 1 0-1.5h7.44L8.22 4.03a.75.75 0 0 1 0-1.06Z"></path></svg>
            </div>
            <div data-targets="command-palette-page-stack.localOcticons" data-octicon-id="codespaces-color-fg-muted">
              <svg height="16" class="octicon octicon-codespaces color-fg-muted" viewBox="0 0 16 16" version="1.1" width="16" aria-hidden="true"><path d="M0 11.25c0-.966.784-1.75 1.75-1.75h12.5c.966 0 1.75.784 1.75 1.75v3A1.75 1.75 0 0 1 14.25 16H1.75A1.75 1.75 0 0 1 0 14.25Zm2-9.5C2 .784 2.784 0 3.75 0h8.5C13.216 0 14 .784 14 1.75v5a1.75 1.75 0 0 1-1.75 1.75h-8.5A1.75 1.75 0 0 1 2 6.75Zm1.75-.25a.25.25 0 0 0-.25.25v5c0 .138.112.25.25.25h8.5a.25.25 0 0 0 .25-.25v-5a.25.25 0 0 0-.25-.25Zm-2 9.5a.25.25 0 0 0-.25.25v3c0 .138.112.25.25.25h12.5a.25.25 0 0 0 .25-.25v-3a.25.25 0 0 0-.25-.25Z"></path><path d="M7 12.75a.75.75 0 0 1 .75-.75h4.5a.75.75 0 0 1 0 1.5h-4.5a.75.75 0 0 1-.75-.75Zm-4 0a.75.75 0 0 1 .75-.75h.5a.75.75 0 0 1 0 1.5h-.5a.75.75 0 0 1-.75-.75Z"></path></svg>
            </div>
            <div data-targets="command-palette-page-stack.localOcticons" data-octicon-id="copy-color-fg-muted">
              <svg height="16" class="octicon octicon-copy color-fg-muted" viewBox="0 0 16 16" version="1.1" width="16" aria-hidden="true"><path d="M0 6.75C0 5.784.784 5 1.75 5h1.5a.75.75 0 0 1 0 1.5h-1.5a.25.25 0 0 0-.25.25v7.5c0 .138.112.25.25.25h7.5a.25.25 0 0 0 .25-.25v-1.5a.75.75 0 0 1 1.5 0v1.5A1.75 1.75 0 0 1 9.25 16h-7.5A1.75 1.75 0 0 1 0 14.25Z"></path><path d="M5 1.75C5 .784 5.784 0 6.75 0h7.5C15.216 0 16 .784 16 1.75v7.5A1.75 1.75 0 0 1 14.25 11h-7.5A1.75 1.75 0 0 1 5 9.25Zm1.75-.25a.25.25 0 0 0-.25.25v7.5c0 .138.112.25.25.25h7.5a.25.25 0 0 0 .25-.25v-7.5a.25.25 0 0 0-.25-.25Z"></path></svg>
            </div>
            <div data-targets="command-palette-page-stack.localOcticons" data-octicon-id="dash-color-fg-muted">
              <svg height="16" class="octicon octicon-dash color-fg-muted" viewBox="0 0 16 16" version="1.1" width="16" aria-hidden="true"><path d="M2 7.75A.75.75 0 0 1 2.75 7h10a.75.75 0 0 1 0 1.5h-10A.75.75 0 0 1 2 7.75Z"></path></svg>
            </div>
            <div data-targets="command-palette-page-stack.localOcticons" data-octicon-id="file-color-fg-muted">
              <svg height="16" class="octicon octicon-file color-fg-muted" viewBox="0 0 16 16" version="1.1" width="16" aria-hidden="true"><path d="M2 1.75C2 .784 2.784 0 3.75 0h6.586c.464 0 .909.184 1.237.513l2.914 2.914c.329.328.513.773.513 1.237v9.586A1.75 1.75 0 0 1 13.25 16h-9.5A1.75 1.75 0 0 1 2 14.25Zm1.75-.25a.25.25 0 0 0-.25.25v12.5c0 .138.112.25.25.25h9.5a.25.25 0 0 0 .25-.25V6h-2.75A1.75 1.75 0 0 1 9 4.25V1.5Zm6.75.062V4.25c0 .138.112.25.25.25h2.688l-.011-.013-2.914-2.914-.013-.011Z"></path></svg>
            </div>
            <div data-targets="command-palette-page-stack.localOcticons" data-octicon-id="gear-color-fg-muted">
              <svg height="16" class="octicon octicon-gear color-fg-muted" viewBox="0 0 16 16" version="1.1" width="16" aria-hidden="true"><path d="M8 0a8.2 8.2 0 0 1 .701.031C9.444.095 9.99.645 10.16 1.29l.288 1.107c.018.066.079.158.212.224.231.114.454.243.668.386.123.082.233.09.299.071l1.103-.303c.644-.176 1.392.021 1.82.63.27.385.506.792.704 1.218.315.675.111 1.422-.364 1.891l-.814.806c-.049.048-.098.147-.088.294.016.257.016.515 0 .772-.01.147.038.246.088.294l.814.806c.475.469.679 1.216.364 1.891a7.977 7.977 0 0 1-.704 1.217c-.428.61-1.176.807-1.82.63l-1.102-.302c-.067-.019-.177-.011-.3.071a5.909 5.909 0 0 1-.668.386c-.133.066-.194.158-.211.224l-.29 1.106c-.168.646-.715 1.196-1.458 1.26a8.006 8.006 0 0 1-1.402 0c-.743-.064-1.289-.614-1.458-1.26l-.289-1.106c-.018-.066-.079-.158-.212-.224a5.738 5.738 0 0 1-.668-.386c-.123-.082-.233-.09-.299-.071l-1.103.303c-.644.176-1.392-.021-1.82-.63a8.12 8.12 0 0 1-.704-1.218c-.315-.675-.111-1.422.363-1.891l.815-.806c.05-.048.098-.147.088-.294a6.214 6.214 0 0 1 0-.772c.01-.147-.038-.246-.088-.294l-.815-.806C.635 6.045.431 5.298.746 4.623a7.92 7.92 0 0 1 .704-1.217c.428-.61 1.176-.807 1.82-.63l1.102.302c.067.019.177.011.3-.071.214-.143.437-.272.668-.386.133-.066.194-.158.211-.224l.29-1.106C6.009.645 6.556.095 7.299.03 7.53.01 7.764 0 8 0Zm-.571 1.525c-.036.003-.108.036-.137.146l-.289 1.105c-.147.561-.549.967-.998 1.189-.173.086-.34.183-.5.29-.417.278-.97.423-1.529.27l-1.103-.303c-.109-.03-.175.016-.195.045-.22.312-.412.644-.573.99-.014.031-.021.11.059.19l.815.806c.411.406.562.957.53 1.456a4.709 4.709 0 0 0 0 .582c.032.499-.119 1.05-.53 1.456l-.815.806c-.081.08-.073.159-.059.19.162.346.353.677.573.989.02.03.085.076.195.046l1.102-.303c.56-.153 1.113-.008 1.53.27.161.107.328.204.501.29.447.222.85.629.997 1.189l.289 1.105c.029.109.101.143.137.146a6.6 6.6 0 0 0 1.142 0c.036-.003.108-.036.137-.146l.289-1.105c.147-.561.549-.967.998-1.189.173-.086.34-.183.5-.29.417-.278.97-.423 1.529-.27l1.103.303c.109.029.175-.016.195-.045.22-.313.411-.644.573-.99.014-.031.021-.11-.059-.19l-.815-.806c-.411-.406-.562-.957-.53-1.456a4.709 4.709 0 0 0 0-.582c-.032-.499.119-1.05.53-1.456l.815-.806c.081-.08.073-.159.059-.19a6.464 6.464 0 0 0-.573-.989c-.02-.03-.085-.076-.195-.046l-1.102.303c-.56.153-1.113.008-1.53-.27a4.44 4.44 0 0 0-.501-.29c-.447-.222-.85-.629-.997-1.189l-.289-1.105c-.029-.11-.101-.143-.137-.146a6.6 6.6 0 0 0-1.142 0ZM11 8a3 3 0 1 1-6 0 3 3 0 0 1 6 0ZM9.5 8a1.5 1.5 0 1 0-3.001.001A1.5 1.5 0 0 0 9.5 8Z"></path></svg>
            </div>
            <div data-targets="command-palette-page-stack.localOcticons" data-octicon-id="lock-color-fg-muted">
              <svg height="16" class="octicon octicon-lock color-fg-muted" viewBox="0 0 16 16" version="1.1" width="16" aria-hidden="true"><path d="M4 4a4 4 0 0 1 8 0v2h.25c.966 0 1.75.784 1.75 1.75v5.5A1.75 1.75 0 0 1 12.25 15h-8.5A1.75 1.75 0 0 1 2 13.25v-5.5C2 6.784 2.784 6 3.75 6H4Zm8.25 3.5h-8.5a.25.25 0 0 0-.25.25v5.5c0 .138.112.25.25.25h8.5a.25.25 0 0 0 .25-.25v-5.5a.25.25 0 0 0-.25-.25ZM10.5 6V4a2.5 2.5 0 1 0-5 0v2Z"></path></svg>
            </div>
            <div data-targets="command-palette-page-stack.localOcticons" data-octicon-id="moon-color-fg-muted">
              <svg height="16" class="octicon octicon-moon color-fg-muted" viewBox="0 0 16 16" version="1.1" width="16" aria-hidden="true"><path d="M9.598 1.591a.749.749 0 0 1 .785-.175 7.001 7.001 0 1 1-8.967 8.967.75.75 0 0 1 .961-.96 5.5 5.5 0 0 0 7.046-7.046.75.75 0 0 1 .175-.786Zm1.616 1.945a7 7 0 0 1-7.678 7.678 5.499 5.499 0 1 0 7.678-7.678Z"></path></svg>
            </div>
            <div data-targets="command-palette-page-stack.localOcticons" data-octicon-id="person-color-fg-muted">
              <svg height="16" class="octicon octicon-person color-fg-muted" viewBox="0 0 16 16" version="1.1" width="16" aria-hidden="true"><path d="M10.561 8.073a6.005 6.005 0 0 1 3.432 5.142.75.75 0 1 1-1.498.07 4.5 4.5 0 0 0-8.99 0 .75.75 0 0 1-1.498-.07 6.004 6.004 0 0 1 3.431-5.142 3.999 3.999 0 1 1 5.123 0ZM10.5 5a2.5 2.5 0 1 0-5 0 2.5 2.5 0 0 0 5 0Z"></path></svg>
            </div>
            <div data-targets="command-palette-page-stack.localOcticons" data-octicon-id="pencil-color-fg-muted">
              <svg height="16" class="octicon octicon-pencil color-fg-muted" viewBox="0 0 16 16" version="1.1" width="16" aria-hidden="true"><path d="M11.013 1.427a1.75 1.75 0 0 1 2.474 0l1.086 1.086a1.75 1.75 0 0 1 0 2.474l-8.61 8.61c-.21.21-.47.364-.756.445l-3.251.93a.75.75 0 0 1-.927-.928l.929-3.25c.081-.286.235-.547.445-.758l8.61-8.61Zm.176 4.823L9.75 4.81l-6.286 6.287a.253.253 0 0 0-.064.108l-.558 1.953 1.953-.558a.253.253 0 0 0 .108-.064Zm1.238-3.763a.25.25 0 0 0-.354 0L10.811 3.75l1.439 1.44 1.263-1.263a.25.25 0 0 0 0-.354Z"></path></svg>
            </div>
            <div data-targets="command-palette-page-stack.localOcticons" data-octicon-id="issue-opened-open">
              <svg height="16" class="octicon octicon-issue-opened open" viewBox="0 0 16 16" version="1.1" width="16" aria-hidden="true"><path d="M8 9.5a1.5 1.5 0 1 0 0-3 1.5 1.5 0 0 0 0 3Z"></path><path d="M8 0a8 8 0 1 1 0 16A8 8 0 0 1 8 0ZM1.5 8a6.5 6.5 0 1 0 13 0 6.5 6.5 0 0 0-13 0Z"></path></svg>
            </div>
            <div data-targets="command-palette-page-stack.localOcticons" data-octicon-id="git-pull-request-draft-color-fg-muted">
              <svg height="16" class="octicon octicon-git-pull-request-draft color-fg-muted" viewBox="0 0 16 16" version="1.1" width="16" aria-hidden="true"><path d="M3.25 1A2.25 2.25 0 0 1 4 5.372v5.256a2.251 2.251 0 1 1-1.5 0V5.372A2.251 2.251 0 0 1 3.25 1Zm9.5 14a2.25 2.25 0 1 1 0-4.5 2.25 2.25 0 0 1 0 4.5ZM2.5 3.25a.75.75 0 1 0 1.5 0 .75.75 0 0 0-1.5 0ZM3.25 12a.75.75 0 1 0 0 1.5.75.75 0 0 0 0-1.5Zm9.5 0a.75.75 0 1 0 0 1.5.75.75 0 0 0 0-1.5ZM14 7.5a1.25 1.25 0 1 1-2.5 0 1.25 1.25 0 0 1 2.5 0Zm0-4.25a1.25 1.25 0 1 1-2.5 0 1.25 1.25 0 0 1 2.5 0Z"></path></svg>
            </div>
            <div data-targets="command-palette-page-stack.localOcticons" data-octicon-id="search-color-fg-muted">
              <svg height="16" class="octicon octicon-search color-fg-muted" viewBox="0 0 16 16" version="1.1" width="16" aria-hidden="true"><path d="M10.68 11.74a6 6 0 0 1-7.922-8.982 6 6 0 0 1 8.982 7.922l3.04 3.04a.749.749 0 0 1-.326 1.275.749.749 0 0 1-.734-.215ZM11.5 7a4.499 4.499 0 1 0-8.997 0A4.499 4.499 0 0 0 11.5 7Z"></path></svg>
            </div>
            <div data-targets="command-palette-page-stack.localOcticons" data-octicon-id="sun-color-fg-muted">
              <svg height="16" class="octicon octicon-sun color-fg-muted" viewBox="0 0 16 16" version="1.1" width="16" aria-hidden="true"><path d="M8 12a4 4 0 1 1 0-8 4 4 0 0 1 0 8Zm0-1.5a2.5 2.5 0 1 0 0-5 2.5 2.5 0 0 0 0 5Zm5.657-8.157a.75.75 0 0 1 0 1.061l-1.061 1.06a.749.749 0 0 1-1.275-.326.749.749 0 0 1 .215-.734l1.06-1.06a.75.75 0 0 1 1.06 0Zm-9.193 9.193a.75.75 0 0 1 0 1.06l-1.06 1.061a.75.75 0 1 1-1.061-1.06l1.06-1.061a.75.75 0 0 1 1.061 0ZM8 0a.75.75 0 0 1 .75.75v1.5a.75.75 0 0 1-1.5 0V.75A.75.75 0 0 1 8 0ZM3 8a.75.75 0 0 1-.75.75H.75a.75.75 0 0 1 0-1.5h1.5A.75.75 0 0 1 3 8Zm13 0a.75.75 0 0 1-.75.75h-1.5a.75.75 0 0 1 0-1.5h1.5A.75.75 0 0 1 16 8Zm-8 5a.75.75 0 0 1 .75.75v1.5a.75.75 0 0 1-1.5 0v-1.5A.75.75 0 0 1 8 13Zm3.536-1.464a.75.75 0 0 1 1.06 0l1.061 1.06a.75.75 0 0 1-1.06 1.061l-1.061-1.06a.75.75 0 0 1 0-1.061ZM2.343 2.343a.75.75 0 0 1 1.061 0l1.06 1.061a.751.751 0 0 1-.018 1.042.751.751 0 0 1-1.042.018l-1.06-1.06a.75.75 0 0 1 0-1.06Z"></path></svg>
            </div>
            <div data-targets="command-palette-page-stack.localOcticons" data-octicon-id="sync-color-fg-muted">
              <svg height="16" class="octicon octicon-sync color-fg-muted" viewBox="0 0 16 16" version="1.1" width="16" aria-hidden="true"><path d="M1.705 8.005a.75.75 0 0 1 .834.656 5.5 5.5 0 0 0 9.592 2.97l-1.204-1.204a.25.25 0 0 1 .177-.427h3.646a.25.25 0 0 1 .25.25v3.646a.25.25 0 0 1-.427.177l-1.38-1.38A7.002 7.002 0 0 1 1.05 8.84a.75.75 0 0 1 .656-.834ZM8 2.5a5.487 5.487 0 0 0-4.131 1.869l1.204 1.204A.25.25 0 0 1 4.896 6H1.25A.25.25 0 0 1 1 5.75V2.104a.25.25 0 0 1 .427-.177l1.38 1.38A7.002 7.002 0 0 1 14.95 7.16a.75.75 0 0 1-1.49.178A5.5 5.5 0 0 0 8 2.5Z"></path></svg>
            </div>
            <div data-targets="command-palette-page-stack.localOcticons" data-octicon-id="trash-color-fg-muted">
              <svg height="16" class="octicon octicon-trash color-fg-muted" viewBox="0 0 16 16" version="1.1" width="16" aria-hidden="true"><path d="M11 1.75V3h2.25a.75.75 0 0 1 0 1.5H2.75a.75.75 0 0 1 0-1.5H5V1.75C5 .784 5.784 0 6.75 0h2.5C10.216 0 11 .784 11 1.75ZM4.496 6.675l.66 6.6a.25.25 0 0 0 .249.225h5.19a.25.25 0 0 0 .249-.225l.66-6.6a.75.75 0 0 1 1.492.149l-.66 6.6A1.748 1.748 0 0 1 10.595 15h-5.19a1.75 1.75 0 0 1-1.741-1.575l-.66-6.6a.75.75 0 1 1 1.492-.15ZM6.5 1.75V3h3V1.75a.25.25 0 0 0-.25-.25h-2.5a.25.25 0 0 0-.25.25Z"></path></svg>
            </div>
            <div data-targets="command-palette-page-stack.localOcticons" data-octicon-id="key-color-fg-muted">
              <svg height="16" class="octicon octicon-key color-fg-muted" viewBox="0 0 16 16" version="1.1" width="16" aria-hidden="true"><path d="M10.5 0a5.499 5.499 0 1 1-1.288 10.848l-.932.932a.749.749 0 0 1-.53.22H7v.75a.749.749 0 0 1-.22.53l-.5.5a.749.749 0 0 1-.53.22H5v.75a.749.749 0 0 1-.22.53l-.5.5a.749.749 0 0 1-.53.22h-2A1.75 1.75 0 0 1 0 14.25v-2c0-.199.079-.389.22-.53l4.932-4.932A5.5 5.5 0 0 1 10.5 0Zm-4 5.5c-.001.431.069.86.205 1.269a.75.75 0 0 1-.181.768L1.5 12.56v1.69c0 .138.112.25.25.25h1.69l.06-.06v-1.19a.75.75 0 0 1 .75-.75h1.19l.06-.06v-1.19a.75.75 0 0 1 .75-.75h1.19l1.023-1.025a.75.75 0 0 1 .768-.18A4 4 0 1 0 6.5 5.5ZM11 6a1 1 0 1 1 0-2 1 1 0 0 1 0 2Z"></path></svg>
            </div>
            <div data-targets="command-palette-page-stack.localOcticons" data-octicon-id="comment-discussion-color-fg-muted">
              <svg height="16" class="octicon octicon-comment-discussion color-fg-muted" viewBox="0 0 16 16" version="1.1" width="16" aria-hidden="true"><path d="M1.75 1h8.5c.966 0 1.75.784 1.75 1.75v5.5A1.75 1.75 0 0 1 10.25 10H7.061l-2.574 2.573A1.458 1.458 0 0 1 2 11.543V10h-.25A1.75 1.75 0 0 1 0 8.25v-5.5C0 1.784.784 1 1.75 1ZM1.5 2.75v5.5c0 .138.112.25.25.25h1a.75.75 0 0 1 .75.75v2.19l2.72-2.72a.749.749 0 0 1 .53-.22h3.5a.25.25 0 0 0 .25-.25v-5.5a.25.25 0 0 0-.25-.25h-8.5a.25.25 0 0 0-.25.25Zm13 2a.25.25 0 0 0-.25-.25h-.5a.75.75 0 0 1 0-1.5h.5c.966 0 1.75.784 1.75 1.75v5.5A1.75 1.75 0 0 1 14.25 12H14v1.543a1.458 1.458 0 0 1-2.487 1.03L9.22 12.28a.749.749 0 0 1 .326-1.275.749.749 0 0 1 .734.215l2.22 2.22v-2.19a.75.75 0 0 1 .75-.75h1a.25.25 0 0 0 .25-.25Z"></path></svg>
            </div>
            <div data-targets="command-palette-page-stack.localOcticons" data-octicon-id="bell-color-fg-muted">
              <svg height="16" class="octicon octicon-bell color-fg-muted" viewBox="0 0 16 16" version="1.1" width="16" aria-hidden="true"><path d="M8 16a2 2 0 0 0 1.985-1.75c.017-.137-.097-.25-.235-.25h-3.5c-.138 0-.252.113-.235.25A2 2 0 0 0 8 16ZM3 5a5 5 0 0 1 10 0v2.947c0 .05.015.098.042.139l1.703 2.555A1.519 1.519 0 0 1 13.482 13H2.518a1.516 1.516 0 0 1-1.263-2.36l1.703-2.554A.255.255 0 0 0 3 7.947Zm5-3.5A3.5 3.5 0 0 0 4.5 5v2.947c0 .346-.102.683-.294.97l-1.703 2.556a.017.017 0 0 0-.003.01l.001.006c0 .002.002.004.004.006l.006.004.007.001h10.964l.007-.001.006-.004.004-.006.001-.007a.017.017 0 0 0-.003-.01l-1.703-2.554a1.745 1.745 0 0 1-.294-.97V5A3.5 3.5 0 0 0 8 1.5Z"></path></svg>
            </div>
            <div data-targets="command-palette-page-stack.localOcticons" data-octicon-id="bell-slash-color-fg-muted">
              <svg height="16" class="octicon octicon-bell-slash color-fg-muted" viewBox="0 0 16 16" version="1.1" width="16" aria-hidden="true"><path d="m4.182 4.31.016.011 10.104 7.316.013.01 1.375.996a.75.75 0 1 1-.88 1.214L13.626 13H2.518a1.516 1.516 0 0 1-1.263-2.36l1.703-2.554A.255.255 0 0 0 3 7.947V5.305L.31 3.357a.75.75 0 1 1 .88-1.214Zm7.373 7.19L4.5 6.391v1.556c0 .346-.102.683-.294.97l-1.703 2.556a.017.017 0 0 0-.003.01c0 .005.002.009.005.012l.006.004.007.001ZM8 1.5c-.997 0-1.895.416-2.534 1.086A.75.75 0 1 1 4.38 1.55 5 5 0 0 1 13 5v2.373a.75.75 0 0 1-1.5 0V5A3.5 3.5 0 0 0 8 1.5ZM8 16a2 2 0 0 1-1.985-1.75c-.017-.137.097-.25.235-.25h3.5c.138 0 .252.113.235.25A2 2 0 0 1 8 16Z"></path></svg>
            </div>
            <div data-targets="command-palette-page-stack.localOcticons" data-octicon-id="paintbrush-color-fg-muted">
              <svg height="16" class="octicon octicon-paintbrush color-fg-muted" viewBox="0 0 16 16" version="1.1" width="16" aria-hidden="true"><path d="M11.134 1.535c.7-.509 1.416-.942 2.076-1.155.649-.21 1.463-.267 2.069.34.603.601.568 1.411.368 2.07-.202.668-.624 1.39-1.125 2.096-1.011 1.424-2.496 2.987-3.775 4.249-1.098 1.084-2.132 1.839-3.04 2.3a3.744 3.744 0 0 1-1.055 3.217c-.431.431-1.065.691-1.657.861-.614.177-1.294.287-1.914.357A21.151 21.151 0 0 1 .797 16H.743l.007-.75H.749L.742 16a.75.75 0 0 1-.743-.742l.743-.008-.742.007v-.054a21.25 21.25 0 0 1 .13-2.284c.067-.647.187-1.287.358-1.914.17-.591.43-1.226.86-1.657a3.746 3.746 0 0 1 3.227-1.054c.466-.893 1.225-1.907 2.314-2.982 1.271-1.255 2.833-2.75 4.245-3.777ZM1.62 13.089c-.051.464-.086.929-.104 1.395.466-.018.932-.053 1.396-.104a10.511 10.511 0 0 0 1.668-.309c.526-.151.856-.325 1.011-.48a2.25 2.25 0 1 0-3.182-3.182c-.155.155-.329.485-.48 1.01a10.515 10.515 0 0 0-.309 1.67Zm10.396-10.34c-1.224.89-2.605 2.189-3.822 3.384l1.718 1.718c1.21-1.205 2.51-2.597 3.387-3.833.47-.662.78-1.227.912-1.662.134-.444.032-.551.009-.575h-.001V1.78c-.014-.014-.113-.113-.548.027-.432.14-.995.462-1.655.942Zm-4.832 7.266-.001.001a9.859 9.859 0 0 0 1.63-1.142L7.155 7.216a9.7 9.7 0 0 0-1.161 1.607c.482.302.889.71 1.19 1.192Z"></path></svg>
            </div>

            <command-palette-item-group
              data-group-id="top"
              data-group-title="Top result"
              data-group-hint=""
              data-group-limits="{}"
              data-default-priority="0"
            >
            </command-palette-item-group>
            <command-palette-item-group
              data-group-id="commands"
              data-group-title="Commands"
              data-group-hint="Type &gt; to filter"
              data-group-limits="{&quot;static_items_page&quot;:50,&quot;issue&quot;:50,&quot;pull_request&quot;:50,&quot;discussion&quot;:50}"
              data-default-priority="1"
            >
            </command-palette-item-group>
            <command-palette-item-group
              data-group-id="global_commands"
              data-group-title="Global Commands"
              data-group-hint="Type &gt; to filter"
              data-group-limits="{&quot;issue&quot;:0,&quot;pull_request&quot;:0,&quot;discussion&quot;:0}"
              data-default-priority="2"
            >
            </command-palette-item-group>
            <command-palette-item-group
              data-group-id="this_page"
              data-group-title="This Page"
              data-group-hint=""
              data-group-limits="{}"
              data-default-priority="3"
            >
            </command-palette-item-group>
            <command-palette-item-group
              data-group-id="files"
              data-group-title="Files"
              data-group-hint=""
              data-group-limits="{}"
              data-default-priority="4"
            >
            </command-palette-item-group>
            <command-palette-item-group
              data-group-id="default"
              data-group-title="Default"
              data-group-hint=""
              data-group-limits="{&quot;static_items_page&quot;:50}"
              data-default-priority="5"
            >
            </command-palette-item-group>
            <command-palette-item-group
              data-group-id="pages"
              data-group-title="Pages"
              data-group-hint=""
              data-group-limits="{&quot;repository&quot;:10}"
              data-default-priority="6"
            >
            </command-palette-item-group>
            <command-palette-item-group
              data-group-id="access_policies"
              data-group-title="Access Policies"
              data-group-hint=""
              data-group-limits="{}"
              data-default-priority="7"
            >
            </command-palette-item-group>
            <command-palette-item-group
              data-group-id="organizations"
              data-group-title="Organizations"
              data-group-hint=""
              data-group-limits="{}"
              data-default-priority="8"
            >
            </command-palette-item-group>
            <command-palette-item-group
              data-group-id="repositories"
              data-group-title="Repositories"
              data-group-hint=""
              data-group-limits="{}"
              data-default-priority="9"
            >
            </command-palette-item-group>
            <command-palette-item-group
              data-group-id="references"
              data-group-title="Issues, pull requests, and discussions"
              data-group-hint="Type # to filter"
              data-group-limits="{}"
              data-default-priority="10"
            >
            </command-palette-item-group>
            <command-palette-item-group
              data-group-id="teams"
              data-group-title="Teams"
              data-group-hint=""
              data-group-limits="{}"
              data-default-priority="11"
            >
            </command-palette-item-group>
            <command-palette-item-group
              data-group-id="users"
              data-group-title="Users"
              data-group-hint=""
              data-group-limits="{}"
              data-default-priority="12"
            >
            </command-palette-item-group>
            <command-palette-item-group
              data-group-id="memex_projects"
              data-group-title="Projects"
              data-group-hint=""
              data-group-limits="{}"
              data-default-priority="13"
            >
            </command-palette-item-group>
            <command-palette-item-group
              data-group-id="projects"
              data-group-title="Projects (classic)"
              data-group-hint=""
              data-group-limits="{}"
              data-default-priority="14"
            >
            </command-palette-item-group>
            <command-palette-item-group
              data-group-id="footer"
              data-group-title="Footer"
              data-group-hint=""
              data-group-limits="{}"
              data-default-priority="15"
            >
            </command-palette-item-group>
            <command-palette-item-group
              data-group-id="modes_help"
              data-group-title="Modes"
              data-group-hint=""
              data-group-limits="{}"
              data-default-priority="16"
            >
            </command-palette-item-group>
            <command-palette-item-group
              data-group-id="filters_help"
              data-group-title="Use filters in issues, pull requests, discussions, and projects"
              data-group-hint=""
              data-group-limits="{}"
              data-default-priority="17"
            >
            </command-palette-item-group>

            <command-palette-page
              data-page-title="mrdbourke"
              data-scope-id="MDQ6VXNlcjE2NzUwMzQ1"
              data-scope-type="owner"
              data-targets="command-palette-page-stack.defaultPages"
              hidden
            >
            </command-palette-page>
            <command-palette-page
              data-page-title="tensorflow-deep-learning"
              data-scope-id="MDEwOlJlcG9zaXRvcnkzMTU0NjMzNDA="
              data-scope-type="repository"
              data-targets="command-palette-page-stack.defaultPages"
              hidden
            >
            </command-palette-page>
        </div>

        <command-palette-page data-is-root>
        </command-palette-page>
          <command-palette-page
            data-page-title="mrdbourke"
            data-scope-id="MDQ6VXNlcjE2NzUwMzQ1"
            data-scope-type="owner"
          >
          </command-palette-page>
          <command-palette-page
            data-page-title="tensorflow-deep-learning"
            data-scope-id="MDEwOlJlcG9zaXRvcnkzMTU0NjMzNDA="
            data-scope-type="repository"
          >
          </command-palette-page>
      </command-palette-page-stack>

      <server-defined-provider data-type="search-links" data-targets="command-palette.serverDefinedProviderElements"></server-defined-provider>
      <server-defined-provider data-type="help" data-targets="command-palette.serverDefinedProviderElements">
          <command-palette-help
            data-group="modes_help"
              data-prefix="#"
              data-scope-types="[&quot;&quot;]"
          >
            <span data-target="command-palette-help.titleElement">Search for <strong>issues</strong> and <strong>pull requests</strong></span>
              <span data-target="command-palette-help.hintElement">
                <kbd class="hx_kbd">#</kbd>
              </span>
          </command-palette-help>
          <command-palette-help
            data-group="modes_help"
              data-prefix="#"
              data-scope-types="[&quot;owner&quot;,&quot;repository&quot;]"
          >
            <span data-target="command-palette-help.titleElement">Search for <strong>issues, pull requests, discussions,</strong> and <strong>projects</strong></span>
              <span data-target="command-palette-help.hintElement">
                <kbd class="hx_kbd">#</kbd>
              </span>
          </command-palette-help>
          <command-palette-help
            data-group="modes_help"
              data-prefix="@"
              data-scope-types="[&quot;&quot;]"
          >
            <span data-target="command-palette-help.titleElement">Search for <strong>organizations, repositories,</strong> and <strong>users</strong></span>
              <span data-target="command-palette-help.hintElement">
                <kbd class="hx_kbd">@</kbd>
              </span>
          </command-palette-help>
          <command-palette-help
            data-group="modes_help"
              data-prefix="!"
              data-scope-types="[&quot;owner&quot;,&quot;repository&quot;]"
          >
            <span data-target="command-palette-help.titleElement">Search for <strong>projects</strong></span>
              <span data-target="command-palette-help.hintElement">
                <kbd class="hx_kbd">!</kbd>
              </span>
          </command-palette-help>
          <command-palette-help
            data-group="modes_help"
              data-prefix="/"
              data-scope-types="[&quot;repository&quot;]"
          >
            <span data-target="command-palette-help.titleElement">Search for <strong>files</strong></span>
              <span data-target="command-palette-help.hintElement">
                <kbd class="hx_kbd">/</kbd>
              </span>
          </command-palette-help>
          <command-palette-help
            data-group="modes_help"
              data-prefix="&gt;"
          >
            <span data-target="command-palette-help.titleElement">Activate <strong>command mode</strong></span>
              <span data-target="command-palette-help.hintElement">
                <kbd class="hx_kbd">&gt;</kbd>
              </span>
          </command-palette-help>
          <command-palette-help
            data-group="filters_help"
              data-prefix="# author:@me"
          >
            <span data-target="command-palette-help.titleElement">Search your issues, pull requests, and discussions</span>
              <span data-target="command-palette-help.hintElement">
                <kbd class="hx_kbd"># author:@me</kbd>
              </span>
          </command-palette-help>
          <command-palette-help
            data-group="filters_help"
              data-prefix="# author:@me"
          >
            <span data-target="command-palette-help.titleElement">Search your issues, pull requests, and discussions</span>
              <span data-target="command-palette-help.hintElement">
                <kbd class="hx_kbd"># author:@me</kbd>
              </span>
          </command-palette-help>
          <command-palette-help
            data-group="filters_help"
              data-prefix="# is:pr"
          >
            <span data-target="command-palette-help.titleElement">Filter to pull requests</span>
              <span data-target="command-palette-help.hintElement">
                <kbd class="hx_kbd"># is:pr</kbd>
              </span>
          </command-palette-help>
          <command-palette-help
            data-group="filters_help"
              data-prefix="# is:issue"
          >
            <span data-target="command-palette-help.titleElement">Filter to issues</span>
              <span data-target="command-palette-help.hintElement">
                <kbd class="hx_kbd"># is:issue</kbd>
              </span>
          </command-palette-help>
          <command-palette-help
            data-group="filters_help"
              data-prefix="# is:discussion"
              data-scope-types="[&quot;owner&quot;,&quot;repository&quot;]"
          >
            <span data-target="command-palette-help.titleElement">Filter to discussions</span>
              <span data-target="command-palette-help.hintElement">
                <kbd class="hx_kbd"># is:discussion</kbd>
              </span>
          </command-palette-help>
          <command-palette-help
            data-group="filters_help"
              data-prefix="# is:project"
              data-scope-types="[&quot;owner&quot;,&quot;repository&quot;]"
          >
            <span data-target="command-palette-help.titleElement">Filter to projects</span>
              <span data-target="command-palette-help.hintElement">
                <kbd class="hx_kbd"># is:project</kbd>
              </span>
          </command-palette-help>
          <command-palette-help
            data-group="filters_help"
              data-prefix="# is:open"
          >
            <span data-target="command-palette-help.titleElement">Filter to open issues, pull requests, and discussions</span>
              <span data-target="command-palette-help.hintElement">
                <kbd class="hx_kbd"># is:open</kbd>
              </span>
          </command-palette-help>
      </server-defined-provider>

        <server-defined-provider
          data-type="commands"
          data-fetch-debounce="0"
            data-src="/command_palette/commands"
          data-supported-modes="[]"
            data-supports-commands
          
          data-targets="command-palette.serverDefinedProviderElements"
          ></server-defined-provider>
        <server-defined-provider
          data-type="prefetched"
          data-fetch-debounce="0"
            data-src="/command_palette/jump_to_page_navigation"
          data-supported-modes="[&quot;&quot;]"
            data-supported-scope-types="[&quot;&quot;,&quot;owner&quot;,&quot;repository&quot;]"
          
          data-targets="command-palette.serverDefinedProviderElements"
          ></server-defined-provider>
        <server-defined-provider
          data-type="remote"
          data-fetch-debounce="200"
            data-src="/command_palette/issues"
          data-supported-modes="[&quot;#&quot;,&quot;#&quot;]"
            data-supported-scope-types="[&quot;owner&quot;,&quot;repository&quot;,&quot;&quot;]"
          
          data-targets="command-palette.serverDefinedProviderElements"
          ></server-defined-provider>
        <server-defined-provider
          data-type="remote"
          data-fetch-debounce="200"
            data-src="/command_palette/jump_to"
          data-supported-modes="[&quot;@&quot;,&quot;@&quot;]"
            data-supported-scope-types="[&quot;&quot;,&quot;owner&quot;]"
          
          data-targets="command-palette.serverDefinedProviderElements"
          ></server-defined-provider>
        <server-defined-provider
          data-type="remote"
          data-fetch-debounce="200"
            data-src="/command_palette/jump_to_members_only"
          data-supported-modes="[&quot;@&quot;,&quot;@&quot;,&quot;&quot;,&quot;&quot;]"
            data-supported-scope-types="[&quot;&quot;,&quot;owner&quot;]"
          
          data-targets="command-palette.serverDefinedProviderElements"
          ></server-defined-provider>
        <server-defined-provider
          data-type="prefetched"
          data-fetch-debounce="0"
            data-src="/command_palette/jump_to_members_only_prefetched"
          data-supported-modes="[&quot;@&quot;,&quot;@&quot;,&quot;&quot;,&quot;&quot;]"
            data-supported-scope-types="[&quot;&quot;,&quot;owner&quot;]"
          
          data-targets="command-palette.serverDefinedProviderElements"
          ></server-defined-provider>
        <server-defined-provider
          data-type="files"
          data-fetch-debounce="0"
            data-src="/command_palette/files"
          data-supported-modes="[&quot;/&quot;]"
            data-supported-scope-types="[&quot;repository&quot;]"
          
          data-targets="command-palette.serverDefinedProviderElements"
          ></server-defined-provider>
        <server-defined-provider
          data-type="remote"
          data-fetch-debounce="200"
            data-src="/command_palette/discussions"
          data-supported-modes="[&quot;#&quot;]"
            data-supported-scope-types="[&quot;owner&quot;,&quot;repository&quot;]"
          
          data-targets="command-palette.serverDefinedProviderElements"
          ></server-defined-provider>
        <server-defined-provider
          data-type="remote"
          data-fetch-debounce="200"
            data-src="/command_palette/projects"
          data-supported-modes="[&quot;#&quot;,&quot;!&quot;]"
            data-supported-scope-types="[&quot;owner&quot;,&quot;repository&quot;]"
          
          data-targets="command-palette.serverDefinedProviderElements"
          ></server-defined-provider>
        <server-defined-provider
          data-type="prefetched"
          data-fetch-debounce="0"
            data-src="/command_palette/recent_issues"
          data-supported-modes="[&quot;#&quot;,&quot;#&quot;]"
            data-supported-scope-types="[&quot;owner&quot;,&quot;repository&quot;,&quot;&quot;]"
          
          data-targets="command-palette.serverDefinedProviderElements"
          ></server-defined-provider>
        <server-defined-provider
          data-type="remote"
          data-fetch-debounce="200"
            data-src="/command_palette/teams"
          data-supported-modes="[&quot;@&quot;,&quot;&quot;]"
            data-supported-scope-types="[&quot;owner&quot;]"
          
          data-targets="command-palette.serverDefinedProviderElements"
          ></server-defined-provider>
        <server-defined-provider
          data-type="remote"
          data-fetch-debounce="200"
            data-src="/command_palette/name_with_owner_repository"
          data-supported-modes="[&quot;@&quot;,&quot;@&quot;,&quot;&quot;,&quot;&quot;]"
            data-supported-scope-types="[&quot;&quot;,&quot;owner&quot;]"
          
          data-targets="command-palette.serverDefinedProviderElements"
          ></server-defined-provider>
    </command-palette>
  </details-dialog>
</details>

<div class="position-fixed bottom-0 left-0 ml-5 mb-5 js-command-palette-toasts" style="z-index: 1000">
  <div hidden class="Toast Toast--loading">
    <span class="Toast-icon">
      <svg class="Toast--spinner" viewBox="0 0 32 32" width="18" height="18" aria-hidden="true">
        <path
          fill="#959da5"
          d="M16 0 A16 16 0 0 0 16 32 A16 16 0 0 0 16 0 M16 4 A12 12 0 0 1 16 28 A12 12 0 0 1 16 4"
        />
        <path fill="#ffffff" d="M16 0 A16 16 0 0 1 32 16 L28 16 A12 12 0 0 0 16 4z"></path>
      </svg>
    </span>
    <span class="Toast-content"></span>
  </div>

  <div hidden class="anim-fade-in fast Toast Toast--error">
    <span class="Toast-icon">
      <svg aria-hidden="true" height="16" viewBox="0 0 16 16" version="1.1" width="16" data-view-component="true" class="octicon octicon-stop">
    <path d="M4.47.22A.749.749 0 0 1 5 0h6c.199 0 .389.079.53.22l4.25 4.25c.141.14.22.331.22.53v6a.749.749 0 0 1-.22.53l-4.25 4.25A.749.749 0 0 1 11 16H5a.749.749 0 0 1-.53-.22L.22 11.53A.749.749 0 0 1 0 11V5c0-.199.079-.389.22-.53Zm.84 1.28L1.5 5.31v5.38l3.81 3.81h5.38l3.81-3.81V5.31L10.69 1.5ZM8 4a.75.75 0 0 1 .75.75v3.5a.75.75 0 0 1-1.5 0v-3.5A.75.75 0 0 1 8 4Zm0 8a1 1 0 1 1 0-2 1 1 0 0 1 0 2Z"></path>
</svg>
    </span>
    <span class="Toast-content"></span>
  </div>

  <div hidden class="anim-fade-in fast Toast Toast--warning">
    <span class="Toast-icon">
      <svg aria-hidden="true" height="16" viewBox="0 0 16 16" version="1.1" width="16" data-view-component="true" class="octicon octicon-alert">
    <path d="M6.457 1.047c.659-1.234 2.427-1.234 3.086 0l6.082 11.378A1.75 1.75 0 0 1 14.082 15H1.918a1.75 1.75 0 0 1-1.543-2.575Zm1.763.707a.25.25 0 0 0-.44 0L1.698 13.132a.25.25 0 0 0 .22.368h12.164a.25.25 0 0 0 .22-.368Zm.53 3.996v2.5a.75.75 0 0 1-1.5 0v-2.5a.75.75 0 0 1 1.5 0ZM9 11a1 1 0 1 1-2 0 1 1 0 0 1 2 0Z"></path>
</svg>
    </span>
    <span class="Toast-content"></span>
  </div>


  <div hidden class="anim-fade-in fast Toast Toast--success">
    <span class="Toast-icon">
      <svg aria-hidden="true" height="16" viewBox="0 0 16 16" version="1.1" width="16" data-view-component="true" class="octicon octicon-check">
    <path d="M13.78 4.22a.75.75 0 0 1 0 1.06l-7.25 7.25a.75.75 0 0 1-1.06 0L2.22 9.28a.751.751 0 0 1 .018-1.042.751.751 0 0 1 1.042-.018L6 10.94l6.72-6.72a.75.75 0 0 1 1.06 0Z"></path>
</svg>
    </span>
    <span class="Toast-content"></span>
  </div>

  <div hidden class="anim-fade-in fast Toast">
    <span class="Toast-icon">
      <svg aria-hidden="true" height="16" viewBox="0 0 16 16" version="1.1" width="16" data-view-component="true" class="octicon octicon-info">
    <path d="M0 8a8 8 0 1 1 16 0A8 8 0 0 1 0 8Zm8-6.5a6.5 6.5 0 1 0 0 13 6.5 6.5 0 0 0 0-13ZM6.5 7.75A.75.75 0 0 1 7.25 7h1a.75.75 0 0 1 .75.75v2.75h.25a.75.75 0 0 1 0 1.5h-2a.75.75 0 0 1 0-1.5h.25v-2h-.25a.75.75 0 0 1-.75-.75ZM8 6a1 1 0 1 1 0-2 1 1 0 0 1 0 2Z"></path>
</svg>
    </span>
    <span class="Toast-content"></span>
  </div>
</div>


  <div
    class="application-main "
    data-commit-hovercards-enabled
    data-discussion-hovercards-enabled
    data-issue-and-pr-hovercards-enabled
  >
        <div itemscope itemtype="http://schema.org/SoftwareSourceCode" class="">
    <main id="js-repo-pjax-container" >
      
      
      






    
  <div id="repository-container-header" data-turbo-replace hidden></div>




<turbo-frame id="repo-content-turbo-frame" target="_top" data-turbo-action="advance" class="">
    <div id="repo-content-pjax-container" class="repository-content " >
      <a href="https://github.dev/" class="d-none js-github-dev-shortcut" data-hotkey=".,Alt+Meta+≥,Control+Alt+.">Open in github.dev</a>
  <a href="https://github.dev/" class="d-none js-github-dev-new-tab-shortcut" data-hotkey="Shift+.,Shift+&gt;,&gt;" target="_blank" rel="noopener noreferrer">Open in a new github.dev tab</a>
    <a class="d-none" data-hotkey=",,Alt+Meta+≤,Control+Alt+," target="_blank" href="/codespaces/new/mrdbourke/tensorflow-deep-learning/tree/main?resume=1">Open in codespace</a>



    
      
    





<react-app
  app-name="react-code-view"
  initial-path="/mrdbourke/tensorflow-deep-learning/blob/main/video_notebooks/04_transfer_learning_in_tensorflow_part_1_feature_extraction_video.ipynb"
  style="min-height: calc(100vh - 64px)" 
  data-ssr="true"
  data-lazy="false"
  data-alternate="false"
>
  
  <script type="application/json" data-target="react-app.embeddedData">{"payload":{"allShortcutsEnabled":true,"fileTree":{"video_notebooks":{"items":[{"name":"00_tensorflow_fundamentals_video.ipynb","path":"video_notebooks/00_tensorflow_fundamentals_video.ipynb","contentType":"file"},{"name":"01_neural_network_regression_in_tensorflow_video.ipynb","path":"video_notebooks/01_neural_network_regression_in_tensorflow_video.ipynb","contentType":"file"},{"name":"02_neural_network_classification_in_tensorflow_video.ipynb","path":"video_notebooks/02_neural_network_classification_in_tensorflow_video.ipynb","contentType":"file"},{"name":"03_convolutional_neural_networks_with_tensorflow_video.ipynb","path":"video_notebooks/03_convolutional_neural_networks_with_tensorflow_video.ipynb","contentType":"file"},{"name":"04_transfer_learning_in_tensorflow_part_1_feature_extraction_video.ipynb","path":"video_notebooks/04_transfer_learning_in_tensorflow_part_1_feature_extraction_video.ipynb","contentType":"file"},{"name":"05_transfer_learning_in_tensorflow_part_2_fine_tuning_video.ipynb","path":"video_notebooks/05_transfer_learning_in_tensorflow_part_2_fine_tuning_video.ipynb","contentType":"file"},{"name":"06_transfer_learning_in_tensorflow_part_3_scaling_up_video.ipynb","path":"video_notebooks/06_transfer_learning_in_tensorflow_part_3_scaling_up_video.ipynb","contentType":"file"},{"name":"07_milestone_project_1_food_vision_video.ipynb","path":"video_notebooks/07_milestone_project_1_food_vision_video.ipynb","contentType":"file"},{"name":"08_introduction_to_nlp_in_tensorflow_video.ipynb","path":"video_notebooks/08_introduction_to_nlp_in_tensorflow_video.ipynb","contentType":"file"},{"name":"09_SkimLit_nlp_milestone_project_2_video.ipynb","path":"video_notebooks/09_SkimLit_nlp_milestone_project_2_video.ipynb","contentType":"file"},{"name":"10_time_series_forecasting_with_tensorflow_video.ipynb","path":"video_notebooks/10_time_series_forecasting_with_tensorflow_video.ipynb","contentType":"file"},{"name":"README.md","path":"video_notebooks/README.md","contentType":"file"}],"totalCount":12},"":{"items":[{"name":".github","path":".github","contentType":"directory"},{"name":"docs","path":"docs","contentType":"directory"},{"name":"extras","path":"extras","contentType":"directory"},{"name":"images","path":"images","contentType":"directory"},{"name":"slides","path":"slides","contentType":"directory"},{"name":"video_notebooks","path":"video_notebooks","contentType":"directory"},{"name":".gitignore","path":".gitignore","contentType":"file"},{"name":"00_tensorflow_fundamentals.ipynb","path":"00_tensorflow_fundamentals.ipynb","contentType":"file"},{"name":"01_neural_network_regression_in_tensorflow.ipynb","path":"01_neural_network_regression_in_tensorflow.ipynb","contentType":"file"},{"name":"02_neural_network_classification_in_tensorflow.ipynb","path":"02_neural_network_classification_in_tensorflow.ipynb","contentType":"file"},{"name":"03_convolutional_neural_networks_in_tensorflow.ipynb","path":"03_convolutional_neural_networks_in_tensorflow.ipynb","contentType":"file"},{"name":"04_transfer_learning_in_tensorflow_part_1_feature_extraction.ipynb","path":"04_transfer_learning_in_tensorflow_part_1_feature_extraction.ipynb","contentType":"file"},{"name":"05_transfer_learning_in_tensorflow_part_2_fine_tuning.ipynb","path":"05_transfer_learning_in_tensorflow_part_2_fine_tuning.ipynb","contentType":"file"},{"name":"06_transfer_learning_in_tensorflow_part_3_scaling_up.ipynb","path":"06_transfer_learning_in_tensorflow_part_3_scaling_up.ipynb","contentType":"file"},{"name":"07_food_vision_milestone_project_1.ipynb","path":"07_food_vision_milestone_project_1.ipynb","contentType":"file"},{"name":"08_introduction_to_nlp_in_tensorflow.ipynb","path":"08_introduction_to_nlp_in_tensorflow.ipynb","contentType":"file"},{"name":"09_SkimLit_nlp_milestone_project_2.ipynb","path":"09_SkimLit_nlp_milestone_project_2.ipynb","contentType":"file"},{"name":"10_time_series_forecasting_in_tensorflow.ipynb","path":"10_time_series_forecasting_in_tensorflow.ipynb","contentType":"file"},{"name":"11_passing_the_tensorflow_developer_certification_exam.md","path":"11_passing_the_tensorflow_developer_certification_exam.md","contentType":"file"},{"name":"LICENSE","path":"LICENSE","contentType":"file"},{"name":"README.md","path":"README.md","contentType":"file"},{"name":"mkdocs.yml","path":"mkdocs.yml","contentType":"file"}],"totalCount":22}},"fileTreeProcessingTime":6.771667,"foldersToFetch":[],"reducedMotionEnabled":"system","repo":{"id":315463340,"defaultBranch":"main","name":"tensorflow-deep-learning","ownerLogin":"mrdbourke","currentUserCanPush":false,"isFork":false,"isEmpty":false,"createdAt":"2020-11-24T04:41:42.000+05:30","ownerAvatar":"https://avatars.githubusercontent.com/u/16750345?v=4","public":true,"private":false,"isOrgOwned":false},"symbolsExpanded":false,"treeExpanded":true,"refInfo":{"name":"main","listCacheKey":"v0:1624077249.4938722","canEdit":true,"refType":"branch","currentOid":"1be0f77fbb4e056694a910f403a8f61f1b650eec"},"path":"video_notebooks/04_transfer_learning_in_tensorflow_part_1_feature_extraction_video.ipynb","currentUser":{"id":138370468,"login":"mail2maverick","userEmail":"vishy.turbo@gmail.com"},"blob":{"rawLines":["{","  \"nbformat\": 4,","  \"nbformat_minor\": 0,","  \"metadata\": {","    \"colab\": {","      \"name\": \"04-transfer-learning-in-tensorflow-part-1-feature-extraction-video.ipynb\",","      \"provenance\": [],","      \"collapsed_sections\": [],","      \"authorship_tag\": \"ABX9TyMmxupqY3JJ7TXf3nZHGoUq\",","      \"include_colab_link\": true","    },","    \"kernelspec\": {","      \"name\": \"python3\",","      \"display_name\": \"Python 3\"","    },","    \"accelerator\": \"GPU\"","  },","  \"cells\": [","    {","      \"cell_type\": \"markdown\",","      \"metadata\": {","        \"id\": \"view-in-github\",","        \"colab_type\": \"text\"","      },","      \"source\": [","        \"\u003ca href=\\\"https://colab.research.google.com/github/mrdbourke/tensorflow-deep-learning/blob/main/video_notebooks/04_transfer_learning_in_tensorflow_part_1_feature_extraction_video.ipynb\\\" target=\\\"_parent\\\"\u003e\u003cimg src=\\\"https://colab.research.google.com/assets/colab-badge.svg\\\" alt=\\\"Open In Colab\\\"/\u003e\u003c/a\u003e\"","      ]","    },","    {","      \"cell_type\": \"markdown\",","      \"metadata\": {","        \"id\": \"g1r8Bt5EdzVo\"","      },","      \"source\": [","        \"# Transfer Learning with TensorFlow Part 1: Feature Extraction\\n\",","        \"\\n\",","        \"Transfer learning is leveraging a working model's existing architecture and learned patterns for our own problem.\\n\",","        \"\\n\",","        \"There are two main benefits:\\n\",","        \"1. Can leverage an existing neural network architecture proven to work on problems similar to our own.\\n\",","        \"2. Can leverage a working neural network architecture which has already learned patterns on similar data to our own, then we can adapt those patterns to our own data\\n\",","        \"\\n\",","        \"See full course materials on GitHub: https://github.com/mrdbourke/tensorflow-deep-learning/\"","      ]","    },","    {","      \"cell_type\": \"code\",","      \"metadata\": {","        \"colab\": {","          \"base_uri\": \"https://localhost:8080/\"","        },","        \"id\": \"sAfDnA31eZcu\",","        \"outputId\": \"c893c4db-4426-4111-fa4f-6dbd0e544909\"","      },","      \"source\": [","        \"# Are we using a GPU?\\n\",","        \"!nvidia-smi\"","      ],","      \"execution_count\": null,","      \"outputs\": [","        {","          \"output_type\": \"stream\",","          \"text\": [","            \"Mon Feb 15 01:10:58 2021       \\n\",","            \"+-----------------------------------------------------------------------------+\\n\",","            \"| NVIDIA-SMI 460.39       Driver Version: 460.32.03    CUDA Version: 11.2     |\\n\",","            \"|-------------------------------+----------------------+----------------------+\\n\",","            \"| GPU  Name        Persistence-M| Bus-Id        Disp.A | Volatile Uncorr. ECC |\\n\",","            \"| Fan  Temp  Perf  Pwr:Usage/Cap|         Memory-Usage | GPU-Util  Compute M. |\\n\",","            \"|                               |                      |               MIG M. |\\n\",","            \"|===============================+======================+======================|\\n\",","            \"|   0  Tesla T4            Off  | 00000000:00:04.0 Off |                    0 |\\n\",","            \"| N/A   37C    P8     9W /  70W |      0MiB / 15109MiB |      0%      Default |\\n\",","            \"|                               |                      |                  N/A |\\n\",","            \"+-------------------------------+----------------------+----------------------+\\n\",","            \"                                                                               \\n\",","            \"+-----------------------------------------------------------------------------+\\n\",","            \"| Processes:                                                                  |\\n\",","            \"|  GPU   GI   CI        PID   Type   Process name                  GPU Memory |\\n\",","            \"|        ID   ID                                                   Usage      |\\n\",","            \"|=============================================================================|\\n\",","            \"|  No running processes found                                                 |\\n\",","            \"+-----------------------------------------------------------------------------+\\n\"","          ],","          \"name\": \"stdout\"","        }","      ]","    },","    {","      \"cell_type\": \"markdown\",","      \"metadata\": {","        \"id\": \"DxTYvBFVentG\"","      },","      \"source\": [","        \"## Downloading and becoming one with the data\"","      ]","    },","    {","      \"cell_type\": \"code\",","      \"metadata\": {","        \"colab\": {","          \"base_uri\": \"https://localhost:8080/\"","        },","        \"id\": \"cGeh8hWlesPd\",","        \"outputId\": \"095b07e8-09e0-4c9a-9037-305ddf660e0c\"","      },","      \"source\": [","        \"# Get data (10% of 10 food classes from Food101) - https://www.kaggle.com/dansbecker/food-101 \\n\",","        \"import zipfile\\n\",","        \"\\n\",","        \"# Download the data\\n\",","        \"!wget https://storage.googleapis.com/ztm_tf_course/food_vision/10_food_classes_10_percent.zip\\n\",","        \"\\n\",","        \"# Unzip the downloaded file\\n\",","        \"zip_ref = zipfile.ZipFile(\\\"10_food_classes_10_percent.zip\\\")\\n\",","        \"zip_ref.extractall()\\n\",","        \"zip_ref.close()\"","      ],","      \"execution_count\": null,","      \"outputs\": [","        {","          \"output_type\": \"stream\",","          \"text\": [","            \"--2021-02-15 01:10:59--  https://storage.googleapis.com/ztm_tf_course/food_vision/10_food_classes_10_percent.zip\\n\",","            \"Resolving storage.googleapis.com (storage.googleapis.com)... 172.217.8.16, 172.217.13.80, 172.217.13.240, ...\\n\",","            \"Connecting to storage.googleapis.com (storage.googleapis.com)|172.217.8.16|:443... connected.\\n\",","            \"HTTP request sent, awaiting response... 200 OK\\n\",","            \"Length: 168546183 (161M) [application/zip]\\n\",","            \"Saving to: ‘10_food_classes_10_percent.zip’\\n\",","            \"\\n\",","            \"10_food_classes_10_ 100%[===================\u003e] 160.74M  59.6MB/s    in 2.7s    \\n\",","            \"\\n\",","            \"2021-02-15 01:11:02 (59.6 MB/s) - ‘10_food_classes_10_percent.zip’ saved [168546183/168546183]\\n\",","            \"\\n\"","          ],","          \"name\": \"stdout\"","        }","      ]","    },","    {","      \"cell_type\": \"code\",","      \"metadata\": {","        \"colab\": {","          \"base_uri\": \"https://localhost:8080/\"","        },","        \"id\": \"jflo1HBrfEue\",","        \"outputId\": \"8db396ea-3d2f-4498-9091-80a3a9e1b5cd\"","      },","      \"source\": [","        \"# How many images in each folder?\\n\",","        \"import os\\n\",","        \"\\n\",","        \"# Walk through 10 percent data directory and list number of files\\n\",","        \"for dirpath, dirnames, filenames in os.walk(\\\"10_food_classes_10_percent\\\"):\\n\",","        \"  print(f\\\"There are {len(dirnames)} directories and {len(filenames)} images in '{dirpath}'.\\\")\"","      ],","      \"execution_count\": null,","      \"outputs\": [","        {","          \"output_type\": \"stream\",","          \"text\": [","            \"There are 2 directories and 0 images in '10_food_classes_10_percent'.\\n\",","            \"There are 10 directories and 0 images in '10_food_classes_10_percent/train'.\\n\",","            \"There are 0 directories and 75 images in '10_food_classes_10_percent/train/ice_cream'.\\n\",","            \"There are 0 directories and 75 images in '10_food_classes_10_percent/train/ramen'.\\n\",","            \"There are 0 directories and 75 images in '10_food_classes_10_percent/train/chicken_wings'.\\n\",","            \"There are 0 directories and 75 images in '10_food_classes_10_percent/train/pizza'.\\n\",","            \"There are 0 directories and 75 images in '10_food_classes_10_percent/train/steak'.\\n\",","            \"There are 0 directories and 75 images in '10_food_classes_10_percent/train/fried_rice'.\\n\",","            \"There are 0 directories and 75 images in '10_food_classes_10_percent/train/hamburger'.\\n\",","            \"There are 0 directories and 75 images in '10_food_classes_10_percent/train/grilled_salmon'.\\n\",","            \"There are 0 directories and 75 images in '10_food_classes_10_percent/train/sushi'.\\n\",","            \"There are 0 directories and 75 images in '10_food_classes_10_percent/train/chicken_curry'.\\n\",","            \"There are 10 directories and 0 images in '10_food_classes_10_percent/test'.\\n\",","            \"There are 0 directories and 250 images in '10_food_classes_10_percent/test/ice_cream'.\\n\",","            \"There are 0 directories and 250 images in '10_food_classes_10_percent/test/ramen'.\\n\",","            \"There are 0 directories and 250 images in '10_food_classes_10_percent/test/chicken_wings'.\\n\",","            \"There are 0 directories and 250 images in '10_food_classes_10_percent/test/pizza'.\\n\",","            \"There are 0 directories and 250 images in '10_food_classes_10_percent/test/steak'.\\n\",","            \"There are 0 directories and 250 images in '10_food_classes_10_percent/test/fried_rice'.\\n\",","            \"There are 0 directories and 250 images in '10_food_classes_10_percent/test/hamburger'.\\n\",","            \"There are 0 directories and 250 images in '10_food_classes_10_percent/test/grilled_salmon'.\\n\",","            \"There are 0 directories and 250 images in '10_food_classes_10_percent/test/sushi'.\\n\",","            \"There are 0 directories and 250 images in '10_food_classes_10_percent/test/chicken_curry'.\\n\"","          ],","          \"name\": \"stdout\"","        }","      ]","    },","    {","      \"cell_type\": \"markdown\",","      \"metadata\": {","        \"id\": \"P893f1c7fhmX\"","      },","      \"source\": [","        \"## Creating data loaders (preparing the data)\\n\",","        \"\\n\",","        \"We'll use the `ImageDataGenerator` class to load in our images in batches.\"","      ]","    },","    {","      \"cell_type\": \"code\",","      \"metadata\": {","        \"colab\": {","          \"base_uri\": \"https://localhost:8080/\"","        },","        \"id\": \"W5eHlXS3f_CV\",","        \"outputId\": \"fbf74a24-07d0-41c0-f6b1-196125e83892\"","      },","      \"source\": [","        \"# Setup data inputs\\n\",","        \"from tensorflow.keras.preprocessing.image import ImageDataGenerator\\n\",","        \"\\n\",","        \"IMAGE_SHAPE = (224, 224)\\n\",","        \"BATCH_SIZE = 32\\n\",","        \"\\n\",","        \"train_dir = \\\"10_food_classes_10_percent/train/\\\"\\n\",","        \"test_dir = \\\"10_food_classes_10_percent/test/\\\"\\n\",","        \"\\n\",","        \"train_datagen = ImageDataGenerator(rescale=1/255.)\\n\",","        \"test_datagen = ImageDataGenerator(rescale=1/255.)\\n\",","        \"\\n\",","        \"print(\\\"Training images:\\\")\\n\",","        \"train_data_10_percent = train_datagen.flow_from_directory(train_dir, \\n\",","        \"                                                          target_size=IMAGE_SHAPE,\\n\",","        \"                                                          batch_size=BATCH_SIZE,\\n\",","        \"                                                          class_mode=\\\"categorical\\\")\\n\",","        \"\\n\",","        \"print(\\\"Testing images:\\\")\\n\",","        \"test_data = test_datagen.flow_from_directory(test_dir,\\n\",","        \"                                             target_size=IMAGE_SHAPE,\\n\",","        \"                                             batch_size=BATCH_SIZE,\\n\",","        \"                                             class_mode=\\\"categorical\\\")\"","      ],","      \"execution_count\": null,","      \"outputs\": [","        {","          \"output_type\": \"stream\",","          \"text\": [","            \"Training images:\\n\",","            \"Found 750 images belonging to 10 classes.\\n\",","            \"Testing images:\\n\",","            \"Found 2500 images belonging to 10 classes.\\n\"","          ],","          \"name\": \"stdout\"","        }","      ]","    },","    {","      \"cell_type\": \"markdown\",","      \"metadata\": {","        \"id\": \"NhOBoTQNg2Gg\"","      },","      \"source\": [","        \"## Setting up callbacks (things to run whilst our model trains)\\n\",","        \"\\n\",","        \"Callbacks are extra functionality you can add to your models to be performed during or after training. Some of the most popular callbacks:\\n\",","        \"\\n\",","        \"* Tracking experiments with the TensorBoard callback\\n\",","        \"* Model checkpoint with the ModelCheckpoint callback\\n\",","        \"* Stopping a model from training (before it trains too long and overfits) with the EarlyStopping callback\"","      ]","    },","    {","      \"cell_type\": \"code\",","      \"metadata\": {","        \"id\": \"7ViytMClih4C\"","      },","      \"source\": [","        \"# Create TensorBoard callback (functionized beause we need to create a new one for each model)\\n\",","        \"import datetime\\n\",","        \"\\n\",","        \"def create_tensorboard_callback(dir_name, experiment_name):\\n\",","        \"  log_dir = dir_name + \\\"/\\\" + experiment_name + \\\"/\\\" + datetime.datetime.now().strftime(\\\"%Y%m%d-%H%M%S\\\")\\n\",","        \"  tensorboard_callback = tf.keras.callbacks.TensorBoard(log_dir=log_dir)\\n\",","        \"  print(f\\\"Saving TensorBoard log files to: {log_dir}\\\")\\n\",","        \"  return tensorboard_callback\"","      ],","      \"execution_count\": null,","      \"outputs\": []","    },","    {","      \"cell_type\": \"markdown\",","      \"metadata\": {","        \"id\": \"WjuTDU6Qk4-b\"","      },","      \"source\": [","        \"\u003e 🔑 **Note:** You can customize the directory where your TensorBoard logs (model training metrics) get saved to whatever you like. The `log_dir` parameter we've created above is only one option.\"","      ]","    },","    {","      \"cell_type\": \"markdown\",","      \"metadata\": {","        \"id\": \"vwVPObfRkRlQ\"","      },","      \"source\": [","        \"## Creating models using TensorFlow Hub\\n\",","        \"\\n\",","        \"In the past we've used TensorFlow to create our own models layer by layer from scratch.\\n\",","        \"\\n\",","        \"Now we're going to do a similar process, except the majroity of our model's layers are going to come from TensorFlow Hub.\\n\",","        \"\\n\",","        \"We can access pretrained models on: https://tfhub.dev/\\n\",","        \"\\n\",","        \"Browsing the TensorFlow Hub page and sorting for image classification, we found the following feature vector model link: https://tfhub.dev/tensorflow/efficientnet/b0/feature-vector/1\"","      ]","    },","    {","      \"cell_type\": \"code\",","      \"metadata\": {","        \"id\": \"DpffmlOGmkmF\"","      },","      \"source\": [","        \"# Let's compare the following two models\\n\",","        \"resnet_url = \\\"https://tfhub.dev/google/imagenet/resnet_v2_50/feature_vector/4\\\"\\n\",","        \"\\n\",","        \"efficientnet_url = \\\"https://tfhub.dev/tensorflow/efficientnet/b0/feature-vector/1\\\"\"","      ],","      \"execution_count\": null,","      \"outputs\": []","    },","    {","      \"cell_type\": \"code\",","      \"metadata\": {","        \"id\": \"xjRXzDNcqJZa\"","      },","      \"source\": [","        \"# Import dependencies \\n\",","        \"import tensorflow as tf\\n\",","        \"import tensorflow_hub as hub\\n\",","        \"from tensorflow.keras import layers\"","      ],","      \"execution_count\": null,","      \"outputs\": []","    },","    {","      \"cell_type\": \"code\",","      \"metadata\": {","        \"colab\": {","          \"base_uri\": \"https://localhost:8080/\"","        },","        \"id\": \"3dnz5Mgsrw9M\",","        \"outputId\": \"d918f3d4-0d98-43c3-b477-b4ac411e4dd5\"","      },","      \"source\": [","        \"IMAGE_SHAPE + (3,)\"","      ],","      \"execution_count\": null,","      \"outputs\": [","        {","          \"output_type\": \"execute_result\",","          \"data\": {","            \"text/plain\": [","              \"(224, 224, 3)\"","            ]","          },","          \"metadata\": {","            \"tags\": []","          },","          \"execution_count\": 8","        }","      ]","    },","    {","      \"cell_type\": \"code\",","      \"metadata\": {","        \"id\": \"0P-l1B8Uqh3G\"","      },","      \"source\": [","        \"# Let's make a create_model() function to create a model from a URL\\n\",","        \"def create_model(model_url, num_classes=10):\\n\",","        \"  \\\"\\\"\\\"\\n\",","        \"  Takes a TensorFlow Hub URL and creates a Keras Sequential model with it.\\n\",","        \"\\n\",","        \"  Args:\\n\",","        \"    model_url (str): A TensorFlow Hub feature extraction URL.\\n\",","        \"    num_classes (int): Number of output neurons in the output layer,\\n\",","        \"      should be equal to number of target classes, default 10.\\n\",","        \"  \\n\",","        \"  Returns:\\n\",","        \"    An uncompiled Keras Sequential model with model_url as feature extractor\\n\",","        \"    layer and Dense output layer with num_classes output neurons.\\n\",","        \"  \\\"\\\"\\\"\\n\",","        \"  # Download the pretrained model and save it as a Keras layer\\n\",","        \"  feature_extractor_layer = hub.KerasLayer(model_url,\\n\",","        \"                                           trainable=False, # freeze the already learned patterns\\n\",","        \"                                           name=\\\"feature_extraction_lyaer\\\",\\n\",","        \"                                           input_shape=IMAGE_SHAPE+(3,)) \\n\",","        \"\\n\",","        \"  # Create our own model\\n\",","        \"  model = tf.keras.Sequential([\\n\",","        \"    feature_extractor_layer,\\n\",","        \"    layers.Dense(num_classes, activation=\\\"softmax\\\", name=\\\"output_layer\\\")\\n\",","        \"  ])\\n\",","        \"    \\n\",","        \"  return model  \"","      ],","      \"execution_count\": null,","      \"outputs\": []","    },","    {","      \"cell_type\": \"markdown\",","      \"metadata\": {","        \"id\": \"r7g46khFsKTj\"","      },","      \"source\": [","        \"### Creating and testing ResNet TensorFlow Hub Feature Extraction model\"","      ]","    },","    {","      \"cell_type\": \"code\",","      \"metadata\": {","        \"id\": \"3hSY8MtJsDJ8\"","      },","      \"source\": [","        \"# Create Resnet model \\n\",","        \"resnet_model = create_model(resnet_url,\\n\",","        \"                            num_classes=train_data_10_percent.num_classes)\"","      ],","      \"execution_count\": null,","      \"outputs\": []","    },","    {","      \"cell_type\": \"code\",","      \"metadata\": {","        \"id\": \"Bq3C1VDosxw6\"","      },","      \"source\": [","        \"# Compile our resnet model\\n\",","        \"resnet_model.compile(loss=\\\"categorical_crossentropy\\\",\\n\",","        \"                     optimizer=tf.keras.optimizers.Adam(),\\n\",","        \"                     metrics=[\\\"accuracy\\\"])\"","      ],","      \"execution_count\": null,","      \"outputs\": []","    },","    {","      \"cell_type\": \"code\",","      \"metadata\": {","        \"colab\": {","          \"base_uri\": \"https://localhost:8080/\"","        },","        \"id\": \"bXOYieb2salv\",","        \"outputId\": \"7a01fb4b-efd7-49c6-97ee-c40f884d9234\"","      },","      \"source\": [","        \"# Let's fit our ResNet model to the data (10 percent of 10 classes)\\n\",","        \"resnet_history = resnet_model.fit(train_data_10_percent,\\n\",","        \"                                  epochs=5,\\n\",","        \"                                  steps_per_epoch=len(train_data_10_percent),\\n\",","        \"                                  validation_data=test_data,\\n\",","        \"                                  validation_steps=len(test_data),\\n\",","        \"                                  callbacks=[create_tensorboard_callback(dir_name=\\\"tensorflow_hub\\\",\\n\",","        \"                                                                         experiment_name=\\\"resnet50V2\\\"\\n\",","        \"                                                                         )])\"","      ],","      \"execution_count\": null,","      \"outputs\": [","        {","          \"output_type\": \"stream\",","          \"text\": [","            \"Saving TensorBoard log files to: tensorflow_hub/resnet50V2/20210215-011114\\n\",","            \"Epoch 1/5\\n\",","            \"24/24 [==============================] - 27s 753ms/step - loss: 2.5768 - accuracy: 0.1669 - val_loss: 1.3738 - val_accuracy: 0.5660\\n\",","            \"Epoch 2/5\\n\",","            \"24/24 [==============================] - 16s 672ms/step - loss: 1.0721 - accuracy: 0.6647 - val_loss: 0.9163 - val_accuracy: 0.7100\\n\",","            \"Epoch 3/5\\n\",","            \"24/24 [==============================] - 16s 668ms/step - loss: 0.6938 - accuracy: 0.8048 - val_loss: 0.7782 - val_accuracy: 0.7520\\n\",","            \"Epoch 4/5\\n\",","            \"24/24 [==============================] - 16s 667ms/step - loss: 0.5048 - accuracy: 0.8679 - val_loss: 0.7416 - val_accuracy: 0.7436\\n\",","            \"Epoch 5/5\\n\",","            \"24/24 [==============================] - 16s 667ms/step - loss: 0.4115 - accuracy: 0.9072 - val_loss: 0.7071 - val_accuracy: 0.7580\\n\"","          ],","          \"name\": \"stdout\"","        }","      ]","    },","    {","      \"cell_type\": \"markdown\",","      \"metadata\": {","        \"id\": \"5vW0JCXPwder\"","      },","      \"source\": [","        \"Wow!\\n\",","        \"\\n\",","        \"That. Is. Incredible. Our transfer learning feature extractor model out performed ALL of the previous models we built by hand... (substantially) and in a quicker training time AND with only 10% of the training examples.\"","      ]","    },","    {","      \"cell_type\": \"code\",","      \"metadata\": {","        \"id\": \"VuUcHxspvbre\"","      },","      \"source\": [","        \"# Let's create a function to plot our loss curves...\\n\",","        \"# Tidbit: you could put a function like this into a script called \\\"helper.py\\\" and import it when you need it...\\n\",","        \"import matplotlib.pyplot as plt\\n\",","        \"\\n\",","        \"# Plot the validation and training curves\\n\",","        \"def plot_loss_curves(history):\\n\",","        \"  \\\"\\\"\\\"\\n\",","        \"  Returns separate loss curves for training and validation metrics.\\n\",","        \"\\n\",","        \"  Args:\\n\",","        \"    history: TensorFlow History object.\\n\",","        \"\\n\",","        \"  Returns:\\n\",","        \"    Plots of training/validation loss and accuracy metrics.\\n\",","        \"  \\\"\\\"\\\"\\n\",","        \"  loss = history.history[\\\"loss\\\"]\\n\",","        \"  val_loss = history.history[\\\"val_loss\\\"]\\n\",","        \"\\n\",","        \"  accuracy = history.history[\\\"accuracy\\\"]\\n\",","        \"  val_accuracy = history.history[\\\"val_accuracy\\\"]\\n\",","        \"\\n\",","        \"  epochs = range(len(history.history[\\\"loss\\\"]))\\n\",","        \"\\n\",","        \"  # Plot loss\\n\",","        \"  plt.plot(epochs, loss, label=\\\"training_loss\\\")\\n\",","        \"  plt.plot(epochs, val_loss, label=\\\"val_loss\\\")\\n\",","        \"  plt.title(\\\"Loss\\\")\\n\",","        \"  plt.xlabel(\\\"Epochs\\\")\\n\",","        \"  plt.legend()\\n\",","        \"\\n\",","        \"  # Plot accuracy\\n\",","        \"  plt.figure()\\n\",","        \"  plt.plot(epochs, accuracy, label=\\\"training_accuracy\\\")\\n\",","        \"  plt.plot(epochs, val_accuracy, label=\\\"val_accuracy\\\")\\n\",","        \"  plt.title(\\\"Accuracy\\\")\\n\",","        \"  plt.xlabel(\\\"Epochs\\\")\\n\",","        \"  plt.legend();\\n\"","      ],","      \"execution_count\": null,","      \"outputs\": []","    },","    {","      \"cell_type\": \"code\",","      \"metadata\": {","        \"colab\": {","          \"base_uri\": \"https://localhost:8080/\",","          \"height\": 573","        },","        \"id\": \"mUuUM09tzMHc\",","        \"outputId\": \"df7d8cd3-0043-48e3-faef-d99f0ee308d6\"","      },","      \"source\": [","        \"plot_loss_curves(resnet_history)\"","      ],","      \"execution_count\": null,","      \"outputs\": [","        {","          \"output_type\": \"display_data\",","          \"data\": {","            \"image/png\": \"iVBORw0KGgoAAAANSUhEUgAAAXoAAAEWCAYAAABollyxAAAABHNCSVQICAgIfAhkiAAAAAlwSFlzAAALEgAACxIB0t1+/AAAADh0RVh0U29mdHdhcmUAbWF0cGxvdGxpYiB2ZXJzaW9uMy4yLjIsIGh0dHA6Ly9tYXRwbG90bGliLm9yZy+WH4yJAAAgAElEQVR4nO3deXgUVdb48e/JAoEkQEjClhAIEHZkEREERZBBBNHRcQbUcXcYEdef47i8jgujr844rzPihrhvw8i44oYCIogCEkIAAWUNkIAkhDVAIMv5/dEVCJClk3S6Op3zeZ5+0l33Vtfpgj51+9atW6KqGGOMCV4hbgdgjDGmdlmiN8aYIGeJ3hhjgpwlemOMCXKW6I0xJshZojfGmCBnid4YY4KcJXpTr4lIhoiMcDsOY2qTJXpjjAlyluiNOYmINBSRf4nIdufxLxFp6JTFicinIrJXRHaLyLciEuKU3SMiWSJyQER+FpHz3P0kxniEuR2AMQHof4CBQB9AgY+BB4C/AHcBmUC8U3cgoCLSBbgFOENVt4tIeyDUv2EbUzZr0RtzqiuByaqarao5wCPAVU5ZAdAaaKeqBar6rXomjCoCGgLdRSRcVTNUdaMr0RtzEkv0xpyqDbCl1OstzjKAJ4ENwFcisklE7gVQ1Q3AHcDDQLaI/EdE2mBMALBEb8yptgPtSr1OcpahqgdU9S5V7QBcBPy/kr54Vf23qg5x1lXgb/4N25iyWaI3BsJFJKLkAUwHHhCReBGJAx4E3gYQkQtFpJOICLAPT5dNsYh0EZHhzknbfOAwUOzOxzHmRJbojYHP8STmkkcEkAqsBFYBacCjTt0UYA6QBywCnlfVeXj6558AdgG/AC2A+/z3EYwpn9iNR4wxJrhZi94YY4KcJXpjjAlylSZ6EWkrIvNEZI2IrBaR28uoc6WIrBSRVSLyvYj0LlWW4SxPF5FUX38AY4wxFfPmythC4C5VTRORaGCZiMxW1TWl6mwGhqrqHhG5AJgGnFmqfJiq7vJd2MYYY7xVaaJX1R3ADuf5ARFZCyQAa0rV+b7UKouBxJoEFRcXp+3bt6/JWxhjTL2ybNmyXaoaX1ZZlea6cebv6AssqaDaDcAXpV4rnqsIFXhRVaeV894TgAkASUlJpKZaL48xxnhLRLaUV+Z1oheRKOB94A5V3V9OnWF4Ev2QUouHqGqWiLQAZovIT6q64OR1nQPANID+/fvbmE9jjPERr0bdiEg4niT/jqp+UE6d04CXgYtVNbdkuapmOX+zgQ+BATUN2hhjjPe8GXUjwCvAWlV9qpw6ScAHwFWquq7U8kjnBC4iEgmMBH70ReDGGGO8403XzWA8U7SuEpF0Z9n9eCZ6QlWn4pkLJBZ43nNcoFBV+wMtgQ+dZWHAv1V1lk8/gTHGLwoKCsjMzCQ/P9/tUOq1iIgIEhMTCQ8P93odb0bdLASkkjo3AjeWsXwT0PvUNYwxdU1mZibR0dG0b98ep/Fm/ExVyc3NJTMzk+TkZK/XsytjjTFeyc/PJzY21pK8i0SE2NjYKv+qskRvjPGaJXn3VeffIGgS/dHCYl6cv5HUjN1uh2KMMQElaBJ9YXExr3+fwUMzV1NUbMPwjTGmRNAk+sYNwrj3gq6s3r6f/6ZuczscY4yP7d27l+eff77K640ePZq9e/dWWOfBBx9kzpw51Q2tTFFRUT59v5oImkQPcFHvNpzRPoYnv/yZfYcL3A7HGOND5SX6wsLCCtf7/PPPadasWYV1Jk+ezIgRI2oUXyCr0lw3gU5EeGhsD8Y+u5Bn5q7ngQu7ux2SMUHpkU9Ws2Z7mTOhVFv3Nk14aGyPcsvvvfdeNm7cSJ8+fQgPDyciIoKYmBh++ukn1q1bx69//Wu2bdtGfn4+t99+OxMmTACgffv2pKamkpeXxwUXXMCQIUP4/vvvSUhI4OOPP6ZRo0Zce+21XHjhhVx22WW0b9+ea665hk8++YSCggL++9//0rVrV3JycrjiiivYvn07gwYNYvbs2Sxbtoy4uLgKP5eq8uc//5kvvvgCEeGBBx5g3Lhx7Nixg3HjxrF//34KCwt54YUXOOuss7jhhhtITU1FRLj++uu58847a7xvg6pFD9AzoSnj+rfl9e8z2JCd53Y4xhgfeeKJJ+jYsSPp6ek8+eSTpKWl8fTTT7Nunedi/FdffZVly5aRmprKlClTyM3NPeU91q9fz6RJk1i9ejXNmjXj/fffL3NbcXFxpKWlMXHiRP7xj38A8MgjjzB8+HBWr17NZZddxtatW72K+4MPPiA9PZ0VK1YwZ84c7r77bnbs2MG///1vzj///GNlffr0IT09naysLH788UdWrVrFddddV829daKgatGX+NP5Xfhs1Q7++ukaXr/uDBsSZoyPVdTy9pcBAwaccNHQlClT+PDDDwHYtm0b69evJzY29oR1kpOT6dOnDwCnn346GRkZZb73pZdeeqzOBx94pvdauHDhsfcfNWoUMTExXsW5cOFCLr/8ckJDQ2nZsiVDhw5l6dKlnHHGGVx//fUUFBTw61//mj59+tChQwc2bdrErbfeypgxYxg5cqT3O6QCQdeiB4iLasjt56Uwf10O837OdjscY0wtiIyMPPb8m2++Yc6cOSxatIgVK1bQt2/fMi8qatiw4bHnoaGh5fbvl9SrqE5NnXPOOSxYsICEhASuvfZa3nzzTWJiYlixYgXnnnsuU6dO5cYbT5lwoFqCMtEDXD2oPR3iI/nrp2s5WljsdjjGmBqKjo7mwIEDZZbt27ePmJgYGjduzE8//cTixYt9vv3BgwczY8YMAL766iv27Nnj1Xpnn3027777LkVFReTk5LBgwQIGDBjAli1baNmyJX/4wx+48cYbSUtLY9euXRQXF/Ob3/yGRx99lLS0NJ/EHpRdNwANwkJ48MLuXPvaUl77bjN/HNrR7ZCMMTUQGxvL4MGD6dmzJ40aNaJly5bHykaNGsXUqVPp1q0bXbp0YeDAgT7f/kMPPcTll1/OW2+9xaBBg2jVqhXR0dGVrnfJJZewaNEievfujYjw97//nVatWvHGG2/w5JNPEh4eTlRUFG+++SZZWVlcd911FBd7GqePP/64T2IX1cC7uKh///7qqztM3fD6UpZs3s3XfxpKi+gIn7ynMfXR2rVr6datm9thuObIkSOEhoYSFhbGokWLmDhxIunp6ZWvWAvK+rcQkWXOrMGnCNqumxIPXNidI4VFPDnrZ7dDMcbUYVu3buWMM86gd+/e3Hbbbbz00ktuh+S1oO26KZEcF8n1g5N5ccEmfj+wHb3bVnzhhDHGlCUlJYXly5efsCw3N5fzzjvvlLpz5849ZcSPm4I+0QPcMrwT76dl8fAnq/lg4lk23NIY4xOxsbGudd9URdB33QBER4Tz51FdWL51Lx+lZ7kdjjHG+FW9SPQAl/VLpHdiU5744icOHqmdcbHGGBOI6k2iDwkRHhzbg537j/D8NxvcDscYY/ym0kQvIm1FZJ6IrBGR1SJyexl1RESmiMgGEVkpIv1KlV0jIuudxzW+/gBVcXq7GC7pm8BL325ma+4hN0Mxxhi/8aZFXwjcpardgYHAJBE5eVrIC4AU5zEBeAFARJoDDwFnAgOAh0TEuwkiasm9F3QlLER49LM1boZhjKllFc0Hn5GRQc+ePf0YjbsqTfSqukNV05znB4C1QMJJ1S4G3lSPxUAzEWkNnA/MVtXdqroHmA2M8uknqKKWTSKYNKwTX63ZycL1u9wMxRhj/KJKwytFpD3QF1hyUlECUPq2TpnOsvKWl/XeE/D8GiApKakqYVXZDUOSeXfpNiZ/uprPbzubsNB6c6rCGN/44l74ZZVv37NVL7jgiXKL7733Xtq2bcukSZMAePjhhwkLC2PevHns2bOHgoICHn30US6++OIqbTY/P5+JEyeSmppKWFgYTz31FMOGDWP16tVcd911HD16lOLiYt5//33atGnD7373OzIzMykqKuIvf/kL48aNq9HH9gevM5yIRAHvA3eoqm/vOACo6jRV7a+q/ePj43399ieICA/lf8Z0Y93OPN5evKVWt2WM8Y1x48Ydm1QMYMaMGVxzzTV8+OGHpKWlMW/ePO666y6qOq3Lc889h4iwatUqpk+fzjXXXEN+fj5Tp07l9ttvJz09ndTUVBITE5k1axZt2rRhxYoV/Pjjj4wa5WoHhde8atGLSDieJP+Oqn5QRpUsoG2p14nOsizg3JOWf1OdQH1tZPeWDOkUx1Oz13FRnwSaRzZwOyRj6o4KWt61pW/fvmRnZ7N9+3ZycnKIiYmhVatW3HnnnSxYsICQkBCysrLYuXMnrVq18vp9Fy5cyK233gpA165dadeuHevWrWPQoEE89thjZGZmcumll5KSkkKvXr246667uOeee7jwwgs5++yza+vj+pQ3o24EeAVYq6pPlVNtJnC1M/pmILBPVXcAXwIjRSTGOQk70lnmOhHhwbHdOXi0iKdm2zw4xtQFv/3tb3nvvfd49913GTduHO+88w45OTksW7aM9PR0WrZsWeY89NVxxRVXMHPmTBo1asTo0aP5+uuv6dy5M2lpafTq1YsHHniAyZMn+2Rbtc2bFv1g4CpglYiUXOt7P5AEoKpTgc+B0cAG4BBwnVO2W0T+Cix11pusqrt9F37NdG4ZzVUD2/HmogyuGNCO7m2auB2SMaYC48aN4w9/+AO7du1i/vz5zJgxgxYtWhAeHs68efPYsqXqXbFnn30277zzDsOHD2fdunVs3bqVLl26sGnTJjp06MBtt93G1q1bWblyJV27dqV58+b8/ve/p1mzZrz88su18Cl9r9JEr6oLgQonh1FPp9ikcspeBV6tVnR+cOeIznycnsXkT1cz/Q8DbR4cYwJYjx49OHDgAAkJCbRu3Zorr7ySsWPH0qtXL/r370/Xrl2r/J4333wzEydOpFevXoSFhfH666/TsGFDZsyYwVtvvUV4eDitWrXi/vvvZ+nSpdx9992EhIQQHh7OCy+8UAuf0veCfj56b7y1eAt/+ehHnr+yH6N7tfbbdo2pS+r7fPSBxOajr4YrBiTRtVU0j322lvyCIrfDMcYYn7JED4SGCA+N7UHW3sNMW7DJ7XCMMT6yatUq+vTpc8LjzDPPdDssv6sX89F7Y1DHWEb3asXz32zgstMTadOskdshGRNwVLVOncfq1atXnZgvviqq091uLfpS7h/dDVV4/Iuf3A7FmIATERFBbm5utRKN8Q1VJTc3l4iIqt3/2lr0pSTGNOaPQzsyZe56rhrYjgHJzd0OyZiAkZiYSGZmJjk5OW6HUq9FRESQmJhYpXVs1M1JDh0t5Lz/m0/zyAbMvGUIoSF152eqMab+slE3VdC4QRj3je7G6u37mZG6rfIVjDEmwFmiL8PY01pzRvsYnvzyZ/YdLnA7HGOMqRFL9GUQ8Qy33HPoKFPmrnc7HGOMqRFL9OXomdCU8We05Y3vM9iQfcDtcIwxptos0VfgTyO70KhBKJM/XWtDyowxdZYl+grERjXk9vNSWLAuh69/ynY7HGOMqRZL9JW45qz2dIyP5K+fruFIoc2DY4ypeyzRVyI8NIQHx/YgI/cQr32X4XY4xhhTZZbovTC0czzndW3BM3PXk33AN3evMcYYf7FE76UHLuzO0aJi/j7LbjtojKlbLNF7KTkukusHJ/PeskzSt+11OxxjjPGaJfoquGV4J+KiGvLwzNUUF9twS2NM3VBpoheRV0UkW0R+LKf8bhFJdx4/ikiRiDR3yjJEZJVT5s4sZT4UHRHOPaO6kL5tLx+lZ7kdjjHGeMWbFv3rwKjyClX1SVXto6p9gPuA+aq6u1SVYU55mbOq1TW/6ZdI78SmPPHFT+QdKXQ7HGOMqVSliV5VFwC7K6vnuByYXqOIAlxIiPDQRT3IPnCE5+dtcDscY4yplM/66EWkMZ6W//ulFivwlYgsE5EJlaw/QURSRSQ10G9s0C8phkv7JvDyt5vZknvQ7XCMMaZCvjwZOxb47qRumyGq2g+4AJgkIueUt7KqTlPV/qraPz4+3odh1Y57LuhKWKjw6Gdr3Q7FGGMq5MtEP56Tum1UNcv5mw18CAzw4fZc1bJJBJOGdWL2mp18uz6wf4EYY+o3nyR6EWkKDAU+LrUsUkSiS54DI4EyR+7UVTcMSSapeWMmf7KGgqJit8MxxpgyeTO8cjqwCOgiIpkicoOI3CQiN5WqdgnwlaqW7rBuCSwUkRXAD8BnqjrLl8G7LSI8lP8Z04312Xm8vXiL2+EYY0yZwiqroKqXe1HndTzDMEsv2wT0rm5gdcXI7i0Z0imOf85ex8V9Emge2cDtkIwx5gR2ZWwNiQgPju3OwaNF/N9XNg+OMSbwWKL3gc4to7lqYDum/7CVNdv3ux2OMcacwBK9j9w5ojNNG4XzyCer7baDxpiAYoneR5o2DueukV1Ysnk3n6/6xe1wjDHmGEv0PnT5gCS6tormfz9fy+GjdttBY0xgsETvQ6EhwsMX9SBr72GmLdjkdjjGGANYove5gR1iGdOrNS/M30DW3sNuh2OMMZboa8N9o7uiCo9/bvPgGGPcZ4m+FiTGNOaPQzvy6cod/LDZ2xmejTGmdliiryUTh3akddMIHp65miK77aAxxkWW6GtJowah3De6G2t27OfdpdvcDscYU49Zoq9FY09rzYD2zfnHVz+z73CB2+EYY+opS/S1qGQenD2HjvL0nPVuh2OMqacs0deynglNGX9GW95clMGG7ANuh2OMqYcs0fvBn0Z2oVGDUB75ZI3Ng2OM8TtL9H4QG9WQO0Z05tv1u5i7NtvtcIwx9Ywlej+5elA7OsZH8tfP1nCk0ObBMcb4jyV6PwkPDeHBsT3YknuI177LcDscY0w9Yonej4Z2jmdEtxY8M3c92fvz3Q7HGFNPeHNz8FdFJFtEfiyn/FwR2Sci6c7jwVJlo0TkZxHZICL3+jLwuup/xnTnaFExf5tltx00xviHNy3614FRldT5VlX7OI/JACISCjwHXAB0By4Xke41CTYYJMdFcv2QZN5PyyR92163wzHG1AOVJnpVXQBUZ2auAcAGVd2kqkeB/wAXV+N9gs6tw1OIj27IwzNXU2zz4Bhjapmv+ugHicgKEflCRHo4yxKA0pO8ZDrLyiQiE0QkVURSc3JyfBRWYIpqGMafz+9C+ra9fLg8y+1wjDFBzheJPg1op6q9gWeAj6rzJqo6TVX7q2r/+Ph4H4QV2H7TL5HebZvxt1k/kXek0O1wjDFBrMaJXlX3q2qe8/xzIFxE4oAsoG2pqonOMgOEhAgPje1O9oEjPDdvg9vhGGOCWI0TvYi0EhFxng9w3jMXWAqkiEiyiDQAxgMza7q9YNIvKYZL+ybwyrebydh10O1wjDFBypvhldOBRUAXEckUkRtE5CYRucmpchnwo4isAKYA49WjELgF+BJYC8xQ1dW18zHqrnsu6EpYqPCY3XbQGFNLwiqroKqXV1L+LPBsOWWfA59XL7T6oWWTCG4Z3om/z/qZb9fncHZK8J+fMMb4l10ZGwCuH5xMUvPGPPLJGgqKit0OxxgTZCzRB4CI8FAeGNONDdl5vLVoi9vhGGOCjCX6APGr7i05OyWOf85ZR27eEbfDMcYEEUv0AUJEePDC7hw6WsT/zV7ndjjGmCBiiT6ApLSM5qqB7Zj+w1ZWb9/ndjjGmCBhiT7A3DmiM80ahdttB40xPmOJPsA0bRzOXSO78MPm3Xy2aofb4RhjgkDwJHpV+PzPsGGu25HU2OUDkujWugn/+9laDh+12w4aY2omeBL94T2waR68fSl8eiccyXM7omoLdebB2b4vnxcXbHQ7HGNMHRc8ib5xc/jjAhh0C6S+Bi+cBRkL3Y6q2gZ2iGVMr9ZMnb+RrL2H3Q7HGFOHBU+iBwhvBOc/Btd9ARICr4+BL+6Fo4fcjqxa7hvdFVX4X5sHxxhTA8GV6Eu0GwQTv4MBE2DJCzB1CGz7we2oqiwxpjE3De3IZyt3sGRTrtvhGGPqqOBM9AANImH0k3D1TCgqgFfPh9kPQkG+25FVyU1DO9KmaQQPf7KGIrvtoDGmGoI30ZfoMNTTuu97FXz3NEwbCllpbkfltUYNQrlvdDfW7tjPf5ZudTscY0wdFPyJHiCiCVw0Ba58H/L3w8sj4OtHofCo25F55cLTWjOgfXP+8eXP7DtU4HY4xpg6pn4k+hIpI+DmRXDa72DBk/DScPhlldtRVUpEeHBsd/YeLuBfc20eHGNM1dSvRA/QqBlcMhXGT4e8nTBtGMx/EooC+wbdPROaMv6MJN5ctIX1Ow+4HY4xpg6pf4m+RNfRMGkJdL8I5j0Kr4yA7J/cjqpCfxrZmcYNQpn8qc2DY4zxXv1N9OC5yOqyV+G3r8PerfDiOZ4TtsWBOe1AbFRD7hjRmW/X72LO2my3wzHG1BHe3Bz8VRHJFpEfyym/UkRWisgqEfleRHqXKstwlqeLSKovA/epHpfAzYsh5VeeIZivXQC5gTn1wNWD2tGpRRSPfraGI4WBeUAyxgQWb1r0rwOjKijfDAxV1V7AX4FpJ5UPU9U+qtq/eiH6SVQLGPc2XPoS5PwELwyGxVOhOLDu4RoeGsJfLuzOltxDvLoww+1wjDF1QKWJXlUXALsrKP9eVfc4LxcDiT6Kzf9EPCNybl4CyWfDrHvgzYtgT4bbkZ1gaOd4RnRrwbNfryd7f926AMwY43++7qO/Afii1GsFvhKRZSIyoaIVRWSCiKSKSGpOTo6Pw6qiJq3hihlw0bOwPd3Tuk991TMVcoB4YEx3CoqUJ2YF9glkY4z7fJboRWQYnkR/T6nFQ1S1H3ABMElEzilvfVWdpqr9VbV/fHy8r8KqPhHod5Vn3H1if8/Ux29fCvsy3Y4MgPZxkVw/JJkP0rJYvnVP5SsYY+otnyR6ETkNeBm4WFWPzb6lqlnO32zgQ2CAL7bnV83awlUfwZj/g61L4PlBsPydgGjd3zK8E/HRDXn4kzUU2zw4xphy1DjRi0gS8AFwlaquK7U8UkSiS54DI4EyR+4EPBE440bPnDmtesHHN8P08XDgF1fDimoYxj2jurJi214+WJ7laizGmMDlzfDK6cAioIuIZIrIDSJyk4jc5FR5EIgFnj9pGGVLYKGIrAB+AD5T1Vm18Bn8p3kyXPMpnP84bPoGnjsTVr3nauv+0r4J9G7bjL/N+om8I4F9da8xxh0SiFdY9u/fX1NTA3fYPQC71sNHEyFzKXS7CMY8BVHunFtYvnUPlzz/PTcN7ci9F3R1JQZjjLtEZFl5w9jr95WxNRGXAtd/CSMehnWz4PmBsOZjV0LpmxTDpf0SeHXhZjJ2HXQlBmNM4LJEXxMhoTDkTpgwH5omwIyr4f0b4VC5lx3UmntHdSU8VHj0M7vtoDHmRJbofaFld7hxLpx7P6z+0DMyZ92Xfg2hRZMIJg3vxJy1O1mwzuXrEIwxAcUSva+EhsO598AfvobGsfDv38FHkyB/n99CuGFIMu1iGzP50zUUFAXW1A3GGPdYove11r1hwjdw9p9gxXRP637DXL9sumFYKA+M6c6G7DzeWrTFL9s0xgQ+S/S1IawBnPcXuHE2NIjyXFH7yR1wpPZvGDKiWwvOTonjn3PWkZt3pNa3Z4wJfJboa1PC6fDHBXDWrbDsdXjhLNj8ba1uUkR48MLuHDpaxD++stsOGmMs0de+8AgY+ShcPwtCwuCNC+GLe+DooVrbZErLaK4e1I7/LN3K6u3+O0dgjAlMluj9JWkg3LQQBvwRlkyFqUM8c+fUkjvO60yzRuE8MtNuO2hMfWeJ3p8aRMLov8M1n0BxAbw2Cr76CxT4fk75po3D+dP5XfghYzefrtzh8/c3xtQdlujdkHwOTPwe+l0N30+BaUMhK83nmxl/RhLdWjfh8c/Xcvio3XbQmPrKEr1bGkbD2Kfh9+9D/n54eQR8/SgUHvXZJkJDhIfHdmf7vnymzg/Me+AaY2qfJXq3dRrhubnJaeNgwZPw0nD4ZZXP3v7MDrGMOa01U+dvJHNP7Z0ANsYELkv0gaBRM7jkBRg/HfJ2wrRhMP9JKPLNtMP3j+4GwONf2G0HjamPLNEHkq6jYdIS6H4RzHsUXhkB2TVPzgnNGnHT0I58tnIHizflVr6CMSaoWKIPNI2bw2Wvwm/fgL1b4cVz4LunobhmJ1NvGtqRNk0jeOSTNRTZbQeNqVcs0QeqHr+Gm5dAyq9g9oPw2gWQW/0Tqo0ahHL/mG6s3bGf/yzd6sNAjTGBzhJ9IIuKh3Fvw6UvQ87P8MJgWDwViqs3M+WYXq0ZkNycf3z5M/sOFfg4WGNMoLJEH+hE4LTfws2LPePvZ90Db4yFPRnVeCvhobHd2Xe4gH/OsXlwjKkvvEr0IvKqiGSLyI/llIuITBGRDSKyUkT6lSq7RkTWO49rfBV4vdOkNVzxLlz8HPyyEp4/C5a+UuUbk/do05TxA5J4a/EW1u+s/dk0jTHu87ZF/zowqoLyC4AU5zEBeAFARJoDDwFnAgOAh0QkprrB1nsi0Pf3nqtq2w6Az/4fvHUJ7Mus0tvc9avONG4QyuRPbR4cY+oDrxK9qi4AKroR6sXAm+qxGGgmIq2B84HZqrpbVfcAs6n4gGG80awtXPUhjHkKtv3gubnJ8re9bt3HRjXkzhGd+Xb9Lt5blmnJ3pgg56s++gRgW6nXmc6y8pafQkQmiEiqiKTm5Ng9TyslAmfcABO/g1anwceTYPp4OPCLV6tfNagdPROacPd7K/ndi4v4bsMuS/jGBKmAORmrqtNUtb+q9o+Pj3c7nLqjebJnNsxRT8Cm+fDcmbDyv5W27sNDQ3h/4llMvrgHW3cf4sqXlzBu2mK+37jLT4EbY/zFV4k+C2hb6nWis6y85caXQkJg4ETPfPdxKfDBjTDjasir+JdRw7BQrh7Unvl3D+Phsd3J2HWQK15awrgXF9kVtMYEEV8l+pnA1c7om4HAPlXdAXwJjBSRGOck7EhnmakNcZ3g+i9hxCOwbhY8PxDWfFzpahHhoVw7OJkFfx7Ggxd2Z9Oug4yftpjLpy3mh80VnZoxxtQF4k2/rIhMB84F4oCdeEbShH8tfPAAABSMSURBVAOo6lQREeBZPCdaDwHXqWqqs+71wP3OWz2mqq9Vtr3+/ftrampqlT+MKSV7LXx4E+xIh56XwegnPdMreCG/oIi3F29h6vxN7Mo7wuBOsdw5ojP923u3vjHG/0Rkmar2L7MsEE/AWaL3kaICWPhPmP83aBwLY6dAF+8HPR0+WpLwN5J78Chnp8Rxx4jOnN7ORsgaE2gs0dd3O1bCRxNh54/Q50oY9ThENPV69UNHC3lr0RZeXLCJ3QePck7neO4ckULfJEv4xgQKS/TGc+eq+X/ztPCjW8FFz0Cn86r0FgePFPLmoi1MW7CRPYcKOLdLPHeM6Eyfts1qKWhjjLcs0ZvjspbBhxNh189w+nUw/AGIjKvSW+QdKeSN7zN46dtN7D1UwPCuLbhjRAqnJVrCN8YtlujNiQryYd5j8P0zgEKzdpDQD9r09Txa9/aqa6ck4U9bsIl9hwsY0a0Fd4zoTM8E77uFjDG+YYnelO2XVbBhLmxf7nns3XK8LLYTtCmd/E+DBpFlvs2B/AJe/87Twt+fX8ivurfkjhEp9GhjCd8Yf7FEb7xzaDdsT3MSf7rn737n+jYJgbguJ7b8W/aE8Ihjq+/PL+C1hRm8vHATB/ILOb9HS+4Y0ZlurZu49IGMqT8s0ZvqO7DzeIt/+3LPgeCgc8VtSBi06H488bfpCy26s69AeGXhZl5buJkDRwq5oGcrbh+RQtdWlvCNqS2W6I3vqHpa+Sck/+VweI+nPLQhtOoJbfpyKO40/rs9jqfShX1HlDG9WnP7iBQ6t4x29zMYE4Qs0Zvaperp389KO574d6yAI/s9xeGNyYpIYd7+NqQVJtM85UzGjxpGSivrwzfGVyzRG/8rLobdG09o9euOFUjBIQAOaCN2NO5CfJcziel0pqfbJybZM/2yMabKLNGbwFBcBDk/k5exlJ/TFhD2Szpd2UJDcW5UHtHsxP7+Nn2haaIlf2O8YIneBKTcvCO8/M3PLFnyHV2KNzA2fienh2fQMHctFBd6KkXGn5r8o1u5G7gxAaiiRB/m72CMKREb1ZB7LjyNXed24cX5G7l+8RaOFhZzWe847uhVQJuDa51hnmmwYQ5osWfF6DanJv/IWHc/jDEBzFr0JmBkH8jnxfmbeHvxFgqLlUv6JnDb8BSSYhvD0YOeC7xK+vyz0iB3/fGVmyWdmPhb94FGNiWDqT+s68bUKdn783lh/kbeWbKVomLlN/0SuHV4Cm2bNz6xYv5+z+iekvH925fDnozj5c07npT8T4OGNrTTBCdL9KZO2rk/nxe+2ci/f9hKcbFy2emJTBrW6dSEX9qh3Z6brRxr+S+H/ZlOoUB8lxOTf6teEN7IL5/HmNpkid7Uab/sy+f5bzbwnx+2UazKb/u35ZbhnUho5mWCzss+PqXD9jRPt8/BbE+ZhDpX9/YpNbVDDwhrWHsfyJhaYIneBIXtew/z/DcbeHfpNgB+178tk4Z1oo23Cb+EKhzYcWJ///blcNi5P25oA0+yL93yj+8GoTZ2wQQuS/QmqGTtPcxz8zbw39RtCMK4M9py87COtG5agy4YVdi79cQ5fbavgCP7POVhEdDqNGie7OnnP/ZoAg2iTl3W0FkW3tiuAzB+UeNELyKjgKeBUOBlVX3ipPJ/AsOcl42BFqrazCkrAlY5ZVtV9aLKtmeJ3ngjc88hJ+FnEiLC5QPacvOwTrRsElH5yt4oLoY9m09s+e/PgiMHPNM7lIz1r4iEVHBAOOmgUOHBIxpCw33zuUxQqlGiF5FQYB3wKyATWApcrqpryql/K9BXVa93XuepalRVArZEb6pi225Pwn9vWSYhIcIVA5K4+dyOtPBVwi+LKhQeOZ70j+Y5zw8cX3akjGWn1DvgWeaNsAjvDgiVHTwaRNqvjCBU00Q/CHhYVc93Xt8HoKqPl1P/e+AhVZ3tvLZEb/xia+4hnp23nvfTsggLEa48sx03nduBFtG1mPB9obi47AOFVwePA3DU+Zu/H4oLKt+ehECDkgNAOQeKirqjStcJa1D7+8d4paaJ/jJglKre6Ly+CjhTVW8po247YDGQqKpFzrJCIB0oBJ5Q1Y/K2c4EYAJAUlLS6Vu2bCmrmjGV2pJ7kGe+3sCHyz0J//cD23HT0I7ER9eDkTSlf2V49YuigoOHN0IbVnxAOPYrIsqzvEHU8TrHljkHHBvpVCP+TPT34Enyt5ZalqCqWSLSAfgaOE9VN1a0TWvRG1/I2HWQKV+v56PlWTQIC+Gqge3449COxEVZQqlUcTEUHKxmd9R+56+zvOiId9sMCT8x8Z9wcCh10DhlWTnrhITW7j4KMDWd6yYLaFvqdaKzrCzjgUmlF6hqlvN3k4h8A/QFKkz0xvhC+7hInvpdH24Z1olnvt7AKws38/birVw9qB0TzulArCX88oWEHG+V11RRwfFzEUfynL/7Sz3Pc7qf8k6qcwDy98G+rBPrlcx5VJnwxpX8kijr10Y5r8Mb1enzGt606MPwnIw9D0+CXwpcoaqrT6rXFZgFJKvzpiISAxxS1SMiEgcsAi4u70RuCWvRm9qwITuPZ75ez8wV22kUHsrVg9oz4ZwONI+0fuY6QxUKDp14MDj54FDh65MOMIWHvduuhHrxa6O812V0VdXCNRm+GF45GvgXnuGVr6rqYyIyGUhV1ZlOnYeBCFW9t9R6ZwEvAsVACPAvVX2lsu1Zoje1aUP2AZ6eu4FPV26ncXgo15zVnj+c3YEYS/j1T1GhJ+l7dbA4UPGvj6N53g25Bc8IqrK6naJbwsXPVeuj2AVTxpRh3c4DPD13PZ+v2kFkgzCuPas9N56dTLPGlvBNNZQMufXml0R5B4sGkXDd59XavCV6Yyrw8y8HeHruOj5f9QvRDcO4bnB7bhjSgaaN7QIlU3dYojfGC2t37OfpOeuZtfoXoiPCuH5wMtcPSaZpI0v4JvBZojemClZv38fTc9bz1ZqdNIkI44YhHbhuSHuaRFjCN4HLEr0x1fBj1j7+NWc9c9bupGmjcG4cksxVg9pZH74JSJbojamBVZn7eHruOuas9cxh36lFFP2SmtEvKYZ+7WLoFB9FSEjdHWNtgoMlemN84Mesfcz7KZu0rXtYvm0vew955pWJjgijT9vjib9P22bWr2/8rqZXxhpjgJ4JTemZ0BQAVWXTroOkbdlD2ta9LN+6hylfr6ek3ZTSIop+STH0TWpmrX7jOmvRG+MjeUcKWbFtr5P8rdVv/Mta9Mb4QVTDMAZ3imNwpzjAWv0mcFiL3hg/OpBfwIpt+1i+1Vr9xresRW9MgIiOCGdIShxDUipv9YtAp/goJ/F7DgAdrdVvqsFa9MYEGGv1m+qwFr0xdYi1+o2vWYvemDqopNWfVtLq37qXfYet1V+fWYvemCBjrX5TFdaiNyZIVdTqbxIRRp+kGPq2bWat/iBhLXpj6iFr9ZsS1qI3ph6zVn/wsBa9MaZMJ7f6i4s9rX7P0E5r9QcLb28OPgp4Gs/NwV9W1SdOKr8WeBLIchY9q6ovO2XXAA84yx9V1Tcq25616I0JHN60+kumbe5trX7X1GiaYhEJBdYBvwIygaXA5aq6plSda4H+qnrLSes2B1KB/oACy4DTVXVPRdu0RG9M4Cqr1f/zzgNltvp7JjSlQ1wUjRqEuh120Ktp180AYIOqbnLe7D/AxcCaCtfyOB+Yraq7nXVnA6OA6d4EbowJPCEhQqcWUXRqEcVv+7cFTm31z1r9C++mbju2TpumESTHR5IcF0mHuCiS4yPpEBdJYkxjQq3rp9Z5k+gTgG2lXmcCZ5ZR7zcicg6e1v+dqrqtnHUTytqIiEwAJgAkJSV5EZYxJlCU19f/0y/72ZxzkM27DrJx10E+Tt/OgfzCY+s1CA0hKbYxHeIijyX/DvFRJMdFEhvZABE7CPiCr07GfgJMV9UjIvJH4A1geFXeQFWnAdPA03Xjo7iMMS4o3eovTVXZffAom3YdZHPOQTbuyjt2IPjm5xyOFhUfq9skIozk+ChP8ncOBMlxnkfjBjaOpCq82VtZQNtSrxM5ftIVAFXNLfXyZeDvpdY996R1v6lqkMaY4CAixEY1JDaqIWe0b35CWVGxkrXnMJt25bHJSf6bdx1kyaZcPlx+QsqhddMITzdQfCTJcc7BID6ShGaNCAsN8edHqhO8SfRLgRQRScaTuMcDV5SuICKtVXWH8/IiYK3z/Evgf0Ukxnk9ErivxlEbY4JOaIiQFNuYpNjGnNvlxLLDR4uOJf7NzoFg066DzEzfzv5SXUHhoUK72JJzAccPBMlxkcRF1d+uoEoTvaoWisgteJJ2KPCqqq4WkclAqqrOBG4TkYuAQmA3cK2z7m4R+SuegwXA5JITs8YY461GDULp3qYJ3ds0OWF5SVfQ5l0HjyX/kgPB/JO6gqIjwk44B3D8F0HwdwXZlbHGmKBUVKxs33uYjTl5xw4EJb8KsvYePqFuqyYRx5J+B+e8QHJcJIkxdacryK6MNcbUO6EhQtvmjWnbvOyuoIzcg84BIM/5JXCQT1fuOHYxGHi6gpKaNyY5LoqOpU4Gd4iPqlNdQZbojTH1TqMGoXRr3YRurU/tCtpzqOCE5L/J+UWwYN1JXUENw479CkiOiyr1PJLIhoGVWgMrGmOMcZGI0DyyAc0jm9O/jFFB2/ceZlOp5L9510GWZuzho/TtJ9Rt1STihHMAHeI9F4q51RVkid4YY7xQuitoaOf4E8ryCzxdQSXnAUrOC5zcFRTmjCzqUOoXQMk1AvFRDWutK8gSvTHG1FBEeChdWzWha6smp5R5RgUdHxJacoHYgvU5HC08sSuoa+toZvxxkM8TviV6Y4ypRSVdQae3K78raLPzC+BIYXGttOot0RtjjAsq6grytboxQNQYY0y1WaI3xpggZ4neGGOCnCV6Y4wJcpbojTEmyFmiN8aYIGeJ3hhjgpwlemOMCXIBOR+9iOQAW6q5ehywy4fh+IrFVTUWV9VYXFUTjHG1U9Uyr7wKyERfEyKSWt7k+26yuKrG4qoai6tq6ltc1nVjjDFBzhK9McYEuWBM9NPcDqAcFlfVWFxVY3FVTb2KK+j66I0xxpwoGFv0xhhjSrFEb4wxQa7OJnoRGSUiP4vIBhG5t4zyhiLyrlO+RETaB0hc14pIjoikO48b/RDTqyKSLSI/llMuIjLFiXmliPSr7Zi8jOtcEdlXal896Ke42orIPBFZIyKrReT2Mur4fZ95GZff95mIRIjIDyKywonrkTLq+P376GVcfv8+ltp2qIgsF5FPyyjz7f5S1Tr3AEKBjUAHoAGwAuh+Up2bganO8/HAuwES17XAs37eX+cA/YAfyykfDXwBCDAQWBIgcZ0LfOrC/6/WQD/neTSwrox/R7/vMy/j8vs+c/ZBlPM8HFgCDDypjhvfR2/i8vv3sdS2/x/w77L+vXy9v+pqi34AsEFVN6nqUeA/wMUn1bkYeMN5/h5wntTWLdarFpffqeoCYHcFVS4G3lSPxUAzEWkdAHG5QlV3qGqa8/wAsBZIOKma3/eZl3H5nbMP8pyX4c7j5FEefv8+ehmXK0QkERgDvFxOFZ/ur7qa6BOAbaVeZ3Lqf/hjdVS1ENgHxAZAXAC/cX7uvycibWs5Jm94G7cbBjk/vb8QkR7+3rjzk7kvntZgaa7uswriAhf2mdMNkQ5kA7NVtdz95cfvozdxgTvfx38BfwaKyyn36f6qq4m+LvsEaK+qpwGzOX7UNqdKwzN/R2/gGeAjf25cRKKA94E7VHW/P7ddkUricmWfqWqRqvYBEoEBItLTH9utjBdx+f37KCIXAtmquqy2t1Wirib6LKD0kTfRWVZmHREJA5oCuW7Hpaq5qnrEefkycHotx+QNb/an36nq/pKf3qr6ORAuInH+2LaIhONJpu+o6gdlVHFln1UWl5v7zNnmXmAeMOqkIje+j5XG5dL3cTBwkYhk4OneHS4ib59Ux6f7q64m+qVAiogki0gDPCcrZp5UZyZwjfP8MuBrdc5suBnXSf24F+HpZ3XbTOBqZyTJQGCfqu5wOygRaVXSLykiA/D8f6315OBs8xVgrao+VU41v+8zb+JyY5+JSLyINHOeNwJ+Bfx0UjW/fx+9icuN76Oq3qeqiaraHk+O+FpVf39SNZ/ur7DqrugmVS0UkVuAL/GMdHlVVVeLyGQgVVVn4vlCvCUiG/Cc8BsfIHHdJiIXAYVOXNfWdlwiMh3PaIw4EckEHsJzYgpVnQp8jmcUyQbgEHBdbcfkZVyXARNFpBA4DIz3w8EaPC2uq4BVTv8uwP1AUqnY3Nhn3sTlxj5rDbwhIqF4DiwzVPVTt7+PXsbl9+9jeWpzf9kUCMYYE+TqateNMcYYL1miN8aYIGeJ3hhjgpwlemOMCXKW6I0xJshZojf1hogUlZqlMF3KmF20Bu/dXsqZhdMYt9XJcfTGVNNh53J4Y+oVa9Gbek9EMkTk7yKyypm/vJOzvL2IfO1MeDVXRJKc5S1F5ENn4rAVInKW81ahIvKSeOY+/8q5GhMRuU08c8ivFJH/uPQxTT1mid7UJ41O6roZV6psn6r2Ap7FM7MgeCYFe8OZ8OodYIqzfAow35k4rB+w2lmeAjynqj2AvcBvnOX3An2d97mptj6cMeWxK2NNvSEieaoaVcbyDGC4qm5yJg37RVVjRWQX0FpVC5zlO1Q1TkRygMRSk2GVTBs8W1VTnNf3AOGq+qiIzALy8Mwk+VGpOdKN8Qtr0RvjoeU8r4ojpZ4Xcfwc2BjgOTyt/6XObITG+I0lemM8xpX6u8h5/j3HJ5O6EvjWeT4XmAjHbmzRtLw3FZEQoK2qzgPuwTPd7Cm/KoypTdayMPVJo1KzPgLMUtWSIZYxIrIST6v8cmfZrcBrInI3kMPxGSpvB6aJyA14Wu4TgfKmKA4F3nYOBgJMceZGN8ZvrI/e1HtOH31/Vd3ldizG1AbrujHGmCBnLXpjjAly1qI3xpggZ4neGGOCnCV6Y4wJcpbojTEmyFmiN8aYIPf/AYXpjrbKXKHzAAAAAElFTkSuQmCC\\n\",","            \"text/plain\": [","              \"\u003cFigure size 432x288 with 1 Axes\u003e\"","            ]","          },","          \"metadata\": {","            \"tags\": [],","            \"needs_background\": \"light\"","          }","        },","        {","          \"output_type\": \"display_data\",","          \"data\": {","            \"image/png\": \"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\\n\",","            \"text/plain\": [","              \"\u003cFigure size 432x288 with 1 Axes\u003e\"","            ]","          },","          \"metadata\": {","            \"tags\": [],","            \"needs_background\": \"light\"","          }","        }","      ]","    },","    {","      \"cell_type\": \"markdown\",","      \"metadata\": {","        \"id\": \"Qddtb8zIzjn3\"","      },","      \"source\": [","        \"### Creating and testing EfficientNetB0 TensorFlow Hub Feature Extraction model\"","      ]","    },","    {","      \"cell_type\": \"code\",","      \"metadata\": {","        \"id\": \"CsME3MLezOJw\",","        \"colab\": {","          \"base_uri\": \"https://localhost:8080/\"","        },","        \"outputId\": \"27ee0a78-bfee-472f-8c29-c47204eda422\"","      },","      \"source\": [","        \"# Create EfficinetNetB0 feature extractor model - details on EfficientNet: https://ai.googleblog.com/2019/05/efficientnet-improving-accuracy-and.html#:~:text=EfficientNet%2DB0%20is%20the%20baseline,than%20the%20best%20existing%20CNN.\\n\",","        \"efficientnet_model = create_model(model_url=efficientnet_url,\\n\",","        \"                                  num_classes=train_data_10_percent.num_classes)\\n\",","        \"\\n\",","        \"# Compile EfficientNet model\\n\",","        \"efficientnet_model.compile(loss=\\\"categorical_crossentropy\\\",\\n\",","        \"                           optimizer=tf.keras.optimizers.Adam(),\\n\",","        \"                           metrics=[\\\"accuracy\\\"])\\n\",","        \"\\n\",","        \"# Fit EfficientNet model to 10% of training data\\n\",","        \"efficientnet_history = efficientnet_model.fit(train_data_10_percent,\\n\",","        \"                                              epochs=5,\\n\",","        \"                                              steps_per_epoch=len(train_data_10_percent),\\n\",","        \"                                              validation_data=test_data,\\n\",","        \"                                              validation_steps=len(test_data),\\n\",","        \"                                              callbacks=[create_tensorboard_callback(dir_name=\\\"tensorflow_hub\\\",\\n\",","        \"                                                                                     experiment_name=\\\"efficientnetb0\\\")])\"","      ],","      \"execution_count\": null,","      \"outputs\": [","        {","          \"output_type\": \"stream\",","          \"text\": [","            \"Saving TensorBoard log files to: tensorflow_hub/efficientnetb0/20210215-014456\\n\",","            \"Epoch 1/5\\n\",","            \"24/24 [==============================] - 24s 742ms/step - loss: 1.9990 - accuracy: 0.3260 - val_loss: 1.2458 - val_accuracy: 0.7532\\n\",","            \"Epoch 2/5\\n\",","            \"24/24 [==============================] - 15s 633ms/step - loss: 1.1410 - accuracy: 0.7557 - val_loss: 0.8425 - val_accuracy: 0.8236\\n\",","            \"Epoch 3/5\\n\",","            \"24/24 [==============================] - 15s 633ms/step - loss: 0.7825 - accuracy: 0.8237 - val_loss: 0.6847 - val_accuracy: 0.8460\\n\",","            \"Epoch 4/5\\n\",","            \"24/24 [==============================] - 15s 630ms/step - loss: 0.5854 - accuracy: 0.8776 - val_loss: 0.6021 - val_accuracy: 0.8564\\n\",","            \"Epoch 5/5\\n\",","            \"24/24 [==============================] - 15s 632ms/step - loss: 0.5164 - accuracy: 0.9064 - val_loss: 0.5499 - val_accuracy: 0.8668\\n\"","          ],","          \"name\": \"stdout\"","        }","      ]","    },","    {","      \"cell_type\": \"code\",","      \"metadata\": {","        \"colab\": {","          \"base_uri\": \"https://localhost:8080/\",","          \"height\": 573","        },","        \"id\": \"r68y4yvYXIxh\",","        \"outputId\": \"36e10f1a-9859-4d1d-dc10-e909a390812a\"","      },","      \"source\": [","        \"plot_loss_curves(efficientnet_history)\"","      ],","      \"execution_count\": null,","      \"outputs\": [","        {","          \"output_type\": \"display_data\",","          \"data\": {","            \"image/png\": \"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\\n\",","            \"text/plain\": [","              \"\u003cFigure size 432x288 with 1 Axes\u003e\"","            ]","          },","          \"metadata\": {","            \"tags\": [],","            \"needs_background\": \"light\"","          }","        },","        {","          \"output_type\": \"display_data\",","          \"data\": {","            \"image/png\": \"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\\n\",","            \"text/plain\": [","              \"\u003cFigure size 432x288 with 1 Axes\u003e\"","            ]","          },","          \"metadata\": {","            \"tags\": [],","            \"needs_background\": \"light\"","          }","        }","      ]","    },","    {","      \"cell_type\": \"code\",","      \"metadata\": {","        \"colab\": {","          \"base_uri\": \"https://localhost:8080/\"","        },","        \"id\": \"neXMTbhgX43z\",","        \"outputId\": \"a3406d3e-e96c-4e76-9746-118bf73c1c33\"","      },","      \"source\": [","        \"efficientnet_model.summary()\"","      ],","      \"execution_count\": null,","      \"outputs\": [","        {","          \"output_type\": \"stream\",","          \"text\": [","            \"Model: \\\"sequential_2\\\"\\n\",","            \"_________________________________________________________________\\n\",","            \"Layer (type)                 Output Shape              Param #   \\n\",","            \"=================================================================\\n\",","            \"feature_extraction_lyaer (Ke (None, 1280)              4049564   \\n\",","            \"_________________________________________________________________\\n\",","            \"output_layer (Dense)         (None, 10)                12810     \\n\",","            \"=================================================================\\n\",","            \"Total params: 4,062,374\\n\",","            \"Trainable params: 12,810\\n\",","            \"Non-trainable params: 4,049,564\\n\",","            \"_________________________________________________________________\\n\"","          ],","          \"name\": \"stdout\"","        }","      ]","    },","    {","      \"cell_type\": \"code\",","      \"metadata\": {","        \"colab\": {","          \"base_uri\": \"https://localhost:8080/\"","        },","        \"id\": \"SDI9TmY7Yp1_\",","        \"outputId\": \"0557f280-87f3-4074-c2bb-e5c982123fd1\"","      },","      \"source\": [","        \"resnet_model.summary()\"","      ],","      \"execution_count\": null,","      \"outputs\": [","        {","          \"output_type\": \"stream\",","          \"text\": [","            \"Model: \\\"sequential\\\"\\n\",","            \"_________________________________________________________________\\n\",","            \"Layer (type)                 Output Shape              Param #   \\n\",","            \"=================================================================\\n\",","            \"feature_extraction_lyaer (Ke (None, 2048)              23564800  \\n\",","            \"_________________________________________________________________\\n\",","            \"output_layer (Dense)         (None, 10)                20490     \\n\",","            \"=================================================================\\n\",","            \"Total params: 23,585,290\\n\",","            \"Trainable params: 20,490\\n\",","            \"Non-trainable params: 23,564,800\\n\",","            \"_________________________________________________________________\\n\"","          ],","          \"name\": \"stdout\"","        }","      ]","    },","    {","      \"cell_type\": \"code\",","      \"metadata\": {","        \"colab\": {","          \"base_uri\": \"https://localhost:8080/\"","        },","        \"id\": \"1OyOGF1DZxkQ\",","        \"outputId\": \"7b0d39d5-546e-4561-b1b4-c8a0b84501e1\"","      },","      \"source\": [","        \"# How many layers does our efficientnetb0 feature extractor have?\\n\",","        \"len(efficientnet_model.layers[0].weights)\"","      ],","      \"execution_count\": null,","      \"outputs\": [","        {","          \"output_type\": \"execute_result\",","          \"data\": {","            \"text/plain\": [","              \"309\"","            ]","          },","          \"metadata\": {","            \"tags\": []","          },","          \"execution_count\": 33","        }","      ]","    },","    {","      \"cell_type\": \"markdown\",","      \"metadata\": {","        \"id\": \"20CVkEoCY0r5\"","      },","      \"source\": [","        \"## Different types of transfer learning\\n\",","        \"\\n\",","        \"* **\\\"As is\\\" transfer learning** - using an existing model with no changes what so ever (e.g using ImageNet model on 1000 ImageNet classes, none of your own)\\n\",","        \"* **\\\"Feature extraction\\\"** transfer learning - use the prelearned patterns of an existing model (e.g. EfficientNetB0 trained on ImageNet) and adjust the output layer for your own problem (e.g. 1000 classes -\u003e 10 classes of food)\\n\",","        \"* **\\\"Fine-tuning\\\" transfer learning** - use the prelearned patterns of an existing model and \\\"fine-tune\\\" many or all of the underlying layers (including new output layers)\\n\"","      ]","    },","    {","      \"cell_type\": \"markdown\",","      \"metadata\": {","        \"id\": \"4_yoziIzZpYe\"","      },","      \"source\": [","        \"## Comparing our models results using TensorBoard\\n\",","        \"\\n\",","        \"\u003e 🔑 **Note:** When you upload things to [TensorBoard.dev](https://tensorboard.dev/), you experiments are public. So if you're running private experiments (things you don't want others to see) do not upload them to TensorBoard.dev.\"","      ]","    },","    {","      \"cell_type\": \"code\",","      \"metadata\": {","        \"id\": \"dMNEfYfbbQsF\"","      },","      \"source\": [","        \"# Upload TensorBoard dev records\\n\",","        \"!tensorboard dev upload --logdir ./tensorflow_hub/ \\\\\\n\",","        \"  --name \\\"EfficientNetB0 vs. ResNet50V2\\\" \\\\\\n\",","        \"  --description \\\"Comparing two different TF Hub feature extraction model architectures using 10% of the training data\\\" \\\\\\n\",","        \"  --one_shot\"","      ],","      \"execution_count\": null,","      \"outputs\": []","    },","    {","      \"cell_type\": \"markdown\",","      \"metadata\": {","        \"id\": \"YFq9QiEudZr2\"","      },","      \"source\": [","        \"Our TensorBoard experiments are uploaded publically here: https://tensorboard.dev/experiment/dQBrpdwIRgS2qI0Andv8Yg/\"","      ]","    },","    {","      \"cell_type\": \"code\",","      \"metadata\": {","        \"colab\": {","          \"base_uri\": \"https://localhost:8080/\"","        },","        \"id\": \"4GapERDkd242\",","        \"outputId\": \"b3d706da-ece9-460f-a6d0-90d2f30f6115\"","      },","      \"source\": [","        \"# Check out what TensorBoard experiments you have\\n\",","        \"!tensorboard dev list\"","      ],","      \"execution_count\": null,","      \"outputs\": [","        {","          \"output_type\": \"stream\",","          \"text\": [","            \"2021-02-15 02:17:31.857592: I tensorflow/stream_executor/platform/default/dso_loader.cc:49] Successfully opened dynamic library libcudart.so.10.1\\n\",","            \"https://tensorboard.dev/experiment/dQBrpdwIRgS2qI0Andv8Yg/\\n\",","            \"\\tName                 EfficientNetB0 vs. ResNet50V2\\n\",","            \"\\tDescription          Comparing two different TF Hub feature extraction model architectures using 10% of the training data\\n\",","            \"\\tId                   dQBrpdwIRgS2qI0Andv8Yg\\n\",","            \"\\tCreated              2021-02-15 02:13:39 (3 minutes ago)\\n\",","            \"\\tUpdated              2021-02-15 02:13:41 (3 minutes ago)\\n\",","            \"\\tRuns                 4\\n\",","            \"\\tTags                 3\\n\",","            \"\\tScalars              40\\n\",","            \"\\tTensor bytes         0\\n\",","            \"\\tBinary object bytes  6020432\\n\",","            \"https://tensorboard.dev/experiment/OAE6KXizQZKQxDiqI3cnUQ/\\n\",","            \"\\tName                 Fine-tuning EfficientNetB0 on all Food101 Data\\n\",","            \"\\tDescription          Training results for fine-tuning EfficientNetB0 on Food101 Data with learning rate 0.0001\\n\",","            \"\\tId                   OAE6KXizQZKQxDiqI3cnUQ\\n\",","            \"\\tCreated              2020-09-28 05:46:53\\n\",","            \"\\tUpdated              2020-09-28 05:46:55\\n\",","            \"\\tRuns                 2\\n\",","            \"\\tTags                 3\\n\",","            \"\\tScalars              56\\n\",","            \"\\tTensor bytes         0\\n\",","            \"\\tBinary object bytes  1338330\\n\",","            \"https://tensorboard.dev/experiment/2O76kw3PQbKl0lByfg5B4w/\\n\",","            \"\\tName                 Transfer learning experiments\\n\",","            \"\\tDescription          A series of different transfer learning experiments with varying amounts of data and fine-tuning\\n\",","            \"\\tId                   2O76kw3PQbKl0lByfg5B4w\\n\",","            \"\\tCreated              2020-09-17 22:51:37\\n\",","            \"\\tUpdated              2020-09-17 22:51:47\\n\",","            \"\\tRuns                 10\\n\",","            \"\\tTags                 3\\n\",","            \"\\tScalars              128\\n\",","            \"\\tTensor bytes         0\\n\",","            \"\\tBinary object bytes  9520961\\n\",","            \"https://tensorboard.dev/experiment/73taSKxXQeGPQsNBcVvY3g/\\n\",","            \"\\tName                 EfficientNetB0 vs. ResNet50V2\\n\",","            \"\\tDescription          Comparing two different TF Hub feature extraction models architectures using 10% of training images\\n\",","            \"\\tId                   73taSKxXQeGPQsNBcVvY3g\\n\",","            \"\\tCreated              2020-09-14 05:02:48\\n\",","            \"\\tUpdated              2020-09-14 05:02:50\\n\",","            \"\\tRuns                 4\\n\",","            \"\\tTags                 3\\n\",","            \"\\tScalars              40\\n\",","            \"\\tTensor bytes         0\\n\",","            \"\\tBinary object bytes  3402042\\n\",","            \"Total: 4 experiment(s)\\n\"","          ],","          \"name\": \"stdout\"","        }","      ]","    },","    {","      \"cell_type\": \"code\",","      \"metadata\": {","        \"id\": \"Xxx119bPen_0\"","      },","      \"source\": [","        \"# Delete an experiment\\n\",","        \"# !tensorboard dev delete --experiment_id dQBrpdwIRgS2qI0Andv8Yg\"","      ],","      \"execution_count\": null,","      \"outputs\": []","    },","    {","      \"cell_type\": \"code\",","      \"metadata\": {","        \"colab\": {","          \"base_uri\": \"https://localhost:8080/\"","        },","        \"id\": \"pcOzwcYke8K9\",","        \"outputId\": \"6fc304ec-972b-46c0-bbbc-ae8f2b46f060\"","      },","      \"source\": [","        \"# Confirm the deletion by re-checking what experiments you have left\\n\",","        \"!tensorboard dev list\"","      ],","      \"execution_count\": null,","      \"outputs\": [","        {","          \"output_type\": \"stream\",","          \"text\": [","            \"2021-02-15 02:19:14.889146: I tensorflow/stream_executor/platform/default/dso_loader.cc:49] Successfully opened dynamic library libcudart.so.10.1\\n\",","            \"https://tensorboard.dev/experiment/dQBrpdwIRgS2qI0Andv8Yg/\\n\",","            \"\\tName                 EfficientNetB0 vs. ResNet50V2\\n\",","            \"\\tDescription          Comparing two different TF Hub feature extraction model architectures using 10% of the training data\\n\",","            \"\\tId                   dQBrpdwIRgS2qI0Andv8Yg\\n\",","            \"\\tCreated              2021-02-15 02:13:39 (5 minutes ago)\\n\",","            \"\\tUpdated              2021-02-15 02:13:41 (5 minutes ago)\\n\",","            \"\\tRuns                 4\\n\",","            \"\\tTags                 3\\n\",","            \"\\tScalars              40\\n\",","            \"\\tTensor bytes         0\\n\",","            \"\\tBinary object bytes  6020432\\n\",","            \"https://tensorboard.dev/experiment/OAE6KXizQZKQxDiqI3cnUQ/\\n\",","            \"\\tName                 Fine-tuning EfficientNetB0 on all Food101 Data\\n\",","            \"\\tDescription          Training results for fine-tuning EfficientNetB0 on Food101 Data with learning rate 0.0001\\n\",","            \"\\tId                   OAE6KXizQZKQxDiqI3cnUQ\\n\",","            \"\\tCreated              2020-09-28 05:46:53\\n\",","            \"\\tUpdated              2020-09-28 05:46:55\\n\",","            \"\\tRuns                 2\\n\",","            \"\\tTags                 3\\n\",","            \"\\tScalars              56\\n\",","            \"\\tTensor bytes         0\\n\",","            \"\\tBinary object bytes  1338330\\n\",","            \"https://tensorboard.dev/experiment/2O76kw3PQbKl0lByfg5B4w/\\n\",","            \"\\tName                 Transfer learning experiments\\n\",","            \"\\tDescription          A series of different transfer learning experiments with varying amounts of data and fine-tuning\\n\",","            \"\\tId                   2O76kw3PQbKl0lByfg5B4w\\n\",","            \"\\tCreated              2020-09-17 22:51:37\\n\",","            \"\\tUpdated              2020-09-17 22:51:47\\n\",","            \"\\tRuns                 10\\n\",","            \"\\tTags                 3\\n\",","            \"\\tScalars              128\\n\",","            \"\\tTensor bytes         0\\n\",","            \"\\tBinary object bytes  9520961\\n\",","            \"https://tensorboard.dev/experiment/73taSKxXQeGPQsNBcVvY3g/\\n\",","            \"\\tName                 EfficientNetB0 vs. ResNet50V2\\n\",","            \"\\tDescription          Comparing two different TF Hub feature extraction models architectures using 10% of training images\\n\",","            \"\\tId                   73taSKxXQeGPQsNBcVvY3g\\n\",","            \"\\tCreated              2020-09-14 05:02:48\\n\",","            \"\\tUpdated              2020-09-14 05:02:50\\n\",","            \"\\tRuns                 4\\n\",","            \"\\tTags                 3\\n\",","            \"\\tScalars              40\\n\",","            \"\\tTensor bytes         0\\n\",","            \"\\tBinary object bytes  3402042\\n\",","            \"Total: 4 experiment(s)\\n\"","          ],","          \"name\": \"stdout\"","        }","      ]","    },","    {","      \"cell_type\": \"code\",","      \"metadata\": {","        \"id\": \"K9zom6GJfBGb\"","      },","      \"source\": [","        \"\"","      ],","      \"execution_count\": null,","      \"outputs\": []","    }","  ]","}"],"stylingDirectives":null,"csv":null,"csvError":null,"dependabotInfo":{"showConfigurationBanner":false,"configFilePath":null,"networkDependabotPath":"/mrdbourke/tensorflow-deep-learning/network/updates","dismissConfigurationNoticePath":"/settings/dismiss-notice/dependabot_configuration_notice","configurationNoticeDismissed":false,"repoAlertsPath":"/mrdbourke/tensorflow-deep-learning/security/dependabot","repoSecurityAndAnalysisPath":"/mrdbourke/tensorflow-deep-learning/settings/security_analysis","repoOwnerIsOrg":false,"currentUserCanAdminRepo":false},"displayName":"04_transfer_learning_in_tensorflow_part_1_feature_extraction_video.ipynb","displayUrl":"https://notebooks.githubusercontent.com/view/ipynb?browser=chrome\u0026bypass_fastly=true\u0026color_mode=auto\u0026commit=1be0f77fbb4e056694a910f403a8f61f1b650eec\u0026device=unknown_device\u0026docs_host=https%3A%2F%2Fdocs.github.com\u0026enc_url=68747470733a2f2f7261772e67697468756275736572636f6e74656e742e636f6d2f6d7264626f75726b652f74656e736f72666c6f772d646565702d6c6561726e696e672f316265306637376662623465303536363934613931306634303361386636316631623635306565632f766964656f5f6e6f7465626f6f6b732f30345f7472616e736665725f6c6561726e696e675f696e5f74656e736f72666c6f775f706172745f315f666561747572655f65787472616374696f6e5f766964656f2e6970796e62\u0026logged_in=true\u0026nwo=mrdbourke%2Ftensorflow-deep-learning\u0026path=video_notebooks%2F04_transfer_learning_in_tensorflow_part_1_feature_extraction_video.ipynb\u0026platform=windows\u0026repository_id=315463340\u0026repository_type=Repository\u0026version=119","headerInfo":{"blobSize":"110 KB","deleteInfo":{"deleteTooltip":"Fork this repository and delete the file"},"editInfo":{"editTooltip":"Fork this repository and edit the file"},"ghDesktopPath":"x-github-client://openRepo/https://github.com/mrdbourke/tensorflow-deep-learning?branch=main\u0026filepath=video_notebooks%2F04_transfer_learning_in_tensorflow_part_1_feature_extraction_video.ipynb","gitLfsPath":null,"onBranch":true,"shortPath":"6d49ba9","siteNavLoginPath":"/login?return_to=https%3A%2F%2Fgithub.com%2Fmrdbourke%2Ftensorflow-deep-learning%2Fblob%2Fmain%2Fvideo_notebooks%2F04_transfer_learning_in_tensorflow_part_1_feature_extraction_video.ipynb","isCSV":false,"isRichtext":false,"toc":null,"lineInfo":{"truncatedLoc":"987","truncatedSloc":"987"},"mode":"file"},"image":false,"isCodeownersFile":null,"isPlain":false,"isValidLegacyIssueTemplate":false,"issueTemplateHelpUrl":"https://docs.github.com/articles/about-issue-and-pull-request-templates","issueTemplate":null,"discussionTemplate":null,"language":"Jupyter Notebook","languageID":185,"large":false,"loggedIn":true,"newDiscussionPath":"/mrdbourke/tensorflow-deep-learning/discussions/new","newIssuePath":"/mrdbourke/tensorflow-deep-learning/issues/new","planSupportInfo":{"repoIsFork":null,"repoOwnedByCurrentUser":null,"requestFullPath":"/mrdbourke/tensorflow-deep-learning/blob/main/video_notebooks/04_transfer_learning_in_tensorflow_part_1_feature_extraction_video.ipynb","showFreeOrgGatedFeatureMessage":null,"showPlanSupportBanner":null,"upgradeDataAttributes":null,"upgradePath":null},"publishBannersInfo":{"dismissActionNoticePath":"/settings/dismiss-notice/publish_action_from_dockerfile","dismissStackNoticePath":"/settings/dismiss-notice/publish_stack_from_file","releasePath":"/mrdbourke/tensorflow-deep-learning/releases/new?marketplace=true","showPublishActionBanner":false,"showPublishStackBanner":false},"rawBlobUrl":"https://github.com/mrdbourke/tensorflow-deep-learning/raw/main/video_notebooks/04_transfer_learning_in_tensorflow_part_1_feature_extraction_video.ipynb","renderImageOrRaw":false,"richText":null,"renderedFileInfo":{"identityUUID":"51ef4234-c6b3-44db-a834-47c367c7d644","renderFileType":"ipynb","size":112899},"shortPath":null,"tabSize":8,"topBannersInfo":{"overridingGlobalFundingFile":false,"globalPreferredFundingPath":null,"repoOwner":"mrdbourke","repoName":"tensorflow-deep-learning","showInvalidCitationWarning":false,"citationHelpUrl":"https://docs.github.com/en/github/creating-cloning-and-archiving-repositories/creating-a-repository-on-github/about-citation-files","showDependabotConfigurationBanner":false,"actionsOnboardingTip":null},"truncated":false,"viewable":true,"workflowRedirectUrl":null,"symbols":{"timedOut":false,"notAnalyzed":true,"symbols":[]}},"copilotInfo":{"documentationUrl":"https://docs.github.com/copilot/overview-of-github-copilot/about-github-copilot-for-individuals","notices":{"codeViewPopover":{"dismissed":false,"dismissPath":"/settings/dismiss-notice/code_view_copilot_popover"}},"userAccess":{"accessAllowed":false,"hasSubscriptionEnded":false,"orgHasCFBAccess":false,"userHasCFIAccess":false,"userHasOrgs":false,"userIsOrgAdmin":false,"userIsOrgMember":false,"business":null,"featureRequestInfo":null}},"copilotAccessAllowed":false,"csrf_tokens":{"/mrdbourke/tensorflow-deep-learning/branches":{"post":"R_vYFbn_GDM7uvm8SIbSmro2ckAvW8zu6c8c48pSiR8-LmuwU3X6oqaG2p5ulgJHpWSuLP1hbACKVDFYaHOsGA"},"/repos/preferences":{"post":"8OggQxeMjeReA1UEuXuSWYSlBMBjeb1BCGoG4kWAhfQOjkRcP6X-kcp2zPOIRXDHpltIq3NqjflcATS0KNyCww"}}},"title":"tensorflow-deep-learning/video_notebooks/04_transfer_learning_in_tensorflow_part_1_feature_extraction_video.ipynb at main · mrdbourke/tensorflow-deep-learning","appPayload":{"helpUrl":"https://docs.github.com","findFileWorkerPath":"/assets-cdn/worker/find-file-worker-32bb159cc57c.js","findInFileWorkerPath":"/assets-cdn/worker/find-in-file-worker-ce6d5c15d2a1.js","githubDevUrl":"https://github.dev/","enabled_features":{"code_nav_ui_events":false,"copilot_conversational_ux":false,"copilot_conversational_ux_embedding_update":false,"copilot_conversational_ux_streaming":true,"copilot_popover_file_editor_header":true,"copilot_smell_icebreaker_ux":false}}}</script>
  <div data-target="react-app.reactRoot"><style data-styled="true" data-styled-version="5.3.6">.fNPcqd{font-weight:600;font-size:32px;margin:0;font-size:14px;}/*!sc*/
.imcwCi{font-weight:600;font-size:32px;margin:0;font-size:16px;margin-left:8px;}/*!sc*/
.cgQnMS{font-weight:600;font-size:32px;margin:0;}/*!sc*/
.diwsLq{font-weight:600;font-size:32px;margin:0;font-weight:600;display:inline-block;max-width:100%;font-size:16px;}/*!sc*/
.jAEDJk{font-weight:600;font-size:32px;margin:0;font-weight:600;display:inline-block;max-width:100%;font-size:14px;}/*!sc*/
data-styled.g1[id="Heading__StyledHeading-sc-1c1dgg0-0"]{content:"fNPcqd,imcwCi,cgQnMS,diwsLq,jAEDJk,"}/*!sc*/
.fSWWem{padding:0;}/*!sc*/
.kPPmzM{max-width:100%;margin-left:auto;margin-right:auto;display:-webkit-box;display:-webkit-flex;display:-ms-flexbox;display:flex;-webkit-flex-wrap:wrap;-ms-flex-wrap:wrap;flex-wrap:wrap;}/*!sc*/
.cIAPDV{display:-webkit-box;display:-webkit-flex;display:-ms-flexbox;display:flex;-webkit-flex:1 1 100%;-ms-flex:1 1 100%;flex:1 1 100%;-webkit-flex-wrap:wrap;-ms-flex-wrap:wrap;flex-wrap:wrap;max-width:100%;}/*!sc*/
.gvCnwW{width:100%;}/*!sc*/
@media screen and (min-width:544px){.gvCnwW{width:100%;}}/*!sc*/
@media screen and (min-width:768px){.gvCnwW{width:auto;}}/*!sc*/
.ioxSsX{display:-webkit-box;display:-webkit-flex;display:-ms-flexbox;display:flex;-webkit-order:1;-ms-flex-order:1;order:1;width:100%;margin-left:0;margin-right:0;-webkit-flex-direction:column;-ms-flex-direction:column;flex-direction:column;margin-bottom:0;min-width:0;}/*!sc*/
@media screen and (min-width:544px){.ioxSsX{-webkit-flex-direction:column;-ms-flex-direction:column;flex-direction:column;}}/*!sc*/
@media screen and (min-width:768px){.ioxSsX{width:auto;margin-top:0 !important;margin-bottom:0 !important;position:-webkit-sticky;position:sticky;top:0px;max-height:var(--sticky-pane-height);-webkit-flex-direction:row-reverse;-ms-flex-direction:row-reverse;flex-direction:row-reverse;margin-right:0;}}/*!sc*/
@media screen and (min-width:769px){.ioxSsX{height:100vh;max-height:100vh !important;}}/*!sc*/
@media print,screen and (max-width:1011px) and (min-width:768px){.ioxSsX{display:none;}}/*!sc*/
.eUyHuk{margin-left:0;margin-right:0;display:none;margin-top:0;}/*!sc*/
@media screen and (min-width:768px){.eUyHuk{margin-left:0 !important;margin-right:0 !important;}}/*!sc*/
.hAeDYA{height:100%;position:relative;display:none;margin-left:0;}/*!sc*/
.ekKrwo{position:absolute;inset:0 -2px;cursor:col-resize;background-color:transparent;-webkit-transition-delay:0.1s;transition-delay:0.1s;}/*!sc*/
.ekKrwo:hover{background-color:rgba(175,184,193,0.2);}/*!sc*/
.gNdDUH{--pane-min-width:256px;--pane-max-width-diff:511px;--pane-max-width:calc(100vw - var(--pane-max-width-diff));width:100%;padding:0;}/*!sc*/
@media screen and (min-width:544px){}/*!sc*/
@media screen and (min-width:768px){.gNdDUH{width:clamp(var(--pane-min-width),var(--pane-width),var(--pane-max-width));overflow:auto;}}/*!sc*/
@media screen and (min-width:1280px){.gNdDUH{--pane-max-width-diff:959px;}}/*!sc*/
.jywUSN{max-height:100%;height:100%;display:-webkit-box;display:-webkit-flex;display:-ms-flexbox;display:flex;-webkit-flex-direction:column;-ms-flex-direction:column;flex-direction:column;}/*!sc*/
@media screen and (max-width:768px){.jywUSN{display:none;}}/*!sc*/
@media screen and (min-width:768px){.jywUSN{max-height:100vh;height:100vh;}}/*!sc*/
.hBSSUC{display:-webkit-box;display:-webkit-flex;display:-ms-flexbox;display:flex;-webkit-flex-direction:column;-ms-flex-direction:column;flex-direction:column;-webkit-align-items:center;-webkit-box-align:center;-ms-flex-align:center;align-items:center;padding-left:16px;padding-right:16px;padding-bottom:8px;padding-top:16px;}/*!sc*/
.iPurHz{display:-webkit-box;display:-webkit-flex;display:-ms-flexbox;display:flex;width:100%;margin-bottom:16px;-webkit-align-items:center;-webkit-box-align:center;-ms-flex-align:center;align-items:center;}/*!sc*/
.kkrdEu{-webkit-box-pack:center;-webkit-justify-content:center;-ms-flex-pack:center;justify-content:center;}/*!sc*/
.trpoQ{display:-webkit-box;display:-webkit-flex;display:-ms-flexbox;display:flex;pointer-events:none;}/*!sc*/
.hVHHYa{margin-left:24px;margin-right:24px;display:-webkit-box;display:-webkit-flex;display:-ms-flexbox;display:flex;width:100%;}/*!sc*/
.idZfsJ{-webkit-box-flex:1;-webkit-flex-grow:1;-ms-flex-positive:1;flex-grow:1;}/*!sc*/
.bKgizp{display:-webkit-box;display:-webkit-flex;display:-ms-flexbox;display:flex;width:100%;}/*!sc*/
.kYlvBX{margin-right:4px;color:#656d76;}/*!sc*/
.caeYDk{font-size:14px;min-width:0;overflow:hidden;text-overflow:ellipsis;white-space:nowrap;}/*!sc*/
.jahcnb{margin-left:8px;white-space:nowrap;}/*!sc*/
.jahcnb:hover button:not(:hover){border-left-color:var(--button-default-borderColor-hover,var(--color-btn-hover-border));}/*!sc*/
.ccToMy{margin-left:16px;margin-right:16px;margin-bottom:12px;}/*!sc*/
@media screen and (max-width:768px){.ccToMy{display:none;}}/*!sc*/
.cNvKlH{margin-right:-6px;}/*!sc*/
.cLfAnm{-webkit-box-flex:1;-webkit-flex-grow:1;-ms-flex-positive:1;flex-grow:1;max-height:100% !important;overflow-y:auto;-webkit-scrollbar-gutter:stable;-moz-scrollbar-gutter:stable;-ms-scrollbar-gutter:stable;scrollbar-gutter:stable;}/*!sc*/
@media screen and (max-width:768px){.cLfAnm{display:none;}}/*!sc*/
.erWCJP{padding-left:16px;padding-right:16px;padding-bottom:8px;}/*!sc*/
@media (min-height:600px) and (min-width:768px){.hwhShM{display:none;}}/*!sc*/
.cYPxpP{margin-top:8px;margin-left:16px;margin-right:16px;margin-bottom:12px;font-size:12px;-webkit-align-items:center;-webkit-box-align:center;-ms-flex-align:center;align-items:center;}/*!sc*/
@media (max-height:599px),(max-width:767px){.fBtiVT{display:none;}}/*!sc*/
.emFMJu{display:-webkit-box;display:-webkit-flex;display:-ms-flexbox;display:flex;-webkit-flex-direction:column;-ms-flex-direction:column;flex-direction:column;-webkit-order:2;-ms-flex-order:2;order:2;-webkit-flex-basis:0;-ms-flex-preferred-size:0;flex-basis:0;-webkit-box-flex:1;-webkit-flex-grow:1;-ms-flex-positive:1;flex-grow:1;-webkit-flex-shrink:1;-ms-flex-negative:1;flex-shrink:1;min-width:1px;margin-right:auto;}/*!sc*/
@media print{.emFMJu{display:-webkit-box !important;display:-webkit-flex !important;display:-ms-flexbox !important;display:flex !important;}}/*!sc*/
.hlUAHL{width:100%;max-width:100%;margin-left:auto;margin-right:auto;-webkit-box-flex:1;-webkit-flex-grow:1;-ms-flex-positive:1;flex-grow:1;padding:0;}/*!sc*/
.iStsmI{margin-left:auto;margin-right:auto;-webkit-flex-direction:column;-ms-flex-direction:column;flex-direction:column;padding-bottom:40px;max-width:100%;margin-top:0;}/*!sc*/
.eIgvIk{display:inherit;}/*!sc*/
.eVFfWF{width:100%;}/*!sc*/
.kgXdnT{padding:16px;padding-bottom:0;}/*!sc*/
.kzTa-dF{display:-webkit-box;display:-webkit-flex;display:-ms-flexbox;display:flex;-webkit-flex-direction:column;-ms-flex-direction:column;flex-direction:column;-webkit-box-pack:justify;-webkit-justify-content:space-between;-ms-flex-pack:justify;justify-content:space-between;gap:16px;width:100%;}/*!sc*/
.bbXCl{display:-webkit-box;display:-webkit-flex;display:-ms-flexbox;display:flex;-webkit-flex-direction:row;-ms-flex-direction:row;flex-direction:row;-webkit-align-items:start;-webkit-box-align:start;-ms-flex-align:start;align-items:start;-webkit-box-pack:justify;-webkit-justify-content:space-between;-ms-flex-pack:justify;justify-content:space-between;}/*!sc*/
.hGGMNu{display:-webkit-box;display:-webkit-flex;display:-ms-flexbox;display:flex;-webkit-flex-direction:row;-ms-flex-direction:row;flex-direction:row;-webkit-align-items:start;-webkit-box-align:start;-ms-flex-align:start;align-items:start;-webkit-box-pack:justify;-webkit-justify-content:space-between;-ms-flex-pack:justify;justify-content:space-between;justify-self:flex-end;}/*!sc*/
.eHRrYV{margin-left:8px;margin-right:8px;}/*!sc*/
.dKmYfk{font-size:14px;min-width:0;max-width:125px;overflow:hidden;text-overflow:ellipsis;white-space:nowrap;}/*!sc*/
.hSNzKh{justify-self:end;max-width:100%;}/*!sc*/
.eTvGbF{display:-webkit-box;display:-webkit-flex;display:-ms-flexbox;display:flex;-webkit-flex-direction:row;-ms-flex-direction:row;flex-direction:row;font-size:16px;min-width:0;-webkit-flex-shrink:1;-ms-flex-negative:1;flex-shrink:1;-webkit-flex-wrap:wrap;-ms-flex-wrap:wrap;flex-wrap:wrap;max-width:100%;-webkit-align-items:center;-webkit-box-align:center;-ms-flex-align:center;align-items:center;}/*!sc*/
.kzRgrI{max-width:100%;}/*!sc*/
.cmAPIB{max-width:100%;list-style:none;display:inline-block;}/*!sc*/
.jwXCBK{display:inline-block;max-width:100%;}/*!sc*/
.bDwCYs{padding:16px;padding-bottom:0;padding-left:16px;padding-right:16px;}/*!sc*/
.fywjmm{display:-webkit-box;display:-webkit-flex;display:-ms-flexbox;display:flex;gap:8px;-webkit-flex-direction:column;-ms-flex-direction:column;flex-direction:column;width:100%;}/*!sc*/
.dyczTK{display:-webkit-box;display:-webkit-flex;display:-ms-flexbox;display:flex;-webkit-align-items:start;-webkit-box-align:start;-ms-flex-align:start;align-items:start;-webkit-box-pack:justify;-webkit-justify-content:space-between;-ms-flex-pack:justify;justify-content:space-between;gap:8px;}/*!sc*/
.kszRgZ{-webkit-align-self:center;-ms-flex-item-align:center;align-self:center;display:-webkit-box;display:-webkit-flex;display:-ms-flexbox;display:flex;padding-right:8px;min-width:0;}/*!sc*/
.gtBUEp{min-height:32px;display:-webkit-box;display:-webkit-flex;display:-ms-flexbox;display:flex;-webkit-align-items:start;-webkit-box-align:start;-ms-flex-align:start;align-items:start;}/*!sc*/
.MERGN{margin-left:16px;margin-right:16px;}/*!sc*/
@media screen and (min-width:1440px){.MERGN{margin-left:16px;}}/*!sc*/
.cMYnca{display:-webkit-box;display:-webkit-flex;display:-ms-flexbox;display:flex;-webkit-flex-direction:column;-ms-flex-direction:column;flex-direction:column;}/*!sc*/
.kLxXov{display:-webkit-box;display:-webkit-flex;display:-ms-flexbox;display:flex;-webkit-flex-direction:column;-ms-flex-direction:column;flex-direction:column;border:1px solid;border-color:#d0d7de;border-radius:6px;margin-bottom:16px;}/*!sc*/
.eYedVD{display:-webkit-box;display:-webkit-flex;display:-ms-flexbox;display:flex;-webkit-flex-direction:row;-ms-flex-direction:row;flex-direction:row;-webkit-box-pack:justify;-webkit-justify-content:space-between;-ms-flex-pack:justify;justify-content:space-between;-webkit-align-items:center;-webkit-box-align:center;-ms-flex-align:center;align-items:center;gap:8px;min-width:273px;padding-right:8px;padding-left:16px;padding-top:8px;padding-bottom:8px;}/*!sc*/
.jGfYmh{display:-webkit-box;display:-webkit-flex;display:-ms-flexbox;display:flex;gap:8px;}/*!sc*/
.lhFvfi{display:-webkit-box;display:-webkit-flex;display:-ms-flexbox;display:flex;-webkit-align-items:center;-webkit-box-align:center;-ms-flex-align:center;align-items:center;}/*!sc*/
.bqgLjk{display:inherit;}/*!sc*/
@media screen and (min-width:544px){.bqgLjk{display:none;}}/*!sc*/
@media screen and (min-width:768px){.bqgLjk{display:none;}}/*!sc*/
.iJmJly{display:-webkit-box;display:-webkit-flex;display:-ms-flexbox;display:flex;-webkit-flex-direction:row;-ms-flex-direction:row;flex-direction:row;}/*!sc*/
.jACbi{width:100%;height:-webkit-fit-content;height:-moz-fit-content;height:fit-content;min-width:0;margin-right:0;}/*!sc*/
.bSdwWB{padding-left:4px;padding-bottom:16px;}/*!sc*/
.fleZSW{-webkit-align-items:center;-webkit-box-align:center;-ms-flex-align:center;align-items:center;}/*!sc*/
.bZpGqz{font-size:12px;-webkit-flex:auto;-ms-flex:auto;flex:auto;padding-right:16px;color:#656d76;min-width:0;}/*!sc*/
.gBKNLX{top:0px;z-index:1;background:var(--color-canvas-default);position:-webkit-sticky;position:sticky;}/*!sc*/
.ePiodO{display:-webkit-box;display:-webkit-flex;display:-ms-flexbox;display:flex;-webkit-flex-direction:column;-ms-flex-direction:column;flex-direction:column;width:100%;position:absolute;}/*!sc*/
.kQJlnf{display:none;min-width:0;padding-top:8px;padding-bottom:8px;}/*!sc*/
.gJICKO{margin-right:8px;margin-left:16px;text-overflow:ellipsis;overflow:hidden;display:-webkit-box;display:-webkit-flex;display:-ms-flexbox;display:flex;-webkit-flex-direction:row;-ms-flex-direction:row;flex-direction:row;-webkit-align-items:center;-webkit-box-align:center;-ms-flex-align:center;align-items:center;-webkit-box-pack:justify;-webkit-justify-content:space-between;-ms-flex-pack:justify;justify-content:space-between;width:100%;}/*!sc*/
.iZJewz{display:-webkit-box;display:-webkit-flex;display:-ms-flexbox;display:flex;-webkit-flex-direction:row;-ms-flex-direction:row;flex-direction:row;font-size:14px;min-width:0;-webkit-flex-shrink:1;-ms-flex-negative:1;flex-shrink:1;-webkit-flex-wrap:wrap;-ms-flex-wrap:wrap;flex-wrap:wrap;max-width:100%;-webkit-align-items:center;-webkit-box-align:center;-ms-flex-align:center;align-items:center;}/*!sc*/
.bvEDG{padding-left:8px;padding-top:8px;padding-bottom:8px;display:-webkit-box;display:-webkit-flex;display:-ms-flexbox;display:flex;-webkit-flex:1;-ms-flex:1;flex:1;-webkit-align-items:center;-webkit-box-align:center;-ms-flex-align:center;align-items:center;-webkit-box-pack:justify;-webkit-justify-content:space-between;-ms-flex-pack:justify;justify-content:space-between;background-color:#f6f8fa;border:1px solid var(--borderColor-default,var(--color-border-default));border-radius:6px 6px 0px 0px;}/*!sc*/
.bfkNRF{display:-webkit-box;display:-webkit-flex;display:-ms-flexbox;display:flex;-webkit-align-items:center;-webkit-box-align:center;-ms-flex-align:center;align-items:center;gap:8px;min-width:0;}/*!sc*/
.fXBLEV{display:block;position:relative;-webkit-box-flex:1;-webkit-flex-grow:1;-ms-flex-positive:1;flex-grow:1;margin-top:-1px;margin-bottom:-1px;--separator-color:transparent;}/*!sc*/
.fXBLEV:not(:last-child){margin-right:1px;}/*!sc*/
.fXBLEV:not(:last-child):after{background-color:var(--separator-color);content:"";position:absolute;right:-2px;top:8px;bottom:8px;width:1px;}/*!sc*/
.fXBLEV:focus-within:has(:focus-visible){--separator-color:transparent;}/*!sc*/
.fXBLEV:first-child{margin-left:-1px;}/*!sc*/
.fXBLEV:last-child{margin-right:-1px;}/*!sc*/
.jkTWSe{display:block;position:relative;-webkit-box-flex:1;-webkit-flex-grow:1;-ms-flex-positive:1;flex-grow:1;margin-top:-1px;margin-bottom:-1px;--separator-color:#d0d7de;}/*!sc*/
.jkTWSe:not(:last-child){margin-right:1px;}/*!sc*/
.jkTWSe:not(:last-child):after{background-color:var(--separator-color);content:"";position:absolute;right:-2px;top:8px;bottom:8px;width:1px;}/*!sc*/
.jkTWSe:focus-within:has(:focus-visible){--separator-color:transparent;}/*!sc*/
.jkTWSe:first-child{margin-left:-1px;}/*!sc*/
.jkTWSe:last-child{margin-right:-1px;}/*!sc*/
.iBylDf{display:-webkit-box;display:-webkit-flex;display:-ms-flexbox;display:flex;-webkit-align-items:center;-webkit-box-align:center;-ms-flex-align:center;align-items:center;gap:8px;margin-right:8px;}/*!sc*/
.kSGBPx{gap:8px;}/*!sc*/
.flDsrw{border:1px solid;border-top:none;border-color:#d0d7de;border-radius:0px 0px 6px 6px;min-width:273px;}/*!sc*/
.eJsjkT{background-color:var(--bgColor-default,var(--color-canvas-default));border:0px;border-width:0;border-radius:0px 0px 6px 6px;padding:0;min-width:0;margin-top:46px;overflow:auto;}/*!sc*/
.aZrVR{position:fixed;top:0;right:0;height:100%;width:15px;-webkit-transition:-webkit-transform 0.3s;-webkit-transition:transform 0.3s;transition:transform 0.3s;z-index:1;}/*!sc*/
.aZrVR:hover{-webkit-transform:scaleX(1.5);-ms-transform:scaleX(1.5);transform:scaleX(1.5);}/*!sc*/
.bAzdCq{display:-webkit-box;display:-webkit-flex;display:-ms-flexbox;display:flex;-webkit-flex-direction:column;-ms-flex-direction:column;flex-direction:column;-webkit-align-items:center;-webkit-box-align:center;-ms-flex-align:center;align-items:center;padding-top:16px;padding-bottom:16px;}/*!sc*/
data-styled.g2[id="Box-sc-g0xbh4-0"]{content:"fSWWem,kPPmzM,cIAPDV,gvCnwW,ioxSsX,eUyHuk,hAeDYA,ekKrwo,gNdDUH,jywUSN,hBSSUC,iPurHz,kkrdEu,trpoQ,hVHHYa,idZfsJ,bKgizp,kYlvBX,caeYDk,jahcnb,ccToMy,cNvKlH,cLfAnm,erWCJP,hwhShM,cYPxpP,fBtiVT,emFMJu,hlUAHL,iStsmI,eIgvIk,eVFfWF,kgXdnT,kzTa-dF,bbXCl,hGGMNu,eHRrYV,dKmYfk,hSNzKh,eTvGbF,kzRgrI,cmAPIB,jwXCBK,bDwCYs,fywjmm,dyczTK,kszRgZ,gtBUEp,MERGN,cMYnca,kLxXov,eYedVD,jGfYmh,lhFvfi,bqgLjk,iJmJly,jACbi,bSdwWB,fleZSW,bZpGqz,gBKNLX,ePiodO,kQJlnf,gJICKO,iZJewz,bvEDG,bfkNRF,fXBLEV,jkTWSe,iBylDf,kSGBPx,flDsrw,eJsjkT,aZrVR,bAzdCq,"}/*!sc*/
.rTZSs{position:absolute;width:1px;height:1px;padding:0;margin:-1px;overflow:hidden;-webkit-clip:rect(0,0,0,0);clip:rect(0,0,0,0);white-space:nowrap;border-width:0;}/*!sc*/
data-styled.g4[id="_VisuallyHidden__VisuallyHidden-sc-11jhm7a-0"]{content:"rTZSs,"}/*!sc*/
.fUpWeN{display:inline-block;overflow:hidden;text-overflow:ellipsis;vertical-align:top;white-space:nowrap;max-width:125px;max-width:100%;}/*!sc*/
data-styled.g6[id="Truncate__StyledTruncate-sc-23o1d2-0"]{content:"fUpWeN,"}/*!sc*/
.fIqerb{color:#0969da;-webkit-text-decoration:none;text-decoration:none;}/*!sc*/
.fIqerb:hover{-webkit-text-decoration:underline;text-decoration:underline;}/*!sc*/
.fIqerb:is(button){display:inline-block;padding:0;font-size:inherit;white-space:nowrap;cursor:pointer;-webkit-user-select:none;-moz-user-select:none;-ms-user-select:none;user-select:none;background-color:transparent;border:0;-webkit-appearance:none;-moz-appearance:none;appearance:none;}/*!sc*/
.eVjWum{color:#0969da;-webkit-text-decoration:none;text-decoration:none;font-weight:600;}/*!sc*/
.eVjWum:hover{-webkit-text-decoration:underline;text-decoration:underline;}/*!sc*/
.eVjWum:is(button){display:inline-block;padding:0;font-size:inherit;white-space:nowrap;cursor:pointer;-webkit-user-select:none;-moz-user-select:none;-ms-user-select:none;user-select:none;background-color:transparent;border:0;-webkit-appearance:none;-moz-appearance:none;appearance:none;}/*!sc*/
.dYxKVs{color:#0969da;-webkit-text-decoration:none;text-decoration:none;font-weight:400;}/*!sc*/
.dYxKVs:hover{-webkit-text-decoration:underline;text-decoration:underline;}/*!sc*/
.dYxKVs:is(button){display:inline-block;padding:0;font-size:inherit;white-space:nowrap;cursor:pointer;-webkit-user-select:none;-moz-user-select:none;-ms-user-select:none;user-select:none;background-color:transparent;border:0;-webkit-appearance:none;-moz-appearance:none;appearance:none;}/*!sc*/
data-styled.g8[id="Link__StyledLink-sc-14289xe-0"]{content:"fIqerb,eVjWum,dYxKVs,"}/*!sc*/
.hPEVNM{-webkit-animation:rotate-keyframes 1s linear infinite;animation:rotate-keyframes 1s linear infinite;}/*!sc*/
@-webkit-keyframes rotate-keyframes{100%{-webkit-transform:rotate(360deg);-ms-transform:rotate(360deg);transform:rotate(360deg);}}/*!sc*/
@keyframes rotate-keyframes{100%{-webkit-transform:rotate(360deg);-ms-transform:rotate(360deg);transform:rotate(360deg);}}/*!sc*/
data-styled.g25[id="Spinner__StyledSpinner-sc-1knt686-0"]{content:"hPEVNM,"}/*!sc*/
.cgNHBf{font-size:14px;line-height:20px;color:#1F2328;vertical-align:middle;background-color:#ffffff;border:1px solid var(--control-borderColor-rest,#d0d7de);border-radius:6px;outline:none;box-shadow:inset 0 1px 0 rgba(208,215,222,0.2);display:-webkit-inline-box;display:-webkit-inline-flex;display:-ms-inline-flexbox;display:inline-flex;-webkit-align-items:stretch;-webkit-box-align:stretch;-ms-flex-align:stretch;align-items:stretch;min-height:32px;display:-webkit-box;display:-webkit-flex;display:-ms-flexbox;display:flex;min-width:200px;}/*!sc*/
.cgNHBf input,.cgNHBf textarea{cursor:text;}/*!sc*/
.cgNHBf select{cursor:pointer;}/*!sc*/
.cgNHBf::-webkit-input-placeholder{color:#6e7781;}/*!sc*/
.cgNHBf::-moz-placeholder{color:#6e7781;}/*!sc*/
.cgNHBf:-ms-input-placeholder{color:#6e7781;}/*!sc*/
.cgNHBf::placeholder{color:#6e7781;}/*!sc*/
.cgNHBf:focus-within{border-color:#0969da;outline:none;box-shadow:inset 0 0 0 1px #0969da;}/*!sc*/
.cgNHBf > textarea{padding:12px;}/*!sc*/
@media (min-width:768px){.cgNHBf{font-size:14px;}}/*!sc*/
data-styled.g26[id="TextInputWrapper__TextInputBaseWrapper-sc-1mqhpbi-0"]{content:"cgNHBf,"}/*!sc*/
.hDoBEw{background-repeat:no-repeat;background-position:right 8px center;padding-left:12px;padding-right:12px;display:-webkit-box;display:-webkit-flex;display:-ms-flexbox;display:flex;min-width:200px;}/*!sc*/
.hDoBEw > :not(:last-child){margin-right:8px;}/*!sc*/
.hDoBEw .TextInput-icon,.hDoBEw .TextInput-action{-webkit-align-self:center;-ms-flex-item-align:center;align-self:center;color:#656d76;-webkit-flex-shrink:0;-ms-flex-negative:0;flex-shrink:0;}/*!sc*/
.hDoBEw > input,.hDoBEw > select{padding-left:0;padding-right:0;}/*!sc*/
data-styled.g27[id="TextInputWrapper-sc-1mqhpbi-1"]{content:"hDoBEw,"}/*!sc*/
.CtaSm{border-radius:6px;border:1px solid;border-color:transparent;font-family:inherit;font-weight:500;font-size:14px;cursor:pointer;-webkit-appearance:none;-moz-appearance:none;appearance:none;-webkit-user-select:none;-moz-user-select:none;-ms-user-select:none;user-select:none;-webkit-text-decoration:none;text-decoration:none;text-align:center;display:-webkit-box;display:-webkit-flex;display:-ms-flexbox;display:flex;-webkit-align-items:center;-webkit-box-align:center;-ms-flex-align:center;align-items:center;-webkit-box-pack:justify;-webkit-justify-content:space-between;-ms-flex-pack:justify;justify-content:space-between;height:32px;padding:0 12px;gap:8px;min-width:-webkit-max-content;min-width:-moz-max-content;min-width:max-content;-webkit-transition:80ms cubic-bezier(0.65,0,0.35,1);transition:80ms cubic-bezier(0.65,0,0.35,1);-webkit-transition-property:color,fill,background-color,border-color;transition-property:color,fill,background-color,border-color;color:#24292f;background-color:transparent;box-shadow:none;}/*!sc*/
.CtaSm:focus:not(:disabled){box-shadow:none;outline:2px solid #0969da;outline-offset:-2px;}/*!sc*/
.CtaSm:focus:not(:disabled):not(:focus-visible){outline:solid 1px transparent;}/*!sc*/
.CtaSm:focus-visible:not(:disabled){box-shadow:none;outline:2px solid #0969da;outline-offset:-2px;}/*!sc*/
.CtaSm[href]{display:-webkit-inline-box;display:-webkit-inline-flex;display:-ms-inline-flexbox;display:inline-flex;}/*!sc*/
.CtaSm[href]:hover{-webkit-text-decoration:none;text-decoration:none;}/*!sc*/
.CtaSm:hover{-webkit-transition-duration:80ms;transition-duration:80ms;}/*!sc*/
.CtaSm:active{-webkit-transition:none;transition:none;}/*!sc*/
.CtaSm:disabled{cursor:not-allowed;box-shadow:none;color:#8c959f;}/*!sc*/
.CtaSm:disabled [data-component=ButtonCounter],.CtaSm:disabled [data-component="leadingVisual"],.CtaSm:disabled [data-component="trailingAction"]{color:inherit;}/*!sc*/
@media (forced-colors:active){.CtaSm:focus{outline:solid 1px transparent;}}/*!sc*/
.CtaSm [data-component=ButtonCounter]{font-size:12px;}/*!sc*/
.CtaSm[data-component=IconButton]{display:inline-grid;padding:unset;place-content:center;width:32px;min-width:unset;}/*!sc*/
.CtaSm[data-size="small"]{padding:0 8px;height:28px;gap:4px;font-size:12px;}/*!sc*/
.CtaSm[data-size="small"] [data-component="text"]{line-height:calc(20 / 12);}/*!sc*/
.CtaSm[data-size="small"] [data-component=ButtonCounter]{font-size:12px;}/*!sc*/
.CtaSm[data-size="small"] [data-component="buttonContent"] > :not(:last-child){margin-right:4px;}/*!sc*/
.CtaSm[data-size="small"][data-component=IconButton]{width:28px;padding:unset;}/*!sc*/
.CtaSm[data-size="large"]{padding:0 16px;height:40px;gap:8px;}/*!sc*/
.CtaSm[data-size="large"] [data-component="buttonContent"] > :not(:last-child){margin-right:8px;}/*!sc*/
.CtaSm[data-size="large"][data-component=IconButton]{width:40px;padding:unset;}/*!sc*/
.CtaSm[data-block="block"]{width:100%;}/*!sc*/
.CtaSm [data-component="leadingVisual"]{grid-area:leadingVisual;color:#656d76;}/*!sc*/
.CtaSm [data-component="text"]{grid-area:text;line-height:calc(20/14);white-space:nowrap;}/*!sc*/
.CtaSm [data-component="trailingVisual"]{grid-area:trailingVisual;}/*!sc*/
.CtaSm [data-component="trailingAction"]{margin-right:-4px;color:#656d76;}/*!sc*/
.CtaSm [data-component="buttonContent"]{-webkit-flex:1 0 auto;-ms-flex:1 0 auto;flex:1 0 auto;display:grid;grid-template-areas:"leadingVisual text trailingVisual";grid-template-columns:min-content minmax(0,auto) min-content;-webkit-align-items:center;-webkit-box-align:center;-ms-flex-align:center;align-items:center;-webkit-align-content:center;-ms-flex-line-pack:center;align-content:center;}/*!sc*/
.CtaSm [data-component="buttonContent"] > :not(:last-child){margin-right:8px;}/*!sc*/
.CtaSm:hover:not([disabled]){background-color:rgba(208,215,222,0.32);}/*!sc*/
.CtaSm:active:not([disabled]){background-color:rgba(208,215,222,0.48);}/*!sc*/
.CtaSm[aria-expanded=true]{background-color:rgba(208,215,222,0.24);}/*!sc*/
.CtaSm[data-component="IconButton"][data-no-visuals]{color:#656d76;}/*!sc*/
.CtaSm[data-no-visuals]{color:#0969da;}/*!sc*/
.CtaSm:has([data-component="ButtonCounter"]){color:#24292f;}/*!sc*/
.CtaSm:disabled[data-no-visuals]{color:#8c959f;}/*!sc*/
.CtaSm:disabled[data-no-visuals] [data-component=ButtonCounter]{color:inherit;}/*!sc*/
.CtaSm{color:#656d76;padding-left:8px;padding-right:8px;display:none;}/*!sc*/
@media screen and (max-width:768px){.CtaSm{display:block;}}/*!sc*/
.edBXBM{border-radius:6px;border:1px solid;border-color:transparent;font-family:inherit;font-weight:500;font-size:14px;cursor:pointer;-webkit-appearance:none;-moz-appearance:none;appearance:none;-webkit-user-select:none;-moz-user-select:none;-ms-user-select:none;user-select:none;-webkit-text-decoration:none;text-decoration:none;text-align:center;display:-webkit-box;display:-webkit-flex;display:-ms-flexbox;display:flex;-webkit-align-items:center;-webkit-box-align:center;-ms-flex-align:center;align-items:center;-webkit-box-pack:justify;-webkit-justify-content:space-between;-ms-flex-pack:justify;justify-content:space-between;height:32px;padding:0 12px;gap:8px;min-width:-webkit-max-content;min-width:-moz-max-content;min-width:max-content;-webkit-transition:80ms cubic-bezier(0.65,0,0.35,1);transition:80ms cubic-bezier(0.65,0,0.35,1);-webkit-transition-property:color,fill,background-color,border-color;transition-property:color,fill,background-color,border-color;color:#24292f;background-color:transparent;box-shadow:none;}/*!sc*/
.edBXBM:focus:not(:disabled){box-shadow:none;outline:2px solid #0969da;outline-offset:-2px;}/*!sc*/
.edBXBM:focus:not(:disabled):not(:focus-visible){outline:solid 1px transparent;}/*!sc*/
.edBXBM:focus-visible:not(:disabled){box-shadow:none;outline:2px solid #0969da;outline-offset:-2px;}/*!sc*/
.edBXBM[href]{display:-webkit-inline-box;display:-webkit-inline-flex;display:-ms-inline-flexbox;display:inline-flex;}/*!sc*/
.edBXBM[href]:hover{-webkit-text-decoration:none;text-decoration:none;}/*!sc*/
.edBXBM:hover{-webkit-transition-duration:80ms;transition-duration:80ms;}/*!sc*/
.edBXBM:active{-webkit-transition:none;transition:none;}/*!sc*/
.edBXBM:disabled{cursor:not-allowed;box-shadow:none;color:#8c959f;}/*!sc*/
.edBXBM:disabled [data-component=ButtonCounter],.edBXBM:disabled [data-component="leadingVisual"],.edBXBM:disabled [data-component="trailingAction"]{color:inherit;}/*!sc*/
@media (forced-colors:active){.edBXBM:focus{outline:solid 1px transparent;}}/*!sc*/
.edBXBM [data-component=ButtonCounter]{font-size:12px;}/*!sc*/
.edBXBM[data-component=IconButton]{display:inline-grid;padding:unset;place-content:center;width:32px;min-width:unset;}/*!sc*/
.edBXBM[data-size="small"]{padding:0 8px;height:28px;gap:4px;font-size:12px;}/*!sc*/
.edBXBM[data-size="small"] [data-component="text"]{line-height:calc(20 / 12);}/*!sc*/
.edBXBM[data-size="small"] [data-component=ButtonCounter]{font-size:12px;}/*!sc*/
.edBXBM[data-size="small"] [data-component="buttonContent"] > :not(:last-child){margin-right:4px;}/*!sc*/
.edBXBM[data-size="small"][data-component=IconButton]{width:28px;padding:unset;}/*!sc*/
.edBXBM[data-size="large"]{padding:0 16px;height:40px;gap:8px;}/*!sc*/
.edBXBM[data-size="large"] [data-component="buttonContent"] > :not(:last-child){margin-right:8px;}/*!sc*/
.edBXBM[data-size="large"][data-component=IconButton]{width:40px;padding:unset;}/*!sc*/
.edBXBM[data-block="block"]{width:100%;}/*!sc*/
.edBXBM [data-component="leadingVisual"]{grid-area:leadingVisual;color:#656d76;}/*!sc*/
.edBXBM [data-component="text"]{grid-area:text;line-height:calc(20/14);white-space:nowrap;}/*!sc*/
.edBXBM [data-component="trailingVisual"]{grid-area:trailingVisual;}/*!sc*/
.edBXBM [data-component="trailingAction"]{margin-right:-4px;color:#656d76;}/*!sc*/
.edBXBM [data-component="buttonContent"]{-webkit-flex:1 0 auto;-ms-flex:1 0 auto;flex:1 0 auto;display:grid;grid-template-areas:"leadingVisual text trailingVisual";grid-template-columns:min-content minmax(0,auto) min-content;-webkit-align-items:center;-webkit-box-align:center;-ms-flex-align:center;align-items:center;-webkit-align-content:center;-ms-flex-line-pack:center;align-content:center;}/*!sc*/
.edBXBM [data-component="buttonContent"] > :not(:last-child){margin-right:8px;}/*!sc*/
.edBXBM:hover:not([disabled]){background-color:rgba(208,215,222,0.32);}/*!sc*/
.edBXBM:active:not([disabled]){background-color:rgba(208,215,222,0.48);}/*!sc*/
.edBXBM[aria-expanded=true]{background-color:rgba(208,215,222,0.24);}/*!sc*/
.edBXBM[data-component="IconButton"][data-no-visuals]{color:#656d76;}/*!sc*/
.edBXBM[data-no-visuals]{color:#656d76;height:32px;position:relative;}/*!sc*/
@media screen and (max-width:768px){.edBXBM[data-no-visuals]{display:none;}}/*!sc*/
.edBXBM:has([data-component="ButtonCounter"]){color:#24292f;}/*!sc*/
.edBXBM:disabled[data-no-visuals]{color:#8c959f;}/*!sc*/
.edBXBM:disabled[data-no-visuals] [data-component=ButtonCounter]{color:inherit;}/*!sc*/
.woUrt{border-radius:6px;border:1px solid;border-color:var(--button-default-borderColor-rest,rgba(31,35,40,0.15));font-family:inherit;font-weight:500;font-size:14px;cursor:pointer;-webkit-appearance:none;-moz-appearance:none;appearance:none;-webkit-user-select:none;-moz-user-select:none;-ms-user-select:none;user-select:none;-webkit-text-decoration:none;text-decoration:none;text-align:center;display:-webkit-box;display:-webkit-flex;display:-ms-flexbox;display:flex;-webkit-align-items:center;-webkit-box-align:center;-ms-flex-align:center;align-items:center;-webkit-box-pack:justify;-webkit-justify-content:space-between;-ms-flex-pack:justify;justify-content:space-between;height:32px;padding:0 12px;gap:8px;min-width:-webkit-max-content;min-width:-moz-max-content;min-width:max-content;-webkit-transition:80ms cubic-bezier(0.65,0,0.35,1);transition:80ms cubic-bezier(0.65,0,0.35,1);-webkit-transition-property:color,fill,background-color,border-color;transition-property:color,fill,background-color,border-color;color:#24292f;background-color:#f6f8fa;box-shadow:0 1px 0 rgba(31,35,40,0.04),inset 0 1px 0 rgba(255,255,255,0.25);}/*!sc*/
.woUrt:focus:not(:disabled){box-shadow:none;outline:2px solid #0969da;outline-offset:-2px;}/*!sc*/
.woUrt:focus:not(:disabled):not(:focus-visible){outline:solid 1px transparent;}/*!sc*/
.woUrt:focus-visible:not(:disabled){box-shadow:none;outline:2px solid #0969da;outline-offset:-2px;}/*!sc*/
.woUrt[href]{display:-webkit-inline-box;display:-webkit-inline-flex;display:-ms-inline-flexbox;display:inline-flex;}/*!sc*/
.woUrt[href]:hover{-webkit-text-decoration:none;text-decoration:none;}/*!sc*/
.woUrt:hover{-webkit-transition-duration:80ms;transition-duration:80ms;}/*!sc*/
.woUrt:active{-webkit-transition:none;transition:none;}/*!sc*/
.woUrt:disabled{cursor:not-allowed;box-shadow:none;color:#8c959f;}/*!sc*/
.woUrt:disabled [data-component=ButtonCounter]{color:inherit;}/*!sc*/
@media (forced-colors:active){.woUrt:focus{outline:solid 1px transparent;}}/*!sc*/
.woUrt [data-component=ButtonCounter]{font-size:12px;}/*!sc*/
.woUrt[data-component=IconButton]{display:inline-grid;padding:unset;place-content:center;width:32px;min-width:unset;}/*!sc*/
.woUrt[data-size="small"]{padding:0 8px;height:28px;gap:4px;font-size:12px;}/*!sc*/
.woUrt[data-size="small"] [data-component="text"]{line-height:calc(20 / 12);}/*!sc*/
.woUrt[data-size="small"] [data-component=ButtonCounter]{font-size:12px;}/*!sc*/
.woUrt[data-size="small"] [data-component="buttonContent"] > :not(:last-child){margin-right:4px;}/*!sc*/
.woUrt[data-size="small"][data-component=IconButton]{width:28px;padding:unset;}/*!sc*/
.woUrt[data-size="large"]{padding:0 16px;height:40px;gap:8px;}/*!sc*/
.woUrt[data-size="large"] [data-component="buttonContent"] > :not(:last-child){margin-right:8px;}/*!sc*/
.woUrt[data-size="large"][data-component=IconButton]{width:40px;padding:unset;}/*!sc*/
.woUrt[data-block="block"]{width:100%;}/*!sc*/
.woUrt [data-component="leadingVisual"]{grid-area:leadingVisual;}/*!sc*/
.woUrt [data-component="text"]{grid-area:text;line-height:calc(20/14);white-space:nowrap;}/*!sc*/
.woUrt [data-component="trailingVisual"]{grid-area:trailingVisual;}/*!sc*/
.woUrt [data-component="trailingAction"]{margin-right:-4px;}/*!sc*/
.woUrt [data-component="buttonContent"]{-webkit-flex:1 0 auto;-ms-flex:1 0 auto;flex:1 0 auto;display:grid;grid-template-areas:"leadingVisual text trailingVisual";grid-template-columns:min-content minmax(0,auto) min-content;-webkit-align-items:center;-webkit-box-align:center;-ms-flex-align:center;align-items:center;-webkit-align-content:center;-ms-flex-line-pack:center;align-content:center;}/*!sc*/
.woUrt [data-component="buttonContent"] > :not(:last-child){margin-right:8px;}/*!sc*/
.woUrt:hover:not([disabled]){background-color:#f3f4f6;border-color:var(--button-default-borderColor-hover,rgba(31,35,40,0.15));}/*!sc*/
.woUrt:active:not([disabled]){background-color:hsla(220,14%,93%,1);border-color:var(--button-default-borderColor-active,rgba(31,35,40,0.15));}/*!sc*/
.woUrt[aria-expanded=true]{background-color:hsla(220,14%,93%,1);border-color:var(--button-default-borderColor-active,rgba(31,35,40,0.15));}/*!sc*/
.woUrt [data-component="leadingVisual"],.woUrt [data-component="trailingVisual"],.woUrt [data-component="trailingAction"]{color:var(--button-color,#656d76);}/*!sc*/
.woUrt{display:-webkit-box;display:-webkit-flex;display:-ms-flexbox;display:flex;min-width:0;}/*!sc*/
.woUrt svg{color:#656d76;}/*!sc*/
.woUrt > span{width:inherit;}/*!sc*/
.jikjkp{border-radius:6px;border:1px solid;border-color:var(--button-default-borderColor-rest,rgba(31,35,40,0.15));font-family:inherit;font-weight:500;font-size:14px;cursor:pointer;-webkit-appearance:none;-moz-appearance:none;appearance:none;-webkit-user-select:none;-moz-user-select:none;-ms-user-select:none;user-select:none;-webkit-text-decoration:none;text-decoration:none;text-align:center;display:-webkit-box;display:-webkit-flex;display:-ms-flexbox;display:flex;-webkit-align-items:center;-webkit-box-align:center;-ms-flex-align:center;align-items:center;-webkit-box-pack:justify;-webkit-justify-content:space-between;-ms-flex-pack:justify;justify-content:space-between;height:32px;padding:0 12px;gap:8px;min-width:-webkit-max-content;min-width:-moz-max-content;min-width:max-content;-webkit-transition:80ms cubic-bezier(0.65,0,0.35,1);transition:80ms cubic-bezier(0.65,0,0.35,1);-webkit-transition-property:color,fill,background-color,border-color;transition-property:color,fill,background-color,border-color;color:#24292f;background-color:#f6f8fa;box-shadow:0 1px 0 rgba(31,35,40,0.04),inset 0 1px 0 rgba(255,255,255,0.25);}/*!sc*/
.jikjkp:focus:not(:disabled){box-shadow:none;outline:2px solid #0969da;outline-offset:-2px;}/*!sc*/
.jikjkp:focus:not(:disabled):not(:focus-visible){outline:solid 1px transparent;}/*!sc*/
.jikjkp:focus-visible:not(:disabled){box-shadow:none;outline:2px solid #0969da;outline-offset:-2px;}/*!sc*/
.jikjkp[href]{display:-webkit-inline-box;display:-webkit-inline-flex;display:-ms-inline-flexbox;display:inline-flex;}/*!sc*/
.jikjkp[href]:hover{-webkit-text-decoration:none;text-decoration:none;}/*!sc*/
.jikjkp:hover{-webkit-transition-duration:80ms;transition-duration:80ms;}/*!sc*/
.jikjkp:active{-webkit-transition:none;transition:none;}/*!sc*/
.jikjkp:disabled{cursor:not-allowed;box-shadow:none;color:#8c959f;}/*!sc*/
.jikjkp:disabled [data-component=ButtonCounter]{color:inherit;}/*!sc*/
@media (forced-colors:active){.jikjkp:focus{outline:solid 1px transparent;}}/*!sc*/
.jikjkp [data-component=ButtonCounter]{font-size:12px;}/*!sc*/
.jikjkp[data-component=IconButton]{display:inline-grid;padding:unset;place-content:center;width:32px;min-width:unset;}/*!sc*/
.jikjkp[data-size="small"]{padding:0 8px;height:28px;gap:4px;font-size:12px;}/*!sc*/
.jikjkp[data-size="small"] [data-component="text"]{line-height:calc(20 / 12);}/*!sc*/
.jikjkp[data-size="small"] [data-component=ButtonCounter]{font-size:12px;}/*!sc*/
.jikjkp[data-size="small"] [data-component="buttonContent"] > :not(:last-child){margin-right:4px;}/*!sc*/
.jikjkp[data-size="small"][data-component=IconButton]{width:28px;padding:unset;}/*!sc*/
.jikjkp[data-size="large"]{padding:0 16px;height:40px;gap:8px;}/*!sc*/
.jikjkp[data-size="large"] [data-component="buttonContent"] > :not(:last-child){margin-right:8px;}/*!sc*/
.jikjkp[data-size="large"][data-component=IconButton]{width:40px;padding:unset;}/*!sc*/
.jikjkp[data-block="block"]{width:100%;}/*!sc*/
.jikjkp [data-component="leadingVisual"]{grid-area:leadingVisual;}/*!sc*/
.jikjkp [data-component="text"]{grid-area:text;line-height:calc(20/14);white-space:nowrap;}/*!sc*/
.jikjkp [data-component="trailingVisual"]{grid-area:trailingVisual;}/*!sc*/
.jikjkp [data-component="trailingAction"]{margin-right:-4px;}/*!sc*/
.jikjkp [data-component="buttonContent"]{-webkit-flex:1 0 auto;-ms-flex:1 0 auto;flex:1 0 auto;display:grid;grid-template-areas:"leadingVisual text trailingVisual";grid-template-columns:min-content minmax(0,auto) min-content;-webkit-align-items:center;-webkit-box-align:center;-ms-flex-align:center;align-items:center;-webkit-align-content:center;-ms-flex-line-pack:center;align-content:center;}/*!sc*/
.jikjkp [data-component="buttonContent"] > :not(:last-child){margin-right:8px;}/*!sc*/
.jikjkp:hover:not([disabled]){background-color:#f3f4f6;border-color:var(--button-default-borderColor-hover,rgba(31,35,40,0.15));}/*!sc*/
.jikjkp:active:not([disabled]){background-color:hsla(220,14%,93%,1);border-color:var(--button-default-borderColor-active,rgba(31,35,40,0.15));}/*!sc*/
.jikjkp[aria-expanded=true]{background-color:hsla(220,14%,93%,1);border-color:var(--button-default-borderColor-active,rgba(31,35,40,0.15));}/*!sc*/
.jikjkp [data-component="leadingVisual"],.jikjkp [data-component="trailingVisual"],.jikjkp [data-component="trailingAction"]{color:var(--button-color,#656d76);}/*!sc*/
.jikjkp[data-no-visuals]{color:#6e7781;border-top-right-radius:0;border-bottom-right-radius:0;border-right:0;}/*!sc*/
.jGImdP{border-radius:6px;border:1px solid;border-color:var(--button-default-borderColor-rest,rgba(31,35,40,0.15));font-family:inherit;font-weight:500;font-size:14px;cursor:pointer;-webkit-appearance:none;-moz-appearance:none;appearance:none;-webkit-user-select:none;-moz-user-select:none;-ms-user-select:none;user-select:none;-webkit-text-decoration:none;text-decoration:none;text-align:center;display:-webkit-box;display:-webkit-flex;display:-ms-flexbox;display:flex;-webkit-align-items:center;-webkit-box-align:center;-ms-flex-align:center;align-items:center;-webkit-box-pack:justify;-webkit-justify-content:space-between;-ms-flex-pack:justify;justify-content:space-between;height:32px;padding:0 12px;gap:8px;min-width:-webkit-max-content;min-width:-moz-max-content;min-width:max-content;-webkit-transition:80ms cubic-bezier(0.65,0,0.35,1);transition:80ms cubic-bezier(0.65,0,0.35,1);-webkit-transition-property:color,fill,background-color,border-color;transition-property:color,fill,background-color,border-color;color:#24292f;background-color:#f6f8fa;box-shadow:0 1px 0 rgba(31,35,40,0.04),inset 0 1px 0 rgba(255,255,255,0.25);}/*!sc*/
.jGImdP:focus:not(:disabled){box-shadow:none;outline:2px solid #0969da;outline-offset:-2px;}/*!sc*/
.jGImdP:focus:not(:disabled):not(:focus-visible){outline:solid 1px transparent;}/*!sc*/
.jGImdP:focus-visible:not(:disabled){box-shadow:none;outline:2px solid #0969da;outline-offset:-2px;}/*!sc*/
.jGImdP[href]{display:-webkit-inline-box;display:-webkit-inline-flex;display:-ms-inline-flexbox;display:inline-flex;}/*!sc*/
.jGImdP[href]:hover{-webkit-text-decoration:none;text-decoration:none;}/*!sc*/
.jGImdP:hover{-webkit-transition-duration:80ms;transition-duration:80ms;}/*!sc*/
.jGImdP:active{-webkit-transition:none;transition:none;}/*!sc*/
.jGImdP:disabled{cursor:not-allowed;box-shadow:none;color:#8c959f;}/*!sc*/
.jGImdP:disabled [data-component=ButtonCounter]{color:inherit;}/*!sc*/
@media (forced-colors:active){.jGImdP:focus{outline:solid 1px transparent;}}/*!sc*/
.jGImdP [data-component=ButtonCounter]{font-size:12px;}/*!sc*/
.jGImdP[data-component=IconButton]{display:inline-grid;padding:unset;place-content:center;width:32px;min-width:unset;}/*!sc*/
.jGImdP[data-size="small"]{padding:0 8px;height:28px;gap:4px;font-size:12px;}/*!sc*/
.jGImdP[data-size="small"] [data-component="text"]{line-height:calc(20 / 12);}/*!sc*/
.jGImdP[data-size="small"] [data-component=ButtonCounter]{font-size:12px;}/*!sc*/
.jGImdP[data-size="small"] [data-component="buttonContent"] > :not(:last-child){margin-right:4px;}/*!sc*/
.jGImdP[data-size="small"][data-component=IconButton]{width:28px;padding:unset;}/*!sc*/
.jGImdP[data-size="large"]{padding:0 16px;height:40px;gap:8px;}/*!sc*/
.jGImdP[data-size="large"] [data-component="buttonContent"] > :not(:last-child){margin-right:8px;}/*!sc*/
.jGImdP[data-size="large"][data-component=IconButton]{width:40px;padding:unset;}/*!sc*/
.jGImdP[data-block="block"]{width:100%;}/*!sc*/
.jGImdP [data-component="leadingVisual"]{grid-area:leadingVisual;}/*!sc*/
.jGImdP [data-component="text"]{grid-area:text;line-height:calc(20/14);white-space:nowrap;}/*!sc*/
.jGImdP [data-component="trailingVisual"]{grid-area:trailingVisual;}/*!sc*/
.jGImdP [data-component="trailingAction"]{margin-right:-4px;}/*!sc*/
.jGImdP [data-component="buttonContent"]{-webkit-flex:1 0 auto;-ms-flex:1 0 auto;flex:1 0 auto;display:grid;grid-template-areas:"leadingVisual text trailingVisual";grid-template-columns:min-content minmax(0,auto) min-content;-webkit-align-items:center;-webkit-box-align:center;-ms-flex-align:center;align-items:center;-webkit-align-content:center;-ms-flex-line-pack:center;align-content:center;}/*!sc*/
.jGImdP [data-component="buttonContent"] > :not(:last-child){margin-right:8px;}/*!sc*/
.jGImdP:hover:not([disabled]){background-color:#f3f4f6;border-color:var(--button-default-borderColor-hover,rgba(31,35,40,0.15));}/*!sc*/
.jGImdP:active:not([disabled]){background-color:hsla(220,14%,93%,1);border-color:var(--button-default-borderColor-active,rgba(31,35,40,0.15));}/*!sc*/
.jGImdP[aria-expanded=true]{background-color:hsla(220,14%,93%,1);border-color:var(--button-default-borderColor-active,rgba(31,35,40,0.15));}/*!sc*/
.jGImdP [data-component="leadingVisual"],.jGImdP [data-component="trailingVisual"],.jGImdP [data-component="trailingAction"]{color:var(--button-color,#656d76);}/*!sc*/
.jGImdP[data-no-visuals]{color:#6e7781;font-size:14px;font-weight:400;-webkit-flex-shrink:0;-ms-flex-negative:0;flex-shrink:0;border-top-left-radius:0;border-bottom-left-radius:0;}/*!sc*/
.hgfMvt{border-radius:6px;border:1px solid;border-color:var(--button-default-borderColor-rest,rgba(31,35,40,0.15));font-family:inherit;font-weight:500;font-size:14px;cursor:pointer;-webkit-appearance:none;-moz-appearance:none;appearance:none;-webkit-user-select:none;-moz-user-select:none;-ms-user-select:none;user-select:none;-webkit-text-decoration:none;text-decoration:none;text-align:center;display:-webkit-box;display:-webkit-flex;display:-ms-flexbox;display:flex;-webkit-align-items:center;-webkit-box-align:center;-ms-flex-align:center;align-items:center;-webkit-box-pack:justify;-webkit-justify-content:space-between;-ms-flex-pack:justify;justify-content:space-between;height:32px;padding:0 12px;gap:8px;min-width:-webkit-max-content;min-width:-moz-max-content;min-width:max-content;-webkit-transition:80ms cubic-bezier(0.65,0,0.35,1);transition:80ms cubic-bezier(0.65,0,0.35,1);-webkit-transition-property:color,fill,background-color,border-color;transition-property:color,fill,background-color,border-color;color:#24292f;background-color:#f6f8fa;box-shadow:0 1px 0 rgba(31,35,40,0.04),inset 0 1px 0 rgba(255,255,255,0.25);}/*!sc*/
.hgfMvt:focus:not(:disabled){box-shadow:none;outline:2px solid #0969da;outline-offset:-2px;}/*!sc*/
.hgfMvt:focus:not(:disabled):not(:focus-visible){outline:solid 1px transparent;}/*!sc*/
.hgfMvt:focus-visible:not(:disabled){box-shadow:none;outline:2px solid #0969da;outline-offset:-2px;}/*!sc*/
.hgfMvt[href]{display:-webkit-inline-box;display:-webkit-inline-flex;display:-ms-inline-flexbox;display:inline-flex;}/*!sc*/
.hgfMvt[href]:hover{-webkit-text-decoration:none;text-decoration:none;}/*!sc*/
.hgfMvt:hover{-webkit-transition-duration:80ms;transition-duration:80ms;}/*!sc*/
.hgfMvt:active{-webkit-transition:none;transition:none;}/*!sc*/
.hgfMvt:disabled{cursor:not-allowed;box-shadow:none;color:#8c959f;}/*!sc*/
.hgfMvt:disabled [data-component=ButtonCounter]{color:inherit;}/*!sc*/
@media (forced-colors:active){.hgfMvt:focus{outline:solid 1px transparent;}}/*!sc*/
.hgfMvt [data-component=ButtonCounter]{font-size:12px;}/*!sc*/
.hgfMvt[data-component=IconButton]{display:inline-grid;padding:unset;place-content:center;width:32px;min-width:unset;}/*!sc*/
.hgfMvt[data-size="small"]{padding:0 8px;height:28px;gap:4px;font-size:12px;}/*!sc*/
.hgfMvt[data-size="small"] [data-component="text"]{line-height:calc(20 / 12);}/*!sc*/
.hgfMvt[data-size="small"] [data-component=ButtonCounter]{font-size:12px;}/*!sc*/
.hgfMvt[data-size="small"] [data-component="buttonContent"] > :not(:last-child){margin-right:4px;}/*!sc*/
.hgfMvt[data-size="small"][data-component=IconButton]{width:28px;padding:unset;}/*!sc*/
.hgfMvt[data-size="large"]{padding:0 16px;height:40px;gap:8px;}/*!sc*/
.hgfMvt[data-size="large"] [data-component="buttonContent"] > :not(:last-child){margin-right:8px;}/*!sc*/
.hgfMvt[data-size="large"][data-component=IconButton]{width:40px;padding:unset;}/*!sc*/
.hgfMvt[data-block="block"]{width:100%;}/*!sc*/
.hgfMvt [data-component="leadingVisual"]{grid-area:leadingVisual;}/*!sc*/
.hgfMvt [data-component="text"]{grid-area:text;line-height:calc(20/14);white-space:nowrap;}/*!sc*/
.hgfMvt [data-component="trailingVisual"]{grid-area:trailingVisual;}/*!sc*/
.hgfMvt [data-component="trailingAction"]{margin-right:-4px;}/*!sc*/
.hgfMvt [data-component="buttonContent"]{-webkit-flex:1 0 auto;-ms-flex:1 0 auto;flex:1 0 auto;display:grid;grid-template-areas:"leadingVisual text trailingVisual";grid-template-columns:min-content minmax(0,auto) min-content;-webkit-align-items:center;-webkit-box-align:center;-ms-flex-align:center;align-items:center;-webkit-align-content:center;-ms-flex-line-pack:center;align-content:center;}/*!sc*/
.hgfMvt [data-component="buttonContent"] > :not(:last-child){margin-right:8px;}/*!sc*/
.hgfMvt:hover:not([disabled]){background-color:#f3f4f6;border-color:var(--button-default-borderColor-hover,rgba(31,35,40,0.15));}/*!sc*/
.hgfMvt:active:not([disabled]){background-color:hsla(220,14%,93%,1);border-color:var(--button-default-borderColor-active,rgba(31,35,40,0.15));}/*!sc*/
.hgfMvt[aria-expanded=true]{background-color:hsla(220,14%,93%,1);border-color:var(--button-default-borderColor-active,rgba(31,35,40,0.15));}/*!sc*/
.hgfMvt [data-component="leadingVisual"],.hgfMvt [data-component="trailingVisual"],.hgfMvt [data-component="trailingAction"]{color:var(--button-color,#656d76);}/*!sc*/
.hgfMvt{display:-webkit-box;display:-webkit-flex;display:-ms-flexbox;display:flex;}/*!sc*/
.hgfMvt svg{color:#656d76;}/*!sc*/
.hgfMvt > span{width:inherit;}/*!sc*/
.iwEpzF{border-radius:6px;border:1px solid;border-color:var(--button-default-borderColor-rest,rgba(31,35,40,0.15));font-family:inherit;font-weight:500;font-size:14px;cursor:pointer;-webkit-appearance:none;-moz-appearance:none;appearance:none;-webkit-user-select:none;-moz-user-select:none;-ms-user-select:none;user-select:none;-webkit-text-decoration:none;text-decoration:none;text-align:center;display:-webkit-box;display:-webkit-flex;display:-ms-flexbox;display:flex;-webkit-align-items:center;-webkit-box-align:center;-ms-flex-align:center;align-items:center;-webkit-box-pack:justify;-webkit-justify-content:space-between;-ms-flex-pack:justify;justify-content:space-between;height:32px;padding:0 12px;gap:8px;min-width:-webkit-max-content;min-width:-moz-max-content;min-width:max-content;-webkit-transition:80ms cubic-bezier(0.65,0,0.35,1);transition:80ms cubic-bezier(0.65,0,0.35,1);-webkit-transition-property:color,fill,background-color,border-color;transition-property:color,fill,background-color,border-color;color:#24292f;background-color:#f6f8fa;box-shadow:0 1px 0 rgba(31,35,40,0.04),inset 0 1px 0 rgba(255,255,255,0.25);}/*!sc*/
.iwEpzF:focus:not(:disabled){box-shadow:none;outline:2px solid #0969da;outline-offset:-2px;}/*!sc*/
.iwEpzF:focus:not(:disabled):not(:focus-visible){outline:solid 1px transparent;}/*!sc*/
.iwEpzF:focus-visible:not(:disabled){box-shadow:none;outline:2px solid #0969da;outline-offset:-2px;}/*!sc*/
.iwEpzF[href]{display:-webkit-inline-box;display:-webkit-inline-flex;display:-ms-inline-flexbox;display:inline-flex;}/*!sc*/
.iwEpzF[href]:hover{-webkit-text-decoration:none;text-decoration:none;}/*!sc*/
.iwEpzF:hover{-webkit-transition-duration:80ms;transition-duration:80ms;}/*!sc*/
.iwEpzF:active{-webkit-transition:none;transition:none;}/*!sc*/
.iwEpzF:disabled{cursor:not-allowed;box-shadow:none;color:#8c959f;}/*!sc*/
.iwEpzF:disabled [data-component=ButtonCounter]{color:inherit;}/*!sc*/
@media (forced-colors:active){.iwEpzF:focus{outline:solid 1px transparent;}}/*!sc*/
.iwEpzF [data-component=ButtonCounter]{font-size:12px;}/*!sc*/
.iwEpzF[data-component=IconButton]{display:inline-grid;padding:unset;place-content:center;width:32px;min-width:unset;}/*!sc*/
.iwEpzF[data-size="small"]{padding:0 8px;height:28px;gap:4px;font-size:12px;}/*!sc*/
.iwEpzF[data-size="small"] [data-component="text"]{line-height:calc(20 / 12);}/*!sc*/
.iwEpzF[data-size="small"] [data-component=ButtonCounter]{font-size:12px;}/*!sc*/
.iwEpzF[data-size="small"] [data-component="buttonContent"] > :not(:last-child){margin-right:4px;}/*!sc*/
.iwEpzF[data-size="small"][data-component=IconButton]{width:28px;padding:unset;}/*!sc*/
.iwEpzF[data-size="large"]{padding:0 16px;height:40px;gap:8px;}/*!sc*/
.iwEpzF[data-size="large"] [data-component="buttonContent"] > :not(:last-child){margin-right:8px;}/*!sc*/
.iwEpzF[data-size="large"][data-component=IconButton]{width:40px;padding:unset;}/*!sc*/
.iwEpzF[data-block="block"]{width:100%;}/*!sc*/
.iwEpzF [data-component="leadingVisual"]{grid-area:leadingVisual;}/*!sc*/
.iwEpzF [data-component="text"]{grid-area:text;line-height:calc(20/14);white-space:nowrap;}/*!sc*/
.iwEpzF [data-component="trailingVisual"]{grid-area:trailingVisual;}/*!sc*/
.iwEpzF [data-component="trailingAction"]{margin-right:-4px;}/*!sc*/
.iwEpzF [data-component="buttonContent"]{-webkit-flex:1 0 auto;-ms-flex:1 0 auto;flex:1 0 auto;display:grid;grid-template-areas:"leadingVisual text trailingVisual";grid-template-columns:min-content minmax(0,auto) min-content;-webkit-align-items:center;-webkit-box-align:center;-ms-flex-align:center;align-items:center;-webkit-align-content:center;-ms-flex-line-pack:center;align-content:center;}/*!sc*/
.iwEpzF [data-component="buttonContent"] > :not(:last-child){margin-right:8px;}/*!sc*/
.iwEpzF:hover:not([disabled]){background-color:#f3f4f6;border-color:var(--button-default-borderColor-hover,rgba(31,35,40,0.15));}/*!sc*/
.iwEpzF:active:not([disabled]){background-color:hsla(220,14%,93%,1);border-color:var(--button-default-borderColor-active,rgba(31,35,40,0.15));}/*!sc*/
.iwEpzF[aria-expanded=true]{background-color:hsla(220,14%,93%,1);border-color:var(--button-default-borderColor-active,rgba(31,35,40,0.15));}/*!sc*/
.iwEpzF [data-component="leadingVisual"],.iwEpzF [data-component="trailingVisual"],.iwEpzF [data-component="trailingAction"]{color:var(--button-color,#656d76);}/*!sc*/
.iwEpzF[data-no-visuals]{border-top-left-radius:0;border-bottom-left-radius:0;display:none;}/*!sc*/
.bNMwOz{border-radius:6px;border:1px solid;border-color:var(--button-default-borderColor-rest,rgba(31,35,40,0.15));font-family:inherit;font-weight:500;font-size:14px;cursor:pointer;-webkit-appearance:none;-moz-appearance:none;appearance:none;-webkit-user-select:none;-moz-user-select:none;-ms-user-select:none;user-select:none;-webkit-text-decoration:none;text-decoration:none;text-align:center;display:-webkit-box;display:-webkit-flex;display:-ms-flexbox;display:flex;-webkit-align-items:center;-webkit-box-align:center;-ms-flex-align:center;align-items:center;-webkit-box-pack:justify;-webkit-justify-content:space-between;-ms-flex-pack:justify;justify-content:space-between;height:32px;padding:0 12px;gap:8px;min-width:-webkit-max-content;min-width:-moz-max-content;min-width:max-content;-webkit-transition:80ms cubic-bezier(0.65,0,0.35,1);transition:80ms cubic-bezier(0.65,0,0.35,1);-webkit-transition-property:color,fill,background-color,border-color;transition-property:color,fill,background-color,border-color;color:#24292f;background-color:#f6f8fa;box-shadow:0 1px 0 rgba(31,35,40,0.04),inset 0 1px 0 rgba(255,255,255,0.25);}/*!sc*/
.bNMwOz:focus:not(:disabled){box-shadow:none;outline:2px solid #0969da;outline-offset:-2px;}/*!sc*/
.bNMwOz:focus:not(:disabled):not(:focus-visible){outline:solid 1px transparent;}/*!sc*/
.bNMwOz:focus-visible:not(:disabled){box-shadow:none;outline:2px solid #0969da;outline-offset:-2px;}/*!sc*/
.bNMwOz[href]{display:-webkit-inline-box;display:-webkit-inline-flex;display:-ms-inline-flexbox;display:inline-flex;}/*!sc*/
.bNMwOz[href]:hover{-webkit-text-decoration:none;text-decoration:none;}/*!sc*/
.bNMwOz:hover{-webkit-transition-duration:80ms;transition-duration:80ms;}/*!sc*/
.bNMwOz:active{-webkit-transition:none;transition:none;}/*!sc*/
.bNMwOz:disabled{cursor:not-allowed;box-shadow:none;color:#8c959f;}/*!sc*/
.bNMwOz:disabled [data-component=ButtonCounter]{color:inherit;}/*!sc*/
@media (forced-colors:active){.bNMwOz:focus{outline:solid 1px transparent;}}/*!sc*/
.bNMwOz [data-component=ButtonCounter]{font-size:12px;}/*!sc*/
.bNMwOz[data-component=IconButton]{display:inline-grid;padding:unset;place-content:center;width:32px;min-width:unset;}/*!sc*/
.bNMwOz[data-size="small"]{padding:0 8px;height:28px;gap:4px;font-size:12px;}/*!sc*/
.bNMwOz[data-size="small"] [data-component="text"]{line-height:calc(20 / 12);}/*!sc*/
.bNMwOz[data-size="small"] [data-component=ButtonCounter]{font-size:12px;}/*!sc*/
.bNMwOz[data-size="small"] [data-component="buttonContent"] > :not(:last-child){margin-right:4px;}/*!sc*/
.bNMwOz[data-size="small"][data-component=IconButton]{width:28px;padding:unset;}/*!sc*/
.bNMwOz[data-size="large"]{padding:0 16px;height:40px;gap:8px;}/*!sc*/
.bNMwOz[data-size="large"] [data-component="buttonContent"] > :not(:last-child){margin-right:8px;}/*!sc*/
.bNMwOz[data-size="large"][data-component=IconButton]{width:40px;padding:unset;}/*!sc*/
.bNMwOz[data-block="block"]{width:100%;}/*!sc*/
.bNMwOz [data-component="leadingVisual"]{grid-area:leadingVisual;}/*!sc*/
.bNMwOz [data-component="text"]{grid-area:text;line-height:calc(20/14);white-space:nowrap;}/*!sc*/
.bNMwOz [data-component="trailingVisual"]{grid-area:trailingVisual;}/*!sc*/
.bNMwOz [data-component="trailingAction"]{margin-right:-4px;}/*!sc*/
.bNMwOz [data-component="buttonContent"]{-webkit-flex:1 0 auto;-ms-flex:1 0 auto;flex:1 0 auto;display:grid;grid-template-areas:"leadingVisual text trailingVisual";grid-template-columns:min-content minmax(0,auto) min-content;-webkit-align-items:center;-webkit-box-align:center;-ms-flex-align:center;align-items:center;-webkit-align-content:center;-ms-flex-line-pack:center;align-content:center;}/*!sc*/
.bNMwOz [data-component="buttonContent"] > :not(:last-child){margin-right:8px;}/*!sc*/
.bNMwOz:hover:not([disabled]){background-color:#f3f4f6;border-color:var(--button-default-borderColor-hover,rgba(31,35,40,0.15));}/*!sc*/
.bNMwOz:active:not([disabled]){background-color:hsla(220,14%,93%,1);border-color:var(--button-default-borderColor-active,rgba(31,35,40,0.15));}/*!sc*/
.bNMwOz[aria-expanded=true]{background-color:hsla(220,14%,93%,1);border-color:var(--button-default-borderColor-active,rgba(31,35,40,0.15));}/*!sc*/
.bNMwOz [data-component="leadingVisual"],.bNMwOz [data-component="trailingVisual"],.bNMwOz [data-component="trailingAction"]{color:var(--button-color,#656d76);}/*!sc*/
.bNMwOz[data-no-visuals]{color:#656d76;}/*!sc*/
.bLPynQ{border-radius:6px;border:1px solid;border-color:transparent;font-family:inherit;font-weight:500;font-size:14px;cursor:pointer;-webkit-appearance:none;-moz-appearance:none;appearance:none;-webkit-user-select:none;-moz-user-select:none;-ms-user-select:none;user-select:none;-webkit-text-decoration:none;text-decoration:none;text-align:center;display:-webkit-box;display:-webkit-flex;display:-ms-flexbox;display:flex;-webkit-align-items:center;-webkit-box-align:center;-ms-flex-align:center;align-items:center;-webkit-box-pack:justify;-webkit-justify-content:space-between;-ms-flex-pack:justify;justify-content:space-between;height:32px;padding:0 12px;gap:8px;min-width:-webkit-max-content;min-width:-moz-max-content;min-width:max-content;-webkit-transition:80ms cubic-bezier(0.65,0,0.35,1);transition:80ms cubic-bezier(0.65,0,0.35,1);-webkit-transition-property:color,fill,background-color,border-color;transition-property:color,fill,background-color,border-color;color:#24292f;background-color:transparent;box-shadow:none;}/*!sc*/
.bLPynQ:focus:not(:disabled){box-shadow:none;outline:2px solid #0969da;outline-offset:-2px;}/*!sc*/
.bLPynQ:focus:not(:disabled):not(:focus-visible){outline:solid 1px transparent;}/*!sc*/
.bLPynQ:focus-visible:not(:disabled){box-shadow:none;outline:2px solid #0969da;outline-offset:-2px;}/*!sc*/
.bLPynQ[href]{display:-webkit-inline-box;display:-webkit-inline-flex;display:-ms-inline-flexbox;display:inline-flex;}/*!sc*/
.bLPynQ[href]:hover{-webkit-text-decoration:none;text-decoration:none;}/*!sc*/
.bLPynQ:hover{-webkit-transition-duration:80ms;transition-duration:80ms;}/*!sc*/
.bLPynQ:active{-webkit-transition:none;transition:none;}/*!sc*/
.bLPynQ:disabled{cursor:not-allowed;box-shadow:none;color:#8c959f;}/*!sc*/
.bLPynQ:disabled [data-component=ButtonCounter],.bLPynQ:disabled [data-component="leadingVisual"],.bLPynQ:disabled [data-component="trailingAction"]{color:inherit;}/*!sc*/
@media (forced-colors:active){.bLPynQ:focus{outline:solid 1px transparent;}}/*!sc*/
.bLPynQ [data-component=ButtonCounter]{font-size:12px;}/*!sc*/
.bLPynQ[data-component=IconButton]{display:inline-grid;padding:unset;place-content:center;width:32px;min-width:unset;}/*!sc*/
.bLPynQ[data-size="small"]{padding:0 8px;height:28px;gap:4px;font-size:12px;}/*!sc*/
.bLPynQ[data-size="small"] [data-component="text"]{line-height:calc(20 / 12);}/*!sc*/
.bLPynQ[data-size="small"] [data-component=ButtonCounter]{font-size:12px;}/*!sc*/
.bLPynQ[data-size="small"] [data-component="buttonContent"] > :not(:last-child){margin-right:4px;}/*!sc*/
.bLPynQ[data-size="small"][data-component=IconButton]{width:28px;padding:unset;}/*!sc*/
.bLPynQ[data-size="large"]{padding:0 16px;height:40px;gap:8px;}/*!sc*/
.bLPynQ[data-size="large"] [data-component="buttonContent"] > :not(:last-child){margin-right:8px;}/*!sc*/
.bLPynQ[data-size="large"][data-component=IconButton]{width:40px;padding:unset;}/*!sc*/
.bLPynQ[data-block="block"]{width:100%;}/*!sc*/
.bLPynQ [data-component="leadingVisual"]{grid-area:leadingVisual;color:#656d76;}/*!sc*/
.bLPynQ [data-component="text"]{grid-area:text;line-height:calc(20/14);white-space:nowrap;}/*!sc*/
.bLPynQ [data-component="trailingVisual"]{grid-area:trailingVisual;}/*!sc*/
.bLPynQ [data-component="trailingAction"]{margin-right:-4px;color:#656d76;}/*!sc*/
.bLPynQ [data-component="buttonContent"]{-webkit-flex:1 0 auto;-ms-flex:1 0 auto;flex:1 0 auto;display:grid;grid-template-areas:"leadingVisual text trailingVisual";grid-template-columns:min-content minmax(0,auto) min-content;-webkit-align-items:center;-webkit-box-align:center;-ms-flex-align:center;align-items:center;-webkit-align-content:center;-ms-flex-line-pack:center;align-content:center;}/*!sc*/
.bLPynQ [data-component="buttonContent"] > :not(:last-child){margin-right:8px;}/*!sc*/
.bLPynQ:hover:not([disabled]){background-color:rgba(208,215,222,0.32);}/*!sc*/
.bLPynQ:active:not([disabled]){background-color:rgba(208,215,222,0.48);}/*!sc*/
.bLPynQ[aria-expanded=true]{background-color:rgba(208,215,222,0.24);}/*!sc*/
.bLPynQ[data-component="IconButton"][data-no-visuals]{color:#656d76;}/*!sc*/
.bLPynQ[data-no-visuals]{color:#0969da;}/*!sc*/
.bLPynQ:has([data-component="ButtonCounter"]){color:#24292f;}/*!sc*/
.bLPynQ:disabled[data-no-visuals]{color:#8c959f;}/*!sc*/
.bLPynQ:disabled[data-no-visuals] [data-component=ButtonCounter]{color:inherit;}/*!sc*/
.bLPynQ[data-size="small"][data-no-visuals]{margin-left:8px;}/*!sc*/
.fNmgkb{border-radius:6px;border:1px solid;border-color:transparent;font-family:inherit;font-weight:500;font-size:14px;cursor:pointer;-webkit-appearance:none;-moz-appearance:none;appearance:none;-webkit-user-select:none;-moz-user-select:none;-ms-user-select:none;user-select:none;-webkit-text-decoration:none;text-decoration:none;text-align:center;display:-webkit-box;display:-webkit-flex;display:-ms-flexbox;display:flex;-webkit-align-items:center;-webkit-box-align:center;-ms-flex-align:center;align-items:center;-webkit-box-pack:justify;-webkit-justify-content:space-between;-ms-flex-pack:justify;justify-content:space-between;height:32px;padding:0 12px;gap:8px;min-width:-webkit-max-content;min-width:-moz-max-content;min-width:max-content;-webkit-transition:80ms cubic-bezier(0.65,0,0.35,1);transition:80ms cubic-bezier(0.65,0,0.35,1);-webkit-transition-property:color,fill,background-color,border-color;transition-property:color,fill,background-color,border-color;color:#1F2328;background-color:transparent;box-shadow:none;}/*!sc*/
.fNmgkb:focus:not(:disabled){box-shadow:none;outline:2px solid #0969da;outline-offset:-2px;}/*!sc*/
.fNmgkb:focus:not(:disabled):not(:focus-visible){outline:solid 1px transparent;}/*!sc*/
.fNmgkb:focus-visible:not(:disabled){box-shadow:none;outline:2px solid #0969da;outline-offset:-2px;}/*!sc*/
.fNmgkb[href]{display:-webkit-inline-box;display:-webkit-inline-flex;display:-ms-inline-flexbox;display:inline-flex;}/*!sc*/
.fNmgkb[href]:hover{-webkit-text-decoration:none;text-decoration:none;}/*!sc*/
.fNmgkb:hover{-webkit-transition-duration:80ms;transition-duration:80ms;}/*!sc*/
.fNmgkb:active{-webkit-transition:none;transition:none;}/*!sc*/
.fNmgkb:disabled{cursor:not-allowed;box-shadow:none;color:#8c959f;}/*!sc*/
.fNmgkb:disabled [data-component=ButtonCounter],.fNmgkb:disabled [data-component="leadingVisual"],.fNmgkb:disabled [data-component="trailingAction"]{color:inherit;}/*!sc*/
@media (forced-colors:active){.fNmgkb:focus{outline:solid 1px transparent;}}/*!sc*/
.fNmgkb [data-component=ButtonCounter]{font-size:12px;}/*!sc*/
.fNmgkb[data-component=IconButton]{display:inline-grid;padding:unset;place-content:center;width:32px;min-width:unset;}/*!sc*/
.fNmgkb[data-size="small"]{padding:0 8px;height:28px;gap:4px;font-size:12px;}/*!sc*/
.fNmgkb[data-size="small"] [data-component="text"]{line-height:calc(20 / 12);}/*!sc*/
.fNmgkb[data-size="small"] [data-component=ButtonCounter]{font-size:12px;}/*!sc*/
.fNmgkb[data-size="small"] [data-component="buttonContent"] > :not(:last-child){margin-right:4px;}/*!sc*/
.fNmgkb[data-size="small"][data-component=IconButton]{width:28px;padding:unset;}/*!sc*/
.fNmgkb[data-size="large"]{padding:0 16px;height:40px;gap:8px;}/*!sc*/
.fNmgkb[data-size="large"] [data-component="buttonContent"] > :not(:last-child){margin-right:8px;}/*!sc*/
.fNmgkb[data-size="large"][data-component=IconButton]{width:40px;padding:unset;}/*!sc*/
.fNmgkb[data-block="block"]{width:100%;}/*!sc*/
.fNmgkb [data-component="leadingVisual"]{grid-area:leadingVisual;color:#656d76;}/*!sc*/
.fNmgkb [data-component="text"]{grid-area:text;line-height:calc(20/14);white-space:nowrap;}/*!sc*/
.fNmgkb [data-component="trailingVisual"]{grid-area:trailingVisual;}/*!sc*/
.fNmgkb [data-component="trailingAction"]{margin-right:-4px;color:#656d76;}/*!sc*/
.fNmgkb [data-component="buttonContent"]{-webkit-flex:1 0 auto;-ms-flex:1 0 auto;flex:1 0 auto;display:grid;grid-template-areas:"leadingVisual text trailingVisual";grid-template-columns:min-content minmax(0,auto) min-content;-webkit-align-items:center;-webkit-box-align:center;-ms-flex-align:center;align-items:center;-webkit-align-content:center;-ms-flex-line-pack:center;align-content:center;}/*!sc*/
.fNmgkb [data-component="buttonContent"] > :not(:last-child){margin-right:8px;}/*!sc*/
.fNmgkb:hover:not([disabled]){background-color:rgba(208,215,222,0.32);-webkit-text-decoration:none;text-decoration:none;}/*!sc*/
.fNmgkb:active:not([disabled]){background-color:rgba(208,215,222,0.48);-webkit-text-decoration:none;text-decoration:none;}/*!sc*/
.fNmgkb[aria-expanded=true]{background-color:rgba(208,215,222,0.24);}/*!sc*/
.fNmgkb[data-component="IconButton"][data-no-visuals]{color:#656d76;}/*!sc*/
.fNmgkb[data-no-visuals]{color:#0969da;}/*!sc*/
.fNmgkb:has([data-component="ButtonCounter"]){color:#24292f;}/*!sc*/
.fNmgkb:disabled[data-no-visuals]{color:#8c959f;}/*!sc*/
.fNmgkb:disabled[data-no-visuals] [data-component=ButtonCounter]{color:inherit;}/*!sc*/
.fNmgkb:focus:not([disabled]){-webkit-text-decoration:none;text-decoration:none;}/*!sc*/
.dAvRwz{border-radius:6px;border:1px solid;border-color:transparent;font-family:inherit;font-weight:500;font-size:14px;cursor:pointer;-webkit-appearance:none;-moz-appearance:none;appearance:none;-webkit-user-select:none;-moz-user-select:none;-ms-user-select:none;user-select:none;-webkit-text-decoration:none;text-decoration:none;text-align:center;display:-webkit-box;display:-webkit-flex;display:-ms-flexbox;display:flex;-webkit-align-items:center;-webkit-box-align:center;-ms-flex-align:center;align-items:center;-webkit-box-pack:justify;-webkit-justify-content:space-between;-ms-flex-pack:justify;justify-content:space-between;height:32px;padding:0 12px;gap:8px;min-width:-webkit-max-content;min-width:-moz-max-content;min-width:max-content;-webkit-transition:80ms cubic-bezier(0.65,0,0.35,1);transition:80ms cubic-bezier(0.65,0,0.35,1);-webkit-transition-property:color,fill,background-color,border-color;transition-property:color,fill,background-color,border-color;color:#24292f;background-color:transparent;box-shadow:none;}/*!sc*/
.dAvRwz:focus:not(:disabled){box-shadow:none;outline:2px solid #0969da;outline-offset:-2px;}/*!sc*/
.dAvRwz:focus:not(:disabled):not(:focus-visible){outline:solid 1px transparent;}/*!sc*/
.dAvRwz:focus-visible:not(:disabled){box-shadow:none;outline:2px solid #0969da;outline-offset:-2px;}/*!sc*/
.dAvRwz[href]{display:-webkit-inline-box;display:-webkit-inline-flex;display:-ms-inline-flexbox;display:inline-flex;}/*!sc*/
.dAvRwz[href]:hover{-webkit-text-decoration:none;text-decoration:none;}/*!sc*/
.dAvRwz:hover{-webkit-transition-duration:80ms;transition-duration:80ms;}/*!sc*/
.dAvRwz:active{-webkit-transition:none;transition:none;}/*!sc*/
.dAvRwz:disabled{cursor:not-allowed;box-shadow:none;color:#8c959f;}/*!sc*/
.dAvRwz:disabled [data-component=ButtonCounter],.dAvRwz:disabled [data-component="leadingVisual"],.dAvRwz:disabled [data-component="trailingAction"]{color:inherit;}/*!sc*/
@media (forced-colors:active){.dAvRwz:focus{outline:solid 1px transparent;}}/*!sc*/
.dAvRwz [data-component=ButtonCounter]{font-size:12px;}/*!sc*/
.dAvRwz[data-component=IconButton]{display:inline-grid;padding:unset;place-content:center;width:32px;min-width:unset;}/*!sc*/
.dAvRwz[data-size="small"]{padding:0 8px;height:28px;gap:4px;font-size:12px;color:#1F2328;display:none;}/*!sc*/
.dAvRwz[data-size="small"] [data-component="text"]{line-height:calc(20 / 12);}/*!sc*/
.dAvRwz[data-size="small"] [data-component=ButtonCounter]{font-size:12px;}/*!sc*/
.dAvRwz[data-size="small"] [data-component="buttonContent"] > :not(:last-child){margin-right:4px;}/*!sc*/
.dAvRwz[data-size="small"][data-component=IconButton]{width:28px;padding:unset;}/*!sc*/
@media screen and (min-width:544px){.dAvRwz[data-size="small"]{display:none;}}/*!sc*/
@media screen and (min-width:768px){.dAvRwz[data-size="small"]{display:block;}}/*!sc*/
@media screen and (min-width:1012px){.dAvRwz[data-size="small"]{display:block;}}/*!sc*/
.dAvRwz[data-size="large"]{padding:0 16px;height:40px;gap:8px;}/*!sc*/
.dAvRwz[data-size="large"] [data-component="buttonContent"] > :not(:last-child){margin-right:8px;}/*!sc*/
.dAvRwz[data-size="large"][data-component=IconButton]{width:40px;padding:unset;}/*!sc*/
.dAvRwz[data-block="block"]{width:100%;}/*!sc*/
.dAvRwz [data-component="leadingVisual"]{grid-area:leadingVisual;color:#656d76;}/*!sc*/
.dAvRwz [data-component="text"]{grid-area:text;line-height:calc(20/14);white-space:nowrap;}/*!sc*/
.dAvRwz [data-component="trailingVisual"]{grid-area:trailingVisual;}/*!sc*/
.dAvRwz [data-component="trailingAction"]{margin-right:-4px;color:#656d76;}/*!sc*/
.dAvRwz [data-component="buttonContent"]{-webkit-flex:1 0 auto;-ms-flex:1 0 auto;flex:1 0 auto;display:grid;grid-template-areas:"leadingVisual text trailingVisual";grid-template-columns:min-content minmax(0,auto) min-content;-webkit-align-items:center;-webkit-box-align:center;-ms-flex-align:center;align-items:center;-webkit-align-content:center;-ms-flex-line-pack:center;align-content:center;}/*!sc*/
.dAvRwz [data-component="buttonContent"] > :not(:last-child){margin-right:8px;}/*!sc*/
.dAvRwz:hover:not([disabled]){background-color:rgba(208,215,222,0.32);}/*!sc*/
.dAvRwz:active:not([disabled]){background-color:rgba(208,215,222,0.48);}/*!sc*/
.dAvRwz[aria-expanded=true]{background-color:rgba(208,215,222,0.24);}/*!sc*/
.dAvRwz[data-component="IconButton"][data-no-visuals]{color:#656d76;}/*!sc*/
.dAvRwz[data-no-visuals]{color:#0969da;}/*!sc*/
.dAvRwz:has([data-component="ButtonCounter"]){color:#24292f;}/*!sc*/
.dAvRwz:disabled[data-no-visuals]{color:#8c959f;}/*!sc*/
.dAvRwz:disabled[data-no-visuals] [data-component=ButtonCounter]{color:inherit;}/*!sc*/
.cpKQnD{border-radius:6px;border:1px solid;border-color:transparent;font-family:inherit;font-weight:500;font-size:14px;cursor:pointer;-webkit-appearance:none;-moz-appearance:none;appearance:none;-webkit-user-select:none;-moz-user-select:none;-ms-user-select:none;user-select:none;-webkit-text-decoration:none;text-decoration:none;text-align:center;display:-webkit-box;display:-webkit-flex;display:-ms-flexbox;display:flex;-webkit-align-items:center;-webkit-box-align:center;-ms-flex-align:center;align-items:center;-webkit-box-pack:justify;-webkit-justify-content:space-between;-ms-flex-pack:justify;justify-content:space-between;height:32px;padding:0 12px;gap:8px;min-width:-webkit-max-content;min-width:-moz-max-content;min-width:max-content;-webkit-transition:80ms cubic-bezier(0.65,0,0.35,1);transition:80ms cubic-bezier(0.65,0,0.35,1);-webkit-transition-property:color,fill,background-color,border-color;transition-property:color,fill,background-color,border-color;color:#24292f;background-color:transparent;box-shadow:none;}/*!sc*/
.cpKQnD:focus:not(:disabled){box-shadow:none;outline:2px solid #0969da;outline-offset:-2px;}/*!sc*/
.cpKQnD:focus:not(:disabled):not(:focus-visible){outline:solid 1px transparent;}/*!sc*/
.cpKQnD:focus-visible:not(:disabled){box-shadow:none;outline:2px solid #0969da;outline-offset:-2px;}/*!sc*/
.cpKQnD[href]{display:-webkit-inline-box;display:-webkit-inline-flex;display:-ms-inline-flexbox;display:inline-flex;}/*!sc*/
.cpKQnD[href]:hover{-webkit-text-decoration:none;text-decoration:none;}/*!sc*/
.cpKQnD:hover{-webkit-transition-duration:80ms;transition-duration:80ms;}/*!sc*/
.cpKQnD:active{-webkit-transition:none;transition:none;}/*!sc*/
.cpKQnD:disabled{cursor:not-allowed;box-shadow:none;color:#8c959f;}/*!sc*/
.cpKQnD:disabled [data-component=ButtonCounter],.cpKQnD:disabled [data-component="leadingVisual"],.cpKQnD:disabled [data-component="trailingAction"]{color:inherit;}/*!sc*/
@media (forced-colors:active){.cpKQnD:focus{outline:solid 1px transparent;}}/*!sc*/
.cpKQnD [data-component=ButtonCounter]{font-size:12px;}/*!sc*/
.cpKQnD[data-component=IconButton]{display:inline-grid;padding:unset;place-content:center;width:32px;min-width:unset;}/*!sc*/
.cpKQnD[data-size="small"]{padding:0 8px;height:28px;gap:4px;font-size:12px;color:#1F2328;margin-left:8px;}/*!sc*/
.cpKQnD[data-size="small"] [data-component="text"]{line-height:calc(20 / 12);}/*!sc*/
.cpKQnD[data-size="small"] [data-component=ButtonCounter]{font-size:12px;}/*!sc*/
.cpKQnD[data-size="small"] [data-component="buttonContent"] > :not(:last-child){margin-right:4px;}/*!sc*/
.cpKQnD[data-size="small"][data-component=IconButton]{width:28px;padding:unset;}/*!sc*/
.cpKQnD[data-size="large"]{padding:0 16px;height:40px;gap:8px;}/*!sc*/
.cpKQnD[data-size="large"] [data-component="buttonContent"] > :not(:last-child){margin-right:8px;}/*!sc*/
.cpKQnD[data-size="large"][data-component=IconButton]{width:40px;padding:unset;}/*!sc*/
.cpKQnD[data-block="block"]{width:100%;}/*!sc*/
.cpKQnD [data-component="leadingVisual"]{grid-area:leadingVisual;color:#656d76;}/*!sc*/
.cpKQnD [data-component="text"]{grid-area:text;line-height:calc(20/14);white-space:nowrap;}/*!sc*/
.cpKQnD [data-component="trailingVisual"]{grid-area:trailingVisual;}/*!sc*/
.cpKQnD [data-component="trailingAction"]{margin-right:-4px;color:#656d76;}/*!sc*/
.cpKQnD [data-component="buttonContent"]{-webkit-flex:1 0 auto;-ms-flex:1 0 auto;flex:1 0 auto;display:grid;grid-template-areas:"leadingVisual text trailingVisual";grid-template-columns:min-content minmax(0,auto) min-content;-webkit-align-items:center;-webkit-box-align:center;-ms-flex-align:center;align-items:center;-webkit-align-content:center;-ms-flex-line-pack:center;align-content:center;}/*!sc*/
.cpKQnD [data-component="buttonContent"] > :not(:last-child){margin-right:8px;}/*!sc*/
.cpKQnD:hover:not([disabled]){background-color:rgba(208,215,222,0.32);}/*!sc*/
.cpKQnD:active:not([disabled]){background-color:rgba(208,215,222,0.48);}/*!sc*/
.cpKQnD[aria-expanded=true]{background-color:rgba(208,215,222,0.24);}/*!sc*/
.cpKQnD[data-component="IconButton"][data-no-visuals]{color:#656d76;}/*!sc*/
.cpKQnD[data-no-visuals]{color:#0969da;}/*!sc*/
.cpKQnD:has([data-component="ButtonCounter"]){color:#24292f;}/*!sc*/
.cpKQnD:disabled[data-no-visuals]{color:#8c959f;}/*!sc*/
.cpKQnD:disabled[data-no-visuals] [data-component=ButtonCounter]{color:inherit;}/*!sc*/
.guoGbh{border-radius:6px;border:1px solid;border-color:var(--button-default-borderColor-rest,rgba(31,35,40,0.15));font-family:inherit;font-weight:500;font-size:14px;cursor:pointer;-webkit-appearance:none;-moz-appearance:none;appearance:none;-webkit-user-select:none;-moz-user-select:none;-ms-user-select:none;user-select:none;-webkit-text-decoration:none;text-decoration:none;text-align:center;display:-webkit-box;display:-webkit-flex;display:-ms-flexbox;display:flex;-webkit-align-items:center;-webkit-box-align:center;-ms-flex-align:center;align-items:center;-webkit-box-pack:justify;-webkit-justify-content:space-between;-ms-flex-pack:justify;justify-content:space-between;height:32px;padding:0 12px;gap:8px;min-width:-webkit-max-content;min-width:-moz-max-content;min-width:max-content;-webkit-transition:80ms cubic-bezier(0.65,0,0.35,1);transition:80ms cubic-bezier(0.65,0,0.35,1);-webkit-transition-property:color,fill,background-color,border-color;transition-property:color,fill,background-color,border-color;color:#24292f;background-color:#f6f8fa;box-shadow:0 1px 0 rgba(31,35,40,0.04),inset 0 1px 0 rgba(255,255,255,0.25);padding-left:8px;padding-right:8px;}/*!sc*/
.guoGbh:focus:not(:disabled){box-shadow:none;outline:2px solid #0969da;outline-offset:-2px;}/*!sc*/
.guoGbh:focus:not(:disabled):not(:focus-visible){outline:solid 1px transparent;}/*!sc*/
.guoGbh:focus-visible:not(:disabled){box-shadow:none;outline:2px solid #0969da;outline-offset:-2px;}/*!sc*/
.guoGbh[href]{display:-webkit-inline-box;display:-webkit-inline-flex;display:-ms-inline-flexbox;display:inline-flex;}/*!sc*/
.guoGbh[href]:hover{-webkit-text-decoration:none;text-decoration:none;}/*!sc*/
.guoGbh:hover{-webkit-transition-duration:80ms;transition-duration:80ms;}/*!sc*/
.guoGbh:active{-webkit-transition:none;transition:none;}/*!sc*/
.guoGbh:disabled{cursor:not-allowed;box-shadow:none;color:#8c959f;}/*!sc*/
.guoGbh:disabled [data-component=ButtonCounter]{color:inherit;}/*!sc*/
@media (forced-colors:active){.guoGbh:focus{outline:solid 1px transparent;}}/*!sc*/
.guoGbh [data-component=ButtonCounter]{font-size:12px;}/*!sc*/
.guoGbh[data-component=IconButton]{display:inline-grid;padding:unset;place-content:center;width:32px;min-width:unset;}/*!sc*/
.guoGbh[data-size="small"]{padding:0 8px;height:28px;gap:4px;font-size:12px;}/*!sc*/
.guoGbh[data-size="small"] [data-component="text"]{line-height:calc(20 / 12);}/*!sc*/
.guoGbh[data-size="small"] [data-component=ButtonCounter]{font-size:12px;}/*!sc*/
.guoGbh[data-size="small"] [data-component="buttonContent"] > :not(:last-child){margin-right:4px;}/*!sc*/
.guoGbh[data-size="small"][data-component=IconButton]{width:28px;padding:unset;}/*!sc*/
.guoGbh[data-size="large"]{padding:0 16px;height:40px;gap:8px;}/*!sc*/
.guoGbh[data-size="large"] [data-component="buttonContent"] > :not(:last-child){margin-right:8px;}/*!sc*/
.guoGbh[data-size="large"][data-component=IconButton]{width:40px;padding:unset;}/*!sc*/
.guoGbh[data-block="block"]{width:100%;}/*!sc*/
.guoGbh [data-component="leadingVisual"]{grid-area:leadingVisual;}/*!sc*/
.guoGbh [data-component="text"]{grid-area:text;line-height:calc(20/14);white-space:nowrap;}/*!sc*/
.guoGbh [data-component="trailingVisual"]{grid-area:trailingVisual;}/*!sc*/
.guoGbh [data-component="trailingAction"]{margin-right:-4px;}/*!sc*/
.guoGbh [data-component="buttonContent"]{-webkit-flex:1 0 auto;-ms-flex:1 0 auto;flex:1 0 auto;display:grid;grid-template-areas:"leadingVisual text trailingVisual";grid-template-columns:min-content minmax(0,auto) min-content;-webkit-align-items:center;-webkit-box-align:center;-ms-flex-align:center;align-items:center;-webkit-align-content:center;-ms-flex-line-pack:center;align-content:center;}/*!sc*/
.guoGbh [data-component="buttonContent"] > :not(:last-child){margin-right:8px;}/*!sc*/
.guoGbh:hover:not([disabled]){background-color:#f3f4f6;border-color:var(--button-default-borderColor-hover,rgba(31,35,40,0.15));}/*!sc*/
.guoGbh:active:not([disabled]){background-color:hsla(220,14%,93%,1);border-color:var(--button-default-borderColor-active,rgba(31,35,40,0.15));}/*!sc*/
.guoGbh[aria-expanded=true]{background-color:hsla(220,14%,93%,1);border-color:var(--button-default-borderColor-active,rgba(31,35,40,0.15));}/*!sc*/
.guoGbh [data-component="leadingVisual"],.guoGbh [data-component="trailingVisual"],.guoGbh [data-component="trailingAction"]{color:var(--button-color,#656d76);}/*!sc*/
.guoGbh linkButtonSx:hover:not([disabled]){-webkit-text-decoration:none;text-decoration:none;}/*!sc*/
.guoGbh linkButtonSx:focus:not([disabled]){-webkit-text-decoration:none;text-decoration:none;}/*!sc*/
.guoGbh linkButtonSx:active:not([disabled]){-webkit-text-decoration:none;text-decoration:none;}/*!sc*/
.iTETFQ{border-radius:6px;border:1px solid;border-color:var(--button-default-borderColor-rest,rgba(31,35,40,0.15));font-family:inherit;font-weight:500;font-size:14px;cursor:pointer;-webkit-appearance:none;-moz-appearance:none;appearance:none;-webkit-user-select:none;-moz-user-select:none;-ms-user-select:none;user-select:none;-webkit-text-decoration:none;text-decoration:none;text-align:center;display:-webkit-box;display:-webkit-flex;display:-ms-flexbox;display:flex;-webkit-align-items:center;-webkit-box-align:center;-ms-flex-align:center;align-items:center;-webkit-box-pack:justify;-webkit-justify-content:space-between;-ms-flex-pack:justify;justify-content:space-between;height:32px;padding:0 12px;gap:8px;min-width:-webkit-max-content;min-width:-moz-max-content;min-width:max-content;-webkit-transition:80ms cubic-bezier(0.65,0,0.35,1);transition:80ms cubic-bezier(0.65,0,0.35,1);-webkit-transition-property:color,fill,background-color,border-color;transition-property:color,fill,background-color,border-color;color:#24292f;background-color:#f6f8fa;box-shadow:0 1px 0 rgba(31,35,40,0.04),inset 0 1px 0 rgba(255,255,255,0.25);}/*!sc*/
.iTETFQ:focus:not(:disabled){box-shadow:none;outline:2px solid #0969da;outline-offset:-2px;}/*!sc*/
.iTETFQ:focus:not(:disabled):not(:focus-visible){outline:solid 1px transparent;}/*!sc*/
.iTETFQ:focus-visible:not(:disabled){box-shadow:none;outline:2px solid #0969da;outline-offset:-2px;}/*!sc*/
.iTETFQ[href]{display:-webkit-inline-box;display:-webkit-inline-flex;display:-ms-inline-flexbox;display:inline-flex;}/*!sc*/
.iTETFQ[href]:hover{-webkit-text-decoration:none;text-decoration:none;}/*!sc*/
.iTETFQ:hover{-webkit-transition-duration:80ms;transition-duration:80ms;}/*!sc*/
.iTETFQ:active{-webkit-transition:none;transition:none;}/*!sc*/
.iTETFQ:disabled{cursor:not-allowed;box-shadow:none;color:#8c959f;}/*!sc*/
.iTETFQ:disabled [data-component=ButtonCounter]{color:inherit;}/*!sc*/
@media (forced-colors:active){.iTETFQ:focus{outline:solid 1px transparent;}}/*!sc*/
.iTETFQ [data-component=ButtonCounter]{font-size:12px;}/*!sc*/
.iTETFQ[data-component=IconButton]{display:inline-grid;padding:unset;place-content:center;width:32px;min-width:unset;}/*!sc*/
.iTETFQ[data-size="small"]{padding:0 8px;height:28px;gap:4px;font-size:12px;}/*!sc*/
.iTETFQ[data-size="small"] [data-component="text"]{line-height:calc(20 / 12);}/*!sc*/
.iTETFQ[data-size="small"] [data-component=ButtonCounter]{font-size:12px;}/*!sc*/
.iTETFQ[data-size="small"] [data-component="buttonContent"] > :not(:last-child){margin-right:4px;}/*!sc*/
.iTETFQ[data-size="small"][data-component=IconButton]{width:28px;padding:unset;}/*!sc*/
.iTETFQ[data-size="large"]{padding:0 16px;height:40px;gap:8px;}/*!sc*/
.iTETFQ[data-size="large"] [data-component="buttonContent"] > :not(:last-child){margin-right:8px;}/*!sc*/
.iTETFQ[data-size="large"][data-component=IconButton]{width:40px;padding:unset;}/*!sc*/
.iTETFQ[data-block="block"]{width:100%;}/*!sc*/
.iTETFQ [data-component="leadingVisual"]{grid-area:leadingVisual;}/*!sc*/
.iTETFQ [data-component="text"]{grid-area:text;line-height:calc(20/14);white-space:nowrap;}/*!sc*/
.iTETFQ [data-component="trailingVisual"]{grid-area:trailingVisual;}/*!sc*/
.iTETFQ [data-component="trailingAction"]{margin-right:-4px;}/*!sc*/
.iTETFQ [data-component="buttonContent"]{-webkit-flex:1 0 auto;-ms-flex:1 0 auto;flex:1 0 auto;display:grid;grid-template-areas:"leadingVisual text trailingVisual";grid-template-columns:min-content minmax(0,auto) min-content;-webkit-align-items:center;-webkit-box-align:center;-ms-flex-align:center;align-items:center;-webkit-align-content:center;-ms-flex-line-pack:center;align-content:center;}/*!sc*/
.iTETFQ [data-component="buttonContent"] > :not(:last-child){margin-right:8px;}/*!sc*/
.iTETFQ:hover:not([disabled]){background-color:#f3f4f6;border-color:var(--button-default-borderColor-hover,rgba(31,35,40,0.15));}/*!sc*/
.iTETFQ:active:not([disabled]){background-color:hsla(220,14%,93%,1);border-color:var(--button-default-borderColor-active,rgba(31,35,40,0.15));}/*!sc*/
.iTETFQ[aria-expanded=true]{background-color:hsla(220,14%,93%,1);border-color:var(--button-default-borderColor-active,rgba(31,35,40,0.15));}/*!sc*/
.iTETFQ [data-component="leadingVisual"],.iTETFQ [data-component="trailingVisual"],.iTETFQ [data-component="trailingAction"]{color:var(--button-color,#656d76);}/*!sc*/
.cGEhqE{border-radius:6px;border:1px solid;border-color:var(--button-default-borderColor-rest,rgba(31,35,40,0.15));font-family:inherit;font-weight:500;font-size:14px;cursor:pointer;-webkit-appearance:none;-moz-appearance:none;appearance:none;-webkit-user-select:none;-moz-user-select:none;-ms-user-select:none;user-select:none;-webkit-text-decoration:none;text-decoration:none;text-align:center;display:-webkit-box;display:-webkit-flex;display:-ms-flexbox;display:flex;-webkit-align-items:center;-webkit-box-align:center;-ms-flex-align:center;align-items:center;-webkit-box-pack:justify;-webkit-justify-content:space-between;-ms-flex-pack:justify;justify-content:space-between;height:32px;padding:0 12px;gap:8px;min-width:-webkit-max-content;min-width:-moz-max-content;min-width:max-content;-webkit-transition:80ms cubic-bezier(0.65,0,0.35,1);transition:80ms cubic-bezier(0.65,0,0.35,1);-webkit-transition-property:color,fill,background-color,border-color;transition-property:color,fill,background-color,border-color;color:#24292f;background-color:#f6f8fa;box-shadow:0 1px 0 rgba(31,35,40,0.04),inset 0 1px 0 rgba(255,255,255,0.25);}/*!sc*/
.cGEhqE:focus:not(:disabled){box-shadow:none;outline:2px solid #0969da;outline-offset:-2px;}/*!sc*/
.cGEhqE:focus:not(:disabled):not(:focus-visible){outline:solid 1px transparent;}/*!sc*/
.cGEhqE:focus-visible:not(:disabled){box-shadow:none;outline:2px solid #0969da;outline-offset:-2px;}/*!sc*/
.cGEhqE[href]{display:-webkit-inline-box;display:-webkit-inline-flex;display:-ms-inline-flexbox;display:inline-flex;}/*!sc*/
.cGEhqE[href]:hover{-webkit-text-decoration:none;text-decoration:none;}/*!sc*/
.cGEhqE:hover{-webkit-transition-duration:80ms;transition-duration:80ms;}/*!sc*/
.cGEhqE:active{-webkit-transition:none;transition:none;}/*!sc*/
.cGEhqE:disabled{cursor:not-allowed;box-shadow:none;color:#8c959f;}/*!sc*/
.cGEhqE:disabled [data-component=ButtonCounter]{color:inherit;}/*!sc*/
@media (forced-colors:active){.cGEhqE:focus{outline:solid 1px transparent;}}/*!sc*/
.cGEhqE [data-component=ButtonCounter]{font-size:12px;}/*!sc*/
.cGEhqE[data-component=IconButton]{display:inline-grid;padding:unset;place-content:center;width:32px;min-width:unset;}/*!sc*/
.cGEhqE[data-size="small"]{padding:0 8px;height:28px;gap:4px;font-size:12px;}/*!sc*/
.cGEhqE[data-size="small"] [data-component="text"]{line-height:calc(20 / 12);}/*!sc*/
.cGEhqE[data-size="small"] [data-component=ButtonCounter]{font-size:12px;}/*!sc*/
.cGEhqE[data-size="small"] [data-component="buttonContent"] > :not(:last-child){margin-right:4px;}/*!sc*/
.cGEhqE[data-size="small"][data-component=IconButton]{width:28px;padding:unset;}/*!sc*/
.cGEhqE[data-size="large"]{padding:0 16px;height:40px;gap:8px;}/*!sc*/
.cGEhqE[data-size="large"] [data-component="buttonContent"] > :not(:last-child){margin-right:8px;}/*!sc*/
.cGEhqE[data-size="large"][data-component=IconButton]{width:40px;padding:unset;}/*!sc*/
.cGEhqE[data-block="block"]{width:100%;}/*!sc*/
.cGEhqE [data-component="leadingVisual"]{grid-area:leadingVisual;}/*!sc*/
.cGEhqE [data-component="text"]{grid-area:text;line-height:calc(20/14);white-space:nowrap;}/*!sc*/
.cGEhqE [data-component="trailingVisual"]{grid-area:trailingVisual;}/*!sc*/
.cGEhqE [data-component="trailingAction"]{margin-right:-4px;}/*!sc*/
.cGEhqE [data-component="buttonContent"]{-webkit-flex:1 0 auto;-ms-flex:1 0 auto;flex:1 0 auto;display:grid;grid-template-areas:"leadingVisual text trailingVisual";grid-template-columns:min-content minmax(0,auto) min-content;-webkit-align-items:center;-webkit-box-align:center;-ms-flex-align:center;align-items:center;-webkit-align-content:center;-ms-flex-line-pack:center;align-content:center;}/*!sc*/
.cGEhqE [data-component="buttonContent"] > :not(:last-child){margin-right:8px;}/*!sc*/
.cGEhqE:hover:not([disabled]){background-color:#f3f4f6;border-color:var(--button-default-borderColor-hover,rgba(31,35,40,0.15));}/*!sc*/
.cGEhqE:active:not([disabled]){background-color:hsla(220,14%,93%,1);border-color:var(--button-default-borderColor-active,rgba(31,35,40,0.15));}/*!sc*/
.cGEhqE[aria-expanded=true]{background-color:hsla(220,14%,93%,1);border-color:var(--button-default-borderColor-active,rgba(31,35,40,0.15));}/*!sc*/
.cGEhqE [data-component="leadingVisual"],.cGEhqE [data-component="trailingVisual"],.cGEhqE [data-component="trailingAction"]{color:var(--button-color,#656d76);}/*!sc*/
.cGEhqE[data-size="small"][data-no-visuals]{border-top-left-radius:0;border-bottom-left-radius:0;}/*!sc*/
.jtzLHK{border-radius:6px;border:1px solid;border-color:var(--button-default-borderColor-rest,rgba(31,35,40,0.15));font-family:inherit;font-weight:500;font-size:14px;cursor:pointer;-webkit-appearance:none;-moz-appearance:none;appearance:none;-webkit-user-select:none;-moz-user-select:none;-ms-user-select:none;user-select:none;-webkit-text-decoration:none;text-decoration:none;text-align:center;display:-webkit-box;display:-webkit-flex;display:-ms-flexbox;display:flex;-webkit-align-items:center;-webkit-box-align:center;-ms-flex-align:center;align-items:center;-webkit-box-pack:justify;-webkit-justify-content:space-between;-ms-flex-pack:justify;justify-content:space-between;height:32px;padding:0 12px;gap:8px;min-width:-webkit-max-content;min-width:-moz-max-content;min-width:max-content;-webkit-transition:80ms cubic-bezier(0.65,0,0.35,1);transition:80ms cubic-bezier(0.65,0,0.35,1);-webkit-transition-property:color,fill,background-color,border-color;transition-property:color,fill,background-color,border-color;color:#24292f;background-color:#f6f8fa;box-shadow:0 1px 0 rgba(31,35,40,0.04),inset 0 1px 0 rgba(255,255,255,0.25);}/*!sc*/
.jtzLHK:focus:not(:disabled){box-shadow:none;outline:2px solid #0969da;outline-offset:-2px;}/*!sc*/
.jtzLHK:focus:not(:disabled):not(:focus-visible){outline:solid 1px transparent;}/*!sc*/
.jtzLHK:focus-visible:not(:disabled){box-shadow:none;outline:2px solid #0969da;outline-offset:-2px;}/*!sc*/
.jtzLHK[href]{display:-webkit-inline-box;display:-webkit-inline-flex;display:-ms-inline-flexbox;display:inline-flex;}/*!sc*/
.jtzLHK[href]:hover{-webkit-text-decoration:none;text-decoration:none;}/*!sc*/
.jtzLHK:hover{-webkit-transition-duration:80ms;transition-duration:80ms;}/*!sc*/
.jtzLHK:active{-webkit-transition:none;transition:none;}/*!sc*/
.jtzLHK:disabled{cursor:not-allowed;box-shadow:none;color:#8c959f;}/*!sc*/
.jtzLHK:disabled [data-component=ButtonCounter]{color:inherit;}/*!sc*/
@media (forced-colors:active){.jtzLHK:focus{outline:solid 1px transparent;}}/*!sc*/
.jtzLHK [data-component=ButtonCounter]{font-size:12px;}/*!sc*/
.jtzLHK[data-component=IconButton]{display:inline-grid;padding:unset;place-content:center;width:32px;min-width:unset;}/*!sc*/
.jtzLHK[data-size="small"]{padding:0 8px;height:28px;gap:4px;font-size:12px;}/*!sc*/
.jtzLHK[data-size="small"] [data-component="text"]{line-height:calc(20 / 12);}/*!sc*/
.jtzLHK[data-size="small"] [data-component=ButtonCounter]{font-size:12px;}/*!sc*/
.jtzLHK[data-size="small"] [data-component="buttonContent"] > :not(:last-child){margin-right:4px;}/*!sc*/
.jtzLHK[data-size="small"][data-component=IconButton]{width:28px;padding:unset;}/*!sc*/
.jtzLHK[data-size="large"]{padding:0 16px;height:40px;gap:8px;}/*!sc*/
.jtzLHK[data-size="large"] [data-component="buttonContent"] > :not(:last-child){margin-right:8px;}/*!sc*/
.jtzLHK[data-size="large"][data-component=IconButton]{width:40px;padding:unset;}/*!sc*/
.jtzLHK[data-block="block"]{width:100%;}/*!sc*/
.jtzLHK [data-component="leadingVisual"]{grid-area:leadingVisual;}/*!sc*/
.jtzLHK [data-component="text"]{grid-area:text;line-height:calc(20/14);white-space:nowrap;}/*!sc*/
.jtzLHK [data-component="trailingVisual"]{grid-area:trailingVisual;}/*!sc*/
.jtzLHK [data-component="trailingAction"]{margin-right:-4px;}/*!sc*/
.jtzLHK [data-component="buttonContent"]{-webkit-flex:1 0 auto;-ms-flex:1 0 auto;flex:1 0 auto;display:grid;grid-template-areas:"leadingVisual text trailingVisual";grid-template-columns:min-content minmax(0,auto) min-content;-webkit-align-items:center;-webkit-box-align:center;-ms-flex-align:center;align-items:center;-webkit-align-content:center;-ms-flex-line-pack:center;align-content:center;}/*!sc*/
.jtzLHK [data-component="buttonContent"] > :not(:last-child){margin-right:8px;}/*!sc*/
.jtzLHK:hover:not([disabled]){background-color:#f3f4f6;border-color:var(--button-default-borderColor-hover,rgba(31,35,40,0.15));}/*!sc*/
.jtzLHK:active:not([disabled]){background-color:hsla(220,14%,93%,1);border-color:var(--button-default-borderColor-active,rgba(31,35,40,0.15));}/*!sc*/
.jtzLHK[aria-expanded=true]{background-color:hsla(220,14%,93%,1);border-color:var(--button-default-borderColor-active,rgba(31,35,40,0.15));}/*!sc*/
.jtzLHK [data-component="leadingVisual"],.jtzLHK [data-component="trailingVisual"],.jtzLHK [data-component="trailingAction"]{color:var(--button-color,#656d76);}/*!sc*/
.jtzLHK[data-size="small"][data-no-visuals]{border-top-right-radius:0;border-bottom-right-radius:0;border-right-width:0;}/*!sc*/
.jtzLHK[data-size="small"][data-no-visuals]:hover:not([disabled]){-webkit-text-decoration:none;text-decoration:none;}/*!sc*/
.jtzLHK[data-size="small"][data-no-visuals]:focus:not([disabled]){-webkit-text-decoration:none;text-decoration:none;}/*!sc*/
.jtzLHK[data-size="small"][data-no-visuals]:active:not([disabled]){-webkit-text-decoration:none;text-decoration:none;}/*!sc*/
.dObcAW{border-radius:6px;border:1px solid;border-color:transparent;font-family:inherit;font-weight:500;font-size:14px;cursor:pointer;-webkit-appearance:none;-moz-appearance:none;appearance:none;-webkit-user-select:none;-moz-user-select:none;-ms-user-select:none;user-select:none;-webkit-text-decoration:none;text-decoration:none;text-align:center;display:-webkit-box;display:-webkit-flex;display:-ms-flexbox;display:flex;-webkit-align-items:center;-webkit-box-align:center;-ms-flex-align:center;align-items:center;-webkit-box-pack:justify;-webkit-justify-content:space-between;-ms-flex-pack:justify;justify-content:space-between;height:32px;padding:0 12px;gap:8px;min-width:-webkit-max-content;min-width:-moz-max-content;min-width:max-content;-webkit-transition:80ms cubic-bezier(0.65,0,0.35,1);transition:80ms cubic-bezier(0.65,0,0.35,1);-webkit-transition-property:color,fill,background-color,border-color;transition-property:color,fill,background-color,border-color;color:#24292f;background-color:transparent;box-shadow:none;}/*!sc*/
.dObcAW:focus:not(:disabled){box-shadow:none;outline:2px solid #0969da;outline-offset:-2px;}/*!sc*/
.dObcAW:focus:not(:disabled):not(:focus-visible){outline:solid 1px transparent;}/*!sc*/
.dObcAW:focus-visible:not(:disabled){box-shadow:none;outline:2px solid #0969da;outline-offset:-2px;}/*!sc*/
.dObcAW[href]{display:-webkit-inline-box;display:-webkit-inline-flex;display:-ms-inline-flexbox;display:inline-flex;}/*!sc*/
.dObcAW[href]:hover{-webkit-text-decoration:none;text-decoration:none;}/*!sc*/
.dObcAW:hover{-webkit-transition-duration:80ms;transition-duration:80ms;}/*!sc*/
.dObcAW:active{-webkit-transition:none;transition:none;}/*!sc*/
.dObcAW:disabled{cursor:not-allowed;box-shadow:none;color:#8c959f;}/*!sc*/
.dObcAW:disabled [data-component=ButtonCounter],.dObcAW:disabled [data-component="leadingVisual"],.dObcAW:disabled [data-component="trailingAction"]{color:inherit;}/*!sc*/
@media (forced-colors:active){.dObcAW:focus{outline:solid 1px transparent;}}/*!sc*/
.dObcAW [data-component=ButtonCounter]{font-size:12px;}/*!sc*/
.dObcAW[data-component=IconButton]{display:inline-grid;padding:unset;place-content:center;width:32px;min-width:unset;}/*!sc*/
.dObcAW[data-size="small"]{padding:0 8px;height:28px;gap:4px;font-size:12px;}/*!sc*/
.dObcAW[data-size="small"] [data-component="text"]{line-height:calc(20 / 12);}/*!sc*/
.dObcAW[data-size="small"] [data-component=ButtonCounter]{font-size:12px;}/*!sc*/
.dObcAW[data-size="small"] [data-component="buttonContent"] > :not(:last-child){margin-right:4px;}/*!sc*/
.dObcAW[data-size="small"][data-component=IconButton]{width:28px;padding:unset;}/*!sc*/
.dObcAW[data-size="large"]{padding:0 16px;height:40px;gap:8px;}/*!sc*/
.dObcAW[data-size="large"] [data-component="buttonContent"] > :not(:last-child){margin-right:8px;}/*!sc*/
.dObcAW[data-size="large"][data-component=IconButton]{width:40px;padding:unset;}/*!sc*/
.dObcAW[data-block="block"]{width:100%;}/*!sc*/
.dObcAW [data-component="leadingVisual"]{grid-area:leadingVisual;color:#656d76;}/*!sc*/
.dObcAW [data-component="text"]{grid-area:text;line-height:calc(20/14);white-space:nowrap;}/*!sc*/
.dObcAW [data-component="trailingVisual"]{grid-area:trailingVisual;}/*!sc*/
.dObcAW [data-component="trailingAction"]{margin-right:-4px;color:#656d76;}/*!sc*/
.dObcAW [data-component="buttonContent"]{-webkit-flex:1 0 auto;-ms-flex:1 0 auto;flex:1 0 auto;display:grid;grid-template-areas:"leadingVisual text trailingVisual";grid-template-columns:min-content minmax(0,auto) min-content;-webkit-align-items:center;-webkit-box-align:center;-ms-flex-align:center;align-items:center;-webkit-align-content:center;-ms-flex-line-pack:center;align-content:center;}/*!sc*/
.dObcAW [data-component="buttonContent"] > :not(:last-child){margin-right:8px;}/*!sc*/
.dObcAW:hover:not([disabled]){background-color:rgba(208,215,222,0.32);}/*!sc*/
.dObcAW:active:not([disabled]){background-color:rgba(208,215,222,0.48);}/*!sc*/
.dObcAW[aria-expanded=true]{background-color:rgba(208,215,222,0.24);}/*!sc*/
.dObcAW[data-component="IconButton"][data-no-visuals]{color:#656d76;}/*!sc*/
.dObcAW[data-no-visuals]{color:#0969da;}/*!sc*/
.dObcAW:has([data-component="ButtonCounter"]){color:#24292f;}/*!sc*/
.dObcAW:disabled[data-no-visuals]{color:#8c959f;}/*!sc*/
.dObcAW:disabled[data-no-visuals] [data-component=ButtonCounter]{color:inherit;}/*!sc*/
.dObcAW[data-size="small"][data-no-visuals]{color:#656d76;}/*!sc*/
data-styled.g28[id="types__StyledButton-sc-ws60qy-0"]{content:"CtaSm,edBXBM,woUrt,jikjkp,jGImdP,hgfMvt,iwEpzF,bNMwOz,bLPynQ,fNmgkb,dAvRwz,cpKQnD,guoGbh,iTETFQ,cGEhqE,jtzLHK,dObcAW,"}/*!sc*/
.hFFfJn{position:relative;display:inline-block;}/*!sc*/
.hFFfJn::before{position:absolute;z-index:1000001;display:none;width:0px;height:0px;color:#24292f;pointer-events:none;content:'';border:6px solid transparent;opacity:0;}/*!sc*/
.hFFfJn::after{position:absolute;z-index:1000000;display:none;padding:0.5em 0.75em;font:normal normal 11px/1.5 -apple-system,BlinkMacSystemFont,"Segoe UI","Noto Sans",Helvetica,Arial,sans-serif,"Apple Color Emoji","Segoe UI Emoji";-webkit-font-smoothing:subpixel-antialiased;color:#ffffff;text-align:center;-webkit-text-decoration:none;text-decoration:none;text-shadow:none;text-transform:none;-webkit-letter-spacing:normal;-moz-letter-spacing:normal;-ms-letter-spacing:normal;letter-spacing:normal;word-wrap:break-word;white-space:pre;pointer-events:none;content:attr(aria-label);background:#24292f;border-radius:3px;opacity:0;}/*!sc*/
@-webkit-keyframes tooltip-appear{from{opacity:0;}to{opacity:1;}}/*!sc*/
@keyframes tooltip-appear{from{opacity:0;}to{opacity:1;}}/*!sc*/
.hFFfJn:hover::before,.hFFfJn:active::before,.hFFfJn:focus::before,.hFFfJn:focus-within::before,.hFFfJn:hover::after,.hFFfJn:active::after,.hFFfJn:focus::after,.hFFfJn:focus-within::after{display:inline-block;-webkit-text-decoration:none;text-decoration:none;-webkit-animation-name:tooltip-appear;animation-name:tooltip-appear;-webkit-animation-duration:0.1s;animation-duration:0.1s;-webkit-animation-fill-mode:forwards;animation-fill-mode:forwards;-webkit-animation-timing-function:ease-in;animation-timing-function:ease-in;-webkit-animation-delay:0.4s;animation-delay:0.4s;}/*!sc*/
.hFFfJn.tooltipped-no-delay:hover::before,.hFFfJn.tooltipped-no-delay:active::before,.hFFfJn.tooltipped-no-delay:focus::before,.hFFfJn.tooltipped-no-delay:focus-within::before,.hFFfJn.tooltipped-no-delay:hover::after,.hFFfJn.tooltipped-no-delay:active::after,.hFFfJn.tooltipped-no-delay:focus::after,.hFFfJn.tooltipped-no-delay:focus-within::after{-webkit-animation-delay:0s;animation-delay:0s;}/*!sc*/
.hFFfJn.tooltipped-multiline:hover::after,.hFFfJn.tooltipped-multiline:active::after,.hFFfJn.tooltipped-multiline:focus::after,.hFFfJn.tooltipped-multiline:focus-within::after{display:table-cell;}/*!sc*/
.hFFfJn.tooltipped-s::after,.hFFfJn.tooltipped-se::after,.hFFfJn.tooltipped-sw::after{top:100%;right:50%;margin-top:6px;}/*!sc*/
.hFFfJn.tooltipped-s::before,.hFFfJn.tooltipped-se::before,.hFFfJn.tooltipped-sw::before{top:auto;right:50%;bottom:-7px;margin-right:-6px;border-bottom-color:#24292f;}/*!sc*/
.hFFfJn.tooltipped-se::after{right:auto;left:50%;margin-left:-16px;}/*!sc*/
.hFFfJn.tooltipped-sw::after{margin-right:-16px;}/*!sc*/
.hFFfJn.tooltipped-n::after,.hFFfJn.tooltipped-ne::after,.hFFfJn.tooltipped-nw::after{right:50%;bottom:100%;margin-bottom:6px;}/*!sc*/
.hFFfJn.tooltipped-n::before,.hFFfJn.tooltipped-ne::before,.hFFfJn.tooltipped-nw::before{top:-7px;right:50%;bottom:auto;margin-right:-6px;border-top-color:#24292f;}/*!sc*/
.hFFfJn.tooltipped-ne::after{right:auto;left:50%;margin-left:-16px;}/*!sc*/
.hFFfJn.tooltipped-nw::after{margin-right:-16px;}/*!sc*/
.hFFfJn.tooltipped-s::after,.hFFfJn.tooltipped-n::after{-webkit-transform:translateX(50%);-ms-transform:translateX(50%);transform:translateX(50%);}/*!sc*/
.hFFfJn.tooltipped-w::after{right:100%;bottom:50%;margin-right:6px;-webkit-transform:translateY(50%);-ms-transform:translateY(50%);transform:translateY(50%);}/*!sc*/
.hFFfJn.tooltipped-w::before{top:50%;bottom:50%;left:-7px;margin-top:-6px;border-left-color:#24292f;}/*!sc*/
.hFFfJn.tooltipped-e::after{bottom:50%;left:100%;margin-left:6px;-webkit-transform:translateY(50%);-ms-transform:translateY(50%);transform:translateY(50%);}/*!sc*/
.hFFfJn.tooltipped-e::before{top:50%;right:-7px;bottom:50%;margin-top:-6px;border-right-color:#24292f;}/*!sc*/
.hFFfJn.tooltipped-multiline::after{width:-webkit-max-content;width:-moz-max-content;width:max-content;max-width:250px;word-wrap:break-word;white-space:pre-line;border-collapse:separate;}/*!sc*/
.hFFfJn.tooltipped-multiline.tooltipped-s::after,.hFFfJn.tooltipped-multiline.tooltipped-n::after{right:auto;left:50%;-webkit-transform:translateX(-50%);-ms-transform:translateX(-50%);transform:translateX(-50%);}/*!sc*/
.hFFfJn.tooltipped-multiline.tooltipped-w::after,.hFFfJn.tooltipped-multiline.tooltipped-e::after{right:100%;}/*!sc*/
.hFFfJn.tooltipped-align-right-2::after{right:0;margin-right:0;}/*!sc*/
.hFFfJn.tooltipped-align-right-2::before{right:15px;}/*!sc*/
.hFFfJn.tooltipped-align-left-2::after{left:0;margin-left:0;}/*!sc*/
.hFFfJn.tooltipped-align-left-2::before{left:10px;}/*!sc*/
data-styled.g29[id="Tooltip__TooltipBase-sc-uha8qm-0"]{content:"hFFfJn,"}/*!sc*/
.cDLBls{border:0;font-size:inherit;font-family:inherit;background-color:transparent;-webkit-appearance:none;color:inherit;width:100%;}/*!sc*/
.cDLBls:focus{outline:0;}/*!sc*/
data-styled.g30[id="UnstyledTextInput-sc-14ypya-0"]{content:"cDLBls,"}/*!sc*/
.bOMzPg{min-width:0;}/*!sc*/
.ivLLle{padding-left:4px;padding-right:4px;font-weight:400;color:#656d76;font-size:16px;}/*!sc*/
.ghRVGj{color:#1F2328;}/*!sc*/
.dZAxGI{padding-left:4px;padding-right:4px;font-weight:400;color:#656d76;font-size:14px;}/*!sc*/
data-styled.g34[id="Text-sc-17v1xeu-0"]{content:"bOMzPg,ivLLle,ghRVGj,gPDEWA,dZAxGI,"}/*!sc*/
.cjbBGq{display:-webkit-inline-box;display:-webkit-inline-flex;display:-ms-inline-flexbox;display:inline-flex;vertical-align:middle;isolation:isolate;}/*!sc*/
.cjbBGq.cjbBGq > *{margin-inline-end:-1px;position:relative;border-radius:0;}/*!sc*/
.cjbBGq.cjbBGq > *:first-child{border-top-left-radius:6px;border-bottom-left-radius:6px;}/*!sc*/
.cjbBGq.cjbBGq > *:last-child{border-top-right-radius:6px;border-bottom-right-radius:6px;}/*!sc*/
.cjbBGq.cjbBGq > *:focus,.cjbBGq.cjbBGq > *:active,.cjbBGq.cjbBGq > *:hover{z-index:1;}/*!sc*/
data-styled.g67[id="ButtonGroup-sc-1gxhls1-0"]{content:"cjbBGq,"}/*!sc*/
.bDmUQT{--segmented-control-button-inner-padding:12px;--segmented-control-button-bg-inset:4px;--segmented-control-outer-radius:6px;background-color:transparent;border-color:transparent;border-radius:var(--segmented-control-outer-radius);border-width:0;color:currentColor;cursor:pointer;font-family:inherit;font-size:inherit;font-weight:600;padding:0;height:100%;width:100%;}/*!sc*/
.bDmUQT .segmentedControl-content{-webkit-align-items:center;-webkit-box-align:center;-ms-flex-align:center;align-items:center;background-color:#ffffff;border-color:#8c959f;border-style:solid;border-width:1px;border-radius:var(--segmented-control-outer-radius);display:-webkit-box;display:-webkit-flex;display:-ms-flexbox;display:flex;height:100%;-webkit-box-pack:center;-webkit-justify-content:center;-ms-flex-pack:center;justify-content:center;padding-left:var(--segmented-control-button-inner-padding);padding-right:var(--segmented-control-button-inner-padding);}/*!sc*/
.bDmUQT svg{fill:#656d76;}/*!sc*/
.bDmUQT:focus:focus-visible:not(:last-child):after{width:0;}/*!sc*/
.bDmUQT .segmentedControl-text:after{content:"Preview";display:block;font-weight:600;height:0;overflow:hidden;pointer-events:none;-webkit-user-select:none;-moz-user-select:none;-ms-user-select:none;user-select:none;visibility:hidden;}/*!sc*/
@media (pointer:coarse){.bDmUQT:before{content:"";position:absolute;left:0;right:0;-webkit-transform:translateY(-50%);-ms-transform:translateY(-50%);transform:translateY(-50%);top:50%;min-height:44px;}}/*!sc*/
.fzMylw{--segmented-control-button-inner-padding:12px;--segmented-control-button-bg-inset:4px;--segmented-control-outer-radius:6px;background-color:transparent;border-color:transparent;border-radius:var(--segmented-control-outer-radius);border-width:0;color:currentColor;cursor:pointer;font-family:inherit;font-size:inherit;font-weight:400;padding:var(--segmented-control-button-bg-inset);height:100%;width:100%;}/*!sc*/
.fzMylw .segmentedControl-content{-webkit-align-items:center;-webkit-box-align:center;-ms-flex-align:center;align-items:center;background-color:transparent;border-color:transparent;border-style:solid;border-width:1px;border-radius:calc(var(--segmented-control-outer-radius) - var(--segmented-control-button-bg-inset) / 2);display:-webkit-box;display:-webkit-flex;display:-ms-flexbox;display:flex;height:100%;-webkit-box-pack:center;-webkit-justify-content:center;-ms-flex-pack:center;justify-content:center;padding-left:calc(var(--segmented-control-button-inner-padding) - var(--segmented-control-button-bg-inset));padding-right:calc(var(--segmented-control-button-inner-padding) - var(--segmented-control-button-bg-inset));}/*!sc*/
.fzMylw svg{fill:#656d76;}/*!sc*/
.fzMylw:hover .segmentedControl-content{background-color:rgba(175,184,193,0.2);}/*!sc*/
.fzMylw:active .segmentedControl-content{background-color:rgba(175,184,193,0.4);}/*!sc*/
.fzMylw:focus:focus-visible:not(:last-child):after{width:0;}/*!sc*/
.fzMylw .segmentedControl-text:after{content:"Code";display:block;font-weight:600;height:0;overflow:hidden;pointer-events:none;-webkit-user-select:none;-moz-user-select:none;-ms-user-select:none;user-select:none;visibility:hidden;}/*!sc*/
@media (pointer:coarse){.fzMylw:before{content:"";position:absolute;left:0;right:0;-webkit-transform:translateY(-50%);-ms-transform:translateY(-50%);transform:translateY(-50%);top:50%;min-height:44px;}}/*!sc*/
.hBvGcq{--segmented-control-button-inner-padding:12px;--segmented-control-button-bg-inset:4px;--segmented-control-outer-radius:6px;background-color:transparent;border-color:transparent;border-radius:var(--segmented-control-outer-radius);border-width:0;color:currentColor;cursor:pointer;font-family:inherit;font-size:inherit;font-weight:400;padding:var(--segmented-control-button-bg-inset);height:100%;width:100%;}/*!sc*/
.hBvGcq .segmentedControl-content{-webkit-align-items:center;-webkit-box-align:center;-ms-flex-align:center;align-items:center;background-color:transparent;border-color:transparent;border-style:solid;border-width:1px;border-radius:calc(var(--segmented-control-outer-radius) - var(--segmented-control-button-bg-inset) / 2);display:-webkit-box;display:-webkit-flex;display:-ms-flexbox;display:flex;height:100%;-webkit-box-pack:center;-webkit-justify-content:center;-ms-flex-pack:center;justify-content:center;padding-left:calc(var(--segmented-control-button-inner-padding) - var(--segmented-control-button-bg-inset));padding-right:calc(var(--segmented-control-button-inner-padding) - var(--segmented-control-button-bg-inset));}/*!sc*/
.hBvGcq svg{fill:#656d76;}/*!sc*/
.hBvGcq:hover .segmentedControl-content{background-color:rgba(175,184,193,0.2);}/*!sc*/
.hBvGcq:active .segmentedControl-content{background-color:rgba(175,184,193,0.4);}/*!sc*/
.hBvGcq:focus:focus-visible:not(:last-child):after{width:0;}/*!sc*/
.hBvGcq .segmentedControl-text:after{content:"Blame";display:block;font-weight:600;height:0;overflow:hidden;pointer-events:none;-webkit-user-select:none;-moz-user-select:none;-ms-user-select:none;user-select:none;visibility:hidden;}/*!sc*/
@media (pointer:coarse){.hBvGcq:before{content:"";position:absolute;left:0;right:0;-webkit-transform:translateY(-50%);-ms-transform:translateY(-50%);transform:translateY(-50%);top:50%;min-height:44px;}}/*!sc*/
data-styled.g90[id="SegmentedControlButton__SegmentedControlButtonStyled-sc-8lkgxl-0"]{content:"bDmUQT,fzMylw,hBvGcq,"}/*!sc*/
.iYVwMz{background-color:#eaeef2;border-radius:6px;display:-webkit-inline-box;display:-webkit-inline-flex;display:-ms-inline-flexbox;display:inline-flex;font-size:14px;height:28px;margin:0;padding:0;}/*!sc*/
data-styled.g92[id="SegmentedControl__SegmentedControlList-sc-1rzig82-0"]{content:"iYVwMz,"}/*!sc*/
body[data-page-layout-dragging="true"]{cursor:col-resize;}/*!sc*/
body[data-page-layout-dragging="true"] *{-webkit-user-select:none;-moz-user-select:none;-ms-user-select:none;user-select:none;}/*!sc*/
data-styled.g96[id="sc-global-gbKrvU1"]{content:"sc-global-gbKrvU1,"}/*!sc*/
.gtekST{list-style:none;padding:0;margin:0;}/*!sc*/
.gtekST .PRIVATE_TreeView-item{outline:none;}/*!sc*/
.gtekST .PRIVATE_TreeView-item:focus-visible > div,.gtekST .PRIVATE_TreeView-item.focus-visible > div{box-shadow:inset 0 0 0 2px #0969da;}/*!sc*/
@media (forced-colors:active){.gtekST .PRIVATE_TreeView-item:focus-visible > div,.gtekST .PRIVATE_TreeView-item.focus-visible > div{outline:2px solid HighlightText;outline-offset:-2;}}/*!sc*/
.gtekST .PRIVATE_TreeView-item-container{--level:1;--toggle-width:1rem;position:relative;display:grid;grid-template-columns:calc(calc(var(--level) - 1) * (var(--toggle-width) / 2)) var(--toggle-width) 1fr;grid-template-areas:'spacer toggle content';width:100%;min-height:2rem;font-size:14px;color:#1F2328;border-radius:6px;cursor:pointer;}/*!sc*/
.gtekST .PRIVATE_TreeView-item-container:hover{background-color:rgba(208,215,222,0.32);}/*!sc*/
@media (forced-colors:active){.gtekST .PRIVATE_TreeView-item-container:hover{outline:2px solid transparent;outline-offset:-2px;}}/*!sc*/
@media (pointer:coarse){.gtekST .PRIVATE_TreeView-item-container{--toggle-width:1.5rem;min-height:2.75rem;}}/*!sc*/
.gtekST .PRIVATE_TreeView-item-container:has(.PRIVATE_TreeView-item-skeleton):hover{background-color:transparent;cursor:default;}/*!sc*/
@media (forced-colors:active){.gtekST .PRIVATE_TreeView-item-container:has(.PRIVATE_TreeView-item-skeleton):hover{outline:none;}}/*!sc*/
.gtekST[data-omit-spacer='true'] .PRIVATE_TreeView-item-container{grid-template-columns:0 0 1fr;}/*!sc*/
.gtekST .PRIVATE_TreeView-item[aria-current='true'] > .PRIVATE_TreeView-item-container{background-color:rgba(208,215,222,0.24);}/*!sc*/
.gtekST .PRIVATE_TreeView-item[aria-current='true'] > .PRIVATE_TreeView-item-container::after{content:'';position:absolute;top:calc(50% - 0.75rem);left:-8px;width:0.25rem;height:1.5rem;background-color:#0969da;border-radius:6px;}/*!sc*/
@media (forced-colors:active){.gtekST .PRIVATE_TreeView-item[aria-current='true'] > .PRIVATE_TreeView-item-container::after{background-color:HighlightText;}}/*!sc*/
.gtekST .PRIVATE_TreeView-item-toggle{grid-area:toggle;display:-webkit-box;display:-webkit-flex;display:-ms-flexbox;display:flex;-webkit-align-items:center;-webkit-box-align:center;-ms-flex-align:center;align-items:center;-webkit-box-pack:center;-webkit-justify-content:center;-ms-flex-pack:center;justify-content:center;height:100%;color:#656d76;}/*!sc*/
.gtekST .PRIVATE_TreeView-item-toggle--hover:hover{background-color:rgba(208,215,222,0.32);}/*!sc*/
.gtekST .PRIVATE_TreeView-item-toggle--end{border-top-left-radius:6px;border-bottom-left-radius:6px;}/*!sc*/
.gtekST .PRIVATE_TreeView-item-content{grid-area:content;display:-webkit-box;display:-webkit-flex;display:-ms-flexbox;display:flex;-webkit-align-items:center;-webkit-box-align:center;-ms-flex-align:center;align-items:center;height:100%;padding:0 8px;gap:8px;}/*!sc*/
.gtekST .PRIVATE_TreeView-item-content-text{-webkit-flex:1 1 auto;-ms-flex:1 1 auto;flex:1 1 auto;width:0;overflow:hidden;white-space:nowrap;text-overflow:ellipsis;}/*!sc*/
.gtekST .PRIVATE_TreeView-item-visual{display:-webkit-box;display:-webkit-flex;display:-ms-flexbox;display:flex;color:#656d76;}/*!sc*/
.gtekST .PRIVATE_TreeView-item-level-line{width:100%;height:100%;border-right:1px solid;border-color:rgba(31,35,40,0.15);}/*!sc*/
@media (hover:hover){.gtekST .PRIVATE_TreeView-item-level-line{border-color:transparent;}.gtekST:hover .PRIVATE_TreeView-item-level-line,.gtekST:focus-within .PRIVATE_TreeView-item-level-line{border-color:rgba(31,35,40,0.15);}}/*!sc*/
.gtekST .PRIVATE_TreeView-directory-icon{display:grid;color:#54aeff;}/*!sc*/
.gtekST .PRIVATE_VisuallyHidden{position:absolute;width:1px;height:1px;padding:0;margin:-1px;overflow:hidden;-webkit-clip:rect(0,0,0,0);clip:rect(0,0,0,0);white-space:nowrap;border-width:0;}/*!sc*/
data-styled.g103[id="TreeView__UlBox-sc-4ex6b6-0"]{content:"gtekST,"}/*!sc*/
</style><meta data-hydrostats="publish"/> <!-- --> <!-- --> <!-- --> <button hidden="" data-testid="header-permalink-button" data-hotkey-scope="read-only-cursor-text-area"></button><button hidden=""></button><div class="Box-sc-g0xbh4-0"><div style="--sticky-pane-height:100vh" class="Box-sc-g0xbh4-0 fSWWem"><div class="Box-sc-g0xbh4-0 kPPmzM"><div class="Box-sc-g0xbh4-0 cIAPDV"><div tabindex="0" class="Box-sc-g0xbh4-0 gvCnwW"><div class="Box-sc-g0xbh4-0 ioxSsX"><div class="Box-sc-g0xbh4-0 eUyHuk"></div><div class="Box-sc-g0xbh4-0 hAeDYA"><div role="separator" class="Box-sc-g0xbh4-0 ekKrwo"></div></div><div style="--pane-width:320px" class="Box-sc-g0xbh4-0 gNdDUH"><span class="_VisuallyHidden__VisuallyHidden-sc-11jhm7a-0 rTZSs"><form><label for=":Rdjal5:-width-input">Pane width</label><p id=":Rdjal5:-input-hint">Use a value between <!-- -->0<!-- -->% and <!-- -->0<!-- -->%</p><input id=":Rdjal5:-width-input" aria-describedby=":Rdjal5:-input-hint" name="pane-width" inputMode="numeric" pattern="[0-9]*" autoCorrect="off" autoComplete="off" type="text" value=""/><button type="submit">Change width</button></form></span><div class="Box-sc-g0xbh4-0 react-tree-pane-contents"><div id="repos-file-tree" class="Box-sc-g0xbh4-0 jywUSN"><div class="Box-sc-g0xbh4-0 hBSSUC"><div class="Box-sc-g0xbh4-0 iPurHz"><h2 class="Heading__StyledHeading-sc-1c1dgg0-0 fNPcqd"><button style="--button-color:fg.muted" type="button" aria-label="Expand side panel" data-testid="expand-file-tree-button-mobile" class="types__StyledButton-sc-ws60qy-0 CtaSm"><span data-component="buttonContent" class="Box-sc-g0xbh4-0 kkrdEu"><span data-component="leadingVisual" class="Box-sc-g0xbh4-0 trpoQ"><svg aria-hidden="true" focusable="false" role="img" class="octicon octicon-arrow-left" viewBox="0 0 16 16" width="16" height="16" fill="currentColor" style="display:inline-block;user-select:none;vertical-align:text-bottom;overflow:visible"><path d="M7.78 12.53a.75.75 0 0 1-1.06 0L2.47 8.28a.75.75 0 0 1 0-1.06l4.25-4.25a.751.751 0 0 1 1.042.018.751.751 0 0 1 .018 1.042L4.81 7h7.44a.75.75 0 0 1 0 1.5H4.81l2.97 2.97a.75.75 0 0 1 0 1.06Z"></path></svg></span><span data-component="text">Files</span></span></button><button data-component="IconButton" type="button" data-testid="collapse-file-tree-button" aria-label="Side panel" aria-expanded="true" aria-controls="repos-file-tree" class="types__StyledButton-sc-ws60qy-0 edBXBM" data-no-visuals="true"><svg aria-hidden="true" focusable="false" role="img" class="octicon octicon-sidebar-expand" viewBox="0 0 16 16" width="16" height="16" fill="currentColor" style="display:inline-block;user-select:none;vertical-align:text-bottom;overflow:visible"><path d="m4.177 7.823 2.396-2.396A.25.25 0 0 1 7 5.604v4.792a.25.25 0 0 1-.427.177L4.177 8.177a.25.25 0 0 1 0-.354Z"></path><path d="M0 1.75C0 .784.784 0 1.75 0h12.5C15.216 0 16 .784 16 1.75v12.5A1.75 1.75 0 0 1 14.25 16H1.75A1.75 1.75 0 0 1 0 14.25Zm1.75-.25a.25.25 0 0 0-.25.25v12.5c0 .138.112.25.25.25H9.5v-13Zm12.5 13a.25.25 0 0 0 .25-.25V1.75a.25.25 0 0 0-.25-.25H11v13Z"></path></svg></button><button hidden="" data-testid="" data-hotkey-scope="read-only-cursor-text-area"></button></h2><h2 class="Heading__StyledHeading-sc-1c1dgg0-0 imcwCi">Files</h2></div><div class="Box-sc-g0xbh4-0 hVHHYa"><div class="Box-sc-g0xbh4-0 idZfsJ"><button type="button" id="branch-picker-repos-header-ref-selector" aria-haspopup="true" tabindex="0" aria-label="main branch" data-testid="anchor-button" class="types__StyledButton-sc-ws60qy-0 woUrt react-repos-tree-pane-ref-selector width-full ref-selector-class"><span data-component="buttonContent" class="Box-sc-g0xbh4-0 kkrdEu"><span data-component="text"><div class="Box-sc-g0xbh4-0 bKgizp"><div class="Box-sc-g0xbh4-0 kYlvBX"><svg aria-hidden="true" focusable="false" role="img" class="octicon octicon-git-branch" viewBox="0 0 16 16" width="16" height="16" fill="currentColor" style="display:inline-block;user-select:none;vertical-align:text-bottom;overflow:visible"><path d="M9.5 3.25a2.25 2.25 0 1 1 3 2.122V6A2.5 2.5 0 0 1 10 8.5H6a1 1 0 0 0-1 1v1.128a2.251 2.251 0 1 1-1.5 0V5.372a2.25 2.25 0 1 1 1.5 0v1.836A2.493 2.493 0 0 1 6 7h4a1 1 0 0 0 1-1v-.628A2.25 2.25 0 0 1 9.5 3.25Zm-6 0a.75.75 0 1 0 1.5 0 .75.75 0 0 0-1.5 0Zm8.25-.75a.75.75 0 1 0 0 1.5.75.75 0 0 0 0-1.5ZM4.25 12a.75.75 0 1 0 0 1.5.75.75 0 0 0 0-1.5Z"></path></svg></div><div class="Box-sc-g0xbh4-0 caeYDk"><span class="Text-sc-17v1xeu-0 bOMzPg"> <!-- -->main</span></div></div></span><span data-component="trailingVisual" class="Box-sc-g0xbh4-0 trpoQ"><svg aria-hidden="true" focusable="false" role="img" class="octicon octicon-triangle-down" viewBox="0 0 16 16" width="16" height="16" fill="currentColor" style="display:inline-block;user-select:none;vertical-align:text-bottom;overflow:visible"><path d="m4.427 7.427 3.396 3.396a.25.25 0 0 0 .354 0l3.396-3.396A.25.25 0 0 0 11.396 7H4.604a.25.25 0 0 0-.177.427Z"></path></svg></span></span></button><button hidden="" data-hotkey-scope="read-only-cursor-text-area"></button></div><div class="Box-sc-g0xbh4-0 jahcnb"><span role="tooltip" aria-label="Add file" class="Tooltip__TooltipBase-sc-uha8qm-0 hFFfJn tooltipped-s"><a sx="[object Object]" data-component="IconButton" type="button" aria-label="Add file" data-no-visuals="true" class="types__StyledButton-sc-ws60qy-0 jikjkp" href="/mrdbourke/tensorflow-deep-learning/new/main/video_notebooks"><svg aria-hidden="true" focusable="false" role="img" class="octicon octicon-plus" viewBox="0 0 16 16" width="16" height="16" fill="currentColor" style="display:inline-block;user-select:none;vertical-align:text-bottom;overflow:visible"><path d="M7.75 2a.75.75 0 0 1 .75.75V7h4.25a.75.75 0 0 1 0 1.5H8.5v4.25a.75.75 0 0 1-1.5 0V8.5H2.75a.75.75 0 0 1 0-1.5H7V2.75A.75.75 0 0 1 7.75 2Z"></path></svg></a></span><button data-component="IconButton" type="button" aria-label="Search this repository" data-no-visuals="true" class="types__StyledButton-sc-ws60qy-0 jGImdP"><svg aria-hidden="true" focusable="false" role="img" class="octicon octicon-search" viewBox="0 0 16 16" width="16" height="16" fill="currentColor" style="display:inline-block;user-select:none;vertical-align:text-bottom;overflow:visible"><path d="M10.68 11.74a6 6 0 0 1-7.922-8.982 6 6 0 0 1 8.982 7.922l3.04 3.04a.749.749 0 0 1-.326 1.275.749.749 0 0 1-.734-.215ZM11.5 7a4.499 4.499 0 1 0-8.997 0A4.499 4.499 0 0 0 11.5 7Z"></path></svg></button><button hidden="" data-testid="" data-hotkey-scope="read-only-cursor-text-area"></button></div></div></div><div class="Box-sc-g0xbh4-0 ccToMy"><button hidden="" data-testid="" data-hotkey-scope="read-only-cursor-text-area"></button><button hidden=""></button><span class="TextInputWrapper__TextInputBaseWrapper-sc-1mqhpbi-0 TextInputWrapper-sc-1mqhpbi-1 cgNHBf hDoBEw TextInput-wrapper" aria-busy="false"><span class="TextInput-icon"><svg aria-hidden="true" focusable="false" role="img" class="octicon octicon-search" viewBox="0 0 16 16" width="16" height="16" fill="currentColor" style="display:inline-block;user-select:none;vertical-align:text-bottom;overflow:visible"><path d="M10.68 11.74a6 6 0 0 1-7.922-8.982 6 6 0 0 1 8.982 7.922l3.04 3.04a.749.749 0 0 1-.326 1.275.749.749 0 0 1-.734-.215ZM11.5 7a4.499 4.499 0 1 0-8.997 0A4.499 4.499 0 0 0 11.5 7Z"></path></svg></span><input type="text" aria-label="Go to file" role="combobox" aria-controls="file-results-list" aria-expanded="false" aria-haspopup="dialog" autoCorrect="off" spellcheck="false" placeholder="Go to file" data-component="input" class="UnstyledTextInput-sc-14ypya-0 cDLBls" value=""/><span class="TextInput-icon"><div class="Box-sc-g0xbh4-0 cNvKlH"><kbd>t</kbd></div></span></span></div><div class="Box-sc-g0xbh4-0 cLfAnm"><div class="react-tree-show-tree-items"><div data-testid="repos-file-tree-container" class="Box-sc-g0xbh4-0 erWCJP"><nav aria-label="File Tree Navigation"><span role="status" aria-live="polite" aria-atomic="true" class="_VisuallyHidden__VisuallyHidden-sc-11jhm7a-0 rTZSs"></span><ul role="tree" aria-label="Files" class="TreeView__UlBox-sc-4ex6b6-0 gtekST"><li class="PRIVATE_TreeView-item" tabindex="0" id=".github-item" role="treeitem" aria-labelledby=":Rqcndjal5:" aria-describedby=":Rqcndjal5H1: :Rqcndjal5H2:" aria-level="1" aria-expanded="false" aria-selected="false"><div class="PRIVATE_TreeView-item-container" style="--level:1;content-visibility:auto;contain-intrinsic-size:auto 2rem"><div style="grid-area:spacer;display:flex"><div style="width:100%;display:flex"></div></div><div class="PRIVATE_TreeView-item-toggle PRIVATE_TreeView-item-toggle--hover PRIVATE_TreeView-item-toggle--end"><svg aria-hidden="true" focusable="false" role="img" class="octicon octicon-chevron-right" viewBox="0 0 12 12" width="12" height="12" fill="currentColor" style="display:inline-block;user-select:none;vertical-align:text-bottom;overflow:visible"><path d="M4.7 10c-.2 0-.4-.1-.5-.2-.3-.3-.3-.8 0-1.1L6.9 6 4.2 3.3c-.3-.3-.3-.8 0-1.1.3-.3.8-.3 1.1 0l3.3 3.2c.3.3.3.8 0 1.1L5.3 9.7c-.2.2-.4.3-.6.3Z"></path></svg></div><div id=":Rqcndjal5:" class="PRIVATE_TreeView-item-content"><div class="PRIVATE_VisuallyHidden" aria-hidden="true" id=":Rqcndjal5H1:"></div><div class="PRIVATE_TreeView-item-visual" aria-hidden="true"><div class="PRIVATE_TreeView-directory-icon"><svg aria-hidden="true" focusable="false" role="img" class="octicon octicon-file-directory-fill" viewBox="0 0 16 16" width="16" height="16" fill="currentColor" style="display:inline-block;user-select:none;vertical-align:text-bottom;overflow:visible"><path d="M1.75 1A1.75 1.75 0 0 0 0 2.75v10.5C0 14.216.784 15 1.75 15h12.5A1.75 1.75 0 0 0 16 13.25v-8.5A1.75 1.75 0 0 0 14.25 3H7.5a.25.25 0 0 1-.2-.1l-.9-1.2C6.07 1.26 5.55 1 5 1H1.75Z"></path></svg></div></div><span class="PRIVATE_TreeView-item-content-text"><span>.github</span></span></div></div></li><li class="PRIVATE_TreeView-item" tabindex="0" id="docs-item" role="treeitem" aria-labelledby=":R1acndjal5:" aria-describedby=":R1acndjal5H1: :R1acndjal5H2:" aria-level="1" aria-expanded="false" aria-selected="false"><div class="PRIVATE_TreeView-item-container" style="--level:1;content-visibility:auto;contain-intrinsic-size:auto 2rem"><div style="grid-area:spacer;display:flex"><div style="width:100%;display:flex"></div></div><div class="PRIVATE_TreeView-item-toggle PRIVATE_TreeView-item-toggle--hover PRIVATE_TreeView-item-toggle--end"><svg aria-hidden="true" focusable="false" role="img" class="octicon octicon-chevron-right" viewBox="0 0 12 12" width="12" height="12" fill="currentColor" style="display:inline-block;user-select:none;vertical-align:text-bottom;overflow:visible"><path d="M4.7 10c-.2 0-.4-.1-.5-.2-.3-.3-.3-.8 0-1.1L6.9 6 4.2 3.3c-.3-.3-.3-.8 0-1.1.3-.3.8-.3 1.1 0l3.3 3.2c.3.3.3.8 0 1.1L5.3 9.7c-.2.2-.4.3-.6.3Z"></path></svg></div><div id=":R1acndjal5:" class="PRIVATE_TreeView-item-content"><div class="PRIVATE_VisuallyHidden" aria-hidden="true" id=":R1acndjal5H1:"></div><div class="PRIVATE_TreeView-item-visual" aria-hidden="true"><div class="PRIVATE_TreeView-directory-icon"><svg aria-hidden="true" focusable="false" role="img" class="octicon octicon-file-directory-fill" viewBox="0 0 16 16" width="16" height="16" fill="currentColor" style="display:inline-block;user-select:none;vertical-align:text-bottom;overflow:visible"><path d="M1.75 1A1.75 1.75 0 0 0 0 2.75v10.5C0 14.216.784 15 1.75 15h12.5A1.75 1.75 0 0 0 16 13.25v-8.5A1.75 1.75 0 0 0 14.25 3H7.5a.25.25 0 0 1-.2-.1l-.9-1.2C6.07 1.26 5.55 1 5 1H1.75Z"></path></svg></div></div><span class="PRIVATE_TreeView-item-content-text"><span>docs</span></span></div></div></li><li class="PRIVATE_TreeView-item" tabindex="0" id="extras-item" role="treeitem" aria-labelledby=":R1qcndjal5:" aria-describedby=":R1qcndjal5H1: :R1qcndjal5H2:" aria-level="1" aria-expanded="false" aria-selected="false"><div class="PRIVATE_TreeView-item-container" style="--level:1;content-visibility:auto;contain-intrinsic-size:auto 2rem"><div style="grid-area:spacer;display:flex"><div style="width:100%;display:flex"></div></div><div class="PRIVATE_TreeView-item-toggle PRIVATE_TreeView-item-toggle--hover PRIVATE_TreeView-item-toggle--end"><svg aria-hidden="true" focusable="false" role="img" class="octicon octicon-chevron-right" viewBox="0 0 12 12" width="12" height="12" fill="currentColor" style="display:inline-block;user-select:none;vertical-align:text-bottom;overflow:visible"><path d="M4.7 10c-.2 0-.4-.1-.5-.2-.3-.3-.3-.8 0-1.1L6.9 6 4.2 3.3c-.3-.3-.3-.8 0-1.1.3-.3.8-.3 1.1 0l3.3 3.2c.3.3.3.8 0 1.1L5.3 9.7c-.2.2-.4.3-.6.3Z"></path></svg></div><div id=":R1qcndjal5:" class="PRIVATE_TreeView-item-content"><div class="PRIVATE_VisuallyHidden" aria-hidden="true" id=":R1qcndjal5H1:"></div><div class="PRIVATE_TreeView-item-visual" aria-hidden="true"><div class="PRIVATE_TreeView-directory-icon"><svg aria-hidden="true" focusable="false" role="img" class="octicon octicon-file-directory-fill" viewBox="0 0 16 16" width="16" height="16" fill="currentColor" style="display:inline-block;user-select:none;vertical-align:text-bottom;overflow:visible"><path d="M1.75 1A1.75 1.75 0 0 0 0 2.75v10.5C0 14.216.784 15 1.75 15h12.5A1.75 1.75 0 0 0 16 13.25v-8.5A1.75 1.75 0 0 0 14.25 3H7.5a.25.25 0 0 1-.2-.1l-.9-1.2C6.07 1.26 5.55 1 5 1H1.75Z"></path></svg></div></div><span class="PRIVATE_TreeView-item-content-text"><span>extras</span></span></div></div></li><li class="PRIVATE_TreeView-item" tabindex="0" id="images-item" role="treeitem" aria-labelledby=":R2acndjal5:" aria-describedby=":R2acndjal5H1: :R2acndjal5H2:" aria-level="1" aria-expanded="false" aria-selected="false"><div class="PRIVATE_TreeView-item-container" style="--level:1;content-visibility:auto;contain-intrinsic-size:auto 2rem"><div style="grid-area:spacer;display:flex"><div style="width:100%;display:flex"></div></div><div class="PRIVATE_TreeView-item-toggle PRIVATE_TreeView-item-toggle--hover PRIVATE_TreeView-item-toggle--end"><svg aria-hidden="true" focusable="false" role="img" class="octicon octicon-chevron-right" viewBox="0 0 12 12" width="12" height="12" fill="currentColor" style="display:inline-block;user-select:none;vertical-align:text-bottom;overflow:visible"><path d="M4.7 10c-.2 0-.4-.1-.5-.2-.3-.3-.3-.8 0-1.1L6.9 6 4.2 3.3c-.3-.3-.3-.8 0-1.1.3-.3.8-.3 1.1 0l3.3 3.2c.3.3.3.8 0 1.1L5.3 9.7c-.2.2-.4.3-.6.3Z"></path></svg></div><div id=":R2acndjal5:" class="PRIVATE_TreeView-item-content"><div class="PRIVATE_VisuallyHidden" aria-hidden="true" id=":R2acndjal5H1:"></div><div class="PRIVATE_TreeView-item-visual" aria-hidden="true"><div class="PRIVATE_TreeView-directory-icon"><svg aria-hidden="true" focusable="false" role="img" class="octicon octicon-file-directory-fill" viewBox="0 0 16 16" width="16" height="16" fill="currentColor" style="display:inline-block;user-select:none;vertical-align:text-bottom;overflow:visible"><path d="M1.75 1A1.75 1.75 0 0 0 0 2.75v10.5C0 14.216.784 15 1.75 15h12.5A1.75 1.75 0 0 0 16 13.25v-8.5A1.75 1.75 0 0 0 14.25 3H7.5a.25.25 0 0 1-.2-.1l-.9-1.2C6.07 1.26 5.55 1 5 1H1.75Z"></path></svg></div></div><span class="PRIVATE_TreeView-item-content-text"><span>images</span></span></div></div></li><li class="PRIVATE_TreeView-item" tabindex="0" id="slides-item" role="treeitem" aria-labelledby=":R2qcndjal5:" aria-describedby=":R2qcndjal5H1: :R2qcndjal5H2:" aria-level="1" aria-expanded="false" aria-selected="false"><div class="PRIVATE_TreeView-item-container" style="--level:1;content-visibility:auto;contain-intrinsic-size:auto 2rem"><div style="grid-area:spacer;display:flex"><div style="width:100%;display:flex"></div></div><div class="PRIVATE_TreeView-item-toggle PRIVATE_TreeView-item-toggle--hover PRIVATE_TreeView-item-toggle--end"><svg aria-hidden="true" focusable="false" role="img" class="octicon octicon-chevron-right" viewBox="0 0 12 12" width="12" height="12" fill="currentColor" style="display:inline-block;user-select:none;vertical-align:text-bottom;overflow:visible"><path d="M4.7 10c-.2 0-.4-.1-.5-.2-.3-.3-.3-.8 0-1.1L6.9 6 4.2 3.3c-.3-.3-.3-.8 0-1.1.3-.3.8-.3 1.1 0l3.3 3.2c.3.3.3.8 0 1.1L5.3 9.7c-.2.2-.4.3-.6.3Z"></path></svg></div><div id=":R2qcndjal5:" class="PRIVATE_TreeView-item-content"><div class="PRIVATE_VisuallyHidden" aria-hidden="true" id=":R2qcndjal5H1:"></div><div class="PRIVATE_TreeView-item-visual" aria-hidden="true"><div class="PRIVATE_TreeView-directory-icon"><svg aria-hidden="true" focusable="false" role="img" class="octicon octicon-file-directory-fill" viewBox="0 0 16 16" width="16" height="16" fill="currentColor" style="display:inline-block;user-select:none;vertical-align:text-bottom;overflow:visible"><path d="M1.75 1A1.75 1.75 0 0 0 0 2.75v10.5C0 14.216.784 15 1.75 15h12.5A1.75 1.75 0 0 0 16 13.25v-8.5A1.75 1.75 0 0 0 14.25 3H7.5a.25.25 0 0 1-.2-.1l-.9-1.2C6.07 1.26 5.55 1 5 1H1.75Z"></path></svg></div></div><span class="PRIVATE_TreeView-item-content-text"><span>slides</span></span></div></div></li><li class="PRIVATE_TreeView-item" tabindex="0" id="video_notebooks-item" role="treeitem" aria-labelledby=":R3acndjal5:" aria-describedby=":R3acndjal5H1: :R3acndjal5H2:" aria-level="1" aria-expanded="true" aria-selected="false"><div class="PRIVATE_TreeView-item-container" style="--level:1;content-visibility:auto;contain-intrinsic-size:auto 2rem"><div style="grid-area:spacer;display:flex"><div style="width:100%;display:flex"></div></div><div class="PRIVATE_TreeView-item-toggle PRIVATE_TreeView-item-toggle--hover PRIVATE_TreeView-item-toggle--end"><svg aria-hidden="true" focusable="false" role="img" class="octicon octicon-chevron-down" viewBox="0 0 12 12" width="12" height="12" fill="currentColor" style="display:inline-block;user-select:none;vertical-align:text-bottom;overflow:visible"><path d="M6 8.825c-.2 0-.4-.1-.5-.2l-3.3-3.3c-.3-.3-.3-.8 0-1.1.3-.3.8-.3 1.1 0l2.7 2.7 2.7-2.7c.3-.3.8-.3 1.1 0 .3.3.3.8 0 1.1l-3.2 3.2c-.2.2-.4.3-.6.3Z"></path></svg></div><div id=":R3acndjal5:" class="PRIVATE_TreeView-item-content"><div class="PRIVATE_VisuallyHidden" aria-hidden="true" id=":R3acndjal5H1:"></div><div class="PRIVATE_TreeView-item-visual" aria-hidden="true"><div class="PRIVATE_TreeView-directory-icon"><svg aria-hidden="true" focusable="false" role="img" class="octicon octicon-file-directory-open-fill" viewBox="0 0 16 16" width="16" height="16" fill="currentColor" style="display:inline-block;user-select:none;vertical-align:text-bottom;overflow:visible"><path d="M.513 1.513A1.75 1.75 0 0 1 1.75 1h3.5c.55 0 1.07.26 1.4.7l.9 1.2a.25.25 0 0 0 .2.1H13a1 1 0 0 1 1 1v.5H2.75a.75.75 0 0 0 0 1.5h11.978a1 1 0 0 1 .994 1.117L15 13.25A1.75 1.75 0 0 1 13.25 15H1.75A1.75 1.75 0 0 1 0 13.25V2.75c0-.464.184-.91.513-1.237Z"></path></svg></div></div><span class="PRIVATE_TreeView-item-content-text"><span>video_notebooks</span></span></div></div><ul role="group" style="list-style:none;padding:0;margin:0"><li class="PRIVATE_TreeView-item" tabindex="0" id="video_notebooks/00_tensorflow_fundamentals_video.ipynb-item" role="treeitem" aria-labelledby=":Rmjacndjal5:" aria-describedby=":Rmjacndjal5H1: :Rmjacndjal5H2:" aria-level="2" aria-selected="false"><div class="PRIVATE_TreeView-item-container" style="--level:2;content-visibility:auto;contain-intrinsic-size:auto 2rem"><div style="grid-area:spacer;display:flex"><div style="width:100%;display:flex"><div class="PRIVATE_TreeView-item-level-line"></div></div></div><div id=":Rmjacndjal5:" class="PRIVATE_TreeView-item-content"><div class="PRIVATE_VisuallyHidden" aria-hidden="true" id=":Rmjacndjal5H1:"></div><div class="PRIVATE_TreeView-item-visual" aria-hidden="true"><svg aria-hidden="true" focusable="false" role="img" class="octicon octicon-file" viewBox="0 0 16 16" width="16" height="16" fill="currentColor" style="display:inline-block;user-select:none;vertical-align:text-bottom;overflow:visible"><path d="M2 1.75C2 .784 2.784 0 3.75 0h6.586c.464 0 .909.184 1.237.513l2.914 2.914c.329.328.513.773.513 1.237v9.586A1.75 1.75 0 0 1 13.25 16h-9.5A1.75 1.75 0 0 1 2 14.25Zm1.75-.25a.25.25 0 0 0-.25.25v12.5c0 .138.112.25.25.25h9.5a.25.25 0 0 0 .25-.25V6h-2.75A1.75 1.75 0 0 1 9 4.25V1.5Zm6.75.062V4.25c0 .138.112.25.25.25h2.688l-.011-.013-2.914-2.914-.013-.011Z"></path></svg></div><span class="PRIVATE_TreeView-item-content-text"><span>00_tensorflow_fundamentals_video.ipynb</span></span></div></div></li><li class="PRIVATE_TreeView-item" tabindex="0" id="video_notebooks/01_neural_network_regression_in_tensorflow_video.ipynb-item" role="treeitem" aria-labelledby=":R16jacndjal5:" aria-describedby=":R16jacndjal5H1: :R16jacndjal5H2:" aria-level="2" aria-selected="false"><div class="PRIVATE_TreeView-item-container" style="--level:2;content-visibility:auto;contain-intrinsic-size:auto 2rem"><div style="grid-area:spacer;display:flex"><div style="width:100%;display:flex"><div class="PRIVATE_TreeView-item-level-line"></div></div></div><div id=":R16jacndjal5:" class="PRIVATE_TreeView-item-content"><div class="PRIVATE_VisuallyHidden" aria-hidden="true" id=":R16jacndjal5H1:"></div><div class="PRIVATE_TreeView-item-visual" aria-hidden="true"><svg aria-hidden="true" focusable="false" role="img" class="octicon octicon-file" viewBox="0 0 16 16" width="16" height="16" fill="currentColor" style="display:inline-block;user-select:none;vertical-align:text-bottom;overflow:visible"><path d="M2 1.75C2 .784 2.784 0 3.75 0h6.586c.464 0 .909.184 1.237.513l2.914 2.914c.329.328.513.773.513 1.237v9.586A1.75 1.75 0 0 1 13.25 16h-9.5A1.75 1.75 0 0 1 2 14.25Zm1.75-.25a.25.25 0 0 0-.25.25v12.5c0 .138.112.25.25.25h9.5a.25.25 0 0 0 .25-.25V6h-2.75A1.75 1.75 0 0 1 9 4.25V1.5Zm6.75.062V4.25c0 .138.112.25.25.25h2.688l-.011-.013-2.914-2.914-.013-.011Z"></path></svg></div><span class="PRIVATE_TreeView-item-content-text"><span>01_neural_network_regression_in_tensorflow_video.ipynb</span></span></div></div></li><li class="PRIVATE_TreeView-item" tabindex="0" id="video_notebooks/02_neural_network_classification_in_tensorflow_video.ipynb-item" role="treeitem" aria-labelledby=":R1mjacndjal5:" aria-describedby=":R1mjacndjal5H1: :R1mjacndjal5H2:" aria-level="2" aria-selected="false"><div class="PRIVATE_TreeView-item-container" style="--level:2;content-visibility:auto;contain-intrinsic-size:auto 2rem"><div style="grid-area:spacer;display:flex"><div style="width:100%;display:flex"><div class="PRIVATE_TreeView-item-level-line"></div></div></div><div id=":R1mjacndjal5:" class="PRIVATE_TreeView-item-content"><div class="PRIVATE_VisuallyHidden" aria-hidden="true" id=":R1mjacndjal5H1:"></div><div class="PRIVATE_TreeView-item-visual" aria-hidden="true"><svg aria-hidden="true" focusable="false" role="img" class="octicon octicon-file" viewBox="0 0 16 16" width="16" height="16" fill="currentColor" style="display:inline-block;user-select:none;vertical-align:text-bottom;overflow:visible"><path d="M2 1.75C2 .784 2.784 0 3.75 0h6.586c.464 0 .909.184 1.237.513l2.914 2.914c.329.328.513.773.513 1.237v9.586A1.75 1.75 0 0 1 13.25 16h-9.5A1.75 1.75 0 0 1 2 14.25Zm1.75-.25a.25.25 0 0 0-.25.25v12.5c0 .138.112.25.25.25h9.5a.25.25 0 0 0 .25-.25V6h-2.75A1.75 1.75 0 0 1 9 4.25V1.5Zm6.75.062V4.25c0 .138.112.25.25.25h2.688l-.011-.013-2.914-2.914-.013-.011Z"></path></svg></div><span class="PRIVATE_TreeView-item-content-text"><span>02_neural_network_classification_in_tensorflow_video.ipynb</span></span></div></div></li><li class="PRIVATE_TreeView-item" tabindex="0" id="video_notebooks/03_convolutional_neural_networks_with_tensorflow_video.ipynb-item" role="treeitem" aria-labelledby=":R26jacndjal5:" aria-describedby=":R26jacndjal5H1: :R26jacndjal5H2:" aria-level="2" aria-selected="false"><div class="PRIVATE_TreeView-item-container" style="--level:2;content-visibility:auto;contain-intrinsic-size:auto 2rem"><div style="grid-area:spacer;display:flex"><div style="width:100%;display:flex"><div class="PRIVATE_TreeView-item-level-line"></div></div></div><div id=":R26jacndjal5:" class="PRIVATE_TreeView-item-content"><div class="PRIVATE_VisuallyHidden" aria-hidden="true" id=":R26jacndjal5H1:"></div><div class="PRIVATE_TreeView-item-visual" aria-hidden="true"><svg aria-hidden="true" focusable="false" role="img" class="octicon octicon-file" viewBox="0 0 16 16" width="16" height="16" fill="currentColor" style="display:inline-block;user-select:none;vertical-align:text-bottom;overflow:visible"><path d="M2 1.75C2 .784 2.784 0 3.75 0h6.586c.464 0 .909.184 1.237.513l2.914 2.914c.329.328.513.773.513 1.237v9.586A1.75 1.75 0 0 1 13.25 16h-9.5A1.75 1.75 0 0 1 2 14.25Zm1.75-.25a.25.25 0 0 0-.25.25v12.5c0 .138.112.25.25.25h9.5a.25.25 0 0 0 .25-.25V6h-2.75A1.75 1.75 0 0 1 9 4.25V1.5Zm6.75.062V4.25c0 .138.112.25.25.25h2.688l-.011-.013-2.914-2.914-.013-.011Z"></path></svg></div><span class="PRIVATE_TreeView-item-content-text"><span>03_convolutional_neural_networks_with_tensorflow_video.ipynb</span></span></div></div></li><li class="PRIVATE_TreeView-item" tabindex="0" id="video_notebooks/04_transfer_learning_in_tensorflow_part_1_feature_extraction_video.ipynb-item" role="treeitem" aria-labelledby=":R2mjacndjal5:" aria-describedby=":R2mjacndjal5H1: :R2mjacndjal5H2:" aria-level="2" aria-current="true" aria-selected="false"><div class="PRIVATE_TreeView-item-container" style="--level:2"><div style="grid-area:spacer;display:flex"><div style="width:100%;display:flex"><div class="PRIVATE_TreeView-item-level-line"></div></div></div><div id=":R2mjacndjal5:" class="PRIVATE_TreeView-item-content"><div class="PRIVATE_VisuallyHidden" aria-hidden="true" id=":R2mjacndjal5H1:"></div><div class="PRIVATE_TreeView-item-visual" aria-hidden="true"><svg aria-hidden="true" focusable="false" role="img" class="octicon octicon-file" viewBox="0 0 16 16" width="16" height="16" fill="currentColor" style="display:inline-block;user-select:none;vertical-align:text-bottom;overflow:visible"><path d="M2 1.75C2 .784 2.784 0 3.75 0h6.586c.464 0 .909.184 1.237.513l2.914 2.914c.329.328.513.773.513 1.237v9.586A1.75 1.75 0 0 1 13.25 16h-9.5A1.75 1.75 0 0 1 2 14.25Zm1.75-.25a.25.25 0 0 0-.25.25v12.5c0 .138.112.25.25.25h9.5a.25.25 0 0 0 .25-.25V6h-2.75A1.75 1.75 0 0 1 9 4.25V1.5Zm6.75.062V4.25c0 .138.112.25.25.25h2.688l-.011-.013-2.914-2.914-.013-.011Z"></path></svg></div><span class="PRIVATE_TreeView-item-content-text"><span>04_transfer_learning_in_tensorflow_part_1_feature_extraction_video.ipynb</span></span></div></div></li><li class="PRIVATE_TreeView-item" tabindex="0" id="video_notebooks/05_transfer_learning_in_tensorflow_part_2_fine_tuning_video.ipynb-item" role="treeitem" aria-labelledby=":R36jacndjal5:" aria-describedby=":R36jacndjal5H1: :R36jacndjal5H2:" aria-level="2" aria-selected="false"><div class="PRIVATE_TreeView-item-container" style="--level:2;content-visibility:auto;contain-intrinsic-size:auto 2rem"><div style="grid-area:spacer;display:flex"><div style="width:100%;display:flex"><div class="PRIVATE_TreeView-item-level-line"></div></div></div><div id=":R36jacndjal5:" class="PRIVATE_TreeView-item-content"><div class="PRIVATE_VisuallyHidden" aria-hidden="true" id=":R36jacndjal5H1:"></div><div class="PRIVATE_TreeView-item-visual" aria-hidden="true"><svg aria-hidden="true" focusable="false" role="img" class="octicon octicon-file" viewBox="0 0 16 16" width="16" height="16" fill="currentColor" style="display:inline-block;user-select:none;vertical-align:text-bottom;overflow:visible"><path d="M2 1.75C2 .784 2.784 0 3.75 0h6.586c.464 0 .909.184 1.237.513l2.914 2.914c.329.328.513.773.513 1.237v9.586A1.75 1.75 0 0 1 13.25 16h-9.5A1.75 1.75 0 0 1 2 14.25Zm1.75-.25a.25.25 0 0 0-.25.25v12.5c0 .138.112.25.25.25h9.5a.25.25 0 0 0 .25-.25V6h-2.75A1.75 1.75 0 0 1 9 4.25V1.5Zm6.75.062V4.25c0 .138.112.25.25.25h2.688l-.011-.013-2.914-2.914-.013-.011Z"></path></svg></div><span class="PRIVATE_TreeView-item-content-text"><span>05_transfer_learning_in_tensorflow_part_2_fine_tuning_video.ipynb</span></span></div></div></li><li class="PRIVATE_TreeView-item" tabindex="0" id="video_notebooks/06_transfer_learning_in_tensorflow_part_3_scaling_up_video.ipynb-item" role="treeitem" aria-labelledby=":R3mjacndjal5:" aria-describedby=":R3mjacndjal5H1: :R3mjacndjal5H2:" aria-level="2" aria-selected="false"><div class="PRIVATE_TreeView-item-container" style="--level:2;content-visibility:auto;contain-intrinsic-size:auto 2rem"><div style="grid-area:spacer;display:flex"><div style="width:100%;display:flex"><div class="PRIVATE_TreeView-item-level-line"></div></div></div><div id=":R3mjacndjal5:" class="PRIVATE_TreeView-item-content"><div class="PRIVATE_VisuallyHidden" aria-hidden="true" id=":R3mjacndjal5H1:"></div><div class="PRIVATE_TreeView-item-visual" aria-hidden="true"><svg aria-hidden="true" focusable="false" role="img" class="octicon octicon-file" viewBox="0 0 16 16" width="16" height="16" fill="currentColor" style="display:inline-block;user-select:none;vertical-align:text-bottom;overflow:visible"><path d="M2 1.75C2 .784 2.784 0 3.75 0h6.586c.464 0 .909.184 1.237.513l2.914 2.914c.329.328.513.773.513 1.237v9.586A1.75 1.75 0 0 1 13.25 16h-9.5A1.75 1.75 0 0 1 2 14.25Zm1.75-.25a.25.25 0 0 0-.25.25v12.5c0 .138.112.25.25.25h9.5a.25.25 0 0 0 .25-.25V6h-2.75A1.75 1.75 0 0 1 9 4.25V1.5Zm6.75.062V4.25c0 .138.112.25.25.25h2.688l-.011-.013-2.914-2.914-.013-.011Z"></path></svg></div><span class="PRIVATE_TreeView-item-content-text"><span>06_transfer_learning_in_tensorflow_part_3_scaling_up_video.ipynb</span></span></div></div></li><li class="PRIVATE_TreeView-item" tabindex="0" id="video_notebooks/07_milestone_project_1_food_vision_video.ipynb-item" role="treeitem" aria-labelledby=":R46jacndjal5:" aria-describedby=":R46jacndjal5H1: :R46jacndjal5H2:" aria-level="2" aria-selected="false"><div class="PRIVATE_TreeView-item-container" style="--level:2;content-visibility:auto;contain-intrinsic-size:auto 2rem"><div style="grid-area:spacer;display:flex"><div style="width:100%;display:flex"><div class="PRIVATE_TreeView-item-level-line"></div></div></div><div id=":R46jacndjal5:" class="PRIVATE_TreeView-item-content"><div class="PRIVATE_VisuallyHidden" aria-hidden="true" id=":R46jacndjal5H1:"></div><div class="PRIVATE_TreeView-item-visual" aria-hidden="true"><svg aria-hidden="true" focusable="false" role="img" class="octicon octicon-file" viewBox="0 0 16 16" width="16" height="16" fill="currentColor" style="display:inline-block;user-select:none;vertical-align:text-bottom;overflow:visible"><path d="M2 1.75C2 .784 2.784 0 3.75 0h6.586c.464 0 .909.184 1.237.513l2.914 2.914c.329.328.513.773.513 1.237v9.586A1.75 1.75 0 0 1 13.25 16h-9.5A1.75 1.75 0 0 1 2 14.25Zm1.75-.25a.25.25 0 0 0-.25.25v12.5c0 .138.112.25.25.25h9.5a.25.25 0 0 0 .25-.25V6h-2.75A1.75 1.75 0 0 1 9 4.25V1.5Zm6.75.062V4.25c0 .138.112.25.25.25h2.688l-.011-.013-2.914-2.914-.013-.011Z"></path></svg></div><span class="PRIVATE_TreeView-item-content-text"><span>07_milestone_project_1_food_vision_video.ipynb</span></span></div></div></li><li class="PRIVATE_TreeView-item" tabindex="0" id="video_notebooks/08_introduction_to_nlp_in_tensorflow_video.ipynb-item" role="treeitem" aria-labelledby=":R4mjacndjal5:" aria-describedby=":R4mjacndjal5H1: :R4mjacndjal5H2:" aria-level="2" aria-selected="false"><div class="PRIVATE_TreeView-item-container" style="--level:2;content-visibility:auto;contain-intrinsic-size:auto 2rem"><div style="grid-area:spacer;display:flex"><div style="width:100%;display:flex"><div class="PRIVATE_TreeView-item-level-line"></div></div></div><div id=":R4mjacndjal5:" class="PRIVATE_TreeView-item-content"><div class="PRIVATE_VisuallyHidden" aria-hidden="true" id=":R4mjacndjal5H1:"></div><div class="PRIVATE_TreeView-item-visual" aria-hidden="true"><svg aria-hidden="true" focusable="false" role="img" class="octicon octicon-file" viewBox="0 0 16 16" width="16" height="16" fill="currentColor" style="display:inline-block;user-select:none;vertical-align:text-bottom;overflow:visible"><path d="M2 1.75C2 .784 2.784 0 3.75 0h6.586c.464 0 .909.184 1.237.513l2.914 2.914c.329.328.513.773.513 1.237v9.586A1.75 1.75 0 0 1 13.25 16h-9.5A1.75 1.75 0 0 1 2 14.25Zm1.75-.25a.25.25 0 0 0-.25.25v12.5c0 .138.112.25.25.25h9.5a.25.25 0 0 0 .25-.25V6h-2.75A1.75 1.75 0 0 1 9 4.25V1.5Zm6.75.062V4.25c0 .138.112.25.25.25h2.688l-.011-.013-2.914-2.914-.013-.011Z"></path></svg></div><span class="PRIVATE_TreeView-item-content-text"><span>08_introduction_to_nlp_in_tensorflow_video.ipynb</span></span></div></div></li><li class="PRIVATE_TreeView-item" tabindex="0" id="video_notebooks/09_SkimLit_nlp_milestone_project_2_video.ipynb-item" role="treeitem" aria-labelledby=":R56jacndjal5:" aria-describedby=":R56jacndjal5H1: :R56jacndjal5H2:" aria-level="2" aria-selected="false"><div class="PRIVATE_TreeView-item-container" style="--level:2;content-visibility:auto;contain-intrinsic-size:auto 2rem"><div style="grid-area:spacer;display:flex"><div style="width:100%;display:flex"><div class="PRIVATE_TreeView-item-level-line"></div></div></div><div id=":R56jacndjal5:" class="PRIVATE_TreeView-item-content"><div class="PRIVATE_VisuallyHidden" aria-hidden="true" id=":R56jacndjal5H1:"></div><div class="PRIVATE_TreeView-item-visual" aria-hidden="true"><svg aria-hidden="true" focusable="false" role="img" class="octicon octicon-file" viewBox="0 0 16 16" width="16" height="16" fill="currentColor" style="display:inline-block;user-select:none;vertical-align:text-bottom;overflow:visible"><path d="M2 1.75C2 .784 2.784 0 3.75 0h6.586c.464 0 .909.184 1.237.513l2.914 2.914c.329.328.513.773.513 1.237v9.586A1.75 1.75 0 0 1 13.25 16h-9.5A1.75 1.75 0 0 1 2 14.25Zm1.75-.25a.25.25 0 0 0-.25.25v12.5c0 .138.112.25.25.25h9.5a.25.25 0 0 0 .25-.25V6h-2.75A1.75 1.75 0 0 1 9 4.25V1.5Zm6.75.062V4.25c0 .138.112.25.25.25h2.688l-.011-.013-2.914-2.914-.013-.011Z"></path></svg></div><span class="PRIVATE_TreeView-item-content-text"><span>09_SkimLit_nlp_milestone_project_2_video.ipynb</span></span></div></div></li><li class="PRIVATE_TreeView-item" tabindex="0" id="video_notebooks/10_time_series_forecasting_with_tensorflow_video.ipynb-item" role="treeitem" aria-labelledby=":R5mjacndjal5:" aria-describedby=":R5mjacndjal5H1: :R5mjacndjal5H2:" aria-level="2" aria-selected="false"><div class="PRIVATE_TreeView-item-container" style="--level:2;content-visibility:auto;contain-intrinsic-size:auto 2rem"><div style="grid-area:spacer;display:flex"><div style="width:100%;display:flex"><div class="PRIVATE_TreeView-item-level-line"></div></div></div><div id=":R5mjacndjal5:" class="PRIVATE_TreeView-item-content"><div class="PRIVATE_VisuallyHidden" aria-hidden="true" id=":R5mjacndjal5H1:"></div><div class="PRIVATE_TreeView-item-visual" aria-hidden="true"><svg aria-hidden="true" focusable="false" role="img" class="octicon octicon-file" viewBox="0 0 16 16" width="16" height="16" fill="currentColor" style="display:inline-block;user-select:none;vertical-align:text-bottom;overflow:visible"><path d="M2 1.75C2 .784 2.784 0 3.75 0h6.586c.464 0 .909.184 1.237.513l2.914 2.914c.329.328.513.773.513 1.237v9.586A1.75 1.75 0 0 1 13.25 16h-9.5A1.75 1.75 0 0 1 2 14.25Zm1.75-.25a.25.25 0 0 0-.25.25v12.5c0 .138.112.25.25.25h9.5a.25.25 0 0 0 .25-.25V6h-2.75A1.75 1.75 0 0 1 9 4.25V1.5Zm6.75.062V4.25c0 .138.112.25.25.25h2.688l-.011-.013-2.914-2.914-.013-.011Z"></path></svg></div><span class="PRIVATE_TreeView-item-content-text"><span>10_time_series_forecasting_with_tensorflow_video.ipynb</span></span></div></div></li><li class="PRIVATE_TreeView-item" tabindex="0" id="video_notebooks/README.md-item" role="treeitem" aria-labelledby=":R66jacndjal5:" aria-describedby=":R66jacndjal5H1: :R66jacndjal5H2:" aria-level="2" aria-selected="false"><div class="PRIVATE_TreeView-item-container" style="--level:2;content-visibility:auto;contain-intrinsic-size:auto 2rem"><div style="grid-area:spacer;display:flex"><div style="width:100%;display:flex"><div class="PRIVATE_TreeView-item-level-line"></div></div></div><div id=":R66jacndjal5:" class="PRIVATE_TreeView-item-content"><div class="PRIVATE_VisuallyHidden" aria-hidden="true" id=":R66jacndjal5H1:"></div><div class="PRIVATE_TreeView-item-visual" aria-hidden="true"><svg aria-hidden="true" focusable="false" role="img" class="octicon octicon-file" viewBox="0 0 16 16" width="16" height="16" fill="currentColor" style="display:inline-block;user-select:none;vertical-align:text-bottom;overflow:visible"><path d="M2 1.75C2 .784 2.784 0 3.75 0h6.586c.464 0 .909.184 1.237.513l2.914 2.914c.329.328.513.773.513 1.237v9.586A1.75 1.75 0 0 1 13.25 16h-9.5A1.75 1.75 0 0 1 2 14.25Zm1.75-.25a.25.25 0 0 0-.25.25v12.5c0 .138.112.25.25.25h9.5a.25.25 0 0 0 .25-.25V6h-2.75A1.75 1.75 0 0 1 9 4.25V1.5Zm6.75.062V4.25c0 .138.112.25.25.25h2.688l-.011-.013-2.914-2.914-.013-.011Z"></path></svg></div><span class="PRIVATE_TreeView-item-content-text"><span>README.md</span></span></div></div></li></ul></li><li class="PRIVATE_TreeView-item" tabindex="0" id=".gitignore-item" role="treeitem" aria-labelledby=":R3qcndjal5:" aria-describedby=":R3qcndjal5H1: :R3qcndjal5H2:" aria-level="1" aria-selected="false"><div class="PRIVATE_TreeView-item-container" style="--level:1;content-visibility:auto;contain-intrinsic-size:auto 2rem"><div style="grid-area:spacer;display:flex"><div style="width:100%;display:flex"></div></div><div id=":R3qcndjal5:" class="PRIVATE_TreeView-item-content"><div class="PRIVATE_VisuallyHidden" aria-hidden="true" id=":R3qcndjal5H1:"></div><div class="PRIVATE_TreeView-item-visual" aria-hidden="true"><svg aria-hidden="true" focusable="false" role="img" class="octicon octicon-file" viewBox="0 0 16 16" width="16" height="16" fill="currentColor" style="display:inline-block;user-select:none;vertical-align:text-bottom;overflow:visible"><path d="M2 1.75C2 .784 2.784 0 3.75 0h6.586c.464 0 .909.184 1.237.513l2.914 2.914c.329.328.513.773.513 1.237v9.586A1.75 1.75 0 0 1 13.25 16h-9.5A1.75 1.75 0 0 1 2 14.25Zm1.75-.25a.25.25 0 0 0-.25.25v12.5c0 .138.112.25.25.25h9.5a.25.25 0 0 0 .25-.25V6h-2.75A1.75 1.75 0 0 1 9 4.25V1.5Zm6.75.062V4.25c0 .138.112.25.25.25h2.688l-.011-.013-2.914-2.914-.013-.011Z"></path></svg></div><span class="PRIVATE_TreeView-item-content-text"><span>.gitignore</span></span></div></div></li><li class="PRIVATE_TreeView-item" tabindex="0" id="00_tensorflow_fundamentals.ipynb-item" role="treeitem" aria-labelledby=":R4acndjal5:" aria-describedby=":R4acndjal5H1: :R4acndjal5H2:" aria-level="1" aria-selected="false"><div class="PRIVATE_TreeView-item-container" style="--level:1;content-visibility:auto;contain-intrinsic-size:auto 2rem"><div style="grid-area:spacer;display:flex"><div style="width:100%;display:flex"></div></div><div id=":R4acndjal5:" class="PRIVATE_TreeView-item-content"><div class="PRIVATE_VisuallyHidden" aria-hidden="true" id=":R4acndjal5H1:"></div><div class="PRIVATE_TreeView-item-visual" aria-hidden="true"><svg aria-hidden="true" focusable="false" role="img" class="octicon octicon-file" viewBox="0 0 16 16" width="16" height="16" fill="currentColor" style="display:inline-block;user-select:none;vertical-align:text-bottom;overflow:visible"><path d="M2 1.75C2 .784 2.784 0 3.75 0h6.586c.464 0 .909.184 1.237.513l2.914 2.914c.329.328.513.773.513 1.237v9.586A1.75 1.75 0 0 1 13.25 16h-9.5A1.75 1.75 0 0 1 2 14.25Zm1.75-.25a.25.25 0 0 0-.25.25v12.5c0 .138.112.25.25.25h9.5a.25.25 0 0 0 .25-.25V6h-2.75A1.75 1.75 0 0 1 9 4.25V1.5Zm6.75.062V4.25c0 .138.112.25.25.25h2.688l-.011-.013-2.914-2.914-.013-.011Z"></path></svg></div><span class="PRIVATE_TreeView-item-content-text"><span>00_tensorflow_fundamentals.ipynb</span></span></div></div></li><li class="PRIVATE_TreeView-item" tabindex="0" id="01_neural_network_regression_in_tensorflow.ipynb-item" role="treeitem" aria-labelledby=":R4qcndjal5:" aria-describedby=":R4qcndjal5H1: :R4qcndjal5H2:" aria-level="1" aria-selected="false"><div class="PRIVATE_TreeView-item-container" style="--level:1;content-visibility:auto;contain-intrinsic-size:auto 2rem"><div style="grid-area:spacer;display:flex"><div style="width:100%;display:flex"></div></div><div id=":R4qcndjal5:" class="PRIVATE_TreeView-item-content"><div class="PRIVATE_VisuallyHidden" aria-hidden="true" id=":R4qcndjal5H1:"></div><div class="PRIVATE_TreeView-item-visual" aria-hidden="true"><svg aria-hidden="true" focusable="false" role="img" class="octicon octicon-file" viewBox="0 0 16 16" width="16" height="16" fill="currentColor" style="display:inline-block;user-select:none;vertical-align:text-bottom;overflow:visible"><path d="M2 1.75C2 .784 2.784 0 3.75 0h6.586c.464 0 .909.184 1.237.513l2.914 2.914c.329.328.513.773.513 1.237v9.586A1.75 1.75 0 0 1 13.25 16h-9.5A1.75 1.75 0 0 1 2 14.25Zm1.75-.25a.25.25 0 0 0-.25.25v12.5c0 .138.112.25.25.25h9.5a.25.25 0 0 0 .25-.25V6h-2.75A1.75 1.75 0 0 1 9 4.25V1.5Zm6.75.062V4.25c0 .138.112.25.25.25h2.688l-.011-.013-2.914-2.914-.013-.011Z"></path></svg></div><span class="PRIVATE_TreeView-item-content-text"><span>01_neural_network_regression_in_tensorflow.ipynb</span></span></div></div></li><li class="PRIVATE_TreeView-item" tabindex="0" id="02_neural_network_classification_in_tensorflow.ipynb-item" role="treeitem" aria-labelledby=":R5acndjal5:" aria-describedby=":R5acndjal5H1: :R5acndjal5H2:" aria-level="1" aria-selected="false"><div class="PRIVATE_TreeView-item-container" style="--level:1;content-visibility:auto;contain-intrinsic-size:auto 2rem"><div style="grid-area:spacer;display:flex"><div style="width:100%;display:flex"></div></div><div id=":R5acndjal5:" class="PRIVATE_TreeView-item-content"><div class="PRIVATE_VisuallyHidden" aria-hidden="true" id=":R5acndjal5H1:"></div><div class="PRIVATE_TreeView-item-visual" aria-hidden="true"><svg aria-hidden="true" focusable="false" role="img" class="octicon octicon-file" viewBox="0 0 16 16" width="16" height="16" fill="currentColor" style="display:inline-block;user-select:none;vertical-align:text-bottom;overflow:visible"><path d="M2 1.75C2 .784 2.784 0 3.75 0h6.586c.464 0 .909.184 1.237.513l2.914 2.914c.329.328.513.773.513 1.237v9.586A1.75 1.75 0 0 1 13.25 16h-9.5A1.75 1.75 0 0 1 2 14.25Zm1.75-.25a.25.25 0 0 0-.25.25v12.5c0 .138.112.25.25.25h9.5a.25.25 0 0 0 .25-.25V6h-2.75A1.75 1.75 0 0 1 9 4.25V1.5Zm6.75.062V4.25c0 .138.112.25.25.25h2.688l-.011-.013-2.914-2.914-.013-.011Z"></path></svg></div><span class="PRIVATE_TreeView-item-content-text"><span>02_neural_network_classification_in_tensorflow.ipynb</span></span></div></div></li><li class="PRIVATE_TreeView-item" tabindex="0" id="03_convolutional_neural_networks_in_tensorflow.ipynb-item" role="treeitem" aria-labelledby=":R5qcndjal5:" aria-describedby=":R5qcndjal5H1: :R5qcndjal5H2:" aria-level="1" aria-selected="false"><div class="PRIVATE_TreeView-item-container" style="--level:1;content-visibility:auto;contain-intrinsic-size:auto 2rem"><div style="grid-area:spacer;display:flex"><div style="width:100%;display:flex"></div></div><div id=":R5qcndjal5:" class="PRIVATE_TreeView-item-content"><div class="PRIVATE_VisuallyHidden" aria-hidden="true" id=":R5qcndjal5H1:"></div><div class="PRIVATE_TreeView-item-visual" aria-hidden="true"><svg aria-hidden="true" focusable="false" role="img" class="octicon octicon-file" viewBox="0 0 16 16" width="16" height="16" fill="currentColor" style="display:inline-block;user-select:none;vertical-align:text-bottom;overflow:visible"><path d="M2 1.75C2 .784 2.784 0 3.75 0h6.586c.464 0 .909.184 1.237.513l2.914 2.914c.329.328.513.773.513 1.237v9.586A1.75 1.75 0 0 1 13.25 16h-9.5A1.75 1.75 0 0 1 2 14.25Zm1.75-.25a.25.25 0 0 0-.25.25v12.5c0 .138.112.25.25.25h9.5a.25.25 0 0 0 .25-.25V6h-2.75A1.75 1.75 0 0 1 9 4.25V1.5Zm6.75.062V4.25c0 .138.112.25.25.25h2.688l-.011-.013-2.914-2.914-.013-.011Z"></path></svg></div><span class="PRIVATE_TreeView-item-content-text"><span>03_convolutional_neural_networks_in_tensorflow.ipynb</span></span></div></div></li><li class="PRIVATE_TreeView-item" tabindex="0" id="04_transfer_learning_in_tensorflow_part_1_feature_extraction.ipynb-item" role="treeitem" aria-labelledby=":R6acndjal5:" aria-describedby=":R6acndjal5H1: :R6acndjal5H2:" aria-level="1" aria-selected="false"><div class="PRIVATE_TreeView-item-container" style="--level:1;content-visibility:auto;contain-intrinsic-size:auto 2rem"><div style="grid-area:spacer;display:flex"><div style="width:100%;display:flex"></div></div><div id=":R6acndjal5:" class="PRIVATE_TreeView-item-content"><div class="PRIVATE_VisuallyHidden" aria-hidden="true" id=":R6acndjal5H1:"></div><div class="PRIVATE_TreeView-item-visual" aria-hidden="true"><svg aria-hidden="true" focusable="false" role="img" class="octicon octicon-file" viewBox="0 0 16 16" width="16" height="16" fill="currentColor" style="display:inline-block;user-select:none;vertical-align:text-bottom;overflow:visible"><path d="M2 1.75C2 .784 2.784 0 3.75 0h6.586c.464 0 .909.184 1.237.513l2.914 2.914c.329.328.513.773.513 1.237v9.586A1.75 1.75 0 0 1 13.25 16h-9.5A1.75 1.75 0 0 1 2 14.25Zm1.75-.25a.25.25 0 0 0-.25.25v12.5c0 .138.112.25.25.25h9.5a.25.25 0 0 0 .25-.25V6h-2.75A1.75 1.75 0 0 1 9 4.25V1.5Zm6.75.062V4.25c0 .138.112.25.25.25h2.688l-.011-.013-2.914-2.914-.013-.011Z"></path></svg></div><span class="PRIVATE_TreeView-item-content-text"><span>04_transfer_learning_in_tensorflow_part_1_feature_extraction.ipynb</span></span></div></div></li><li class="PRIVATE_TreeView-item" tabindex="0" id="05_transfer_learning_in_tensorflow_part_2_fine_tuning.ipynb-item" role="treeitem" aria-labelledby=":R6qcndjal5:" aria-describedby=":R6qcndjal5H1: :R6qcndjal5H2:" aria-level="1" aria-selected="false"><div class="PRIVATE_TreeView-item-container" style="--level:1;content-visibility:auto;contain-intrinsic-size:auto 2rem"><div style="grid-area:spacer;display:flex"><div style="width:100%;display:flex"></div></div><div id=":R6qcndjal5:" class="PRIVATE_TreeView-item-content"><div class="PRIVATE_VisuallyHidden" aria-hidden="true" id=":R6qcndjal5H1:"></div><div class="PRIVATE_TreeView-item-visual" aria-hidden="true"><svg aria-hidden="true" focusable="false" role="img" class="octicon octicon-file" viewBox="0 0 16 16" width="16" height="16" fill="currentColor" style="display:inline-block;user-select:none;vertical-align:text-bottom;overflow:visible"><path d="M2 1.75C2 .784 2.784 0 3.75 0h6.586c.464 0 .909.184 1.237.513l2.914 2.914c.329.328.513.773.513 1.237v9.586A1.75 1.75 0 0 1 13.25 16h-9.5A1.75 1.75 0 0 1 2 14.25Zm1.75-.25a.25.25 0 0 0-.25.25v12.5c0 .138.112.25.25.25h9.5a.25.25 0 0 0 .25-.25V6h-2.75A1.75 1.75 0 0 1 9 4.25V1.5Zm6.75.062V4.25c0 .138.112.25.25.25h2.688l-.011-.013-2.914-2.914-.013-.011Z"></path></svg></div><span class="PRIVATE_TreeView-item-content-text"><span>05_transfer_learning_in_tensorflow_part_2_fine_tuning.ipynb</span></span></div></div></li><li class="PRIVATE_TreeView-item" tabindex="0" id="06_transfer_learning_in_tensorflow_part_3_scaling_up.ipynb-item" role="treeitem" aria-labelledby=":R7acndjal5:" aria-describedby=":R7acndjal5H1: :R7acndjal5H2:" aria-level="1" aria-selected="false"><div class="PRIVATE_TreeView-item-container" style="--level:1;content-visibility:auto;contain-intrinsic-size:auto 2rem"><div style="grid-area:spacer;display:flex"><div style="width:100%;display:flex"></div></div><div id=":R7acndjal5:" class="PRIVATE_TreeView-item-content"><div class="PRIVATE_VisuallyHidden" aria-hidden="true" id=":R7acndjal5H1:"></div><div class="PRIVATE_TreeView-item-visual" aria-hidden="true"><svg aria-hidden="true" focusable="false" role="img" class="octicon octicon-file" viewBox="0 0 16 16" width="16" height="16" fill="currentColor" style="display:inline-block;user-select:none;vertical-align:text-bottom;overflow:visible"><path d="M2 1.75C2 .784 2.784 0 3.75 0h6.586c.464 0 .909.184 1.237.513l2.914 2.914c.329.328.513.773.513 1.237v9.586A1.75 1.75 0 0 1 13.25 16h-9.5A1.75 1.75 0 0 1 2 14.25Zm1.75-.25a.25.25 0 0 0-.25.25v12.5c0 .138.112.25.25.25h9.5a.25.25 0 0 0 .25-.25V6h-2.75A1.75 1.75 0 0 1 9 4.25V1.5Zm6.75.062V4.25c0 .138.112.25.25.25h2.688l-.011-.013-2.914-2.914-.013-.011Z"></path></svg></div><span class="PRIVATE_TreeView-item-content-text"><span>06_transfer_learning_in_tensorflow_part_3_scaling_up.ipynb</span></span></div></div></li><li class="PRIVATE_TreeView-item" tabindex="0" id="07_food_vision_milestone_project_1.ipynb-item" role="treeitem" aria-labelledby=":R7qcndjal5:" aria-describedby=":R7qcndjal5H1: :R7qcndjal5H2:" aria-level="1" aria-selected="false"><div class="PRIVATE_TreeView-item-container" style="--level:1;content-visibility:auto;contain-intrinsic-size:auto 2rem"><div style="grid-area:spacer;display:flex"><div style="width:100%;display:flex"></div></div><div id=":R7qcndjal5:" class="PRIVATE_TreeView-item-content"><div class="PRIVATE_VisuallyHidden" aria-hidden="true" id=":R7qcndjal5H1:"></div><div class="PRIVATE_TreeView-item-visual" aria-hidden="true"><svg aria-hidden="true" focusable="false" role="img" class="octicon octicon-file" viewBox="0 0 16 16" width="16" height="16" fill="currentColor" style="display:inline-block;user-select:none;vertical-align:text-bottom;overflow:visible"><path d="M2 1.75C2 .784 2.784 0 3.75 0h6.586c.464 0 .909.184 1.237.513l2.914 2.914c.329.328.513.773.513 1.237v9.586A1.75 1.75 0 0 1 13.25 16h-9.5A1.75 1.75 0 0 1 2 14.25Zm1.75-.25a.25.25 0 0 0-.25.25v12.5c0 .138.112.25.25.25h9.5a.25.25 0 0 0 .25-.25V6h-2.75A1.75 1.75 0 0 1 9 4.25V1.5Zm6.75.062V4.25c0 .138.112.25.25.25h2.688l-.011-.013-2.914-2.914-.013-.011Z"></path></svg></div><span class="PRIVATE_TreeView-item-content-text"><span>07_food_vision_milestone_project_1.ipynb</span></span></div></div></li><li class="PRIVATE_TreeView-item" tabindex="0" id="08_introduction_to_nlp_in_tensorflow.ipynb-item" role="treeitem" aria-labelledby=":R8acndjal5:" aria-describedby=":R8acndjal5H1: :R8acndjal5H2:" aria-level="1" aria-selected="false"><div class="PRIVATE_TreeView-item-container" style="--level:1;content-visibility:auto;contain-intrinsic-size:auto 2rem"><div style="grid-area:spacer;display:flex"><div style="width:100%;display:flex"></div></div><div id=":R8acndjal5:" class="PRIVATE_TreeView-item-content"><div class="PRIVATE_VisuallyHidden" aria-hidden="true" id=":R8acndjal5H1:"></div><div class="PRIVATE_TreeView-item-visual" aria-hidden="true"><svg aria-hidden="true" focusable="false" role="img" class="octicon octicon-file" viewBox="0 0 16 16" width="16" height="16" fill="currentColor" style="display:inline-block;user-select:none;vertical-align:text-bottom;overflow:visible"><path d="M2 1.75C2 .784 2.784 0 3.75 0h6.586c.464 0 .909.184 1.237.513l2.914 2.914c.329.328.513.773.513 1.237v9.586A1.75 1.75 0 0 1 13.25 16h-9.5A1.75 1.75 0 0 1 2 14.25Zm1.75-.25a.25.25 0 0 0-.25.25v12.5c0 .138.112.25.25.25h9.5a.25.25 0 0 0 .25-.25V6h-2.75A1.75 1.75 0 0 1 9 4.25V1.5Zm6.75.062V4.25c0 .138.112.25.25.25h2.688l-.011-.013-2.914-2.914-.013-.011Z"></path></svg></div><span class="PRIVATE_TreeView-item-content-text"><span>08_introduction_to_nlp_in_tensorflow.ipynb</span></span></div></div></li><li class="PRIVATE_TreeView-item" tabindex="0" id="09_SkimLit_nlp_milestone_project_2.ipynb-item" role="treeitem" aria-labelledby=":R8qcndjal5:" aria-describedby=":R8qcndjal5H1: :R8qcndjal5H2:" aria-level="1" aria-selected="false"><div class="PRIVATE_TreeView-item-container" style="--level:1;content-visibility:auto;contain-intrinsic-size:auto 2rem"><div style="grid-area:spacer;display:flex"><div style="width:100%;display:flex"></div></div><div id=":R8qcndjal5:" class="PRIVATE_TreeView-item-content"><div class="PRIVATE_VisuallyHidden" aria-hidden="true" id=":R8qcndjal5H1:"></div><div class="PRIVATE_TreeView-item-visual" aria-hidden="true"><svg aria-hidden="true" focusable="false" role="img" class="octicon octicon-file" viewBox="0 0 16 16" width="16" height="16" fill="currentColor" style="display:inline-block;user-select:none;vertical-align:text-bottom;overflow:visible"><path d="M2 1.75C2 .784 2.784 0 3.75 0h6.586c.464 0 .909.184 1.237.513l2.914 2.914c.329.328.513.773.513 1.237v9.586A1.75 1.75 0 0 1 13.25 16h-9.5A1.75 1.75 0 0 1 2 14.25Zm1.75-.25a.25.25 0 0 0-.25.25v12.5c0 .138.112.25.25.25h9.5a.25.25 0 0 0 .25-.25V6h-2.75A1.75 1.75 0 0 1 9 4.25V1.5Zm6.75.062V4.25c0 .138.112.25.25.25h2.688l-.011-.013-2.914-2.914-.013-.011Z"></path></svg></div><span class="PRIVATE_TreeView-item-content-text"><span>09_SkimLit_nlp_milestone_project_2.ipynb</span></span></div></div></li><li class="PRIVATE_TreeView-item" tabindex="0" id="10_time_series_forecasting_in_tensorflow.ipynb-item" role="treeitem" aria-labelledby=":R9acndjal5:" aria-describedby=":R9acndjal5H1: :R9acndjal5H2:" aria-level="1" aria-selected="false"><div class="PRIVATE_TreeView-item-container" style="--level:1;content-visibility:auto;contain-intrinsic-size:auto 2rem"><div style="grid-area:spacer;display:flex"><div style="width:100%;display:flex"></div></div><div id=":R9acndjal5:" class="PRIVATE_TreeView-item-content"><div class="PRIVATE_VisuallyHidden" aria-hidden="true" id=":R9acndjal5H1:"></div><div class="PRIVATE_TreeView-item-visual" aria-hidden="true"><svg aria-hidden="true" focusable="false" role="img" class="octicon octicon-file" viewBox="0 0 16 16" width="16" height="16" fill="currentColor" style="display:inline-block;user-select:none;vertical-align:text-bottom;overflow:visible"><path d="M2 1.75C2 .784 2.784 0 3.75 0h6.586c.464 0 .909.184 1.237.513l2.914 2.914c.329.328.513.773.513 1.237v9.586A1.75 1.75 0 0 1 13.25 16h-9.5A1.75 1.75 0 0 1 2 14.25Zm1.75-.25a.25.25 0 0 0-.25.25v12.5c0 .138.112.25.25.25h9.5a.25.25 0 0 0 .25-.25V6h-2.75A1.75 1.75 0 0 1 9 4.25V1.5Zm6.75.062V4.25c0 .138.112.25.25.25h2.688l-.011-.013-2.914-2.914-.013-.011Z"></path></svg></div><span class="PRIVATE_TreeView-item-content-text"><span>10_time_series_forecasting_in_tensorflow.ipynb</span></span></div></div></li><li class="PRIVATE_TreeView-item" tabindex="0" id="11_passing_the_tensorflow_developer_certification_exam.md-item" role="treeitem" aria-labelledby=":R9qcndjal5:" aria-describedby=":R9qcndjal5H1: :R9qcndjal5H2:" aria-level="1" aria-selected="false"><div class="PRIVATE_TreeView-item-container" style="--level:1;content-visibility:auto;contain-intrinsic-size:auto 2rem"><div style="grid-area:spacer;display:flex"><div style="width:100%;display:flex"></div></div><div id=":R9qcndjal5:" class="PRIVATE_TreeView-item-content"><div class="PRIVATE_VisuallyHidden" aria-hidden="true" id=":R9qcndjal5H1:"></div><div class="PRIVATE_TreeView-item-visual" aria-hidden="true"><svg aria-hidden="true" focusable="false" role="img" class="octicon octicon-file" viewBox="0 0 16 16" width="16" height="16" fill="currentColor" style="display:inline-block;user-select:none;vertical-align:text-bottom;overflow:visible"><path d="M2 1.75C2 .784 2.784 0 3.75 0h6.586c.464 0 .909.184 1.237.513l2.914 2.914c.329.328.513.773.513 1.237v9.586A1.75 1.75 0 0 1 13.25 16h-9.5A1.75 1.75 0 0 1 2 14.25Zm1.75-.25a.25.25 0 0 0-.25.25v12.5c0 .138.112.25.25.25h9.5a.25.25 0 0 0 .25-.25V6h-2.75A1.75 1.75 0 0 1 9 4.25V1.5Zm6.75.062V4.25c0 .138.112.25.25.25h2.688l-.011-.013-2.914-2.914-.013-.011Z"></path></svg></div><span class="PRIVATE_TreeView-item-content-text"><span>11_passing_the_tensorflow_developer_certification_exam.md</span></span></div></div></li><li class="PRIVATE_TreeView-item" tabindex="0" id="LICENSE-item" role="treeitem" aria-labelledby=":Raacndjal5:" aria-describedby=":Raacndjal5H1: :Raacndjal5H2:" aria-level="1" aria-selected="false"><div class="PRIVATE_TreeView-item-container" style="--level:1;content-visibility:auto;contain-intrinsic-size:auto 2rem"><div style="grid-area:spacer;display:flex"><div style="width:100%;display:flex"></div></div><div id=":Raacndjal5:" class="PRIVATE_TreeView-item-content"><div class="PRIVATE_VisuallyHidden" aria-hidden="true" id=":Raacndjal5H1:"></div><div class="PRIVATE_TreeView-item-visual" aria-hidden="true"><svg aria-hidden="true" focusable="false" role="img" class="octicon octicon-file" viewBox="0 0 16 16" width="16" height="16" fill="currentColor" style="display:inline-block;user-select:none;vertical-align:text-bottom;overflow:visible"><path d="M2 1.75C2 .784 2.784 0 3.75 0h6.586c.464 0 .909.184 1.237.513l2.914 2.914c.329.328.513.773.513 1.237v9.586A1.75 1.75 0 0 1 13.25 16h-9.5A1.75 1.75 0 0 1 2 14.25Zm1.75-.25a.25.25 0 0 0-.25.25v12.5c0 .138.112.25.25.25h9.5a.25.25 0 0 0 .25-.25V6h-2.75A1.75 1.75 0 0 1 9 4.25V1.5Zm6.75.062V4.25c0 .138.112.25.25.25h2.688l-.011-.013-2.914-2.914-.013-.011Z"></path></svg></div><span class="PRIVATE_TreeView-item-content-text"><span>LICENSE</span></span></div></div></li><li class="PRIVATE_TreeView-item" tabindex="0" id="README.md-item" role="treeitem" aria-labelledby=":Raqcndjal5:" aria-describedby=":Raqcndjal5H1: :Raqcndjal5H2:" aria-level="1" aria-selected="false"><div class="PRIVATE_TreeView-item-container" style="--level:1;content-visibility:auto;contain-intrinsic-size:auto 2rem"><div style="grid-area:spacer;display:flex"><div style="width:100%;display:flex"></div></div><div id=":Raqcndjal5:" class="PRIVATE_TreeView-item-content"><div class="PRIVATE_VisuallyHidden" aria-hidden="true" id=":Raqcndjal5H1:"></div><div class="PRIVATE_TreeView-item-visual" aria-hidden="true"><svg aria-hidden="true" focusable="false" role="img" class="octicon octicon-file" viewBox="0 0 16 16" width="16" height="16" fill="currentColor" style="display:inline-block;user-select:none;vertical-align:text-bottom;overflow:visible"><path d="M2 1.75C2 .784 2.784 0 3.75 0h6.586c.464 0 .909.184 1.237.513l2.914 2.914c.329.328.513.773.513 1.237v9.586A1.75 1.75 0 0 1 13.25 16h-9.5A1.75 1.75 0 0 1 2 14.25Zm1.75-.25a.25.25 0 0 0-.25.25v12.5c0 .138.112.25.25.25h9.5a.25.25 0 0 0 .25-.25V6h-2.75A1.75 1.75 0 0 1 9 4.25V1.5Zm6.75.062V4.25c0 .138.112.25.25.25h2.688l-.011-.013-2.914-2.914-.013-.011Z"></path></svg></div><span class="PRIVATE_TreeView-item-content-text"><span>README.md</span></span></div></div></li><li class="PRIVATE_TreeView-item" tabindex="0" id="mkdocs.yml-item" role="treeitem" aria-labelledby=":Rbacndjal5:" aria-describedby=":Rbacndjal5H1: :Rbacndjal5H2:" aria-level="1" aria-selected="false"><div class="PRIVATE_TreeView-item-container" style="--level:1;content-visibility:auto;contain-intrinsic-size:auto 2rem"><div style="grid-area:spacer;display:flex"><div style="width:100%;display:flex"></div></div><div id=":Rbacndjal5:" class="PRIVATE_TreeView-item-content"><div class="PRIVATE_VisuallyHidden" aria-hidden="true" id=":Rbacndjal5H1:"></div><div class="PRIVATE_TreeView-item-visual" aria-hidden="true"><svg aria-hidden="true" focusable="false" role="img" class="octicon octicon-file" viewBox="0 0 16 16" width="16" height="16" fill="currentColor" style="display:inline-block;user-select:none;vertical-align:text-bottom;overflow:visible"><path d="M2 1.75C2 .784 2.784 0 3.75 0h6.586c.464 0 .909.184 1.237.513l2.914 2.914c.329.328.513.773.513 1.237v9.586A1.75 1.75 0 0 1 13.25 16h-9.5A1.75 1.75 0 0 1 2 14.25Zm1.75-.25a.25.25 0 0 0-.25.25v12.5c0 .138.112.25.25.25h9.5a.25.25 0 0 0 .25-.25V6h-2.75A1.75 1.75 0 0 1 9 4.25V1.5Zm6.75.062V4.25c0 .138.112.25.25.25h2.688l-.011-.013-2.914-2.914-.013-.011Z"></path></svg></div><span class="PRIVATE_TreeView-item-content-text"><span>mkdocs.yml</span></span></div></div></li></ul></nav></div></div><div class="Box-sc-g0xbh4-0 hwhShM"><div class="Box-sc-g0xbh4-0 cYPxpP"><a href="https://docs.github.com/repositories/working-with-files/using-files/navigating-code-on-github" target="_blank" class="Link__StyledLink-sc-14289xe-0 fIqerb">Documentation</a> • <a href="https://github.com/orgs/community/discussions/54546" target="_blank" class="Link__StyledLink-sc-14289xe-0 fIqerb">Share feedback</a></div></div></div><div class="Box-sc-g0xbh4-0 fBtiVT"><div class="Box-sc-g0xbh4-0 cYPxpP"><a href="https://docs.github.com/repositories/working-with-files/using-files/navigating-code-on-github" target="_blank" class="Link__StyledLink-sc-14289xe-0 fIqerb">Documentation</a> • <a href="https://github.com/orgs/community/discussions/54546" target="_blank" class="Link__StyledLink-sc-14289xe-0 fIqerb">Share feedback</a></div></div></div></div></div></div></div><main class="Box-sc-g0xbh4-0 emFMJu"><div class="Box-sc-g0xbh4-0"></div><div class="Box-sc-g0xbh4-0 hlUAHL"><div data-selector="repos-split-pane-content" tabindex="0" class="Box-sc-g0xbh4-0 iStsmI"><div class="Box-sc-g0xbh4-0 eIgvIk"><div class="Box-sc-g0xbh4-0 eVFfWF container"><div class="Box-sc-g0xbh4-0 kgXdnT react-code-view-header--narrow"><div class="Box-sc-g0xbh4-0 kzTa-dF"><div class="Box-sc-g0xbh4-0 bbXCl"><h2 class="Heading__StyledHeading-sc-1c1dgg0-0 fNPcqd"><button style="--button-color:fg.muted" type="button" aria-label="Expand side panel" data-testid="expand-file-tree-button-mobile" class="types__StyledButton-sc-ws60qy-0 CtaSm"><span data-component="buttonContent" class="Box-sc-g0xbh4-0 kkrdEu"><span data-component="leadingVisual" class="Box-sc-g0xbh4-0 trpoQ"><svg aria-hidden="true" focusable="false" role="img" class="octicon octicon-arrow-left" viewBox="0 0 16 16" width="16" height="16" fill="currentColor" style="display:inline-block;user-select:none;vertical-align:text-bottom;overflow:visible"><path d="M7.78 12.53a.75.75 0 0 1-1.06 0L2.47 8.28a.75.75 0 0 1 0-1.06l4.25-4.25a.751.751 0 0 1 1.042.018.751.751 0 0 1 .018 1.042L4.81 7h7.44a.75.75 0 0 1 0 1.5H4.81l2.97 2.97a.75.75 0 0 1 0 1.06Z"></path></svg></span><span data-component="text">Files</span></span></button><button data-component="IconButton" type="button" data-testid="collapse-file-tree-button" aria-label="Side panel" aria-expanded="true" aria-controls="repos-file-tree" class="types__StyledButton-sc-ws60qy-0 edBXBM" data-no-visuals="true"><svg aria-hidden="true" focusable="false" role="img" class="octicon octicon-sidebar-expand" viewBox="0 0 16 16" width="16" height="16" fill="currentColor" style="display:inline-block;user-select:none;vertical-align:text-bottom;overflow:visible"><path d="m4.177 7.823 2.396-2.396A.25.25 0 0 1 7 5.604v4.792a.25.25 0 0 1-.427.177L4.177 8.177a.25.25 0 0 1 0-.354Z"></path><path d="M0 1.75C0 .784.784 0 1.75 0h12.5C15.216 0 16 .784 16 1.75v12.5A1.75 1.75 0 0 1 14.25 16H1.75A1.75 1.75 0 0 1 0 14.25Zm1.75-.25a.25.25 0 0 0-.25.25v12.5c0 .138.112.25.25.25H9.5v-13Zm12.5 13a.25.25 0 0 0 .25-.25V1.75a.25.25 0 0 0-.25-.25H11v13Z"></path></svg></button><button hidden="" data-testid="" data-hotkey-scope="read-only-cursor-text-area"></button></h2><div class="Box-sc-g0xbh4-0 hGGMNu"><div class="Box-sc-g0xbh4-0 eHRrYV"><button type="button" id="branch-picker-repos-header-ref-selector-narrow" aria-haspopup="true" tabindex="0" aria-label="main branch" data-testid="anchor-button" class="types__StyledButton-sc-ws60qy-0 hgfMvt ref-selector-class"><span data-component="buttonContent" class="Box-sc-g0xbh4-0 kkrdEu"><span data-component="text"><div class="Box-sc-g0xbh4-0 bKgizp"><div class="Box-sc-g0xbh4-0 kYlvBX"><svg aria-hidden="true" focusable="false" role="img" class="octicon octicon-git-branch" viewBox="0 0 16 16" width="16" height="16" fill="currentColor" style="display:inline-block;user-select:none;vertical-align:text-bottom;overflow:visible"><path d="M9.5 3.25a2.25 2.25 0 1 1 3 2.122V6A2.5 2.5 0 0 1 10 8.5H6a1 1 0 0 0-1 1v1.128a2.251 2.251 0 1 1-1.5 0V5.372a2.25 2.25 0 1 1 1.5 0v1.836A2.493 2.493 0 0 1 6 7h4a1 1 0 0 0 1-1v-.628A2.25 2.25 0 0 1 9.5 3.25Zm-6 0a.75.75 0 1 0 1.5 0 .75.75 0 0 0-1.5 0Zm8.25-.75a.75.75 0 1 0 0 1.5.75.75 0 0 0 0-1.5ZM4.25 12a.75.75 0 1 0 0 1.5.75.75 0 0 0 0-1.5Z"></path></svg></div><div class="Box-sc-g0xbh4-0 dKmYfk"><span class="Text-sc-17v1xeu-0 bOMzPg"> <!-- -->main</span></div></div></span><span data-component="trailingVisual" class="Box-sc-g0xbh4-0 trpoQ"><svg aria-hidden="true" focusable="false" role="img" class="octicon octicon-triangle-down" viewBox="0 0 16 16" width="16" height="16" fill="currentColor" style="display:inline-block;user-select:none;vertical-align:text-bottom;overflow:visible"><path d="m4.427 7.427 3.396 3.396a.25.25 0 0 0 .354 0l3.396-3.396A.25.25 0 0 0 11.396 7H4.604a.25.25 0 0 0-.177.427Z"></path></svg></span></span></button><button hidden="" data-hotkey-scope="read-only-cursor-text-area"></button></div> <button type="button" data-no-visuals="true" class="types__StyledButton-sc-ws60qy-0 iwEpzF"><span data-component="buttonContent" class="Box-sc-g0xbh4-0 kkrdEu"><span data-component="text">Blame</span></span></button><button hidden="" data-testid="" data-hotkey-scope="read-only-cursor-text-area"></button><button data-component="IconButton" type="button" aria-label="More file actions" class="types__StyledButton-sc-ws60qy-0 bNMwOz js-blob-dropdown-click" title="More file actions" data-testid="more-file-actions-button" id=":R9aaqjal5:" aria-haspopup="true" tabindex="0" data-no-visuals="true"><svg aria-hidden="true" focusable="false" role="img" class="octicon octicon-kebab-horizontal" viewBox="0 0 16 16" width="16" height="16" fill="currentColor" style="display:inline-block;user-select:none;vertical-align:text-bottom;overflow:visible"><path d="M8 9a1.5 1.5 0 1 0 0-3 1.5 1.5 0 0 0 0 3ZM1.5 9a1.5 1.5 0 1 0 0-3 1.5 1.5 0 0 0 0 3Zm13 0a1.5 1.5 0 1 0 0-3 1.5 1.5 0 0 0 0 3Z"></path></svg></button> </div></div><div class="Box-sc-g0xbh4-0 hSNzKh"><div class="Box-sc-g0xbh4-0 eTvGbF"><nav data-testid="breadcrumbs" aria-labelledby="repos-header-breadcrumb-mobile-heading" id="repos-header-breadcrumb-mobile" class="Box-sc-g0xbh4-0 kzRgrI"><h2 class="Heading__StyledHeading-sc-1c1dgg0-0 cgQnMS sr-only" data-testid="screen-reader-heading" id="repos-header-breadcrumb-mobile-heading">Breadcrumbs</h2><ol class="Box-sc-g0xbh4-0 cmAPIB"><li class="Box-sc-g0xbh4-0 jwXCBK"><a sx="[object Object]" data-testid="breadcrumbs-repo-link" class="Link__StyledLink-sc-14289xe-0 eVjWum" href="/mrdbourke/tensorflow-deep-learning/tree/main">tensorflow-deep-learning</a></li><li class="Box-sc-g0xbh4-0 jwXCBK"><span aria-hidden="true" class="Text-sc-17v1xeu-0 ivLLle">/</span><a sx="[object Object]" class="Link__StyledLink-sc-14289xe-0 dYxKVs" href="/mrdbourke/tensorflow-deep-learning/tree/main/video_notebooks">video_notebooks</a></li></ol></nav><div data-testid="breadcrumbs-filename" class="Box-sc-g0xbh4-0 jwXCBK"><span aria-hidden="true" class="Text-sc-17v1xeu-0 ivLLle">/</span><h1 tabindex="-1" id="file-name-id-mobile" class="Heading__StyledHeading-sc-1c1dgg0-0 diwsLq">04_transfer_learning_in_tensorflow_part_1_feature_extraction_video.ipynb</h1></div><button data-component="IconButton" type="button" aria-label="Copy path" data-testid="breadcrumb-copy-path-button" data-size="small" data-no-visuals="true" class="types__StyledButton-sc-ws60qy-0 bLPynQ"><svg aria-hidden="true" focusable="false" role="img" class="octicon octicon-copy" viewBox="0 0 16 16" width="16" height="16" fill="currentColor" style="display:inline-block;user-select:none;vertical-align:text-bottom;overflow:visible"><path d="M0 6.75C0 5.784.784 5 1.75 5h1.5a.75.75 0 0 1 0 1.5h-1.5a.25.25 0 0 0-.25.25v7.5c0 .138.112.25.25.25h7.5a.25.25 0 0 0 .25-.25v-1.5a.75.75 0 0 1 1.5 0v1.5A1.75 1.75 0 0 1 9.25 16h-7.5A1.75 1.75 0 0 1 0 14.25Z"></path><path d="M5 1.75C5 .784 5.784 0 6.75 0h7.5C15.216 0 16 .784 16 1.75v7.5A1.75 1.75 0 0 1 14.25 11h-7.5A1.75 1.75 0 0 1 5 9.25Zm1.75-.25a.25.25 0 0 0-.25.25v7.5c0 .138.112.25.25.25h7.5a.25.25 0 0 0 .25-.25v-7.5a.25.25 0 0 0-.25-.25Z"></path></svg></button></div></div></div></div><div id="StickyHeader" class="Box-sc-g0xbh4-0 bDwCYs react-code-view-header--wide"><div class="Box-sc-g0xbh4-0 fywjmm"><div class="Box-sc-g0xbh4-0 dyczTK"><div class="Box-sc-g0xbh4-0 kszRgZ"><div class="Box-sc-g0xbh4-0 eTvGbF"><nav data-testid="breadcrumbs" aria-labelledby="repos-header-breadcrumb-wide-heading" id="repos-header-breadcrumb-wide" class="Box-sc-g0xbh4-0 kzRgrI"><h2 class="Heading__StyledHeading-sc-1c1dgg0-0 cgQnMS sr-only" data-testid="screen-reader-heading" id="repos-header-breadcrumb-wide-heading">Breadcrumbs</h2><ol class="Box-sc-g0xbh4-0 cmAPIB"><li class="Box-sc-g0xbh4-0 jwXCBK"><a sx="[object Object]" data-testid="breadcrumbs-repo-link" class="Link__StyledLink-sc-14289xe-0 eVjWum" href="/mrdbourke/tensorflow-deep-learning/tree/main">tensorflow-deep-learning</a></li><li class="Box-sc-g0xbh4-0 jwXCBK"><span aria-hidden="true" class="Text-sc-17v1xeu-0 ivLLle">/</span><a sx="[object Object]" class="Link__StyledLink-sc-14289xe-0 dYxKVs" href="/mrdbourke/tensorflow-deep-learning/tree/main/video_notebooks">video_notebooks</a></li></ol></nav><div data-testid="breadcrumbs-filename" class="Box-sc-g0xbh4-0 jwXCBK"><span aria-hidden="true" class="Text-sc-17v1xeu-0 ivLLle">/</span><h1 tabindex="-1" id="file-name-id-wide" class="Heading__StyledHeading-sc-1c1dgg0-0 diwsLq">04_transfer_learning_in_tensorflow_part_1_feature_extraction_video.ipynb</h1></div><button data-component="IconButton" type="button" aria-label="Copy path" data-testid="breadcrumb-copy-path-button" data-size="small" data-no-visuals="true" class="types__StyledButton-sc-ws60qy-0 bLPynQ"><svg aria-hidden="true" focusable="false" role="img" class="octicon octicon-copy" viewBox="0 0 16 16" width="16" height="16" fill="currentColor" style="display:inline-block;user-select:none;vertical-align:text-bottom;overflow:visible"><path d="M0 6.75C0 5.784.784 5 1.75 5h1.5a.75.75 0 0 1 0 1.5h-1.5a.25.25 0 0 0-.25.25v7.5c0 .138.112.25.25.25h7.5a.25.25 0 0 0 .25-.25v-1.5a.75.75 0 0 1 1.5 0v1.5A1.75 1.75 0 0 1 9.25 16h-7.5A1.75 1.75 0 0 1 0 14.25Z"></path><path d="M5 1.75C5 .784 5.784 0 6.75 0h7.5C15.216 0 16 .784 16 1.75v7.5A1.75 1.75 0 0 1 14.25 11h-7.5A1.75 1.75 0 0 1 5 9.25Zm1.75-.25a.25.25 0 0 0-.25.25v7.5c0 .138.112.25.25.25h7.5a.25.25 0 0 0 .25-.25v-7.5a.25.25 0 0 0-.25-.25Z"></path></svg></button></div></div><div class="Box-sc-g0xbh4-0 gtBUEp"><div class="d-flex gap-2"> <button type="button" data-no-visuals="true" class="types__StyledButton-sc-ws60qy-0 iwEpzF"><span data-component="buttonContent" class="Box-sc-g0xbh4-0 kkrdEu"><span data-component="text">Blame</span></span></button><button hidden="" data-testid="" data-hotkey-scope="read-only-cursor-text-area"></button><button data-component="IconButton" type="button" aria-label="More file actions" class="types__StyledButton-sc-ws60qy-0 bNMwOz js-blob-dropdown-click" title="More file actions" data-testid="more-file-actions-button" id=":R9pkqjal5:" aria-haspopup="true" tabindex="0" data-no-visuals="true"><svg aria-hidden="true" focusable="false" role="img" class="octicon octicon-kebab-horizontal" viewBox="0 0 16 16" width="16" height="16" fill="currentColor" style="display:inline-block;user-select:none;vertical-align:text-bottom;overflow:visible"><path d="M8 9a1.5 1.5 0 1 0 0-3 1.5 1.5 0 0 0 0 3ZM1.5 9a1.5 1.5 0 1 0 0-3 1.5 1.5 0 0 0 0 3Zm13 0a1.5 1.5 0 1 0 0-3 1.5 1.5 0 0 0 0 3Z"></path></svg></button> </div></div></div></div></div></div></div><div class="Box-sc-g0xbh4-0 MERGN react-code-view-bottom-padding"> <div class="Box-sc-g0xbh4-0 cMYnca"></div><div class="Box-sc-g0xbh4-0"></div> <!-- --> <!-- --> </div><div class="Box-sc-g0xbh4-0 MERGN"> <!-- --> <!-- --> <div class="Box-sc-g0xbh4-0 kLxXov"><div class="Box-sc-g0xbh4-0 eYedVD"><h2 class="Heading__StyledHeading-sc-1c1dgg0-0 cgQnMS sr-only" data-testid="screen-reader-heading">Latest commit</h2><div style="width:120px" class="Skeleton Skeleton--text" data-testid="loading"> </div><div class="Box-sc-g0xbh4-0 jGfYmh"><div data-testid="latest-commit-details" class="Box-sc-g0xbh4-0 lhFvfi"></div><h2 class="Heading__StyledHeading-sc-1c1dgg0-0 cgQnMS sr-only" data-testid="screen-reader-heading">History</h2><a aria-label="Commit history" class="types__StyledButton-sc-ws60qy-0 fNmgkb react-last-commit-history-group" href="/mrdbourke/tensorflow-deep-learning/commits/main/video_notebooks/04_transfer_learning_in_tensorflow_part_1_feature_extraction_video.ipynb" data-size="small"><span data-component="buttonContent" class="Box-sc-g0xbh4-0 kkrdEu"><span data-component="leadingVisual" class="Box-sc-g0xbh4-0 trpoQ"><svg aria-hidden="true" focusable="false" role="img" class="octicon octicon-history" viewBox="0 0 16 16" width="16" height="16" fill="currentColor" style="display:inline-block;user-select:none;vertical-align:text-bottom;overflow:visible"><path d="m.427 1.927 1.215 1.215a8.002 8.002 0 1 1-1.6 5.685.75.75 0 1 1 1.493-.154 6.5 6.5 0 1 0 1.18-4.458l1.358 1.358A.25.25 0 0 1 3.896 6H.25A.25.25 0 0 1 0 5.75V2.104a.25.25 0 0 1 .427-.177ZM7.75 4a.75.75 0 0 1 .75.75v2.992l2.028.812a.75.75 0 0 1-.557 1.392l-2.5-1A.751.751 0 0 1 7 8.25v-3.5A.75.75 0 0 1 7.75 4Z"></path></svg></span><span data-component="text"><span class="Text-sc-17v1xeu-0 ghRVGj">History</span></span></span></a><div class="Box-sc-g0xbh4-0 bqgLjk"></div><span role="tooltip" aria-label="Commit history" class="Tooltip__TooltipBase-sc-uha8qm-0 hFFfJn tooltipped-n"><a aria-label="Commit history" class="types__StyledButton-sc-ws60qy-0 fNmgkb react-last-commit-history-icon" href="/mrdbourke/tensorflow-deep-learning/commits/main/video_notebooks/04_transfer_learning_in_tensorflow_part_1_feature_extraction_video.ipynb"><span data-component="buttonContent" class="Box-sc-g0xbh4-0 kkrdEu"><span data-component="leadingVisual" class="Box-sc-g0xbh4-0 trpoQ"><svg aria-hidden="true" focusable="false" role="img" class="octicon octicon-history" viewBox="0 0 16 16" width="16" height="16" fill="currentColor" style="display:inline-block;user-select:none;vertical-align:text-bottom;overflow:visible"><path d="m.427 1.927 1.215 1.215a8.002 8.002 0 1 1-1.6 5.685.75.75 0 1 1 1.493-.154 6.5 6.5 0 1 0 1.18-4.458l1.358 1.358A.25.25 0 0 1 3.896 6H.25A.25.25 0 0 1 0 5.75V2.104a.25.25 0 0 1 .427-.177ZM7.75 4a.75.75 0 0 1 .75.75v2.992l2.028.812a.75.75 0 0 1-.557 1.392l-2.5-1A.751.751 0 0 1 7 8.25v-3.5A.75.75 0 0 1 7.75 4Z"></path></svg></span></span></a></span></div></div></div><div class="Box-sc-g0xbh4-0 iJmJly"><div class="Box-sc-g0xbh4-0 jACbi container"><div class="Box-sc-g0xbh4-0 bSdwWB react-code-size-details-banner"><div class="Box-sc-g0xbh4-0 fleZSW react-code-size-details-banner"><div class="Box-sc-g0xbh4-0 bZpGqz text-mono"><div title="110 KB" data-testid="blob-size" class="Truncate__StyledTruncate-sc-23o1d2-0 fUpWeN"><span class="Text-sc-17v1xeu-0 gPDEWA">987 lines (987 loc) · 110 KB</span></div></div></div><div class="Box-sc-g0xbh4-0 react-code-size-details-banner"><button style="--button-color:fg.default" type="button" id=":R2bqlajal5:" aria-haspopup="true" tabindex="0" data-testid="copilot-popover-button" data-size="small" class="types__StyledButton-sc-ws60qy-0 dAvRwz"><span data-component="buttonContent" class="Box-sc-g0xbh4-0 kkrdEu"><span data-component="leadingVisual" class="Box-sc-g0xbh4-0 trpoQ"><svg aria-hidden="true" focusable="false" role="img" class="octicon octicon-copilot" viewBox="0 0 16 16" width="16" height="16" fill="currentColor" style="display:inline-block;user-select:none;vertical-align:text-bottom;overflow:visible"><path d="M6.25 9a.75.75 0 0 1 .75.75v1.5a.75.75 0 0 1-1.5 0v-1.5A.75.75 0 0 1 6.25 9Zm4.25.75a.75.75 0 0 0-1.5 0v1.5a.75.75 0 0 0 1.5 0v-1.5Z"></path><path d="M7.86 1.77c.05.053.097.107.14.164.043-.057.09-.111.14-.164.681-.731 1.737-.9 2.943-.765 1.23.136 2.145.527 2.724 1.26.566.716.693 1.614.693 2.485 0 .572-.053 1.147-.254 1.655l.168.838.066.033A2.75 2.75 0 0 1 16 9.736V11c0 .24-.086.438-.156.567-.073.131-.16.253-.259.366-.18.21-.404.413-.605.58a10.19 10.19 0 0 1-.792.597l-.015.01-.006.004-.028.018a8.849 8.849 0 0 1-.456.281c-.307.177-.749.41-1.296.642C11.296 14.528 9.756 15 8 15c-1.756 0-3.296-.472-4.387-.935a12.28 12.28 0 0 1-1.296-.641 8.849 8.849 0 0 1-.456-.281l-.028-.02-.006-.003-.015-.01a10.593 10.593 0 0 1-.792-.596 5.264 5.264 0 0 1-.605-.58 2.133 2.133 0 0 1-.259-.367A1.189 1.189 0 0 1 0 11V9.736a2.75 2.75 0 0 1 1.52-2.46l.067-.033.167-.838C1.553 5.897 1.5 5.322 1.5 4.75c0-.87.127-1.77.693-2.485.579-.733 1.494-1.124 2.724-1.26 1.206-.134 2.262.034 2.944.765ZM3 7.824v4.261c.02.013.043.025.065.038.264.152.65.356 1.134.562.972.412 2.307.815 3.801.815 1.494 0 2.83-.403 3.8-.815.412-.174.813-.375 1.2-.6v-4.26l-.023-.116c-.49.21-1.075.291-1.727.291-1.146 0-2.06-.328-2.71-.991A3.233 3.233 0 0 1 8 6.266c-.144.269-.321.52-.54.743C6.81 7.672 5.896 8 4.75 8c-.652 0-1.236-.082-1.726-.291L3 7.824Zm6.237-5.031c-.204.218-.359.678-.242 1.614.091.726.303 1.23.618 1.553.299.304.784.54 1.638.54.922 0 1.28-.199 1.442-.38.179-.2.308-.578.308-1.37 0-.765-.123-1.242-.37-1.555-.233-.296-.693-.586-1.713-.7-1.044-.116-1.488.091-1.681.298Zm-2.472 0c-.193-.207-.637-.414-1.681-.298-1.02.114-1.48.404-1.713.7-.247.313-.37.79-.37 1.555 0 .792.129 1.17.308 1.37.162.181.52.38 1.442.38.854 0 1.339-.236 1.638-.54.315-.323.527-.827.618-1.553.117-.936-.038-1.396-.242-1.614Z"></path></svg></span><span data-component="text">Code 55% faster with GitHub Copilot</span></span></button></div></div><div class="Box-sc-g0xbh4-0 gBKNLX react-blob-view-header-sticky" id="repos-sticky-header"><div class="Box-sc-g0xbh4-0 ePiodO"><div class="Box-sc-g0xbh4-0 react-blob-sticky-header"><div class="Box-sc-g0xbh4-0 kQJlnf"><div class="Box-sc-g0xbh4-0 gJICKO"><div class="Box-sc-g0xbh4-0 iZJewz"><nav data-testid="breadcrumbs" aria-labelledby="sticky-breadcrumb-heading" id="sticky-breadcrumb" class="Box-sc-g0xbh4-0 kzRgrI"><h2 class="Heading__StyledHeading-sc-1c1dgg0-0 cgQnMS sr-only" data-testid="screen-reader-heading" id="sticky-breadcrumb-heading">Breadcrumbs</h2><ol class="Box-sc-g0xbh4-0 cmAPIB"><li class="Box-sc-g0xbh4-0 jwXCBK"><a sx="[object Object]" data-testid="breadcrumbs-repo-link" class="Link__StyledLink-sc-14289xe-0 eVjWum" href="/mrdbourke/tensorflow-deep-learning/tree/main">tensorflow-deep-learning</a></li><li class="Box-sc-g0xbh4-0 jwXCBK"><span aria-hidden="true" class="Text-sc-17v1xeu-0 dZAxGI">/</span><a sx="[object Object]" class="Link__StyledLink-sc-14289xe-0 dYxKVs" href="/mrdbourke/tensorflow-deep-learning/tree/main/video_notebooks">video_notebooks</a></li></ol></nav><div data-testid="breadcrumbs-filename" class="Box-sc-g0xbh4-0 jwXCBK"><span aria-hidden="true" class="Text-sc-17v1xeu-0 dZAxGI">/</span><h1 tabindex="-1" id="sticky-file-name-id" class="Heading__StyledHeading-sc-1c1dgg0-0 jAEDJk">04_transfer_learning_in_tensorflow_part_1_feature_extraction_video.ipynb</h1></div></div><button style="--button-color:fg.default" type="button" data-size="small" class="types__StyledButton-sc-ws60qy-0 cpKQnD"><span data-component="buttonContent" class="Box-sc-g0xbh4-0 kkrdEu"><span data-component="leadingVisual" class="Box-sc-g0xbh4-0 trpoQ"><svg aria-hidden="true" focusable="false" role="img" class="octicon octicon-arrow-up" viewBox="0 0 16 16" width="16" height="16" fill="currentColor" style="display:inline-block;user-select:none;vertical-align:text-bottom;overflow:visible"><path d="M3.47 7.78a.75.75 0 0 1 0-1.06l4.25-4.25a.75.75 0 0 1 1.06 0l4.25 4.25a.751.751 0 0 1-.018 1.042.751.751 0 0 1-1.042.018L9 4.81v7.44a.75.75 0 0 1-1.5 0V4.81L4.53 7.78a.75.75 0 0 1-1.06 0Z"></path></svg></span><span data-component="text">Top</span></span></button></div></div></div><div class="Box-sc-g0xbh4-0 bvEDG"><h2 class="Heading__StyledHeading-sc-1c1dgg0-0 cgQnMS sr-only" data-testid="screen-reader-heading">File metadata and controls</h2><div class="Box-sc-g0xbh4-0 bfkNRF"><ul aria-label="File view" class="SegmentedControl__SegmentedControlList-sc-1rzig82-0 iYVwMz"><li class="Box-sc-g0xbh4-0 fXBLEV"><button aria-current="true" class="SegmentedControlButton__SegmentedControlButtonStyled-sc-8lkgxl-0 bDmUQT"><span class="segmentedControl-content"><div class="Box-sc-g0xbh4-0 segmentedControl-text">Preview</div></span></button></li><li class="Box-sc-g0xbh4-0 jkTWSe"><button aria-current="false" class="SegmentedControlButton__SegmentedControlButtonStyled-sc-8lkgxl-0 fzMylw"><span class="segmentedControl-content"><div class="Box-sc-g0xbh4-0 segmentedControl-text">Code</div></span></button></li><li class="Box-sc-g0xbh4-0 jkTWSe"><button aria-current="false" class="SegmentedControlButton__SegmentedControlButtonStyled-sc-8lkgxl-0 hBvGcq"><span class="segmentedControl-content"><div class="Box-sc-g0xbh4-0 segmentedControl-text">Blame</div></span></button></li></ul><button hidden="" data-testid="" data-hotkey-scope="read-only-cursor-text-area"></button><button hidden="" data-testid="" data-hotkey-scope="read-only-cursor-text-area"></button><button hidden="" data-testid="" data-hotkey-scope="read-only-cursor-text-area"></button><div class="Box-sc-g0xbh4-0 fleZSW react-code-size-details-in-header"><div class="Box-sc-g0xbh4-0 bZpGqz text-mono"><div title="110 KB" data-testid="blob-size" class="Truncate__StyledTruncate-sc-23o1d2-0 fUpWeN"><span class="Text-sc-17v1xeu-0 gPDEWA">987 lines (987 loc) · 110 KB</span></div></div></div><div class="Box-sc-g0xbh4-0 react-code-size-details-in-header"><button style="--button-color:fg.default" type="button" id=":R79jqlajal5:" aria-haspopup="true" tabindex="0" data-testid="copilot-popover-button" data-size="small" class="types__StyledButton-sc-ws60qy-0 dAvRwz"><span data-component="buttonContent" class="Box-sc-g0xbh4-0 kkrdEu"><span data-component="leadingVisual" class="Box-sc-g0xbh4-0 trpoQ"><svg aria-hidden="true" focusable="false" role="img" class="octicon octicon-copilot" viewBox="0 0 16 16" width="16" height="16" fill="currentColor" style="display:inline-block;user-select:none;vertical-align:text-bottom;overflow:visible"><path d="M6.25 9a.75.75 0 0 1 .75.75v1.5a.75.75 0 0 1-1.5 0v-1.5A.75.75 0 0 1 6.25 9Zm4.25.75a.75.75 0 0 0-1.5 0v1.5a.75.75 0 0 0 1.5 0v-1.5Z"></path><path d="M7.86 1.77c.05.053.097.107.14.164.043-.057.09-.111.14-.164.681-.731 1.737-.9 2.943-.765 1.23.136 2.145.527 2.724 1.26.566.716.693 1.614.693 2.485 0 .572-.053 1.147-.254 1.655l.168.838.066.033A2.75 2.75 0 0 1 16 9.736V11c0 .24-.086.438-.156.567-.073.131-.16.253-.259.366-.18.21-.404.413-.605.58a10.19 10.19 0 0 1-.792.597l-.015.01-.006.004-.028.018a8.849 8.849 0 0 1-.456.281c-.307.177-.749.41-1.296.642C11.296 14.528 9.756 15 8 15c-1.756 0-3.296-.472-4.387-.935a12.28 12.28 0 0 1-1.296-.641 8.849 8.849 0 0 1-.456-.281l-.028-.02-.006-.003-.015-.01a10.593 10.593 0 0 1-.792-.596 5.264 5.264 0 0 1-.605-.58 2.133 2.133 0 0 1-.259-.367A1.189 1.189 0 0 1 0 11V9.736a2.75 2.75 0 0 1 1.52-2.46l.067-.033.167-.838C1.553 5.897 1.5 5.322 1.5 4.75c0-.87.127-1.77.693-2.485.579-.733 1.494-1.124 2.724-1.26 1.206-.134 2.262.034 2.944.765ZM3 7.824v4.261c.02.013.043.025.065.038.264.152.65.356 1.134.562.972.412 2.307.815 3.801.815 1.494 0 2.83-.403 3.8-.815.412-.174.813-.375 1.2-.6v-4.26l-.023-.116c-.49.21-1.075.291-1.727.291-1.146 0-2.06-.328-2.71-.991A3.233 3.233 0 0 1 8 6.266c-.144.269-.321.52-.54.743C6.81 7.672 5.896 8 4.75 8c-.652 0-1.236-.082-1.726-.291L3 7.824Zm6.237-5.031c-.204.218-.359.678-.242 1.614.091.726.303 1.23.618 1.553.299.304.784.54 1.638.54.922 0 1.28-.199 1.442-.38.179-.2.308-.578.308-1.37 0-.765-.123-1.242-.37-1.555-.233-.296-.693-.586-1.713-.7-1.044-.116-1.488.091-1.681.298Zm-2.472 0c-.193-.207-.637-.414-1.681-.298-1.02.114-1.48.404-1.713.7-.247.313-.37.79-.37 1.555 0 .792.129 1.17.308 1.37.162.181.52.38 1.442.38.854 0 1.339-.236 1.638-.54.315-.323.527-.827.618-1.553.117-.936-.038-1.396-.242-1.614Z"></path></svg></span><span data-component="text">Code 55% faster with GitHub Copilot</span></span></button></div></div><div class="Box-sc-g0xbh4-0 iBylDf"><div class="Box-sc-g0xbh4-0 kSGBPx react-blob-header-edit-and-raw-actions"><div class="ButtonGroup-sc-1gxhls1-0 cjbBGq"><a href="https://github.com/mrdbourke/tensorflow-deep-learning/raw/main/video_notebooks/04_transfer_learning_in_tensorflow_part_1_feature_extraction_video.ipynb" data-testid="raw-button" data-size="small" data-no-visuals="true" class="types__StyledButton-sc-ws60qy-0 guoGbh"><span data-component="buttonContent" class="Box-sc-g0xbh4-0 kkrdEu"><span data-component="text">Raw</span></span></a><button data-component="IconButton" type="button" aria-label="Copy raw content" data-testid="copy-raw-button" data-size="small" data-no-visuals="true" class="types__StyledButton-sc-ws60qy-0 iTETFQ"><svg aria-hidden="true" focusable="false" role="img" class="octicon octicon-copy" viewBox="0 0 16 16" width="16" height="16" fill="currentColor" style="display:inline-block;user-select:none;vertical-align:text-bottom;overflow:visible"><path d="M0 6.75C0 5.784.784 5 1.75 5h1.5a.75.75 0 0 1 0 1.5h-1.5a.25.25 0 0 0-.25.25v7.5c0 .138.112.25.25.25h7.5a.25.25 0 0 0 .25-.25v-1.5a.75.75 0 0 1 1.5 0v1.5A1.75 1.75 0 0 1 9.25 16h-7.5A1.75 1.75 0 0 1 0 14.25Z"></path><path d="M5 1.75C5 .784 5.784 0 6.75 0h7.5C15.216 0 16 .784 16 1.75v7.5A1.75 1.75 0 0 1 14.25 11h-7.5A1.75 1.75 0 0 1 5 9.25Zm1.75-.25a.25.25 0 0 0-.25.25v7.5c0 .138.112.25.25.25h7.5a.25.25 0 0 0 .25-.25v-7.5a.25.25 0 0 0-.25-.25Z"></path></svg></button><span role="tooltip" aria-label="Download raw file" class="Tooltip__TooltipBase-sc-uha8qm-0 hFFfJn tooltipped-n"><button data-component="IconButton" type="button" aria-label="Download raw content" data-testid="download-raw-button" data-size="small" data-no-visuals="true" class="types__StyledButton-sc-ws60qy-0 cGEhqE"><svg aria-hidden="true" focusable="false" role="img" class="octicon octicon-download" viewBox="0 0 16 16" width="16" height="16" fill="currentColor" style="display:inline-block;user-select:none;vertical-align:text-bottom;overflow:visible"><path d="M2.75 14A1.75 1.75 0 0 1 1 12.25v-2.5a.75.75 0 0 1 1.5 0v2.5c0 .138.112.25.25.25h10.5a.25.25 0 0 0 .25-.25v-2.5a.75.75 0 0 1 1.5 0v2.5A1.75 1.75 0 0 1 13.25 14Z"></path><path d="M7.25 7.689V2a.75.75 0 0 1 1.5 0v5.689l1.97-1.969a.749.749 0 1 1 1.06 1.06l-3.25 3.25a.749.749 0 0 1-1.06 0L4.22 6.78a.749.749 0 1 1 1.06-1.06l1.97 1.969Z"></path></svg></button></span></div><button hidden="" data-testid="raw-button-shortcut" data-hotkey-scope="read-only-cursor-text-area"></button><button hidden="" data-testid="copy-raw-button-shortcut" data-hotkey-scope="read-only-cursor-text-area"></button><button hidden="" data-testid="download-raw-button-shortcut" data-hotkey-scope="read-only-cursor-text-area"></button><a class="Link__StyledLink-sc-14289xe-0 fIqerb js-github-dev-shortcut d-none" href="https://github.dev/"></a><button hidden="" data-testid="" data-hotkey-scope="read-only-cursor-text-area"></button><a class="Link__StyledLink-sc-14289xe-0 fIqerb js-github-dev-new-tab-shortcut d-none" href="https://github.dev/" target="_blank"></a><button hidden="" data-testid="" data-hotkey-scope="read-only-cursor-text-area"></button><div class="ButtonGroup-sc-1gxhls1-0 cjbBGq"><span role="tooltip" aria-label="Fork this repository and edit the file" class="Tooltip__TooltipBase-sc-uha8qm-0 hFFfJn tooltipped-nw"><a sx="[object Object]" data-component="IconButton" type="button" aria-label="Edit file" data-testid="edit-button" data-size="small" data-no-visuals="true" class="types__StyledButton-sc-ws60qy-0 jtzLHK" href="/mrdbourke/tensorflow-deep-learning/edit/main/video_notebooks/04_transfer_learning_in_tensorflow_part_1_feature_extraction_video.ipynb"><svg aria-hidden="true" focusable="false" role="img" class="octicon octicon-pencil" viewBox="0 0 16 16" width="16" height="16" fill="currentColor" style="display:inline-block;user-select:none;vertical-align:text-bottom;overflow:visible"><path d="M11.013 1.427a1.75 1.75 0 0 1 2.474 0l1.086 1.086a1.75 1.75 0 0 1 0 2.474l-8.61 8.61c-.21.21-.47.364-.756.445l-3.251.93a.75.75 0 0 1-.927-.928l.929-3.25c.081-.286.235-.547.445-.758l8.61-8.61Zm.176 4.823L9.75 4.81l-6.286 6.287a.253.253 0 0 0-.064.108l-.558 1.953 1.953-.558a.253.253 0 0 0 .108-.064Zm1.238-3.763a.25.25 0 0 0-.354 0L10.811 3.75l1.439 1.44 1.263-1.263a.25.25 0 0 0 0-.354Z"></path></svg></a></span><button data-component="IconButton" type="button" aria-label="More edit options" data-testid="more-edit-button" id=":Rl9pjqlajal5:" aria-haspopup="true" tabindex="0" data-size="small" data-no-visuals="true" class="types__StyledButton-sc-ws60qy-0 iTETFQ"><svg aria-hidden="true" focusable="false" role="img" class="octicon octicon-triangle-down" viewBox="0 0 16 16" width="16" height="16" fill="currentColor" style="display:inline-block;user-select:none;vertical-align:text-bottom;overflow:visible"><path d="m4.427 7.427 3.396 3.396a.25.25 0 0 0 .354 0l3.396-3.396A.25.25 0 0 0 11.396 7H4.604a.25.25 0 0 0-.177.427Z"></path></svg></button></div><button hidden="" data-testid="" data-hotkey="e,E" data-hotkey-scope="read-only-cursor-text-area"></button></div><div class="Box-sc-g0xbh4-0 react-blob-header-edit-and-raw-actions-combined"><button data-component="IconButton" type="button" aria-label="Edit and raw actions" class="types__StyledButton-sc-ws60qy-0 dObcAW js-blob-dropdown-click" title="More file actions" data-testid="more-file-actions-button" id=":R1fpjqlajal5:" aria-haspopup="true" tabindex="0" data-size="small" data-no-visuals="true"><svg aria-hidden="true" focusable="false" role="img" class="octicon octicon-kebab-horizontal" viewBox="0 0 16 16" width="16" height="16" fill="currentColor" style="display:inline-block;user-select:none;vertical-align:text-bottom;overflow:visible"><path d="M8 9a1.5 1.5 0 1 0 0-3 1.5 1.5 0 0 0 0 3ZM1.5 9a1.5 1.5 0 1 0 0-3 1.5 1.5 0 0 0 0 3Zm13 0a1.5 1.5 0 1 0 0-3 1.5 1.5 0 0 0 0 3Z"></path></svg></button></div></div></div></div><div class="Box-sc-g0xbh4-0"></div></div><div class="Box-sc-g0xbh4-0 flDsrw"><section aria-labelledby="file-name-id-wide file-name-id-mobile" class="Box-sc-g0xbh4-0 eJsjkT"><!--$!--><template></template><div data-testid="suspense-spinner" class="Box-sc-g0xbh4-0 bAzdCq"><svg height="32px" width="32px" viewBox="0 0 16 16" fill="none" aria-label="Loading" class="Spinner__StyledSpinner-sc-1knt686-0 hPEVNM"><circle cx="8" cy="8" r="7" stroke="currentColor" stroke-opacity="0.25" stroke-width="2" vector-effect="non-scaling-stroke"></circle><path d="M15 8a7.002 7.002 0 00-7-7" stroke="currentColor" stroke-width="2" stroke-linecap="round" vector-effect="non-scaling-stroke"></path></svg></div><!--/$--></section></div></div></div> <!-- --> <!-- --> </div></div></div><div class="Box-sc-g0xbh4-0"></div></main></div></div></div><div id="find-result-marks-container" class="Box-sc-g0xbh4-0 aZrVR"></div><button hidden="" data-testid="" data-hotkey-scope="read-only-cursor-text-area"></button><button hidden=""></button></div> <!-- --> <!-- --> <!-- --> <script type="application/json" id="__PRIMER_DATA__">{"resolvedServerColorMode":"day"}</script></div>
</react-app>
</turbo-frame>



  </div>

</turbo-frame>

    </main>
  </div>

  </div>

          <footer class="footer width-full container-xl p-responsive" role="contentinfo">
  <h2 class='sr-only'>Footer</h2>

  <div class="position-relative d-flex flex-items-center pb-2 f6 color-fg-muted border-top color-border-muted flex-column-reverse flex-lg-row flex-wrap flex-lg-nowrap mt-6 pt-6">
    <div class="list-style-none d-flex flex-wrap col-0 col-lg-2 flex-justify-start flex-lg-justify-between mb-2 mb-lg-0">
      <div class="mt-2 mt-lg-0 d-flex flex-items-center">
        <a aria-label="Homepage" title="GitHub" class="footer-octicon mr-2" href="https://github.com">
          <svg aria-hidden="true" height="24" viewBox="0 0 16 16" version="1.1" width="24" data-view-component="true" class="octicon octicon-mark-github">
    <path d="M8 0c4.42 0 8 3.58 8 8a8.013 8.013 0 0 1-5.45 7.59c-.4.08-.55-.17-.55-.38 0-.27.01-1.13.01-2.2 0-.75-.25-1.23-.54-1.48 1.78-.2 3.65-.88 3.65-3.95 0-.88-.31-1.59-.82-2.15.08-.2.36-1.02-.08-2.12 0 0-.67-.22-2.2.82-.64-.18-1.32-.27-2-.27-.68 0-1.36.09-2 .27-1.53-1.03-2.2-.82-2.2-.82-.44 1.1-.16 1.92-.08 2.12-.51.56-.82 1.28-.82 2.15 0 3.06 1.86 3.75 3.64 3.95-.23.2-.44.55-.51 1.07-.46.21-1.61.55-2.33-.66-.15-.24-.6-.83-1.23-.82-.67.01-.27.38.01.53.34.19.73.9.82 1.13.16.45.68 1.31 2.69.94 0 .67.01 1.3.01 1.49 0 .21-.15.45-.55.38A7.995 7.995 0 0 1 0 8c0-4.42 3.58-8 8-8Z"></path>
</svg>
</a>        <span>
        &copy; 2023 GitHub, Inc.
        </span>
      </div>
    </div>

    <nav aria-label='Footer' class="col-12 col-lg-8">
      <h3 class='sr-only' id='sr-footer-heading'>Footer navigation</h3>
      <ul class="list-style-none d-flex flex-wrap col-12 flex-justify-center flex-lg-justify-between mb-2 mb-lg-0" aria-labelledby='sr-footer-heading'>
          <li class="mr-3 mr-lg-0"><a href="https://docs.github.com/site-policy/github-terms/github-terms-of-service" data-analytics-event="{&quot;category&quot;:&quot;Footer&quot;,&quot;action&quot;:&quot;go to terms&quot;,&quot;label&quot;:&quot;text:terms&quot;}">Terms</a></li>
          <li class="mr-3 mr-lg-0"><a href="https://docs.github.com/site-policy/privacy-policies/github-privacy-statement" data-analytics-event="{&quot;category&quot;:&quot;Footer&quot;,&quot;action&quot;:&quot;go to privacy&quot;,&quot;label&quot;:&quot;text:privacy&quot;}">Privacy</a></li>
          <li class="mr-3 mr-lg-0"><a data-analytics-event="{&quot;category&quot;:&quot;Footer&quot;,&quot;action&quot;:&quot;go to security&quot;,&quot;label&quot;:&quot;text:security&quot;}" href="https://github.com/security">Security</a></li>
          <li class="mr-3 mr-lg-0"><a href="https://www.githubstatus.com/" data-analytics-event="{&quot;category&quot;:&quot;Footer&quot;,&quot;action&quot;:&quot;go to status&quot;,&quot;label&quot;:&quot;text:status&quot;}">Status</a></li>
          <li class="mr-3 mr-lg-0"><a data-ga-click="Footer, go to help, text:Docs" href="https://docs.github.com">Docs</a></li>
          <li class="mr-3 mr-lg-0"><a href="https://support.github.com?tags=dotcom-footer" data-analytics-event="{&quot;category&quot;:&quot;Footer&quot;,&quot;action&quot;:&quot;go to contact&quot;,&quot;label&quot;:&quot;text:contact&quot;}">Contact GitHub</a></li>
          <li class="mr-3 mr-lg-0"><a href="https://github.com/pricing" data-analytics-event="{&quot;category&quot;:&quot;Footer&quot;,&quot;action&quot;:&quot;go to Pricing&quot;,&quot;label&quot;:&quot;text:Pricing&quot;}">Pricing</a></li>
        <li class="mr-3 mr-lg-0"><a href="https://docs.github.com" data-analytics-event="{&quot;category&quot;:&quot;Footer&quot;,&quot;action&quot;:&quot;go to api&quot;,&quot;label&quot;:&quot;text:api&quot;}">API</a></li>
        <li class="mr-3 mr-lg-0"><a href="https://services.github.com" data-analytics-event="{&quot;category&quot;:&quot;Footer&quot;,&quot;action&quot;:&quot;go to training&quot;,&quot;label&quot;:&quot;text:training&quot;}">Training</a></li>
          <li class="mr-3 mr-lg-0"><a href="https://github.blog" data-analytics-event="{&quot;category&quot;:&quot;Footer&quot;,&quot;action&quot;:&quot;go to blog&quot;,&quot;label&quot;:&quot;text:blog&quot;}">Blog</a></li>
          <li><a data-ga-click="Footer, go to about, text:about" href="https://github.com/about">About</a></li>
      </ul>
    </nav>
  </div>

  <div class="d-flex flex-justify-center pb-6">
    <span class="f6 color-fg-muted"></span>
  </div>
</footer>




  <div id="ajax-error-message" class="ajax-error-message flash flash-error" hidden>
    <svg aria-hidden="true" height="16" viewBox="0 0 16 16" version="1.1" width="16" data-view-component="true" class="octicon octicon-alert">
    <path d="M6.457 1.047c.659-1.234 2.427-1.234 3.086 0l6.082 11.378A1.75 1.75 0 0 1 14.082 15H1.918a1.75 1.75 0 0 1-1.543-2.575Zm1.763.707a.25.25 0 0 0-.44 0L1.698 13.132a.25.25 0 0 0 .22.368h12.164a.25.25 0 0 0 .22-.368Zm.53 3.996v2.5a.75.75 0 0 1-1.5 0v-2.5a.75.75 0 0 1 1.5 0ZM9 11a1 1 0 1 1-2 0 1 1 0 0 1 2 0Z"></path>
</svg>
    <button type="button" class="flash-close js-ajax-error-dismiss" aria-label="Dismiss error">
      <svg aria-hidden="true" height="16" viewBox="0 0 16 16" version="1.1" width="16" data-view-component="true" class="octicon octicon-x">
    <path d="M3.72 3.72a.75.75 0 0 1 1.06 0L8 6.94l3.22-3.22a.749.749 0 0 1 1.275.326.749.749 0 0 1-.215.734L9.06 8l3.22 3.22a.749.749 0 0 1-.326 1.275.749.749 0 0 1-.734-.215L8 9.06l-3.22 3.22a.751.751 0 0 1-1.042-.018.751.751 0 0 1-.018-1.042L6.94 8 3.72 4.78a.75.75 0 0 1 0-1.06Z"></path>
</svg>
    </button>
    You can’t perform that action at this time.
  </div>

    <template id="site-details-dialog">
  <details class="details-reset details-overlay details-overlay-dark lh-default color-fg-default hx_rsm" open>
    <summary role="button" aria-label="Close dialog"></summary>
    <details-dialog class="Box Box--overlay d-flex flex-column anim-fade-in fast hx_rsm-dialog hx_rsm-modal">
      <button class="Box-btn-octicon m-0 btn-octicon position-absolute right-0 top-0" type="button" aria-label="Close dialog" data-close-dialog>
        <svg aria-hidden="true" height="16" viewBox="0 0 16 16" version="1.1" width="16" data-view-component="true" class="octicon octicon-x">
    <path d="M3.72 3.72a.75.75 0 0 1 1.06 0L8 6.94l3.22-3.22a.749.749 0 0 1 1.275.326.749.749 0 0 1-.215.734L9.06 8l3.22 3.22a.749.749 0 0 1-.326 1.275.749.749 0 0 1-.734-.215L8 9.06l-3.22 3.22a.751.751 0 0 1-1.042-.018.751.751 0 0 1-.018-1.042L6.94 8 3.72 4.78a.75.75 0 0 1 0-1.06Z"></path>
</svg>
      </button>
      <div class="octocat-spinner my-6 js-details-dialog-spinner"></div>
    </details-dialog>
  </details>
</template>

    <div class="Popover js-hovercard-content position-absolute" style="display: none; outline: none;" tabindex="0">
  <div class="Popover-message Popover-message--bottom-left Popover-message--large Box color-shadow-large" style="width:360px;">
  </div>
</div>

    <template id="snippet-clipboard-copy-button">
  <div class="zeroclipboard-container position-absolute right-0 top-0">
    <clipboard-copy aria-label="Copy" class="ClipboardButton btn js-clipboard-copy m-2 p-0 tooltipped-no-delay" data-copy-feedback="Copied!" data-tooltip-direction="w">
      <svg aria-hidden="true" height="16" viewBox="0 0 16 16" version="1.1" width="16" data-view-component="true" class="octicon octicon-copy js-clipboard-copy-icon m-2">
    <path d="M0 6.75C0 5.784.784 5 1.75 5h1.5a.75.75 0 0 1 0 1.5h-1.5a.25.25 0 0 0-.25.25v7.5c0 .138.112.25.25.25h7.5a.25.25 0 0 0 .25-.25v-1.5a.75.75 0 0 1 1.5 0v1.5A1.75 1.75 0 0 1 9.25 16h-7.5A1.75 1.75 0 0 1 0 14.25Z"></path><path d="M5 1.75C5 .784 5.784 0 6.75 0h7.5C15.216 0 16 .784 16 1.75v7.5A1.75 1.75 0 0 1 14.25 11h-7.5A1.75 1.75 0 0 1 5 9.25Zm1.75-.25a.25.25 0 0 0-.25.25v7.5c0 .138.112.25.25.25h7.5a.25.25 0 0 0 .25-.25v-7.5a.25.25 0 0 0-.25-.25Z"></path>
</svg>
      <svg aria-hidden="true" height="16" viewBox="0 0 16 16" version="1.1" width="16" data-view-component="true" class="octicon octicon-check js-clipboard-check-icon color-fg-success d-none m-2">
    <path d="M13.78 4.22a.75.75 0 0 1 0 1.06l-7.25 7.25a.75.75 0 0 1-1.06 0L2.22 9.28a.751.751 0 0 1 .018-1.042.751.751 0 0 1 1.042-.018L6 10.94l6.72-6.72a.75.75 0 0 1 1.06 0Z"></path>
</svg>
    </clipboard-copy>
  </div>
</template>
<template id="snippet-clipboard-copy-button-unpositioned">
  <div class="zeroclipboard-container">
    <clipboard-copy aria-label="Copy" class="ClipboardButton btn btn-invisible js-clipboard-copy m-2 p-0 tooltipped-no-delay d-flex flex-justify-center flex-items-center" data-copy-feedback="Copied!" data-tooltip-direction="w">
      <svg aria-hidden="true" height="16" viewBox="0 0 16 16" version="1.1" width="16" data-view-component="true" class="octicon octicon-copy js-clipboard-copy-icon">
    <path d="M0 6.75C0 5.784.784 5 1.75 5h1.5a.75.75 0 0 1 0 1.5h-1.5a.25.25 0 0 0-.25.25v7.5c0 .138.112.25.25.25h7.5a.25.25 0 0 0 .25-.25v-1.5a.75.75 0 0 1 1.5 0v1.5A1.75 1.75 0 0 1 9.25 16h-7.5A1.75 1.75 0 0 1 0 14.25Z"></path><path d="M5 1.75C5 .784 5.784 0 6.75 0h7.5C15.216 0 16 .784 16 1.75v7.5A1.75 1.75 0 0 1 14.25 11h-7.5A1.75 1.75 0 0 1 5 9.25Zm1.75-.25a.25.25 0 0 0-.25.25v7.5c0 .138.112.25.25.25h7.5a.25.25 0 0 0 .25-.25v-7.5a.25.25 0 0 0-.25-.25Z"></path>
</svg>
      <svg aria-hidden="true" height="16" viewBox="0 0 16 16" version="1.1" width="16" data-view-component="true" class="octicon octicon-check js-clipboard-check-icon color-fg-success d-none">
    <path d="M13.78 4.22a.75.75 0 0 1 0 1.06l-7.25 7.25a.75.75 0 0 1-1.06 0L2.22 9.28a.751.751 0 0 1 .018-1.042.751.751 0 0 1 1.042-.018L6 10.94l6.72-6.72a.75.75 0 0 1 1.06 0Z"></path>
</svg>
    </clipboard-copy>
  </div>
</template>


    <style>
      .user-mention[href$="/mail2maverick"] {
        color: var(--color-user-mention-fg);
        background-color: var(--color-user-mention-bg);
        border-radius: 2px;
        margin-left: -2px;
        margin-right: -2px;
        padding: 0 2px;
      }
    </style>


    </div>

    <div id="js-global-screen-reader-notice" class="sr-only" aria-live="polite" aria-atomic="true" ></div>
    <div id="js-global-screen-reader-notice-assertive" class="sr-only" aria-live="assertive" aria-atomic="true"></div>
  </body>
</html>

